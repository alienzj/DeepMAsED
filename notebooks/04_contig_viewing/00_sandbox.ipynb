{
 "cells": [
  {
   "cell_type": "markdown",
   "metadata": {
    "toc": true
   },
   "source": [
    "<h1>Table of Contents<span class=\"tocSkip\"></span></h1>\n",
    "<div class=\"toc\"><ul class=\"toc-item\"><li><span><a href=\"#IGV-sandbox\" data-toc-modified-id=\"IGV-sandbox-1\"><span class=\"toc-item-num\">1&nbsp;&nbsp;</span>IGV sandbox</a></span><ul class=\"toc-item\"><li><span><a href=\"#Var\" data-toc-modified-id=\"Var-1.1\"><span class=\"toc-item-num\">1.1&nbsp;&nbsp;</span>Var</a></span></li><li><span><a href=\"#setup\" data-toc-modified-id=\"setup-1.2\"><span class=\"toc-item-num\">1.2&nbsp;&nbsp;</span>setup</a></span><ul class=\"toc-item\"><li><span><a href=\"#conda-env\" data-toc-modified-id=\"conda-env-1.2.1\"><span class=\"toc-item-num\">1.2.1&nbsp;&nbsp;</span>conda env</a></span></li><li><span><a href=\"#Connect\" data-toc-modified-id=\"Connect-1.2.2\"><span class=\"toc-item-num\">1.2.2&nbsp;&nbsp;</span>Connect</a></span></li><li><span><a href=\"#Start\" data-toc-modified-id=\"Start-1.2.3\"><span class=\"toc-item-num\">1.2.3&nbsp;&nbsp;</span>Start</a></span></li></ul></li><li><span><a href=\"#running\" data-toc-modified-id=\"running-1.3\"><span class=\"toc-item-num\">1.3&nbsp;&nbsp;</span>running</a></span></li></ul></li><li><span><a href=\"#Trying-with-DeepLift-bigwig\" data-toc-modified-id=\"Trying-with-DeepLift-bigwig-2\"><span class=\"toc-item-num\">2&nbsp;&nbsp;</span>Trying with DeepLift bigwig</a></span><ul class=\"toc-item\"><li><span><a href=\"#Sample-11\" data-toc-modified-id=\"Sample-11-2.1\"><span class=\"toc-item-num\">2.1&nbsp;&nbsp;</span>Sample 11</a></span></li><li><span><a href=\"#Sample-23\" data-toc-modified-id=\"Sample-23-2.2\"><span class=\"toc-item-num\">2.2&nbsp;&nbsp;</span>Sample 23</a></span></li></ul></li></ul></div>"
   ]
  },
  {
   "cell_type": "markdown",
   "metadata": {},
   "source": [
    "# IGV sandbox"
   ]
  },
  {
   "cell_type": "markdown",
   "metadata": {},
   "source": [
    "## Var"
   ]
  },
  {
   "cell_type": "code",
   "execution_count": 2,
   "metadata": {
    "ExecuteTime": {
     "end_time": "2019-07-23T11:16:21.403515Z",
     "start_time": "2019-07-23T11:16:21.312Z"
    }
   },
   "outputs": [],
   "source": [
    "work_dir = '/ebio/abt3_projects/software/dev/tmp/igv/'"
   ]
  },
  {
   "cell_type": "markdown",
   "metadata": {},
   "source": [
    "## setup"
   ]
  },
  {
   "cell_type": "markdown",
   "metadata": {},
   "source": [
    "### conda env"
   ]
  },
  {
   "cell_type": "markdown",
   "metadata": {},
   "source": [
    "```\n",
    "conda create -n igv -y bioconda::igv\n",
    "```"
   ]
  },
  {
   "cell_type": "markdown",
   "metadata": {},
   "source": [
    "### Connect"
   ]
  },
  {
   "cell_type": "markdown",
   "metadata": {},
   "source": [
    "```\n",
    "ssh -L 9720:localhost:9720 -Y nyoungblut@rick.eb.local\n",
    "```"
   ]
  },
  {
   "cell_type": "markdown",
   "metadata": {},
   "source": [
    "### Start"
   ]
  },
  {
   "cell_type": "markdown",
   "metadata": {},
   "source": [
    "```\n",
    "(igv) @ rick:/ebio/abt3_projects/software/dev/tmp/igv\n",
    "igv\n",
    "```\n",
    "\n",
    "Note: `igv` must be run in the terminal in which X11 was enabled"
   ]
  },
  {
   "cell_type": "markdown",
   "metadata": {},
   "source": [
    "## running"
   ]
  },
  {
   "cell_type": "markdown",
   "metadata": {},
   "source": [
    "**Test input files**\n",
    "\n",
    "```\n",
    "(igv) @ rick:/ebio/abt3_projects/software/dev/tmp/igv\n",
    "\n",
    "cp -f /ebio/abt3_projects/databases_no-backup/DeepMAsED/train_runs/n1000_r30/assembly/1/metaspades/contigs_filtered.fasta .\n",
    "\n",
    "cp -f /ebio/abt3_projects/databases_no-backup/DeepMAsED/train_runs/n1000_r30/map/1/metaspades.bam .\n",
    "\n",
    "cp -f /ebio/abt3_projects/databases_no-backup/DeepMAsED/train_runs/n1000_r30/map/1/metaspades.bam.bai .\n",
    "\n",
    "cp -f /ebio/abt3_projects/databases_no-backup/DeepMAsED/train_runs/n1000_r30/map/1/metaspades/features.tsv.gz .\n",
    "\n",
    "```"
   ]
  },
  {
   "cell_type": "markdown",
   "metadata": {},
   "source": [
    "**prokka to add gene info**\n",
    "\n",
    "For testing of loading track info\n",
    "\n",
    "```\n",
    "(igv) @ rick:/ebio/abt3_projects/software/dev/tmp/igv\n",
    "conda install prokka\n",
    "\n",
    "prokka --cpus 12 --force --strain sim1 --outdir prokka_annot --prefix sim1 --kingdom Bacteria --metagenome contigs_filtered.fasta\n",
    "\n",
    "mv prokka_annot/sim1.gff prokka_annot/sim1.gff3\n",
    "```"
   ]
  },
  {
   "cell_type": "markdown",
   "metadata": {},
   "source": [
    "# Trying with DeepLift bigwig"
   ]
  },
  {
   "cell_type": "markdown",
   "metadata": {},
   "source": [
    "## Sample 11\n",
    "\n",
    "* Mateo's \"6\" is \"6\" for test_data_n25"
   ]
  },
  {
   "cell_type": "markdown",
   "metadata": {},
   "source": [
    "**Input files**\n",
    "\n",
    "```\n",
    "@ rick:/ebio/abt3_projects/software/dev/tmp/igv/deeplift/test_n100_r30/11/\n",
    "\n",
    "cp -f /ebio/abt3_projects/databases_no-backup/DeepMAsED/test_runs/n100_r25/assembly/11/megahit/contigs_filtered.fasta .\n",
    "\n",
    "cp -f /ebio/abt3_projects/databases_no-backup/DeepMAsED/test_runs/n100_r25/map/11/megahit.bam .\n",
    "\n",
    "cp -f /ebio/abt3_projects/databases_no-backup/DeepMAsED/test_runs/n100_r25/map/11/megahit.bam.bai .\n",
    "\n",
    "cp -f /ebio/abt3_projects/databases_no-backup/DeepMAsED/test_runs/n100_r25/map/11/megahit/features.tsv.gz .\n",
    "```"
   ]
  },
  {
   "cell_type": "markdown",
   "metadata": {},
   "source": [
    "**prokka to add gene info**\n",
    "\n",
    "For testing of loading track info\n",
    "\n",
    "```\n",
    "(igv) @ rick:/ebio/abt3_projects/software/dev/tmp/igv\n",
    "conda install prokka\n",
    "\n",
    "prokka --cpus 12 --force --strain sim1 --outdir prokka_annot --prefix sim1 --kingdom Bacteria --metagenome contigs_filtered.fasta\n",
    "\n",
    "mv prokka_annot/sim1.gff prokka_annot/sim1.gff3\n",
    "```"
   ]
  },
  {
   "cell_type": "markdown",
   "metadata": {},
   "source": [
    "## Sample 23\n",
    "\n",
    "* Mateo's \"23\" is \"23\" for test_data_n25"
   ]
  },
  {
   "cell_type": "markdown",
   "metadata": {
    "ExecuteTime": {
     "end_time": "2019-07-26T13:56:56.006205Z",
     "start_time": "2019-07-26T13:56:55.968Z"
    }
   },
   "source": [
    "**Input files**\n",
    "\n",
    "```\n",
    "@ rick:/ebio/abt3_projects/software/dev/tmp/igv/deeplift/test_n100_r30/23/\n",
    "\n",
    "cp -f /ebio/abt3_projects/databases_no-backup/DeepMAsED/test_runs/n100_r25/assembly/23/megahit/contigs_filtered.fasta .\n",
    "\n",
    "cp -f /ebio/abt3_projects/databases_no-backup/DeepMAsED/test_runs/n100_r25/map/23/megahit.bam .\n",
    "\n",
    "cp -f /ebio/abt3_projects/databases_no-backup/DeepMAsED/test_runs/n100_r25/map/23/megahit.bam.bai .\n",
    "\n",
    "cp -f /ebio/abt3_projects/databases_no-backup/DeepMAsED/test_runs/n100_r25/map/23/megahit/features.tsv.gz .\n",
    "```"
   ]
  },
  {
   "cell_type": "markdown",
   "metadata": {},
   "source": [
    "**prokka to add gene info**\n",
    "\n",
    "For testing of loading track info\n",
    "\n",
    "```\n",
    "(igv) @ rick:/ebio/abt3_projects/software/dev/tmp/igv\n",
    "conda install prokka\n",
    "\n",
    "prokka --cpus 12 --force --strain sim1 --outdir prokka_annot --prefix sim1 --kingdom Bacteria --metagenome contigs_filtered.fasta\n",
    "\n",
    "mv prokka_annot/sim1.gff prokka_annot/sim1.gff3\n",
    "```"
   ]
  },
  {
   "cell_type": "code",
   "execution_count": null,
   "metadata": {},
   "outputs": [],
   "source": []
  }
 ],
 "metadata": {
  "kernelspec": {
   "display_name": "R [conda env:py3_physeq]",
   "language": "R",
   "name": "conda-env-py3_physeq-r"
  },
  "language_info": {
   "codemirror_mode": "r",
   "file_extension": ".r",
   "mimetype": "text/x-r-source",
   "name": "R",
   "pygments_lexer": "r",
   "version": "3.4.1"
  },
  "notify_time": "30",
  "toc": {
   "base_numbering": 1,
   "nav_menu": {},
   "number_sections": true,
   "sideBar": true,
   "skip_h1_title": false,
   "title_cell": "Table of Contents",
   "title_sidebar": "Contents",
   "toc_cell": true,
   "toc_position": {},
   "toc_section_display": true,
   "toc_window_display": true
  }
 },
 "nbformat": 4,
 "nbformat_minor": 2
}
