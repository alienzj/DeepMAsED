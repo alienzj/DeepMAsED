{
 "cells": [
  {
   "cell_type": "markdown",
   "metadata": {
    "toc": true
   },
   "source": [
    "<h1>Table of Contents<span class=\"tocSkip\"></span></h1>\n",
    "<div class=\"toc\"><ul class=\"toc-item\"><li><span><a href=\"#Goal\" data-toc-modified-id=\"Goal-1\"><span class=\"toc-item-num\">1&nbsp;&nbsp;</span>Goal</a></span></li><li><span><a href=\"#Var\" data-toc-modified-id=\"Var-2\"><span class=\"toc-item-num\">2&nbsp;&nbsp;</span>Var</a></span></li><li><span><a href=\"#Init\" data-toc-modified-id=\"Init-3\"><span class=\"toc-item-num\">3&nbsp;&nbsp;</span>Init</a></span></li><li><span><a href=\"#Load\" data-toc-modified-id=\"Load-4\"><span class=\"toc-item-num\">4&nbsp;&nbsp;</span>Load</a></span></li><li><span><a href=\"#Prokka-on-all-target-MAGs\" data-toc-modified-id=\"Prokka-on-all-target-MAGs-5\"><span class=\"toc-item-num\">5&nbsp;&nbsp;</span>Prokka on all target MAGs</a></span><ul class=\"toc-item\"><li><span><a href=\"#Almeida-2019\" data-toc-modified-id=\"Almeida-2019-5.1\"><span class=\"toc-item-num\">5.1&nbsp;&nbsp;</span>Almeida-2019</a></span><ul class=\"toc-item\"><li><span><a href=\"#Uncompressing\" data-toc-modified-id=\"Uncompressing-5.1.1\"><span class=\"toc-item-num\">5.1.1&nbsp;&nbsp;</span>Uncompressing</a></span></li><li><span><a href=\"#Prokka\" data-toc-modified-id=\"Prokka-5.1.2\"><span class=\"toc-item-num\">5.1.2&nbsp;&nbsp;</span>Prokka</a></span><ul class=\"toc-item\"><li><span><a href=\"#Check-for-output-gff-files\" data-toc-modified-id=\"Check-for-output-gff-files-5.1.2.1\"><span class=\"toc-item-num\">5.1.2.1&nbsp;&nbsp;</span>Check for output gff files</a></span></li></ul></li></ul></li><li><span><a href=\"#Pasolli-2019\" data-toc-modified-id=\"Pasolli-2019-5.2\"><span class=\"toc-item-num\">5.2&nbsp;&nbsp;</span>Pasolli-2019</a></span><ul class=\"toc-item\"><li><span><a href=\"#Uncompressing\" data-toc-modified-id=\"Uncompressing-5.2.1\"><span class=\"toc-item-num\">5.2.1&nbsp;&nbsp;</span>Uncompressing</a></span></li><li><span><a href=\"#Prokka\" data-toc-modified-id=\"Prokka-5.2.2\"><span class=\"toc-item-num\">5.2.2&nbsp;&nbsp;</span>Prokka</a></span><ul class=\"toc-item\"><li><span><a href=\"#Check-for-output-gff-files\" data-toc-modified-id=\"Check-for-output-gff-files-5.2.2.1\"><span class=\"toc-item-num\">5.2.2.1&nbsp;&nbsp;</span>Check for output gff files</a></span></li></ul></li></ul></li></ul></li><li><span><a href=\"#Input-files\" data-toc-modified-id=\"Input-files-6\"><span class=\"toc-item-num\">6&nbsp;&nbsp;</span>Input files</a></span><ul class=\"toc-item\"><li><span><a href=\"#BigWig-files\" data-toc-modified-id=\"BigWig-files-6.1\"><span class=\"toc-item-num\">6.1&nbsp;&nbsp;</span>BigWig files</a></span><ul class=\"toc-item\"><li><span><a href=\"#AlmeidaA2019\" data-toc-modified-id=\"AlmeidaA2019-6.1.1\"><span class=\"toc-item-num\">6.1.1&nbsp;&nbsp;</span>AlmeidaA2019</a></span></li><li><span><a href=\"#PasolliE2019\" data-toc-modified-id=\"PasolliE2019-6.1.2\"><span class=\"toc-item-num\">6.1.2&nbsp;&nbsp;</span>PasolliE2019</a></span></li></ul></li><li><span><a href=\"#Contig-files\" data-toc-modified-id=\"Contig-files-6.2\"><span class=\"toc-item-num\">6.2&nbsp;&nbsp;</span>Contig files</a></span><ul class=\"toc-item\"><li><span><a href=\"#AlmeidaA2019\" data-toc-modified-id=\"AlmeidaA2019-6.2.1\"><span class=\"toc-item-num\">6.2.1&nbsp;&nbsp;</span>AlmeidaA2019</a></span></li><li><span><a href=\"#PasolliE2019\" data-toc-modified-id=\"PasolliE2019-6.2.2\"><span class=\"toc-item-num\">6.2.2&nbsp;&nbsp;</span>PasolliE2019</a></span></li></ul></li><li><span><a href=\"#BAM-files\" data-toc-modified-id=\"BAM-files-6.3\"><span class=\"toc-item-num\">6.3&nbsp;&nbsp;</span>BAM files</a></span><ul class=\"toc-item\"><li><span><a href=\"#AlmeidA2019\" data-toc-modified-id=\"AlmeidA2019-6.3.1\"><span class=\"toc-item-num\">6.3.1&nbsp;&nbsp;</span>AlmeidA2019</a></span></li><li><span><a href=\"#PasolliE2019\" data-toc-modified-id=\"PasolliE2019-6.3.2\"><span class=\"toc-item-num\">6.3.2&nbsp;&nbsp;</span>PasolliE2019</a></span></li></ul></li><li><span><a href=\"#GFF-files\" data-toc-modified-id=\"GFF-files-6.4\"><span class=\"toc-item-num\">6.4&nbsp;&nbsp;</span>GFF files</a></span><ul class=\"toc-item\"><li><span><a href=\"#AlmeidaA2019\" data-toc-modified-id=\"AlmeidaA2019-6.4.1\"><span class=\"toc-item-num\">6.4.1&nbsp;&nbsp;</span>AlmeidaA2019</a></span></li><li><span><a href=\"#PasolliE2019\" data-toc-modified-id=\"PasolliE2019-6.4.2\"><span class=\"toc-item-num\">6.4.2&nbsp;&nbsp;</span>PasolliE2019</a></span></li></ul></li></ul></li><li><span><a href=\"#IGV\" data-toc-modified-id=\"IGV-7\"><span class=\"toc-item-num\">7&nbsp;&nbsp;</span>IGV</a></span><ul class=\"toc-item\"><li><span><a href=\"#IGV-start-up\" data-toc-modified-id=\"IGV-start-up-7.1\"><span class=\"toc-item-num\">7.1&nbsp;&nbsp;</span>IGV start-up</a></span></li></ul></li><li><span><a href=\"#--Sandbox--\" data-toc-modified-id=\"--Sandbox---8\"><span class=\"toc-item-num\">8&nbsp;&nbsp;</span>--Sandbox--</a></span></li></ul></div>"
   ]
  },
  {
   "cell_type": "markdown",
   "metadata": {},
   "source": [
    "# Goal\n",
    "\n",
    "* Creating genome views of DeepLIFT scores for the contigs of interest"
   ]
  },
  {
   "cell_type": "markdown",
   "metadata": {},
   "source": [
    "# Var"
   ]
  },
  {
   "cell_type": "code",
   "execution_count": 92,
   "metadata": {
    "ExecuteTime": {
     "end_time": "2019-08-15T11:39:51.687676Z",
     "start_time": "2019-08-15T11:39:51.637Z"
    }
   },
   "outputs": [],
   "source": [
    "work_dir = '/ebio/abt3_projects/databases_no-backup/DeepMAsED/MAG_datasets/DeepLIFT/190815/'\n",
    "\n",
    "# real dataset MAG info\n",
    "AA_MAGs_metadata_file = '/ebio/abt3_projects/databases_no-backup/DeepMAsED/MAG_datasets/AlmeidaA-2019/samples_n143_w-MAGs.txt'\n",
    "PE_MAGs_metadata_file = '/ebio/abt3_projects/databases_no-backup/DeepMAsED/MAG_datasets/PasolliE-2019/samples_Almeida-Pasolli.txt'\n",
    "\n",
    "# params\n",
    "threads = 8\n",
    "conda_env = 'prokka'\n",
    "conda_env_igv = 'py3_genome'\n"
   ]
  },
  {
   "cell_type": "markdown",
   "metadata": {},
   "source": [
    "# Init"
   ]
  },
  {
   "cell_type": "code",
   "execution_count": 15,
   "metadata": {
    "ExecuteTime": {
     "end_time": "2019-08-15T10:58:15.154415Z",
     "start_time": "2019-08-15T10:58:15.097Z"
    }
   },
   "outputs": [],
   "source": [
    "library(dplyr)\n",
    "library(tidyr)\n",
    "library(ggplot2)\n",
    "library(data.table)\n",
    "\n",
    "library(future)\n",
    "library(future.batchtools)\n",
    "library(future.apply)\n",
    "options(future.wait.interval = 2.0)\n",
    "\n",
    "set.seed(83696)"
   ]
  },
  {
   "cell_type": "code",
   "execution_count": 16,
   "metadata": {
    "ExecuteTime": {
     "end_time": "2019-08-15T10:58:16.650799Z",
     "start_time": "2019-08-15T10:58:16.624Z"
    }
   },
   "outputs": [],
   "source": [
    "make_dir = function(dir, quiet=FALSE){\n",
    "    if(! dir.exists(dir)){\n",
    "        dir.create(dir, showWarnings=FALSE)\n",
    "        if(quiet == FALSE){\n",
    "            cat('Created directory:', dir, '\\n')\n",
    "        }\n",
    "    } else {\n",
    "        if(quiet == FALSE){\n",
    "           cat('Directory already exists:', dir, '\\n')\n",
    "        }\n",
    "    }\n",
    "}"
   ]
  },
  {
   "cell_type": "code",
   "execution_count": 17,
   "metadata": {
    "ExecuteTime": {
     "end_time": "2019-08-15T10:58:16.739967Z",
     "start_time": "2019-08-15T10:58:16.707Z"
    }
   },
   "outputs": [],
   "source": [
    "# function to run (bash job using conda env)\n",
    "bash_job = function(cmd, conda_env, stdout=TRUE, stderr=FALSE){\n",
    "    # cmd : string; commandline job (eg., 'ls -thlc')\n",
    "    # conda_env : string; conda environment name\n",
    "    cmd = sprintf('. ~/.bashrc; conda activate %s; %s', conda_env, cmd)\n",
    "    cmd = sprintf('-c \"%s\"', cmd)\n",
    "    system2('bash', cmd, stdout=stdout, stderr=stderr)\n",
    "}"
   ]
  },
  {
   "cell_type": "markdown",
   "metadata": {},
   "source": [
    "# Load"
   ]
  },
  {
   "cell_type": "code",
   "execution_count": 18,
   "metadata": {
    "ExecuteTime": {
     "end_time": "2019-08-15T10:58:18.736512Z",
     "start_time": "2019-08-15T10:58:18.523Z"
    }
   },
   "outputs": [
    {
     "name": "stdout",
     "output_type": "stream",
     "text": [
      "[1] 1519\n"
     ]
    },
    {
     "data": {
      "text/html": [
       "<table>\n",
       "<thead><tr><th scope=col>Taxon</th><th scope=col>Completeness</th><th scope=col>Contamination</th><th scope=col>Strain_heterogeneity</th><th scope=col>CheckM_lineage</th><th scope=col>Sample</th><th scope=col>Fasta</th><th scope=col>Read1</th><th scope=col>Read2</th></tr></thead>\n",
       "<tbody>\n",
       "\t<tr><td>SRR1039533_bin.12                                                                                                           </td><td>99.29                                                                                                                       </td><td>0.95                                                                                                                        </td><td>0                                                                                                                           </td><td>k__Bacteria;p__Actinobacteria;c__Actinobacteria;o__Actinomycetales;f__Actinomycetaceae;g__Actinomyces                       </td><td>SRR1039533                                                                                                                  </td><td>/ebio/abt3_projects/databases_no-backup/DeepMAsED/MAG_datasets/AlmeidaA-2019/mags/SRR1039533_bin.12.fa.gz                   </td><td>/ebio/abt3_projects/databases_no-backup/DeepMAsED/MAG_datasets/AlmeidaA-2019/LLMGQC/final/SRR1039533/R1_final.fq.gz         </td><td>/ebio/abt3_projects/databases_no-backup/DeepMAsED/MAG_datasets/AlmeidaA-2019/LLMGQC/final/SRR1039533/R2_final.fq.gz         </td></tr>\n",
       "\t<tr><td>SRR1039533_bin.14                                                                                                           </td><td>69.19                                                                                                                       </td><td>0.00                                                                                                                        </td><td>0                                                                                                                           </td><td>k__Bacteria;p__Actinobacteria;c__Actinobacteria;o__Actinomycetales;f__Actinomycetaceae;g__Actinomyces_2;s__Actinomyces_neuii</td><td>SRR1039533                                                                                                                  </td><td>/ebio/abt3_projects/databases_no-backup/DeepMAsED/MAG_datasets/AlmeidaA-2019/mags/SRR1039533_bin.14.fa.gz                   </td><td>/ebio/abt3_projects/databases_no-backup/DeepMAsED/MAG_datasets/AlmeidaA-2019/LLMGQC/final/SRR1039533/R1_final.fq.gz         </td><td>/ebio/abt3_projects/databases_no-backup/DeepMAsED/MAG_datasets/AlmeidaA-2019/LLMGQC/final/SRR1039533/R2_final.fq.gz         </td></tr>\n",
       "\t<tr><td>SRR1039533_bin.19                                                                                                           </td><td>94.15                                                                                                                       </td><td>0.15                                                                                                                        </td><td>0                                                                                                                           </td><td>k__Bacteria;p__Actinobacteria;c__Actinobacteria;o__Actinomycetales;f__Dermabacteraceae                                      </td><td>SRR1039533                                                                                                                  </td><td>/ebio/abt3_projects/databases_no-backup/DeepMAsED/MAG_datasets/AlmeidaA-2019/mags/SRR1039533_bin.19.fa.gz                   </td><td>/ebio/abt3_projects/databases_no-backup/DeepMAsED/MAG_datasets/AlmeidaA-2019/LLMGQC/final/SRR1039533/R1_final.fq.gz         </td><td>/ebio/abt3_projects/databases_no-backup/DeepMAsED/MAG_datasets/AlmeidaA-2019/LLMGQC/final/SRR1039533/R2_final.fq.gz         </td></tr>\n",
       "</tbody>\n",
       "</table>\n"
      ],
      "text/latex": [
       "\\begin{tabular}{r|lllllllll}\n",
       " Taxon & Completeness & Contamination & Strain\\_heterogeneity & CheckM\\_lineage & Sample & Fasta & Read1 & Read2\\\\\n",
       "\\hline\n",
       "\t SRR1039533\\_bin.12                                                                                                                                  & 99.29                                                                                                                                                & 0.95                                                                                                                                                 & 0                                                                                                                                                    & k\\_\\_Bacteria;p\\_\\_Actinobacteria;c\\_\\_Actinobacteria;o\\_\\_Actinomycetales;f\\_\\_Actinomycetaceae;g\\_\\_Actinomyces                        & SRR1039533                                                                                                                                           & /ebio/abt3\\_projects/databases\\_no-backup/DeepMAsED/MAG\\_datasets/AlmeidaA-2019/mags/SRR1039533\\_bin.12.fa.gz                                    & /ebio/abt3\\_projects/databases\\_no-backup/DeepMAsED/MAG\\_datasets/AlmeidaA-2019/LLMGQC/final/SRR1039533/R1\\_final.fq.gz                          & /ebio/abt3\\_projects/databases\\_no-backup/DeepMAsED/MAG\\_datasets/AlmeidaA-2019/LLMGQC/final/SRR1039533/R2\\_final.fq.gz                         \\\\\n",
       "\t SRR1039533\\_bin.14                                                                                                                                          & 69.19                                                                                                                                                        & 0.00                                                                                                                                                         & 0                                                                                                                                                            & k\\_\\_Bacteria;p\\_\\_Actinobacteria;c\\_\\_Actinobacteria;o\\_\\_Actinomycetales;f\\_\\_Actinomycetaceae;g\\_\\_Actinomyces\\_2;s\\_\\_Actinomyces\\_neuii & SRR1039533                                                                                                                                                   & /ebio/abt3\\_projects/databases\\_no-backup/DeepMAsED/MAG\\_datasets/AlmeidaA-2019/mags/SRR1039533\\_bin.14.fa.gz                                            & /ebio/abt3\\_projects/databases\\_no-backup/DeepMAsED/MAG\\_datasets/AlmeidaA-2019/LLMGQC/final/SRR1039533/R1\\_final.fq.gz                                  & /ebio/abt3\\_projects/databases\\_no-backup/DeepMAsED/MAG\\_datasets/AlmeidaA-2019/LLMGQC/final/SRR1039533/R2\\_final.fq.gz                                 \\\\\n",
       "\t SRR1039533\\_bin.19                                                                                                                              & 94.15                                                                                                                                            & 0.15                                                                                                                                             & 0                                                                                                                                                & k\\_\\_Bacteria;p\\_\\_Actinobacteria;c\\_\\_Actinobacteria;o\\_\\_Actinomycetales;f\\_\\_Dermabacteraceae                                       & SRR1039533                                                                                                                                       & /ebio/abt3\\_projects/databases\\_no-backup/DeepMAsED/MAG\\_datasets/AlmeidaA-2019/mags/SRR1039533\\_bin.19.fa.gz                                & /ebio/abt3\\_projects/databases\\_no-backup/DeepMAsED/MAG\\_datasets/AlmeidaA-2019/LLMGQC/final/SRR1039533/R1\\_final.fq.gz                      & /ebio/abt3\\_projects/databases\\_no-backup/DeepMAsED/MAG\\_datasets/AlmeidaA-2019/LLMGQC/final/SRR1039533/R2\\_final.fq.gz                     \\\\\n",
       "\\end{tabular}\n"
      ],
      "text/markdown": [
       "\n",
       "Taxon | Completeness | Contamination | Strain_heterogeneity | CheckM_lineage | Sample | Fasta | Read1 | Read2 | \n",
       "|---|---|---|\n",
       "| SRR1039533_bin.12                                                                                                            | 99.29                                                                                                                        | 0.95                                                                                                                         | 0                                                                                                                            | k__Bacteria;p__Actinobacteria;c__Actinobacteria;o__Actinomycetales;f__Actinomycetaceae;g__Actinomyces                        | SRR1039533                                                                                                                   | /ebio/abt3_projects/databases_no-backup/DeepMAsED/MAG_datasets/AlmeidaA-2019/mags/SRR1039533_bin.12.fa.gz                    | /ebio/abt3_projects/databases_no-backup/DeepMAsED/MAG_datasets/AlmeidaA-2019/LLMGQC/final/SRR1039533/R1_final.fq.gz          | /ebio/abt3_projects/databases_no-backup/DeepMAsED/MAG_datasets/AlmeidaA-2019/LLMGQC/final/SRR1039533/R2_final.fq.gz          | \n",
       "| SRR1039533_bin.14                                                                                                            | 69.19                                                                                                                        | 0.00                                                                                                                         | 0                                                                                                                            | k__Bacteria;p__Actinobacteria;c__Actinobacteria;o__Actinomycetales;f__Actinomycetaceae;g__Actinomyces_2;s__Actinomyces_neuii | SRR1039533                                                                                                                   | /ebio/abt3_projects/databases_no-backup/DeepMAsED/MAG_datasets/AlmeidaA-2019/mags/SRR1039533_bin.14.fa.gz                    | /ebio/abt3_projects/databases_no-backup/DeepMAsED/MAG_datasets/AlmeidaA-2019/LLMGQC/final/SRR1039533/R1_final.fq.gz          | /ebio/abt3_projects/databases_no-backup/DeepMAsED/MAG_datasets/AlmeidaA-2019/LLMGQC/final/SRR1039533/R2_final.fq.gz          | \n",
       "| SRR1039533_bin.19                                                                                                            | 94.15                                                                                                                        | 0.15                                                                                                                         | 0                                                                                                                            | k__Bacteria;p__Actinobacteria;c__Actinobacteria;o__Actinomycetales;f__Dermabacteraceae                                       | SRR1039533                                                                                                                   | /ebio/abt3_projects/databases_no-backup/DeepMAsED/MAG_datasets/AlmeidaA-2019/mags/SRR1039533_bin.19.fa.gz                    | /ebio/abt3_projects/databases_no-backup/DeepMAsED/MAG_datasets/AlmeidaA-2019/LLMGQC/final/SRR1039533/R1_final.fq.gz          | /ebio/abt3_projects/databases_no-backup/DeepMAsED/MAG_datasets/AlmeidaA-2019/LLMGQC/final/SRR1039533/R2_final.fq.gz          | \n",
       "\n",
       "\n"
      ],
      "text/plain": [
       "  Taxon             Completeness Contamination Strain_heterogeneity\n",
       "1 SRR1039533_bin.12 99.29        0.95          0                   \n",
       "2 SRR1039533_bin.14 69.19        0.00          0                   \n",
       "3 SRR1039533_bin.19 94.15        0.15          0                   \n",
       "  CheckM_lineage                                                                                                              \n",
       "1 k__Bacteria;p__Actinobacteria;c__Actinobacteria;o__Actinomycetales;f__Actinomycetaceae;g__Actinomyces                       \n",
       "2 k__Bacteria;p__Actinobacteria;c__Actinobacteria;o__Actinomycetales;f__Actinomycetaceae;g__Actinomyces_2;s__Actinomyces_neuii\n",
       "3 k__Bacteria;p__Actinobacteria;c__Actinobacteria;o__Actinomycetales;f__Dermabacteraceae                                      \n",
       "  Sample    \n",
       "1 SRR1039533\n",
       "2 SRR1039533\n",
       "3 SRR1039533\n",
       "  Fasta                                                                                                    \n",
       "1 /ebio/abt3_projects/databases_no-backup/DeepMAsED/MAG_datasets/AlmeidaA-2019/mags/SRR1039533_bin.12.fa.gz\n",
       "2 /ebio/abt3_projects/databases_no-backup/DeepMAsED/MAG_datasets/AlmeidaA-2019/mags/SRR1039533_bin.14.fa.gz\n",
       "3 /ebio/abt3_projects/databases_no-backup/DeepMAsED/MAG_datasets/AlmeidaA-2019/mags/SRR1039533_bin.19.fa.gz\n",
       "  Read1                                                                                                              \n",
       "1 /ebio/abt3_projects/databases_no-backup/DeepMAsED/MAG_datasets/AlmeidaA-2019/LLMGQC/final/SRR1039533/R1_final.fq.gz\n",
       "2 /ebio/abt3_projects/databases_no-backup/DeepMAsED/MAG_datasets/AlmeidaA-2019/LLMGQC/final/SRR1039533/R1_final.fq.gz\n",
       "3 /ebio/abt3_projects/databases_no-backup/DeepMAsED/MAG_datasets/AlmeidaA-2019/LLMGQC/final/SRR1039533/R1_final.fq.gz\n",
       "  Read2                                                                                                              \n",
       "1 /ebio/abt3_projects/databases_no-backup/DeepMAsED/MAG_datasets/AlmeidaA-2019/LLMGQC/final/SRR1039533/R2_final.fq.gz\n",
       "2 /ebio/abt3_projects/databases_no-backup/DeepMAsED/MAG_datasets/AlmeidaA-2019/LLMGQC/final/SRR1039533/R2_final.fq.gz\n",
       "3 /ebio/abt3_projects/databases_no-backup/DeepMAsED/MAG_datasets/AlmeidaA-2019/LLMGQC/final/SRR1039533/R2_final.fq.gz"
      ]
     },
     "metadata": {},
     "output_type": "display_data"
    }
   ],
   "source": [
    "# MAG info\n",
    "AA_MAGs_metadata = read.delim(AA_MAGs_metadata_file, sep='\\t')\n",
    "AA_MAGs_metadata %>% nrow %>% print\n",
    "AA_MAGs_metadata %>% head(n=3)"
   ]
  },
  {
   "cell_type": "code",
   "execution_count": 19,
   "metadata": {
    "ExecuteTime": {
     "end_time": "2019-08-15T10:58:20.239466Z",
     "start_time": "2019-08-15T10:58:20.109Z"
    }
   },
   "outputs": [
    {
     "name": "stdout",
     "output_type": "stream",
     "text": [
      "[1] 1090\n"
     ]
    },
    {
     "data": {
      "text/html": [
       "<table>\n",
       "<thead><tr><th scope=col>Taxon</th><th scope=col>Fasta</th><th scope=col>Sample</th><th scope=col>Read1</th><th scope=col>Read2</th></tr></thead>\n",
       "<tbody>\n",
       "\t<tr><td>VogtmannE_2016__MMRS65205033ST-27-0-0__bin.43                                                                                                                         </td><td>/ebio/abt3_projects/databases_no-backup/DeepMAsED/MAG_datasets/PasolliE-2019/all_MAGs/SGB_genome_fastas_part1/1024/VogtmannE_2016__MMRS65205033ST-27-0-0__bin.43.fa.gz</td><td>ERR1293531                                                                                                                                                            </td><td>/ebio/abt3_projects/databases_no-backup/DeepMAsED/MAG_datasets/AlmeidaA-2019/LLMGQC/final/ERR1293531/R1_final.fq.gz                                                   </td><td>/ebio/abt3_projects/databases_no-backup/DeepMAsED/MAG_datasets/AlmeidaA-2019/LLMGQC/final/ERR1293531/R2_final.fq.gz                                                   </td></tr>\n",
       "\t<tr><td>VogtmannE_2016__MMRS51737257ST-27-0-0__bin.46                                                                                                                         </td><td>/ebio/abt3_projects/databases_no-backup/DeepMAsED/MAG_datasets/PasolliE-2019/all_MAGs/SGB_genome_fastas_part1/1408/VogtmannE_2016__MMRS51737257ST-27-0-0__bin.46.fa.gz</td><td>ERR1293612                                                                                                                                                            </td><td>/ebio/abt3_projects/databases_no-backup/DeepMAsED/MAG_datasets/AlmeidaA-2019/LLMGQC/final/ERR1293612/R1_final.fq.gz                                                   </td><td>/ebio/abt3_projects/databases_no-backup/DeepMAsED/MAG_datasets/AlmeidaA-2019/LLMGQC/final/ERR1293612/R2_final.fq.gz                                                   </td></tr>\n",
       "\t<tr><td>VogtmannE_2016__MMRS51737257ST-27-0-0__bin.34                                                                                                                         </td><td>/ebio/abt3_projects/databases_no-backup/DeepMAsED/MAG_datasets/PasolliE-2019/all_MAGs/SGB_genome_fastas_part1/1472/VogtmannE_2016__MMRS51737257ST-27-0-0__bin.34.fa.gz</td><td>ERR1293612                                                                                                                                                            </td><td>/ebio/abt3_projects/databases_no-backup/DeepMAsED/MAG_datasets/AlmeidaA-2019/LLMGQC/final/ERR1293612/R1_final.fq.gz                                                   </td><td>/ebio/abt3_projects/databases_no-backup/DeepMAsED/MAG_datasets/AlmeidaA-2019/LLMGQC/final/ERR1293612/R2_final.fq.gz                                                   </td></tr>\n",
       "</tbody>\n",
       "</table>\n"
      ],
      "text/latex": [
       "\\begin{tabular}{r|lllll}\n",
       " Taxon & Fasta & Sample & Read1 & Read2\\\\\n",
       "\\hline\n",
       "\t VogtmannE\\_2016\\_\\_MMRS65205033ST-27-0-0\\_\\_bin.43                                                                                                                                        & /ebio/abt3\\_projects/databases\\_no-backup/DeepMAsED/MAG\\_datasets/PasolliE-2019/all\\_MAGs/SGB\\_genome\\_fastas\\_part1/1024/VogtmannE\\_2016\\_\\_MMRS65205033ST-27-0-0\\_\\_bin.43.fa.gz & ERR1293531                                                                                                                                                                                     & /ebio/abt3\\_projects/databases\\_no-backup/DeepMAsED/MAG\\_datasets/AlmeidaA-2019/LLMGQC/final/ERR1293531/R1\\_final.fq.gz                                                                    & /ebio/abt3\\_projects/databases\\_no-backup/DeepMAsED/MAG\\_datasets/AlmeidaA-2019/LLMGQC/final/ERR1293531/R2\\_final.fq.gz                                                                   \\\\\n",
       "\t VogtmannE\\_2016\\_\\_MMRS51737257ST-27-0-0\\_\\_bin.46                                                                                                                                        & /ebio/abt3\\_projects/databases\\_no-backup/DeepMAsED/MAG\\_datasets/PasolliE-2019/all\\_MAGs/SGB\\_genome\\_fastas\\_part1/1408/VogtmannE\\_2016\\_\\_MMRS51737257ST-27-0-0\\_\\_bin.46.fa.gz & ERR1293612                                                                                                                                                                                     & /ebio/abt3\\_projects/databases\\_no-backup/DeepMAsED/MAG\\_datasets/AlmeidaA-2019/LLMGQC/final/ERR1293612/R1\\_final.fq.gz                                                                    & /ebio/abt3\\_projects/databases\\_no-backup/DeepMAsED/MAG\\_datasets/AlmeidaA-2019/LLMGQC/final/ERR1293612/R2\\_final.fq.gz                                                                   \\\\\n",
       "\t VogtmannE\\_2016\\_\\_MMRS51737257ST-27-0-0\\_\\_bin.34                                                                                                                                        & /ebio/abt3\\_projects/databases\\_no-backup/DeepMAsED/MAG\\_datasets/PasolliE-2019/all\\_MAGs/SGB\\_genome\\_fastas\\_part1/1472/VogtmannE\\_2016\\_\\_MMRS51737257ST-27-0-0\\_\\_bin.34.fa.gz & ERR1293612                                                                                                                                                                                     & /ebio/abt3\\_projects/databases\\_no-backup/DeepMAsED/MAG\\_datasets/AlmeidaA-2019/LLMGQC/final/ERR1293612/R1\\_final.fq.gz                                                                    & /ebio/abt3\\_projects/databases\\_no-backup/DeepMAsED/MAG\\_datasets/AlmeidaA-2019/LLMGQC/final/ERR1293612/R2\\_final.fq.gz                                                                   \\\\\n",
       "\\end{tabular}\n"
      ],
      "text/markdown": [
       "\n",
       "Taxon | Fasta | Sample | Read1 | Read2 | \n",
       "|---|---|---|\n",
       "| VogtmannE_2016__MMRS65205033ST-27-0-0__bin.43                                                                                                                          | /ebio/abt3_projects/databases_no-backup/DeepMAsED/MAG_datasets/PasolliE-2019/all_MAGs/SGB_genome_fastas_part1/1024/VogtmannE_2016__MMRS65205033ST-27-0-0__bin.43.fa.gz | ERR1293531                                                                                                                                                             | /ebio/abt3_projects/databases_no-backup/DeepMAsED/MAG_datasets/AlmeidaA-2019/LLMGQC/final/ERR1293531/R1_final.fq.gz                                                    | /ebio/abt3_projects/databases_no-backup/DeepMAsED/MAG_datasets/AlmeidaA-2019/LLMGQC/final/ERR1293531/R2_final.fq.gz                                                    | \n",
       "| VogtmannE_2016__MMRS51737257ST-27-0-0__bin.46                                                                                                                          | /ebio/abt3_projects/databases_no-backup/DeepMAsED/MAG_datasets/PasolliE-2019/all_MAGs/SGB_genome_fastas_part1/1408/VogtmannE_2016__MMRS51737257ST-27-0-0__bin.46.fa.gz | ERR1293612                                                                                                                                                             | /ebio/abt3_projects/databases_no-backup/DeepMAsED/MAG_datasets/AlmeidaA-2019/LLMGQC/final/ERR1293612/R1_final.fq.gz                                                    | /ebio/abt3_projects/databases_no-backup/DeepMAsED/MAG_datasets/AlmeidaA-2019/LLMGQC/final/ERR1293612/R2_final.fq.gz                                                    | \n",
       "| VogtmannE_2016__MMRS51737257ST-27-0-0__bin.34                                                                                                                          | /ebio/abt3_projects/databases_no-backup/DeepMAsED/MAG_datasets/PasolliE-2019/all_MAGs/SGB_genome_fastas_part1/1472/VogtmannE_2016__MMRS51737257ST-27-0-0__bin.34.fa.gz | ERR1293612                                                                                                                                                             | /ebio/abt3_projects/databases_no-backup/DeepMAsED/MAG_datasets/AlmeidaA-2019/LLMGQC/final/ERR1293612/R1_final.fq.gz                                                    | /ebio/abt3_projects/databases_no-backup/DeepMAsED/MAG_datasets/AlmeidaA-2019/LLMGQC/final/ERR1293612/R2_final.fq.gz                                                    | \n",
       "\n",
       "\n"
      ],
      "text/plain": [
       "  Taxon                                        \n",
       "1 VogtmannE_2016__MMRS65205033ST-27-0-0__bin.43\n",
       "2 VogtmannE_2016__MMRS51737257ST-27-0-0__bin.46\n",
       "3 VogtmannE_2016__MMRS51737257ST-27-0-0__bin.34\n",
       "  Fasta                                                                                                                                                                 \n",
       "1 /ebio/abt3_projects/databases_no-backup/DeepMAsED/MAG_datasets/PasolliE-2019/all_MAGs/SGB_genome_fastas_part1/1024/VogtmannE_2016__MMRS65205033ST-27-0-0__bin.43.fa.gz\n",
       "2 /ebio/abt3_projects/databases_no-backup/DeepMAsED/MAG_datasets/PasolliE-2019/all_MAGs/SGB_genome_fastas_part1/1408/VogtmannE_2016__MMRS51737257ST-27-0-0__bin.46.fa.gz\n",
       "3 /ebio/abt3_projects/databases_no-backup/DeepMAsED/MAG_datasets/PasolliE-2019/all_MAGs/SGB_genome_fastas_part1/1472/VogtmannE_2016__MMRS51737257ST-27-0-0__bin.34.fa.gz\n",
       "  Sample    \n",
       "1 ERR1293531\n",
       "2 ERR1293612\n",
       "3 ERR1293612\n",
       "  Read1                                                                                                              \n",
       "1 /ebio/abt3_projects/databases_no-backup/DeepMAsED/MAG_datasets/AlmeidaA-2019/LLMGQC/final/ERR1293531/R1_final.fq.gz\n",
       "2 /ebio/abt3_projects/databases_no-backup/DeepMAsED/MAG_datasets/AlmeidaA-2019/LLMGQC/final/ERR1293612/R1_final.fq.gz\n",
       "3 /ebio/abt3_projects/databases_no-backup/DeepMAsED/MAG_datasets/AlmeidaA-2019/LLMGQC/final/ERR1293612/R1_final.fq.gz\n",
       "  Read2                                                                                                              \n",
       "1 /ebio/abt3_projects/databases_no-backup/DeepMAsED/MAG_datasets/AlmeidaA-2019/LLMGQC/final/ERR1293531/R2_final.fq.gz\n",
       "2 /ebio/abt3_projects/databases_no-backup/DeepMAsED/MAG_datasets/AlmeidaA-2019/LLMGQC/final/ERR1293612/R2_final.fq.gz\n",
       "3 /ebio/abt3_projects/databases_no-backup/DeepMAsED/MAG_datasets/AlmeidaA-2019/LLMGQC/final/ERR1293612/R2_final.fq.gz"
      ]
     },
     "metadata": {},
     "output_type": "display_data"
    }
   ],
   "source": [
    "# MAG info\n",
    "PE_MAGs_metadata = read.delim(PE_MAGs_metadata_file, sep='\\t')\n",
    "PE_MAGs_metadata %>% nrow %>% print\n",
    "PE_MAGs_metadata %>% head(n=3)"
   ]
  },
  {
   "cell_type": "markdown",
   "metadata": {},
   "source": [
    "# Prokka on all target MAGs"
   ]
  },
  {
   "cell_type": "code",
   "execution_count": null,
   "metadata": {
    "ExecuteTime": {
     "end_time": "2019-08-12T08:22:56.458355Z",
     "start_time": "2019-08-12T08:22:56.430Z"
    }
   },
   "outputs": [],
   "source": [
    "gunzip_cmd = function(fasta, base_dir){\n",
    "    out_file = file.path(base_dir, basename(as.character(fasta)))\n",
    "    out_file = gsub('\\\\.gz$', '', out_file)\n",
    "    if(out_file == fasta){\n",
    "        stop('Input == Output')\n",
    "    }\n",
    "    cmd = 'gunzip -c {fasta} > {output}'\n",
    "    cmd = glue::glue(cmd, fasta=fasta, output=out_file)\n",
    "}"
   ]
  },
  {
   "cell_type": "code",
   "execution_count": null,
   "metadata": {
    "ExecuteTime": {
     "end_time": "2019-08-12T08:25:24.307820Z",
     "start_time": "2019-08-12T08:25:24.274Z"
    }
   },
   "outputs": [],
   "source": [
    "prokka_cmd = function(fasta, base_dir, threads){\n",
    "    strain = gsub('\\\\.fa\\\\.gz$', '', basename(as.character(fasta)))\n",
    "    out_dir = file.path(base_dir, strain)\n",
    "    fasta = file.path(base_dir, basename(as.character(fasta)))\n",
    "    fasta = gsub('\\\\.gz$', '', fasta)\n",
    "    cmd = 'prokka --cpus {threads} --force --strain {strain} --prefix {strain} --outdir {out_dir} --kingdom Bacteria --metagenome {fasta}'\n",
    "    cmd = glue::glue(cmd, threads=threads, strain=strain, out_dir=out_dir, fasta=fasta)\n",
    "}\n"
   ]
  },
  {
   "cell_type": "markdown",
   "metadata": {},
   "source": [
    "## Almeida-2019"
   ]
  },
  {
   "cell_type": "code",
   "execution_count": null,
   "metadata": {
    "ExecuteTime": {
     "end_time": "2019-08-13T06:37:40.211148Z",
     "start_time": "2019-08-13T06:37:40.162Z"
    }
   },
   "outputs": [],
   "source": [
    "prokka_dir = file.path(dirname(AA_MAGs_metadata_file), 'prokka')\n",
    "make_dir(prokka_dir)"
   ]
  },
  {
   "cell_type": "markdown",
   "metadata": {},
   "source": [
    "### Uncompressing"
   ]
  },
  {
   "cell_type": "code",
   "execution_count": null,
   "metadata": {
    "ExecuteTime": {
     "end_time": "2019-08-12T08:34:17.872992Z",
     "start_time": "2019-08-12T08:34:16.588Z"
    }
   },
   "outputs": [],
   "source": [
    "cmds = lapply(as.list(AA_MAGs_metadata$Fasta), gunzip_cmd, base_dir=prokka_dir)\n",
    "cmds %>% length %>% print\n",
    "cmds[[1]]"
   ]
  },
  {
   "cell_type": "code",
   "execution_count": null,
   "metadata": {
    "ExecuteTime": {
     "end_time": "2019-08-12T08:34:17.911591Z",
     "start_time": "2019-08-12T08:34:16.965Z"
    }
   },
   "outputs": [],
   "source": [
    "resources = list(h_rt = '00:59:00',\n",
    "                 h_vmem = '4G',\n",
    "                 threads = 1,\n",
    "                 conda.env = 'py3_physeq')     # conda env with batchtools installed\n",
    "plan(batchtools_sge, resources=resources, workers=50)"
   ]
  },
  {
   "cell_type": "code",
   "execution_count": null,
   "metadata": {
    "ExecuteTime": {
     "end_time": "2019-08-12T17:00:08.284075Z",
     "start_time": "2019-08-12T17:00:08.239Z"
    }
   },
   "outputs": [],
   "source": [
    "job_ret = future_lapply(cmds, FUN = function(x) bash_job(x, conda_env=conda_env))\n",
    "job_ret %>% length %>% print"
   ]
  },
  {
   "cell_type": "markdown",
   "metadata": {},
   "source": [
    "### Prokka"
   ]
  },
  {
   "cell_type": "code",
   "execution_count": null,
   "metadata": {
    "ExecuteTime": {
     "end_time": "2019-08-12T17:00:31.814165Z",
     "start_time": "2019-08-12T17:00:29.673Z"
    }
   },
   "outputs": [],
   "source": [
    "cmds = lapply(as.list(AA_MAGs_metadata$Fasta), prokka_cmd, base_dir=prokka_dir, threads=threads)\n",
    "cmds %>% length %>% print\n",
    "cmds[[1]]"
   ]
  },
  {
   "cell_type": "code",
   "execution_count": null,
   "metadata": {
    "ExecuteTime": {
     "end_time": "2019-08-12T17:09:56.867768Z",
     "start_time": "2019-08-12T17:02:35.257Z"
    }
   },
   "outputs": [],
   "source": [
    "resources = list(h_rt = '00:59:00',\n",
    "                 h_vmem = '3G',\n",
    "                 threads = threads,\n",
    "                 conda.env = 'py3_physeq') \n",
    "plan(batchtools_sge, resources=resources, workers=50)"
   ]
  },
  {
   "cell_type": "code",
   "execution_count": null,
   "metadata": {
    "ExecuteTime": {
     "end_time": "2019-08-12T17:42:15.262861Z",
     "start_time": "2019-08-12T17:10:10.938Z"
    }
   },
   "outputs": [],
   "source": [
    "job_ret = future_lapply(cmds[1:100], FUN = function(x) bash_job(x, conda_env=conda_env))\n",
    "job_ret %>% length %>% print"
   ]
  },
  {
   "cell_type": "code",
   "execution_count": null,
   "metadata": {
    "ExecuteTime": {
     "end_time": "2019-08-12T18:12:24.635685Z",
     "start_time": "2019-08-12T17:10:13.530Z"
    }
   },
   "outputs": [],
   "source": [
    "job_ret = future_lapply(cmds[101:200], FUN = function(x) bash_job(x, conda_env=conda_env))\n",
    "job_ret %>% length %>% print"
   ]
  },
  {
   "cell_type": "code",
   "execution_count": null,
   "metadata": {
    "ExecuteTime": {
     "end_time": "2019-08-12T18:28:46.069664Z",
     "start_time": "2019-08-12T17:10:14.163Z"
    }
   },
   "outputs": [],
   "source": [
    "job_ret = future_lapply(cmds[201:300], FUN = function(x) bash_job(x, conda_env=conda_env))\n",
    "job_ret %>% length %>% print"
   ]
  },
  {
   "cell_type": "code",
   "execution_count": null,
   "metadata": {
    "ExecuteTime": {
     "end_time": "2019-08-12T18:47:14.973783Z",
     "start_time": "2019-08-12T17:10:15.242Z"
    }
   },
   "outputs": [],
   "source": [
    "job_ret = future_lapply(cmds[301:400], FUN = function(x) bash_job(x, conda_env=conda_env))\n",
    "job_ret %>% length %>% print"
   ]
  },
  {
   "cell_type": "code",
   "execution_count": null,
   "metadata": {
    "ExecuteTime": {
     "start_time": "2019-08-12T17:10:21.146Z"
    }
   },
   "outputs": [],
   "source": [
    "job_ret = future_lapply(cmds[401:500], FUN = function(x) bash_job(x, conda_env=conda_env))\n",
    "job_ret %>% length %>% print"
   ]
  },
  {
   "cell_type": "code",
   "execution_count": null,
   "metadata": {
    "ExecuteTime": {
     "start_time": "2019-08-12T17:10:27.562Z"
    }
   },
   "outputs": [],
   "source": [
    "job_ret = future_lapply(cmds[501:600], FUN = function(x) bash_job(x, conda_env=conda_env))\n",
    "job_ret %>% length %>% print"
   ]
  },
  {
   "cell_type": "code",
   "execution_count": null,
   "metadata": {
    "ExecuteTime": {
     "start_time": "2019-08-12T17:10:32.618Z"
    }
   },
   "outputs": [],
   "source": [
    "job_ret = future_lapply(cmds[601:700], FUN = function(x) bash_job(x, conda_env=conda_env))\n",
    "job_ret %>% length %>% print"
   ]
  },
  {
   "cell_type": "code",
   "execution_count": null,
   "metadata": {
    "ExecuteTime": {
     "start_time": "2019-08-12T17:10:37.843Z"
    }
   },
   "outputs": [],
   "source": [
    "job_ret = future_lapply(cmds[701:800], FUN = function(x) bash_job(x, conda_env=conda_env))\n",
    "job_ret %>% length %>% print"
   ]
  },
  {
   "cell_type": "code",
   "execution_count": null,
   "metadata": {
    "ExecuteTime": {
     "start_time": "2019-08-12T17:10:42.634Z"
    }
   },
   "outputs": [],
   "source": [
    "job_ret = future_lapply(cmds[801:900], FUN = function(x) bash_job(x, conda_env=conda_env))\n",
    "job_ret %>% length %>% print"
   ]
  },
  {
   "cell_type": "code",
   "execution_count": null,
   "metadata": {
    "ExecuteTime": {
     "start_time": "2019-08-12T17:10:47.985Z"
    }
   },
   "outputs": [],
   "source": [
    "job_ret = future_lapply(cmds[901:1000], FUN = function(x) bash_job(x, conda_env=conda_env))\n",
    "job_ret %>% length %>% print"
   ]
  },
  {
   "cell_type": "code",
   "execution_count": null,
   "metadata": {
    "ExecuteTime": {
     "start_time": "2019-08-12T17:11:00.842Z"
    }
   },
   "outputs": [],
   "source": [
    "job_ret = future_lapply(cmds[1001:1100], FUN = function(x) bash_job(x, conda_env=conda_env))\n",
    "job_ret %>% length %>% print"
   ]
  },
  {
   "cell_type": "code",
   "execution_count": null,
   "metadata": {
    "ExecuteTime": {
     "start_time": "2019-08-12T17:11:05.593Z"
    }
   },
   "outputs": [],
   "source": [
    "job_ret = future_lapply(cmds[1101:1200], FUN = function(x) bash_job(x, conda_env=conda_env))\n",
    "job_ret %>% length %>% print"
   ]
  },
  {
   "cell_type": "code",
   "execution_count": null,
   "metadata": {
    "ExecuteTime": {
     "start_time": "2019-08-12T17:11:09.257Z"
    }
   },
   "outputs": [],
   "source": [
    "job_ret = future_lapply(cmds[1201:1300], FUN = function(x) bash_job(x, conda_env=conda_env))\n",
    "job_ret %>% length %>% print"
   ]
  },
  {
   "cell_type": "code",
   "execution_count": null,
   "metadata": {
    "ExecuteTime": {
     "start_time": "2019-08-12T17:11:15.506Z"
    }
   },
   "outputs": [],
   "source": [
    "job_ret = future_lapply(cmds[1301:1400], FUN = function(x) bash_job(x, conda_env=conda_env))\n",
    "job_ret %>% length %>% print"
   ]
  },
  {
   "cell_type": "code",
   "execution_count": null,
   "metadata": {
    "ExecuteTime": {
     "start_time": "2019-08-12T17:11:26.369Z"
    }
   },
   "outputs": [],
   "source": [
    "job_ret = future_lapply(cmds[1401:length(cmds)], FUN = function(x) bash_job(x, conda_env=conda_env))\n",
    "job_ret %>% length %>% print"
   ]
  },
  {
   "cell_type": "markdown",
   "metadata": {},
   "source": [
    "#### Check for output gff files"
   ]
  },
  {
   "cell_type": "code",
   "execution_count": null,
   "metadata": {
    "ExecuteTime": {
     "end_time": "2019-08-13T06:38:21.693833Z",
     "start_time": "2019-08-13T06:38:10.454Z"
    }
   },
   "outputs": [],
   "source": [
    "gff_files = list.files(prokka_dir, '*.gff', recursive=TRUE, full.names=TRUE)\n",
    "gff_files %>% length %>% print"
   ]
  },
  {
   "cell_type": "markdown",
   "metadata": {},
   "source": [
    "## Pasolli-2019"
   ]
  },
  {
   "cell_type": "code",
   "execution_count": null,
   "metadata": {
    "ExecuteTime": {
     "end_time": "2019-08-13T06:41:13.999323Z",
     "start_time": "2019-08-13T06:41:13.958Z"
    }
   },
   "outputs": [],
   "source": [
    "prokka_dir = file.path(dirname(PE_MAGs_metadata_file), 'prokka')\n",
    "make_dir(prokka_dir)"
   ]
  },
  {
   "cell_type": "markdown",
   "metadata": {},
   "source": [
    "### Uncompressing"
   ]
  },
  {
   "cell_type": "code",
   "execution_count": null,
   "metadata": {
    "ExecuteTime": {
     "end_time": "2019-08-13T06:41:15.524385Z",
     "start_time": "2019-08-13T06:41:14.605Z"
    }
   },
   "outputs": [],
   "source": [
    "cmds = lapply(as.list(PE_MAGs_metadata$Fasta), gunzip_cmd, base_dir=prokka_dir)\n",
    "cmds %>% length %>% print\n",
    "cmds[[1]]"
   ]
  },
  {
   "cell_type": "code",
   "execution_count": null,
   "metadata": {
    "ExecuteTime": {
     "end_time": "2019-08-13T06:41:15.558850Z",
     "start_time": "2019-08-13T06:41:14.829Z"
    }
   },
   "outputs": [],
   "source": [
    "resources = list(h_rt = '00:59:00',\n",
    "                 h_vmem = '4G',\n",
    "                 threads = 1,\n",
    "                 conda.env = 'py3_physeq')     # conda env with batchtools installed\n",
    "plan(batchtools_sge, resources=resources, workers=50)"
   ]
  },
  {
   "cell_type": "code",
   "execution_count": null,
   "metadata": {
    "ExecuteTime": {
     "start_time": "2019-08-12T17:13:04.219Z"
    }
   },
   "outputs": [],
   "source": [
    "job_ret = future_lapply(cmds, FUN = function(x) bash_job(x, conda_env=conda_env))\n",
    "job_ret %>% length %>% print"
   ]
  },
  {
   "cell_type": "markdown",
   "metadata": {},
   "source": [
    "### Prokka"
   ]
  },
  {
   "cell_type": "code",
   "execution_count": null,
   "metadata": {
    "ExecuteTime": {
     "end_time": "2019-08-13T06:41:19.789855Z",
     "start_time": "2019-08-13T06:41:18.253Z"
    }
   },
   "outputs": [],
   "source": [
    "cmds = lapply(as.list(PE_MAGs_metadata$Fasta), prokka_cmd, base_dir=prokka_dir, threads=threads)\n",
    "cmds %>% length %>% print\n",
    "cmds[[1]]"
   ]
  },
  {
   "cell_type": "code",
   "execution_count": null,
   "metadata": {
    "ExecuteTime": {
     "end_time": "2019-08-13T06:41:41.342446Z",
     "start_time": "2019-08-13T06:41:41.301Z"
    }
   },
   "outputs": [],
   "source": [
    "resources = list(h_rt = '00:59:00',\n",
    "                 h_vmem = '3G',\n",
    "                 threads = threads,\n",
    "                 conda.env = 'py3_physeq')     # conda env with batchtools installed\n",
    "plan(batchtools_sge, resources=resources, workers=50)"
   ]
  },
  {
   "cell_type": "code",
   "execution_count": null,
   "metadata": {
    "ExecuteTime": {
     "end_time": "2019-08-13T07:47:15.037450Z",
     "start_time": "2019-08-13T06:41:42.317Z"
    }
   },
   "outputs": [],
   "source": [
    "job_ret = future_lapply(cmds[1:200], FUN = function(x) bash_job(x, conda_env=conda_env))\n",
    "job_ret %>% length %>% print"
   ]
  },
  {
   "cell_type": "code",
   "execution_count": null,
   "metadata": {
    "ExecuteTime": {
     "end_time": "2019-08-13T08:24:11.938577Z",
     "start_time": "2019-08-13T06:41:43.685Z"
    }
   },
   "outputs": [],
   "source": [
    "job_ret = future_lapply(cmds[201:400], FUN = function(x) bash_job(x, conda_env=conda_env))\n",
    "job_ret %>% length %>% print"
   ]
  },
  {
   "cell_type": "code",
   "execution_count": null,
   "metadata": {
    "ExecuteTime": {
     "end_time": "2019-08-13T09:23:01.651227Z",
     "start_time": "2019-08-13T06:41:43.836Z"
    }
   },
   "outputs": [],
   "source": [
    "job_ret = future_lapply(cmds[401:600], FUN = function(x) bash_job(x, conda_env=conda_env))\n",
    "job_ret %>% length %>% print"
   ]
  },
  {
   "cell_type": "code",
   "execution_count": null,
   "metadata": {
    "ExecuteTime": {
     "end_time": "2019-08-13T10:03:48.375970Z",
     "start_time": "2019-08-13T06:41:44.598Z"
    }
   },
   "outputs": [],
   "source": [
    "job_ret = future_lapply(cmds[601:800], FUN = function(x) bash_job(x, conda_env=conda_env))\n",
    "job_ret %>% length %>% print"
   ]
  },
  {
   "cell_type": "code",
   "execution_count": null,
   "metadata": {
    "ExecuteTime": {
     "end_time": "2019-08-13T12:04:09.543562Z",
     "start_time": "2019-08-13T11:48:58.415Z"
    }
   },
   "outputs": [],
   "source": [
    "job_ret = future_lapply(cmds[801:900], FUN = function(x) bash_job(x, conda_env=conda_env))\n",
    "job_ret %>% length %>% print"
   ]
  },
  {
   "cell_type": "code",
   "execution_count": null,
   "metadata": {
    "ExecuteTime": {
     "end_time": "2019-08-13T12:37:11.883676Z",
     "start_time": "2019-08-13T11:49:06.834Z"
    }
   },
   "outputs": [],
   "source": [
    "job_ret = future_lapply(cmds[901:1000], FUN = function(x) bash_job(x, conda_env=conda_env))\n",
    "job_ret %>% length %>% print"
   ]
  },
  {
   "cell_type": "code",
   "execution_count": null,
   "metadata": {
    "ExecuteTime": {
     "end_time": "2019-08-13T13:12:53.996596Z",
     "start_time": "2019-08-13T11:49:32.398Z"
    }
   },
   "outputs": [],
   "source": [
    "job_ret = future_lapply(cmds[1001:length(cmds)], FUN = function(x) bash_job(x, conda_env=conda_env))\n",
    "job_ret %>% length %>% print"
   ]
  },
  {
   "cell_type": "markdown",
   "metadata": {},
   "source": [
    "#### Check for output gff files"
   ]
  },
  {
   "cell_type": "code",
   "execution_count": null,
   "metadata": {
    "ExecuteTime": {
     "end_time": "2019-08-13T13:13:00.938582Z",
     "start_time": "2019-08-13T11:49:34.174Z"
    }
   },
   "outputs": [],
   "source": [
    "gff_files = list.files(prokka_dir, '*.gff', recursive=TRUE, full.names=TRUE)\n",
    "gff_files %>% length %>% print"
   ]
  },
  {
   "cell_type": "markdown",
   "metadata": {},
   "source": [
    "# Input files"
   ]
  },
  {
   "cell_type": "code",
   "execution_count": 65,
   "metadata": {
    "ExecuteTime": {
     "end_time": "2019-08-15T11:17:23.406250Z",
     "start_time": "2019-08-15T11:17:23.374Z"
    }
   },
   "outputs": [],
   "source": [
    "#' simple function for copying \"in_file\" to \"out_dir\"\n",
    "cp_file = function(in_file, out_dir, suffix=NA){\n",
    "    in_file = as.character(in_file)\n",
    "    out_file = file.path(out_dir, basename(in_file))\n",
    "    if(!is.na(suffix)){\n",
    "        out_file = gsub('\\\\.[^.]+$', suffix, out_file)\n",
    "    }\n",
    "    if(in_file == out_file){\n",
    "        stop('Input == Output!')\n",
    "    }\n",
    "    if(file.exists(out_file)){\n",
    "        file.remove(out_file)\n",
    "    }\n",
    "    file.copy(in_file, out_file)\n",
    "    return(out_file)\n",
    "}"
   ]
  },
  {
   "cell_type": "markdown",
   "metadata": {},
   "source": [
    "## BigWig files\n",
    "\n",
    "* Create by Mateo"
   ]
  },
  {
   "cell_type": "code",
   "execution_count": 114,
   "metadata": {
    "ExecuteTime": {
     "end_time": "2019-08-15T12:02:53.610796Z",
     "start_time": "2019-08-15T12:02:53.450Z"
    }
   },
   "outputs": [
    {
     "name": "stdout",
     "output_type": "stream",
     "text": [
      "[1] 28\n"
     ]
    },
    {
     "data": {
      "text/html": [
       "<ol class=list-inline>\n",
       "\t<li>'/ebio/abt3_projects/databases_no-backup/DeepMAsED/MAG_datasets/DeepLIFT/190815//AlmeidaA2019_samples-n143_MAGs-n1519/ERR1190625_bin_12/unk.bw'</li>\n",
       "\t<li>'/ebio/abt3_projects/databases_no-backup/DeepMAsED/MAG_datasets/DeepLIFT/190815//AlmeidaA2019_samples-n143_MAGs-n1519/ERR1620339_bin_24/unk.bw'</li>\n",
       "</ol>\n"
      ],
      "text/latex": [
       "\\begin{enumerate*}\n",
       "\\item '/ebio/abt3\\_projects/databases\\_no-backup/DeepMAsED/MAG\\_datasets/DeepLIFT/190815//AlmeidaA2019\\_samples-n143\\_MAGs-n1519/ERR1190625\\_bin\\_12/unk.bw'\n",
       "\\item '/ebio/abt3\\_projects/databases\\_no-backup/DeepMAsED/MAG\\_datasets/DeepLIFT/190815//AlmeidaA2019\\_samples-n143\\_MAGs-n1519/ERR1620339\\_bin\\_24/unk.bw'\n",
       "\\end{enumerate*}\n"
      ],
      "text/markdown": [
       "1. '/ebio/abt3_projects/databases_no-backup/DeepMAsED/MAG_datasets/DeepLIFT/190815//AlmeidaA2019_samples-n143_MAGs-n1519/ERR1190625_bin_12/unk.bw'\n",
       "2. '/ebio/abt3_projects/databases_no-backup/DeepMAsED/MAG_datasets/DeepLIFT/190815//AlmeidaA2019_samples-n143_MAGs-n1519/ERR1620339_bin_24/unk.bw'\n",
       "\n",
       "\n"
      ],
      "text/plain": [
       "[1] \"/ebio/abt3_projects/databases_no-backup/DeepMAsED/MAG_datasets/DeepLIFT/190815//AlmeidaA2019_samples-n143_MAGs-n1519/ERR1190625_bin_12/unk.bw\"\n",
       "[2] \"/ebio/abt3_projects/databases_no-backup/DeepMAsED/MAG_datasets/DeepLIFT/190815//AlmeidaA2019_samples-n143_MAGs-n1519/ERR1620339_bin_24/unk.bw\""
      ]
     },
     "metadata": {},
     "output_type": "display_data"
    }
   ],
   "source": [
    "# listing all bw files\n",
    "bw_files = list.files(work_dir, '*.bw', recursive=TRUE, full.names=TRUE)\n",
    "bw_files %>% length %>% print\n",
    "bw_files %>% head(n=2)"
   ]
  },
  {
   "cell_type": "code",
   "execution_count": 115,
   "metadata": {
    "ExecuteTime": {
     "end_time": "2019-08-15T12:02:54.240829Z",
     "start_time": "2019-08-15T12:02:54.211Z"
    }
   },
   "outputs": [],
   "source": [
    "# converting to wig files\n",
    "bigWigToWig = function(in_file){\n",
    "    out_file = gsub('\\\\.[^.]+$', '.wig', in_file)\n",
    "    if(in_file == out_file){\n",
    "        stop('Input == Output')\n",
    "    }\n",
    "    cmd = glue::glue('bigWigToWig {in_file} {out_file}',\n",
    "                     in_file = in_file, out_file=out_file)\n",
    "    return(cmd)\n",
    "}"
   ]
  },
  {
   "cell_type": "code",
   "execution_count": 116,
   "metadata": {
    "ExecuteTime": {
     "end_time": "2019-08-15T12:02:54.357165Z",
     "start_time": "2019-08-15T12:02:54.325Z"
    }
   },
   "outputs": [],
   "source": [
    "# converting to wig files\n",
    "edit_names = function(in_file, exe){\n",
    "    in_file = gsub('\\\\.bw$', '.wig', in_file)\n",
    "    cmd = glue::glue('{exe} {in_file}',\n",
    "                     exe = exe, in_file = in_file)\n",
    "    return(cmd)\n",
    "}\n",
    "exe = file.path(work_dir, 'edit_names.sh')"
   ]
  },
  {
   "cell_type": "markdown",
   "metadata": {},
   "source": [
    "### AlmeidaA2019"
   ]
  },
  {
   "cell_type": "code",
   "execution_count": 117,
   "metadata": {
    "ExecuteTime": {
     "end_time": "2019-08-15T12:02:55.492557Z",
     "start_time": "2019-08-15T12:02:55.430Z"
    }
   },
   "outputs": [
    {
     "name": "stdout",
     "output_type": "stream",
     "text": [
      "[1] 14\n"
     ]
    },
    {
     "data": {
      "text/html": [
       "<table>\n",
       "<thead><tr><th scope=col>MAG</th><th scope=col>bw_file</th></tr></thead>\n",
       "<tbody>\n",
       "\t<tr><td>ERR1190625_bin_12                                                                                                                            </td><td>/ebio/abt3_projects/databases_no-backup/DeepMAsED/MAG_datasets/DeepLIFT/190815//AlmeidaA2019_samples-n143_MAGs-n1519/ERR1190625_bin_12/unk.bw</td></tr>\n",
       "\t<tr><td>ERR1620339_bin_24                                                                                                                            </td><td>/ebio/abt3_projects/databases_no-backup/DeepMAsED/MAG_datasets/DeepLIFT/190815//AlmeidaA2019_samples-n143_MAGs-n1519/ERR1620339_bin_24/unk.bw</td></tr>\n",
       "\t<tr><td>ERR1620339_bin_53                                                                                                                            </td><td>/ebio/abt3_projects/databases_no-backup/DeepMAsED/MAG_datasets/DeepLIFT/190815//AlmeidaA2019_samples-n143_MAGs-n1519/ERR1620339_bin_53/unk.bw</td></tr>\n",
       "</tbody>\n",
       "</table>\n"
      ],
      "text/latex": [
       "\\begin{tabular}{r|ll}\n",
       " MAG & bw\\_file\\\\\n",
       "\\hline\n",
       "\t ERR1190625\\_bin\\_12                                                                                                                                       & /ebio/abt3\\_projects/databases\\_no-backup/DeepMAsED/MAG\\_datasets/DeepLIFT/190815//AlmeidaA2019\\_samples-n143\\_MAGs-n1519/ERR1190625\\_bin\\_12/unk.bw\\\\\n",
       "\t ERR1620339\\_bin\\_24                                                                                                                                       & /ebio/abt3\\_projects/databases\\_no-backup/DeepMAsED/MAG\\_datasets/DeepLIFT/190815//AlmeidaA2019\\_samples-n143\\_MAGs-n1519/ERR1620339\\_bin\\_24/unk.bw\\\\\n",
       "\t ERR1620339\\_bin\\_53                                                                                                                                       & /ebio/abt3\\_projects/databases\\_no-backup/DeepMAsED/MAG\\_datasets/DeepLIFT/190815//AlmeidaA2019\\_samples-n143\\_MAGs-n1519/ERR1620339\\_bin\\_53/unk.bw\\\\\n",
       "\\end{tabular}\n"
      ],
      "text/markdown": [
       "\n",
       "MAG | bw_file | \n",
       "|---|---|---|\n",
       "| ERR1190625_bin_12                                                                                                                             | /ebio/abt3_projects/databases_no-backup/DeepMAsED/MAG_datasets/DeepLIFT/190815//AlmeidaA2019_samples-n143_MAGs-n1519/ERR1190625_bin_12/unk.bw | \n",
       "| ERR1620339_bin_24                                                                                                                             | /ebio/abt3_projects/databases_no-backup/DeepMAsED/MAG_datasets/DeepLIFT/190815//AlmeidaA2019_samples-n143_MAGs-n1519/ERR1620339_bin_24/unk.bw | \n",
       "| ERR1620339_bin_53                                                                                                                             | /ebio/abt3_projects/databases_no-backup/DeepMAsED/MAG_datasets/DeepLIFT/190815//AlmeidaA2019_samples-n143_MAGs-n1519/ERR1620339_bin_53/unk.bw | \n",
       "\n",
       "\n"
      ],
      "text/plain": [
       "  MAG              \n",
       "1 ERR1190625_bin_12\n",
       "2 ERR1620339_bin_24\n",
       "3 ERR1620339_bin_53\n",
       "  bw_file                                                                                                                                      \n",
       "1 /ebio/abt3_projects/databases_no-backup/DeepMAsED/MAG_datasets/DeepLIFT/190815//AlmeidaA2019_samples-n143_MAGs-n1519/ERR1190625_bin_12/unk.bw\n",
       "2 /ebio/abt3_projects/databases_no-backup/DeepMAsED/MAG_datasets/DeepLIFT/190815//AlmeidaA2019_samples-n143_MAGs-n1519/ERR1620339_bin_24/unk.bw\n",
       "3 /ebio/abt3_projects/databases_no-backup/DeepMAsED/MAG_datasets/DeepLIFT/190815//AlmeidaA2019_samples-n143_MAGs-n1519/ERR1620339_bin_53/unk.bw"
      ]
     },
     "metadata": {},
     "output_type": "display_data"
    }
   ],
   "source": [
    "# Almeida2019 MAGs\n",
    "X = bw_files[grepl('AlmeidaA2019', bw_files)]\n",
    "AA_MAGs = X %>% dirname %>% basename\n",
    "AA_MAGs = data.frame(MAG = AA_MAGs,\n",
    "                     bw_file = X)\n",
    "\n",
    "AA_MAGs %>% nrow %>% print\n",
    "AA_MAGs %>% head(n=3)"
   ]
  },
  {
   "cell_type": "code",
   "execution_count": 118,
   "metadata": {
    "ExecuteTime": {
     "end_time": "2019-08-15T12:02:56.339734Z",
     "start_time": "2019-08-15T12:02:56.271Z"
    }
   },
   "outputs": [
    {
     "data": {
      "text/html": [
       "14"
      ],
      "text/latex": [
       "14"
      ],
      "text/markdown": [
       "14"
      ],
      "text/plain": [
       "[1] 14"
      ]
     },
     "metadata": {},
     "output_type": "display_data"
    },
    {
     "name": "stdout",
     "output_type": "stream",
     "text": [
      "bigWigToWig /ebio/abt3_projects/databases_no-backup/DeepMAsED/MAG_datasets/DeepLIFT/190815//AlmeidaA2019_samples-n143_MAGs-n1519/ERR1190625_bin_12/unk.bw /ebio/abt3_projects/databases_no-backup/DeepMAsED/MAG_datasets/DeepLIFT/190815//AlmeidaA2019_samples-n143_MAGs-n1519/ERR1190625_bin_12/unk.wig"
     ]
    }
   ],
   "source": [
    "# creating commands for file conversion\n",
    "cmds = sapply(AA_MAGs$bw_file, bigWigToWig)\n",
    "cmds %>% length\n",
    "cmds %>% head(n=1) %>% cat"
   ]
  },
  {
   "cell_type": "code",
   "execution_count": 119,
   "metadata": {
    "ExecuteTime": {
     "end_time": "2019-08-15T12:03:04.079140Z",
     "start_time": "2019-08-15T12:02:56.413Z"
    }
   },
   "outputs": [
    {
     "data": {
      "text/html": [
       "14"
      ],
      "text/latex": [
       "14"
      ],
      "text/markdown": [
       "14"
      ],
      "text/plain": [
       "[1] 14"
      ]
     },
     "metadata": {},
     "output_type": "display_data"
    }
   ],
   "source": [
    "# file conversion\n",
    "ret = sapply(cmds, bash_job, conda_env=conda_env_igv)\n",
    "ret %>% length"
   ]
  },
  {
   "cell_type": "code",
   "execution_count": 120,
   "metadata": {
    "ExecuteTime": {
     "end_time": "2019-08-15T12:03:11.558580Z",
     "start_time": "2019-08-15T12:02:56.577Z"
    }
   },
   "outputs": [
    {
     "data": {
      "text/html": [
       "14"
      ],
      "text/latex": [
       "14"
      ],
      "text/markdown": [
       "14"
      ],
      "text/plain": [
       "[1] 14"
      ]
     },
     "metadata": {},
     "output_type": "display_data"
    }
   ],
   "source": [
    "# contig ID renaming\n",
    "cmds = sapply(AA_MAGs$bw_file, edit_names, exe=exe)\n",
    "ret = sapply(cmds, bash_job, conda_env=conda_env_igv)\n",
    "ret %>% length"
   ]
  },
  {
   "cell_type": "markdown",
   "metadata": {},
   "source": [
    "### PasolliE2019"
   ]
  },
  {
   "cell_type": "code",
   "execution_count": 121,
   "metadata": {
    "ExecuteTime": {
     "end_time": "2019-08-15T12:03:11.620472Z",
     "start_time": "2019-08-15T12:02:57.598Z"
    }
   },
   "outputs": [
    {
     "name": "stdout",
     "output_type": "stream",
     "text": [
      "[1] 14\n"
     ]
    },
    {
     "data": {
      "text/html": [
       "<table>\n",
       "<thead><tr><th scope=col>MAG</th><th scope=col>bw_file</th></tr></thead>\n",
       "<tbody>\n",
       "\t<tr><td>BackhedF_2015__SID282_B__bin_1                                                                                                     </td><td>/ebio/abt3_projects/databases_no-backup/DeepMAsED/MAG_datasets/DeepLIFT/190815//Pasolli_mag/BackhedF_2015__SID282_B__bin_1/unk.bw  </td></tr>\n",
       "\t<tr><td>BackhedF_2015__SID367_12M__bin_5                                                                                                   </td><td>/ebio/abt3_projects/databases_no-backup/DeepMAsED/MAG_datasets/DeepLIFT/190815//Pasolli_mag/BackhedF_2015__SID367_12M__bin_5/unk.bw</td></tr>\n",
       "\t<tr><td>BackhedF_2015__SID39_12M__bin_14                                                                                                   </td><td>/ebio/abt3_projects/databases_no-backup/DeepMAsED/MAG_datasets/DeepLIFT/190815//Pasolli_mag/BackhedF_2015__SID39_12M__bin_14/unk.bw</td></tr>\n",
       "</tbody>\n",
       "</table>\n"
      ],
      "text/latex": [
       "\\begin{tabular}{r|ll}\n",
       " MAG & bw\\_file\\\\\n",
       "\\hline\n",
       "\t BackhedF\\_2015\\_\\_SID282\\_B\\_\\_bin\\_1                                                                                                              & /ebio/abt3\\_projects/databases\\_no-backup/DeepMAsED/MAG\\_datasets/DeepLIFT/190815//Pasolli\\_mag/BackhedF\\_2015\\_\\_SID282\\_B\\_\\_bin\\_1/unk.bw  \\\\\n",
       "\t BackhedF\\_2015\\_\\_SID367\\_12M\\_\\_bin\\_5                                                                                                            & /ebio/abt3\\_projects/databases\\_no-backup/DeepMAsED/MAG\\_datasets/DeepLIFT/190815//Pasolli\\_mag/BackhedF\\_2015\\_\\_SID367\\_12M\\_\\_bin\\_5/unk.bw\\\\\n",
       "\t BackhedF\\_2015\\_\\_SID39\\_12M\\_\\_bin\\_14                                                                                                            & /ebio/abt3\\_projects/databases\\_no-backup/DeepMAsED/MAG\\_datasets/DeepLIFT/190815//Pasolli\\_mag/BackhedF\\_2015\\_\\_SID39\\_12M\\_\\_bin\\_14/unk.bw\\\\\n",
       "\\end{tabular}\n"
      ],
      "text/markdown": [
       "\n",
       "MAG | bw_file | \n",
       "|---|---|---|\n",
       "| BackhedF_2015__SID282_B__bin_1                                                                                                      | /ebio/abt3_projects/databases_no-backup/DeepMAsED/MAG_datasets/DeepLIFT/190815//Pasolli_mag/BackhedF_2015__SID282_B__bin_1/unk.bw   | \n",
       "| BackhedF_2015__SID367_12M__bin_5                                                                                                    | /ebio/abt3_projects/databases_no-backup/DeepMAsED/MAG_datasets/DeepLIFT/190815//Pasolli_mag/BackhedF_2015__SID367_12M__bin_5/unk.bw | \n",
       "| BackhedF_2015__SID39_12M__bin_14                                                                                                    | /ebio/abt3_projects/databases_no-backup/DeepMAsED/MAG_datasets/DeepLIFT/190815//Pasolli_mag/BackhedF_2015__SID39_12M__bin_14/unk.bw | \n",
       "\n",
       "\n"
      ],
      "text/plain": [
       "  MAG                             \n",
       "1 BackhedF_2015__SID282_B__bin_1  \n",
       "2 BackhedF_2015__SID367_12M__bin_5\n",
       "3 BackhedF_2015__SID39_12M__bin_14\n",
       "  bw_file                                                                                                                            \n",
       "1 /ebio/abt3_projects/databases_no-backup/DeepMAsED/MAG_datasets/DeepLIFT/190815//Pasolli_mag/BackhedF_2015__SID282_B__bin_1/unk.bw  \n",
       "2 /ebio/abt3_projects/databases_no-backup/DeepMAsED/MAG_datasets/DeepLIFT/190815//Pasolli_mag/BackhedF_2015__SID367_12M__bin_5/unk.bw\n",
       "3 /ebio/abt3_projects/databases_no-backup/DeepMAsED/MAG_datasets/DeepLIFT/190815//Pasolli_mag/BackhedF_2015__SID39_12M__bin_14/unk.bw"
      ]
     },
     "metadata": {},
     "output_type": "display_data"
    }
   ],
   "source": [
    "# Pasolli2019 MAGs\n",
    "X = bw_files[grepl('Pasolli_mag', bw_files)]\n",
    "PE_MAGs = X %>% dirname %>% basename\n",
    "PE_MAGs = data.frame(MAG = PE_MAGs,\n",
    "                     bw_file = X)\n",
    "\n",
    "PE_MAGs %>% nrow %>% print\n",
    "PE_MAGs %>% head(n=3)"
   ]
  },
  {
   "cell_type": "code",
   "execution_count": 122,
   "metadata": {
    "ExecuteTime": {
     "end_time": "2019-08-15T12:03:11.675130Z",
     "start_time": "2019-08-15T12:02:57.732Z"
    }
   },
   "outputs": [
    {
     "data": {
      "text/html": [
       "14"
      ],
      "text/latex": [
       "14"
      ],
      "text/markdown": [
       "14"
      ],
      "text/plain": [
       "[1] 14"
      ]
     },
     "metadata": {},
     "output_type": "display_data"
    },
    {
     "name": "stdout",
     "output_type": "stream",
     "text": [
      "bigWigToWig /ebio/abt3_projects/databases_no-backup/DeepMAsED/MAG_datasets/DeepLIFT/190815//Pasolli_mag/BackhedF_2015__SID282_B__bin_1/unk.bw /ebio/abt3_projects/databases_no-backup/DeepMAsED/MAG_datasets/DeepLIFT/190815//Pasolli_mag/BackhedF_2015__SID282_B__bin_1/unk.wig"
     ]
    }
   ],
   "source": [
    "# creating commands for file conversion\n",
    "cmds = sapply(PE_MAGs$bw_file, bigWigToWig)\n",
    "cmds %>% length\n",
    "cmds %>% head(n=1) %>% cat"
   ]
  },
  {
   "cell_type": "code",
   "execution_count": 123,
   "metadata": {
    "ExecuteTime": {
     "end_time": "2019-08-15T12:03:19.395313Z",
     "start_time": "2019-08-15T12:02:57.864Z"
    }
   },
   "outputs": [
    {
     "data": {
      "text/html": [
       "14"
      ],
      "text/latex": [
       "14"
      ],
      "text/markdown": [
       "14"
      ],
      "text/plain": [
       "[1] 14"
      ]
     },
     "metadata": {},
     "output_type": "display_data"
    }
   ],
   "source": [
    "# file conversion\n",
    "ret = sapply(cmds, bash_job, conda_env=conda_env_igv)\n",
    "ret %>% length"
   ]
  },
  {
   "cell_type": "code",
   "execution_count": 124,
   "metadata": {
    "ExecuteTime": {
     "end_time": "2019-08-15T12:03:26.953702Z",
     "start_time": "2019-08-15T12:02:58.264Z"
    }
   },
   "outputs": [
    {
     "data": {
      "text/html": [
       "14"
      ],
      "text/latex": [
       "14"
      ],
      "text/markdown": [
       "14"
      ],
      "text/plain": [
       "[1] 14"
      ]
     },
     "metadata": {},
     "output_type": "display_data"
    }
   ],
   "source": [
    "# contig ID renaming\n",
    "cmds = sapply(PE_MAGs$bw_file, edit_names, exe=exe)\n",
    "ret = sapply(cmds, bash_job, conda_env=conda_env_igv)\n",
    "ret %>% length"
   ]
  },
  {
   "cell_type": "markdown",
   "metadata": {},
   "source": [
    "## Contig files\n",
    "\n",
    "* gunzip'ing contig files for relvant MAGs"
   ]
  },
  {
   "cell_type": "markdown",
   "metadata": {},
   "source": [
    "### AlmeidaA2019"
   ]
  },
  {
   "cell_type": "code",
   "execution_count": 70,
   "metadata": {
    "ExecuteTime": {
     "end_time": "2019-08-15T11:20:42.468967Z",
     "start_time": "2019-08-15T11:20:42.393Z"
    }
   },
   "outputs": [
    {
     "name": "stderr",
     "output_type": "stream",
     "text": [
      "Warning message:\n",
      "“Column `Taxon`/`MAG` joining character vector and factor, coercing into character vector”"
     ]
    },
    {
     "name": "stdout",
     "output_type": "stream",
     "text": [
      "[1] 14\n"
     ]
    },
    {
     "data": {
      "text/html": [
       "<table>\n",
       "<thead><tr><th scope=col>Taxon</th><th scope=col>Completeness</th><th scope=col>Contamination</th><th scope=col>Strain_heterogeneity</th><th scope=col>CheckM_lineage</th><th scope=col>Sample</th><th scope=col>Fasta</th><th scope=col>Read1</th><th scope=col>Read2</th><th scope=col>bw_file</th></tr></thead>\n",
       "<tbody>\n",
       "\t<tr><td>SRR769531_bin_12                                                                                                                             </td><td>88.12                                                                                                                                        </td><td>0.34                                                                                                                                         </td><td>100.00                                                                                                                                       </td><td>k__Bacteria;p__Firmicutes;c__Clostridia;o__Clostridiales                                                                                     </td><td>SRR769531                                                                                                                                    </td><td>/ebio/abt3_projects/databases_no-backup/DeepMAsED/MAG_datasets/AlmeidaA-2019/mags/SRR769531_bin.12.fa.gz                                     </td><td>/ebio/abt3_projects/databases_no-backup/DeepMAsED/MAG_datasets/AlmeidaA-2019/LLMGQC/final/SRR769531/R1_final.fq.gz                           </td><td>/ebio/abt3_projects/databases_no-backup/DeepMAsED/MAG_datasets/AlmeidaA-2019/LLMGQC/final/SRR769531/R2_final.fq.gz                           </td><td>/ebio/abt3_projects/databases_no-backup/DeepMAsED/MAG_datasets/DeepLIFT/190815//AlmeidaA2019_samples-n143_MAGs-n1519/SRR769531_bin_12/unk.bw </td></tr>\n",
       "\t<tr><td>SRR769531_bin_50                                                                                                                             </td><td>95.54                                                                                                                                        </td><td>3.62                                                                                                                                         </td><td> 11.11                                                                                                                                       </td><td>k__Bacteria;p__Firmicutes;c__Clostridia;o__Clostridiales;f__Lachnospiraceae;g__Lachnobacterium                                               </td><td>SRR769531                                                                                                                                    </td><td>/ebio/abt3_projects/databases_no-backup/DeepMAsED/MAG_datasets/AlmeidaA-2019/mags/SRR769531_bin.50.fa.gz                                     </td><td>/ebio/abt3_projects/databases_no-backup/DeepMAsED/MAG_datasets/AlmeidaA-2019/LLMGQC/final/SRR769531/R1_final.fq.gz                           </td><td>/ebio/abt3_projects/databases_no-backup/DeepMAsED/MAG_datasets/AlmeidaA-2019/LLMGQC/final/SRR769531/R2_final.fq.gz                           </td><td>/ebio/abt3_projects/databases_no-backup/DeepMAsED/MAG_datasets/DeepLIFT/190815//AlmeidaA2019_samples-n143_MAGs-n1519/SRR769531_bin_50/unk.bw </td></tr>\n",
       "\t<tr><td>ERR1620339_bin_53                                                                                                                            </td><td>75.03                                                                                                                                        </td><td>2.08                                                                                                                                         </td><td> 27.27                                                                                                                                       </td><td>k__Bacteria;p__Bacteroidetes;c__Bacteroidia;o__Bacteroidales;f__Bacteroidaceae;g__Bacteroides;s__Bacteroides_fragilis                        </td><td>ERR1620339                                                                                                                                   </td><td>/ebio/abt3_projects/databases_no-backup/DeepMAsED/MAG_datasets/AlmeidaA-2019/mags/ERR1620339_bin.53.fa.gz                                    </td><td>/ebio/abt3_projects/databases_no-backup/DeepMAsED/MAG_datasets/AlmeidaA-2019/LLMGQC/final/ERR1620339/R1_final.fq.gz                          </td><td>/ebio/abt3_projects/databases_no-backup/DeepMAsED/MAG_datasets/AlmeidaA-2019/LLMGQC/final/ERR1620339/R2_final.fq.gz                          </td><td>/ebio/abt3_projects/databases_no-backup/DeepMAsED/MAG_datasets/DeepLIFT/190815//AlmeidaA2019_samples-n143_MAGs-n1519/ERR1620339_bin_53/unk.bw</td></tr>\n",
       "</tbody>\n",
       "</table>\n"
      ],
      "text/latex": [
       "\\begin{tabular}{r|llllllllll}\n",
       " Taxon & Completeness & Contamination & Strain\\_heterogeneity & CheckM\\_lineage & Sample & Fasta & Read1 & Read2 & bw\\_file\\\\\n",
       "\\hline\n",
       "\t SRR769531\\_bin\\_12                                                                                                                                        & 88.12                                                                                                                                                       & 0.34                                                                                                                                                        & 100.00                                                                                                                                                      & k\\_\\_Bacteria;p\\_\\_Firmicutes;c\\_\\_Clostridia;o\\_\\_Clostridiales                                                                                    & SRR769531                                                                                                                                                   & /ebio/abt3\\_projects/databases\\_no-backup/DeepMAsED/MAG\\_datasets/AlmeidaA-2019/mags/SRR769531\\_bin.12.fa.gz                                            & /ebio/abt3\\_projects/databases\\_no-backup/DeepMAsED/MAG\\_datasets/AlmeidaA-2019/LLMGQC/final/SRR769531/R1\\_final.fq.gz                                  & /ebio/abt3\\_projects/databases\\_no-backup/DeepMAsED/MAG\\_datasets/AlmeidaA-2019/LLMGQC/final/SRR769531/R2\\_final.fq.gz                                  & /ebio/abt3\\_projects/databases\\_no-backup/DeepMAsED/MAG\\_datasets/DeepLIFT/190815//AlmeidaA2019\\_samples-n143\\_MAGs-n1519/SRR769531\\_bin\\_12/unk.bw \\\\\n",
       "\t SRR769531\\_bin\\_50                                                                                                                                        & 95.54                                                                                                                                                       & 3.62                                                                                                                                                        &  11.11                                                                                                                                                      & k\\_\\_Bacteria;p\\_\\_Firmicutes;c\\_\\_Clostridia;o\\_\\_Clostridiales;f\\_\\_Lachnospiraceae;g\\_\\_Lachnobacterium                                      & SRR769531                                                                                                                                                   & /ebio/abt3\\_projects/databases\\_no-backup/DeepMAsED/MAG\\_datasets/AlmeidaA-2019/mags/SRR769531\\_bin.50.fa.gz                                            & /ebio/abt3\\_projects/databases\\_no-backup/DeepMAsED/MAG\\_datasets/AlmeidaA-2019/LLMGQC/final/SRR769531/R1\\_final.fq.gz                                  & /ebio/abt3\\_projects/databases\\_no-backup/DeepMAsED/MAG\\_datasets/AlmeidaA-2019/LLMGQC/final/SRR769531/R2\\_final.fq.gz                                  & /ebio/abt3\\_projects/databases\\_no-backup/DeepMAsED/MAG\\_datasets/DeepLIFT/190815//AlmeidaA2019\\_samples-n143\\_MAGs-n1519/SRR769531\\_bin\\_50/unk.bw \\\\\n",
       "\t ERR1620339\\_bin\\_53                                                                                                                                       & 75.03                                                                                                                                                       & 2.08                                                                                                                                                        &  27.27                                                                                                                                                      & k\\_\\_Bacteria;p\\_\\_Bacteroidetes;c\\_\\_Bacteroidia;o\\_\\_Bacteroidales;f\\_\\_Bacteroidaceae;g\\_\\_Bacteroides;s\\_\\_Bacteroides\\_fragilis         & ERR1620339                                                                                                                                                  & /ebio/abt3\\_projects/databases\\_no-backup/DeepMAsED/MAG\\_datasets/AlmeidaA-2019/mags/ERR1620339\\_bin.53.fa.gz                                           & /ebio/abt3\\_projects/databases\\_no-backup/DeepMAsED/MAG\\_datasets/AlmeidaA-2019/LLMGQC/final/ERR1620339/R1\\_final.fq.gz                                 & /ebio/abt3\\_projects/databases\\_no-backup/DeepMAsED/MAG\\_datasets/AlmeidaA-2019/LLMGQC/final/ERR1620339/R2\\_final.fq.gz                                 & /ebio/abt3\\_projects/databases\\_no-backup/DeepMAsED/MAG\\_datasets/DeepLIFT/190815//AlmeidaA2019\\_samples-n143\\_MAGs-n1519/ERR1620339\\_bin\\_53/unk.bw\\\\\n",
       "\\end{tabular}\n"
      ],
      "text/markdown": [
       "\n",
       "Taxon | Completeness | Contamination | Strain_heterogeneity | CheckM_lineage | Sample | Fasta | Read1 | Read2 | bw_file | \n",
       "|---|---|---|\n",
       "| SRR769531_bin_12                                                                                                                              | 88.12                                                                                                                                         | 0.34                                                                                                                                          | 100.00                                                                                                                                        | k__Bacteria;p__Firmicutes;c__Clostridia;o__Clostridiales                                                                                      | SRR769531                                                                                                                                     | /ebio/abt3_projects/databases_no-backup/DeepMAsED/MAG_datasets/AlmeidaA-2019/mags/SRR769531_bin.12.fa.gz                                      | /ebio/abt3_projects/databases_no-backup/DeepMAsED/MAG_datasets/AlmeidaA-2019/LLMGQC/final/SRR769531/R1_final.fq.gz                            | /ebio/abt3_projects/databases_no-backup/DeepMAsED/MAG_datasets/AlmeidaA-2019/LLMGQC/final/SRR769531/R2_final.fq.gz                            | /ebio/abt3_projects/databases_no-backup/DeepMAsED/MAG_datasets/DeepLIFT/190815//AlmeidaA2019_samples-n143_MAGs-n1519/SRR769531_bin_12/unk.bw  | \n",
       "| SRR769531_bin_50                                                                                                                              | 95.54                                                                                                                                         | 3.62                                                                                                                                          |  11.11                                                                                                                                        | k__Bacteria;p__Firmicutes;c__Clostridia;o__Clostridiales;f__Lachnospiraceae;g__Lachnobacterium                                                | SRR769531                                                                                                                                     | /ebio/abt3_projects/databases_no-backup/DeepMAsED/MAG_datasets/AlmeidaA-2019/mags/SRR769531_bin.50.fa.gz                                      | /ebio/abt3_projects/databases_no-backup/DeepMAsED/MAG_datasets/AlmeidaA-2019/LLMGQC/final/SRR769531/R1_final.fq.gz                            | /ebio/abt3_projects/databases_no-backup/DeepMAsED/MAG_datasets/AlmeidaA-2019/LLMGQC/final/SRR769531/R2_final.fq.gz                            | /ebio/abt3_projects/databases_no-backup/DeepMAsED/MAG_datasets/DeepLIFT/190815//AlmeidaA2019_samples-n143_MAGs-n1519/SRR769531_bin_50/unk.bw  | \n",
       "| ERR1620339_bin_53                                                                                                                             | 75.03                                                                                                                                         | 2.08                                                                                                                                          |  27.27                                                                                                                                        | k__Bacteria;p__Bacteroidetes;c__Bacteroidia;o__Bacteroidales;f__Bacteroidaceae;g__Bacteroides;s__Bacteroides_fragilis                         | ERR1620339                                                                                                                                    | /ebio/abt3_projects/databases_no-backup/DeepMAsED/MAG_datasets/AlmeidaA-2019/mags/ERR1620339_bin.53.fa.gz                                     | /ebio/abt3_projects/databases_no-backup/DeepMAsED/MAG_datasets/AlmeidaA-2019/LLMGQC/final/ERR1620339/R1_final.fq.gz                           | /ebio/abt3_projects/databases_no-backup/DeepMAsED/MAG_datasets/AlmeidaA-2019/LLMGQC/final/ERR1620339/R2_final.fq.gz                           | /ebio/abt3_projects/databases_no-backup/DeepMAsED/MAG_datasets/DeepLIFT/190815//AlmeidaA2019_samples-n143_MAGs-n1519/ERR1620339_bin_53/unk.bw | \n",
       "\n",
       "\n"
      ],
      "text/plain": [
       "  Taxon             Completeness Contamination Strain_heterogeneity\n",
       "1 SRR769531_bin_12  88.12        0.34          100.00              \n",
       "2 SRR769531_bin_50  95.54        3.62           11.11              \n",
       "3 ERR1620339_bin_53 75.03        2.08           27.27              \n",
       "  CheckM_lineage                                                                                                       \n",
       "1 k__Bacteria;p__Firmicutes;c__Clostridia;o__Clostridiales                                                             \n",
       "2 k__Bacteria;p__Firmicutes;c__Clostridia;o__Clostridiales;f__Lachnospiraceae;g__Lachnobacterium                       \n",
       "3 k__Bacteria;p__Bacteroidetes;c__Bacteroidia;o__Bacteroidales;f__Bacteroidaceae;g__Bacteroides;s__Bacteroides_fragilis\n",
       "  Sample    \n",
       "1 SRR769531 \n",
       "2 SRR769531 \n",
       "3 ERR1620339\n",
       "  Fasta                                                                                                    \n",
       "1 /ebio/abt3_projects/databases_no-backup/DeepMAsED/MAG_datasets/AlmeidaA-2019/mags/SRR769531_bin.12.fa.gz \n",
       "2 /ebio/abt3_projects/databases_no-backup/DeepMAsED/MAG_datasets/AlmeidaA-2019/mags/SRR769531_bin.50.fa.gz \n",
       "3 /ebio/abt3_projects/databases_no-backup/DeepMAsED/MAG_datasets/AlmeidaA-2019/mags/ERR1620339_bin.53.fa.gz\n",
       "  Read1                                                                                                              \n",
       "1 /ebio/abt3_projects/databases_no-backup/DeepMAsED/MAG_datasets/AlmeidaA-2019/LLMGQC/final/SRR769531/R1_final.fq.gz \n",
       "2 /ebio/abt3_projects/databases_no-backup/DeepMAsED/MAG_datasets/AlmeidaA-2019/LLMGQC/final/SRR769531/R1_final.fq.gz \n",
       "3 /ebio/abt3_projects/databases_no-backup/DeepMAsED/MAG_datasets/AlmeidaA-2019/LLMGQC/final/ERR1620339/R1_final.fq.gz\n",
       "  Read2                                                                                                              \n",
       "1 /ebio/abt3_projects/databases_no-backup/DeepMAsED/MAG_datasets/AlmeidaA-2019/LLMGQC/final/SRR769531/R2_final.fq.gz \n",
       "2 /ebio/abt3_projects/databases_no-backup/DeepMAsED/MAG_datasets/AlmeidaA-2019/LLMGQC/final/SRR769531/R2_final.fq.gz \n",
       "3 /ebio/abt3_projects/databases_no-backup/DeepMAsED/MAG_datasets/AlmeidaA-2019/LLMGQC/final/ERR1620339/R2_final.fq.gz\n",
       "  bw_file                                                                                                                                      \n",
       "1 /ebio/abt3_projects/databases_no-backup/DeepMAsED/MAG_datasets/DeepLIFT/190815//AlmeidaA2019_samples-n143_MAGs-n1519/SRR769531_bin_12/unk.bw \n",
       "2 /ebio/abt3_projects/databases_no-backup/DeepMAsED/MAG_datasets/DeepLIFT/190815//AlmeidaA2019_samples-n143_MAGs-n1519/SRR769531_bin_50/unk.bw \n",
       "3 /ebio/abt3_projects/databases_no-backup/DeepMAsED/MAG_datasets/DeepLIFT/190815//AlmeidaA2019_samples-n143_MAGs-n1519/ERR1620339_bin_53/unk.bw"
      ]
     },
     "metadata": {},
     "output_type": "display_data"
    }
   ],
   "source": [
    "AA_contig_files= AA_MAGs_metadata %>%\n",
    "    mutate(Taxon = gsub('\\\\.', '_', Taxon)) %>%\n",
    "    inner_join(AA_MAGs, c('Taxon'='MAG'))\n",
    "\n",
    "AA_contig_files %>% nrow %>% print\n",
    "AA_contig_files %>% head(n=3)"
   ]
  },
  {
   "cell_type": "code",
   "execution_count": 72,
   "metadata": {
    "ExecuteTime": {
     "end_time": "2019-08-15T11:21:09.853110Z",
     "start_time": "2019-08-15T11:21:08.087Z"
    }
   },
   "outputs": [
    {
     "data": {
      "text/html": [
       "14"
      ],
      "text/latex": [
       "14"
      ],
      "text/markdown": [
       "14"
      ],
      "text/plain": [
       "[1] 14"
      ]
     },
     "metadata": {},
     "output_type": "display_data"
    },
    {
     "data": {
      "text/html": [
       "<ol class=list-inline>\n",
       "\t<li>'/ebio/abt3_projects/databases_no-backup/DeepMAsED/MAG_datasets/DeepLIFT/190815//AlmeidaA2019_samples-n143_MAGs-n1519/SRR769531_bin_12/SRR769531_bin.12.fa.gz'</li>\n",
       "\t<li>'/ebio/abt3_projects/databases_no-backup/DeepMAsED/MAG_datasets/DeepLIFT/190815//AlmeidaA2019_samples-n143_MAGs-n1519/SRR769531_bin_50/SRR769531_bin.50.fa.gz'</li>\n",
       "\t<li>'/ebio/abt3_projects/databases_no-backup/DeepMAsED/MAG_datasets/DeepLIFT/190815//AlmeidaA2019_samples-n143_MAGs-n1519/ERR1620339_bin_53/ERR1620339_bin.53.fa.gz'</li>\n",
       "</ol>\n"
      ],
      "text/latex": [
       "\\begin{enumerate*}\n",
       "\\item '/ebio/abt3\\_projects/databases\\_no-backup/DeepMAsED/MAG\\_datasets/DeepLIFT/190815//AlmeidaA2019\\_samples-n143\\_MAGs-n1519/SRR769531\\_bin\\_12/SRR769531\\_bin.12.fa.gz'\n",
       "\\item '/ebio/abt3\\_projects/databases\\_no-backup/DeepMAsED/MAG\\_datasets/DeepLIFT/190815//AlmeidaA2019\\_samples-n143\\_MAGs-n1519/SRR769531\\_bin\\_50/SRR769531\\_bin.50.fa.gz'\n",
       "\\item '/ebio/abt3\\_projects/databases\\_no-backup/DeepMAsED/MAG\\_datasets/DeepLIFT/190815//AlmeidaA2019\\_samples-n143\\_MAGs-n1519/ERR1620339\\_bin\\_53/ERR1620339\\_bin.53.fa.gz'\n",
       "\\end{enumerate*}\n"
      ],
      "text/markdown": [
       "1. '/ebio/abt3_projects/databases_no-backup/DeepMAsED/MAG_datasets/DeepLIFT/190815//AlmeidaA2019_samples-n143_MAGs-n1519/SRR769531_bin_12/SRR769531_bin.12.fa.gz'\n",
       "2. '/ebio/abt3_projects/databases_no-backup/DeepMAsED/MAG_datasets/DeepLIFT/190815//AlmeidaA2019_samples-n143_MAGs-n1519/SRR769531_bin_50/SRR769531_bin.50.fa.gz'\n",
       "3. '/ebio/abt3_projects/databases_no-backup/DeepMAsED/MAG_datasets/DeepLIFT/190815//AlmeidaA2019_samples-n143_MAGs-n1519/ERR1620339_bin_53/ERR1620339_bin.53.fa.gz'\n",
       "\n",
       "\n"
      ],
      "text/plain": [
       "[1] \"/ebio/abt3_projects/databases_no-backup/DeepMAsED/MAG_datasets/DeepLIFT/190815//AlmeidaA2019_samples-n143_MAGs-n1519/SRR769531_bin_12/SRR769531_bin.12.fa.gz\"  \n",
       "[2] \"/ebio/abt3_projects/databases_no-backup/DeepMAsED/MAG_datasets/DeepLIFT/190815//AlmeidaA2019_samples-n143_MAGs-n1519/SRR769531_bin_50/SRR769531_bin.50.fa.gz\"  \n",
       "[3] \"/ebio/abt3_projects/databases_no-backup/DeepMAsED/MAG_datasets/DeepLIFT/190815//AlmeidaA2019_samples-n143_MAGs-n1519/ERR1620339_bin_53/ERR1620339_bin.53.fa.gz\""
      ]
     },
     "metadata": {},
     "output_type": "display_data"
    }
   ],
   "source": [
    "# copying contig files\n",
    "AA_contig_files_cp = mapply(cp_file, AA_contig_files$Fasta, dirname(as.character(AA_contig_files$bw_file)))\n",
    "AA_contig_files_cp %>% length\n",
    "AA_contig_files_cp %>% head(n=3)"
   ]
  },
  {
   "cell_type": "markdown",
   "metadata": {},
   "source": [
    "### PasolliE2019"
   ]
  },
  {
   "cell_type": "code",
   "execution_count": 73,
   "metadata": {
    "ExecuteTime": {
     "end_time": "2019-08-15T11:21:18.765314Z",
     "start_time": "2019-08-15T11:21:18.696Z"
    }
   },
   "outputs": [
    {
     "name": "stderr",
     "output_type": "stream",
     "text": [
      "Warning message:\n",
      "“Column `Taxon`/`MAG` joining character vector and factor, coercing into character vector”"
     ]
    },
    {
     "name": "stdout",
     "output_type": "stream",
     "text": [
      "[1] 14\n"
     ]
    },
    {
     "data": {
      "text/html": [
       "<table>\n",
       "<thead><tr><th scope=col>Taxon</th><th scope=col>Fasta</th><th scope=col>Sample</th><th scope=col>Read1</th><th scope=col>Read2</th><th scope=col>bw_file</th></tr></thead>\n",
       "<tbody>\n",
       "\t<tr><td>BackhedF_2015__SID282_B__bin_1                                                                                                                            </td><td>/ebio/abt3_projects/databases_no-backup/DeepMAsED/MAG_datasets/PasolliE-2019/all_MAGs/SGB_genome_fastas_part1/1814/BackhedF_2015__SID282_B__bin.1.fa.gz   </td><td>ERR525838                                                                                                                                                 </td><td>/ebio/abt3_projects/databases_no-backup/DeepMAsED/MAG_datasets/AlmeidaA-2019/LLMGQC/final/ERR525838/R1_final.fq.gz                                        </td><td>/ebio/abt3_projects/databases_no-backup/DeepMAsED/MAG_datasets/AlmeidaA-2019/LLMGQC/final/ERR525838/R2_final.fq.gz                                        </td><td>/ebio/abt3_projects/databases_no-backup/DeepMAsED/MAG_datasets/DeepLIFT/190815//Pasolli_mag/BackhedF_2015__SID282_B__bin_1/unk.bw                         </td></tr>\n",
       "\t<tr><td>ChengpingW_2017__AS82raw__bin_20                                                                                                                          </td><td>/ebio/abt3_projects/databases_no-backup/DeepMAsED/MAG_datasets/PasolliE-2019/all_MAGs/SGB_genome_fastas_part1/1829/ChengpingW_2017__AS82raw__bin.20.fa.gz </td><td>SRR5279247                                                                                                                                                </td><td>/ebio/abt3_projects/databases_no-backup/DeepMAsED/MAG_datasets/AlmeidaA-2019/LLMGQC/final/SRR5279247/R1_final.fq.gz                                       </td><td>/ebio/abt3_projects/databases_no-backup/DeepMAsED/MAG_datasets/AlmeidaA-2019/LLMGQC/final/SRR5279247/R2_final.fq.gz                                       </td><td>/ebio/abt3_projects/databases_no-backup/DeepMAsED/MAG_datasets/DeepLIFT/190815//Pasolli_mag/ChengpingW_2017__AS82raw__bin_20/unk.bw                       </td></tr>\n",
       "\t<tr><td>HeQ_2017__SZAXPI029568_81__bin_42                                                                                                                         </td><td>/ebio/abt3_projects/databases_no-backup/DeepMAsED/MAG_datasets/PasolliE-2019/all_MAGs/SGB_genome_fastas_part1/1855/HeQ_2017__SZAXPI029568-81__bin.42.fa.gz</td><td>ERR1620339                                                                                                                                                </td><td>/ebio/abt3_projects/databases_no-backup/DeepMAsED/MAG_datasets/AlmeidaA-2019/LLMGQC/final/ERR1620339/R1_final.fq.gz                                       </td><td>/ebio/abt3_projects/databases_no-backup/DeepMAsED/MAG_datasets/AlmeidaA-2019/LLMGQC/final/ERR1620339/R2_final.fq.gz                                       </td><td>/ebio/abt3_projects/databases_no-backup/DeepMAsED/MAG_datasets/DeepLIFT/190815//Pasolli_mag/HeQ_2017__SZAXPI029568_81__bin_42/unk.bw                      </td></tr>\n",
       "</tbody>\n",
       "</table>\n"
      ],
      "text/latex": [
       "\\begin{tabular}{r|llllll}\n",
       " Taxon & Fasta & Sample & Read1 & Read2 & bw\\_file\\\\\n",
       "\\hline\n",
       "\t BackhedF\\_2015\\_\\_SID282\\_B\\_\\_bin\\_1                                                                                                                                         & /ebio/abt3\\_projects/databases\\_no-backup/DeepMAsED/MAG\\_datasets/PasolliE-2019/all\\_MAGs/SGB\\_genome\\_fastas\\_part1/1814/BackhedF\\_2015\\_\\_SID282\\_B\\_\\_bin.1.fa.gz    & ERR525838                                                                                                                                                                            & /ebio/abt3\\_projects/databases\\_no-backup/DeepMAsED/MAG\\_datasets/AlmeidaA-2019/LLMGQC/final/ERR525838/R1\\_final.fq.gz                                                           & /ebio/abt3\\_projects/databases\\_no-backup/DeepMAsED/MAG\\_datasets/AlmeidaA-2019/LLMGQC/final/ERR525838/R2\\_final.fq.gz                                                           & /ebio/abt3\\_projects/databases\\_no-backup/DeepMAsED/MAG\\_datasets/DeepLIFT/190815//Pasolli\\_mag/BackhedF\\_2015\\_\\_SID282\\_B\\_\\_bin\\_1/unk.bw                             \\\\\n",
       "\t ChengpingW\\_2017\\_\\_AS82raw\\_\\_bin\\_20                                                                                                                                       & /ebio/abt3\\_projects/databases\\_no-backup/DeepMAsED/MAG\\_datasets/PasolliE-2019/all\\_MAGs/SGB\\_genome\\_fastas\\_part1/1829/ChengpingW\\_2017\\_\\_AS82raw\\_\\_bin.20.fa.gz  & SRR5279247                                                                                                                                                                         & /ebio/abt3\\_projects/databases\\_no-backup/DeepMAsED/MAG\\_datasets/AlmeidaA-2019/LLMGQC/final/SRR5279247/R1\\_final.fq.gz                                                        & /ebio/abt3\\_projects/databases\\_no-backup/DeepMAsED/MAG\\_datasets/AlmeidaA-2019/LLMGQC/final/SRR5279247/R2\\_final.fq.gz                                                        & /ebio/abt3\\_projects/databases\\_no-backup/DeepMAsED/MAG\\_datasets/DeepLIFT/190815//Pasolli\\_mag/ChengpingW\\_2017\\_\\_AS82raw\\_\\_bin\\_20/unk.bw                           \\\\\n",
       "\t HeQ\\_2017\\_\\_SZAXPI029568\\_81\\_\\_bin\\_42                                                                                                                                    & /ebio/abt3\\_projects/databases\\_no-backup/DeepMAsED/MAG\\_datasets/PasolliE-2019/all\\_MAGs/SGB\\_genome\\_fastas\\_part1/1855/HeQ\\_2017\\_\\_SZAXPI029568-81\\_\\_bin.42.fa.gz & ERR1620339                                                                                                                                                                         & /ebio/abt3\\_projects/databases\\_no-backup/DeepMAsED/MAG\\_datasets/AlmeidaA-2019/LLMGQC/final/ERR1620339/R1\\_final.fq.gz                                                        & /ebio/abt3\\_projects/databases\\_no-backup/DeepMAsED/MAG\\_datasets/AlmeidaA-2019/LLMGQC/final/ERR1620339/R2\\_final.fq.gz                                                        & /ebio/abt3\\_projects/databases\\_no-backup/DeepMAsED/MAG\\_datasets/DeepLIFT/190815//Pasolli\\_mag/HeQ\\_2017\\_\\_SZAXPI029568\\_81\\_\\_bin\\_42/unk.bw                        \\\\\n",
       "\\end{tabular}\n"
      ],
      "text/markdown": [
       "\n",
       "Taxon | Fasta | Sample | Read1 | Read2 | bw_file | \n",
       "|---|---|---|\n",
       "| BackhedF_2015__SID282_B__bin_1                                                                                                                             | /ebio/abt3_projects/databases_no-backup/DeepMAsED/MAG_datasets/PasolliE-2019/all_MAGs/SGB_genome_fastas_part1/1814/BackhedF_2015__SID282_B__bin.1.fa.gz    | ERR525838                                                                                                                                                  | /ebio/abt3_projects/databases_no-backup/DeepMAsED/MAG_datasets/AlmeidaA-2019/LLMGQC/final/ERR525838/R1_final.fq.gz                                         | /ebio/abt3_projects/databases_no-backup/DeepMAsED/MAG_datasets/AlmeidaA-2019/LLMGQC/final/ERR525838/R2_final.fq.gz                                         | /ebio/abt3_projects/databases_no-backup/DeepMAsED/MAG_datasets/DeepLIFT/190815//Pasolli_mag/BackhedF_2015__SID282_B__bin_1/unk.bw                          | \n",
       "| ChengpingW_2017__AS82raw__bin_20                                                                                                                           | /ebio/abt3_projects/databases_no-backup/DeepMAsED/MAG_datasets/PasolliE-2019/all_MAGs/SGB_genome_fastas_part1/1829/ChengpingW_2017__AS82raw__bin.20.fa.gz  | SRR5279247                                                                                                                                                 | /ebio/abt3_projects/databases_no-backup/DeepMAsED/MAG_datasets/AlmeidaA-2019/LLMGQC/final/SRR5279247/R1_final.fq.gz                                        | /ebio/abt3_projects/databases_no-backup/DeepMAsED/MAG_datasets/AlmeidaA-2019/LLMGQC/final/SRR5279247/R2_final.fq.gz                                        | /ebio/abt3_projects/databases_no-backup/DeepMAsED/MAG_datasets/DeepLIFT/190815//Pasolli_mag/ChengpingW_2017__AS82raw__bin_20/unk.bw                        | \n",
       "| HeQ_2017__SZAXPI029568_81__bin_42                                                                                                                          | /ebio/abt3_projects/databases_no-backup/DeepMAsED/MAG_datasets/PasolliE-2019/all_MAGs/SGB_genome_fastas_part1/1855/HeQ_2017__SZAXPI029568-81__bin.42.fa.gz | ERR1620339                                                                                                                                                 | /ebio/abt3_projects/databases_no-backup/DeepMAsED/MAG_datasets/AlmeidaA-2019/LLMGQC/final/ERR1620339/R1_final.fq.gz                                        | /ebio/abt3_projects/databases_no-backup/DeepMAsED/MAG_datasets/AlmeidaA-2019/LLMGQC/final/ERR1620339/R2_final.fq.gz                                        | /ebio/abt3_projects/databases_no-backup/DeepMAsED/MAG_datasets/DeepLIFT/190815//Pasolli_mag/HeQ_2017__SZAXPI029568_81__bin_42/unk.bw                       | \n",
       "\n",
       "\n"
      ],
      "text/plain": [
       "  Taxon                            \n",
       "1 BackhedF_2015__SID282_B__bin_1   \n",
       "2 ChengpingW_2017__AS82raw__bin_20 \n",
       "3 HeQ_2017__SZAXPI029568_81__bin_42\n",
       "  Fasta                                                                                                                                                     \n",
       "1 /ebio/abt3_projects/databases_no-backup/DeepMAsED/MAG_datasets/PasolliE-2019/all_MAGs/SGB_genome_fastas_part1/1814/BackhedF_2015__SID282_B__bin.1.fa.gz   \n",
       "2 /ebio/abt3_projects/databases_no-backup/DeepMAsED/MAG_datasets/PasolliE-2019/all_MAGs/SGB_genome_fastas_part1/1829/ChengpingW_2017__AS82raw__bin.20.fa.gz \n",
       "3 /ebio/abt3_projects/databases_no-backup/DeepMAsED/MAG_datasets/PasolliE-2019/all_MAGs/SGB_genome_fastas_part1/1855/HeQ_2017__SZAXPI029568-81__bin.42.fa.gz\n",
       "  Sample    \n",
       "1 ERR525838 \n",
       "2 SRR5279247\n",
       "3 ERR1620339\n",
       "  Read1                                                                                                              \n",
       "1 /ebio/abt3_projects/databases_no-backup/DeepMAsED/MAG_datasets/AlmeidaA-2019/LLMGQC/final/ERR525838/R1_final.fq.gz \n",
       "2 /ebio/abt3_projects/databases_no-backup/DeepMAsED/MAG_datasets/AlmeidaA-2019/LLMGQC/final/SRR5279247/R1_final.fq.gz\n",
       "3 /ebio/abt3_projects/databases_no-backup/DeepMAsED/MAG_datasets/AlmeidaA-2019/LLMGQC/final/ERR1620339/R1_final.fq.gz\n",
       "  Read2                                                                                                              \n",
       "1 /ebio/abt3_projects/databases_no-backup/DeepMAsED/MAG_datasets/AlmeidaA-2019/LLMGQC/final/ERR525838/R2_final.fq.gz \n",
       "2 /ebio/abt3_projects/databases_no-backup/DeepMAsED/MAG_datasets/AlmeidaA-2019/LLMGQC/final/SRR5279247/R2_final.fq.gz\n",
       "3 /ebio/abt3_projects/databases_no-backup/DeepMAsED/MAG_datasets/AlmeidaA-2019/LLMGQC/final/ERR1620339/R2_final.fq.gz\n",
       "  bw_file                                                                                                                             \n",
       "1 /ebio/abt3_projects/databases_no-backup/DeepMAsED/MAG_datasets/DeepLIFT/190815//Pasolli_mag/BackhedF_2015__SID282_B__bin_1/unk.bw   \n",
       "2 /ebio/abt3_projects/databases_no-backup/DeepMAsED/MAG_datasets/DeepLIFT/190815//Pasolli_mag/ChengpingW_2017__AS82raw__bin_20/unk.bw \n",
       "3 /ebio/abt3_projects/databases_no-backup/DeepMAsED/MAG_datasets/DeepLIFT/190815//Pasolli_mag/HeQ_2017__SZAXPI029568_81__bin_42/unk.bw"
      ]
     },
     "metadata": {},
     "output_type": "display_data"
    }
   ],
   "source": [
    "PE_contig_files = PE_MAGs_metadata %>%\n",
    "    mutate(Taxon = gsub('[-.]', '_', Taxon)) %>%\n",
    "    inner_join(PE_MAGs, c('Taxon'='MAG'))\n",
    "\n",
    "PE_contig_files %>% nrow %>% print\n",
    "PE_contig_files %>% head(n=3)"
   ]
  },
  {
   "cell_type": "code",
   "execution_count": 74,
   "metadata": {
    "ExecuteTime": {
     "end_time": "2019-08-15T11:21:34.534312Z",
     "start_time": "2019-08-15T11:21:32.871Z"
    }
   },
   "outputs": [
    {
     "data": {
      "text/html": [
       "14"
      ],
      "text/latex": [
       "14"
      ],
      "text/markdown": [
       "14"
      ],
      "text/plain": [
       "[1] 14"
      ]
     },
     "metadata": {},
     "output_type": "display_data"
    },
    {
     "data": {
      "text/html": [
       "<ol class=list-inline>\n",
       "\t<li>'/ebio/abt3_projects/databases_no-backup/DeepMAsED/MAG_datasets/DeepLIFT/190815//Pasolli_mag/BackhedF_2015__SID282_B__bin_1/BackhedF_2015__SID282_B__bin.1.fa.gz'</li>\n",
       "\t<li>'/ebio/abt3_projects/databases_no-backup/DeepMAsED/MAG_datasets/DeepLIFT/190815//Pasolli_mag/ChengpingW_2017__AS82raw__bin_20/ChengpingW_2017__AS82raw__bin.20.fa.gz'</li>\n",
       "\t<li>'/ebio/abt3_projects/databases_no-backup/DeepMAsED/MAG_datasets/DeepLIFT/190815//Pasolli_mag/HeQ_2017__SZAXPI029568_81__bin_42/HeQ_2017__SZAXPI029568-81__bin.42.fa.gz'</li>\n",
       "</ol>\n"
      ],
      "text/latex": [
       "\\begin{enumerate*}\n",
       "\\item '/ebio/abt3\\_projects/databases\\_no-backup/DeepMAsED/MAG\\_datasets/DeepLIFT/190815//Pasolli\\_mag/BackhedF\\_2015\\_\\_SID282\\_B\\_\\_bin\\_1/BackhedF\\_2015\\_\\_SID282\\_B\\_\\_bin.1.fa.gz'\n",
       "\\item '/ebio/abt3\\_projects/databases\\_no-backup/DeepMAsED/MAG\\_datasets/DeepLIFT/190815//Pasolli\\_mag/ChengpingW\\_2017\\_\\_AS82raw\\_\\_bin\\_20/ChengpingW\\_2017\\_\\_AS82raw\\_\\_bin.20.fa.gz'\n",
       "\\item '/ebio/abt3\\_projects/databases\\_no-backup/DeepMAsED/MAG\\_datasets/DeepLIFT/190815//Pasolli\\_mag/HeQ\\_2017\\_\\_SZAXPI029568\\_81\\_\\_bin\\_42/HeQ\\_2017\\_\\_SZAXPI029568-81\\_\\_bin.42.fa.gz'\n",
       "\\end{enumerate*}\n"
      ],
      "text/markdown": [
       "1. '/ebio/abt3_projects/databases_no-backup/DeepMAsED/MAG_datasets/DeepLIFT/190815//Pasolli_mag/BackhedF_2015__SID282_B__bin_1/BackhedF_2015__SID282_B__bin.1.fa.gz'\n",
       "2. '/ebio/abt3_projects/databases_no-backup/DeepMAsED/MAG_datasets/DeepLIFT/190815//Pasolli_mag/ChengpingW_2017__AS82raw__bin_20/ChengpingW_2017__AS82raw__bin.20.fa.gz'\n",
       "3. '/ebio/abt3_projects/databases_no-backup/DeepMAsED/MAG_datasets/DeepLIFT/190815//Pasolli_mag/HeQ_2017__SZAXPI029568_81__bin_42/HeQ_2017__SZAXPI029568-81__bin.42.fa.gz'\n",
       "\n",
       "\n"
      ],
      "text/plain": [
       "[1] \"/ebio/abt3_projects/databases_no-backup/DeepMAsED/MAG_datasets/DeepLIFT/190815//Pasolli_mag/BackhedF_2015__SID282_B__bin_1/BackhedF_2015__SID282_B__bin.1.fa.gz\"      \n",
       "[2] \"/ebio/abt3_projects/databases_no-backup/DeepMAsED/MAG_datasets/DeepLIFT/190815//Pasolli_mag/ChengpingW_2017__AS82raw__bin_20/ChengpingW_2017__AS82raw__bin.20.fa.gz\"  \n",
       "[3] \"/ebio/abt3_projects/databases_no-backup/DeepMAsED/MAG_datasets/DeepLIFT/190815//Pasolli_mag/HeQ_2017__SZAXPI029568_81__bin_42/HeQ_2017__SZAXPI029568-81__bin.42.fa.gz\""
      ]
     },
     "metadata": {},
     "output_type": "display_data"
    }
   ],
   "source": [
    "# copying contig files\n",
    "PE_contig_files_cp = mapply(cp_file, PE_contig_files$Fasta, dirname(as.character(PE_contig_files$bw_file)))\n",
    "PE_contig_files_cp %>% length\n",
    "PE_contig_files_cp %>% head(n=3)"
   ]
  },
  {
   "cell_type": "markdown",
   "metadata": {},
   "source": [
    "## BAM files\n",
    "\n",
    "* Symlinking bam files for relevant MAGs\n",
    "  * both `.bam` and `.bam.bai` files"
   ]
  },
  {
   "cell_type": "markdown",
   "metadata": {},
   "source": [
    "### AlmeidA2019"
   ]
  },
  {
   "cell_type": "code",
   "execution_count": 56,
   "metadata": {
    "ExecuteTime": {
     "end_time": "2019-08-15T11:13:05.265221Z",
     "start_time": "2019-08-15T11:13:04.706Z"
    }
   },
   "outputs": [
    {
     "name": "stderr",
     "output_type": "stream",
     "text": [
      "Warning message:\n",
      "“Column `MAG` joining factors with different levels, coercing to character vector”"
     ]
    },
    {
     "name": "stdout",
     "output_type": "stream",
     "text": [
      "[1] 14\n"
     ]
    },
    {
     "data": {
      "text/html": [
       "<table>\n",
       "<thead><tr><th scope=col>MAG</th><th scope=col>File</th><th scope=col>bai_file</th><th scope=col>bw_file</th></tr></thead>\n",
       "<tbody>\n",
       "\t<tr><td>ERR1190625_bin_12                                                                                                                            </td><td>/ebio/abt3_projects/databases_no-backup/DeepMAsED/MAG_datasets/AlmeidaA-2019/samples_n143_MAG-feats/map//ERR1190625_bin_12/ERR1190625.bam    </td><td>/ebio/abt3_projects/databases_no-backup/DeepMAsED/MAG_datasets/AlmeidaA-2019/samples_n143_MAG-feats/map//ERR1190625_bin_12/ERR1190625.bam.bai</td><td>/ebio/abt3_projects/databases_no-backup/DeepMAsED/MAG_datasets/DeepLIFT/190815//AlmeidaA2019_samples-n143_MAGs-n1519/ERR1190625_bin_12/unk.bw</td></tr>\n",
       "\t<tr><td>ERR1620339_bin_24                                                                                                                            </td><td>/ebio/abt3_projects/databases_no-backup/DeepMAsED/MAG_datasets/AlmeidaA-2019/samples_n143_MAG-feats/map//ERR1620339_bin_24/ERR1620339.bam    </td><td>/ebio/abt3_projects/databases_no-backup/DeepMAsED/MAG_datasets/AlmeidaA-2019/samples_n143_MAG-feats/map//ERR1620339_bin_24/ERR1620339.bam.bai</td><td>/ebio/abt3_projects/databases_no-backup/DeepMAsED/MAG_datasets/DeepLIFT/190815//AlmeidaA2019_samples-n143_MAGs-n1519/ERR1620339_bin_24/unk.bw</td></tr>\n",
       "\t<tr><td>ERR1620339_bin_53                                                                                                                            </td><td>/ebio/abt3_projects/databases_no-backup/DeepMAsED/MAG_datasets/AlmeidaA-2019/samples_n143_MAG-feats/map//ERR1620339_bin_53/ERR1620339.bam    </td><td>/ebio/abt3_projects/databases_no-backup/DeepMAsED/MAG_datasets/AlmeidaA-2019/samples_n143_MAG-feats/map//ERR1620339_bin_53/ERR1620339.bam.bai</td><td>/ebio/abt3_projects/databases_no-backup/DeepMAsED/MAG_datasets/DeepLIFT/190815//AlmeidaA2019_samples-n143_MAGs-n1519/ERR1620339_bin_53/unk.bw</td></tr>\n",
       "</tbody>\n",
       "</table>\n"
      ],
      "text/latex": [
       "\\begin{tabular}{r|llll}\n",
       " MAG & File & bai\\_file & bw\\_file\\\\\n",
       "\\hline\n",
       "\t ERR1190625\\_bin\\_12                                                                                                                                       & /ebio/abt3\\_projects/databases\\_no-backup/DeepMAsED/MAG\\_datasets/AlmeidaA-2019/samples\\_n143\\_MAG-feats/map//ERR1190625\\_bin\\_12/ERR1190625.bam     & /ebio/abt3\\_projects/databases\\_no-backup/DeepMAsED/MAG\\_datasets/AlmeidaA-2019/samples\\_n143\\_MAG-feats/map//ERR1190625\\_bin\\_12/ERR1190625.bam.bai & /ebio/abt3\\_projects/databases\\_no-backup/DeepMAsED/MAG\\_datasets/DeepLIFT/190815//AlmeidaA2019\\_samples-n143\\_MAGs-n1519/ERR1190625\\_bin\\_12/unk.bw\\\\\n",
       "\t ERR1620339\\_bin\\_24                                                                                                                                       & /ebio/abt3\\_projects/databases\\_no-backup/DeepMAsED/MAG\\_datasets/AlmeidaA-2019/samples\\_n143\\_MAG-feats/map//ERR1620339\\_bin\\_24/ERR1620339.bam     & /ebio/abt3\\_projects/databases\\_no-backup/DeepMAsED/MAG\\_datasets/AlmeidaA-2019/samples\\_n143\\_MAG-feats/map//ERR1620339\\_bin\\_24/ERR1620339.bam.bai & /ebio/abt3\\_projects/databases\\_no-backup/DeepMAsED/MAG\\_datasets/DeepLIFT/190815//AlmeidaA2019\\_samples-n143\\_MAGs-n1519/ERR1620339\\_bin\\_24/unk.bw\\\\\n",
       "\t ERR1620339\\_bin\\_53                                                                                                                                       & /ebio/abt3\\_projects/databases\\_no-backup/DeepMAsED/MAG\\_datasets/AlmeidaA-2019/samples\\_n143\\_MAG-feats/map//ERR1620339\\_bin\\_53/ERR1620339.bam     & /ebio/abt3\\_projects/databases\\_no-backup/DeepMAsED/MAG\\_datasets/AlmeidaA-2019/samples\\_n143\\_MAG-feats/map//ERR1620339\\_bin\\_53/ERR1620339.bam.bai & /ebio/abt3\\_projects/databases\\_no-backup/DeepMAsED/MAG\\_datasets/DeepLIFT/190815//AlmeidaA2019\\_samples-n143\\_MAGs-n1519/ERR1620339\\_bin\\_53/unk.bw\\\\\n",
       "\\end{tabular}\n"
      ],
      "text/markdown": [
       "\n",
       "MAG | File | bai_file | bw_file | \n",
       "|---|---|---|\n",
       "| ERR1190625_bin_12                                                                                                                             | /ebio/abt3_projects/databases_no-backup/DeepMAsED/MAG_datasets/AlmeidaA-2019/samples_n143_MAG-feats/map//ERR1190625_bin_12/ERR1190625.bam     | /ebio/abt3_projects/databases_no-backup/DeepMAsED/MAG_datasets/AlmeidaA-2019/samples_n143_MAG-feats/map//ERR1190625_bin_12/ERR1190625.bam.bai | /ebio/abt3_projects/databases_no-backup/DeepMAsED/MAG_datasets/DeepLIFT/190815//AlmeidaA2019_samples-n143_MAGs-n1519/ERR1190625_bin_12/unk.bw | \n",
       "| ERR1620339_bin_24                                                                                                                             | /ebio/abt3_projects/databases_no-backup/DeepMAsED/MAG_datasets/AlmeidaA-2019/samples_n143_MAG-feats/map//ERR1620339_bin_24/ERR1620339.bam     | /ebio/abt3_projects/databases_no-backup/DeepMAsED/MAG_datasets/AlmeidaA-2019/samples_n143_MAG-feats/map//ERR1620339_bin_24/ERR1620339.bam.bai | /ebio/abt3_projects/databases_no-backup/DeepMAsED/MAG_datasets/DeepLIFT/190815//AlmeidaA2019_samples-n143_MAGs-n1519/ERR1620339_bin_24/unk.bw | \n",
       "| ERR1620339_bin_53                                                                                                                             | /ebio/abt3_projects/databases_no-backup/DeepMAsED/MAG_datasets/AlmeidaA-2019/samples_n143_MAG-feats/map//ERR1620339_bin_53/ERR1620339.bam     | /ebio/abt3_projects/databases_no-backup/DeepMAsED/MAG_datasets/AlmeidaA-2019/samples_n143_MAG-feats/map//ERR1620339_bin_53/ERR1620339.bam.bai | /ebio/abt3_projects/databases_no-backup/DeepMAsED/MAG_datasets/DeepLIFT/190815//AlmeidaA2019_samples-n143_MAGs-n1519/ERR1620339_bin_53/unk.bw | \n",
       "\n",
       "\n"
      ],
      "text/plain": [
       "  MAG              \n",
       "1 ERR1190625_bin_12\n",
       "2 ERR1620339_bin_24\n",
       "3 ERR1620339_bin_53\n",
       "  File                                                                                                                                     \n",
       "1 /ebio/abt3_projects/databases_no-backup/DeepMAsED/MAG_datasets/AlmeidaA-2019/samples_n143_MAG-feats/map//ERR1190625_bin_12/ERR1190625.bam\n",
       "2 /ebio/abt3_projects/databases_no-backup/DeepMAsED/MAG_datasets/AlmeidaA-2019/samples_n143_MAG-feats/map//ERR1620339_bin_24/ERR1620339.bam\n",
       "3 /ebio/abt3_projects/databases_no-backup/DeepMAsED/MAG_datasets/AlmeidaA-2019/samples_n143_MAG-feats/map//ERR1620339_bin_53/ERR1620339.bam\n",
       "  bai_file                                                                                                                                     \n",
       "1 /ebio/abt3_projects/databases_no-backup/DeepMAsED/MAG_datasets/AlmeidaA-2019/samples_n143_MAG-feats/map//ERR1190625_bin_12/ERR1190625.bam.bai\n",
       "2 /ebio/abt3_projects/databases_no-backup/DeepMAsED/MAG_datasets/AlmeidaA-2019/samples_n143_MAG-feats/map//ERR1620339_bin_24/ERR1620339.bam.bai\n",
       "3 /ebio/abt3_projects/databases_no-backup/DeepMAsED/MAG_datasets/AlmeidaA-2019/samples_n143_MAG-feats/map//ERR1620339_bin_53/ERR1620339.bam.bai\n",
       "  bw_file                                                                                                                                      \n",
       "1 /ebio/abt3_projects/databases_no-backup/DeepMAsED/MAG_datasets/DeepLIFT/190815//AlmeidaA2019_samples-n143_MAGs-n1519/ERR1190625_bin_12/unk.bw\n",
       "2 /ebio/abt3_projects/databases_no-backup/DeepMAsED/MAG_datasets/DeepLIFT/190815//AlmeidaA2019_samples-n143_MAGs-n1519/ERR1620339_bin_24/unk.bw\n",
       "3 /ebio/abt3_projects/databases_no-backup/DeepMAsED/MAG_datasets/DeepLIFT/190815//AlmeidaA2019_samples-n143_MAGs-n1519/ERR1620339_bin_53/unk.bw"
      ]
     },
     "metadata": {},
     "output_type": "display_data"
    }
   ],
   "source": [
    "# AlmeidaA-2019\n",
    "AA_bam_dir = '/ebio/abt3_projects/databases_no-backup/DeepMAsED/MAG_datasets/AlmeidaA-2019/samples_n143_MAG-feats/map/'\n",
    "AA_bam_files = list.files(AA_bam_dir, '*.bam$', recursive=TRUE, full.names=TRUE)\n",
    "\n",
    "AA_bam_files = data.frame(MAG = AA_bam_files %>% as.character %>% dirname %>% basename,\n",
    "                          File = AA_bam_files %>% as.character,\n",
    "                          bai_file = AA_bam_files %>% as.character %>% gsub('$', '.bai', .)) %>%\n",
    "    inner_join(AA_MAGs, c('MAG'))\n",
    "\n",
    "AA_bam_files %>% nrow %>% print\n",
    "AA_bam_files %>% head(n=3)\n"
   ]
  },
  {
   "cell_type": "code",
   "execution_count": 57,
   "metadata": {
    "ExecuteTime": {
     "end_time": "2019-08-15T11:13:10.896649Z",
     "start_time": "2019-08-15T11:13:09.769Z"
    }
   },
   "outputs": [
    {
     "data": {
      "text/html": [
       "14"
      ],
      "text/latex": [
       "14"
      ],
      "text/markdown": [
       "14"
      ],
      "text/plain": [
       "[1] 14"
      ]
     },
     "metadata": {},
     "output_type": "display_data"
    },
    {
     "data": {
      "text/html": [
       "<ol class=list-inline>\n",
       "\t<li>'/ebio/abt3_projects/databases_no-backup/DeepMAsED/MAG_datasets/DeepLIFT/190815//AlmeidaA2019_samples-n143_MAGs-n1519/ERR1190625_bin_12/ERR1190625.bam'</li>\n",
       "\t<li>'/ebio/abt3_projects/databases_no-backup/DeepMAsED/MAG_datasets/DeepLIFT/190815//AlmeidaA2019_samples-n143_MAGs-n1519/ERR1620339_bin_24/ERR1620339.bam'</li>\n",
       "\t<li>'/ebio/abt3_projects/databases_no-backup/DeepMAsED/MAG_datasets/DeepLIFT/190815//AlmeidaA2019_samples-n143_MAGs-n1519/ERR1620339_bin_53/ERR1620339.bam'</li>\n",
       "</ol>\n"
      ],
      "text/latex": [
       "\\begin{enumerate*}\n",
       "\\item '/ebio/abt3\\_projects/databases\\_no-backup/DeepMAsED/MAG\\_datasets/DeepLIFT/190815//AlmeidaA2019\\_samples-n143\\_MAGs-n1519/ERR1190625\\_bin\\_12/ERR1190625.bam'\n",
       "\\item '/ebio/abt3\\_projects/databases\\_no-backup/DeepMAsED/MAG\\_datasets/DeepLIFT/190815//AlmeidaA2019\\_samples-n143\\_MAGs-n1519/ERR1620339\\_bin\\_24/ERR1620339.bam'\n",
       "\\item '/ebio/abt3\\_projects/databases\\_no-backup/DeepMAsED/MAG\\_datasets/DeepLIFT/190815//AlmeidaA2019\\_samples-n143\\_MAGs-n1519/ERR1620339\\_bin\\_53/ERR1620339.bam'\n",
       "\\end{enumerate*}\n"
      ],
      "text/markdown": [
       "1. '/ebio/abt3_projects/databases_no-backup/DeepMAsED/MAG_datasets/DeepLIFT/190815//AlmeidaA2019_samples-n143_MAGs-n1519/ERR1190625_bin_12/ERR1190625.bam'\n",
       "2. '/ebio/abt3_projects/databases_no-backup/DeepMAsED/MAG_datasets/DeepLIFT/190815//AlmeidaA2019_samples-n143_MAGs-n1519/ERR1620339_bin_24/ERR1620339.bam'\n",
       "3. '/ebio/abt3_projects/databases_no-backup/DeepMAsED/MAG_datasets/DeepLIFT/190815//AlmeidaA2019_samples-n143_MAGs-n1519/ERR1620339_bin_53/ERR1620339.bam'\n",
       "\n",
       "\n"
      ],
      "text/plain": [
       "[1] \"/ebio/abt3_projects/databases_no-backup/DeepMAsED/MAG_datasets/DeepLIFT/190815//AlmeidaA2019_samples-n143_MAGs-n1519/ERR1190625_bin_12/ERR1190625.bam\"\n",
       "[2] \"/ebio/abt3_projects/databases_no-backup/DeepMAsED/MAG_datasets/DeepLIFT/190815//AlmeidaA2019_samples-n143_MAGs-n1519/ERR1620339_bin_24/ERR1620339.bam\"\n",
       "[3] \"/ebio/abt3_projects/databases_no-backup/DeepMAsED/MAG_datasets/DeepLIFT/190815//AlmeidaA2019_samples-n143_MAGs-n1519/ERR1620339_bin_53/ERR1620339.bam\""
      ]
     },
     "metadata": {},
     "output_type": "display_data"
    }
   ],
   "source": [
    "# copying bam files\n",
    "AA_bam_files_cp = mapply(cp_file, AA_bam_files$File, dirname(as.character(AA_bam_files$bw_file)))\n",
    "AA_bam_files_cp %>% length\n",
    "AA_bam_files_cp %>% head(n=3)"
   ]
  },
  {
   "cell_type": "code",
   "execution_count": 58,
   "metadata": {
    "ExecuteTime": {
     "end_time": "2019-08-15T11:13:31.071775Z",
     "start_time": "2019-08-15T11:13:30.797Z"
    }
   },
   "outputs": [
    {
     "data": {
      "text/html": [
       "14"
      ],
      "text/latex": [
       "14"
      ],
      "text/markdown": [
       "14"
      ],
      "text/plain": [
       "[1] 14"
      ]
     },
     "metadata": {},
     "output_type": "display_data"
    },
    {
     "data": {
      "text/html": [
       "<ol class=list-inline>\n",
       "\t<li>'/ebio/abt3_projects/databases_no-backup/DeepMAsED/MAG_datasets/DeepLIFT/190815//AlmeidaA2019_samples-n143_MAGs-n1519/ERR1190625_bin_12/ERR1190625.bam.bai'</li>\n",
       "\t<li>'/ebio/abt3_projects/databases_no-backup/DeepMAsED/MAG_datasets/DeepLIFT/190815//AlmeidaA2019_samples-n143_MAGs-n1519/ERR1620339_bin_24/ERR1620339.bam.bai'</li>\n",
       "\t<li>'/ebio/abt3_projects/databases_no-backup/DeepMAsED/MAG_datasets/DeepLIFT/190815//AlmeidaA2019_samples-n143_MAGs-n1519/ERR1620339_bin_53/ERR1620339.bam.bai'</li>\n",
       "</ol>\n"
      ],
      "text/latex": [
       "\\begin{enumerate*}\n",
       "\\item '/ebio/abt3\\_projects/databases\\_no-backup/DeepMAsED/MAG\\_datasets/DeepLIFT/190815//AlmeidaA2019\\_samples-n143\\_MAGs-n1519/ERR1190625\\_bin\\_12/ERR1190625.bam.bai'\n",
       "\\item '/ebio/abt3\\_projects/databases\\_no-backup/DeepMAsED/MAG\\_datasets/DeepLIFT/190815//AlmeidaA2019\\_samples-n143\\_MAGs-n1519/ERR1620339\\_bin\\_24/ERR1620339.bam.bai'\n",
       "\\item '/ebio/abt3\\_projects/databases\\_no-backup/DeepMAsED/MAG\\_datasets/DeepLIFT/190815//AlmeidaA2019\\_samples-n143\\_MAGs-n1519/ERR1620339\\_bin\\_53/ERR1620339.bam.bai'\n",
       "\\end{enumerate*}\n"
      ],
      "text/markdown": [
       "1. '/ebio/abt3_projects/databases_no-backup/DeepMAsED/MAG_datasets/DeepLIFT/190815//AlmeidaA2019_samples-n143_MAGs-n1519/ERR1190625_bin_12/ERR1190625.bam.bai'\n",
       "2. '/ebio/abt3_projects/databases_no-backup/DeepMAsED/MAG_datasets/DeepLIFT/190815//AlmeidaA2019_samples-n143_MAGs-n1519/ERR1620339_bin_24/ERR1620339.bam.bai'\n",
       "3. '/ebio/abt3_projects/databases_no-backup/DeepMAsED/MAG_datasets/DeepLIFT/190815//AlmeidaA2019_samples-n143_MAGs-n1519/ERR1620339_bin_53/ERR1620339.bam.bai'\n",
       "\n",
       "\n"
      ],
      "text/plain": [
       "[1] \"/ebio/abt3_projects/databases_no-backup/DeepMAsED/MAG_datasets/DeepLIFT/190815//AlmeidaA2019_samples-n143_MAGs-n1519/ERR1190625_bin_12/ERR1190625.bam.bai\"\n",
       "[2] \"/ebio/abt3_projects/databases_no-backup/DeepMAsED/MAG_datasets/DeepLIFT/190815//AlmeidaA2019_samples-n143_MAGs-n1519/ERR1620339_bin_24/ERR1620339.bam.bai\"\n",
       "[3] \"/ebio/abt3_projects/databases_no-backup/DeepMAsED/MAG_datasets/DeepLIFT/190815//AlmeidaA2019_samples-n143_MAGs-n1519/ERR1620339_bin_53/ERR1620339.bam.bai\""
      ]
     },
     "metadata": {},
     "output_type": "display_data"
    }
   ],
   "source": [
    "# copying bam files\n",
    "AA_bam_bai_files_cp = mapply(cp_file, AA_bam_files$bai_file, dirname(as.character(AA_bam_files$bw_file)))\n",
    "AA_bam_bai_files_cp %>% length\n",
    "AA_bam_bai_files_cp %>% head(n=3)"
   ]
  },
  {
   "cell_type": "markdown",
   "metadata": {},
   "source": [
    "### PasolliE2019"
   ]
  },
  {
   "cell_type": "code",
   "execution_count": 59,
   "metadata": {
    "ExecuteTime": {
     "end_time": "2019-08-15T11:13:42.345949Z",
     "start_time": "2019-08-15T11:13:41.785Z"
    }
   },
   "outputs": [
    {
     "name": "stderr",
     "output_type": "stream",
     "text": [
      "Warning message:\n",
      "“Column `MAG` joining factors with different levels, coercing to character vector”"
     ]
    },
    {
     "name": "stdout",
     "output_type": "stream",
     "text": [
      "[1] 14\n"
     ]
    },
    {
     "data": {
      "text/html": [
       "<table>\n",
       "<thead><tr><th scope=col>MAG</th><th scope=col>File</th><th scope=col>bai_file</th><th scope=col>bw_file</th></tr></thead>\n",
       "<tbody>\n",
       "\t<tr><td>BackhedF_2015__SID282_B__bin_1                                                                                                                              </td><td>/ebio/abt3_projects/databases_no-backup/DeepMAsED/MAG_datasets/PasolliE-2019/samples_Almeida-Pasolli/map//BackhedF_2015__SID282_B__bin_1/ERR525838.bam      </td><td>/ebio/abt3_projects/databases_no-backup/DeepMAsED/MAG_datasets/PasolliE-2019/samples_Almeida-Pasolli/map//BackhedF_2015__SID282_B__bin_1/ERR525838.bam.bai  </td><td>/ebio/abt3_projects/databases_no-backup/DeepMAsED/MAG_datasets/DeepLIFT/190815//Pasolli_mag/BackhedF_2015__SID282_B__bin_1/unk.bw                           </td></tr>\n",
       "\t<tr><td>BackhedF_2015__SID367_12M__bin_5                                                                                                                            </td><td>/ebio/abt3_projects/databases_no-backup/DeepMAsED/MAG_datasets/PasolliE-2019/samples_Almeida-Pasolli/map//BackhedF_2015__SID367_12M__bin_5/ERR525872.bam    </td><td>/ebio/abt3_projects/databases_no-backup/DeepMAsED/MAG_datasets/PasolliE-2019/samples_Almeida-Pasolli/map//BackhedF_2015__SID367_12M__bin_5/ERR525872.bam.bai</td><td>/ebio/abt3_projects/databases_no-backup/DeepMAsED/MAG_datasets/DeepLIFT/190815//Pasolli_mag/BackhedF_2015__SID367_12M__bin_5/unk.bw                         </td></tr>\n",
       "\t<tr><td>BackhedF_2015__SID39_12M__bin_14                                                                                                                            </td><td>/ebio/abt3_projects/databases_no-backup/DeepMAsED/MAG_datasets/PasolliE-2019/samples_Almeida-Pasolli/map//BackhedF_2015__SID39_12M__bin_14/ERR525896.bam    </td><td>/ebio/abt3_projects/databases_no-backup/DeepMAsED/MAG_datasets/PasolliE-2019/samples_Almeida-Pasolli/map//BackhedF_2015__SID39_12M__bin_14/ERR525896.bam.bai</td><td>/ebio/abt3_projects/databases_no-backup/DeepMAsED/MAG_datasets/DeepLIFT/190815//Pasolli_mag/BackhedF_2015__SID39_12M__bin_14/unk.bw                         </td></tr>\n",
       "</tbody>\n",
       "</table>\n"
      ],
      "text/latex": [
       "\\begin{tabular}{r|llll}\n",
       " MAG & File & bai\\_file & bw\\_file\\\\\n",
       "\\hline\n",
       "\t BackhedF\\_2015\\_\\_SID282\\_B\\_\\_bin\\_1                                                                                                                                       & /ebio/abt3\\_projects/databases\\_no-backup/DeepMAsED/MAG\\_datasets/PasolliE-2019/samples\\_Almeida-Pasolli/map//BackhedF\\_2015\\_\\_SID282\\_B\\_\\_bin\\_1/ERR525838.bam       & /ebio/abt3\\_projects/databases\\_no-backup/DeepMAsED/MAG\\_datasets/PasolliE-2019/samples\\_Almeida-Pasolli/map//BackhedF\\_2015\\_\\_SID282\\_B\\_\\_bin\\_1/ERR525838.bam.bai   & /ebio/abt3\\_projects/databases\\_no-backup/DeepMAsED/MAG\\_datasets/DeepLIFT/190815//Pasolli\\_mag/BackhedF\\_2015\\_\\_SID282\\_B\\_\\_bin\\_1/unk.bw                           \\\\\n",
       "\t BackhedF\\_2015\\_\\_SID367\\_12M\\_\\_bin\\_5                                                                                                                                     & /ebio/abt3\\_projects/databases\\_no-backup/DeepMAsED/MAG\\_datasets/PasolliE-2019/samples\\_Almeida-Pasolli/map//BackhedF\\_2015\\_\\_SID367\\_12M\\_\\_bin\\_5/ERR525872.bam     & /ebio/abt3\\_projects/databases\\_no-backup/DeepMAsED/MAG\\_datasets/PasolliE-2019/samples\\_Almeida-Pasolli/map//BackhedF\\_2015\\_\\_SID367\\_12M\\_\\_bin\\_5/ERR525872.bam.bai & /ebio/abt3\\_projects/databases\\_no-backup/DeepMAsED/MAG\\_datasets/DeepLIFT/190815//Pasolli\\_mag/BackhedF\\_2015\\_\\_SID367\\_12M\\_\\_bin\\_5/unk.bw                         \\\\\n",
       "\t BackhedF\\_2015\\_\\_SID39\\_12M\\_\\_bin\\_14                                                                                                                                     & /ebio/abt3\\_projects/databases\\_no-backup/DeepMAsED/MAG\\_datasets/PasolliE-2019/samples\\_Almeida-Pasolli/map//BackhedF\\_2015\\_\\_SID39\\_12M\\_\\_bin\\_14/ERR525896.bam     & /ebio/abt3\\_projects/databases\\_no-backup/DeepMAsED/MAG\\_datasets/PasolliE-2019/samples\\_Almeida-Pasolli/map//BackhedF\\_2015\\_\\_SID39\\_12M\\_\\_bin\\_14/ERR525896.bam.bai & /ebio/abt3\\_projects/databases\\_no-backup/DeepMAsED/MAG\\_datasets/DeepLIFT/190815//Pasolli\\_mag/BackhedF\\_2015\\_\\_SID39\\_12M\\_\\_bin\\_14/unk.bw                         \\\\\n",
       "\\end{tabular}\n"
      ],
      "text/markdown": [
       "\n",
       "MAG | File | bai_file | bw_file | \n",
       "|---|---|---|\n",
       "| BackhedF_2015__SID282_B__bin_1                                                                                                                               | /ebio/abt3_projects/databases_no-backup/DeepMAsED/MAG_datasets/PasolliE-2019/samples_Almeida-Pasolli/map//BackhedF_2015__SID282_B__bin_1/ERR525838.bam       | /ebio/abt3_projects/databases_no-backup/DeepMAsED/MAG_datasets/PasolliE-2019/samples_Almeida-Pasolli/map//BackhedF_2015__SID282_B__bin_1/ERR525838.bam.bai   | /ebio/abt3_projects/databases_no-backup/DeepMAsED/MAG_datasets/DeepLIFT/190815//Pasolli_mag/BackhedF_2015__SID282_B__bin_1/unk.bw                            | \n",
       "| BackhedF_2015__SID367_12M__bin_5                                                                                                                             | /ebio/abt3_projects/databases_no-backup/DeepMAsED/MAG_datasets/PasolliE-2019/samples_Almeida-Pasolli/map//BackhedF_2015__SID367_12M__bin_5/ERR525872.bam     | /ebio/abt3_projects/databases_no-backup/DeepMAsED/MAG_datasets/PasolliE-2019/samples_Almeida-Pasolli/map//BackhedF_2015__SID367_12M__bin_5/ERR525872.bam.bai | /ebio/abt3_projects/databases_no-backup/DeepMAsED/MAG_datasets/DeepLIFT/190815//Pasolli_mag/BackhedF_2015__SID367_12M__bin_5/unk.bw                          | \n",
       "| BackhedF_2015__SID39_12M__bin_14                                                                                                                             | /ebio/abt3_projects/databases_no-backup/DeepMAsED/MAG_datasets/PasolliE-2019/samples_Almeida-Pasolli/map//BackhedF_2015__SID39_12M__bin_14/ERR525896.bam     | /ebio/abt3_projects/databases_no-backup/DeepMAsED/MAG_datasets/PasolliE-2019/samples_Almeida-Pasolli/map//BackhedF_2015__SID39_12M__bin_14/ERR525896.bam.bai | /ebio/abt3_projects/databases_no-backup/DeepMAsED/MAG_datasets/DeepLIFT/190815//Pasolli_mag/BackhedF_2015__SID39_12M__bin_14/unk.bw                          | \n",
       "\n",
       "\n"
      ],
      "text/plain": [
       "  MAG                             \n",
       "1 BackhedF_2015__SID282_B__bin_1  \n",
       "2 BackhedF_2015__SID367_12M__bin_5\n",
       "3 BackhedF_2015__SID39_12M__bin_14\n",
       "  File                                                                                                                                                    \n",
       "1 /ebio/abt3_projects/databases_no-backup/DeepMAsED/MAG_datasets/PasolliE-2019/samples_Almeida-Pasolli/map//BackhedF_2015__SID282_B__bin_1/ERR525838.bam  \n",
       "2 /ebio/abt3_projects/databases_no-backup/DeepMAsED/MAG_datasets/PasolliE-2019/samples_Almeida-Pasolli/map//BackhedF_2015__SID367_12M__bin_5/ERR525872.bam\n",
       "3 /ebio/abt3_projects/databases_no-backup/DeepMAsED/MAG_datasets/PasolliE-2019/samples_Almeida-Pasolli/map//BackhedF_2015__SID39_12M__bin_14/ERR525896.bam\n",
       "  bai_file                                                                                                                                                    \n",
       "1 /ebio/abt3_projects/databases_no-backup/DeepMAsED/MAG_datasets/PasolliE-2019/samples_Almeida-Pasolli/map//BackhedF_2015__SID282_B__bin_1/ERR525838.bam.bai  \n",
       "2 /ebio/abt3_projects/databases_no-backup/DeepMAsED/MAG_datasets/PasolliE-2019/samples_Almeida-Pasolli/map//BackhedF_2015__SID367_12M__bin_5/ERR525872.bam.bai\n",
       "3 /ebio/abt3_projects/databases_no-backup/DeepMAsED/MAG_datasets/PasolliE-2019/samples_Almeida-Pasolli/map//BackhedF_2015__SID39_12M__bin_14/ERR525896.bam.bai\n",
       "  bw_file                                                                                                                            \n",
       "1 /ebio/abt3_projects/databases_no-backup/DeepMAsED/MAG_datasets/DeepLIFT/190815//Pasolli_mag/BackhedF_2015__SID282_B__bin_1/unk.bw  \n",
       "2 /ebio/abt3_projects/databases_no-backup/DeepMAsED/MAG_datasets/DeepLIFT/190815//Pasolli_mag/BackhedF_2015__SID367_12M__bin_5/unk.bw\n",
       "3 /ebio/abt3_projects/databases_no-backup/DeepMAsED/MAG_datasets/DeepLIFT/190815//Pasolli_mag/BackhedF_2015__SID39_12M__bin_14/unk.bw"
      ]
     },
     "metadata": {},
     "output_type": "display_data"
    }
   ],
   "source": [
    "# AlmeidaA-2019\n",
    "PE_bam_dir = '/ebio/abt3_projects/databases_no-backup/DeepMAsED/MAG_datasets/PasolliE-2019/samples_Almeida-Pasolli/map/'\n",
    "PE_bam_files = list.files(PE_bam_dir, '*.bam$', recursive=TRUE, full.names=TRUE)\n",
    "\n",
    "PE_bam_files = data.frame(MAG = PE_bam_files %>% as.character %>% dirname %>% basename,\n",
    "                          File = PE_bam_files %>% as.character,\n",
    "                          bai_file = PE_bam_files %>% as.character %>% gsub('$', '.bai', .)) %>%\n",
    "    inner_join(PE_MAGs, c('MAG'))\n",
    "\n",
    "PE_bam_files %>% nrow %>% print\n",
    "PE_bam_files %>% head(n=3)"
   ]
  },
  {
   "cell_type": "code",
   "execution_count": 60,
   "metadata": {
    "ExecuteTime": {
     "end_time": "2019-08-15T11:13:46.064417Z",
     "start_time": "2019-08-15T11:13:44.321Z"
    }
   },
   "outputs": [
    {
     "data": {
      "text/html": [
       "14"
      ],
      "text/latex": [
       "14"
      ],
      "text/markdown": [
       "14"
      ],
      "text/plain": [
       "[1] 14"
      ]
     },
     "metadata": {},
     "output_type": "display_data"
    },
    {
     "data": {
      "text/html": [
       "<ol class=list-inline>\n",
       "\t<li>'/ebio/abt3_projects/databases_no-backup/DeepMAsED/MAG_datasets/DeepLIFT/190815//Pasolli_mag/BackhedF_2015__SID282_B__bin_1/ERR525838.bam'</li>\n",
       "\t<li>'/ebio/abt3_projects/databases_no-backup/DeepMAsED/MAG_datasets/DeepLIFT/190815//Pasolli_mag/BackhedF_2015__SID367_12M__bin_5/ERR525872.bam'</li>\n",
       "\t<li>'/ebio/abt3_projects/databases_no-backup/DeepMAsED/MAG_datasets/DeepLIFT/190815//Pasolli_mag/BackhedF_2015__SID39_12M__bin_14/ERR525896.bam'</li>\n",
       "</ol>\n"
      ],
      "text/latex": [
       "\\begin{enumerate*}\n",
       "\\item '/ebio/abt3\\_projects/databases\\_no-backup/DeepMAsED/MAG\\_datasets/DeepLIFT/190815//Pasolli\\_mag/BackhedF\\_2015\\_\\_SID282\\_B\\_\\_bin\\_1/ERR525838.bam'\n",
       "\\item '/ebio/abt3\\_projects/databases\\_no-backup/DeepMAsED/MAG\\_datasets/DeepLIFT/190815//Pasolli\\_mag/BackhedF\\_2015\\_\\_SID367\\_12M\\_\\_bin\\_5/ERR525872.bam'\n",
       "\\item '/ebio/abt3\\_projects/databases\\_no-backup/DeepMAsED/MAG\\_datasets/DeepLIFT/190815//Pasolli\\_mag/BackhedF\\_2015\\_\\_SID39\\_12M\\_\\_bin\\_14/ERR525896.bam'\n",
       "\\end{enumerate*}\n"
      ],
      "text/markdown": [
       "1. '/ebio/abt3_projects/databases_no-backup/DeepMAsED/MAG_datasets/DeepLIFT/190815//Pasolli_mag/BackhedF_2015__SID282_B__bin_1/ERR525838.bam'\n",
       "2. '/ebio/abt3_projects/databases_no-backup/DeepMAsED/MAG_datasets/DeepLIFT/190815//Pasolli_mag/BackhedF_2015__SID367_12M__bin_5/ERR525872.bam'\n",
       "3. '/ebio/abt3_projects/databases_no-backup/DeepMAsED/MAG_datasets/DeepLIFT/190815//Pasolli_mag/BackhedF_2015__SID39_12M__bin_14/ERR525896.bam'\n",
       "\n",
       "\n"
      ],
      "text/plain": [
       "[1] \"/ebio/abt3_projects/databases_no-backup/DeepMAsED/MAG_datasets/DeepLIFT/190815//Pasolli_mag/BackhedF_2015__SID282_B__bin_1/ERR525838.bam\"  \n",
       "[2] \"/ebio/abt3_projects/databases_no-backup/DeepMAsED/MAG_datasets/DeepLIFT/190815//Pasolli_mag/BackhedF_2015__SID367_12M__bin_5/ERR525872.bam\"\n",
       "[3] \"/ebio/abt3_projects/databases_no-backup/DeepMAsED/MAG_datasets/DeepLIFT/190815//Pasolli_mag/BackhedF_2015__SID39_12M__bin_14/ERR525896.bam\""
      ]
     },
     "metadata": {},
     "output_type": "display_data"
    }
   ],
   "source": [
    "# copying bam files\n",
    "PE_bam_files_cp = mapply(cp_file, PE_bam_files$File, dirname(as.character(PE_bam_files$bw_file)))\n",
    "PE_bam_files_cp %>% length\n",
    "PE_bam_files_cp %>% head(n=3)"
   ]
  },
  {
   "cell_type": "code",
   "execution_count": 61,
   "metadata": {
    "ExecuteTime": {
     "end_time": "2019-08-15T11:14:02.495019Z",
     "start_time": "2019-08-15T11:14:02.153Z"
    }
   },
   "outputs": [
    {
     "data": {
      "text/html": [
       "14"
      ],
      "text/latex": [
       "14"
      ],
      "text/markdown": [
       "14"
      ],
      "text/plain": [
       "[1] 14"
      ]
     },
     "metadata": {},
     "output_type": "display_data"
    },
    {
     "data": {
      "text/html": [
       "<ol class=list-inline>\n",
       "\t<li>'/ebio/abt3_projects/databases_no-backup/DeepMAsED/MAG_datasets/DeepLIFT/190815//Pasolli_mag/BackhedF_2015__SID282_B__bin_1/ERR525838.bam.bai'</li>\n",
       "\t<li>'/ebio/abt3_projects/databases_no-backup/DeepMAsED/MAG_datasets/DeepLIFT/190815//Pasolli_mag/BackhedF_2015__SID367_12M__bin_5/ERR525872.bam.bai'</li>\n",
       "\t<li>'/ebio/abt3_projects/databases_no-backup/DeepMAsED/MAG_datasets/DeepLIFT/190815//Pasolli_mag/BackhedF_2015__SID39_12M__bin_14/ERR525896.bam.bai'</li>\n",
       "</ol>\n"
      ],
      "text/latex": [
       "\\begin{enumerate*}\n",
       "\\item '/ebio/abt3\\_projects/databases\\_no-backup/DeepMAsED/MAG\\_datasets/DeepLIFT/190815//Pasolli\\_mag/BackhedF\\_2015\\_\\_SID282\\_B\\_\\_bin\\_1/ERR525838.bam.bai'\n",
       "\\item '/ebio/abt3\\_projects/databases\\_no-backup/DeepMAsED/MAG\\_datasets/DeepLIFT/190815//Pasolli\\_mag/BackhedF\\_2015\\_\\_SID367\\_12M\\_\\_bin\\_5/ERR525872.bam.bai'\n",
       "\\item '/ebio/abt3\\_projects/databases\\_no-backup/DeepMAsED/MAG\\_datasets/DeepLIFT/190815//Pasolli\\_mag/BackhedF\\_2015\\_\\_SID39\\_12M\\_\\_bin\\_14/ERR525896.bam.bai'\n",
       "\\end{enumerate*}\n"
      ],
      "text/markdown": [
       "1. '/ebio/abt3_projects/databases_no-backup/DeepMAsED/MAG_datasets/DeepLIFT/190815//Pasolli_mag/BackhedF_2015__SID282_B__bin_1/ERR525838.bam.bai'\n",
       "2. '/ebio/abt3_projects/databases_no-backup/DeepMAsED/MAG_datasets/DeepLIFT/190815//Pasolli_mag/BackhedF_2015__SID367_12M__bin_5/ERR525872.bam.bai'\n",
       "3. '/ebio/abt3_projects/databases_no-backup/DeepMAsED/MAG_datasets/DeepLIFT/190815//Pasolli_mag/BackhedF_2015__SID39_12M__bin_14/ERR525896.bam.bai'\n",
       "\n",
       "\n"
      ],
      "text/plain": [
       "[1] \"/ebio/abt3_projects/databases_no-backup/DeepMAsED/MAG_datasets/DeepLIFT/190815//Pasolli_mag/BackhedF_2015__SID282_B__bin_1/ERR525838.bam.bai\"  \n",
       "[2] \"/ebio/abt3_projects/databases_no-backup/DeepMAsED/MAG_datasets/DeepLIFT/190815//Pasolli_mag/BackhedF_2015__SID367_12M__bin_5/ERR525872.bam.bai\"\n",
       "[3] \"/ebio/abt3_projects/databases_no-backup/DeepMAsED/MAG_datasets/DeepLIFT/190815//Pasolli_mag/BackhedF_2015__SID39_12M__bin_14/ERR525896.bam.bai\""
      ]
     },
     "metadata": {},
     "output_type": "display_data"
    }
   ],
   "source": [
    "# copying *.bai files\n",
    "PE_bam_bai_files_cp = mapply(cp_file, PE_bam_files$bai_file, dirname(as.character(PE_bam_files$bw_file)))\n",
    "PE_bam_bai_files_cp %>% length\n",
    "PE_bam_bai_files_cp %>% head(n=3)"
   ]
  },
  {
   "cell_type": "markdown",
   "metadata": {},
   "source": [
    "## GFF files\n",
    "\n",
    "* symlinking gff files with prokka annotations for the relevant MAGs"
   ]
  },
  {
   "cell_type": "markdown",
   "metadata": {},
   "source": [
    "### AlmeidaA2019"
   ]
  },
  {
   "cell_type": "code",
   "execution_count": 62,
   "metadata": {
    "ExecuteTime": {
     "end_time": "2019-08-15T11:14:46.335762Z",
     "start_time": "2019-08-15T11:14:21.405Z"
    }
   },
   "outputs": [
    {
     "name": "stderr",
     "output_type": "stream",
     "text": [
      "Warning message:\n",
      "“Column `MAG` joining character vector and factor, coercing into character vector”"
     ]
    },
    {
     "name": "stdout",
     "output_type": "stream",
     "text": [
      "[1] 14\n"
     ]
    },
    {
     "data": {
      "text/html": [
       "<table>\n",
       "<thead><tr><th scope=col>MAG</th><th scope=col>File</th><th scope=col>bw_file</th></tr></thead>\n",
       "<tbody>\n",
       "\t<tr><td>ERR1190625_bin_12                                                                                                                            </td><td>/ebio/abt3_projects/databases_no-backup/DeepMAsED/MAG_datasets/AlmeidaA-2019/prokka/ERR1190625_bin.12/ERR1190625_bin.12.gff                  </td><td>/ebio/abt3_projects/databases_no-backup/DeepMAsED/MAG_datasets/DeepLIFT/190815//AlmeidaA2019_samples-n143_MAGs-n1519/ERR1190625_bin_12/unk.bw</td></tr>\n",
       "\t<tr><td>ERR1620339_bin_24                                                                                                                            </td><td>/ebio/abt3_projects/databases_no-backup/DeepMAsED/MAG_datasets/AlmeidaA-2019/prokka/ERR1620339_bin.24/ERR1620339_bin.24.gff                  </td><td>/ebio/abt3_projects/databases_no-backup/DeepMAsED/MAG_datasets/DeepLIFT/190815//AlmeidaA2019_samples-n143_MAGs-n1519/ERR1620339_bin_24/unk.bw</td></tr>\n",
       "\t<tr><td>ERR1620339_bin_53                                                                                                                            </td><td>/ebio/abt3_projects/databases_no-backup/DeepMAsED/MAG_datasets/AlmeidaA-2019/prokka/ERR1620339_bin.53/ERR1620339_bin.53.gff                  </td><td>/ebio/abt3_projects/databases_no-backup/DeepMAsED/MAG_datasets/DeepLIFT/190815//AlmeidaA2019_samples-n143_MAGs-n1519/ERR1620339_bin_53/unk.bw</td></tr>\n",
       "</tbody>\n",
       "</table>\n"
      ],
      "text/latex": [
       "\\begin{tabular}{r|lll}\n",
       " MAG & File & bw\\_file\\\\\n",
       "\\hline\n",
       "\t ERR1190625\\_bin\\_12                                                                                                                                       & /ebio/abt3\\_projects/databases\\_no-backup/DeepMAsED/MAG\\_datasets/AlmeidaA-2019/prokka/ERR1190625\\_bin.12/ERR1190625\\_bin.12.gff                       & /ebio/abt3\\_projects/databases\\_no-backup/DeepMAsED/MAG\\_datasets/DeepLIFT/190815//AlmeidaA2019\\_samples-n143\\_MAGs-n1519/ERR1190625\\_bin\\_12/unk.bw\\\\\n",
       "\t ERR1620339\\_bin\\_24                                                                                                                                       & /ebio/abt3\\_projects/databases\\_no-backup/DeepMAsED/MAG\\_datasets/AlmeidaA-2019/prokka/ERR1620339\\_bin.24/ERR1620339\\_bin.24.gff                       & /ebio/abt3\\_projects/databases\\_no-backup/DeepMAsED/MAG\\_datasets/DeepLIFT/190815//AlmeidaA2019\\_samples-n143\\_MAGs-n1519/ERR1620339\\_bin\\_24/unk.bw\\\\\n",
       "\t ERR1620339\\_bin\\_53                                                                                                                                       & /ebio/abt3\\_projects/databases\\_no-backup/DeepMAsED/MAG\\_datasets/AlmeidaA-2019/prokka/ERR1620339\\_bin.53/ERR1620339\\_bin.53.gff                       & /ebio/abt3\\_projects/databases\\_no-backup/DeepMAsED/MAG\\_datasets/DeepLIFT/190815//AlmeidaA2019\\_samples-n143\\_MAGs-n1519/ERR1620339\\_bin\\_53/unk.bw\\\\\n",
       "\\end{tabular}\n"
      ],
      "text/markdown": [
       "\n",
       "MAG | File | bw_file | \n",
       "|---|---|---|\n",
       "| ERR1190625_bin_12                                                                                                                             | /ebio/abt3_projects/databases_no-backup/DeepMAsED/MAG_datasets/AlmeidaA-2019/prokka/ERR1190625_bin.12/ERR1190625_bin.12.gff                   | /ebio/abt3_projects/databases_no-backup/DeepMAsED/MAG_datasets/DeepLIFT/190815//AlmeidaA2019_samples-n143_MAGs-n1519/ERR1190625_bin_12/unk.bw | \n",
       "| ERR1620339_bin_24                                                                                                                             | /ebio/abt3_projects/databases_no-backup/DeepMAsED/MAG_datasets/AlmeidaA-2019/prokka/ERR1620339_bin.24/ERR1620339_bin.24.gff                   | /ebio/abt3_projects/databases_no-backup/DeepMAsED/MAG_datasets/DeepLIFT/190815//AlmeidaA2019_samples-n143_MAGs-n1519/ERR1620339_bin_24/unk.bw | \n",
       "| ERR1620339_bin_53                                                                                                                             | /ebio/abt3_projects/databases_no-backup/DeepMAsED/MAG_datasets/AlmeidaA-2019/prokka/ERR1620339_bin.53/ERR1620339_bin.53.gff                   | /ebio/abt3_projects/databases_no-backup/DeepMAsED/MAG_datasets/DeepLIFT/190815//AlmeidaA2019_samples-n143_MAGs-n1519/ERR1620339_bin_53/unk.bw | \n",
       "\n",
       "\n"
      ],
      "text/plain": [
       "  MAG              \n",
       "1 ERR1190625_bin_12\n",
       "2 ERR1620339_bin_24\n",
       "3 ERR1620339_bin_53\n",
       "  File                                                                                                                       \n",
       "1 /ebio/abt3_projects/databases_no-backup/DeepMAsED/MAG_datasets/AlmeidaA-2019/prokka/ERR1190625_bin.12/ERR1190625_bin.12.gff\n",
       "2 /ebio/abt3_projects/databases_no-backup/DeepMAsED/MAG_datasets/AlmeidaA-2019/prokka/ERR1620339_bin.24/ERR1620339_bin.24.gff\n",
       "3 /ebio/abt3_projects/databases_no-backup/DeepMAsED/MAG_datasets/AlmeidaA-2019/prokka/ERR1620339_bin.53/ERR1620339_bin.53.gff\n",
       "  bw_file                                                                                                                                      \n",
       "1 /ebio/abt3_projects/databases_no-backup/DeepMAsED/MAG_datasets/DeepLIFT/190815//AlmeidaA2019_samples-n143_MAGs-n1519/ERR1190625_bin_12/unk.bw\n",
       "2 /ebio/abt3_projects/databases_no-backup/DeepMAsED/MAG_datasets/DeepLIFT/190815//AlmeidaA2019_samples-n143_MAGs-n1519/ERR1620339_bin_24/unk.bw\n",
       "3 /ebio/abt3_projects/databases_no-backup/DeepMAsED/MAG_datasets/DeepLIFT/190815//AlmeidaA2019_samples-n143_MAGs-n1519/ERR1620339_bin_53/unk.bw"
      ]
     },
     "metadata": {},
     "output_type": "display_data"
    }
   ],
   "source": [
    "prokka_dir = file.path(dirname(AA_MAGs_metadata_file), 'prokka')\n",
    "AA_gff_files = list.files(prokka_dir, '*.gff', recursive=TRUE, full.names=TRUE) \n",
    "AA_gff_files = data.frame(MAG = AA_gff_files %>% as.character %>% basename %>% gsub('\\\\.gff', '', .),\n",
    "                          File = AA_gff_files %>% as.character) %>%\n",
    "    mutate(MAG = gsub('[-.]', '_', MAG)) %>%\n",
    "    inner_join(AA_MAGs, c('MAG'))\n",
    "\n",
    "AA_gff_files %>% nrow %>% print\n",
    "AA_gff_files %>% head(n=3)"
   ]
  },
  {
   "cell_type": "code",
   "execution_count": 66,
   "metadata": {
    "ExecuteTime": {
     "end_time": "2019-08-15T11:17:27.971894Z",
     "start_time": "2019-08-15T11:17:27.816Z"
    }
   },
   "outputs": [
    {
     "data": {
      "text/html": [
       "14"
      ],
      "text/latex": [
       "14"
      ],
      "text/markdown": [
       "14"
      ],
      "text/plain": [
       "[1] 14"
      ]
     },
     "metadata": {},
     "output_type": "display_data"
    },
    {
     "data": {
      "text/html": [
       "<ol class=list-inline>\n",
       "\t<li>'/ebio/abt3_projects/databases_no-backup/DeepMAsED/MAG_datasets/DeepLIFT/190815//AlmeidaA2019_samples-n143_MAGs-n1519/ERR1190625_bin_12/ERR1190625_bin.12.gff3'</li>\n",
       "\t<li>'/ebio/abt3_projects/databases_no-backup/DeepMAsED/MAG_datasets/DeepLIFT/190815//AlmeidaA2019_samples-n143_MAGs-n1519/ERR1620339_bin_24/ERR1620339_bin.24.gff3'</li>\n",
       "\t<li>'/ebio/abt3_projects/databases_no-backup/DeepMAsED/MAG_datasets/DeepLIFT/190815//AlmeidaA2019_samples-n143_MAGs-n1519/ERR1620339_bin_53/ERR1620339_bin.53.gff3'</li>\n",
       "</ol>\n"
      ],
      "text/latex": [
       "\\begin{enumerate*}\n",
       "\\item '/ebio/abt3\\_projects/databases\\_no-backup/DeepMAsED/MAG\\_datasets/DeepLIFT/190815//AlmeidaA2019\\_samples-n143\\_MAGs-n1519/ERR1190625\\_bin\\_12/ERR1190625\\_bin.12.gff3'\n",
       "\\item '/ebio/abt3\\_projects/databases\\_no-backup/DeepMAsED/MAG\\_datasets/DeepLIFT/190815//AlmeidaA2019\\_samples-n143\\_MAGs-n1519/ERR1620339\\_bin\\_24/ERR1620339\\_bin.24.gff3'\n",
       "\\item '/ebio/abt3\\_projects/databases\\_no-backup/DeepMAsED/MAG\\_datasets/DeepLIFT/190815//AlmeidaA2019\\_samples-n143\\_MAGs-n1519/ERR1620339\\_bin\\_53/ERR1620339\\_bin.53.gff3'\n",
       "\\end{enumerate*}\n"
      ],
      "text/markdown": [
       "1. '/ebio/abt3_projects/databases_no-backup/DeepMAsED/MAG_datasets/DeepLIFT/190815//AlmeidaA2019_samples-n143_MAGs-n1519/ERR1190625_bin_12/ERR1190625_bin.12.gff3'\n",
       "2. '/ebio/abt3_projects/databases_no-backup/DeepMAsED/MAG_datasets/DeepLIFT/190815//AlmeidaA2019_samples-n143_MAGs-n1519/ERR1620339_bin_24/ERR1620339_bin.24.gff3'\n",
       "3. '/ebio/abt3_projects/databases_no-backup/DeepMAsED/MAG_datasets/DeepLIFT/190815//AlmeidaA2019_samples-n143_MAGs-n1519/ERR1620339_bin_53/ERR1620339_bin.53.gff3'\n",
       "\n",
       "\n"
      ],
      "text/plain": [
       "[1] \"/ebio/abt3_projects/databases_no-backup/DeepMAsED/MAG_datasets/DeepLIFT/190815//AlmeidaA2019_samples-n143_MAGs-n1519/ERR1190625_bin_12/ERR1190625_bin.12.gff3\"\n",
       "[2] \"/ebio/abt3_projects/databases_no-backup/DeepMAsED/MAG_datasets/DeepLIFT/190815//AlmeidaA2019_samples-n143_MAGs-n1519/ERR1620339_bin_24/ERR1620339_bin.24.gff3\"\n",
       "[3] \"/ebio/abt3_projects/databases_no-backup/DeepMAsED/MAG_datasets/DeepLIFT/190815//AlmeidaA2019_samples-n143_MAGs-n1519/ERR1620339_bin_53/ERR1620339_bin.53.gff3\""
      ]
     },
     "metadata": {},
     "output_type": "display_data"
    }
   ],
   "source": [
    "# copying gff files\n",
    "AA_gff_files_cp = mapply(cp_file, AA_gff_files$File, dirname(as.character(AA_gff_files$bw_file)), suffix='.gff3')\n",
    "AA_gff_files_cp %>% length\n",
    "AA_gff_files_cp %>% head(n=3)"
   ]
  },
  {
   "cell_type": "markdown",
   "metadata": {},
   "source": [
    "### PasolliE2019"
   ]
  },
  {
   "cell_type": "code",
   "execution_count": 67,
   "metadata": {
    "ExecuteTime": {
     "end_time": "2019-08-15T11:18:29.385870Z",
     "start_time": "2019-08-15T11:18:14.030Z"
    }
   },
   "outputs": [
    {
     "name": "stderr",
     "output_type": "stream",
     "text": [
      "Warning message:\n",
      "“Column `MAG` joining character vector and factor, coercing into character vector”"
     ]
    },
    {
     "name": "stdout",
     "output_type": "stream",
     "text": [
      "[1] 14\n"
     ]
    },
    {
     "data": {
      "text/html": [
       "<table>\n",
       "<thead><tr><th scope=col>MAG</th><th scope=col>File</th><th scope=col>bw_file</th></tr></thead>\n",
       "<tbody>\n",
       "\t<tr><td>BackhedF_2015__SID282_B__bin_1                                                                                                                           </td><td>/ebio/abt3_projects/databases_no-backup/DeepMAsED/MAG_datasets/PasolliE-2019/prokka/BackhedF_2015__SID282_B__bin.1/BackhedF_2015__SID282_B__bin.1.gff    </td><td>/ebio/abt3_projects/databases_no-backup/DeepMAsED/MAG_datasets/DeepLIFT/190815//Pasolli_mag/BackhedF_2015__SID282_B__bin_1/unk.bw                        </td></tr>\n",
       "\t<tr><td>BackhedF_2015__SID367_12M__bin_5                                                                                                                         </td><td>/ebio/abt3_projects/databases_no-backup/DeepMAsED/MAG_datasets/PasolliE-2019/prokka/BackhedF_2015__SID367_12M__bin.5/BackhedF_2015__SID367_12M__bin.5.gff</td><td>/ebio/abt3_projects/databases_no-backup/DeepMAsED/MAG_datasets/DeepLIFT/190815//Pasolli_mag/BackhedF_2015__SID367_12M__bin_5/unk.bw                      </td></tr>\n",
       "\t<tr><td>BackhedF_2015__SID39_12M__bin_14                                                                                                                         </td><td>/ebio/abt3_projects/databases_no-backup/DeepMAsED/MAG_datasets/PasolliE-2019/prokka/BackhedF_2015__SID39_12M__bin.14/BackhedF_2015__SID39_12M__bin.14.gff</td><td>/ebio/abt3_projects/databases_no-backup/DeepMAsED/MAG_datasets/DeepLIFT/190815//Pasolli_mag/BackhedF_2015__SID39_12M__bin_14/unk.bw                      </td></tr>\n",
       "</tbody>\n",
       "</table>\n"
      ],
      "text/latex": [
       "\\begin{tabular}{r|lll}\n",
       " MAG & File & bw\\_file\\\\\n",
       "\\hline\n",
       "\t BackhedF\\_2015\\_\\_SID282\\_B\\_\\_bin\\_1                                                                                                                                            & /ebio/abt3\\_projects/databases\\_no-backup/DeepMAsED/MAG\\_datasets/PasolliE-2019/prokka/BackhedF\\_2015\\_\\_SID282\\_B\\_\\_bin.1/BackhedF\\_2015\\_\\_SID282\\_B\\_\\_bin.1.gff     & /ebio/abt3\\_projects/databases\\_no-backup/DeepMAsED/MAG\\_datasets/DeepLIFT/190815//Pasolli\\_mag/BackhedF\\_2015\\_\\_SID282\\_B\\_\\_bin\\_1/unk.bw                                \\\\\n",
       "\t BackhedF\\_2015\\_\\_SID367\\_12M\\_\\_bin\\_5                                                                                                                                          & /ebio/abt3\\_projects/databases\\_no-backup/DeepMAsED/MAG\\_datasets/PasolliE-2019/prokka/BackhedF\\_2015\\_\\_SID367\\_12M\\_\\_bin.5/BackhedF\\_2015\\_\\_SID367\\_12M\\_\\_bin.5.gff & /ebio/abt3\\_projects/databases\\_no-backup/DeepMAsED/MAG\\_datasets/DeepLIFT/190815//Pasolli\\_mag/BackhedF\\_2015\\_\\_SID367\\_12M\\_\\_bin\\_5/unk.bw                              \\\\\n",
       "\t BackhedF\\_2015\\_\\_SID39\\_12M\\_\\_bin\\_14                                                                                                                                          & /ebio/abt3\\_projects/databases\\_no-backup/DeepMAsED/MAG\\_datasets/PasolliE-2019/prokka/BackhedF\\_2015\\_\\_SID39\\_12M\\_\\_bin.14/BackhedF\\_2015\\_\\_SID39\\_12M\\_\\_bin.14.gff & /ebio/abt3\\_projects/databases\\_no-backup/DeepMAsED/MAG\\_datasets/DeepLIFT/190815//Pasolli\\_mag/BackhedF\\_2015\\_\\_SID39\\_12M\\_\\_bin\\_14/unk.bw                              \\\\\n",
       "\\end{tabular}\n"
      ],
      "text/markdown": [
       "\n",
       "MAG | File | bw_file | \n",
       "|---|---|---|\n",
       "| BackhedF_2015__SID282_B__bin_1                                                                                                                            | /ebio/abt3_projects/databases_no-backup/DeepMAsED/MAG_datasets/PasolliE-2019/prokka/BackhedF_2015__SID282_B__bin.1/BackhedF_2015__SID282_B__bin.1.gff     | /ebio/abt3_projects/databases_no-backup/DeepMAsED/MAG_datasets/DeepLIFT/190815//Pasolli_mag/BackhedF_2015__SID282_B__bin_1/unk.bw                         | \n",
       "| BackhedF_2015__SID367_12M__bin_5                                                                                                                          | /ebio/abt3_projects/databases_no-backup/DeepMAsED/MAG_datasets/PasolliE-2019/prokka/BackhedF_2015__SID367_12M__bin.5/BackhedF_2015__SID367_12M__bin.5.gff | /ebio/abt3_projects/databases_no-backup/DeepMAsED/MAG_datasets/DeepLIFT/190815//Pasolli_mag/BackhedF_2015__SID367_12M__bin_5/unk.bw                       | \n",
       "| BackhedF_2015__SID39_12M__bin_14                                                                                                                          | /ebio/abt3_projects/databases_no-backup/DeepMAsED/MAG_datasets/PasolliE-2019/prokka/BackhedF_2015__SID39_12M__bin.14/BackhedF_2015__SID39_12M__bin.14.gff | /ebio/abt3_projects/databases_no-backup/DeepMAsED/MAG_datasets/DeepLIFT/190815//Pasolli_mag/BackhedF_2015__SID39_12M__bin_14/unk.bw                       | \n",
       "\n",
       "\n"
      ],
      "text/plain": [
       "  MAG                             \n",
       "1 BackhedF_2015__SID282_B__bin_1  \n",
       "2 BackhedF_2015__SID367_12M__bin_5\n",
       "3 BackhedF_2015__SID39_12M__bin_14\n",
       "  File                                                                                                                                                     \n",
       "1 /ebio/abt3_projects/databases_no-backup/DeepMAsED/MAG_datasets/PasolliE-2019/prokka/BackhedF_2015__SID282_B__bin.1/BackhedF_2015__SID282_B__bin.1.gff    \n",
       "2 /ebio/abt3_projects/databases_no-backup/DeepMAsED/MAG_datasets/PasolliE-2019/prokka/BackhedF_2015__SID367_12M__bin.5/BackhedF_2015__SID367_12M__bin.5.gff\n",
       "3 /ebio/abt3_projects/databases_no-backup/DeepMAsED/MAG_datasets/PasolliE-2019/prokka/BackhedF_2015__SID39_12M__bin.14/BackhedF_2015__SID39_12M__bin.14.gff\n",
       "  bw_file                                                                                                                            \n",
       "1 /ebio/abt3_projects/databases_no-backup/DeepMAsED/MAG_datasets/DeepLIFT/190815//Pasolli_mag/BackhedF_2015__SID282_B__bin_1/unk.bw  \n",
       "2 /ebio/abt3_projects/databases_no-backup/DeepMAsED/MAG_datasets/DeepLIFT/190815//Pasolli_mag/BackhedF_2015__SID367_12M__bin_5/unk.bw\n",
       "3 /ebio/abt3_projects/databases_no-backup/DeepMAsED/MAG_datasets/DeepLIFT/190815//Pasolli_mag/BackhedF_2015__SID39_12M__bin_14/unk.bw"
      ]
     },
     "metadata": {},
     "output_type": "display_data"
    }
   ],
   "source": [
    "prokka_dir = file.path(dirname(PE_MAGs_metadata_file), 'prokka')\n",
    "PE_gff_files = list.files(prokka_dir, '*.gff', recursive=TRUE, full.names=TRUE) \n",
    "PE_gff_files = data.frame(MAG = PE_gff_files %>% as.character %>% basename %>% gsub('\\\\.gff', '', .),\n",
    "                          File = PE_gff_files %>% as.character) %>%\n",
    "    mutate(MAG = gsub('[-.]', '_', MAG)) %>%\n",
    "    inner_join(PE_MAGs, c('MAG'))\n",
    "\n",
    "PE_gff_files %>% nrow %>% print\n",
    "PE_gff_files %>% head(n=3)"
   ]
  },
  {
   "cell_type": "code",
   "execution_count": 68,
   "metadata": {
    "ExecuteTime": {
     "end_time": "2019-08-15T11:18:34.065235Z",
     "start_time": "2019-08-15T11:18:33.214Z"
    }
   },
   "outputs": [
    {
     "data": {
      "text/html": [
       "14"
      ],
      "text/latex": [
       "14"
      ],
      "text/markdown": [
       "14"
      ],
      "text/plain": [
       "[1] 14"
      ]
     },
     "metadata": {},
     "output_type": "display_data"
    },
    {
     "data": {
      "text/html": [
       "<ol class=list-inline>\n",
       "\t<li>'/ebio/abt3_projects/databases_no-backup/DeepMAsED/MAG_datasets/DeepLIFT/190815//Pasolli_mag/BackhedF_2015__SID282_B__bin_1/BackhedF_2015__SID282_B__bin.1.gff3'</li>\n",
       "\t<li>'/ebio/abt3_projects/databases_no-backup/DeepMAsED/MAG_datasets/DeepLIFT/190815//Pasolli_mag/BackhedF_2015__SID367_12M__bin_5/BackhedF_2015__SID367_12M__bin.5.gff3'</li>\n",
       "\t<li>'/ebio/abt3_projects/databases_no-backup/DeepMAsED/MAG_datasets/DeepLIFT/190815//Pasolli_mag/BackhedF_2015__SID39_12M__bin_14/BackhedF_2015__SID39_12M__bin.14.gff3'</li>\n",
       "</ol>\n"
      ],
      "text/latex": [
       "\\begin{enumerate*}\n",
       "\\item '/ebio/abt3\\_projects/databases\\_no-backup/DeepMAsED/MAG\\_datasets/DeepLIFT/190815//Pasolli\\_mag/BackhedF\\_2015\\_\\_SID282\\_B\\_\\_bin\\_1/BackhedF\\_2015\\_\\_SID282\\_B\\_\\_bin.1.gff3'\n",
       "\\item '/ebio/abt3\\_projects/databases\\_no-backup/DeepMAsED/MAG\\_datasets/DeepLIFT/190815//Pasolli\\_mag/BackhedF\\_2015\\_\\_SID367\\_12M\\_\\_bin\\_5/BackhedF\\_2015\\_\\_SID367\\_12M\\_\\_bin.5.gff3'\n",
       "\\item '/ebio/abt3\\_projects/databases\\_no-backup/DeepMAsED/MAG\\_datasets/DeepLIFT/190815//Pasolli\\_mag/BackhedF\\_2015\\_\\_SID39\\_12M\\_\\_bin\\_14/BackhedF\\_2015\\_\\_SID39\\_12M\\_\\_bin.14.gff3'\n",
       "\\end{enumerate*}\n"
      ],
      "text/markdown": [
       "1. '/ebio/abt3_projects/databases_no-backup/DeepMAsED/MAG_datasets/DeepLIFT/190815//Pasolli_mag/BackhedF_2015__SID282_B__bin_1/BackhedF_2015__SID282_B__bin.1.gff3'\n",
       "2. '/ebio/abt3_projects/databases_no-backup/DeepMAsED/MAG_datasets/DeepLIFT/190815//Pasolli_mag/BackhedF_2015__SID367_12M__bin_5/BackhedF_2015__SID367_12M__bin.5.gff3'\n",
       "3. '/ebio/abt3_projects/databases_no-backup/DeepMAsED/MAG_datasets/DeepLIFT/190815//Pasolli_mag/BackhedF_2015__SID39_12M__bin_14/BackhedF_2015__SID39_12M__bin.14.gff3'\n",
       "\n",
       "\n"
      ],
      "text/plain": [
       "[1] \"/ebio/abt3_projects/databases_no-backup/DeepMAsED/MAG_datasets/DeepLIFT/190815//Pasolli_mag/BackhedF_2015__SID282_B__bin_1/BackhedF_2015__SID282_B__bin.1.gff3\"    \n",
       "[2] \"/ebio/abt3_projects/databases_no-backup/DeepMAsED/MAG_datasets/DeepLIFT/190815//Pasolli_mag/BackhedF_2015__SID367_12M__bin_5/BackhedF_2015__SID367_12M__bin.5.gff3\"\n",
       "[3] \"/ebio/abt3_projects/databases_no-backup/DeepMAsED/MAG_datasets/DeepLIFT/190815//Pasolli_mag/BackhedF_2015__SID39_12M__bin_14/BackhedF_2015__SID39_12M__bin.14.gff3\""
      ]
     },
     "metadata": {},
     "output_type": "display_data"
    }
   ],
   "source": [
    "# copying gff files\n",
    "PE_gff_files_cp = mapply(cp_file, PE_gff_files$File, dirname(as.character(PE_gff_files$bw_file)), suffix='.gff3')\n",
    "PE_gff_files_cp %>% length\n",
    "PE_gff_files_cp %>% head(n=3)"
   ]
  },
  {
   "cell_type": "markdown",
   "metadata": {},
   "source": [
    "# IGV"
   ]
  },
  {
   "cell_type": "markdown",
   "metadata": {},
   "source": [
    "## IGV start-up"
   ]
  },
  {
   "cell_type": "markdown",
   "metadata": {
    "ExecuteTime": {
     "end_time": "2019-08-10T14:43:52.986226Z",
     "start_time": "2019-08-10T14:43:52.941Z"
    }
   },
   "source": [
    "```\n",
    "ssh -L 9720:localhost:9720 -Y nyoungblut@rick.eb.local\n",
    "cddev; conda activate igv\n",
    "cd /ebio/abt3_projects/databases_no-backup/DeepMAsED/MAG_datasets/DeepLIFT/190815/\n",
    "igv\n",
    "```"
   ]
  },
  {
   "cell_type": "code",
   "execution_count": null,
   "metadata": {},
   "outputs": [],
   "source": []
  },
  {
   "cell_type": "markdown",
   "metadata": {},
   "source": [
    "# --Sandbox--"
   ]
  },
  {
   "cell_type": "markdown",
   "metadata": {},
   "source": [
    "Test run\n",
    "\n",
    "```\n",
    "@ rick:/ebio/abt3_projects/databases_no-backup/DeepMAsED/MAG_datasets/DeepLIFT/190810/AlmeidaA2019_samples-n143_MAGs-n1519/ERR1293586_bin_15_Test\n",
    "\n",
    "gunzip -c /ebio/abt3_projects/databases_no-backup/DeepMAsED/MAG_datasets/AlmeidaA-2019/mags/ERR1293586_bin.15.fa.gz > ERR1293586_bin.15.fa\n",
    "\n",
    "cp /ebio/abt3_projects/databases_no-backup/DeepMAsED/MAG_datasets/AlmeidaA-2019/samples_n143_MAG-feats/map/ERR1293586_bin_15/ERR1293586.bam .\n",
    "\n",
    "cp /ebio/abt3_projects/databases_no-backup/DeepMAsED/MAG_datasets/AlmeidaA-2019/samples_n143_MAG-feats/map/ERR1293586_bin_15/ERR1293586.bam.bai .\n",
    "\n",
    "cp /ebio/abt3_projects/databases_no-backup/DeepMAsED/MAG_datasets/AlmeidaA-2019/prokka/ERR1293586_bin.15/ERR1293586_bin.15.gff ERR1293586_bin.15.gff3\n",
    "```\n",
    "\n",
    "WIG file\n",
    "\n",
    "```\n",
    "@ (igv) rick:/ebio/abt3_projects/databases_no-backup/DeepMAsED/MAG_datasets/DeepLIFT/190810/AlmeidaA2019_samples-n143_MAGs-n1519/ERR1293586_bin_15_Test\n",
    "bigWigToWig unk.bw unk.wig\n",
    "\n",
    "perl -pi -e 's/(cov_\\d)_(\\d+)/$1.$2/; s/_CONTIG\\d+//' unk.wig\n",
    "\n",
    "# contig in wig file: `NODE_5652_length_5635_cov_2.508961`\n",
    "```"
   ]
  }
 ],
 "metadata": {
  "kernelspec": {
   "display_name": "R [conda env:py3_physeq]",
   "language": "R",
   "name": "conda-env-py3_physeq-r"
  },
  "language_info": {
   "codemirror_mode": "r",
   "file_extension": ".r",
   "mimetype": "text/x-r-source",
   "name": "R",
   "pygments_lexer": "r",
   "version": "3.4.1"
  },
  "notify_time": "30",
  "toc": {
   "base_numbering": 1,
   "nav_menu": {},
   "number_sections": true,
   "sideBar": true,
   "skip_h1_title": false,
   "title_cell": "Table of Contents",
   "title_sidebar": "Contents",
   "toc_cell": true,
   "toc_position": {},
   "toc_section_display": true,
   "toc_window_display": true
  }
 },
 "nbformat": 4,
 "nbformat_minor": 2
}
