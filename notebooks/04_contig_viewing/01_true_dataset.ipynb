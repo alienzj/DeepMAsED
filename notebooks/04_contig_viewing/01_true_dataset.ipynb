{
 "cells": [
  {
   "cell_type": "markdown",
   "metadata": {
    "toc": true
   },
   "source": [
    "<h1>Table of Contents<span class=\"tocSkip\"></span></h1>\n",
    "<div class=\"toc\"><ul class=\"toc-item\"><li><span><a href=\"#Goal\" data-toc-modified-id=\"Goal-1\"><span class=\"toc-item-num\">1&nbsp;&nbsp;</span>Goal</a></span></li><li><span><a href=\"#Var\" data-toc-modified-id=\"Var-2\"><span class=\"toc-item-num\">2&nbsp;&nbsp;</span>Var</a></span></li><li><span><a href=\"#Init\" data-toc-modified-id=\"Init-3\"><span class=\"toc-item-num\">3&nbsp;&nbsp;</span>Init</a></span></li><li><span><a href=\"#Running-prokka-on-MAGs\" data-toc-modified-id=\"Running-prokka-on-MAGs-4\"><span class=\"toc-item-num\">4&nbsp;&nbsp;</span>Running prokka on MAGs</a></span></li><li><span><a href=\"#TODO\" data-toc-modified-id=\"TODO-5\"><span class=\"toc-item-num\">5&nbsp;&nbsp;</span>TODO</a></span></li><li><span><a href=\"#Adding-input-files\" data-toc-modified-id=\"Adding-input-files-6\"><span class=\"toc-item-num\">6&nbsp;&nbsp;</span>Adding input files</a></span></li><li><span><a href=\"#TODO\" data-toc-modified-id=\"TODO-7\"><span class=\"toc-item-num\">7&nbsp;&nbsp;</span>TODO</a></span></li></ul></div>"
   ]
  },
  {
   "cell_type": "markdown",
   "metadata": {},
   "source": [
    "# Goal\n",
    "\n",
    "* Creating genome views of DeepLIFT scores for the contigs of interest"
   ]
  },
  {
   "cell_type": "markdown",
   "metadata": {},
   "source": [
    "# Var"
   ]
  },
  {
   "cell_type": "code",
   "execution_count": 2,
   "metadata": {
    "ExecuteTime": {
     "end_time": "2019-08-10T14:43:03.058088Z",
     "start_time": "2019-08-10T14:43:02.968Z"
    }
   },
   "outputs": [],
   "source": [
    "work_dir = '/ebio/abt3_projects/databases_no-backup/DeepMAsED/MAG_datasets/DeepLIFT/190810/'"
   ]
  },
  {
   "cell_type": "markdown",
   "metadata": {},
   "source": [
    "# Init"
   ]
  },
  {
   "cell_type": "markdown",
   "metadata": {
    "ExecuteTime": {
     "end_time": "2019-08-10T14:43:52.986226Z",
     "start_time": "2019-08-10T14:43:52.941Z"
    }
   },
   "source": [
    "```\n",
    "ssh -L 9720:localhost:9720 -Y nyoungblut@rick.eb.local\n",
    "cd /ebio/abt3_projects/software/dev/\n",
    "conda activate igv\n",
    "cd /ebio/abt3_projects/databases_no-backup/DeepMAsED/MAG_datasets/DeepLIFT/190810/\n",
    "igv\n",
    "```"
   ]
  },
  {
   "cell_type": "markdown",
   "metadata": {},
   "source": [
    "# Running prokka on MAGs"
   ]
  },
  {
   "cell_type": "markdown",
   "metadata": {},
   "source": [
    "# TODO\n",
    "```\n",
    "prokka --cpus 12 --force --strain sim1 --outdir prokka_annot --prefix sim1 --kingdom Bacteria --metagenome contigs_filtered.fasta\n",
    "\n",
    "mv prokka_annot/sim1.gff prokka_annot/sim1.gff3\n",
    "```"
   ]
  },
  {
   "cell_type": "markdown",
   "metadata": {},
   "source": [
    "# Adding input files"
   ]
  },
  {
   "cell_type": "markdown",
   "metadata": {},
   "source": [
    "# TODO\n",
    "\n",
    "```\n",
    "# contigs\n",
    "cp -f /ebio/abt3_projects/databases_no-backup/DeepMAsED/train_runs/n1000_r30/assembly/1/metaspades/contigs_filtered.fasta .\n",
    "\n",
    "# bam\n",
    "cp -f /ebio/abt3_projects/databases_no-backup/DeepMAsED/train_runs/n1000_r30/map/1/metaspades.bam .\n",
    "\n",
    "# bam index\n",
    "cp -f /ebio/abt3_projects/databases_no-backup/DeepMAsED/train_runs/n1000_r30/map/1/metaspades.bam.bai .\n",
    "\n",
    "# gff\n",
    "\n",
    "\n",
    "```"
   ]
  },
  {
   "cell_type": "code",
   "execution_count": null,
   "metadata": {},
   "outputs": [],
   "source": []
  }
 ],
 "metadata": {
  "kernelspec": {
   "display_name": "R [conda env:py3_physeq]",
   "language": "R",
   "name": "conda-env-py3_physeq-r"
  },
  "language_info": {
   "codemirror_mode": "r",
   "file_extension": ".r",
   "mimetype": "text/x-r-source",
   "name": "R",
   "pygments_lexer": "r",
   "version": "3.4.1"
  },
  "toc": {
   "base_numbering": 1,
   "nav_menu": {},
   "number_sections": true,
   "sideBar": true,
   "skip_h1_title": false,
   "title_cell": "Table of Contents",
   "title_sidebar": "Contents",
   "toc_cell": true,
   "toc_position": {},
   "toc_section_display": true,
   "toc_window_display": false
  }
 },
 "nbformat": 4,
 "nbformat_minor": 2
}
