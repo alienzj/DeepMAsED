{
 "cells": [
  {
   "cell_type": "markdown",
   "metadata": {
    "toc": true
   },
   "source": [
    "<h1>Table of Contents<span class=\"tocSkip\"></span></h1>\n",
    "<div class=\"toc\"><ul class=\"toc-item\"><li><span><a href=\"#Goal\" data-toc-modified-id=\"Goal-1\"><span class=\"toc-item-num\">1&nbsp;&nbsp;</span>Goal</a></span></li><li><span><a href=\"#Var\" data-toc-modified-id=\"Var-2\"><span class=\"toc-item-num\">2&nbsp;&nbsp;</span>Var</a></span></li><li><span><a href=\"#Init\" data-toc-modified-id=\"Init-3\"><span class=\"toc-item-num\">3&nbsp;&nbsp;</span>Init</a></span></li><li><span><a href=\"#Load\" data-toc-modified-id=\"Load-4\"><span class=\"toc-item-num\">4&nbsp;&nbsp;</span>Load</a></span></li><li><span><a href=\"#MG-sample-subset-(n=100)\" data-toc-modified-id=\"MG-sample-subset-(n=100)-5\"><span class=\"toc-item-num\">5&nbsp;&nbsp;</span>MG sample subset (n=100)</a></span><ul class=\"toc-item\"><li><span><a href=\"#Writing-samples-file\" data-toc-modified-id=\"Writing-samples-file-5.1\"><span class=\"toc-item-num\">5.1&nbsp;&nbsp;</span>Writing samples file</a></span></li><li><span><a href=\"#LLMGQC\" data-toc-modified-id=\"LLMGQC-5.2\"><span class=\"toc-item-num\">5.2&nbsp;&nbsp;</span>LLMGQC</a></span></li><li><span><a href=\"#Creating-genome-sample-map-table\" data-toc-modified-id=\"Creating-genome-sample-map-table-5.3\"><span class=\"toc-item-num\">5.3&nbsp;&nbsp;</span>Creating genome-sample map table</a></span><ul class=\"toc-item\"><li><span><a href=\"#Writing-table\" data-toc-modified-id=\"Writing-table-5.3.1\"><span class=\"toc-item-num\">5.3.1&nbsp;&nbsp;</span>Writing table</a></span></li><li><span><a href=\"#Creating-features\" data-toc-modified-id=\"Creating-features-5.3.2\"><span class=\"toc-item-num\">5.3.2&nbsp;&nbsp;</span>Creating features</a></span></li></ul></li></ul></li><li><span><a href=\"#---debug---\" data-toc-modified-id=\"---debug----6\"><span class=\"toc-item-num\">6&nbsp;&nbsp;</span>-- debug --</a></span></li></ul></div>"
   ]
  },
  {
   "cell_type": "markdown",
   "metadata": {},
   "source": [
    "# Goal\n",
    "\n",
    "* create feature tables for [AlmeidaA et al., 2019 dataset](https://doi.org/10.1038/s41586-019-0965-1)"
   ]
  },
  {
   "cell_type": "markdown",
   "metadata": {},
   "source": [
    "# Var"
   ]
  },
  {
   "cell_type": "code",
   "execution_count": 1,
   "metadata": {
    "ExecuteTime": {
     "end_time": "2019-07-15T13:09:51.161430Z",
     "start_time": "2019-07-15T13:09:50.713Z"
    }
   },
   "outputs": [],
   "source": [
    "work_dir = '/ebio/abt3_projects/databases_no-backup/DeepMAsED/MAG_datasets/AlmeidaA-2019/'\n",
    "\n",
    "# checkM results for all MAGs\n",
    "checkm_res_file = file.path(work_dir, 'mags-gut_qs50_checkm.tab')"
   ]
  },
  {
   "cell_type": "markdown",
   "metadata": {},
   "source": [
    "# Init"
   ]
  },
  {
   "cell_type": "code",
   "execution_count": 2,
   "metadata": {
    "ExecuteTime": {
     "end_time": "2019-07-15T13:09:52.467504Z",
     "start_time": "2019-07-15T13:09:50.913Z"
    }
   },
   "outputs": [
    {
     "name": "stderr",
     "output_type": "stream",
     "text": [
      "\n",
      "Attaching package: ‘dplyr’\n",
      "\n",
      "The following objects are masked from ‘package:stats’:\n",
      "\n",
      "    filter, lag\n",
      "\n",
      "The following objects are masked from ‘package:base’:\n",
      "\n",
      "    intersect, setdiff, setequal, union\n",
      "\n"
     ]
    }
   ],
   "source": [
    "library(dplyr)\n",
    "library(tidyr)\n",
    "library(ggplot2)\n",
    "set.seed(18734)"
   ]
  },
  {
   "cell_type": "markdown",
   "metadata": {},
   "source": [
    "# Load"
   ]
  },
  {
   "cell_type": "code",
   "execution_count": 3,
   "metadata": {
    "ExecuteTime": {
     "end_time": "2019-07-15T13:09:55.943406Z",
     "start_time": "2019-07-15T13:09:51.386Z"
    }
   },
   "outputs": [
    {
     "name": "stdout",
     "output_type": "stream",
     "text": [
      "[1] 92143\n"
     ]
    },
    {
     "data": {
      "text/html": [
       "<table>\n",
       "<thead><tr><th scope=col>MAG</th><th scope=col>Completeness</th><th scope=col>Contamination</th><th scope=col>Strain_heterogeneity</th><th scope=col>CheckM_lineage</th></tr></thead>\n",
       "<tbody>\n",
       "\t<tr><td>SRR3496379_bin.19                                                             </td><td>96.98                                                                         </td><td>0.67                                                                          </td><td>  0                                                                           </td><td>k__Bacteria;p__Firmicutes;c__Clostridia;o__Clostridiales                      </td></tr>\n",
       "\t<tr><td>SRR3496379_bin.31                                                             </td><td>97.09                                                                         </td><td>1.80                                                                          </td><td>  0                                                                           </td><td>k__Bacteria;p__Bacteroidetes;c__Bacteroidia;o__Bacteroidales;f__Prevotellaceae</td></tr>\n",
       "\t<tr><td>SRR3496379_bin.37                                                             </td><td>78.63                                                                         </td><td>0.17                                                                          </td><td>100                                                                           </td><td>k__Bacteria;p__Firmicutes;c__Clostridia;o__Clostridiales                      </td></tr>\n",
       "</tbody>\n",
       "</table>\n"
      ],
      "text/latex": [
       "\\begin{tabular}{r|lllll}\n",
       " MAG & Completeness & Contamination & Strain\\_heterogeneity & CheckM\\_lineage\\\\\n",
       "\\hline\n",
       "\t SRR3496379\\_bin.19                                                                            & 96.98                                                                                          & 0.67                                                                                           &   0                                                                                            & k\\_\\_Bacteria;p\\_\\_Firmicutes;c\\_\\_Clostridia;o\\_\\_Clostridiales                      \\\\\n",
       "\t SRR3496379\\_bin.31                                                                                & 97.09                                                                                              & 1.80                                                                                               &   0                                                                                                & k\\_\\_Bacteria;p\\_\\_Bacteroidetes;c\\_\\_Bacteroidia;o\\_\\_Bacteroidales;f\\_\\_Prevotellaceae\\\\\n",
       "\t SRR3496379\\_bin.37                                                                            & 78.63                                                                                          & 0.17                                                                                           & 100                                                                                            & k\\_\\_Bacteria;p\\_\\_Firmicutes;c\\_\\_Clostridia;o\\_\\_Clostridiales                      \\\\\n",
       "\\end{tabular}\n"
      ],
      "text/markdown": [
       "\n",
       "MAG | Completeness | Contamination | Strain_heterogeneity | CheckM_lineage | \n",
       "|---|---|---|\n",
       "| SRR3496379_bin.19                                                              | 96.98                                                                          | 0.67                                                                           |   0                                                                            | k__Bacteria;p__Firmicutes;c__Clostridia;o__Clostridiales                       | \n",
       "| SRR3496379_bin.31                                                              | 97.09                                                                          | 1.80                                                                           |   0                                                                            | k__Bacteria;p__Bacteroidetes;c__Bacteroidia;o__Bacteroidales;f__Prevotellaceae | \n",
       "| SRR3496379_bin.37                                                              | 78.63                                                                          | 0.17                                                                           | 100                                                                            | k__Bacteria;p__Firmicutes;c__Clostridia;o__Clostridiales                       | \n",
       "\n",
       "\n"
      ],
      "text/plain": [
       "  MAG               Completeness Contamination Strain_heterogeneity\n",
       "1 SRR3496379_bin.19 96.98        0.67            0                 \n",
       "2 SRR3496379_bin.31 97.09        1.80            0                 \n",
       "3 SRR3496379_bin.37 78.63        0.17          100                 \n",
       "  CheckM_lineage                                                                \n",
       "1 k__Bacteria;p__Firmicutes;c__Clostridia;o__Clostridiales                      \n",
       "2 k__Bacteria;p__Bacteroidetes;c__Bacteroidia;o__Bacteroidales;f__Prevotellaceae\n",
       "3 k__Bacteria;p__Firmicutes;c__Clostridia;o__Clostridiales                      "
      ]
     },
     "metadata": {},
     "output_type": "display_data"
    }
   ],
   "source": [
    "checkm_res = read.delim(checkm_res_file, sep='\\t') \n",
    "checkm_res %>% nrow %>% print\n",
    "checkm_res %>% head(n=3)"
   ]
  },
  {
   "cell_type": "markdown",
   "metadata": {},
   "source": [
    "# MG sample subset (n=100)"
   ]
  },
  {
   "cell_type": "code",
   "execution_count": 4,
   "metadata": {
    "ExecuteTime": {
     "end_time": "2019-07-15T13:09:56.138687Z",
     "start_time": "2019-07-15T13:09:52.279Z"
    }
   },
   "outputs": [
    {
     "name": "stdout",
     "output_type": "stream",
     "text": [
      "[1] 10902\n"
     ]
    }
   ],
   "source": [
    "# getting NCBI accessions\n",
    "checkm_res = checkm_res %>%\n",
    "    mutate(acc = gsub('_bin\\\\.[0-9]+$', '', MAG)) \n",
    "\n",
    "checkm_res$acc %>% unique %>% length %>% print"
   ]
  },
  {
   "cell_type": "code",
   "execution_count": 5,
   "metadata": {
    "ExecuteTime": {
     "end_time": "2019-07-15T13:09:56.269343Z",
     "start_time": "2019-07-15T13:09:52.551Z"
    }
   },
   "outputs": [
    {
     "name": "stdout",
     "output_type": "stream",
     "text": [
      "[1] 100\n"
     ]
    },
    {
     "data": {
      "text/html": [
       "<ol class=list-inline>\n",
       "\t<li>'DRR042488'</li>\n",
       "\t<li>'DRR042592'</li>\n",
       "\t<li>'ERR011257'</li>\n",
       "\t<li>'ERR1018311'</li>\n",
       "\t<li>'ERR1190619'</li>\n",
       "\t<li>'ERR1293605'</li>\n",
       "</ol>\n"
      ],
      "text/latex": [
       "\\begin{enumerate*}\n",
       "\\item 'DRR042488'\n",
       "\\item 'DRR042592'\n",
       "\\item 'ERR011257'\n",
       "\\item 'ERR1018311'\n",
       "\\item 'ERR1190619'\n",
       "\\item 'ERR1293605'\n",
       "\\end{enumerate*}\n"
      ],
      "text/markdown": [
       "1. 'DRR042488'\n",
       "2. 'DRR042592'\n",
       "3. 'ERR011257'\n",
       "4. 'ERR1018311'\n",
       "5. 'ERR1190619'\n",
       "6. 'ERR1293605'\n",
       "\n",
       "\n"
      ],
      "text/plain": [
       "[1] \"DRR042488\"  \"DRR042592\"  \"ERR011257\"  \"ERR1018311\" \"ERR1190619\"\n",
       "[6] \"ERR1293605\""
      ]
     },
     "metadata": {},
     "output_type": "display_data"
    }
   ],
   "source": [
    "# randomly selecting subset of samples\n",
    "acc_sub1 = sample(checkm_res$acc, 100)\n",
    "acc_sub1 %>% length %>% print\n",
    "acc_sub1 %>% sort %>% head"
   ]
  },
  {
   "cell_type": "code",
   "execution_count": 6,
   "metadata": {
    "ExecuteTime": {
     "end_time": "2019-07-15T13:09:56.365915Z",
     "start_time": "2019-07-15T13:09:52.936Z"
    }
   },
   "outputs": [
    {
     "data": {
      "text/html": [
       "1782"
      ],
      "text/latex": [
       "1782"
      ],
      "text/markdown": [
       "1782"
      ],
      "text/plain": [
       "[1] 1782"
      ]
     },
     "metadata": {},
     "output_type": "display_data"
    }
   ],
   "source": [
    "# number of MAGs corresponding to samples\n",
    "checkm_res_f = checkm_res %>%\n",
    "    filter(acc %in% acc_sub1) \n",
    "\n",
    "checkm_res_f %>% nrow"
   ]
  },
  {
   "cell_type": "code",
   "execution_count": 7,
   "metadata": {
    "ExecuteTime": {
     "end_time": "2019-07-15T13:09:56.583993Z",
     "start_time": "2019-07-15T13:09:53.960Z"
    }
   },
   "outputs": [
    {
     "data": {
      "text/plain": [
       "  Completeness    Contamination   Strain_heterogeneity\n",
       " Min.   : 50.03   Min.   :0.000   Min.   :  0.00      \n",
       " 1st Qu.: 75.44   1st Qu.:0.220   1st Qu.:  0.00      \n",
       " Median : 88.77   Median :1.070   Median :  0.00      \n",
       " Mean   : 84.34   Mean   :1.563   Mean   : 14.67      \n",
       " 3rd Qu.: 95.33   3rd Qu.:2.260   3rd Qu.: 20.00      \n",
       " Max.   :100.00   Max.   :9.730   Max.   :100.00      "
      ]
     },
     "metadata": {},
     "output_type": "display_data"
    },
    {
     "data": {
      "text/plain": [
       "  Completeness    Contamination   Strain_heterogeneity\n",
       " Min.   : 50.04   Min.   :0.000   Min.   :  0.00      \n",
       " 1st Qu.: 76.49   1st Qu.:0.340   1st Qu.:  0.00      \n",
       " Median : 88.22   Median :1.200   Median :  0.00      \n",
       " Mean   : 84.37   Mean   :1.723   Mean   : 13.42      \n",
       " 3rd Qu.: 94.67   3rd Qu.:2.510   3rd Qu.: 16.67      \n",
       " Max.   :100.00   Max.   :9.430   Max.   :100.00      "
      ]
     },
     "metadata": {},
     "output_type": "display_data"
    }
   ],
   "source": [
    "# checkm stats\n",
    "checkm_res %>%\n",
    "    dplyr::select(Completeness, Contamination, Strain_heterogeneity) %>%\n",
    "    summary\n",
    "\n",
    "checkm_res_f %>%\n",
    "    dplyr::select(Completeness, Contamination, Strain_heterogeneity) %>%\n",
    "    summary"
   ]
  },
  {
   "cell_type": "markdown",
   "metadata": {},
   "source": [
    "## Writing samples file"
   ]
  },
  {
   "cell_type": "code",
   "execution_count": 10,
   "metadata": {
    "ExecuteTime": {
     "end_time": "2019-07-15T13:10:23.504080Z",
     "start_time": "2019-07-15T13:10:23.457Z"
    }
   },
   "outputs": [
    {
     "name": "stdout",
     "output_type": "stream",
     "text": [
      "File written: /ebio/abt3_projects/databases_no-backup/DeepMAsED/MAG_datasets/AlmeidaA-2019//samples_n100.txt \n"
     ]
    }
   ],
   "source": [
    "samples_file = file.path(work_dir, 'samples_n100.txt')\n",
    "checkm_res_f %>%\n",
    "    rename('Sample' = acc) %>%\n",
    "    mutate(Remote = Sample) %>%\n",
    "    distinct(Sample, Remote) %>%\n",
    "    mutate(Run = 1, Lane = 1) %>%\n",
    "    write.table(file=samples_file, sep='\\t', quote=FALSE, row.names=FALSE)\n",
    "cat('File written:', samples_file, '\\n')"
   ]
  },
  {
   "cell_type": "markdown",
   "metadata": {},
   "source": [
    "## LLMGQC\n",
    "\n",
    "* downloading and QC of selected MG samples"
   ]
  },
  {
   "cell_type": "markdown",
   "metadata": {},
   "source": [
    "```{bash}\n",
    "(snakemake_dev) @ rick:/ebio/abt3_projects/databases_no-backup/DeepMAsED/bin/llmgqc\n",
    "$ screen -L -S llmgqc-DM ./snakemake_sge.sh /ebio/abt3_projects/databases_no-backup/DeepMAsED/MAG_datasets/AlmeidaA-2019/LLMGQC/config.yaml cluster.json /ebio/abt3_projects/databases_no-backup/DeepMAsED/MAG_datasets/AlmeidaA-2019/LLMGQC/SGE_log 20\n",
    "```"
   ]
  },
  {
   "cell_type": "markdown",
   "metadata": {},
   "source": [
    "## Creating genome-sample map table\n",
    "\n",
    "* for mapping reads to genomes"
   ]
  },
  {
   "cell_type": "code",
   "execution_count": 41,
   "metadata": {
    "ExecuteTime": {
     "end_time": "2019-07-18T10:23:59.981218Z",
     "start_time": "2019-07-18T10:23:59.892Z"
    }
   },
   "outputs": [
    {
     "name": "stdout",
     "output_type": "stream",
     "text": [
      "[1] 1782\n"
     ]
    },
    {
     "data": {
      "text/html": [
       "<table>\n",
       "<thead><tr><th scope=col>Taxon</th><th scope=col>Completeness</th><th scope=col>Contamination</th><th scope=col>Strain_heterogeneity</th><th scope=col>CheckM_lineage</th><th scope=col>Sample</th><th scope=col>Fasta</th></tr></thead>\n",
       "<tbody>\n",
       "\t<tr><td>SRR1039533_bin.12                                                                                                           </td><td>99.29                                                                                                                       </td><td>0.95                                                                                                                        </td><td>0                                                                                                                           </td><td>k__Bacteria;p__Actinobacteria;c__Actinobacteria;o__Actinomycetales;f__Actinomycetaceae;g__Actinomyces                       </td><td>SRR1039533                                                                                                                  </td><td>/ebio/abt3_projects/databases_no-backup/DeepMAsED/MAG_datasets/AlmeidaA-2019/mags/SRR1039533_bin.12.fa.gz                   </td></tr>\n",
       "\t<tr><td>SRR1039533_bin.14                                                                                                           </td><td>69.19                                                                                                                       </td><td>0.00                                                                                                                        </td><td>0                                                                                                                           </td><td>k__Bacteria;p__Actinobacteria;c__Actinobacteria;o__Actinomycetales;f__Actinomycetaceae;g__Actinomyces_2;s__Actinomyces_neuii</td><td>SRR1039533                                                                                                                  </td><td>/ebio/abt3_projects/databases_no-backup/DeepMAsED/MAG_datasets/AlmeidaA-2019/mags/SRR1039533_bin.14.fa.gz                   </td></tr>\n",
       "\t<tr><td>SRR1039533_bin.19                                                                                                           </td><td>94.15                                                                                                                       </td><td>0.15                                                                                                                        </td><td>0                                                                                                                           </td><td>k__Bacteria;p__Actinobacteria;c__Actinobacteria;o__Actinomycetales;f__Dermabacteraceae                                      </td><td>SRR1039533                                                                                                                  </td><td>/ebio/abt3_projects/databases_no-backup/DeepMAsED/MAG_datasets/AlmeidaA-2019/mags/SRR1039533_bin.19.fa.gz                   </td></tr>\n",
       "</tbody>\n",
       "</table>\n"
      ],
      "text/latex": [
       "\\begin{tabular}{r|lllllll}\n",
       " Taxon & Completeness & Contamination & Strain\\_heterogeneity & CheckM\\_lineage & Sample & Fasta\\\\\n",
       "\\hline\n",
       "\t SRR1039533\\_bin.12                                                                                                                                  & 99.29                                                                                                                                                & 0.95                                                                                                                                                 & 0                                                                                                                                                    & k\\_\\_Bacteria;p\\_\\_Actinobacteria;c\\_\\_Actinobacteria;o\\_\\_Actinomycetales;f\\_\\_Actinomycetaceae;g\\_\\_Actinomyces                        & SRR1039533                                                                                                                                           & /ebio/abt3\\_projects/databases\\_no-backup/DeepMAsED/MAG\\_datasets/AlmeidaA-2019/mags/SRR1039533\\_bin.12.fa.gz                                   \\\\\n",
       "\t SRR1039533\\_bin.14                                                                                                                                          & 69.19                                                                                                                                                        & 0.00                                                                                                                                                         & 0                                                                                                                                                            & k\\_\\_Bacteria;p\\_\\_Actinobacteria;c\\_\\_Actinobacteria;o\\_\\_Actinomycetales;f\\_\\_Actinomycetaceae;g\\_\\_Actinomyces\\_2;s\\_\\_Actinomyces\\_neuii & SRR1039533                                                                                                                                                   & /ebio/abt3\\_projects/databases\\_no-backup/DeepMAsED/MAG\\_datasets/AlmeidaA-2019/mags/SRR1039533\\_bin.14.fa.gz                                           \\\\\n",
       "\t SRR1039533\\_bin.19                                                                                                                              & 94.15                                                                                                                                            & 0.15                                                                                                                                             & 0                                                                                                                                                & k\\_\\_Bacteria;p\\_\\_Actinobacteria;c\\_\\_Actinobacteria;o\\_\\_Actinomycetales;f\\_\\_Dermabacteraceae                                       & SRR1039533                                                                                                                                       & /ebio/abt3\\_projects/databases\\_no-backup/DeepMAsED/MAG\\_datasets/AlmeidaA-2019/mags/SRR1039533\\_bin.19.fa.gz                               \\\\\n",
       "\\end{tabular}\n"
      ],
      "text/markdown": [
       "\n",
       "Taxon | Completeness | Contamination | Strain_heterogeneity | CheckM_lineage | Sample | Fasta | \n",
       "|---|---|---|\n",
       "| SRR1039533_bin.12                                                                                                            | 99.29                                                                                                                        | 0.95                                                                                                                         | 0                                                                                                                            | k__Bacteria;p__Actinobacteria;c__Actinobacteria;o__Actinomycetales;f__Actinomycetaceae;g__Actinomyces                        | SRR1039533                                                                                                                   | /ebio/abt3_projects/databases_no-backup/DeepMAsED/MAG_datasets/AlmeidaA-2019/mags/SRR1039533_bin.12.fa.gz                    | \n",
       "| SRR1039533_bin.14                                                                                                            | 69.19                                                                                                                        | 0.00                                                                                                                         | 0                                                                                                                            | k__Bacteria;p__Actinobacteria;c__Actinobacteria;o__Actinomycetales;f__Actinomycetaceae;g__Actinomyces_2;s__Actinomyces_neuii | SRR1039533                                                                                                                   | /ebio/abt3_projects/databases_no-backup/DeepMAsED/MAG_datasets/AlmeidaA-2019/mags/SRR1039533_bin.14.fa.gz                    | \n",
       "| SRR1039533_bin.19                                                                                                            | 94.15                                                                                                                        | 0.15                                                                                                                         | 0                                                                                                                            | k__Bacteria;p__Actinobacteria;c__Actinobacteria;o__Actinomycetales;f__Dermabacteraceae                                       | SRR1039533                                                                                                                   | /ebio/abt3_projects/databases_no-backup/DeepMAsED/MAG_datasets/AlmeidaA-2019/mags/SRR1039533_bin.19.fa.gz                    | \n",
       "\n",
       "\n"
      ],
      "text/plain": [
       "  Taxon             Completeness Contamination Strain_heterogeneity\n",
       "1 SRR1039533_bin.12 99.29        0.95          0                   \n",
       "2 SRR1039533_bin.14 69.19        0.00          0                   \n",
       "3 SRR1039533_bin.19 94.15        0.15          0                   \n",
       "  CheckM_lineage                                                                                                              \n",
       "1 k__Bacteria;p__Actinobacteria;c__Actinobacteria;o__Actinomycetales;f__Actinomycetaceae;g__Actinomyces                       \n",
       "2 k__Bacteria;p__Actinobacteria;c__Actinobacteria;o__Actinomycetales;f__Actinomycetaceae;g__Actinomyces_2;s__Actinomyces_neuii\n",
       "3 k__Bacteria;p__Actinobacteria;c__Actinobacteria;o__Actinomycetales;f__Dermabacteraceae                                      \n",
       "  Sample    \n",
       "1 SRR1039533\n",
       "2 SRR1039533\n",
       "3 SRR1039533\n",
       "  Fasta                                                                                                    \n",
       "1 /ebio/abt3_projects/databases_no-backup/DeepMAsED/MAG_datasets/AlmeidaA-2019/mags/SRR1039533_bin.12.fa.gz\n",
       "2 /ebio/abt3_projects/databases_no-backup/DeepMAsED/MAG_datasets/AlmeidaA-2019/mags/SRR1039533_bin.14.fa.gz\n",
       "3 /ebio/abt3_projects/databases_no-backup/DeepMAsED/MAG_datasets/AlmeidaA-2019/mags/SRR1039533_bin.19.fa.gz"
      ]
     },
     "metadata": {},
     "output_type": "display_data"
    }
   ],
   "source": [
    "mag_dir = '/ebio/abt3_projects/databases_no-backup/DeepMAsED/MAG_datasets/AlmeidaA-2019/mags/'\n",
    "\n",
    "samp_mag_idx = checkm_res_f %>%\n",
    "    mutate(Fasta = sapply(as.character(MAG), function(x) paste(c(mag_dir, x, '.fa.gz'), collapse=''))) %>%\n",
    "    rename('Taxon' = MAG,\n",
    "           'Sample' = acc)\n",
    "\n",
    "samp_mag_idx %>% nrow %>% print\n",
    "samp_mag_idx %>% head(n=3)"
   ]
  },
  {
   "cell_type": "code",
   "execution_count": 39,
   "metadata": {
    "ExecuteTime": {
     "end_time": "2019-07-18T10:23:12.037242Z",
     "start_time": "2019-07-18T10:23:11.933Z"
    }
   },
   "outputs": [
    {
     "name": "stdout",
     "output_type": "stream",
     "text": [
      "[1] 36\n"
     ]
    },
    {
     "data": {
      "text/html": [
       "<ol class=list-inline>\n",
       "\t<li>'/ebio/abt3_projects/databases_no-backup/DeepMAsED/MAG_datasets/AlmeidaA-2019/LLMGQC/final//ERR1293605/R1_final.fq.gz'</li>\n",
       "\t<li>'/ebio/abt3_projects/databases_no-backup/DeepMAsED/MAG_datasets/AlmeidaA-2019/LLMGQC/final//ERR1293612/R1_final.fq.gz'</li>\n",
       "\t<li>'/ebio/abt3_projects/databases_no-backup/DeepMAsED/MAG_datasets/AlmeidaA-2019/LLMGQC/final//ERR1293672/R1_final.fq.gz'</li>\n",
       "</ol>\n"
      ],
      "text/latex": [
       "\\begin{enumerate*}\n",
       "\\item '/ebio/abt3\\_projects/databases\\_no-backup/DeepMAsED/MAG\\_datasets/AlmeidaA-2019/LLMGQC/final//ERR1293605/R1\\_final.fq.gz'\n",
       "\\item '/ebio/abt3\\_projects/databases\\_no-backup/DeepMAsED/MAG\\_datasets/AlmeidaA-2019/LLMGQC/final//ERR1293612/R1\\_final.fq.gz'\n",
       "\\item '/ebio/abt3\\_projects/databases\\_no-backup/DeepMAsED/MAG\\_datasets/AlmeidaA-2019/LLMGQC/final//ERR1293672/R1\\_final.fq.gz'\n",
       "\\end{enumerate*}\n"
      ],
      "text/markdown": [
       "1. '/ebio/abt3_projects/databases_no-backup/DeepMAsED/MAG_datasets/AlmeidaA-2019/LLMGQC/final//ERR1293605/R1_final.fq.gz'\n",
       "2. '/ebio/abt3_projects/databases_no-backup/DeepMAsED/MAG_datasets/AlmeidaA-2019/LLMGQC/final//ERR1293612/R1_final.fq.gz'\n",
       "3. '/ebio/abt3_projects/databases_no-backup/DeepMAsED/MAG_datasets/AlmeidaA-2019/LLMGQC/final//ERR1293672/R1_final.fq.gz'\n",
       "\n",
       "\n"
      ],
      "text/plain": [
       "[1] \"/ebio/abt3_projects/databases_no-backup/DeepMAsED/MAG_datasets/AlmeidaA-2019/LLMGQC/final//ERR1293605/R1_final.fq.gz\"\n",
       "[2] \"/ebio/abt3_projects/databases_no-backup/DeepMAsED/MAG_datasets/AlmeidaA-2019/LLMGQC/final//ERR1293612/R1_final.fq.gz\"\n",
       "[3] \"/ebio/abt3_projects/databases_no-backup/DeepMAsED/MAG_datasets/AlmeidaA-2019/LLMGQC/final//ERR1293672/R1_final.fq.gz\""
      ]
     },
     "metadata": {},
     "output_type": "display_data"
    },
    {
     "name": "stdout",
     "output_type": "stream",
     "text": [
      "[1] 36\n"
     ]
    },
    {
     "data": {
      "text/html": [
       "<ol class=list-inline>\n",
       "\t<li>'/ebio/abt3_projects/databases_no-backup/DeepMAsED/MAG_datasets/AlmeidaA-2019/LLMGQC/final//ERR1293605/R2_final.fq.gz'</li>\n",
       "\t<li>'/ebio/abt3_projects/databases_no-backup/DeepMAsED/MAG_datasets/AlmeidaA-2019/LLMGQC/final//ERR1293612/R2_final.fq.gz'</li>\n",
       "\t<li>'/ebio/abt3_projects/databases_no-backup/DeepMAsED/MAG_datasets/AlmeidaA-2019/LLMGQC/final//ERR1293672/R2_final.fq.gz'</li>\n",
       "</ol>\n"
      ],
      "text/latex": [
       "\\begin{enumerate*}\n",
       "\\item '/ebio/abt3\\_projects/databases\\_no-backup/DeepMAsED/MAG\\_datasets/AlmeidaA-2019/LLMGQC/final//ERR1293605/R2\\_final.fq.gz'\n",
       "\\item '/ebio/abt3\\_projects/databases\\_no-backup/DeepMAsED/MAG\\_datasets/AlmeidaA-2019/LLMGQC/final//ERR1293612/R2\\_final.fq.gz'\n",
       "\\item '/ebio/abt3\\_projects/databases\\_no-backup/DeepMAsED/MAG\\_datasets/AlmeidaA-2019/LLMGQC/final//ERR1293672/R2\\_final.fq.gz'\n",
       "\\end{enumerate*}\n"
      ],
      "text/markdown": [
       "1. '/ebio/abt3_projects/databases_no-backup/DeepMAsED/MAG_datasets/AlmeidaA-2019/LLMGQC/final//ERR1293605/R2_final.fq.gz'\n",
       "2. '/ebio/abt3_projects/databases_no-backup/DeepMAsED/MAG_datasets/AlmeidaA-2019/LLMGQC/final//ERR1293612/R2_final.fq.gz'\n",
       "3. '/ebio/abt3_projects/databases_no-backup/DeepMAsED/MAG_datasets/AlmeidaA-2019/LLMGQC/final//ERR1293672/R2_final.fq.gz'\n",
       "\n",
       "\n"
      ],
      "text/plain": [
       "[1] \"/ebio/abt3_projects/databases_no-backup/DeepMAsED/MAG_datasets/AlmeidaA-2019/LLMGQC/final//ERR1293605/R2_final.fq.gz\"\n",
       "[2] \"/ebio/abt3_projects/databases_no-backup/DeepMAsED/MAG_datasets/AlmeidaA-2019/LLMGQC/final//ERR1293612/R2_final.fq.gz\"\n",
       "[3] \"/ebio/abt3_projects/databases_no-backup/DeepMAsED/MAG_datasets/AlmeidaA-2019/LLMGQC/final//ERR1293672/R2_final.fq.gz\""
      ]
     },
     "metadata": {},
     "output_type": "display_data"
    },
    {
     "name": "stdout",
     "output_type": "stream",
     "text": [
      "[1] 36\n"
     ]
    },
    {
     "data": {
      "text/html": [
       "<table>\n",
       "<thead><tr><th scope=col>Sample</th><th scope=col>Read1</th><th scope=col>Read2</th></tr></thead>\n",
       "<tbody>\n",
       "\t<tr><td>ERR1293605                                                                                                          </td><td>/ebio/abt3_projects/databases_no-backup/DeepMAsED/MAG_datasets/AlmeidaA-2019/LLMGQC/final//ERR1293605/R1_final.fq.gz</td><td>/ebio/abt3_projects/databases_no-backup/DeepMAsED/MAG_datasets/AlmeidaA-2019/LLMGQC/final//ERR1293605/R2_final.fq.gz</td></tr>\n",
       "\t<tr><td>ERR1293612                                                                                                          </td><td>/ebio/abt3_projects/databases_no-backup/DeepMAsED/MAG_datasets/AlmeidaA-2019/LLMGQC/final//ERR1293612/R1_final.fq.gz</td><td>/ebio/abt3_projects/databases_no-backup/DeepMAsED/MAG_datasets/AlmeidaA-2019/LLMGQC/final//ERR1293612/R2_final.fq.gz</td></tr>\n",
       "\t<tr><td>ERR1293672                                                                                                          </td><td>/ebio/abt3_projects/databases_no-backup/DeepMAsED/MAG_datasets/AlmeidaA-2019/LLMGQC/final//ERR1293672/R1_final.fq.gz</td><td>/ebio/abt3_projects/databases_no-backup/DeepMAsED/MAG_datasets/AlmeidaA-2019/LLMGQC/final//ERR1293672/R2_final.fq.gz</td></tr>\n",
       "</tbody>\n",
       "</table>\n"
      ],
      "text/latex": [
       "\\begin{tabular}{r|lll}\n",
       " Sample & Read1 & Read2\\\\\n",
       "\\hline\n",
       "\t ERR1293605                                                                                                                   & /ebio/abt3\\_projects/databases\\_no-backup/DeepMAsED/MAG\\_datasets/AlmeidaA-2019/LLMGQC/final//ERR1293605/R1\\_final.fq.gz & /ebio/abt3\\_projects/databases\\_no-backup/DeepMAsED/MAG\\_datasets/AlmeidaA-2019/LLMGQC/final//ERR1293605/R2\\_final.fq.gz\\\\\n",
       "\t ERR1293612                                                                                                                   & /ebio/abt3\\_projects/databases\\_no-backup/DeepMAsED/MAG\\_datasets/AlmeidaA-2019/LLMGQC/final//ERR1293612/R1\\_final.fq.gz & /ebio/abt3\\_projects/databases\\_no-backup/DeepMAsED/MAG\\_datasets/AlmeidaA-2019/LLMGQC/final//ERR1293612/R2\\_final.fq.gz\\\\\n",
       "\t ERR1293672                                                                                                                   & /ebio/abt3\\_projects/databases\\_no-backup/DeepMAsED/MAG\\_datasets/AlmeidaA-2019/LLMGQC/final//ERR1293672/R1\\_final.fq.gz & /ebio/abt3\\_projects/databases\\_no-backup/DeepMAsED/MAG\\_datasets/AlmeidaA-2019/LLMGQC/final//ERR1293672/R2\\_final.fq.gz\\\\\n",
       "\\end{tabular}\n"
      ],
      "text/markdown": [
       "\n",
       "Sample | Read1 | Read2 | \n",
       "|---|---|---|\n",
       "| ERR1293605                                                                                                           | /ebio/abt3_projects/databases_no-backup/DeepMAsED/MAG_datasets/AlmeidaA-2019/LLMGQC/final//ERR1293605/R1_final.fq.gz | /ebio/abt3_projects/databases_no-backup/DeepMAsED/MAG_datasets/AlmeidaA-2019/LLMGQC/final//ERR1293605/R2_final.fq.gz | \n",
       "| ERR1293612                                                                                                           | /ebio/abt3_projects/databases_no-backup/DeepMAsED/MAG_datasets/AlmeidaA-2019/LLMGQC/final//ERR1293612/R1_final.fq.gz | /ebio/abt3_projects/databases_no-backup/DeepMAsED/MAG_datasets/AlmeidaA-2019/LLMGQC/final//ERR1293612/R2_final.fq.gz | \n",
       "| ERR1293672                                                                                                           | /ebio/abt3_projects/databases_no-backup/DeepMAsED/MAG_datasets/AlmeidaA-2019/LLMGQC/final//ERR1293672/R1_final.fq.gz | /ebio/abt3_projects/databases_no-backup/DeepMAsED/MAG_datasets/AlmeidaA-2019/LLMGQC/final//ERR1293672/R2_final.fq.gz | \n",
       "\n",
       "\n"
      ],
      "text/plain": [
       "  Sample    \n",
       "1 ERR1293605\n",
       "2 ERR1293612\n",
       "3 ERR1293672\n",
       "  Read1                                                                                                               \n",
       "1 /ebio/abt3_projects/databases_no-backup/DeepMAsED/MAG_datasets/AlmeidaA-2019/LLMGQC/final//ERR1293605/R1_final.fq.gz\n",
       "2 /ebio/abt3_projects/databases_no-backup/DeepMAsED/MAG_datasets/AlmeidaA-2019/LLMGQC/final//ERR1293612/R1_final.fq.gz\n",
       "3 /ebio/abt3_projects/databases_no-backup/DeepMAsED/MAG_datasets/AlmeidaA-2019/LLMGQC/final//ERR1293672/R1_final.fq.gz\n",
       "  Read2                                                                                                               \n",
       "1 /ebio/abt3_projects/databases_no-backup/DeepMAsED/MAG_datasets/AlmeidaA-2019/LLMGQC/final//ERR1293605/R2_final.fq.gz\n",
       "2 /ebio/abt3_projects/databases_no-backup/DeepMAsED/MAG_datasets/AlmeidaA-2019/LLMGQC/final//ERR1293612/R2_final.fq.gz\n",
       "3 /ebio/abt3_projects/databases_no-backup/DeepMAsED/MAG_datasets/AlmeidaA-2019/LLMGQC/final//ERR1293672/R2_final.fq.gz"
      ]
     },
     "metadata": {},
     "output_type": "display_data"
    }
   ],
   "source": [
    "# getting read locations for all samples\n",
    "P = '/ebio/abt3_projects/databases_no-backup/DeepMAsED/MAG_datasets/AlmeidaA-2019/LLMGQC/final/'\n",
    "R1_files = list.files(P, 'R1_final.fq.gz', recursive=TRUE, full.names=TRUE) \n",
    "R2_files = list.files(P, 'R2_final.fq.gz', recursive=TRUE, full.names=TRUE) \n",
    "\n",
    "R1_files %>% length %>% print\n",
    "R1_files %>% head(n=3)\n",
    "\n",
    "R2_files %>% length %>% print\n",
    "R2_files %>% head(n=3)\n",
    "\n",
    "## joining into a df\n",
    "samp_files = data.frame(Sample = basename(dirname(R1_files)),\n",
    "                        Read1 = R1_files,\n",
    "                        Read2 = R2_files)\n",
    "samp_files %>% nrow %>% print\n",
    "samp_files %>% head(n=3)"
   ]
  },
  {
   "cell_type": "code",
   "execution_count": 44,
   "metadata": {
    "ExecuteTime": {
     "end_time": "2019-07-18T10:24:32.582386Z",
     "start_time": "2019-07-18T10:24:32.505Z"
    }
   },
   "outputs": [
    {
     "name": "stderr",
     "output_type": "stream",
     "text": [
      "Warning message:\n",
      "“Column `Sample` joining character vector and factor, coercing into character vector”"
     ]
    },
    {
     "name": "stdout",
     "output_type": "stream",
     "text": [
      "[1] 1782\n"
     ]
    },
    {
     "data": {
      "text/html": [
       "<table>\n",
       "<thead><tr><th scope=col>Taxon</th><th scope=col>Completeness</th><th scope=col>Contamination</th><th scope=col>Strain_heterogeneity</th><th scope=col>CheckM_lineage</th><th scope=col>Sample</th><th scope=col>Fasta</th><th scope=col>Read1</th><th scope=col>Read2</th></tr></thead>\n",
       "<tbody>\n",
       "\t<tr><td>SRR1039533_bin.12                                                                                                           </td><td>99.29                                                                                                                       </td><td>0.95                                                                                                                        </td><td>0                                                                                                                           </td><td>k__Bacteria;p__Actinobacteria;c__Actinobacteria;o__Actinomycetales;f__Actinomycetaceae;g__Actinomyces                       </td><td>SRR1039533                                                                                                                  </td><td>/ebio/abt3_projects/databases_no-backup/DeepMAsED/MAG_datasets/AlmeidaA-2019/mags/SRR1039533_bin.12.fa.gz                   </td><td>NA                                                                                                                          </td><td>NA                                                                                                                          </td></tr>\n",
       "\t<tr><td>SRR1039533_bin.14                                                                                                           </td><td>69.19                                                                                                                       </td><td>0.00                                                                                                                        </td><td>0                                                                                                                           </td><td>k__Bacteria;p__Actinobacteria;c__Actinobacteria;o__Actinomycetales;f__Actinomycetaceae;g__Actinomyces_2;s__Actinomyces_neuii</td><td>SRR1039533                                                                                                                  </td><td>/ebio/abt3_projects/databases_no-backup/DeepMAsED/MAG_datasets/AlmeidaA-2019/mags/SRR1039533_bin.14.fa.gz                   </td><td>NA                                                                                                                          </td><td>NA                                                                                                                          </td></tr>\n",
       "\t<tr><td>SRR1039533_bin.19                                                                                                           </td><td>94.15                                                                                                                       </td><td>0.15                                                                                                                        </td><td>0                                                                                                                           </td><td>k__Bacteria;p__Actinobacteria;c__Actinobacteria;o__Actinomycetales;f__Dermabacteraceae                                      </td><td>SRR1039533                                                                                                                  </td><td>/ebio/abt3_projects/databases_no-backup/DeepMAsED/MAG_datasets/AlmeidaA-2019/mags/SRR1039533_bin.19.fa.gz                   </td><td>NA                                                                                                                          </td><td>NA                                                                                                                          </td></tr>\n",
       "</tbody>\n",
       "</table>\n"
      ],
      "text/latex": [
       "\\begin{tabular}{r|lllllllll}\n",
       " Taxon & Completeness & Contamination & Strain\\_heterogeneity & CheckM\\_lineage & Sample & Fasta & Read1 & Read2\\\\\n",
       "\\hline\n",
       "\t SRR1039533\\_bin.12                                                                                                                                  & 99.29                                                                                                                                                & 0.95                                                                                                                                                 & 0                                                                                                                                                    & k\\_\\_Bacteria;p\\_\\_Actinobacteria;c\\_\\_Actinobacteria;o\\_\\_Actinomycetales;f\\_\\_Actinomycetaceae;g\\_\\_Actinomyces                        & SRR1039533                                                                                                                                           & /ebio/abt3\\_projects/databases\\_no-backup/DeepMAsED/MAG\\_datasets/AlmeidaA-2019/mags/SRR1039533\\_bin.12.fa.gz                                    & NA                                                                                                                                                   & NA                                                                                                                                                  \\\\\n",
       "\t SRR1039533\\_bin.14                                                                                                                                          & 69.19                                                                                                                                                        & 0.00                                                                                                                                                         & 0                                                                                                                                                            & k\\_\\_Bacteria;p\\_\\_Actinobacteria;c\\_\\_Actinobacteria;o\\_\\_Actinomycetales;f\\_\\_Actinomycetaceae;g\\_\\_Actinomyces\\_2;s\\_\\_Actinomyces\\_neuii & SRR1039533                                                                                                                                                   & /ebio/abt3\\_projects/databases\\_no-backup/DeepMAsED/MAG\\_datasets/AlmeidaA-2019/mags/SRR1039533\\_bin.14.fa.gz                                            & NA                                                                                                                                                           & NA                                                                                                                                                          \\\\\n",
       "\t SRR1039533\\_bin.19                                                                                                                              & 94.15                                                                                                                                            & 0.15                                                                                                                                             & 0                                                                                                                                                & k\\_\\_Bacteria;p\\_\\_Actinobacteria;c\\_\\_Actinobacteria;o\\_\\_Actinomycetales;f\\_\\_Dermabacteraceae                                       & SRR1039533                                                                                                                                       & /ebio/abt3\\_projects/databases\\_no-backup/DeepMAsED/MAG\\_datasets/AlmeidaA-2019/mags/SRR1039533\\_bin.19.fa.gz                                & NA                                                                                                                                               & NA                                                                                                                                              \\\\\n",
       "\\end{tabular}\n"
      ],
      "text/markdown": [
       "\n",
       "Taxon | Completeness | Contamination | Strain_heterogeneity | CheckM_lineage | Sample | Fasta | Read1 | Read2 | \n",
       "|---|---|---|\n",
       "| SRR1039533_bin.12                                                                                                            | 99.29                                                                                                                        | 0.95                                                                                                                         | 0                                                                                                                            | k__Bacteria;p__Actinobacteria;c__Actinobacteria;o__Actinomycetales;f__Actinomycetaceae;g__Actinomyces                        | SRR1039533                                                                                                                   | /ebio/abt3_projects/databases_no-backup/DeepMAsED/MAG_datasets/AlmeidaA-2019/mags/SRR1039533_bin.12.fa.gz                    | NA                                                                                                                           | NA                                                                                                                           | \n",
       "| SRR1039533_bin.14                                                                                                            | 69.19                                                                                                                        | 0.00                                                                                                                         | 0                                                                                                                            | k__Bacteria;p__Actinobacteria;c__Actinobacteria;o__Actinomycetales;f__Actinomycetaceae;g__Actinomyces_2;s__Actinomyces_neuii | SRR1039533                                                                                                                   | /ebio/abt3_projects/databases_no-backup/DeepMAsED/MAG_datasets/AlmeidaA-2019/mags/SRR1039533_bin.14.fa.gz                    | NA                                                                                                                           | NA                                                                                                                           | \n",
       "| SRR1039533_bin.19                                                                                                            | 94.15                                                                                                                        | 0.15                                                                                                                         | 0                                                                                                                            | k__Bacteria;p__Actinobacteria;c__Actinobacteria;o__Actinomycetales;f__Dermabacteraceae                                       | SRR1039533                                                                                                                   | /ebio/abt3_projects/databases_no-backup/DeepMAsED/MAG_datasets/AlmeidaA-2019/mags/SRR1039533_bin.19.fa.gz                    | NA                                                                                                                           | NA                                                                                                                           | \n",
       "\n",
       "\n"
      ],
      "text/plain": [
       "  Taxon             Completeness Contamination Strain_heterogeneity\n",
       "1 SRR1039533_bin.12 99.29        0.95          0                   \n",
       "2 SRR1039533_bin.14 69.19        0.00          0                   \n",
       "3 SRR1039533_bin.19 94.15        0.15          0                   \n",
       "  CheckM_lineage                                                                                                              \n",
       "1 k__Bacteria;p__Actinobacteria;c__Actinobacteria;o__Actinomycetales;f__Actinomycetaceae;g__Actinomyces                       \n",
       "2 k__Bacteria;p__Actinobacteria;c__Actinobacteria;o__Actinomycetales;f__Actinomycetaceae;g__Actinomyces_2;s__Actinomyces_neuii\n",
       "3 k__Bacteria;p__Actinobacteria;c__Actinobacteria;o__Actinomycetales;f__Dermabacteraceae                                      \n",
       "  Sample    \n",
       "1 SRR1039533\n",
       "2 SRR1039533\n",
       "3 SRR1039533\n",
       "  Fasta                                                                                                    \n",
       "1 /ebio/abt3_projects/databases_no-backup/DeepMAsED/MAG_datasets/AlmeidaA-2019/mags/SRR1039533_bin.12.fa.gz\n",
       "2 /ebio/abt3_projects/databases_no-backup/DeepMAsED/MAG_datasets/AlmeidaA-2019/mags/SRR1039533_bin.14.fa.gz\n",
       "3 /ebio/abt3_projects/databases_no-backup/DeepMAsED/MAG_datasets/AlmeidaA-2019/mags/SRR1039533_bin.19.fa.gz\n",
       "  Read1 Read2\n",
       "1 NA    NA   \n",
       "2 NA    NA   \n",
       "3 NA    NA   "
      ]
     },
     "metadata": {},
     "output_type": "display_data"
    }
   ],
   "source": [
    "# joining with samp-mag index\n",
    "samp_mag_idx = samp_mag_idx %>%\n",
    "    left_join(samp_files, c('Sample')) \n",
    "\n",
    "samp_mag_idx %>% nrow %>% print\n",
    "samp_mag_idx %>% head(n=3)"
   ]
  },
  {
   "cell_type": "code",
   "execution_count": 46,
   "metadata": {
    "ExecuteTime": {
     "end_time": "2019-07-18T10:34:48.822991Z",
     "start_time": "2019-07-18T10:34:48.728Z"
    }
   },
   "outputs": [
    {
     "data": {
      "text/plain": [
       "              Taxon       Completeness    Contamination   Strain_heterogeneity\n",
       " DRR042488_bin.11:   1   Min.   : 50.04   Min.   :0.000   Min.   :  0.00      \n",
       " DRR042488_bin.13:   1   1st Qu.: 76.49   1st Qu.:0.340   1st Qu.:  0.00      \n",
       " DRR042488_bin.14:   1   Median : 88.22   Median :1.200   Median :  0.00      \n",
       " DRR042488_bin.15:   1   Mean   : 84.37   Mean   :1.723   Mean   : 13.42      \n",
       " DRR042488_bin.20:   1   3rd Qu.: 94.67   3rd Qu.:2.510   3rd Qu.: 16.67      \n",
       " DRR042488_bin.22:   1   Max.   :100.00   Max.   :9.430   Max.   :100.00      \n",
       " (Other)         :1776                                                        \n",
       "                                                                                        CheckM_lineage\n",
       " k__Bacteria;p__Firmicutes;c__Clostridia;o__Clostridiales                                      :392   \n",
       " k__Bacteria;p__Firmicutes;c__Clostridia;o__Clostridiales;f__Ruminococcaceae                   :209   \n",
       " k__Bacteria;p__Firmicutes;c__Clostridia;o__Clostridiales;f__Lachnospiraceae                   :102   \n",
       " k__Bacteria;p__Bacteroidetes;c__Bacteroidia;o__Bacteroidales;f__Rikenellaceae;g__Alistipes    : 81   \n",
       " k__Bacteria;p__Bacteroidetes;c__Bacteroidia;o__Bacteroidales;f__Prevotellaceae;g__Prevotella  : 60   \n",
       " k__Bacteria;p__Firmicutes;c__Clostridia;o__Clostridiales;f__Lachnospiraceae;g__Lachnobacterium: 60   \n",
       " (Other)                                                                                       :878   \n",
       "    Sample             Fasta          \n",
       " Length:1782        Length:1782       \n",
       " Class :character   Class :character  \n",
       " Mode  :character   Mode  :character  \n",
       "                                      \n",
       "                                      \n",
       "                                      \n",
       "                                      \n",
       "                                                                                                                  Read1     \n",
       " /ebio/abt3_projects/databases_no-backup/DeepMAsED/MAG_datasets/AlmeidaA-2019/LLMGQC/final//SRR5056950/R1_final.fq.gz:  29  \n",
       " /ebio/abt3_projects/databases_no-backup/DeepMAsED/MAG_datasets/AlmeidaA-2019/LLMGQC/final//SRR5056664/R1_final.fq.gz:  28  \n",
       " /ebio/abt3_projects/databases_no-backup/DeepMAsED/MAG_datasets/AlmeidaA-2019/LLMGQC/final//SRR5558036/R1_final.fq.gz:  25  \n",
       " /ebio/abt3_projects/databases_no-backup/DeepMAsED/MAG_datasets/AlmeidaA-2019/LLMGQC/final//SRR5056661/R1_final.fq.gz:  22  \n",
       " /ebio/abt3_projects/databases_no-backup/DeepMAsED/MAG_datasets/AlmeidaA-2019/LLMGQC/final//SRR5106508/R1_final.fq.gz:  21  \n",
       " (Other)                                                                                                             : 292  \n",
       " NA's                                                                                                                :1365  \n",
       "                                                                                                                  Read2     \n",
       " /ebio/abt3_projects/databases_no-backup/DeepMAsED/MAG_datasets/AlmeidaA-2019/LLMGQC/final//SRR5056950/R2_final.fq.gz:  29  \n",
       " /ebio/abt3_projects/databases_no-backup/DeepMAsED/MAG_datasets/AlmeidaA-2019/LLMGQC/final//SRR5056664/R2_final.fq.gz:  28  \n",
       " /ebio/abt3_projects/databases_no-backup/DeepMAsED/MAG_datasets/AlmeidaA-2019/LLMGQC/final//SRR5558036/R2_final.fq.gz:  25  \n",
       " /ebio/abt3_projects/databases_no-backup/DeepMAsED/MAG_datasets/AlmeidaA-2019/LLMGQC/final//SRR5056661/R2_final.fq.gz:  22  \n",
       " /ebio/abt3_projects/databases_no-backup/DeepMAsED/MAG_datasets/AlmeidaA-2019/LLMGQC/final//SRR5106508/R2_final.fq.gz:  21  \n",
       " (Other)                                                                                                             : 292  \n",
       " NA's                                                                                                                :1365  "
      ]
     },
     "metadata": {},
     "output_type": "display_data"
    }
   ],
   "source": [
    "samp_mag_idx %>% \n",
    "    summary"
   ]
  },
  {
   "cell_type": "markdown",
   "metadata": {},
   "source": [
    "### Writing table"
   ]
  },
  {
   "cell_type": "code",
   "execution_count": 45,
   "metadata": {
    "ExecuteTime": {
     "end_time": "2019-07-18T10:26:17.867670Z",
     "start_time": "2019-07-18T10:26:17.788Z"
    }
   },
   "outputs": [
    {
     "name": "stdout",
     "output_type": "stream",
     "text": [
      "File written: /ebio/abt3_projects/databases_no-backup/DeepMAsED/MAG_datasets/AlmeidaA-2019//samples_n100_w-MAGs.txt \n"
     ]
    }
   ],
   "source": [
    "samp_mag_idx_file = file.path(work_dir, 'samples_n100_w-MAGs.txt')\n",
    "write.table(samp_mag_idx, samp_mag_idx_file, sep='\\t', quote=FALSE, row.names=FALSE)\n",
    "cat('File written:', samp_mag_idx_file, '\\n')"
   ]
  },
  {
   "cell_type": "markdown",
   "metadata": {},
   "source": [
    "### Creating features\n",
    "\n",
    "* Using DeepMAsED"
   ]
  },
  {
   "cell_type": "code",
   "execution_count": null,
   "metadata": {},
   "outputs": [],
   "source": []
  },
  {
   "cell_type": "code",
   "execution_count": null,
   "metadata": {},
   "outputs": [],
   "source": []
  },
  {
   "cell_type": "code",
   "execution_count": null,
   "metadata": {},
   "outputs": [],
   "source": []
  },
  {
   "cell_type": "markdown",
   "metadata": {},
   "source": [
    "# -- debug --"
   ]
  },
  {
   "cell_type": "code",
   "execution_count": 21,
   "metadata": {
    "ExecuteTime": {
     "end_time": "2019-07-16T19:56:31.234290Z",
     "start_time": "2019-07-16T19:56:31.190Z"
    }
   },
   "outputs": [
    {
     "name": "stdout",
     "output_type": "stream",
     "text": [
      "ERR1018311_bin.53\n",
      "ERR1018311_bin.57\n",
      "ERR1018311_bin.54\n",
      "ERR1018311_bin.66\n",
      "ERR1018311_bin.55\n",
      "ERR1018311_bin.75"
     ]
    }
   ],
   "source": [
    "checkm_res_f %>%\n",
    "    filter(acc == 'ERR1018311') %>%\n",
    "    .$MAG %>% head %>% paste(collapse='\\n') %>% cat"
   ]
  },
  {
   "cell_type": "code",
   "execution_count": 19,
   "metadata": {
    "ExecuteTime": {
     "end_time": "2019-07-16T13:09:16.649222Z",
     "start_time": "2019-07-16T13:09:16.614Z"
    }
   },
   "outputs": [
    {
     "name": "stdout",
     "output_type": "stream",
     "text": [
      "SRR2047628_bin.7\n",
      "SRR2047628_bin.5\n",
      "SRR2047628_bin.1"
     ]
    }
   ],
   "source": [
    "checkm_res_f %>%\n",
    "    filter(acc == 'SRR2047628') %>%\n",
    "    .$MAG %>% head %>% paste(collapse='\\n') %>% cat"
   ]
  }
 ],
 "metadata": {
  "kernelspec": {
   "display_name": "R [conda env:py3_physeq]",
   "language": "R",
   "name": "conda-env-py3_physeq-r"
  },
  "language_info": {
   "codemirror_mode": "r",
   "file_extension": ".r",
   "mimetype": "text/x-r-source",
   "name": "R",
   "pygments_lexer": "r",
   "version": "3.4.1"
  },
  "notify_time": "30",
  "toc": {
   "base_numbering": 1,
   "nav_menu": {},
   "number_sections": true,
   "sideBar": true,
   "skip_h1_title": false,
   "title_cell": "Table of Contents",
   "title_sidebar": "Contents",
   "toc_cell": true,
   "toc_position": {},
   "toc_section_display": true,
   "toc_window_display": true
  }
 },
 "nbformat": 4,
 "nbformat_minor": 2
}
