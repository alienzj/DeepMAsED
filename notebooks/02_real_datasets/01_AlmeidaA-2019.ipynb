{
 "cells": [
  {
   "cell_type": "markdown",
   "metadata": {
    "toc": true
   },
   "source": [
    "<h1>Table of Contents<span class=\"tocSkip\"></span></h1>\n",
    "<div class=\"toc\"><ul class=\"toc-item\"><li><span><a href=\"#Goal\" data-toc-modified-id=\"Goal-1\"><span class=\"toc-item-num\">1&nbsp;&nbsp;</span>Goal</a></span></li><li><span><a href=\"#Var\" data-toc-modified-id=\"Var-2\"><span class=\"toc-item-num\">2&nbsp;&nbsp;</span>Var</a></span></li><li><span><a href=\"#Init\" data-toc-modified-id=\"Init-3\"><span class=\"toc-item-num\">3&nbsp;&nbsp;</span>Init</a></span></li><li><span><a href=\"#Load\" data-toc-modified-id=\"Load-4\"><span class=\"toc-item-num\">4&nbsp;&nbsp;</span>Load</a></span></li><li><span><a href=\"#MG-sample-subset-(n=100)\" data-toc-modified-id=\"MG-sample-subset-(n=100)-5\"><span class=\"toc-item-num\">5&nbsp;&nbsp;</span>MG sample subset (n=100)</a></span><ul class=\"toc-item\"><li><span><a href=\"#Writing-samples-file\" data-toc-modified-id=\"Writing-samples-file-5.1\"><span class=\"toc-item-num\">5.1&nbsp;&nbsp;</span>Writing samples file</a></span></li><li><span><a href=\"#LLMGQC\" data-toc-modified-id=\"LLMGQC-5.2\"><span class=\"toc-item-num\">5.2&nbsp;&nbsp;</span>LLMGQC</a></span></li><li><span><a href=\"#Determining-which-worked\" data-toc-modified-id=\"Determining-which-worked-5.3\"><span class=\"toc-item-num\">5.3&nbsp;&nbsp;</span>Determining which worked</a></span></li><li><span><a href=\"#LLMGQC\" data-toc-modified-id=\"LLMGQC-5.4\"><span class=\"toc-item-num\">5.4&nbsp;&nbsp;</span>LLMGQC</a></span></li><li><span><a href=\"#Determining-which-worked\" data-toc-modified-id=\"Determining-which-worked-5.5\"><span class=\"toc-item-num\">5.5&nbsp;&nbsp;</span>Determining which worked</a></span></li><li><span><a href=\"#LLMGQC\" data-toc-modified-id=\"LLMGQC-5.6\"><span class=\"toc-item-num\">5.6&nbsp;&nbsp;</span>LLMGQC</a></span><ul class=\"toc-item\"><li><span><a href=\"#Creating-genome-sample-map-table\" data-toc-modified-id=\"Creating-genome-sample-map-table-5.6.1\"><span class=\"toc-item-num\">5.6.1&nbsp;&nbsp;</span>Creating genome-sample map table</a></span></li><li><span><a href=\"#Writing-table\" data-toc-modified-id=\"Writing-table-5.6.2\"><span class=\"toc-item-num\">5.6.2&nbsp;&nbsp;</span>Writing table</a></span></li><li><span><a href=\"#Creating-features\" data-toc-modified-id=\"Creating-features-5.6.3\"><span class=\"toc-item-num\">5.6.3&nbsp;&nbsp;</span>Creating features</a></span></li></ul></li><li><span><a href=\"#Summary\" data-toc-modified-id=\"Summary-5.7\"><span class=\"toc-item-num\">5.7&nbsp;&nbsp;</span>Summary</a></span></li></ul></li><li><span><a href=\"#sessionInfo\" data-toc-modified-id=\"sessionInfo-6\"><span class=\"toc-item-num\">6&nbsp;&nbsp;</span>sessionInfo</a></span></li></ul></div>"
   ]
  },
  {
   "cell_type": "markdown",
   "metadata": {},
   "source": [
    "# Goal\n",
    "\n",
    "* create feature tables for [AlmeidaA et al., 2019 dataset](https://doi.org/10.1038/s41586-019-0965-1)"
   ]
  },
  {
   "cell_type": "markdown",
   "metadata": {},
   "source": [
    "# Var"
   ]
  },
  {
   "cell_type": "code",
   "execution_count": 1,
   "metadata": {
    "ExecuteTime": {
     "end_time": "2019-07-25T18:28:00.376851Z",
     "start_time": "2019-07-25T18:27:59.905Z"
    }
   },
   "outputs": [],
   "source": [
    "work_dir = '/ebio/abt3_projects/databases_no-backup/DeepMAsED/MAG_datasets/AlmeidaA-2019/'\n",
    "\n",
    "# checkM results for all MAGs\n",
    "checkm_res_file = file.path(work_dir, 'mags-gut_qs50_checkm.tab')"
   ]
  },
  {
   "cell_type": "markdown",
   "metadata": {},
   "source": [
    "# Init"
   ]
  },
  {
   "cell_type": "code",
   "execution_count": 2,
   "metadata": {
    "ExecuteTime": {
     "end_time": "2019-07-25T18:28:01.182676Z",
     "start_time": "2019-07-25T18:28:00.188Z"
    }
   },
   "outputs": [
    {
     "name": "stderr",
     "output_type": "stream",
     "text": [
      "\n",
      "Attaching package: ‘dplyr’\n",
      "\n",
      "The following objects are masked from ‘package:stats’:\n",
      "\n",
      "    filter, lag\n",
      "\n",
      "The following objects are masked from ‘package:base’:\n",
      "\n",
      "    intersect, setdiff, setequal, union\n",
      "\n"
     ]
    }
   ],
   "source": [
    "library(dplyr)\n",
    "library(tidyr)\n",
    "library(ggplot2)\n",
    "set.seed(18734)"
   ]
  },
  {
   "cell_type": "markdown",
   "metadata": {},
   "source": [
    "# Load"
   ]
  },
  {
   "cell_type": "code",
   "execution_count": 3,
   "metadata": {
    "ExecuteTime": {
     "end_time": "2019-07-25T18:28:04.731375Z",
     "start_time": "2019-07-25T18:28:01.184Z"
    }
   },
   "outputs": [
    {
     "name": "stdout",
     "output_type": "stream",
     "text": [
      "[1] 92143\n"
     ]
    },
    {
     "data": {
      "text/html": [
       "<table>\n",
       "<thead><tr><th scope=col>MAG</th><th scope=col>Completeness</th><th scope=col>Contamination</th><th scope=col>Strain_heterogeneity</th><th scope=col>CheckM_lineage</th></tr></thead>\n",
       "<tbody>\n",
       "\t<tr><td>SRR3496379_bin.19                                                             </td><td>96.98                                                                         </td><td>0.67                                                                          </td><td>  0                                                                           </td><td>k__Bacteria;p__Firmicutes;c__Clostridia;o__Clostridiales                      </td></tr>\n",
       "\t<tr><td>SRR3496379_bin.31                                                             </td><td>97.09                                                                         </td><td>1.80                                                                          </td><td>  0                                                                           </td><td>k__Bacteria;p__Bacteroidetes;c__Bacteroidia;o__Bacteroidales;f__Prevotellaceae</td></tr>\n",
       "\t<tr><td>SRR3496379_bin.37                                                             </td><td>78.63                                                                         </td><td>0.17                                                                          </td><td>100                                                                           </td><td>k__Bacteria;p__Firmicutes;c__Clostridia;o__Clostridiales                      </td></tr>\n",
       "</tbody>\n",
       "</table>\n"
      ],
      "text/latex": [
       "\\begin{tabular}{r|lllll}\n",
       " MAG & Completeness & Contamination & Strain\\_heterogeneity & CheckM\\_lineage\\\\\n",
       "\\hline\n",
       "\t SRR3496379\\_bin.19                                                                            & 96.98                                                                                          & 0.67                                                                                           &   0                                                                                            & k\\_\\_Bacteria;p\\_\\_Firmicutes;c\\_\\_Clostridia;o\\_\\_Clostridiales                      \\\\\n",
       "\t SRR3496379\\_bin.31                                                                                & 97.09                                                                                              & 1.80                                                                                               &   0                                                                                                & k\\_\\_Bacteria;p\\_\\_Bacteroidetes;c\\_\\_Bacteroidia;o\\_\\_Bacteroidales;f\\_\\_Prevotellaceae\\\\\n",
       "\t SRR3496379\\_bin.37                                                                            & 78.63                                                                                          & 0.17                                                                                           & 100                                                                                            & k\\_\\_Bacteria;p\\_\\_Firmicutes;c\\_\\_Clostridia;o\\_\\_Clostridiales                      \\\\\n",
       "\\end{tabular}\n"
      ],
      "text/markdown": [
       "\n",
       "MAG | Completeness | Contamination | Strain_heterogeneity | CheckM_lineage | \n",
       "|---|---|---|\n",
       "| SRR3496379_bin.19                                                              | 96.98                                                                          | 0.67                                                                           |   0                                                                            | k__Bacteria;p__Firmicutes;c__Clostridia;o__Clostridiales                       | \n",
       "| SRR3496379_bin.31                                                              | 97.09                                                                          | 1.80                                                                           |   0                                                                            | k__Bacteria;p__Bacteroidetes;c__Bacteroidia;o__Bacteroidales;f__Prevotellaceae | \n",
       "| SRR3496379_bin.37                                                              | 78.63                                                                          | 0.17                                                                           | 100                                                                            | k__Bacteria;p__Firmicutes;c__Clostridia;o__Clostridiales                       | \n",
       "\n",
       "\n"
      ],
      "text/plain": [
       "  MAG               Completeness Contamination Strain_heterogeneity\n",
       "1 SRR3496379_bin.19 96.98        0.67            0                 \n",
       "2 SRR3496379_bin.31 97.09        1.80            0                 \n",
       "3 SRR3496379_bin.37 78.63        0.17          100                 \n",
       "  CheckM_lineage                                                                \n",
       "1 k__Bacteria;p__Firmicutes;c__Clostridia;o__Clostridiales                      \n",
       "2 k__Bacteria;p__Bacteroidetes;c__Bacteroidia;o__Bacteroidales;f__Prevotellaceae\n",
       "3 k__Bacteria;p__Firmicutes;c__Clostridia;o__Clostridiales                      "
      ]
     },
     "metadata": {},
     "output_type": "display_data"
    }
   ],
   "source": [
    "checkm_res = read.delim(checkm_res_file, sep='\\t') \n",
    "checkm_res %>% nrow %>% print\n",
    "checkm_res %>% head(n=3)"
   ]
  },
  {
   "cell_type": "markdown",
   "metadata": {},
   "source": [
    "# MG sample subset (n=100)"
   ]
  },
  {
   "cell_type": "code",
   "execution_count": 4,
   "metadata": {
    "ExecuteTime": {
     "end_time": "2019-07-25T18:28:04.926937Z",
     "start_time": "2019-07-25T18:28:01.489Z"
    }
   },
   "outputs": [
    {
     "name": "stdout",
     "output_type": "stream",
     "text": [
      "[1] 10902\n"
     ]
    }
   ],
   "source": [
    "# getting NCBI accessions\n",
    "checkm_res = checkm_res %>%\n",
    "    mutate(acc = gsub('_bin\\\\.[0-9]+$', '', MAG)) \n",
    "\n",
    "checkm_res$acc %>% unique %>% length %>% print"
   ]
  },
  {
   "cell_type": "code",
   "execution_count": 5,
   "metadata": {
    "ExecuteTime": {
     "end_time": "2019-07-25T18:28:05.064533Z",
     "start_time": "2019-07-25T18:28:01.812Z"
    }
   },
   "outputs": [
    {
     "name": "stdout",
     "output_type": "stream",
     "text": [
      "[1] 100\n"
     ]
    },
    {
     "data": {
      "text/html": [
       "<ol class=list-inline>\n",
       "\t<li>'DRR042488'</li>\n",
       "\t<li>'DRR042592'</li>\n",
       "\t<li>'ERR011257'</li>\n",
       "\t<li>'ERR1018311'</li>\n",
       "\t<li>'ERR1190619'</li>\n",
       "\t<li>'ERR1293605'</li>\n",
       "</ol>\n"
      ],
      "text/latex": [
       "\\begin{enumerate*}\n",
       "\\item 'DRR042488'\n",
       "\\item 'DRR042592'\n",
       "\\item 'ERR011257'\n",
       "\\item 'ERR1018311'\n",
       "\\item 'ERR1190619'\n",
       "\\item 'ERR1293605'\n",
       "\\end{enumerate*}\n"
      ],
      "text/markdown": [
       "1. 'DRR042488'\n",
       "2. 'DRR042592'\n",
       "3. 'ERR011257'\n",
       "4. 'ERR1018311'\n",
       "5. 'ERR1190619'\n",
       "6. 'ERR1293605'\n",
       "\n",
       "\n"
      ],
      "text/plain": [
       "[1] \"DRR042488\"  \"DRR042592\"  \"ERR011257\"  \"ERR1018311\" \"ERR1190619\"\n",
       "[6] \"ERR1293605\""
      ]
     },
     "metadata": {},
     "output_type": "display_data"
    }
   ],
   "source": [
    "# randomly selecting subset of samples\n",
    "acc_sub1 = sample(checkm_res$acc, 100)\n",
    "acc_sub1 %>% length %>% print\n",
    "acc_sub1 %>% sort %>% head"
   ]
  },
  {
   "cell_type": "code",
   "execution_count": 6,
   "metadata": {
    "ExecuteTime": {
     "end_time": "2019-07-25T18:28:05.162884Z",
     "start_time": "2019-07-25T18:28:02.709Z"
    }
   },
   "outputs": [
    {
     "data": {
      "text/html": [
       "1782"
      ],
      "text/latex": [
       "1782"
      ],
      "text/markdown": [
       "1782"
      ],
      "text/plain": [
       "[1] 1782"
      ]
     },
     "metadata": {},
     "output_type": "display_data"
    }
   ],
   "source": [
    "# number of MAGs corresponding to samples\n",
    "checkm_res_f = checkm_res %>%\n",
    "    filter(acc %in% acc_sub1) \n",
    "\n",
    "checkm_res_f %>% nrow"
   ]
  },
  {
   "cell_type": "code",
   "execution_count": 7,
   "metadata": {
    "ExecuteTime": {
     "end_time": "2019-07-25T18:28:05.444489Z",
     "start_time": "2019-07-25T18:28:02.885Z"
    }
   },
   "outputs": [
    {
     "data": {
      "text/plain": [
       "  Completeness    Contamination   Strain_heterogeneity\n",
       " Min.   : 50.03   Min.   :0.000   Min.   :  0.00      \n",
       " 1st Qu.: 75.44   1st Qu.:0.220   1st Qu.:  0.00      \n",
       " Median : 88.77   Median :1.070   Median :  0.00      \n",
       " Mean   : 84.34   Mean   :1.563   Mean   : 14.67      \n",
       " 3rd Qu.: 95.33   3rd Qu.:2.260   3rd Qu.: 20.00      \n",
       " Max.   :100.00   Max.   :9.730   Max.   :100.00      "
      ]
     },
     "metadata": {},
     "output_type": "display_data"
    },
    {
     "data": {
      "text/plain": [
       "  Completeness    Contamination   Strain_heterogeneity\n",
       " Min.   : 50.04   Min.   :0.000   Min.   :  0.00      \n",
       " 1st Qu.: 76.49   1st Qu.:0.340   1st Qu.:  0.00      \n",
       " Median : 88.22   Median :1.200   Median :  0.00      \n",
       " Mean   : 84.37   Mean   :1.723   Mean   : 13.42      \n",
       " 3rd Qu.: 94.67   3rd Qu.:2.510   3rd Qu.: 16.67      \n",
       " Max.   :100.00   Max.   :9.430   Max.   :100.00      "
      ]
     },
     "metadata": {},
     "output_type": "display_data"
    }
   ],
   "source": [
    "# checkm stats\n",
    "checkm_res %>%\n",
    "    dplyr::select(Completeness, Contamination, Strain_heterogeneity) %>%\n",
    "    summary\n",
    "\n",
    "checkm_res_f %>%\n",
    "    dplyr::select(Completeness, Contamination, Strain_heterogeneity) %>%\n",
    "    summary"
   ]
  },
  {
   "cell_type": "markdown",
   "metadata": {},
   "source": [
    "## Writing samples file"
   ]
  },
  {
   "cell_type": "code",
   "execution_count": null,
   "metadata": {
    "ExecuteTime": {
     "end_time": "2019-07-15T13:10:23.504080Z",
     "start_time": "2019-07-15T13:10:23.457Z"
    }
   },
   "outputs": [],
   "source": [
    "samples_file = file.path(work_dir, 'samples_n100.txt')\n",
    "checkm_res_f %>%\n",
    "    rename('Sample' = acc) %>%\n",
    "    mutate(Remote = Sample) %>%\n",
    "    distinct(Sample, Remote) %>%\n",
    "    mutate(Run = 1, Lane = 1) %>%\n",
    "    write.table(file=samples_file, sep='\\t', quote=FALSE, row.names=FALSE)\n",
    "cat('File written:', samples_file, '\\n')"
   ]
  },
  {
   "cell_type": "markdown",
   "metadata": {},
   "source": [
    "## LLMGQC\n",
    "\n",
    "* downloading and QC of selected MG samples"
   ]
  },
  {
   "cell_type": "markdown",
   "metadata": {},
   "source": [
    "```{bash}\n",
    "(snakemake_dev) @ rick:/ebio/abt3_projects/databases_no-backup/DeepMAsED/bin/llmgqc\n",
    "$ screen -L -S llmgqc-DM ./snakemake_sge.sh /ebio/abt3_projects/databases_no-backup/DeepMAsED/MAG_datasets/AlmeidaA-2019/LLMGQC/config.yaml cluster.json /ebio/abt3_projects/databases_no-backup/DeepMAsED/MAG_datasets/AlmeidaA-2019/LLMGQC/SGE_log 20\n",
    "```"
   ]
  },
  {
   "cell_type": "markdown",
   "metadata": {},
   "source": [
    "## Determining which worked"
   ]
  },
  {
   "cell_type": "code",
   "execution_count": null,
   "metadata": {
    "ExecuteTime": {
     "end_time": "2019-07-20T15:03:03.719580Z",
     "start_time": "2019-07-20T15:03:03.645Z"
    }
   },
   "outputs": [],
   "source": [
    "p = file.path(work_dir, 'LLMGQC', 'final')\n",
    "samps_success = list.files(P, 'R2_final.fq.gz', recursive=TRUE) %>% dirname\n",
    "samps_success %>% length %>% print\n",
    "samps_success %>% head"
   ]
  },
  {
   "cell_type": "code",
   "execution_count": null,
   "metadata": {
    "ExecuteTime": {
     "end_time": "2019-07-20T15:07:03.259102Z",
     "start_time": "2019-07-20T15:07:03.205Z"
    }
   },
   "outputs": [],
   "source": [
    "# randomly selecting subset of new samples\n",
    "acc_sub2 = sample(checkm_res$acc %>% unique, 100)\n",
    "acc_sub2 %>% length %>% print\n",
    "acc_sub2 %>% sort %>% head"
   ]
  },
  {
   "cell_type": "code",
   "execution_count": null,
   "metadata": {
    "ExecuteTime": {
     "end_time": "2019-07-20T15:07:05.051926Z",
     "start_time": "2019-07-20T15:07:04.995Z"
    }
   },
   "outputs": [],
   "source": [
    "# number of MAGs corresponding to samples\n",
    "checkm_res_f = checkm_res %>%\n",
    "    filter(acc %in% acc_sub2) \n",
    "\n",
    "checkm_res_f %>% nrow"
   ]
  },
  {
   "cell_type": "code",
   "execution_count": null,
   "metadata": {
    "ExecuteTime": {
     "end_time": "2019-07-20T15:07:14.829827Z",
     "start_time": "2019-07-20T15:07:14.773Z"
    }
   },
   "outputs": [],
   "source": [
    "# checking for overlap \n",
    "intersect(samps_success, checkm_res_f$acc) %>% print\n",
    "\n",
    "checkm_res_f = checkm_res_f %>%\n",
    "    filter(! acc %in% samps_success)\n",
    "\n",
    "checkm_res_f$acc %>% unique %>% length %>% print\n",
    "checkm_res_f %>% nrow %>% print"
   ]
  },
  {
   "cell_type": "code",
   "execution_count": null,
   "metadata": {
    "ExecuteTime": {
     "end_time": "2019-07-20T15:07:34.051320Z",
     "start_time": "2019-07-20T15:07:33.996Z"
    }
   },
   "outputs": [],
   "source": [
    "samples_file = file.path(work_dir, 'samples_n99.txt')\n",
    "checkm_res_f %>%\n",
    "    rename('Sample' = acc) %>%\n",
    "    mutate(Remote = Sample) %>%\n",
    "    distinct(Sample, Remote) %>%\n",
    "    mutate(Run = 1, Lane = 1) %>%\n",
    "    write.table(file=samples_file, sep='\\t', quote=FALSE, row.names=FALSE)\n",
    "cat('File written:', samples_file, '\\n')"
   ]
  },
  {
   "cell_type": "markdown",
   "metadata": {},
   "source": [
    "## LLMGQC"
   ]
  },
  {
   "cell_type": "markdown",
   "metadata": {
    "ExecuteTime": {
     "end_time": "2019-07-20T15:11:24.129393Z",
     "start_time": "2019-07-20T15:11:24.093Z"
    }
   },
   "source": [
    "```{bash}\n",
    "(snakemake_dev) @ rick:/ebio/abt3_projects/databases_no-backup/DeepMAsED/bin/llmgqc\n",
    "$ screen -L -S llmgqc-DM ./snakemake_sge.sh /ebio/abt3_projects/databases_no-backup/DeepMAsED/MAG_datasets/AlmeidaA-2019/LLMGQC/config.yaml cluster.json /ebio/abt3_projects/databases_no-backup/DeepMAsED/MAG_datasets/AlmeidaA-2019/LLMGQC/SGE_log 20\n",
    "```"
   ]
  },
  {
   "cell_type": "markdown",
   "metadata": {},
   "source": [
    "## Determining which worked"
   ]
  },
  {
   "cell_type": "code",
   "execution_count": null,
   "metadata": {
    "ExecuteTime": {
     "end_time": "2019-07-22T06:39:30.559600Z",
     "start_time": "2019-07-22T06:39:43.749Z"
    }
   },
   "outputs": [],
   "source": [
    "p = file.path(work_dir, 'LLMGQC', 'final')\n",
    "samps_success = list.files(P, 'R2_final.fq.gz', recursive=TRUE) %>% dirname\n",
    "samps_success %>% length %>% print\n",
    "samps_success %>% head"
   ]
  },
  {
   "cell_type": "code",
   "execution_count": null,
   "metadata": {
    "ExecuteTime": {
     "end_time": "2019-07-22T06:40:38.676020Z",
     "start_time": "2019-07-22T06:40:52.120Z"
    }
   },
   "outputs": [],
   "source": [
    "# subsampling\n",
    "checkm_res_f = checkm_res %>%\n",
    "    filter(acc %in% samps_success)\n",
    "checkm_res_f$acc %>% unique %>% length %>% print\n",
    "checkm_res_f %>% nrow %>% print"
   ]
  },
  {
   "cell_type": "code",
   "execution_count": null,
   "metadata": {
    "ExecuteTime": {
     "end_time": "2019-07-22T06:46:44.951694Z",
     "start_time": "2019-07-22T06:46:44.862Z"
    }
   },
   "outputs": [],
   "source": [
    "# number of associated MAGs\n",
    "cat('Number of MAGs:', checkm_res_f$MAG %>% unique %>% length, '\\n')"
   ]
  },
  {
   "cell_type": "code",
   "execution_count": null,
   "metadata": {
    "ExecuteTime": {
     "end_time": "2019-07-22T06:40:56.838922Z",
     "start_time": "2019-07-22T06:41:10.280Z"
    }
   },
   "outputs": [],
   "source": [
    "samples_file = file.path(work_dir, 'samples_n143.txt')\n",
    "checkm_res_f %>%\n",
    "    rename('Sample' = acc) %>%\n",
    "    mutate(Remote = Sample) %>%\n",
    "    distinct(Sample, Remote) %>%\n",
    "    mutate(Run = 1, Lane = 1) %>%\n",
    "    write.table(file=samples_file, sep='\\t', quote=FALSE, row.names=FALSE)\n",
    "cat('File written:', samples_file, '\\n')"
   ]
  },
  {
   "cell_type": "markdown",
   "metadata": {},
   "source": [
    "## LLMGQC"
   ]
  },
  {
   "cell_type": "markdown",
   "metadata": {},
   "source": [
    "```{bash}\n",
    "(snakemake_dev) @ rick:/ebio/abt3_projects/databases_no-backup/DeepMAsED/bin/llmgqc\n",
    "$ screen -L -S llmgqc-DM ./snakemake_sge.sh /ebio/abt3_projects/databases_no-backup/DeepMAsED/MAG_datasets/AlmeidaA-2019/LLMGQC/config.yaml cluster.json /ebio/abt3_projects/databases_no-backup/DeepMAsED/MAG_datasets/AlmeidaA-2019/LLMGQC/SGE_log 20\n",
    "```"
   ]
  },
  {
   "cell_type": "markdown",
   "metadata": {},
   "source": [
    "### Creating genome-sample map table\n",
    "\n",
    "* for mapping metagenome reads to MAGs"
   ]
  },
  {
   "cell_type": "code",
   "execution_count": null,
   "metadata": {
    "ExecuteTime": {
     "end_time": "2019-07-22T06:56:51.880055Z",
     "start_time": "2019-07-22T06:56:51.770Z"
    }
   },
   "outputs": [],
   "source": [
    "mag_dir = '/ebio/abt3_projects/databases_no-backup/DeepMAsED/MAG_datasets/AlmeidaA-2019/mags/'\n",
    "\n",
    "samp_mag_idx = checkm_res_f %>%\n",
    "    mutate(Fasta = sapply(as.character(MAG), function(x) paste(c(mag_dir, x, '.fa.gz'), collapse=''))) %>%\n",
    "    rename('Taxon' = MAG,\n",
    "           'Sample' = acc)\n",
    "\n",
    "samp_mag_idx %>% nrow %>% print\n",
    "samp_mag_idx %>% head(n=3)"
   ]
  },
  {
   "cell_type": "code",
   "execution_count": null,
   "metadata": {
    "ExecuteTime": {
     "end_time": "2019-07-22T06:57:00.445520Z",
     "start_time": "2019-07-22T06:57:00.211Z"
    }
   },
   "outputs": [],
   "source": [
    "# getting read locations for all samples\n",
    "P = '/ebio/abt3_projects/databases_no-backup/DeepMAsED/MAG_datasets/AlmeidaA-2019/LLMGQC/final/'\n",
    "R1_files = list.files(P, 'R1_final.fq.gz', recursive=TRUE, full.names=TRUE) \n",
    "R2_files = list.files(P, 'R2_final.fq.gz', recursive=TRUE, full.names=TRUE) \n",
    "\n",
    "R1_files %>% length %>% print\n",
    "R1_files %>% head(n=3)\n",
    "\n",
    "R2_files %>% length %>% print\n",
    "R2_files %>% head(n=3)\n",
    "\n",
    "## joining into a df\n",
    "samp_files = data.frame(Sample = basename(dirname(R1_files)),\n",
    "                        Read1 = R1_files,\n",
    "                        Read2 = R2_files)\n",
    "samp_files %>% nrow %>% print\n",
    "samp_files %>% head(n=3)"
   ]
  },
  {
   "cell_type": "code",
   "execution_count": null,
   "metadata": {
    "ExecuteTime": {
     "end_time": "2019-07-22T06:57:08.174259Z",
     "start_time": "2019-07-22T06:57:08.098Z"
    }
   },
   "outputs": [],
   "source": [
    "# joining with samp-mag index\n",
    "samp_mag_idx = samp_mag_idx %>%\n",
    "    left_join(samp_files, c('Sample')) \n",
    "\n",
    "samp_mag_idx %>% nrow %>% print\n",
    "samp_mag_idx %>% head(n=3)"
   ]
  },
  {
   "cell_type": "code",
   "execution_count": null,
   "metadata": {
    "ExecuteTime": {
     "end_time": "2019-07-22T06:57:14.223629Z",
     "start_time": "2019-07-22T06:57:14.104Z"
    }
   },
   "outputs": [],
   "source": [
    "samp_mag_idx %>% \n",
    "    summary"
   ]
  },
  {
   "cell_type": "markdown",
   "metadata": {},
   "source": [
    "### Writing table"
   ]
  },
  {
   "cell_type": "code",
   "execution_count": 11,
   "metadata": {
    "ExecuteTime": {
     "end_time": "2019-07-26T07:59:59.302127Z",
     "start_time": "2019-07-26T07:59:59.260Z"
    }
   },
   "outputs": [
    {
     "name": "stdout",
     "output_type": "stream",
     "text": [
      "File written: /ebio/abt3_projects/databases_no-backup/DeepMAsED/MAG_datasets/AlmeidaA-2019//samples_n143_w-MAGs.txt \n"
     ]
    }
   ],
   "source": [
    "samp_mag_idx_file = file.path(work_dir, 'samples_n143_w-MAGs.txt')\n",
    "write.table(samp_mag_idx, samp_mag_idx_file, sep='\\t', quote=FALSE, row.names=FALSE)\n",
    "cat('File written:', samp_mag_idx_file, '\\n')"
   ]
  },
  {
   "cell_type": "markdown",
   "metadata": {},
   "source": [
    "### Creating features\n",
    "\n",
    "* Using DeepMAsED"
   ]
  },
  {
   "cell_type": "code",
   "execution_count": 8,
   "metadata": {
    "ExecuteTime": {
     "end_time": "2019-07-25T18:30:52.669272Z",
     "start_time": "2019-07-25T18:30:52.615Z"
    }
   },
   "outputs": [
    {
     "data": {
      "text/html": [
       "'/ebio/abt3_projects/databases_no-backup/DeepMAsED/MAG_datasets/AlmeidaA-2019//samples_n143_MAG-feats'"
      ],
      "text/latex": [
       "'/ebio/abt3\\_projects/databases\\_no-backup/DeepMAsED/MAG\\_datasets/AlmeidaA-2019//samples\\_n143\\_MAG-feats'"
      ],
      "text/markdown": [
       "'/ebio/abt3_projects/databases_no-backup/DeepMAsED/MAG_datasets/AlmeidaA-2019//samples_n143_MAG-feats'"
      ],
      "text/plain": [
       "[1] \"/ebio/abt3_projects/databases_no-backup/DeepMAsED/MAG_datasets/AlmeidaA-2019//samples_n143_MAG-feats\""
      ]
     },
     "metadata": {},
     "output_type": "display_data"
    }
   ],
   "source": [
    "work_dir1 = file.path(work_dir, 'samples_n143_MAG-feats')\n",
    "work_dir1"
   ]
  },
  {
   "cell_type": "markdown",
   "metadata": {},
   "source": [
    "```{bash}\n",
    "(snakemake) @ rick:/ebio/abt3_projects/software/dev/DeepMAsED/DeepMAsED-SM\n",
    "$ screen -L -S DM-MAG ./snakemake_sge.sh /ebio/abt3_projects/databases_no-backup/DeepMAsED/MAG_datasets/AlmeidaA-2019/samples_n143_MAG-feats/config.yaml cluster.json /ebio/abt3_projects/databases_no-backup/DeepMAsED/MAG_datasets/AlmeidaA-2019/samples_n143_MAG-feats/SGE_log/ 24\n",
    "[detached from 30285.DM-MAG]\n",
    "```"
   ]
  },
  {
   "cell_type": "markdown",
   "metadata": {},
   "source": [
    "## Summary"
   ]
  },
  {
   "cell_type": "code",
   "execution_count": 9,
   "metadata": {
    "ExecuteTime": {
     "end_time": "2019-07-25T18:31:42.682684Z",
     "start_time": "2019-07-25T18:31:41.889Z"
    }
   },
   "outputs": [
    {
     "data": {
      "text/html": [
       "1519"
      ],
      "text/latex": [
       "1519"
      ],
      "text/markdown": [
       "1519"
      ],
      "text/plain": [
       "[1] 1519"
      ]
     },
     "metadata": {},
     "output_type": "display_data"
    }
   ],
   "source": [
    "P = file.path(work_dir1, 'map')\n",
    "feat_files = list.files(P, 'features.tsv.gz', recursive=TRUE)\n",
    "feat_files %>% length"
   ]
  },
  {
   "cell_type": "markdown",
   "metadata": {},
   "source": [
    "# sessionInfo"
   ]
  },
  {
   "cell_type": "code",
   "execution_count": 10,
   "metadata": {
    "ExecuteTime": {
     "end_time": "2019-07-26T07:59:44.486842Z",
     "start_time": "2019-07-26T07:59:44.309Z"
    }
   },
   "outputs": [
    {
     "data": {
      "text/plain": [
       "R version 3.4.1 (2017-06-30)\n",
       "Platform: x86_64-pc-linux-gnu (64-bit)\n",
       "Running under: Ubuntu 18.04.2 LTS\n",
       "\n",
       "Matrix products: default\n",
       "BLAS: /ebio/abt3_projects/software/miniconda3_gt4.4/envs/py3_physeq/lib/R/lib/libRblas.so\n",
       "LAPACK: /ebio/abt3_projects/software/miniconda3_gt4.4/envs/py3_physeq/lib/R/lib/libRlapack.so\n",
       "\n",
       "locale:\n",
       " [1] LC_CTYPE=en_US.UTF-8       LC_NUMERIC=C              \n",
       " [3] LC_TIME=en_US.UTF-8        LC_COLLATE=en_US.UTF-8    \n",
       " [5] LC_MONETARY=en_US.UTF-8    LC_MESSAGES=en_US.UTF-8   \n",
       " [7] LC_PAPER=en_US.UTF-8       LC_NAME=C                 \n",
       " [9] LC_ADDRESS=C               LC_TELEPHONE=C            \n",
       "[11] LC_MEASUREMENT=en_US.UTF-8 LC_IDENTIFICATION=C       \n",
       "\n",
       "attached base packages:\n",
       "[1] stats     graphics  grDevices utils     datasets  methods   base     \n",
       "\n",
       "other attached packages:\n",
       "[1] bindrcpp_0.2.2 ggplot2_3.0.0  tidyr_0.8.1    dplyr_0.7.6   \n",
       "\n",
       "loaded via a namespace (and not attached):\n",
       " [1] Rcpp_0.12.17     bindr_0.1.1      magrittr_1.5     munsell_0.5.0   \n",
       " [5] tidyselect_0.2.4 uuid_0.1-2       colorspace_1.3-2 R6_2.2.2        \n",
       " [9] rlang_0.2.1      plyr_1.8.4       stringr_1.3.1    tools_3.4.1     \n",
       "[13] grid_3.4.1       gtable_0.2.0     withr_2.1.1      htmltools_0.3.6 \n",
       "[17] lazyeval_0.2.1   digest_0.6.15    assertthat_0.2.0 tibble_1.4.2    \n",
       "[21] crayon_1.3.4     IRdisplay_0.4.4  purrr_0.2.4      repr_0.15.0     \n",
       "[25] base64enc_0.1-3  IRkernel_0.8.12  glue_1.3.0       evaluate_0.10.1 \n",
       "[29] pbdZMQ_0.3-2     stringi_1.2.3    compiler_3.4.1   pillar_1.2.2    \n",
       "[33] scales_0.5.0     jsonlite_1.5     pkgconfig_2.0.1 "
      ]
     },
     "metadata": {},
     "output_type": "display_data"
    }
   ],
   "source": [
    "sessionInfo()"
   ]
  },
  {
   "cell_type": "code",
   "execution_count": null,
   "metadata": {},
   "outputs": [],
   "source": []
  }
 ],
 "metadata": {
  "kernelspec": {
   "display_name": "R [conda env:py3_physeq]",
   "language": "R",
   "name": "conda-env-py3_physeq-r"
  },
  "language_info": {
   "codemirror_mode": "r",
   "file_extension": ".r",
   "mimetype": "text/x-r-source",
   "name": "R",
   "pygments_lexer": "r",
   "version": "3.4.1"
  },
  "notify_time": "30",
  "toc": {
   "base_numbering": 1,
   "nav_menu": {},
   "number_sections": true,
   "sideBar": true,
   "skip_h1_title": false,
   "title_cell": "Table of Contents",
   "title_sidebar": "Contents",
   "toc_cell": true,
   "toc_position": {},
   "toc_section_display": true,
   "toc_window_display": true
  }
 },
 "nbformat": 4,
 "nbformat_minor": 2
}
