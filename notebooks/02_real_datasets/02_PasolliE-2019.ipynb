{
 "cells": [
  {
   "cell_type": "markdown",
   "metadata": {
    "toc": true
   },
   "source": [
    "<h1>Table of Contents<span class=\"tocSkip\"></span></h1>\n",
    "<div class=\"toc\"><ul class=\"toc-item\"><li><span><a href=\"#Goal\" data-toc-modified-id=\"Goal-1\"><span class=\"toc-item-num\">1&nbsp;&nbsp;</span>Goal</a></span></li><li><span><a href=\"#Var\" data-toc-modified-id=\"Var-2\"><span class=\"toc-item-num\">2&nbsp;&nbsp;</span>Var</a></span></li><li><span><a href=\"#Init\" data-toc-modified-id=\"Init-3\"><span class=\"toc-item-num\">3&nbsp;&nbsp;</span>Init</a></span></li><li><span><a href=\"#Load\" data-toc-modified-id=\"Load-4\"><span class=\"toc-item-num\">4&nbsp;&nbsp;</span>Load</a></span></li><li><span><a href=\"#Overlapping-samples\" data-toc-modified-id=\"Overlapping-samples-5\"><span class=\"toc-item-num\">5&nbsp;&nbsp;</span>Overlapping samples</a></span><ul class=\"toc-item\"><li><span><a href=\"#Creating-samples-file-for-DeepMAsED\" data-toc-modified-id=\"Creating-samples-file-for-DeepMAsED-5.1\"><span class=\"toc-item-num\">5.1&nbsp;&nbsp;</span>Creating samples file for DeepMAsED</a></span></li><li><span><a href=\"#CheckM-for-selected-MAGs\" data-toc-modified-id=\"CheckM-for-selected-MAGs-5.2\"><span class=\"toc-item-num\">5.2&nbsp;&nbsp;</span>CheckM for selected MAGs</a></span></li><li><span><a href=\"#DeepMAsED\" data-toc-modified-id=\"DeepMAsED-5.3\"><span class=\"toc-item-num\">5.3&nbsp;&nbsp;</span>DeepMAsED</a></span></li><li><span><a href=\"#Summary\" data-toc-modified-id=\"Summary-5.4\"><span class=\"toc-item-num\">5.4&nbsp;&nbsp;</span>Summary</a></span></li></ul></li><li><span><a href=\"#sessionInfo\" data-toc-modified-id=\"sessionInfo-6\"><span class=\"toc-item-num\">6&nbsp;&nbsp;</span>sessionInfo</a></span></li></ul></div>"
   ]
  },
  {
   "cell_type": "markdown",
   "metadata": {
    "ExecuteTime": {
     "end_time": "2019-07-26T07:55:08.147422Z",
     "start_time": "2019-07-26T07:55:07.848Z"
    }
   },
   "source": [
    "# Goal\n",
    "\n",
    "* create feature tables for [PasolliE et al., 2019 dataset](https://doi.org/10.1016/j.cell.2019.01.001)\n",
    "    \n"
   ]
  },
  {
   "cell_type": "markdown",
   "metadata": {},
   "source": [
    "# Var"
   ]
  },
  {
   "cell_type": "code",
   "execution_count": 7,
   "metadata": {
    "ExecuteTime": {
     "end_time": "2019-12-07T06:52:40.083540Z",
     "start_time": "2019-12-07T06:52:40.018Z"
    }
   },
   "outputs": [],
   "source": [
    "work_dir = '/ebio/abt3_projects/databases_no-backup/DeepMAsED/MAG_datasets/PasolliE-2019/'\n",
    "\n",
    "# NCBI accessions for all metagenome samples used\n",
    "acc_file = file.path(work_dir, 'NCBIaccession_long.txt')\n",
    "\n",
    "# path to all ~150k MAGs\n",
    "MAG_dir = file.path(work_dir, 'all_MAGs')\n",
    "\n",
    "# checkM & other info for all PasolliE MAGs\n",
    "MAG_info_file = file.path(MAG_dir, 'TableS3.xlsx')\n",
    "\n",
    "# AlmeidaA-2019 MAGs (random selection)\n",
    "AlmeidaA_n143_file = '/ebio/abt3_projects/databases_no-backup/DeepMAsED/MAG_datasets/AlmeidaA-2019/samples_n143_w-MAGs.txt'"
   ]
  },
  {
   "cell_type": "markdown",
   "metadata": {},
   "source": [
    "# Init"
   ]
  },
  {
   "cell_type": "code",
   "execution_count": 16,
   "metadata": {
    "ExecuteTime": {
     "end_time": "2019-12-07T06:56:00.500608Z",
     "start_time": "2019-12-07T06:56:00.437Z"
    }
   },
   "outputs": [],
   "source": [
    "library(dplyr)\n",
    "library(tidyr)\n",
    "library(ggplot2)\n",
    "library(readxl)\n",
    "set.seed(18734)\n",
    "source('/ebio/abt3_projects/software/dev/DeepMAsED/bin/misc_r_functions/init.R')"
   ]
  },
  {
   "cell_type": "markdown",
   "metadata": {},
   "source": [
    "# Load"
   ]
  },
  {
   "cell_type": "code",
   "execution_count": 10,
   "metadata": {
    "ExecuteTime": {
     "end_time": "2019-12-07T06:54:21.065200Z",
     "start_time": "2019-12-07T06:54:14.563Z"
    }
   },
   "outputs": [
    {
     "name": "stdout",
     "output_type": "stream",
     "text": [
      "[1] 154723\n"
     ]
    },
    {
     "data": {
      "text/html": [
       "<table>\n",
       "<thead><tr><th scope=col>Genome_Name</th><th scope=col>Study</th><th scope=col>Sample_Name</th><th scope=col>Assembler</th><th scope=col>Genome_Size</th><th scope=col>N50</th><th scope=col>num_Contigs</th><th scope=col>Completeness</th><th scope=col>Contamination</th><th scope=col>Strain_Heterogeneity</th><th scope=col>SGB_ID</th></tr></thead>\n",
       "<tbody>\n",
       "\t<tr><td>AsnicarF_2017__MV_FEI1_t1Q14__bin.10</td><td>AsnicarF_2017                       </td><td>MV_FEI1_t1Q14                       </td><td>metaSPAdes                          </td><td>2013732                             </td><td> 6532                               </td><td>403                                 </td><td>84.64670                            </td><td>1.651306                            </td><td>1.4587145                           </td><td>17248                               </td></tr>\n",
       "\t<tr><td>AsnicarF_2017__MV_FEI1_t1Q14__bin.2 </td><td>AsnicarF_2017                       </td><td>MV_FEI1_t1Q14                       </td><td>metaSPAdes                          </td><td>1849520                             </td><td> 3104                               </td><td>616                                 </td><td>64.74659                            </td><td>0.877193                            </td><td>0.1977117                           </td><td> 4584                               </td></tr>\n",
       "\t<tr><td>AsnicarF_2017__MV_FEI1_t1Q14__bin.4 </td><td>AsnicarF_2017                       </td><td>MV_FEI1_t1Q14                       </td><td>metaSPAdes                          </td><td>1962642                             </td><td>40866                               </td><td> 87                                 </td><td>93.89401                            </td><td>0.937020                            </td><td>0.4035487                           </td><td>17256                               </td></tr>\n",
       "</tbody>\n",
       "</table>\n"
      ],
      "text/latex": [
       "\\begin{tabular}{r|lllllllllll}\n",
       " Genome\\_Name & Study & Sample\\_Name & Assembler & Genome\\_Size & N50 & num\\_Contigs & Completeness & Contamination & Strain\\_Heterogeneity & SGB\\_ID\\\\\n",
       "\\hline\n",
       "\t AsnicarF\\_2017\\_\\_MV\\_FEI1\\_t1Q14\\_\\_bin.10 & AsnicarF\\_2017                                    & MV\\_FEI1\\_t1Q14                                  & metaSPAdes                                         & 2013732                                            &  6532                                              & 403                                                & 84.64670                                           & 1.651306                                           & 1.4587145                                          & 17248                                             \\\\\n",
       "\t AsnicarF\\_2017\\_\\_MV\\_FEI1\\_t1Q14\\_\\_bin.2  & AsnicarF\\_2017                                    & MV\\_FEI1\\_t1Q14                                  & metaSPAdes                                         & 1849520                                            &  3104                                              & 616                                                & 64.74659                                           & 0.877193                                           & 0.1977117                                          &  4584                                             \\\\\n",
       "\t AsnicarF\\_2017\\_\\_MV\\_FEI1\\_t1Q14\\_\\_bin.4  & AsnicarF\\_2017                                    & MV\\_FEI1\\_t1Q14                                  & metaSPAdes                                         & 1962642                                            & 40866                                              &  87                                                & 93.89401                                           & 0.937020                                           & 0.4035487                                          & 17256                                             \\\\\n",
       "\\end{tabular}\n"
      ],
      "text/markdown": [
       "\n",
       "Genome_Name | Study | Sample_Name | Assembler | Genome_Size | N50 | num_Contigs | Completeness | Contamination | Strain_Heterogeneity | SGB_ID | \n",
       "|---|---|---|\n",
       "| AsnicarF_2017__MV_FEI1_t1Q14__bin.10 | AsnicarF_2017                        | MV_FEI1_t1Q14                        | metaSPAdes                           | 2013732                              |  6532                                | 403                                  | 84.64670                             | 1.651306                             | 1.4587145                            | 17248                                | \n",
       "| AsnicarF_2017__MV_FEI1_t1Q14__bin.2  | AsnicarF_2017                        | MV_FEI1_t1Q14                        | metaSPAdes                           | 1849520                              |  3104                                | 616                                  | 64.74659                             | 0.877193                             | 0.1977117                            |  4584                                | \n",
       "| AsnicarF_2017__MV_FEI1_t1Q14__bin.4  | AsnicarF_2017                        | MV_FEI1_t1Q14                        | metaSPAdes                           | 1962642                              | 40866                                |  87                                  | 93.89401                             | 0.937020                             | 0.4035487                            | 17256                                | \n",
       "\n",
       "\n"
      ],
      "text/plain": [
       "  Genome_Name                          Study         Sample_Name   Assembler \n",
       "1 AsnicarF_2017__MV_FEI1_t1Q14__bin.10 AsnicarF_2017 MV_FEI1_t1Q14 metaSPAdes\n",
       "2 AsnicarF_2017__MV_FEI1_t1Q14__bin.2  AsnicarF_2017 MV_FEI1_t1Q14 metaSPAdes\n",
       "3 AsnicarF_2017__MV_FEI1_t1Q14__bin.4  AsnicarF_2017 MV_FEI1_t1Q14 metaSPAdes\n",
       "  Genome_Size N50   num_Contigs Completeness Contamination Strain_Heterogeneity\n",
       "1 2013732      6532 403         84.64670     1.651306      1.4587145           \n",
       "2 1849520      3104 616         64.74659     0.877193      0.1977117           \n",
       "3 1962642     40866  87         93.89401     0.937020      0.4035487           \n",
       "  SGB_ID\n",
       "1 17248 \n",
       "2  4584 \n",
       "3 17256 "
      ]
     },
     "metadata": {},
     "output_type": "display_data"
    }
   ],
   "source": [
    "# MAG info\n",
    "MAG_info = readxl::read_excel(MAG_info_file)\n",
    "colnames(MAG_info) = gsub(' ', '_', colnames(MAG_info))\n",
    "colnames(MAG_info) = gsub('#', 'num', colnames(MAG_info))\n",
    "\n",
    "MAG_info %>% nrow %>% print\n",
    "MAG_info %>% head(n=3)"
   ]
  },
  {
   "cell_type": "code",
   "execution_count": 4,
   "metadata": {
    "ExecuteTime": {
     "end_time": "2019-12-07T06:50:22.506434Z",
     "start_time": "2019-12-07T06:50:21.620Z"
    }
   },
   "outputs": [
    {
     "name": "stdout",
     "output_type": "stream",
     "text": [
      "[1] 25676\n"
     ]
    },
    {
     "data": {
      "text/html": [
       "<table>\n",
       "<thead><tr><th scope=col>sampleID</th><th scope=col>NCBI_accession</th></tr></thead>\n",
       "<tbody>\n",
       "\t<tr><td>AsnicarF_2017__MV_FEI1_t1Q14</td><td>SRR4052021                  </td></tr>\n",
       "\t<tr><td>AsnicarF_2017__MV_FEI2_t1Q14</td><td>SRR4052022                  </td></tr>\n",
       "\t<tr><td>AsnicarF_2017__MV_FEI3_t1Q14</td><td>SRR4052033                  </td></tr>\n",
       "</tbody>\n",
       "</table>\n"
      ],
      "text/latex": [
       "\\begin{tabular}{r|ll}\n",
       " sampleID & NCBI\\_accession\\\\\n",
       "\\hline\n",
       "\t AsnicarF\\_2017\\_\\_MV\\_FEI1\\_t1Q14 & SRR4052021                            \\\\\n",
       "\t AsnicarF\\_2017\\_\\_MV\\_FEI2\\_t1Q14 & SRR4052022                            \\\\\n",
       "\t AsnicarF\\_2017\\_\\_MV\\_FEI3\\_t1Q14 & SRR4052033                            \\\\\n",
       "\\end{tabular}\n"
      ],
      "text/markdown": [
       "\n",
       "sampleID | NCBI_accession | \n",
       "|---|---|---|\n",
       "| AsnicarF_2017__MV_FEI1_t1Q14 | SRR4052021                   | \n",
       "| AsnicarF_2017__MV_FEI2_t1Q14 | SRR4052022                   | \n",
       "| AsnicarF_2017__MV_FEI3_t1Q14 | SRR4052033                   | \n",
       "\n",
       "\n"
      ],
      "text/plain": [
       "  sampleID                     NCBI_accession\n",
       "1 AsnicarF_2017__MV_FEI1_t1Q14 SRR4052021    \n",
       "2 AsnicarF_2017__MV_FEI2_t1Q14 SRR4052022    \n",
       "3 AsnicarF_2017__MV_FEI3_t1Q14 SRR4052033    "
      ]
     },
     "metadata": {},
     "output_type": "display_data"
    }
   ],
   "source": [
    "# NCBI accessions\n",
    "acc = read.delim(acc_file, sep='\\t')\n",
    "acc %>% nrow %>% print\n",
    "acc %>% head(n=3)"
   ]
  },
  {
   "cell_type": "code",
   "execution_count": 5,
   "metadata": {
    "ExecuteTime": {
     "end_time": "2019-12-07T06:51:04.378385Z",
     "start_time": "2019-12-07T06:50:23.466Z"
    }
   },
   "outputs": [
    {
     "name": "stdout",
     "output_type": "stream",
     "text": [
      "[1] 154723\n"
     ]
    },
    {
     "data": {
      "text/html": [
       "<table>\n",
       "<thead><tr><th scope=col>MAG</th><th scope=col>sample</th><th scope=col>fasta</th></tr></thead>\n",
       "<tbody>\n",
       "\t<tr><td>BritoIL_2016__M1.26.ST__bin.30                                                                                                                                    </td><td>BritoIL_2016__M1.26.ST                                                                                                                                            </td><td>/ebio/abt3_projects/databases_no-backup/DeepMAsED/MAG_datasets/PasolliE-2019//all_MAGs/SGB_genome_fastas_part1/1001/BritoIL_2016__M1.26.ST__bin.30.fa.gz          </td></tr>\n",
       "\t<tr><td>BritoIL_2016__W3.17.ST__bin.61                                                                                                                                    </td><td>BritoIL_2016__W3.17.ST                                                                                                                                            </td><td>/ebio/abt3_projects/databases_no-backup/DeepMAsED/MAG_datasets/PasolliE-2019//all_MAGs/SGB_genome_fastas_part1/1001/BritoIL_2016__W3.17.ST__bin.61.fa.gz          </td></tr>\n",
       "\t<tr><td>CosteaPI_2017__SID713A004-11-0-0__bin.78                                                                                                                          </td><td>CosteaPI_2017__SID713A004-11-0-0                                                                                                                                  </td><td>/ebio/abt3_projects/databases_no-backup/DeepMAsED/MAG_datasets/PasolliE-2019//all_MAGs/SGB_genome_fastas_part1/1002/CosteaPI_2017__SID713A004-11-0-0__bin.78.fa.gz</td></tr>\n",
       "</tbody>\n",
       "</table>\n"
      ],
      "text/latex": [
       "\\begin{tabular}{r|lll}\n",
       " MAG & sample & fasta\\\\\n",
       "\\hline\n",
       "\t BritoIL\\_2016\\_\\_M1.26.ST\\_\\_bin.30                                                                                                                                                   & BritoIL\\_2016\\_\\_M1.26.ST                                                                                                                                                               & /ebio/abt3\\_projects/databases\\_no-backup/DeepMAsED/MAG\\_datasets/PasolliE-2019//all\\_MAGs/SGB\\_genome\\_fastas\\_part1/1001/BritoIL\\_2016\\_\\_M1.26.ST\\_\\_bin.30.fa.gz          \\\\\n",
       "\t BritoIL\\_2016\\_\\_W3.17.ST\\_\\_bin.61                                                                                                                                                   & BritoIL\\_2016\\_\\_W3.17.ST                                                                                                                                                               & /ebio/abt3\\_projects/databases\\_no-backup/DeepMAsED/MAG\\_datasets/PasolliE-2019//all\\_MAGs/SGB\\_genome\\_fastas\\_part1/1001/BritoIL\\_2016\\_\\_W3.17.ST\\_\\_bin.61.fa.gz          \\\\\n",
       "\t CosteaPI\\_2017\\_\\_SID713A004-11-0-0\\_\\_bin.78                                                                                                                                         & CosteaPI\\_2017\\_\\_SID713A004-11-0-0                                                                                                                                                     & /ebio/abt3\\_projects/databases\\_no-backup/DeepMAsED/MAG\\_datasets/PasolliE-2019//all\\_MAGs/SGB\\_genome\\_fastas\\_part1/1002/CosteaPI\\_2017\\_\\_SID713A004-11-0-0\\_\\_bin.78.fa.gz\\\\\n",
       "\\end{tabular}\n"
      ],
      "text/markdown": [
       "\n",
       "MAG | sample | fasta | \n",
       "|---|---|---|\n",
       "| BritoIL_2016__M1.26.ST__bin.30                                                                                                                                     | BritoIL_2016__M1.26.ST                                                                                                                                             | /ebio/abt3_projects/databases_no-backup/DeepMAsED/MAG_datasets/PasolliE-2019//all_MAGs/SGB_genome_fastas_part1/1001/BritoIL_2016__M1.26.ST__bin.30.fa.gz           | \n",
       "| BritoIL_2016__W3.17.ST__bin.61                                                                                                                                     | BritoIL_2016__W3.17.ST                                                                                                                                             | /ebio/abt3_projects/databases_no-backup/DeepMAsED/MAG_datasets/PasolliE-2019//all_MAGs/SGB_genome_fastas_part1/1001/BritoIL_2016__W3.17.ST__bin.61.fa.gz           | \n",
       "| CosteaPI_2017__SID713A004-11-0-0__bin.78                                                                                                                           | CosteaPI_2017__SID713A004-11-0-0                                                                                                                                   | /ebio/abt3_projects/databases_no-backup/DeepMAsED/MAG_datasets/PasolliE-2019//all_MAGs/SGB_genome_fastas_part1/1002/CosteaPI_2017__SID713A004-11-0-0__bin.78.fa.gz | \n",
       "\n",
       "\n"
      ],
      "text/plain": [
       "  MAG                                      sample                          \n",
       "1 BritoIL_2016__M1.26.ST__bin.30           BritoIL_2016__M1.26.ST          \n",
       "2 BritoIL_2016__W3.17.ST__bin.61           BritoIL_2016__W3.17.ST          \n",
       "3 CosteaPI_2017__SID713A004-11-0-0__bin.78 CosteaPI_2017__SID713A004-11-0-0\n",
       "  fasta                                                                                                                                                             \n",
       "1 /ebio/abt3_projects/databases_no-backup/DeepMAsED/MAG_datasets/PasolliE-2019//all_MAGs/SGB_genome_fastas_part1/1001/BritoIL_2016__M1.26.ST__bin.30.fa.gz          \n",
       "2 /ebio/abt3_projects/databases_no-backup/DeepMAsED/MAG_datasets/PasolliE-2019//all_MAGs/SGB_genome_fastas_part1/1001/BritoIL_2016__W3.17.ST__bin.61.fa.gz          \n",
       "3 /ebio/abt3_projects/databases_no-backup/DeepMAsED/MAG_datasets/PasolliE-2019//all_MAGs/SGB_genome_fastas_part1/1002/CosteaPI_2017__SID713A004-11-0-0__bin.78.fa.gz"
      ]
     },
     "metadata": {},
     "output_type": "display_data"
    }
   ],
   "source": [
    "# MAG fasta files\n",
    "MAG_fasta = list.files(MAG_dir, '*.fa.gz$', recursive=TRUE, full.names=TRUE) \n",
    "MAG_fasta = data.frame(MAG = MAG_fasta %>% basename %>% gsub('\\\\.fa.gz$', '', .),                       \n",
    "                       sample = MAG_fasta %>% basename %>% gsub('__bin\\\\.[0-9]+\\\\.fa\\\\.gz$', '', .),\n",
    "                       fasta = MAG_fasta)\n",
    "MAG_fasta %>% nrow %>% print\n",
    "MAG_fasta %>% head(n=3)"
   ]
  },
  {
   "cell_type": "code",
   "execution_count": 6,
   "metadata": {
    "ExecuteTime": {
     "end_time": "2019-12-07T06:51:04.605478Z",
     "start_time": "2019-12-07T06:50:32.468Z"
    }
   },
   "outputs": [
    {
     "name": "stdout",
     "output_type": "stream",
     "text": [
      "[1] 1519\n"
     ]
    },
    {
     "data": {
      "text/html": [
       "<table>\n",
       "<thead><tr><th scope=col>Taxon</th><th scope=col>Completeness</th><th scope=col>Contamination</th><th scope=col>Strain_heterogeneity</th><th scope=col>CheckM_lineage</th><th scope=col>Sample</th><th scope=col>Fasta</th><th scope=col>Read1</th><th scope=col>Read2</th></tr></thead>\n",
       "<tbody>\n",
       "\t<tr><td>SRR1039533_bin.12                                                                                                           </td><td>99.29                                                                                                                       </td><td>0.95                                                                                                                        </td><td>0                                                                                                                           </td><td>k__Bacteria;p__Actinobacteria;c__Actinobacteria;o__Actinomycetales;f__Actinomycetaceae;g__Actinomyces                       </td><td>SRR1039533                                                                                                                  </td><td>/ebio/abt3_projects/databases_no-backup/DeepMAsED/MAG_datasets/AlmeidaA-2019/mags/SRR1039533_bin.12.fa.gz                   </td><td>/ebio/abt3_projects/databases_no-backup/DeepMAsED/MAG_datasets/AlmeidaA-2019/LLMGQC/final/SRR1039533/R1_final.fq.gz         </td><td>/ebio/abt3_projects/databases_no-backup/DeepMAsED/MAG_datasets/AlmeidaA-2019/LLMGQC/final/SRR1039533/R2_final.fq.gz         </td></tr>\n",
       "\t<tr><td>SRR1039533_bin.14                                                                                                           </td><td>69.19                                                                                                                       </td><td>0.00                                                                                                                        </td><td>0                                                                                                                           </td><td>k__Bacteria;p__Actinobacteria;c__Actinobacteria;o__Actinomycetales;f__Actinomycetaceae;g__Actinomyces_2;s__Actinomyces_neuii</td><td>SRR1039533                                                                                                                  </td><td>/ebio/abt3_projects/databases_no-backup/DeepMAsED/MAG_datasets/AlmeidaA-2019/mags/SRR1039533_bin.14.fa.gz                   </td><td>/ebio/abt3_projects/databases_no-backup/DeepMAsED/MAG_datasets/AlmeidaA-2019/LLMGQC/final/SRR1039533/R1_final.fq.gz         </td><td>/ebio/abt3_projects/databases_no-backup/DeepMAsED/MAG_datasets/AlmeidaA-2019/LLMGQC/final/SRR1039533/R2_final.fq.gz         </td></tr>\n",
       "\t<tr><td>SRR1039533_bin.19                                                                                                           </td><td>94.15                                                                                                                       </td><td>0.15                                                                                                                        </td><td>0                                                                                                                           </td><td>k__Bacteria;p__Actinobacteria;c__Actinobacteria;o__Actinomycetales;f__Dermabacteraceae                                      </td><td>SRR1039533                                                                                                                  </td><td>/ebio/abt3_projects/databases_no-backup/DeepMAsED/MAG_datasets/AlmeidaA-2019/mags/SRR1039533_bin.19.fa.gz                   </td><td>/ebio/abt3_projects/databases_no-backup/DeepMAsED/MAG_datasets/AlmeidaA-2019/LLMGQC/final/SRR1039533/R1_final.fq.gz         </td><td>/ebio/abt3_projects/databases_no-backup/DeepMAsED/MAG_datasets/AlmeidaA-2019/LLMGQC/final/SRR1039533/R2_final.fq.gz         </td></tr>\n",
       "</tbody>\n",
       "</table>\n"
      ],
      "text/latex": [
       "\\begin{tabular}{r|lllllllll}\n",
       " Taxon & Completeness & Contamination & Strain\\_heterogeneity & CheckM\\_lineage & Sample & Fasta & Read1 & Read2\\\\\n",
       "\\hline\n",
       "\t SRR1039533\\_bin.12                                                                                                                                  & 99.29                                                                                                                                                & 0.95                                                                                                                                                 & 0                                                                                                                                                    & k\\_\\_Bacteria;p\\_\\_Actinobacteria;c\\_\\_Actinobacteria;o\\_\\_Actinomycetales;f\\_\\_Actinomycetaceae;g\\_\\_Actinomyces                        & SRR1039533                                                                                                                                           & /ebio/abt3\\_projects/databases\\_no-backup/DeepMAsED/MAG\\_datasets/AlmeidaA-2019/mags/SRR1039533\\_bin.12.fa.gz                                    & /ebio/abt3\\_projects/databases\\_no-backup/DeepMAsED/MAG\\_datasets/AlmeidaA-2019/LLMGQC/final/SRR1039533/R1\\_final.fq.gz                          & /ebio/abt3\\_projects/databases\\_no-backup/DeepMAsED/MAG\\_datasets/AlmeidaA-2019/LLMGQC/final/SRR1039533/R2\\_final.fq.gz                         \\\\\n",
       "\t SRR1039533\\_bin.14                                                                                                                                          & 69.19                                                                                                                                                        & 0.00                                                                                                                                                         & 0                                                                                                                                                            & k\\_\\_Bacteria;p\\_\\_Actinobacteria;c\\_\\_Actinobacteria;o\\_\\_Actinomycetales;f\\_\\_Actinomycetaceae;g\\_\\_Actinomyces\\_2;s\\_\\_Actinomyces\\_neuii & SRR1039533                                                                                                                                                   & /ebio/abt3\\_projects/databases\\_no-backup/DeepMAsED/MAG\\_datasets/AlmeidaA-2019/mags/SRR1039533\\_bin.14.fa.gz                                            & /ebio/abt3\\_projects/databases\\_no-backup/DeepMAsED/MAG\\_datasets/AlmeidaA-2019/LLMGQC/final/SRR1039533/R1\\_final.fq.gz                                  & /ebio/abt3\\_projects/databases\\_no-backup/DeepMAsED/MAG\\_datasets/AlmeidaA-2019/LLMGQC/final/SRR1039533/R2\\_final.fq.gz                                 \\\\\n",
       "\t SRR1039533\\_bin.19                                                                                                                              & 94.15                                                                                                                                            & 0.15                                                                                                                                             & 0                                                                                                                                                & k\\_\\_Bacteria;p\\_\\_Actinobacteria;c\\_\\_Actinobacteria;o\\_\\_Actinomycetales;f\\_\\_Dermabacteraceae                                       & SRR1039533                                                                                                                                       & /ebio/abt3\\_projects/databases\\_no-backup/DeepMAsED/MAG\\_datasets/AlmeidaA-2019/mags/SRR1039533\\_bin.19.fa.gz                                & /ebio/abt3\\_projects/databases\\_no-backup/DeepMAsED/MAG\\_datasets/AlmeidaA-2019/LLMGQC/final/SRR1039533/R1\\_final.fq.gz                      & /ebio/abt3\\_projects/databases\\_no-backup/DeepMAsED/MAG\\_datasets/AlmeidaA-2019/LLMGQC/final/SRR1039533/R2\\_final.fq.gz                     \\\\\n",
       "\\end{tabular}\n"
      ],
      "text/markdown": [
       "\n",
       "Taxon | Completeness | Contamination | Strain_heterogeneity | CheckM_lineage | Sample | Fasta | Read1 | Read2 | \n",
       "|---|---|---|\n",
       "| SRR1039533_bin.12                                                                                                            | 99.29                                                                                                                        | 0.95                                                                                                                         | 0                                                                                                                            | k__Bacteria;p__Actinobacteria;c__Actinobacteria;o__Actinomycetales;f__Actinomycetaceae;g__Actinomyces                        | SRR1039533                                                                                                                   | /ebio/abt3_projects/databases_no-backup/DeepMAsED/MAG_datasets/AlmeidaA-2019/mags/SRR1039533_bin.12.fa.gz                    | /ebio/abt3_projects/databases_no-backup/DeepMAsED/MAG_datasets/AlmeidaA-2019/LLMGQC/final/SRR1039533/R1_final.fq.gz          | /ebio/abt3_projects/databases_no-backup/DeepMAsED/MAG_datasets/AlmeidaA-2019/LLMGQC/final/SRR1039533/R2_final.fq.gz          | \n",
       "| SRR1039533_bin.14                                                                                                            | 69.19                                                                                                                        | 0.00                                                                                                                         | 0                                                                                                                            | k__Bacteria;p__Actinobacteria;c__Actinobacteria;o__Actinomycetales;f__Actinomycetaceae;g__Actinomyces_2;s__Actinomyces_neuii | SRR1039533                                                                                                                   | /ebio/abt3_projects/databases_no-backup/DeepMAsED/MAG_datasets/AlmeidaA-2019/mags/SRR1039533_bin.14.fa.gz                    | /ebio/abt3_projects/databases_no-backup/DeepMAsED/MAG_datasets/AlmeidaA-2019/LLMGQC/final/SRR1039533/R1_final.fq.gz          | /ebio/abt3_projects/databases_no-backup/DeepMAsED/MAG_datasets/AlmeidaA-2019/LLMGQC/final/SRR1039533/R2_final.fq.gz          | \n",
       "| SRR1039533_bin.19                                                                                                            | 94.15                                                                                                                        | 0.15                                                                                                                         | 0                                                                                                                            | k__Bacteria;p__Actinobacteria;c__Actinobacteria;o__Actinomycetales;f__Dermabacteraceae                                       | SRR1039533                                                                                                                   | /ebio/abt3_projects/databases_no-backup/DeepMAsED/MAG_datasets/AlmeidaA-2019/mags/SRR1039533_bin.19.fa.gz                    | /ebio/abt3_projects/databases_no-backup/DeepMAsED/MAG_datasets/AlmeidaA-2019/LLMGQC/final/SRR1039533/R1_final.fq.gz          | /ebio/abt3_projects/databases_no-backup/DeepMAsED/MAG_datasets/AlmeidaA-2019/LLMGQC/final/SRR1039533/R2_final.fq.gz          | \n",
       "\n",
       "\n"
      ],
      "text/plain": [
       "  Taxon             Completeness Contamination Strain_heterogeneity\n",
       "1 SRR1039533_bin.12 99.29        0.95          0                   \n",
       "2 SRR1039533_bin.14 69.19        0.00          0                   \n",
       "3 SRR1039533_bin.19 94.15        0.15          0                   \n",
       "  CheckM_lineage                                                                                                              \n",
       "1 k__Bacteria;p__Actinobacteria;c__Actinobacteria;o__Actinomycetales;f__Actinomycetaceae;g__Actinomyces                       \n",
       "2 k__Bacteria;p__Actinobacteria;c__Actinobacteria;o__Actinomycetales;f__Actinomycetaceae;g__Actinomyces_2;s__Actinomyces_neuii\n",
       "3 k__Bacteria;p__Actinobacteria;c__Actinobacteria;o__Actinomycetales;f__Dermabacteraceae                                      \n",
       "  Sample    \n",
       "1 SRR1039533\n",
       "2 SRR1039533\n",
       "3 SRR1039533\n",
       "  Fasta                                                                                                    \n",
       "1 /ebio/abt3_projects/databases_no-backup/DeepMAsED/MAG_datasets/AlmeidaA-2019/mags/SRR1039533_bin.12.fa.gz\n",
       "2 /ebio/abt3_projects/databases_no-backup/DeepMAsED/MAG_datasets/AlmeidaA-2019/mags/SRR1039533_bin.14.fa.gz\n",
       "3 /ebio/abt3_projects/databases_no-backup/DeepMAsED/MAG_datasets/AlmeidaA-2019/mags/SRR1039533_bin.19.fa.gz\n",
       "  Read1                                                                                                              \n",
       "1 /ebio/abt3_projects/databases_no-backup/DeepMAsED/MAG_datasets/AlmeidaA-2019/LLMGQC/final/SRR1039533/R1_final.fq.gz\n",
       "2 /ebio/abt3_projects/databases_no-backup/DeepMAsED/MAG_datasets/AlmeidaA-2019/LLMGQC/final/SRR1039533/R1_final.fq.gz\n",
       "3 /ebio/abt3_projects/databases_no-backup/DeepMAsED/MAG_datasets/AlmeidaA-2019/LLMGQC/final/SRR1039533/R1_final.fq.gz\n",
       "  Read2                                                                                                              \n",
       "1 /ebio/abt3_projects/databases_no-backup/DeepMAsED/MAG_datasets/AlmeidaA-2019/LLMGQC/final/SRR1039533/R2_final.fq.gz\n",
       "2 /ebio/abt3_projects/databases_no-backup/DeepMAsED/MAG_datasets/AlmeidaA-2019/LLMGQC/final/SRR1039533/R2_final.fq.gz\n",
       "3 /ebio/abt3_projects/databases_no-backup/DeepMAsED/MAG_datasets/AlmeidaA-2019/LLMGQC/final/SRR1039533/R2_final.fq.gz"
      ]
     },
     "metadata": {},
     "output_type": "display_data"
    }
   ],
   "source": [
    "# MAGs selected from AlmeidaA analysis\n",
    "AlmeidaA_n143 = read.delim(AlmeidaA_n143_file, sep='\\t') \n",
    "AlmeidaA_n143 %>% nrow %>% print\n",
    "AlmeidaA_n143 %>% head(n=3)"
   ]
  },
  {
   "cell_type": "markdown",
   "metadata": {},
   "source": [
    "# Overlapping samples\n",
    "\n",
    "* Justing using samples overlapping with Almeida-2019\n",
    "  * These samples are already QC'ed"
   ]
  },
  {
   "cell_type": "code",
   "execution_count": 11,
   "metadata": {
    "ExecuteTime": {
     "end_time": "2019-12-07T06:54:49.814474Z",
     "start_time": "2019-12-07T06:54:49.518Z"
    }
   },
   "outputs": [
    {
     "name": "stderr",
     "output_type": "stream",
     "text": [
      "Warning message:\n",
      "“Column `sample`/`sampleID` joining factors with different levels, coercing to character vector”"
     ]
    },
    {
     "name": "stdout",
     "output_type": "stream",
     "text": [
      "[1] 475618\n"
     ]
    },
    {
     "data": {
      "text/html": [
       "<table>\n",
       "<thead><tr><th scope=col>MAG</th><th scope=col>sample</th><th scope=col>fasta</th><th scope=col>NCBI_accession</th></tr></thead>\n",
       "<tbody>\n",
       "\t<tr><td>BritoIL_2016__M1.26.ST__bin.30                                                                                                                          </td><td>BritoIL_2016__M1.26.ST                                                                                                                                  </td><td>/ebio/abt3_projects/databases_no-backup/DeepMAsED/MAG_datasets/PasolliE-2019//all_MAGs/SGB_genome_fastas_part1/1001/BritoIL_2016__M1.26.ST__bin.30.fa.gz</td><td>SRR2250547                                                                                                                                              </td></tr>\n",
       "\t<tr><td>BritoIL_2016__M1.26.ST__bin.30                                                                                                                          </td><td>BritoIL_2016__M1.26.ST                                                                                                                                  </td><td>/ebio/abt3_projects/databases_no-backup/DeepMAsED/MAG_datasets/PasolliE-2019//all_MAGs/SGB_genome_fastas_part1/1001/BritoIL_2016__M1.26.ST__bin.30.fa.gz</td><td>SRR2248241                                                                                                                                              </td></tr>\n",
       "\t<tr><td>BritoIL_2016__M1.26.ST__bin.30                                                                                                                          </td><td>BritoIL_2016__M1.26.ST                                                                                                                                  </td><td>/ebio/abt3_projects/databases_no-backup/DeepMAsED/MAG_datasets/PasolliE-2019//all_MAGs/SGB_genome_fastas_part1/1001/BritoIL_2016__M1.26.ST__bin.30.fa.gz</td><td>SRR2249667                                                                                                                                              </td></tr>\n",
       "</tbody>\n",
       "</table>\n"
      ],
      "text/latex": [
       "\\begin{tabular}{r|llll}\n",
       " MAG & sample & fasta & NCBI\\_accession\\\\\n",
       "\\hline\n",
       "\t BritoIL\\_2016\\_\\_M1.26.ST\\_\\_bin.30                                                                                                                                         & BritoIL\\_2016\\_\\_M1.26.ST                                                                                                                                                     & /ebio/abt3\\_projects/databases\\_no-backup/DeepMAsED/MAG\\_datasets/PasolliE-2019//all\\_MAGs/SGB\\_genome\\_fastas\\_part1/1001/BritoIL\\_2016\\_\\_M1.26.ST\\_\\_bin.30.fa.gz & SRR2250547                                                                                                                                                                      \\\\\n",
       "\t BritoIL\\_2016\\_\\_M1.26.ST\\_\\_bin.30                                                                                                                                         & BritoIL\\_2016\\_\\_M1.26.ST                                                                                                                                                     & /ebio/abt3\\_projects/databases\\_no-backup/DeepMAsED/MAG\\_datasets/PasolliE-2019//all\\_MAGs/SGB\\_genome\\_fastas\\_part1/1001/BritoIL\\_2016\\_\\_M1.26.ST\\_\\_bin.30.fa.gz & SRR2248241                                                                                                                                                                      \\\\\n",
       "\t BritoIL\\_2016\\_\\_M1.26.ST\\_\\_bin.30                                                                                                                                         & BritoIL\\_2016\\_\\_M1.26.ST                                                                                                                                                     & /ebio/abt3\\_projects/databases\\_no-backup/DeepMAsED/MAG\\_datasets/PasolliE-2019//all\\_MAGs/SGB\\_genome\\_fastas\\_part1/1001/BritoIL\\_2016\\_\\_M1.26.ST\\_\\_bin.30.fa.gz & SRR2249667                                                                                                                                                                      \\\\\n",
       "\\end{tabular}\n"
      ],
      "text/markdown": [
       "\n",
       "MAG | sample | fasta | NCBI_accession | \n",
       "|---|---|---|\n",
       "| BritoIL_2016__M1.26.ST__bin.30                                                                                                                           | BritoIL_2016__M1.26.ST                                                                                                                                   | /ebio/abt3_projects/databases_no-backup/DeepMAsED/MAG_datasets/PasolliE-2019//all_MAGs/SGB_genome_fastas_part1/1001/BritoIL_2016__M1.26.ST__bin.30.fa.gz | SRR2250547                                                                                                                                               | \n",
       "| BritoIL_2016__M1.26.ST__bin.30                                                                                                                           | BritoIL_2016__M1.26.ST                                                                                                                                   | /ebio/abt3_projects/databases_no-backup/DeepMAsED/MAG_datasets/PasolliE-2019//all_MAGs/SGB_genome_fastas_part1/1001/BritoIL_2016__M1.26.ST__bin.30.fa.gz | SRR2248241                                                                                                                                               | \n",
       "| BritoIL_2016__M1.26.ST__bin.30                                                                                                                           | BritoIL_2016__M1.26.ST                                                                                                                                   | /ebio/abt3_projects/databases_no-backup/DeepMAsED/MAG_datasets/PasolliE-2019//all_MAGs/SGB_genome_fastas_part1/1001/BritoIL_2016__M1.26.ST__bin.30.fa.gz | SRR2249667                                                                                                                                               | \n",
       "\n",
       "\n"
      ],
      "text/plain": [
       "  MAG                            sample                \n",
       "1 BritoIL_2016__M1.26.ST__bin.30 BritoIL_2016__M1.26.ST\n",
       "2 BritoIL_2016__M1.26.ST__bin.30 BritoIL_2016__M1.26.ST\n",
       "3 BritoIL_2016__M1.26.ST__bin.30 BritoIL_2016__M1.26.ST\n",
       "  fasta                                                                                                                                                   \n",
       "1 /ebio/abt3_projects/databases_no-backup/DeepMAsED/MAG_datasets/PasolliE-2019//all_MAGs/SGB_genome_fastas_part1/1001/BritoIL_2016__M1.26.ST__bin.30.fa.gz\n",
       "2 /ebio/abt3_projects/databases_no-backup/DeepMAsED/MAG_datasets/PasolliE-2019//all_MAGs/SGB_genome_fastas_part1/1001/BritoIL_2016__M1.26.ST__bin.30.fa.gz\n",
       "3 /ebio/abt3_projects/databases_no-backup/DeepMAsED/MAG_datasets/PasolliE-2019//all_MAGs/SGB_genome_fastas_part1/1001/BritoIL_2016__M1.26.ST__bin.30.fa.gz\n",
       "  NCBI_accession\n",
       "1 SRR2250547    \n",
       "2 SRR2248241    \n",
       "3 SRR2249667    "
      ]
     },
     "metadata": {},
     "output_type": "display_data"
    }
   ],
   "source": [
    "MAG_fasta = MAG_fasta %>%\n",
    "    inner_join(acc, c('sample'='sampleID')) \n",
    "\n",
    "MAG_fasta %>% nrow %>% print\n",
    "MAG_fasta %>% head(n=3)"
   ]
  },
  {
   "cell_type": "code",
   "execution_count": 12,
   "metadata": {
    "ExecuteTime": {
     "end_time": "2019-12-07T06:54:52.128518Z",
     "start_time": "2019-12-07T06:54:52.038Z"
    }
   },
   "outputs": [
    {
     "name": "stdout",
     "output_type": "stream",
     "text": [
      "[1] 60\n"
     ]
    }
   ],
   "source": [
    "# number of overlapping NCBI accessions\n",
    "samp_overlap = intersect(AlmeidaA_n143$Sample, MAG_fasta$NCBI_accession) \n",
    "samp_overlap %>% length %>% print"
   ]
  },
  {
   "cell_type": "code",
   "execution_count": 13,
   "metadata": {
    "ExecuteTime": {
     "end_time": "2019-12-07T06:54:57.056214Z",
     "start_time": "2019-12-07T06:54:56.453Z"
    }
   },
   "outputs": [
    {
     "name": "stderr",
     "output_type": "stream",
     "text": [
      "Warning message:\n",
      "“Column `NCBI_accession`/`Sample` joining factors with different levels, coercing to character vector”"
     ]
    },
    {
     "name": "stdout",
     "output_type": "stream",
     "text": [
      "Number of overlapping samples: 60 \n",
      "PasolliE-2019 MAGs: 1090 \n",
      "Almeida-2019 MAGs: 536 \n",
      "[1] 12538\n"
     ]
    },
    {
     "data": {
      "text/html": [
       "<table>\n",
       "<thead><tr><th scope=col>MAG</th><th scope=col>sample</th><th scope=col>fasta</th><th scope=col>NCBI_accession</th><th scope=col>Taxon</th><th scope=col>Completeness</th><th scope=col>Contamination</th><th scope=col>Strain_heterogeneity</th><th scope=col>CheckM_lineage</th><th scope=col>Fasta</th><th scope=col>Read1</th><th scope=col>Read2</th></tr></thead>\n",
       "<tbody>\n",
       "\t<tr><td>VogtmannE_2016__MMRS65205033ST-27-0-0__bin.43                                                                                                                          </td><td>VogtmannE_2016__MMRS65205033ST-27-0-0                                                                                                                                  </td><td>/ebio/abt3_projects/databases_no-backup/DeepMAsED/MAG_datasets/PasolliE-2019//all_MAGs/SGB_genome_fastas_part1/1024/VogtmannE_2016__MMRS65205033ST-27-0-0__bin.43.fa.gz</td><td>ERR1293531                                                                                                                                                             </td><td>ERR1293531_bin.6                                                                                                                                                       </td><td>80.98                                                                                                                                                                  </td><td>2.02                                                                                                                                                                   </td><td>  0.00                                                                                                                                                                 </td><td>k__Bacteria;p__Firmicutes;c__Negativicutes;o__Selenomonadales;f__Acidaminococcaceae                                                                                    </td><td>/ebio/abt3_projects/databases_no-backup/DeepMAsED/MAG_datasets/AlmeidaA-2019/mags/ERR1293531_bin.6.fa.gz                                                               </td><td>/ebio/abt3_projects/databases_no-backup/DeepMAsED/MAG_datasets/AlmeidaA-2019/LLMGQC/final/ERR1293531/R1_final.fq.gz                                                    </td><td>/ebio/abt3_projects/databases_no-backup/DeepMAsED/MAG_datasets/AlmeidaA-2019/LLMGQC/final/ERR1293531/R2_final.fq.gz                                                    </td></tr>\n",
       "\t<tr><td>VogtmannE_2016__MMRS65205033ST-27-0-0__bin.43                                                                                                                          </td><td>VogtmannE_2016__MMRS65205033ST-27-0-0                                                                                                                                  </td><td>/ebio/abt3_projects/databases_no-backup/DeepMAsED/MAG_datasets/PasolliE-2019//all_MAGs/SGB_genome_fastas_part1/1024/VogtmannE_2016__MMRS65205033ST-27-0-0__bin.43.fa.gz</td><td>ERR1293531                                                                                                                                                             </td><td>ERR1293531_bin.9                                                                                                                                                       </td><td>79.73                                                                                                                                                                  </td><td>0.12                                                                                                                                                                   </td><td>100.00                                                                                                                                                                 </td><td>k__Bacteria;p__Bacteroidetes;c__Bacteroidia;o__Bacteroidales;f__Prevotellaceae;g__Prevotella                                                                           </td><td>/ebio/abt3_projects/databases_no-backup/DeepMAsED/MAG_datasets/AlmeidaA-2019/mags/ERR1293531_bin.9.fa.gz                                                               </td><td>/ebio/abt3_projects/databases_no-backup/DeepMAsED/MAG_datasets/AlmeidaA-2019/LLMGQC/final/ERR1293531/R1_final.fq.gz                                                    </td><td>/ebio/abt3_projects/databases_no-backup/DeepMAsED/MAG_datasets/AlmeidaA-2019/LLMGQC/final/ERR1293531/R2_final.fq.gz                                                    </td></tr>\n",
       "\t<tr><td>VogtmannE_2016__MMRS65205033ST-27-0-0__bin.43                                                                                                                          </td><td>VogtmannE_2016__MMRS65205033ST-27-0-0                                                                                                                                  </td><td>/ebio/abt3_projects/databases_no-backup/DeepMAsED/MAG_datasets/PasolliE-2019//all_MAGs/SGB_genome_fastas_part1/1024/VogtmannE_2016__MMRS65205033ST-27-0-0__bin.43.fa.gz</td><td>ERR1293531                                                                                                                                                             </td><td>ERR1293531_bin.12                                                                                                                                                      </td><td>61.90                                                                                                                                                                  </td><td>0.59                                                                                                                                                                   </td><td> 15.38                                                                                                                                                                 </td><td>k__Bacteria;p__Firmicutes;c__Clostridia;o__Clostridiales                                                                                                               </td><td>/ebio/abt3_projects/databases_no-backup/DeepMAsED/MAG_datasets/AlmeidaA-2019/mags/ERR1293531_bin.12.fa.gz                                                              </td><td>/ebio/abt3_projects/databases_no-backup/DeepMAsED/MAG_datasets/AlmeidaA-2019/LLMGQC/final/ERR1293531/R1_final.fq.gz                                                    </td><td>/ebio/abt3_projects/databases_no-backup/DeepMAsED/MAG_datasets/AlmeidaA-2019/LLMGQC/final/ERR1293531/R2_final.fq.gz                                                    </td></tr>\n",
       "</tbody>\n",
       "</table>\n"
      ],
      "text/latex": [
       "\\begin{tabular}{r|llllllllllll}\n",
       " MAG & sample & fasta & NCBI\\_accession & Taxon & Completeness & Contamination & Strain\\_heterogeneity & CheckM\\_lineage & Fasta & Read1 & Read2\\\\\n",
       "\\hline\n",
       "\t VogtmannE\\_2016\\_\\_MMRS65205033ST-27-0-0\\_\\_bin.43                                                                                                                                         & VogtmannE\\_2016\\_\\_MMRS65205033ST-27-0-0                                                                                                                                                     & /ebio/abt3\\_projects/databases\\_no-backup/DeepMAsED/MAG\\_datasets/PasolliE-2019//all\\_MAGs/SGB\\_genome\\_fastas\\_part1/1024/VogtmannE\\_2016\\_\\_MMRS65205033ST-27-0-0\\_\\_bin.43.fa.gz & ERR1293531                                                                                                                                                                                      & ERR1293531\\_bin.6                                                                                                                                                                              & 80.98                                                                                                                                                                                           & 2.02                                                                                                                                                                                            &   0.00                                                                                                                                                                                          & k\\_\\_Bacteria;p\\_\\_Firmicutes;c\\_\\_Negativicutes;o\\_\\_Selenomonadales;f\\_\\_Acidaminococcaceae                                                                                         & /ebio/abt3\\_projects/databases\\_no-backup/DeepMAsED/MAG\\_datasets/AlmeidaA-2019/mags/ERR1293531\\_bin.6.fa.gz                                                                                & /ebio/abt3\\_projects/databases\\_no-backup/DeepMAsED/MAG\\_datasets/AlmeidaA-2019/LLMGQC/final/ERR1293531/R1\\_final.fq.gz                                                                     & /ebio/abt3\\_projects/databases\\_no-backup/DeepMAsED/MAG\\_datasets/AlmeidaA-2019/LLMGQC/final/ERR1293531/R2\\_final.fq.gz                                                                    \\\\\n",
       "\t VogtmannE\\_2016\\_\\_MMRS65205033ST-27-0-0\\_\\_bin.43                                                                                                                                         & VogtmannE\\_2016\\_\\_MMRS65205033ST-27-0-0                                                                                                                                                     & /ebio/abt3\\_projects/databases\\_no-backup/DeepMAsED/MAG\\_datasets/PasolliE-2019//all\\_MAGs/SGB\\_genome\\_fastas\\_part1/1024/VogtmannE\\_2016\\_\\_MMRS65205033ST-27-0-0\\_\\_bin.43.fa.gz & ERR1293531                                                                                                                                                                                      & ERR1293531\\_bin.9                                                                                                                                                                              & 79.73                                                                                                                                                                                           & 0.12                                                                                                                                                                                            & 100.00                                                                                                                                                                                          & k\\_\\_Bacteria;p\\_\\_Bacteroidetes;c\\_\\_Bacteroidia;o\\_\\_Bacteroidales;f\\_\\_Prevotellaceae;g\\_\\_Prevotella                                                                            & /ebio/abt3\\_projects/databases\\_no-backup/DeepMAsED/MAG\\_datasets/AlmeidaA-2019/mags/ERR1293531\\_bin.9.fa.gz                                                                                & /ebio/abt3\\_projects/databases\\_no-backup/DeepMAsED/MAG\\_datasets/AlmeidaA-2019/LLMGQC/final/ERR1293531/R1\\_final.fq.gz                                                                     & /ebio/abt3\\_projects/databases\\_no-backup/DeepMAsED/MAG\\_datasets/AlmeidaA-2019/LLMGQC/final/ERR1293531/R2\\_final.fq.gz                                                                    \\\\\n",
       "\t VogtmannE\\_2016\\_\\_MMRS65205033ST-27-0-0\\_\\_bin.43                                                                                                                                         & VogtmannE\\_2016\\_\\_MMRS65205033ST-27-0-0                                                                                                                                                     & /ebio/abt3\\_projects/databases\\_no-backup/DeepMAsED/MAG\\_datasets/PasolliE-2019//all\\_MAGs/SGB\\_genome\\_fastas\\_part1/1024/VogtmannE\\_2016\\_\\_MMRS65205033ST-27-0-0\\_\\_bin.43.fa.gz & ERR1293531                                                                                                                                                                                      & ERR1293531\\_bin.12                                                                                                                                                                             & 61.90                                                                                                                                                                                           & 0.59                                                                                                                                                                                            &  15.38                                                                                                                                                                                          & k\\_\\_Bacteria;p\\_\\_Firmicutes;c\\_\\_Clostridia;o\\_\\_Clostridiales                                                                                                                        & /ebio/abt3\\_projects/databases\\_no-backup/DeepMAsED/MAG\\_datasets/AlmeidaA-2019/mags/ERR1293531\\_bin.12.fa.gz                                                                               & /ebio/abt3\\_projects/databases\\_no-backup/DeepMAsED/MAG\\_datasets/AlmeidaA-2019/LLMGQC/final/ERR1293531/R1\\_final.fq.gz                                                                     & /ebio/abt3\\_projects/databases\\_no-backup/DeepMAsED/MAG\\_datasets/AlmeidaA-2019/LLMGQC/final/ERR1293531/R2\\_final.fq.gz                                                                    \\\\\n",
       "\\end{tabular}\n"
      ],
      "text/markdown": [
       "\n",
       "MAG | sample | fasta | NCBI_accession | Taxon | Completeness | Contamination | Strain_heterogeneity | CheckM_lineage | Fasta | Read1 | Read2 | \n",
       "|---|---|---|\n",
       "| VogtmannE_2016__MMRS65205033ST-27-0-0__bin.43                                                                                                                           | VogtmannE_2016__MMRS65205033ST-27-0-0                                                                                                                                   | /ebio/abt3_projects/databases_no-backup/DeepMAsED/MAG_datasets/PasolliE-2019//all_MAGs/SGB_genome_fastas_part1/1024/VogtmannE_2016__MMRS65205033ST-27-0-0__bin.43.fa.gz | ERR1293531                                                                                                                                                              | ERR1293531_bin.6                                                                                                                                                        | 80.98                                                                                                                                                                   | 2.02                                                                                                                                                                    |   0.00                                                                                                                                                                  | k__Bacteria;p__Firmicutes;c__Negativicutes;o__Selenomonadales;f__Acidaminococcaceae                                                                                     | /ebio/abt3_projects/databases_no-backup/DeepMAsED/MAG_datasets/AlmeidaA-2019/mags/ERR1293531_bin.6.fa.gz                                                                | /ebio/abt3_projects/databases_no-backup/DeepMAsED/MAG_datasets/AlmeidaA-2019/LLMGQC/final/ERR1293531/R1_final.fq.gz                                                     | /ebio/abt3_projects/databases_no-backup/DeepMAsED/MAG_datasets/AlmeidaA-2019/LLMGQC/final/ERR1293531/R2_final.fq.gz                                                     | \n",
       "| VogtmannE_2016__MMRS65205033ST-27-0-0__bin.43                                                                                                                           | VogtmannE_2016__MMRS65205033ST-27-0-0                                                                                                                                   | /ebio/abt3_projects/databases_no-backup/DeepMAsED/MAG_datasets/PasolliE-2019//all_MAGs/SGB_genome_fastas_part1/1024/VogtmannE_2016__MMRS65205033ST-27-0-0__bin.43.fa.gz | ERR1293531                                                                                                                                                              | ERR1293531_bin.9                                                                                                                                                        | 79.73                                                                                                                                                                   | 0.12                                                                                                                                                                    | 100.00                                                                                                                                                                  | k__Bacteria;p__Bacteroidetes;c__Bacteroidia;o__Bacteroidales;f__Prevotellaceae;g__Prevotella                                                                            | /ebio/abt3_projects/databases_no-backup/DeepMAsED/MAG_datasets/AlmeidaA-2019/mags/ERR1293531_bin.9.fa.gz                                                                | /ebio/abt3_projects/databases_no-backup/DeepMAsED/MAG_datasets/AlmeidaA-2019/LLMGQC/final/ERR1293531/R1_final.fq.gz                                                     | /ebio/abt3_projects/databases_no-backup/DeepMAsED/MAG_datasets/AlmeidaA-2019/LLMGQC/final/ERR1293531/R2_final.fq.gz                                                     | \n",
       "| VogtmannE_2016__MMRS65205033ST-27-0-0__bin.43                                                                                                                           | VogtmannE_2016__MMRS65205033ST-27-0-0                                                                                                                                   | /ebio/abt3_projects/databases_no-backup/DeepMAsED/MAG_datasets/PasolliE-2019//all_MAGs/SGB_genome_fastas_part1/1024/VogtmannE_2016__MMRS65205033ST-27-0-0__bin.43.fa.gz | ERR1293531                                                                                                                                                              | ERR1293531_bin.12                                                                                                                                                       | 61.90                                                                                                                                                                   | 0.59                                                                                                                                                                    |  15.38                                                                                                                                                                  | k__Bacteria;p__Firmicutes;c__Clostridia;o__Clostridiales                                                                                                                | /ebio/abt3_projects/databases_no-backup/DeepMAsED/MAG_datasets/AlmeidaA-2019/mags/ERR1293531_bin.12.fa.gz                                                               | /ebio/abt3_projects/databases_no-backup/DeepMAsED/MAG_datasets/AlmeidaA-2019/LLMGQC/final/ERR1293531/R1_final.fq.gz                                                     | /ebio/abt3_projects/databases_no-backup/DeepMAsED/MAG_datasets/AlmeidaA-2019/LLMGQC/final/ERR1293531/R2_final.fq.gz                                                     | \n",
       "\n",
       "\n"
      ],
      "text/plain": [
       "  MAG                                          \n",
       "1 VogtmannE_2016__MMRS65205033ST-27-0-0__bin.43\n",
       "2 VogtmannE_2016__MMRS65205033ST-27-0-0__bin.43\n",
       "3 VogtmannE_2016__MMRS65205033ST-27-0-0__bin.43\n",
       "  sample                               \n",
       "1 VogtmannE_2016__MMRS65205033ST-27-0-0\n",
       "2 VogtmannE_2016__MMRS65205033ST-27-0-0\n",
       "3 VogtmannE_2016__MMRS65205033ST-27-0-0\n",
       "  fasta                                                                                                                                                                  \n",
       "1 /ebio/abt3_projects/databases_no-backup/DeepMAsED/MAG_datasets/PasolliE-2019//all_MAGs/SGB_genome_fastas_part1/1024/VogtmannE_2016__MMRS65205033ST-27-0-0__bin.43.fa.gz\n",
       "2 /ebio/abt3_projects/databases_no-backup/DeepMAsED/MAG_datasets/PasolliE-2019//all_MAGs/SGB_genome_fastas_part1/1024/VogtmannE_2016__MMRS65205033ST-27-0-0__bin.43.fa.gz\n",
       "3 /ebio/abt3_projects/databases_no-backup/DeepMAsED/MAG_datasets/PasolliE-2019//all_MAGs/SGB_genome_fastas_part1/1024/VogtmannE_2016__MMRS65205033ST-27-0-0__bin.43.fa.gz\n",
       "  NCBI_accession Taxon             Completeness Contamination\n",
       "1 ERR1293531     ERR1293531_bin.6  80.98        2.02         \n",
       "2 ERR1293531     ERR1293531_bin.9  79.73        0.12         \n",
       "3 ERR1293531     ERR1293531_bin.12 61.90        0.59         \n",
       "  Strain_heterogeneity\n",
       "1   0.00              \n",
       "2 100.00              \n",
       "3  15.38              \n",
       "  CheckM_lineage                                                                              \n",
       "1 k__Bacteria;p__Firmicutes;c__Negativicutes;o__Selenomonadales;f__Acidaminococcaceae         \n",
       "2 k__Bacteria;p__Bacteroidetes;c__Bacteroidia;o__Bacteroidales;f__Prevotellaceae;g__Prevotella\n",
       "3 k__Bacteria;p__Firmicutes;c__Clostridia;o__Clostridiales                                    \n",
       "  Fasta                                                                                                    \n",
       "1 /ebio/abt3_projects/databases_no-backup/DeepMAsED/MAG_datasets/AlmeidaA-2019/mags/ERR1293531_bin.6.fa.gz \n",
       "2 /ebio/abt3_projects/databases_no-backup/DeepMAsED/MAG_datasets/AlmeidaA-2019/mags/ERR1293531_bin.9.fa.gz \n",
       "3 /ebio/abt3_projects/databases_no-backup/DeepMAsED/MAG_datasets/AlmeidaA-2019/mags/ERR1293531_bin.12.fa.gz\n",
       "  Read1                                                                                                              \n",
       "1 /ebio/abt3_projects/databases_no-backup/DeepMAsED/MAG_datasets/AlmeidaA-2019/LLMGQC/final/ERR1293531/R1_final.fq.gz\n",
       "2 /ebio/abt3_projects/databases_no-backup/DeepMAsED/MAG_datasets/AlmeidaA-2019/LLMGQC/final/ERR1293531/R1_final.fq.gz\n",
       "3 /ebio/abt3_projects/databases_no-backup/DeepMAsED/MAG_datasets/AlmeidaA-2019/LLMGQC/final/ERR1293531/R1_final.fq.gz\n",
       "  Read2                                                                                                              \n",
       "1 /ebio/abt3_projects/databases_no-backup/DeepMAsED/MAG_datasets/AlmeidaA-2019/LLMGQC/final/ERR1293531/R2_final.fq.gz\n",
       "2 /ebio/abt3_projects/databases_no-backup/DeepMAsED/MAG_datasets/AlmeidaA-2019/LLMGQC/final/ERR1293531/R2_final.fq.gz\n",
       "3 /ebio/abt3_projects/databases_no-backup/DeepMAsED/MAG_datasets/AlmeidaA-2019/LLMGQC/final/ERR1293531/R2_final.fq.gz"
      ]
     },
     "metadata": {},
     "output_type": "display_data"
    }
   ],
   "source": [
    "# MAGs in Pasolli for overlapping samples\n",
    "MAG_fasta_j = MAG_fasta %>%\n",
    "    inner_join(AlmeidaA_n143, c('NCBI_accession'='Sample')) \n",
    "\n",
    "# overlapping samples\n",
    "cat('Number of overlapping samples:', \n",
    "    MAG_fasta_j$NCBI_accession %>% unique %>% length, '\\n')\n",
    "\n",
    "# number of MAGs\n",
    "cat('PasolliE-2019 MAGs:', MAG_fasta_j$MAG %>% unique %>% length, '\\n')\n",
    "cat('Almeida-2019 MAGs:', MAG_fasta_j$Taxon %>% unique %>% length, '\\n')\n",
    "\n",
    "MAG_fasta_j %>% nrow %>% print\n",
    "MAG_fasta_j %>% head(n=3)"
   ]
  },
  {
   "cell_type": "markdown",
   "metadata": {},
   "source": [
    "## Creating samples file for DeepMAsED\n",
    "\n",
    "* Making feature tables for each MAG"
   ]
  },
  {
   "cell_type": "code",
   "execution_count": 19,
   "metadata": {
    "ExecuteTime": {
     "end_time": "2019-07-26T12:50:45.214959Z",
     "start_time": "2019-07-26T12:50:45.147Z"
    }
   },
   "outputs": [
    {
     "name": "stdout",
     "output_type": "stream",
     "text": [
      "File written: /ebio/abt3_projects/databases_no-backup/DeepMAsED/MAG_datasets/PasolliE-2019//samples_Almeida-Pasolli.txt \n"
     ]
    }
   ],
   "source": [
    "samples_file = file.path(work_dir, 'samples_Almeida-Pasolli.txt')\n",
    "MAG_fasta_j  %>%\n",
    "    distinct(MAG, NCBI_accession, fasta, Read1, Read2) %>%\n",
    "    rename('Taxon' = MAG,\n",
    "           'Sample' = NCBI_accession,\n",
    "           'Fasta' = fasta) %>%\n",
    "    write.table(file=samples_file, sep='\\t', quote=FALSE, row.names=FALSE)\n",
    "cat('File written:', samples_file, '\\n')"
   ]
  },
  {
   "cell_type": "markdown",
   "metadata": {},
   "source": [
    "## CheckM for selected MAGs"
   ]
  },
  {
   "cell_type": "code",
   "execution_count": 37,
   "metadata": {
    "ExecuteTime": {
     "end_time": "2019-12-07T07:03:34.248998Z",
     "start_time": "2019-12-07T07:03:33.863Z"
    }
   },
   "outputs": [
    {
     "name": "stderr",
     "output_type": "stream",
     "text": [
      "Warning message:\n",
      "“Column `Genome_Name`/`MAG` joining character vector and factor, coercing into character vector”"
     ]
    },
    {
     "name": "stdout",
     "output_type": "stream",
     "text": [
      "Number of MAGs: 1090 \n",
      "#-- checkM Completeness --#\n",
      "   Min. 1st Qu.  Median    Mean 3rd Qu.    Max. \n",
      "  50.00   75.44   90.28   84.55   96.01  100.00 \n",
      "#-- checkM Contamination --#\n",
      "   Min. 1st Qu.  Median    Mean 3rd Qu.    Max. \n",
      " 0.0000  0.1113  0.8939  1.2003  1.7719  4.9747 \n"
     ]
    }
   ],
   "source": [
    "MAG_info_f = MAG_info %>%\n",
    "    semi_join(MAG_fasta_j, c('Genome_Name'='MAG')) \n",
    "\n",
    "cat('Number of MAGs:', MAG_info_f %>% nrow, '\\n')\n",
    "\n",
    "cat('#-- checkM Completeness --#\\n')\n",
    "MAG_info_f$Completeness %>% summary %>% print\n",
    "cat('#-- checkM Contamination --#\\n')\n",
    "MAG_info_f$Contamination %>% summary %>% print"
   ]
  },
  {
   "cell_type": "code",
   "execution_count": 38,
   "metadata": {
    "ExecuteTime": {
     "end_time": "2019-12-07T07:03:49.188017Z",
     "start_time": "2019-12-07T07:03:49.119Z"
    }
   },
   "outputs": [
    {
     "name": "stdout",
     "output_type": "stream",
     "text": [
      "File written: /ebio/abt3_projects/databases_no-backup/DeepMAsED/MAG_datasets/PasolliE-2019//samples_Almeida-Pasolli_checkM.txt \n"
     ]
    }
   ],
   "source": [
    "checkM_file = file.path(work_dir, 'samples_Almeida-Pasolli_checkM.txt')\n",
    "MAG_info_f %>%\n",
    "    write.table(file=checkM_file, sep='\\t', quote=FALSE, row.names=FALSE)\n",
    "cat('File written:', checkM_file, '\\n')"
   ]
  },
  {
   "cell_type": "markdown",
   "metadata": {},
   "source": [
    "## DeepMAsED\n",
    "\n",
    "* Creating feature tables for each MAG"
   ]
  },
  {
   "cell_type": "markdown",
   "metadata": {},
   "source": [
    "```\n",
    "(snakemake) @ rick:/ebio/abt3_projects/software/dev/DeepMAsED/DeepMAsED-SM\n",
    "$ ./snakemake_sge.sh /ebio/abt3_projects/databases_no-backup/DeepMAsED/MAG_datasets/PasolliE-2019/samples_Almeida-Pasolli/config.yaml cluster.json /ebio/abt3_projects/databases_no-backup/DeepMAsED/MAG_datasets/PasolliE-2019/samples_Almeida-Pasolli/SGE_log 20 --dryrun\n",
    "```"
   ]
  },
  {
   "cell_type": "markdown",
   "metadata": {},
   "source": [
    "## Summary"
   ]
  },
  {
   "cell_type": "code",
   "execution_count": 21,
   "metadata": {
    "ExecuteTime": {
     "end_time": "2019-07-29T06:42:52.706559Z",
     "start_time": "2019-07-29T06:42:51.583Z"
    }
   },
   "outputs": [
    {
     "data": {
      "text/html": [
       "1090"
      ],
      "text/latex": [
       "1090"
      ],
      "text/markdown": [
       "1090"
      ],
      "text/plain": [
       "[1] 1090"
      ]
     },
     "metadata": {},
     "output_type": "display_data"
    }
   ],
   "source": [
    "P = file.path(work_dir, 'samples_Almeida-Pasolli', 'map')\n",
    "feat_files = list.files(P, 'features.tsv.gz', recursive=TRUE)\n",
    "feat_files %>% length"
   ]
  },
  {
   "cell_type": "markdown",
   "metadata": {},
   "source": [
    "# sessionInfo"
   ]
  },
  {
   "cell_type": "code",
   "execution_count": 23,
   "metadata": {
    "ExecuteTime": {
     "end_time": "2019-07-29T07:16:35.358946Z",
     "start_time": "2019-07-29T07:16:35.030Z"
    }
   },
   "outputs": [
    {
     "data": {
      "text/plain": [
       "R version 3.4.1 (2017-06-30)\n",
       "Platform: x86_64-pc-linux-gnu (64-bit)\n",
       "Running under: Ubuntu 18.04.2 LTS\n",
       "\n",
       "Matrix products: default\n",
       "BLAS: /ebio/abt3_projects/software/miniconda3_gt4.4/envs/py3_physeq/lib/R/lib/libRblas.so\n",
       "LAPACK: /ebio/abt3_projects/software/miniconda3_gt4.4/envs/py3_physeq/lib/R/lib/libRlapack.so\n",
       "\n",
       "locale:\n",
       " [1] LC_CTYPE=en_US.UTF-8       LC_NUMERIC=C              \n",
       " [3] LC_TIME=en_US.UTF-8        LC_COLLATE=en_US.UTF-8    \n",
       " [5] LC_MONETARY=en_US.UTF-8    LC_MESSAGES=en_US.UTF-8   \n",
       " [7] LC_PAPER=en_US.UTF-8       LC_NAME=C                 \n",
       " [9] LC_ADDRESS=C               LC_TELEPHONE=C            \n",
       "[11] LC_MEASUREMENT=en_US.UTF-8 LC_IDENTIFICATION=C       \n",
       "\n",
       "attached base packages:\n",
       "[1] stats     graphics  grDevices utils     datasets  methods   base     \n",
       "\n",
       "other attached packages:\n",
       "[1] bindrcpp_0.2.2 ggplot2_3.0.0  tidyr_0.8.1    dplyr_0.7.6   \n",
       "\n",
       "loaded via a namespace (and not attached):\n",
       " [1] Rcpp_0.12.17     bindr_0.1.1      magrittr_1.5     munsell_0.5.0   \n",
       " [5] tidyselect_0.2.4 uuid_0.1-2       colorspace_1.3-2 R6_2.2.2        \n",
       " [9] rlang_0.2.1      plyr_1.8.4       stringr_1.3.1    tools_3.4.1     \n",
       "[13] grid_3.4.1       gtable_0.2.0     withr_2.1.1      htmltools_0.3.6 \n",
       "[17] lazyeval_0.2.1   digest_0.6.15    assertthat_0.2.0 tibble_1.4.2    \n",
       "[21] crayon_1.3.4     IRdisplay_0.4.4  purrr_0.2.4      repr_0.15.0     \n",
       "[25] base64enc_0.1-3  IRkernel_0.8.12  glue_1.3.0       evaluate_0.10.1 \n",
       "[29] pbdZMQ_0.3-2     stringi_1.2.3    compiler_3.4.1   pillar_1.2.2    \n",
       "[33] scales_0.5.0     jsonlite_1.5     pkgconfig_2.0.1 "
      ]
     },
     "metadata": {},
     "output_type": "display_data"
    }
   ],
   "source": [
    "sessionInfo()"
   ]
  },
  {
   "cell_type": "code",
   "execution_count": null,
   "metadata": {},
   "outputs": [],
   "source": []
  }
 ],
 "metadata": {
  "kernelspec": {
   "display_name": "R [conda env:py3_physeq]",
   "language": "R",
   "name": "conda-env-py3_physeq-r"
  },
  "language_info": {
   "codemirror_mode": "r",
   "file_extension": ".r",
   "mimetype": "text/x-r-source",
   "name": "R",
   "pygments_lexer": "r",
   "version": "3.4.1"
  },
  "notify_time": "30",
  "toc": {
   "base_numbering": 1,
   "nav_menu": {},
   "number_sections": true,
   "sideBar": true,
   "skip_h1_title": false,
   "title_cell": "Table of Contents",
   "title_sidebar": "Contents",
   "toc_cell": true,
   "toc_position": {},
   "toc_section_display": true,
   "toc_window_display": true
  }
 },
 "nbformat": 4,
 "nbformat_minor": 2
}
