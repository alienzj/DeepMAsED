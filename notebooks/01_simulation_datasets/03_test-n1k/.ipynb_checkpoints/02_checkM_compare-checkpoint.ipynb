{
 "cells": [
  {
   "cell_type": "markdown",
   "metadata": {
    "toc": true
   },
   "source": [
    "<h1>Table of Contents<span class=\"tocSkip\"></span></h1>\n",
    "<div class=\"toc\"><ul class=\"toc-item\"><li><span><a href=\"#Goal\" data-toc-modified-id=\"Goal-1\"><span class=\"toc-item-num\">1&nbsp;&nbsp;</span>Goal</a></span></li><li><span><a href=\"#Var\" data-toc-modified-id=\"Var-2\"><span class=\"toc-item-num\">2&nbsp;&nbsp;</span>Var</a></span></li><li><span><a href=\"#Init\" data-toc-modified-id=\"Init-3\"><span class=\"toc-item-num\">3&nbsp;&nbsp;</span>Init</a></span></li><li><span><a href=\"#Load\" data-toc-modified-id=\"Load-4\"><span class=\"toc-item-num\">4&nbsp;&nbsp;</span>Load</a></span></li></ul></div>"
   ]
  },
  {
   "cell_type": "markdown",
   "metadata": {},
   "source": [
    "# Goal\n",
    "\n",
    "* Compare checkM values for all plot"
   ]
  },
  {
   "cell_type": "markdown",
   "metadata": {},
   "source": [
    "# Var"
   ]
  },
  {
   "cell_type": "code",
   "execution_count": 1,
   "metadata": {
    "ExecuteTime": {
     "end_time": "2019-12-18T14:34:37.699580Z",
     "start_time": "2019-12-18T14:34:37.293Z"
    }
   },
   "outputs": [],
   "source": [
    "# input genome table\n",
    "test_n100_ref_file = '/ebio/abt3_projects/databases_no-backup/DeepMAsED/GTDB_ref_genomes/DeepMAsED_GTDB_genome-refs_test_n100.tsv'\n",
    "# table of 1000 genomes pre-selected for \"test\" datasets (but only 100 previously used)\n",
    "test_n1000_ref_file = '/ebio/abt3_projects/databases_no-backup/DeepMAsED/GTDB_ref_genomes/DeepMAsED_GTDB_genome-refs_test.tsv'\n",
    "# table of 1000 genomes pre-selected for \"train\" datasets\n",
    "train_n1000_ref_file = '/ebio/abt3_projects/databases_no-backup/DeepMAsED/GTDB_ref_genomes/DeepMAsED_GTDB_genome-refs_train.tsv'"
   ]
  },
  {
   "cell_type": "markdown",
   "metadata": {},
   "source": [
    "# Init"
   ]
  },
  {
   "cell_type": "code",
   "execution_count": 3,
   "metadata": {
    "ExecuteTime": {
     "end_time": "2019-12-18T14:34:49.097115Z",
     "start_time": "2019-12-18T14:34:49.043Z"
    }
   },
   "outputs": [],
   "source": [
    "library(dplyr)\n",
    "library(tidyr)\n",
    "library(ggplot2)\n",
    "\n",
    "set.seed(8364)"
   ]
  },
  {
   "cell_type": "markdown",
   "metadata": {},
   "source": [
    "# Load"
   ]
  },
  {
   "cell_type": "code",
   "execution_count": 8,
   "metadata": {
    "ExecuteTime": {
     "end_time": "2019-12-18T14:35:35.778078Z",
     "start_time": "2019-12-18T14:35:35.689Z"
    }
   },
   "outputs": [
    {
     "data": {
      "text/html": [
       "<table>\n",
       "<thead><tr><th scope=col>Taxon</th><th scope=col>accession</th><th scope=col>scaffold_count</th><th scope=col>longest_scaffold</th><th scope=col>gc_percentage</th><th scope=col>total_gap_length</th><th scope=col>genome_size</th><th scope=col>n50_contigs</th><th scope=col>trna_count</th><th scope=col>checkm_completeness</th><th scope=col>checkm_contamination</th><th scope=col>ssu_count</th><th scope=col>ncbi_taxonomy</th><th scope=col>ssu_gg_taxonomy</th><th scope=col>gtdb_taxonomy</th><th scope=col>Fasta</th></tr></thead>\n",
       "<tbody>\n",
       "\t<tr><td>GB_GCA_000437635.1_Sutterella sp. CAG:521                                                                                                  </td><td>GB_GCA_000437635.1                                                                                                                         </td><td>76                                                                                                                                         </td><td>182689                                                                                                                                     </td><td>46.93616                                                                                                                                   </td><td>5241                                                                                                                                       </td><td>1829798                                                                                                                                    </td><td> 20115                                                                                                                                     </td><td>47                                                                                                                                         </td><td>94.90                                                                                                                                      </td><td>1.25                                                                                                                                       </td><td>1                                                                                                                                          </td><td>d__Bacteria;p__Proteobacteria;c__Betaproteobacteria;o__Burkholderiales;f__Sutterellaceae;g__Sutterella;s__                                 </td><td>k__Bacteria;p__Proteobacteria;c__Betaproteobacteria;o__Burkholderiales;f__Alcaligenaceae;g__Sutterella;s__                                 </td><td>d__Bacteria;p__Proteobacteria;c__Gammaproteobacteria;o__Betaproteobacteriales;f__Burkholderiaceae;g__CAG-521;s__                           </td><td>/ebio/abt3_projects/databases_no-backup/GTDB/release86/genbank/bacteria/GCA_000437635.1/GCA_000437635.1_MGS521_genomic.fna.gz              </td></tr>\n",
       "\t<tr><td>RS_GCF_000771625.1_Bifidobacterium saguini DSM 23967                                                                                       </td><td>RS_GCF_000771625.1                                                                                                                         </td><td>46                                                                                                                                         </td><td>493861                                                                                                                                     </td><td>56.34001                                                                                                                                   </td><td>   0                                                                                                                                       </td><td>2773425                                                                                                                                    </td><td>265430                                                                                                                                     </td><td>57                                                                                                                                         </td><td>99.54                                                                                                                                      </td><td>0.69                                                                                                                                       </td><td>2                                                                                                                                          </td><td>d__Bacteria;p__Actinobacteria;c__Actinobacteria;o__Bifidobacteriales;f__Bifidobacteriaceae;g__Bifidobacterium;s__Bifidobacterium saguini   </td><td>k__Bacteria;p__Actinobacteria;c__Actinobacteria;o__Bifidobacteriales;f__Bifidobacteriaceae;g__Bifidobacterium;s__                          </td><td>d__Bacteria;p__Actinobacteriota;c__Actinobacteria;o__Actinomycetales;f__Bifidobacteriaceae;g__Bifidobacterium;s__Bifidobacterium saguini   </td><td>/ebio/abt3_projects/databases_no-backup/GTDB/release86/genbank/bacteria/GCA_000771625.1/GCA_000771625.1_DSM-23967_genomic.fna.gz           </td></tr>\n",
       "\t<tr><td>RS_GCF_000420585.1_Corynebacterium callunae DSM 20147                                                                                      </td><td>RS_GCF_000420585.1                                                                                                                         </td><td>26                                                                                                                                         </td><td>387085                                                                                                                                     </td><td>52.45034                                                                                                                                   </td><td>   0                                                                                                                                       </td><td>2885106                                                                                                                                    </td><td>238580                                                                                                                                     </td><td>59                                                                                                                                         </td><td>99.45                                                                                                                                      </td><td>0.44                                                                                                                                       </td><td>2                                                                                                                                          </td><td>d__Bacteria;p__Actinobacteria;c__Actinobacteria;o__Corynebacteriales;f__Corynebacteriaceae;g__Corynebacterium;s__Corynebacterium callunae  </td><td>k__Bacteria;p__Actinobacteria;c__Actinobacteria;o__Actinomycetales;f__Corynebacteriaceae;g__Corynebacterium;s__                            </td><td>d__Bacteria;p__Actinobacteriota;c__Actinobacteria;o__Corynebacteriales;f__Corynebacteriaceae;g__Corynebacterium;s__Corynebacterium callunae</td><td>/ebio/abt3_projects/databases_no-backup/GTDB/release86/genbank/bacteria/GCA_000420585.1/GCA_000420585.1_ASM42058v1_genomic.fna.gz          </td></tr>\n",
       "</tbody>\n",
       "</table>\n"
      ],
      "text/latex": [
       "\\begin{tabular}{r|llllllllllllllll}\n",
       " Taxon & accession & scaffold\\_count & longest\\_scaffold & gc\\_percentage & total\\_gap\\_length & genome\\_size & n50\\_contigs & trna\\_count & checkm\\_completeness & checkm\\_contamination & ssu\\_count & ncbi\\_taxonomy & ssu\\_gg\\_taxonomy & gtdb\\_taxonomy & Fasta\\\\\n",
       "\\hline\n",
       "\t GB\\_GCA\\_000437635.1\\_Sutterella sp. CAG:521                                                                                                                         & GB\\_GCA\\_000437635.1                                                                                                                                                  & 76                                                                                                                                                                      & 182689                                                                                                                                                                  & 46.93616                                                                                                                                                                & 5241                                                                                                                                                                    & 1829798                                                                                                                                                                 &  20115                                                                                                                                                                  & 47                                                                                                                                                                      & 94.90                                                                                                                                                                   & 1.25                                                                                                                                                                    & 1                                                                                                                                                                       & d\\_\\_Bacteria;p\\_\\_Proteobacteria;c\\_\\_Betaproteobacteria;o\\_\\_Burkholderiales;f\\_\\_Sutterellaceae;g\\_\\_Sutterella;s\\_\\_                                  & k\\_\\_Bacteria;p\\_\\_Proteobacteria;c\\_\\_Betaproteobacteria;o\\_\\_Burkholderiales;f\\_\\_Alcaligenaceae;g\\_\\_Sutterella;s\\_\\_                                  & d\\_\\_Bacteria;p\\_\\_Proteobacteria;c\\_\\_Gammaproteobacteria;o\\_\\_Betaproteobacteriales;f\\_\\_Burkholderiaceae;g\\_\\_CAG-521;s\\_\\_                            & /ebio/abt3\\_projects/databases\\_no-backup/GTDB/release86/genbank/bacteria/GCA\\_000437635.1/GCA\\_000437635.1\\_MGS521\\_genomic.fna.gz                              \\\\\n",
       "\t RS\\_GCF\\_000771625.1\\_Bifidobacterium saguini DSM 23967                                                                                                              & RS\\_GCF\\_000771625.1                                                                                                                                                  & 46                                                                                                                                                                      & 493861                                                                                                                                                                  & 56.34001                                                                                                                                                                &    0                                                                                                                                                                    & 2773425                                                                                                                                                                 & 265430                                                                                                                                                                  & 57                                                                                                                                                                      & 99.54                                                                                                                                                                   & 0.69                                                                                                                                                                    & 2                                                                                                                                                                       & d\\_\\_Bacteria;p\\_\\_Actinobacteria;c\\_\\_Actinobacteria;o\\_\\_Bifidobacteriales;f\\_\\_Bifidobacteriaceae;g\\_\\_Bifidobacterium;s\\_\\_Bifidobacterium saguini    & k\\_\\_Bacteria;p\\_\\_Actinobacteria;c\\_\\_Actinobacteria;o\\_\\_Bifidobacteriales;f\\_\\_Bifidobacteriaceae;g\\_\\_Bifidobacterium;s\\_\\_                           & d\\_\\_Bacteria;p\\_\\_Actinobacteriota;c\\_\\_Actinobacteria;o\\_\\_Actinomycetales;f\\_\\_Bifidobacteriaceae;g\\_\\_Bifidobacterium;s\\_\\_Bifidobacterium saguini    & /ebio/abt3\\_projects/databases\\_no-backup/GTDB/release86/genbank/bacteria/GCA\\_000771625.1/GCA\\_000771625.1\\_DSM-23967\\_genomic.fna.gz                           \\\\\n",
       "\t RS\\_GCF\\_000420585.1\\_Corynebacterium callunae DSM 20147                                                                                                             & RS\\_GCF\\_000420585.1                                                                                                                                                  & 26                                                                                                                                                                      & 387085                                                                                                                                                                  & 52.45034                                                                                                                                                                &    0                                                                                                                                                                    & 2885106                                                                                                                                                                 & 238580                                                                                                                                                                  & 59                                                                                                                                                                      & 99.45                                                                                                                                                                   & 0.44                                                                                                                                                                    & 2                                                                                                                                                                       & d\\_\\_Bacteria;p\\_\\_Actinobacteria;c\\_\\_Actinobacteria;o\\_\\_Corynebacteriales;f\\_\\_Corynebacteriaceae;g\\_\\_Corynebacterium;s\\_\\_Corynebacterium callunae   & k\\_\\_Bacteria;p\\_\\_Actinobacteria;c\\_\\_Actinobacteria;o\\_\\_Actinomycetales;f\\_\\_Corynebacteriaceae;g\\_\\_Corynebacterium;s\\_\\_                             & d\\_\\_Bacteria;p\\_\\_Actinobacteriota;c\\_\\_Actinobacteria;o\\_\\_Corynebacteriales;f\\_\\_Corynebacteriaceae;g\\_\\_Corynebacterium;s\\_\\_Corynebacterium callunae & /ebio/abt3\\_projects/databases\\_no-backup/GTDB/release86/genbank/bacteria/GCA\\_000420585.1/GCA\\_000420585.1\\_ASM42058v1\\_genomic.fna.gz                          \\\\\n",
       "\\end{tabular}\n"
      ],
      "text/markdown": [
       "\n",
       "Taxon | accession | scaffold_count | longest_scaffold | gc_percentage | total_gap_length | genome_size | n50_contigs | trna_count | checkm_completeness | checkm_contamination | ssu_count | ncbi_taxonomy | ssu_gg_taxonomy | gtdb_taxonomy | Fasta | \n",
       "|---|---|---|\n",
       "| GB_GCA_000437635.1_Sutterella sp. CAG:521                                                                                                   | GB_GCA_000437635.1                                                                                                                          | 76                                                                                                                                          | 182689                                                                                                                                      | 46.93616                                                                                                                                    | 5241                                                                                                                                        | 1829798                                                                                                                                     |  20115                                                                                                                                      | 47                                                                                                                                          | 94.90                                                                                                                                       | 1.25                                                                                                                                        | 1                                                                                                                                           | d__Bacteria;p__Proteobacteria;c__Betaproteobacteria;o__Burkholderiales;f__Sutterellaceae;g__Sutterella;s__                                  | k__Bacteria;p__Proteobacteria;c__Betaproteobacteria;o__Burkholderiales;f__Alcaligenaceae;g__Sutterella;s__                                  | d__Bacteria;p__Proteobacteria;c__Gammaproteobacteria;o__Betaproteobacteriales;f__Burkholderiaceae;g__CAG-521;s__                            | /ebio/abt3_projects/databases_no-backup/GTDB/release86/genbank/bacteria/GCA_000437635.1/GCA_000437635.1_MGS521_genomic.fna.gz               | \n",
       "| RS_GCF_000771625.1_Bifidobacterium saguini DSM 23967                                                                                        | RS_GCF_000771625.1                                                                                                                          | 46                                                                                                                                          | 493861                                                                                                                                      | 56.34001                                                                                                                                    |    0                                                                                                                                        | 2773425                                                                                                                                     | 265430                                                                                                                                      | 57                                                                                                                                          | 99.54                                                                                                                                       | 0.69                                                                                                                                        | 2                                                                                                                                           | d__Bacteria;p__Actinobacteria;c__Actinobacteria;o__Bifidobacteriales;f__Bifidobacteriaceae;g__Bifidobacterium;s__Bifidobacterium saguini    | k__Bacteria;p__Actinobacteria;c__Actinobacteria;o__Bifidobacteriales;f__Bifidobacteriaceae;g__Bifidobacterium;s__                           | d__Bacteria;p__Actinobacteriota;c__Actinobacteria;o__Actinomycetales;f__Bifidobacteriaceae;g__Bifidobacterium;s__Bifidobacterium saguini    | /ebio/abt3_projects/databases_no-backup/GTDB/release86/genbank/bacteria/GCA_000771625.1/GCA_000771625.1_DSM-23967_genomic.fna.gz            | \n",
       "| RS_GCF_000420585.1_Corynebacterium callunae DSM 20147                                                                                       | RS_GCF_000420585.1                                                                                                                          | 26                                                                                                                                          | 387085                                                                                                                                      | 52.45034                                                                                                                                    |    0                                                                                                                                        | 2885106                                                                                                                                     | 238580                                                                                                                                      | 59                                                                                                                                          | 99.45                                                                                                                                       | 0.44                                                                                                                                        | 2                                                                                                                                           | d__Bacteria;p__Actinobacteria;c__Actinobacteria;o__Corynebacteriales;f__Corynebacteriaceae;g__Corynebacterium;s__Corynebacterium callunae   | k__Bacteria;p__Actinobacteria;c__Actinobacteria;o__Actinomycetales;f__Corynebacteriaceae;g__Corynebacterium;s__                             | d__Bacteria;p__Actinobacteriota;c__Actinobacteria;o__Corynebacteriales;f__Corynebacteriaceae;g__Corynebacterium;s__Corynebacterium callunae | /ebio/abt3_projects/databases_no-backup/GTDB/release86/genbank/bacteria/GCA_000420585.1/GCA_000420585.1_ASM42058v1_genomic.fna.gz           | \n",
       "\n",
       "\n"
      ],
      "text/plain": [
       "  Taxon                                                 accession         \n",
       "1 GB_GCA_000437635.1_Sutterella sp. CAG:521             GB_GCA_000437635.1\n",
       "2 RS_GCF_000771625.1_Bifidobacterium saguini DSM 23967  RS_GCF_000771625.1\n",
       "3 RS_GCF_000420585.1_Corynebacterium callunae DSM 20147 RS_GCF_000420585.1\n",
       "  scaffold_count longest_scaffold gc_percentage total_gap_length genome_size\n",
       "1 76             182689           46.93616      5241             1829798    \n",
       "2 46             493861           56.34001         0             2773425    \n",
       "3 26             387085           52.45034         0             2885106    \n",
       "  n50_contigs trna_count checkm_completeness checkm_contamination ssu_count\n",
       "1  20115      47         94.90               1.25                 1        \n",
       "2 265430      57         99.54               0.69                 2        \n",
       "3 238580      59         99.45               0.44                 2        \n",
       "  ncbi_taxonomy                                                                                                                            \n",
       "1 d__Bacteria;p__Proteobacteria;c__Betaproteobacteria;o__Burkholderiales;f__Sutterellaceae;g__Sutterella;s__                               \n",
       "2 d__Bacteria;p__Actinobacteria;c__Actinobacteria;o__Bifidobacteriales;f__Bifidobacteriaceae;g__Bifidobacterium;s__Bifidobacterium saguini \n",
       "3 d__Bacteria;p__Actinobacteria;c__Actinobacteria;o__Corynebacteriales;f__Corynebacteriaceae;g__Corynebacterium;s__Corynebacterium callunae\n",
       "  ssu_gg_taxonomy                                                                                                  \n",
       "1 k__Bacteria;p__Proteobacteria;c__Betaproteobacteria;o__Burkholderiales;f__Alcaligenaceae;g__Sutterella;s__       \n",
       "2 k__Bacteria;p__Actinobacteria;c__Actinobacteria;o__Bifidobacteriales;f__Bifidobacteriaceae;g__Bifidobacterium;s__\n",
       "3 k__Bacteria;p__Actinobacteria;c__Actinobacteria;o__Actinomycetales;f__Corynebacteriaceae;g__Corynebacterium;s__  \n",
       "  gtdb_taxonomy                                                                                                                              \n",
       "1 d__Bacteria;p__Proteobacteria;c__Gammaproteobacteria;o__Betaproteobacteriales;f__Burkholderiaceae;g__CAG-521;s__                           \n",
       "2 d__Bacteria;p__Actinobacteriota;c__Actinobacteria;o__Actinomycetales;f__Bifidobacteriaceae;g__Bifidobacterium;s__Bifidobacterium saguini   \n",
       "3 d__Bacteria;p__Actinobacteriota;c__Actinobacteria;o__Corynebacteriales;f__Corynebacteriaceae;g__Corynebacterium;s__Corynebacterium callunae\n",
       "  Fasta                                                                                                                            \n",
       "1 /ebio/abt3_projects/databases_no-backup/GTDB/release86/genbank/bacteria/GCA_000437635.1/GCA_000437635.1_MGS521_genomic.fna.gz    \n",
       "2 /ebio/abt3_projects/databases_no-backup/GTDB/release86/genbank/bacteria/GCA_000771625.1/GCA_000771625.1_DSM-23967_genomic.fna.gz \n",
       "3 /ebio/abt3_projects/databases_no-backup/GTDB/release86/genbank/bacteria/GCA_000420585.1/GCA_000420585.1_ASM42058v1_genomic.fna.gz"
      ]
     },
     "metadata": {},
     "output_type": "display_data"
    }
   ],
   "source": [
    "test_n100_ref = read.delim(test_n100_ref_file, sep='\\t') %>%\n",
    "    mutate('dataset' = )\n",
    "test_n100_ref %>% head(n=3)"
   ]
  },
  {
   "cell_type": "code",
   "execution_count": null,
   "metadata": {},
   "outputs": [],
   "source": [
    "test_n1000_ref = read.delim(test_n1000_ref_file, sep='\\t')\n",
    "test_n1000_ref %>% head(n=3)"
   ]
  }
 ],
 "metadata": {
  "kernelspec": {
   "display_name": "R [conda env:py3_physeq]",
   "language": "R",
   "name": "conda-env-py3_physeq-r"
  },
  "language_info": {
   "codemirror_mode": "r",
   "file_extension": ".r",
   "mimetype": "text/x-r-source",
   "name": "R",
   "pygments_lexer": "r",
   "version": "3.4.1"
  },
  "toc": {
   "base_numbering": 1,
   "nav_menu": {},
   "number_sections": true,
   "sideBar": true,
   "skip_h1_title": false,
   "title_cell": "Table of Contents",
   "title_sidebar": "Contents",
   "toc_cell": true,
   "toc_position": {},
   "toc_section_display": true,
   "toc_window_display": false
  }
 },
 "nbformat": 4,
 "nbformat_minor": 2
}
