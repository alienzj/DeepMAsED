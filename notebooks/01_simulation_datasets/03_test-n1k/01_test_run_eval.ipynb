{
 "cells": [
  {
   "cell_type": "markdown",
   "metadata": {
    "toc": true
   },
   "source": [
    "<h1>Table of Contents<span class=\"tocSkip\"></span></h1>\n",
    "<div class=\"toc\"><ul class=\"toc-item\"><li><span><a href=\"#Goal\" data-toc-modified-id=\"Goal-1\"><span class=\"toc-item-num\">1&nbsp;&nbsp;</span>Goal</a></span></li><li><span><a href=\"#Var\" data-toc-modified-id=\"Var-2\"><span class=\"toc-item-num\">2&nbsp;&nbsp;</span>Var</a></span></li><li><span><a href=\"#Init\" data-toc-modified-id=\"Init-3\"><span class=\"toc-item-num\">3&nbsp;&nbsp;</span>Init</a></span></li><li><span><a href=\"#DeepMAsED-run\" data-toc-modified-id=\"DeepMAsED-run-4\"><span class=\"toc-item-num\">4&nbsp;&nbsp;</span>DeepMAsED run</a></span><ul class=\"toc-item\"><li><span><a href=\"#Config\" data-toc-modified-id=\"Config-4.1\"><span class=\"toc-item-num\">4.1&nbsp;&nbsp;</span>Config</a></span></li><li><span><a href=\"#Run\" data-toc-modified-id=\"Run-4.2\"><span class=\"toc-item-num\">4.2&nbsp;&nbsp;</span>Run</a></span></li></ul></li><li><span><a href=\"#--WAITING--\" data-toc-modified-id=\"--WAITING---5\"><span class=\"toc-item-num\">5&nbsp;&nbsp;</span>--WAITING--</a></span></li><li><span><a href=\"#Communites\" data-toc-modified-id=\"Communites-6\"><span class=\"toc-item-num\">6&nbsp;&nbsp;</span>Communites</a></span><ul class=\"toc-item\"><li><span><a href=\"#n1000_r30\" data-toc-modified-id=\"n1000_r30-6.1\"><span class=\"toc-item-num\">6.1&nbsp;&nbsp;</span>n1000_r30</a></span></li></ul></li><li><span><a href=\"#Estimated-coverage\" data-toc-modified-id=\"Estimated-coverage-7\"><span class=\"toc-item-num\">7&nbsp;&nbsp;</span>Estimated coverage</a></span></li><li><span><a href=\"#Feature-tables\" data-toc-modified-id=\"Feature-tables-8\"><span class=\"toc-item-num\">8&nbsp;&nbsp;</span>Feature tables</a></span><ul class=\"toc-item\"><li><span><a href=\"#n100_r5\" data-toc-modified-id=\"n100_r5-8.1\"><span class=\"toc-item-num\">8.1&nbsp;&nbsp;</span>n100_r5</a></span></li><li><span><a href=\"#n100_r25\" data-toc-modified-id=\"n100_r25-8.2\"><span class=\"toc-item-num\">8.2&nbsp;&nbsp;</span>n100_r25</a></span></li></ul></li><li><span><a href=\"#sessionInfo\" data-toc-modified-id=\"sessionInfo-9\"><span class=\"toc-item-num\">9&nbsp;&nbsp;</span>sessionInfo</a></span></li></ul></div>"
   ]
  },
  {
   "cell_type": "markdown",
   "metadata": {},
   "source": [
    "# Goal\n",
    "\n",
    "* Simulate a \"test\" metagenome assembly dataset with 1000 reference genomes\n",
    "  * Ref. genomes are species representatives\n",
    "  * No overlap with train genomes\n",
    "* evaluate the results of the test dataset generation"
   ]
  },
  {
   "cell_type": "markdown",
   "metadata": {},
   "source": [
    "# Var"
   ]
  },
  {
   "cell_type": "code",
   "execution_count": 12,
   "metadata": {
    "ExecuteTime": {
     "end_time": "2019-10-31T14:01:57.732512Z",
     "start_time": "2019-10-31T14:01:57.683Z"
    }
   },
   "outputs": [],
   "source": [
    "# location of all training dataset runs\n",
    "work_dir = '/ebio/abt3_projects/databases_no-backup/DeepMAsED/test_runs/'\n",
    "# 1000 ref genomes, 30 metagenomes\n",
    "n1000_r30_dir = file.path(work_dir, 'n1000_r30')\n",
    "\n",
    "# table of 1000 genomes pre-selected for \"test\" datasets (but only 100 previously used)\n",
    "n1000_genome_file = '/ebio/abt3_projects/databases_no-backup/DeepMAsED/GTDB_ref_genomes/DeepMAsED_GTDB_genome-refs_test.tsv'"
   ]
  },
  {
   "cell_type": "markdown",
   "metadata": {},
   "source": [
    "# Init"
   ]
  },
  {
   "cell_type": "code",
   "execution_count": 3,
   "metadata": {
    "ExecuteTime": {
     "end_time": "2019-10-31T13:54:09.750940Z",
     "start_time": "2019-10-31T13:54:09.493Z"
    }
   },
   "outputs": [],
   "source": [
    "library(dplyr)\n",
    "library(tidyr)\n",
    "library(ggplot2)\n",
    "library(data.table)\n",
    "\n",
    "source('/ebio/abt3_projects/software/dev/DeepMAsED/bin/misc_r_functions/init.R')"
   ]
  },
  {
   "cell_type": "markdown",
   "metadata": {},
   "source": [
    "# DeepMAsED run"
   ]
  },
  {
   "cell_type": "markdown",
   "metadata": {},
   "source": [
    "## Config"
   ]
  },
  {
   "cell_type": "code",
   "execution_count": 11,
   "metadata": {
    "ExecuteTime": {
     "end_time": "2019-10-31T14:00:05.260546Z",
     "start_time": "2019-10-31T14:00:05.215Z"
    }
   },
   "outputs": [
    {
     "name": "stdout",
     "output_type": "stream",
     "text": [
      "# Input\n",
      "genomes_file: /ebio/abt3_projects/databases_no-backup/DeepMAsED/GTDB_ref_genomes/DeepMAsED_GTDB_genome-refs_test.tsv\n",
      "\n",
      "# Output location\n",
      "output_dir: /ebio/abt3_projects/databases_no-backup/DeepMAsED/test_runs/n1000_r30/\n",
      "\n",
      "\n",
      "# software parameters\n",
      "# Use \"Skip\" to skip  steps. If no params for rule, use \"\"\n",
      "params:\n",
      "  # simulating metagenomes\n",
      "  reps: 30\n",
      "  MGSIM:\n",
      "    genome_download: \"\"\n",
      "    communities: --richness 1\n",
      "    reads: --sr-seq-depth 1e6 --art-paired --art-mflen 250\n",
      "  # assemblying metagenomes\n",
      "  assemblers:\n",
      "    metaspades: -k auto --only-assembler\n",
      "    megahit: --min-count 3 --min-contig-len 1000 --presets meta-sensitive\n",
      "    idba_ud: Skip #--mink 20 --maxk 100\n",
      "    ray: Skip \n",
      "  # assembly filtering\n",
      "  contig_length_cutoff: 1000       # length in bp \n",
      "  # assessing assembly errors\n",
      "  minimap2: \"\"\n",
      "  metaquast: --min-identity 95 --extensive-mis-size 100 --no-icarus --max-ref-number 0\n",
      "  # mapping reads to contigs\n",
      "  samtools: \"\"\n",
      "  # creating DL features\n",
      "  make_features: \"\"\n",
      "  \n",
      "# snakemake pipeline\n",
      "pipeline:\n",
      "  snakemake_folder: ./\n",
      "  script_folder: ./bin/scripts/\n",
      "  temp_folder: /tmp/global/"
     ]
    }
   ],
   "source": [
    "# pipeline run config files\n",
    "cat_file(file.path(n1000_r30_dir, 'config.yaml'))"
   ]
  },
  {
   "cell_type": "markdown",
   "metadata": {},
   "source": [
    "## Run"
   ]
  },
  {
   "cell_type": "markdown",
   "metadata": {},
   "source": [
    "```\n",
    "(snakemake) @ rick:/ebio/abt3_projects/software/dev/DeepMAsED/DeepMAsED-SM\n",
    "$ screen -L -S DM-testrun ./snakemake_sge.sh /ebio/abt3_projects/databases_no-backup/DeepMAsED/test_runs/n1000_r30/config.yaml cluster.json /ebio/abt3_projects/databases_no-backup/DeepMAsED/test_runs/n1000_r30/SGE_log 30\n",
    "```"
   ]
  },
  {
   "cell_type": "markdown",
   "metadata": {},
   "source": [
    "# --WAITING--"
   ]
  },
  {
   "cell_type": "markdown",
   "metadata": {},
   "source": [
    "# Communites\n",
    "\n",
    "* Simulated abundances of each ref genome"
   ]
  },
  {
   "cell_type": "markdown",
   "metadata": {},
   "source": [
    "## n1000_r30"
   ]
  },
  {
   "cell_type": "code",
   "execution_count": null,
   "metadata": {
    "ExecuteTime": {
     "end_time": "2019-06-30T16:43:04.056507Z",
     "start_time": "2019-06-30T16:43:03.996Z"
    }
   },
   "outputs": [],
   "source": [
    "comm_files = list.files(file.path(n1000_r30_dir, 'MGSIM'), 'comm_wAbund.txt', full.names=TRUE, recursive=TRUE)\n",
    "comm_files %>% length %>% print\n",
    "comm_files %>% head"
   ]
  },
  {
   "cell_type": "code",
   "execution_count": null,
   "metadata": {
    "ExecuteTime": {
     "end_time": "2019-06-30T16:43:07.822979Z",
     "start_time": "2019-06-30T16:43:07.637Z"
    }
   },
   "outputs": [],
   "source": [
    "comms = list()\n",
    "for(F in comm_files){\n",
    "    df = read.delim(F, sep='\\t')\n",
    "    df$Rep = basename(dirname(F))\n",
    "    comms[[F]] = df\n",
    "}\n",
    "comms = do.call(rbind, comms)\n",
    "rownames(comms) = 1:nrow(comms)\n",
    "comms %>% dfhead"
   ]
  },
  {
   "cell_type": "code",
   "execution_count": null,
   "metadata": {
    "ExecuteTime": {
     "end_time": "2019-06-30T16:43:08.388420Z",
     "start_time": "2019-06-30T16:43:07.806Z"
    }
   },
   "outputs": [],
   "source": [
    "p = comms %>%\n",
    "    mutate(Perc_rel_abund = ifelse(Perc_rel_abund == 0, 1e-5, Perc_rel_abund)) %>%\n",
    "    group_by(Taxon) %>%\n",
    "    summarize(mean_perc_abund = mean(Perc_rel_abund),\n",
    "              sd_perc_abund = sd(Perc_rel_abund)) %>%\n",
    "    ungroup() %>%\n",
    "    mutate(neg_sd_perc_abund = mean_perc_abund - sd_perc_abund,\n",
    "           pos_sd_perc_abund = mean_perc_abund + sd_perc_abund,\n",
    "           neg_sd_perc_abund = ifelse(neg_sd_perc_abund <= 0, 1e-5, neg_sd_perc_abund)) %>%\n",
    "    mutate(Taxon = Taxon %>% reorder(-mean_perc_abund)) %>%\n",
    "    ggplot(aes(Taxon, mean_perc_abund)) +\n",
    "    geom_linerange(aes(ymin=neg_sd_perc_abund, ymax=pos_sd_perc_abund),\n",
    "                   size=0.3, alpha=0.3) +\n",
    "    geom_point(size=0.5, alpha=0.4, color='red') +\n",
    "    labs(y='% abundance') +\n",
    "    theme_bw() +\n",
    "    theme(\n",
    "        axis.text.x = element_blank(),\n",
    "        panel.grid.major.x = element_blank(), \n",
    "        panel.grid.major.y = element_blank(), \n",
    "        panel.grid.minor.x = element_blank(),\n",
    "        panel.grid.minor.y = element_blank()\n",
    "    )\n",
    "\n",
    "dims(10,2.5)\n",
    "plot(p)"
   ]
  },
  {
   "cell_type": "code",
   "execution_count": null,
   "metadata": {
    "ExecuteTime": {
     "end_time": "2019-06-30T16:43:08.886593Z",
     "start_time": "2019-06-30T16:43:07.990Z"
    }
   },
   "outputs": [],
   "source": [
    "dims(10,2.5)\n",
    "plot(p + scale_y_log10())"
   ]
  },
  {
   "cell_type": "markdown",
   "metadata": {},
   "source": [
    "# Estimated coverage\n",
    "\n",
    "* Coverage estimated with nonpareil"
   ]
  },
  {
   "cell_type": "code",
   "execution_count": null,
   "metadata": {
    "ExecuteTime": {
     "end_time": "2019-06-30T16:43:20.161841Z",
     "start_time": "2019-06-30T16:43:20.085Z"
    }
   },
   "outputs": [],
   "source": [
    "F = file.path(n100_r5_dir, 'coverage', 'nonpareil', 'all_summary.txt')\n",
    "cov = read.delim(F, sep='\\t')\n",
    "cov %>% summary %>% print"
   ]
  },
  {
   "cell_type": "code",
   "execution_count": null,
   "metadata": {
    "ExecuteTime": {
     "end_time": "2019-06-30T16:43:24.554545Z",
     "start_time": "2019-06-30T16:43:24.453Z"
    }
   },
   "outputs": [],
   "source": [
    "F = file.path(n100_r25_dir, 'coverage', 'nonpareil', 'all_summary.txt')\n",
    "cov = read.delim(F, sep='\\t')\n",
    "cov %>% summary %>% print"
   ]
  },
  {
   "cell_type": "markdown",
   "metadata": {},
   "source": [
    "# Feature tables\n",
    "\n",
    "* feature tables for ML model training/testing"
   ]
  },
  {
   "cell_type": "markdown",
   "metadata": {},
   "source": [
    "## n100_r5"
   ]
  },
  {
   "cell_type": "code",
   "execution_count": null,
   "metadata": {
    "ExecuteTime": {
     "end_time": "2019-06-30T16:43:50.523687Z",
     "start_time": "2019-06-30T16:43:50.243Z"
    }
   },
   "outputs": [],
   "source": [
    "feat_files = list.files(file.path(n100_r5_dir, 'map'), 'features.tsv.gz', full.names=TRUE, recursive=TRUE)\n",
    "feat_files %>% length %>% print\n",
    "feat_files %>% head"
   ]
  },
  {
   "cell_type": "code",
   "execution_count": null,
   "metadata": {
    "ExecuteTime": {
     "end_time": "2019-06-30T16:57:31.018936Z",
     "start_time": "2019-06-30T16:43:53.827Z"
    }
   },
   "outputs": [],
   "source": [
    "feats = list()\n",
    "for(F in feat_files){\n",
    "    cmd = glue::glue('gunzip -c {F}', F=F)\n",
    "    df = fread(cmd, sep='\\t') %>%\n",
    "        distinct(contig, assembler, Extensive_misassembly)\n",
    "    df$Rep = basename(dirname(dirname(F)))\n",
    "    feats[[F]] = df\n",
    "}\n",
    "feats = do.call(rbind, feats)\n",
    "rownames(feats) = 1:nrow(feats)\n",
    "feats %>% dfhead"
   ]
  },
  {
   "cell_type": "code",
   "execution_count": null,
   "metadata": {
    "ExecuteTime": {
     "end_time": "2019-06-30T16:57:34.191516Z",
     "start_time": "2019-06-30T16:44:00.195Z"
    }
   },
   "outputs": [],
   "source": [
    "p = feats %>%\n",
    "    mutate(Extensive_misassembly = ifelse(Extensive_misassembly == '', 'None',\n",
    "                                          Extensive_misassembly)) %>%\n",
    "    group_by(Extensive_misassembly, assembler, Rep) %>%\n",
    "    summarize(n = n()) %>%\n",
    "    ungroup() %>%\n",
    "    ggplot(aes(Extensive_misassembly, n, color=assembler)) +\n",
    "    geom_boxplot() +\n",
    "    scale_y_log10() +\n",
    "    labs(x='metaQUAST extensive mis-assembly', y='Count') +\n",
    "    coord_flip() +\n",
    "    theme_bw() +\n",
    "    theme(\n",
    "        axis.text.x = element_text(angle=45, hjust=1)\n",
    "    )\n",
    "\n",
    "dims(7,4)\n",
    "plot(p)"
   ]
  },
  {
   "cell_type": "markdown",
   "metadata": {},
   "source": [
    "## n100_r25"
   ]
  },
  {
   "cell_type": "code",
   "execution_count": null,
   "metadata": {
    "ExecuteTime": {
     "end_time": "2019-06-30T17:45:00.895792Z",
     "start_time": "2019-06-30T17:45:00.705Z"
    }
   },
   "outputs": [],
   "source": [
    "feat_files = list.files(file.path(n100_r25_dir, 'map'), 'features.tsv.gz', full.names=TRUE, recursive=TRUE)\n",
    "feat_files %>% length %>% print\n",
    "feat_files %>% head"
   ]
  },
  {
   "cell_type": "code",
   "execution_count": null,
   "metadata": {
    "ExecuteTime": {
     "end_time": "2019-06-30T18:58:33.137075Z",
     "start_time": "2019-06-30T17:45:03.141Z"
    }
   },
   "outputs": [],
   "source": [
    "feats = list()\n",
    "for(F in feat_files){\n",
    "    cmd = glue::glue('gunzip -c {F}', F=F)\n",
    "    df = fread(cmd, sep='\\t') %>%\n",
    "        distinct(contig, assembler, Extensive_misassembly)\n",
    "    df$Rep = basename(dirname(dirname(F)))\n",
    "    feats[[F]] = df\n",
    "}\n",
    "feats = do.call(rbind, feats)\n",
    "rownames(feats) = 1:nrow(feats)\n",
    "feats %>% dfhead"
   ]
  },
  {
   "cell_type": "code",
   "execution_count": null,
   "metadata": {
    "ExecuteTime": {
     "end_time": "2019-06-30T18:58:37.695771Z",
     "start_time": "2019-06-30T17:45:03.853Z"
    }
   },
   "outputs": [],
   "source": [
    "p = feats %>%\n",
    "    mutate(Extensive_misassembly = ifelse(Extensive_misassembly == '', 'None',\n",
    "                                          Extensive_misassembly)) %>%\n",
    "    group_by(Extensive_misassembly, assembler, Rep) %>%\n",
    "    summarize(n = n()) %>%\n",
    "    ungroup() %>%\n",
    "    ggplot(aes(Extensive_misassembly, n, color=assembler)) +\n",
    "    geom_boxplot() +\n",
    "    scale_y_log10() +\n",
    "    labs(x='metaQUAST extensive mis-assembly', y='Count') +\n",
    "    coord_flip() +\n",
    "    theme_bw() +\n",
    "    theme(\n",
    "        axis.text.x = element_text(angle=45, hjust=1)\n",
    "    )\n",
    "\n",
    "dims(7,4)\n",
    "plot(p)"
   ]
  },
  {
   "cell_type": "markdown",
   "metadata": {},
   "source": [
    "# sessionInfo"
   ]
  },
  {
   "cell_type": "code",
   "execution_count": null,
   "metadata": {
    "ExecuteTime": {
     "end_time": "2019-06-30T16:57:34.580549Z",
     "start_time": "2019-06-30T16:45:52.190Z"
    }
   },
   "outputs": [],
   "source": [
    "sessionInfo()"
   ]
  },
  {
   "cell_type": "code",
   "execution_count": null,
   "metadata": {},
   "outputs": [],
   "source": []
  }
 ],
 "metadata": {
  "kernelspec": {
   "display_name": "R [conda env:py3_physeq]",
   "language": "R",
   "name": "conda-env-py3_physeq-r"
  },
  "language_info": {
   "codemirror_mode": "r",
   "file_extension": ".r",
   "mimetype": "text/x-r-source",
   "name": "R",
   "pygments_lexer": "r",
   "version": "3.4.1"
  },
  "toc": {
   "base_numbering": 1,
   "nav_menu": {},
   "number_sections": true,
   "sideBar": true,
   "skip_h1_title": false,
   "title_cell": "Table of Contents",
   "title_sidebar": "Contents",
   "toc_cell": true,
   "toc_position": {},
   "toc_section_display": true,
   "toc_window_display": true
  }
 },
 "nbformat": 4,
 "nbformat_minor": 2
}
