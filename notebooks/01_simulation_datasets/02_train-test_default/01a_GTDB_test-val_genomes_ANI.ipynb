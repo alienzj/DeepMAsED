{
 "cells": [
  {
   "cell_type": "markdown",
   "metadata": {
    "toc": true
   },
   "source": [
    "<h1>Table of Contents<span class=\"tocSkip\"></span></h1>\n",
    "<div class=\"toc\"><ul class=\"toc-item\"><li><span><a href=\"#Goal\" data-toc-modified-id=\"Goal-1\"><span class=\"toc-item-num\">1&nbsp;&nbsp;</span>Goal</a></span></li><li><span><a href=\"#Var\" data-toc-modified-id=\"Var-2\"><span class=\"toc-item-num\">2&nbsp;&nbsp;</span>Var</a></span></li><li><span><a href=\"#Init\" data-toc-modified-id=\"Init-3\"><span class=\"toc-item-num\">3&nbsp;&nbsp;</span>Init</a></span></li><li><span><a href=\"#Load\" data-toc-modified-id=\"Load-4\"><span class=\"toc-item-num\">4&nbsp;&nbsp;</span>Load</a></span></li><li><span><a href=\"#fastani\" data-toc-modified-id=\"fastani-5\"><span class=\"toc-item-num\">5&nbsp;&nbsp;</span>fastani</a></span><ul class=\"toc-item\"><li><span><a href=\"#Train\" data-toc-modified-id=\"Train-5.1\"><span class=\"toc-item-num\">5.1&nbsp;&nbsp;</span>Train</a></span></li></ul></li><li><span><a href=\"#Test\" data-toc-modified-id=\"Test-6\"><span class=\"toc-item-num\">6&nbsp;&nbsp;</span>Test</a></span></li><li><span><a href=\"#Loading-dist-mtx\" data-toc-modified-id=\"Loading-dist-mtx-7\"><span class=\"toc-item-num\">7&nbsp;&nbsp;</span>Loading dist mtx</a></span><ul class=\"toc-item\"><li><span><a href=\"#Creating-plots\" data-toc-modified-id=\"Creating-plots-7.1\"><span class=\"toc-item-num\">7.1&nbsp;&nbsp;</span>Creating plots</a></span></li><li><span><a href=\"#Summary-of-'close'-genomes\" data-toc-modified-id=\"Summary-of-'close'-genomes-7.2\"><span class=\"toc-item-num\">7.2&nbsp;&nbsp;</span>Summary of 'close' genomes</a></span><ul class=\"toc-item\"><li><span><a href=\"#Train\" data-toc-modified-id=\"Train-7.2.1\"><span class=\"toc-item-num\">7.2.1&nbsp;&nbsp;</span>Train</a></span></li></ul></li></ul></li><li><span><a href=\"#sessionInfo\" data-toc-modified-id=\"sessionInfo-8\"><span class=\"toc-item-num\">8&nbsp;&nbsp;</span>sessionInfo</a></span></li></ul></div>"
   ]
  },
  {
   "cell_type": "markdown",
   "metadata": {},
   "source": [
    "# Goal\n",
    "\n",
    "Question: do the train & test data partitions (genomes) differ in there relatedness distribution?\n",
    "\n",
    "Why: the metaQUAST misassembly classification distributions differ between train & test\n",
    "\n",
    "Method: for the train and test data partitions, calculate the pairwise ANI "
   ]
  },
  {
   "cell_type": "markdown",
   "metadata": {},
   "source": [
    "# Var"
   ]
  },
  {
   "cell_type": "code",
   "execution_count": 11,
   "metadata": {
    "ExecuteTime": {
     "end_time": "2019-08-10T14:29:25.814182Z",
     "start_time": "2019-08-10T14:29:25.753Z"
    }
   },
   "outputs": [],
   "source": [
    "work_dir = '/ebio/abt3_projects/databases_no-backup/DeepMAsED/GTDB_ref_genomes/fastANI/'\n",
    "metadata_file = '/ebio/abt3_projects/databases_no-backup/GTDB/release86/metadata_1perGTDBSpec_gte50comp-lt5cont_wPath.tsv'\n",
    "\n",
    "train_file = file.path(work_dir, 'DeepMAsED_GTDB_genome-refs_train.tsv')\n",
    "test_file = file.path(work_dir, 'DeepMAsED_GTDB_genome-refs_test.tsv')\n",
    "\n",
    "threads = 24\n",
    "conda_env = 'py2_genome'\n"
   ]
  },
  {
   "cell_type": "markdown",
   "metadata": {},
   "source": [
    "# Init"
   ]
  },
  {
   "cell_type": "code",
   "execution_count": 26,
   "metadata": {
    "ExecuteTime": {
     "end_time": "2019-08-11T18:05:29.159559Z",
     "start_time": "2019-08-11T18:05:28.971Z"
    }
   },
   "outputs": [
    {
     "name": "stderr",
     "output_type": "stream",
     "text": [
      "\n",
      "Attaching package: ‘data.table’\n",
      "\n",
      "The following objects are masked from ‘package:dplyr’:\n",
      "\n",
      "    between, first, last\n",
      "\n"
     ]
    }
   ],
   "source": [
    "library(dplyr)\n",
    "library(tidyr)\n",
    "library(ggplot2)\n",
    "library(data.table)\n",
    "\n",
    "set.seed(8364)"
   ]
  },
  {
   "cell_type": "code",
   "execution_count": 20,
   "metadata": {
    "ExecuteTime": {
     "end_time": "2019-08-10T14:33:29.159810Z",
     "start_time": "2019-08-10T14:33:29.114Z"
    }
   },
   "outputs": [],
   "source": [
    "#' bash job using conda env\n",
    "bash_job = function(cmd, conda_env, stdout=TRUE, stderr=FALSE){\n",
    "    # cmd : string; commandline job (eg., 'ls -thlc')\n",
    "    # conda_env : string; conda environment name\n",
    "    cmd = sprintf('. ~/.bashrc; conda activate %s; %s', conda_env, cmd)\n",
    "    cmd = sprintf('-c \"%s\"', cmd)\n",
    "    system2('bash', cmd, stdout=stdout, stderr=stderr)\n",
    "}"
   ]
  },
  {
   "cell_type": "markdown",
   "metadata": {},
   "source": [
    "# Load"
   ]
  },
  {
   "cell_type": "code",
   "execution_count": 9,
   "metadata": {
    "ExecuteTime": {
     "end_time": "2019-08-10T14:25:16.517620Z",
     "start_time": "2019-08-10T14:25:16.078Z"
    }
   },
   "outputs": [
    {
     "name": "stdout",
     "output_type": "stream",
     "text": [
      "[1] 1000   17\n"
     ]
    },
    {
     "data": {
      "text/html": [
       "<table>\n",
       "<thead><tr><th scope=col>Taxon</th><th scope=col>accession</th><th scope=col>scaffold_count</th><th scope=col>longest_scaffold</th><th scope=col>gc_percentage</th><th scope=col>total_gap_length</th><th scope=col>genome_size</th><th scope=col>n50_contigs</th><th scope=col>trna_count</th><th scope=col>checkm_completeness</th><th scope=col>checkm_contamination</th><th scope=col>ssu_count</th><th scope=col>ncbi_taxonomy</th><th scope=col>ssu_gg_taxonomy</th><th scope=col>gtdb_taxonomy</th><th scope=col>Fasta</th><th scope=col>data_partition</th></tr></thead>\n",
       "<tbody>\n",
       "\t<tr><td>GB_GCA_002238865.1_Gemmatimonadetes bacterium bin94                                                                                                           </td><td>GB_GCA_002238865.1                                                                                                                                            </td><td>83                                                                                                                                                            </td><td> 327699                                                                                                                                                       </td><td>66.90497                                                                                                                                                      </td><td>   0                                                                                                                                                          </td><td>4420540                                                                                                                                                       </td><td>  89414                                                                                                                                                       </td><td>45                                                                                                                                                            </td><td> 97.80                                                                                                                                                        </td><td>3.30                                                                                                                                                          </td><td>1                                                                                                                                                             </td><td>d__Bacteria;p__Gemmatimonadetes;c__;o__;f__;g__;s__                                                                                                           </td><td>k__Bacteria;p__Gemmatimonadetes;c__Gemm-2;o__;f__;g__;s__                                                                                                     </td><td>d__Bacteria;p__Gemmatimonadota;c__Gemmatimonadetes;o__SG8-23;f__BD2-11;g__bin94;s__                                                                           </td><td>/ebio/abt3_projects/databases_no-backup/GTDB/release86/genbank/bacteria/GCA_002238865.1/GCA_002238865.1_ASM223886v1_genomic.fna.gz                            </td><td>Train                                                                                                                                                         </td></tr>\n",
       "\t<tr><td>RS_GCF_000429065.1_Silanimonas lenta DSM 16282                                                                                                                </td><td>RS_GCF_000429065.1                                                                                                                                            </td><td>21                                                                                                                                                            </td><td> 540457                                                                                                                                                       </td><td>71.08645                                                                                                                                                      </td><td>2481                                                                                                                                                          </td><td>2647044                                                                                                                                                       </td><td> 279398                                                                                                                                                       </td><td>49                                                                                                                                                            </td><td> 99.66                                                                                                                                                        </td><td>0.04                                                                                                                                                          </td><td>3                                                                                                                                                             </td><td>d__Bacteria;p__Proteobacteria;c__Gammaproteobacteria;o__Xanthomonadales;f__Xanthomonadaceae;g__Silanimonas;s__Silanimonas lenta                               </td><td>k__Bacteria;p__Proteobacteria;c__Gammaproteobacteria;o__Xanthomonadales;f__Xanthomonadaceae;g__;s__                                                           </td><td>d__Bacteria;p__Proteobacteria;c__Gammaproteobacteria;o__Xanthomonadales;f__Xanthomonadaceae;g__Silanimonas;s__Silanimonas lenta                               </td><td>/ebio/abt3_projects/databases_no-backup/GTDB/release86/genbank/bacteria/GCA_000429065.1/GCA_000429065.1_ASM42906v1_genomic.fna.gz                             </td><td>Train                                                                                                                                                         </td></tr>\n",
       "\t<tr><td>RS_GCF_900188435.1_Marinobacter sp. es.048                                                                                                                    </td><td>RS_GCF_900188435.1                                                                                                                                            </td><td> 2                                                                                                                                                            </td><td>2386308                                                                                                                                                       </td><td>56.86561                                                                                                                                                      </td><td>   0                                                                                                                                                          </td><td>4063301                                                                                                                                                       </td><td>2386308                                                                                                                                                       </td><td>51                                                                                                                                                            </td><td>100.00                                                                                                                                                        </td><td>0.00                                                                                                                                                          </td><td>3                                                                                                                                                             </td><td>d__Bacteria;p__Proteobacteria;c__Gammaproteobacteria;o__Alteromonadales;f__Alteromonadaceae;g__Marinobacter;s__                                               </td><td>k__Bacteria;p__Proteobacteria;c__Gammaproteobacteria;o__Alteromonadales;f__Alteromonadaceae;g__Marinobacter;s__                                               </td><td>d__Bacteria;p__Proteobacteria;c__Gammaproteobacteria;o__Pseudomonadales;f__Hahellaceae;g__Marinobacter;s__                                                    </td><td>/ebio/abt3_projects/databases_no-backup/GTDB/release86/genbank/bacteria/GCA_900188435.1/GCA_900188435.1_IMG-taxon_2609459764_annotated_assembly_genomic.fna.gz</td><td>Train                                                                                                                                                         </td></tr>\n",
       "</tbody>\n",
       "</table>\n"
      ],
      "text/latex": [
       "\\begin{tabular}{r|lllllllllllllllll}\n",
       " Taxon & accession & scaffold\\_count & longest\\_scaffold & gc\\_percentage & total\\_gap\\_length & genome\\_size & n50\\_contigs & trna\\_count & checkm\\_completeness & checkm\\_contamination & ssu\\_count & ncbi\\_taxonomy & ssu\\_gg\\_taxonomy & gtdb\\_taxonomy & Fasta & data\\_partition\\\\\n",
       "\\hline\n",
       "\t GB\\_GCA\\_002238865.1\\_Gemmatimonadetes bacterium bin94                                                                                                                  & GB\\_GCA\\_002238865.1                                                                                                                                                     & 83                                                                                                                                                                         &  327699                                                                                                                                                                    & 66.90497                                                                                                                                                                   &    0                                                                                                                                                                       & 4420540                                                                                                                                                                    &   89414                                                                                                                                                                    & 45                                                                                                                                                                         &  97.80                                                                                                                                                                     & 3.30                                                                                                                                                                       & 1                                                                                                                                                                          & d\\_\\_Bacteria;p\\_\\_Gemmatimonadetes;c\\_\\_;o\\_\\_;f\\_\\_;g\\_\\_;s\\_\\_                                                                                            & k\\_\\_Bacteria;p\\_\\_Gemmatimonadetes;c\\_\\_Gemm-2;o\\_\\_;f\\_\\_;g\\_\\_;s\\_\\_                                                                                      & d\\_\\_Bacteria;p\\_\\_Gemmatimonadota;c\\_\\_Gemmatimonadetes;o\\_\\_SG8-23;f\\_\\_BD2-11;g\\_\\_bin94;s\\_\\_                                                            & /ebio/abt3\\_projects/databases\\_no-backup/GTDB/release86/genbank/bacteria/GCA\\_002238865.1/GCA\\_002238865.1\\_ASM223886v1\\_genomic.fna.gz                             & Train                                                                                                                                                                     \\\\\n",
       "\t RS\\_GCF\\_000429065.1\\_Silanimonas lenta DSM 16282                                                                                                                       & RS\\_GCF\\_000429065.1                                                                                                                                                     & 21                                                                                                                                                                         &  540457                                                                                                                                                                    & 71.08645                                                                                                                                                                   & 2481                                                                                                                                                                       & 2647044                                                                                                                                                                    &  279398                                                                                                                                                                    & 49                                                                                                                                                                         &  99.66                                                                                                                                                                     & 0.04                                                                                                                                                                       & 3                                                                                                                                                                          & d\\_\\_Bacteria;p\\_\\_Proteobacteria;c\\_\\_Gammaproteobacteria;o\\_\\_Xanthomonadales;f\\_\\_Xanthomonadaceae;g\\_\\_Silanimonas;s\\_\\_Silanimonas lenta                & k\\_\\_Bacteria;p\\_\\_Proteobacteria;c\\_\\_Gammaproteobacteria;o\\_\\_Xanthomonadales;f\\_\\_Xanthomonadaceae;g\\_\\_;s\\_\\_                                            & d\\_\\_Bacteria;p\\_\\_Proteobacteria;c\\_\\_Gammaproteobacteria;o\\_\\_Xanthomonadales;f\\_\\_Xanthomonadaceae;g\\_\\_Silanimonas;s\\_\\_Silanimonas lenta                & /ebio/abt3\\_projects/databases\\_no-backup/GTDB/release86/genbank/bacteria/GCA\\_000429065.1/GCA\\_000429065.1\\_ASM42906v1\\_genomic.fna.gz                              & Train                                                                                                                                                                     \\\\\n",
       "\t RS\\_GCF\\_900188435.1\\_Marinobacter sp. es.048                                                                                                                                 & RS\\_GCF\\_900188435.1                                                                                                                                                           &  2                                                                                                                                                                               & 2386308                                                                                                                                                                          & 56.86561                                                                                                                                                                         &    0                                                                                                                                                                             & 4063301                                                                                                                                                                          & 2386308                                                                                                                                                                          & 51                                                                                                                                                                               & 100.00                                                                                                                                                                           & 0.00                                                                                                                                                                             & 3                                                                                                                                                                                & d\\_\\_Bacteria;p\\_\\_Proteobacteria;c\\_\\_Gammaproteobacteria;o\\_\\_Alteromonadales;f\\_\\_Alteromonadaceae;g\\_\\_Marinobacter;s\\_\\_                                      & k\\_\\_Bacteria;p\\_\\_Proteobacteria;c\\_\\_Gammaproteobacteria;o\\_\\_Alteromonadales;f\\_\\_Alteromonadaceae;g\\_\\_Marinobacter;s\\_\\_                                      & d\\_\\_Bacteria;p\\_\\_Proteobacteria;c\\_\\_Gammaproteobacteria;o\\_\\_Pseudomonadales;f\\_\\_Hahellaceae;g\\_\\_Marinobacter;s\\_\\_                                           & /ebio/abt3\\_projects/databases\\_no-backup/GTDB/release86/genbank/bacteria/GCA\\_900188435.1/GCA\\_900188435.1\\_IMG-taxon\\_2609459764\\_annotated\\_assembly\\_genomic.fna.gz & Train                                                                                                                                                                           \\\\\n",
       "\\end{tabular}\n"
      ],
      "text/markdown": [
       "\n",
       "Taxon | accession | scaffold_count | longest_scaffold | gc_percentage | total_gap_length | genome_size | n50_contigs | trna_count | checkm_completeness | checkm_contamination | ssu_count | ncbi_taxonomy | ssu_gg_taxonomy | gtdb_taxonomy | Fasta | data_partition | \n",
       "|---|---|---|\n",
       "| GB_GCA_002238865.1_Gemmatimonadetes bacterium bin94                                                                                                            | GB_GCA_002238865.1                                                                                                                                             | 83                                                                                                                                                             |  327699                                                                                                                                                        | 66.90497                                                                                                                                                       |    0                                                                                                                                                           | 4420540                                                                                                                                                        |   89414                                                                                                                                                        | 45                                                                                                                                                             |  97.80                                                                                                                                                         | 3.30                                                                                                                                                           | 1                                                                                                                                                              | d__Bacteria;p__Gemmatimonadetes;c__;o__;f__;g__;s__                                                                                                            | k__Bacteria;p__Gemmatimonadetes;c__Gemm-2;o__;f__;g__;s__                                                                                                      | d__Bacteria;p__Gemmatimonadota;c__Gemmatimonadetes;o__SG8-23;f__BD2-11;g__bin94;s__                                                                            | /ebio/abt3_projects/databases_no-backup/GTDB/release86/genbank/bacteria/GCA_002238865.1/GCA_002238865.1_ASM223886v1_genomic.fna.gz                             | Train                                                                                                                                                          | \n",
       "| RS_GCF_000429065.1_Silanimonas lenta DSM 16282                                                                                                                 | RS_GCF_000429065.1                                                                                                                                             | 21                                                                                                                                                             |  540457                                                                                                                                                        | 71.08645                                                                                                                                                       | 2481                                                                                                                                                           | 2647044                                                                                                                                                        |  279398                                                                                                                                                        | 49                                                                                                                                                             |  99.66                                                                                                                                                         | 0.04                                                                                                                                                           | 3                                                                                                                                                              | d__Bacteria;p__Proteobacteria;c__Gammaproteobacteria;o__Xanthomonadales;f__Xanthomonadaceae;g__Silanimonas;s__Silanimonas lenta                                | k__Bacteria;p__Proteobacteria;c__Gammaproteobacteria;o__Xanthomonadales;f__Xanthomonadaceae;g__;s__                                                            | d__Bacteria;p__Proteobacteria;c__Gammaproteobacteria;o__Xanthomonadales;f__Xanthomonadaceae;g__Silanimonas;s__Silanimonas lenta                                | /ebio/abt3_projects/databases_no-backup/GTDB/release86/genbank/bacteria/GCA_000429065.1/GCA_000429065.1_ASM42906v1_genomic.fna.gz                              | Train                                                                                                                                                          | \n",
       "| RS_GCF_900188435.1_Marinobacter sp. es.048                                                                                                                     | RS_GCF_900188435.1                                                                                                                                             |  2                                                                                                                                                             | 2386308                                                                                                                                                        | 56.86561                                                                                                                                                       |    0                                                                                                                                                           | 4063301                                                                                                                                                        | 2386308                                                                                                                                                        | 51                                                                                                                                                             | 100.00                                                                                                                                                         | 0.00                                                                                                                                                           | 3                                                                                                                                                              | d__Bacteria;p__Proteobacteria;c__Gammaproteobacteria;o__Alteromonadales;f__Alteromonadaceae;g__Marinobacter;s__                                                | k__Bacteria;p__Proteobacteria;c__Gammaproteobacteria;o__Alteromonadales;f__Alteromonadaceae;g__Marinobacter;s__                                                | d__Bacteria;p__Proteobacteria;c__Gammaproteobacteria;o__Pseudomonadales;f__Hahellaceae;g__Marinobacter;s__                                                     | /ebio/abt3_projects/databases_no-backup/GTDB/release86/genbank/bacteria/GCA_900188435.1/GCA_900188435.1_IMG-taxon_2609459764_annotated_assembly_genomic.fna.gz | Train                                                                                                                                                          | \n",
       "\n",
       "\n"
      ],
      "text/plain": [
       "  Taxon                                               accession         \n",
       "1 GB_GCA_002238865.1_Gemmatimonadetes bacterium bin94 GB_GCA_002238865.1\n",
       "2 RS_GCF_000429065.1_Silanimonas lenta DSM 16282      RS_GCF_000429065.1\n",
       "3 RS_GCF_900188435.1_Marinobacter sp. es.048          RS_GCF_900188435.1\n",
       "  scaffold_count longest_scaffold gc_percentage total_gap_length genome_size\n",
       "1 83              327699          66.90497         0             4420540    \n",
       "2 21              540457          71.08645      2481             2647044    \n",
       "3  2             2386308          56.86561         0             4063301    \n",
       "  n50_contigs trna_count checkm_completeness checkm_contamination ssu_count\n",
       "1   89414     45          97.80              3.30                 1        \n",
       "2  279398     49          99.66              0.04                 3        \n",
       "3 2386308     51         100.00              0.00                 3        \n",
       "  ncbi_taxonomy                                                                                                                  \n",
       "1 d__Bacteria;p__Gemmatimonadetes;c__;o__;f__;g__;s__                                                                            \n",
       "2 d__Bacteria;p__Proteobacteria;c__Gammaproteobacteria;o__Xanthomonadales;f__Xanthomonadaceae;g__Silanimonas;s__Silanimonas lenta\n",
       "3 d__Bacteria;p__Proteobacteria;c__Gammaproteobacteria;o__Alteromonadales;f__Alteromonadaceae;g__Marinobacter;s__                \n",
       "  ssu_gg_taxonomy                                                                                                \n",
       "1 k__Bacteria;p__Gemmatimonadetes;c__Gemm-2;o__;f__;g__;s__                                                      \n",
       "2 k__Bacteria;p__Proteobacteria;c__Gammaproteobacteria;o__Xanthomonadales;f__Xanthomonadaceae;g__;s__            \n",
       "3 k__Bacteria;p__Proteobacteria;c__Gammaproteobacteria;o__Alteromonadales;f__Alteromonadaceae;g__Marinobacter;s__\n",
       "  gtdb_taxonomy                                                                                                                  \n",
       "1 d__Bacteria;p__Gemmatimonadota;c__Gemmatimonadetes;o__SG8-23;f__BD2-11;g__bin94;s__                                            \n",
       "2 d__Bacteria;p__Proteobacteria;c__Gammaproteobacteria;o__Xanthomonadales;f__Xanthomonadaceae;g__Silanimonas;s__Silanimonas lenta\n",
       "3 d__Bacteria;p__Proteobacteria;c__Gammaproteobacteria;o__Pseudomonadales;f__Hahellaceae;g__Marinobacter;s__                     \n",
       "  Fasta                                                                                                                                                         \n",
       "1 /ebio/abt3_projects/databases_no-backup/GTDB/release86/genbank/bacteria/GCA_002238865.1/GCA_002238865.1_ASM223886v1_genomic.fna.gz                            \n",
       "2 /ebio/abt3_projects/databases_no-backup/GTDB/release86/genbank/bacteria/GCA_000429065.1/GCA_000429065.1_ASM42906v1_genomic.fna.gz                             \n",
       "3 /ebio/abt3_projects/databases_no-backup/GTDB/release86/genbank/bacteria/GCA_900188435.1/GCA_900188435.1_IMG-taxon_2609459764_annotated_assembly_genomic.fna.gz\n",
       "  data_partition\n",
       "1 Train         \n",
       "2 Train         \n",
       "3 Train         "
      ]
     },
     "metadata": {},
     "output_type": "display_data"
    }
   ],
   "source": [
    "F = file.path(work_dir, 'DeepMAsED_GTDB_genome-refs_train.tsv')\n",
    "metadata_f_train = read.delim(F, sep='\\t') %>%\n",
    "    mutate(data_partition = 'Train')\n",
    "metadata_f_train %>% dim %>% print\n",
    "metadata_f_train %>% head(n=3)"
   ]
  },
  {
   "cell_type": "code",
   "execution_count": 10,
   "metadata": {
    "ExecuteTime": {
     "end_time": "2019-08-10T14:25:28.471803Z",
     "start_time": "2019-08-10T14:25:28.139Z"
    }
   },
   "outputs": [
    {
     "name": "stdout",
     "output_type": "stream",
     "text": [
      "[1] 1000   17\n"
     ]
    },
    {
     "data": {
      "text/html": [
       "<table>\n",
       "<thead><tr><th scope=col>Taxon</th><th scope=col>accession</th><th scope=col>scaffold_count</th><th scope=col>longest_scaffold</th><th scope=col>gc_percentage</th><th scope=col>total_gap_length</th><th scope=col>genome_size</th><th scope=col>n50_contigs</th><th scope=col>trna_count</th><th scope=col>checkm_completeness</th><th scope=col>checkm_contamination</th><th scope=col>ssu_count</th><th scope=col>ncbi_taxonomy</th><th scope=col>ssu_gg_taxonomy</th><th scope=col>gtdb_taxonomy</th><th scope=col>Fasta</th><th scope=col>data_partition</th></tr></thead>\n",
       "<tbody>\n",
       "\t<tr><td>GB_GCA_000437635.1_Sutterella sp. CAG:521                                                                                                  </td><td>GB_GCA_000437635.1                                                                                                                         </td><td>76                                                                                                                                         </td><td>182689                                                                                                                                     </td><td>46.93616                                                                                                                                   </td><td>5241                                                                                                                                       </td><td>1829798                                                                                                                                    </td><td> 20115                                                                                                                                     </td><td>47                                                                                                                                         </td><td>94.90                                                                                                                                      </td><td>1.25                                                                                                                                       </td><td>1                                                                                                                                          </td><td>d__Bacteria;p__Proteobacteria;c__Betaproteobacteria;o__Burkholderiales;f__Sutterellaceae;g__Sutterella;s__                                 </td><td>k__Bacteria;p__Proteobacteria;c__Betaproteobacteria;o__Burkholderiales;f__Alcaligenaceae;g__Sutterella;s__                                 </td><td>d__Bacteria;p__Proteobacteria;c__Gammaproteobacteria;o__Betaproteobacteriales;f__Burkholderiaceae;g__CAG-521;s__                           </td><td>/ebio/abt3_projects/databases_no-backup/GTDB/release86/genbank/bacteria/GCA_000437635.1/GCA_000437635.1_MGS521_genomic.fna.gz              </td><td>Test                                                                                                                                       </td></tr>\n",
       "\t<tr><td>RS_GCF_000771625.1_Bifidobacterium saguini DSM 23967                                                                                       </td><td>RS_GCF_000771625.1                                                                                                                         </td><td>46                                                                                                                                         </td><td>493861                                                                                                                                     </td><td>56.34001                                                                                                                                   </td><td>   0                                                                                                                                       </td><td>2773425                                                                                                                                    </td><td>265430                                                                                                                                     </td><td>57                                                                                                                                         </td><td>99.54                                                                                                                                      </td><td>0.69                                                                                                                                       </td><td>2                                                                                                                                          </td><td>d__Bacteria;p__Actinobacteria;c__Actinobacteria;o__Bifidobacteriales;f__Bifidobacteriaceae;g__Bifidobacterium;s__Bifidobacterium saguini   </td><td>k__Bacteria;p__Actinobacteria;c__Actinobacteria;o__Bifidobacteriales;f__Bifidobacteriaceae;g__Bifidobacterium;s__                          </td><td>d__Bacteria;p__Actinobacteriota;c__Actinobacteria;o__Actinomycetales;f__Bifidobacteriaceae;g__Bifidobacterium;s__Bifidobacterium saguini   </td><td>/ebio/abt3_projects/databases_no-backup/GTDB/release86/genbank/bacteria/GCA_000771625.1/GCA_000771625.1_DSM-23967_genomic.fna.gz           </td><td>Test                                                                                                                                       </td></tr>\n",
       "\t<tr><td>RS_GCF_000420585.1_Corynebacterium callunae DSM 20147                                                                                      </td><td>RS_GCF_000420585.1                                                                                                                         </td><td>26                                                                                                                                         </td><td>387085                                                                                                                                     </td><td>52.45034                                                                                                                                   </td><td>   0                                                                                                                                       </td><td>2885106                                                                                                                                    </td><td>238580                                                                                                                                     </td><td>59                                                                                                                                         </td><td>99.45                                                                                                                                      </td><td>0.44                                                                                                                                       </td><td>2                                                                                                                                          </td><td>d__Bacteria;p__Actinobacteria;c__Actinobacteria;o__Corynebacteriales;f__Corynebacteriaceae;g__Corynebacterium;s__Corynebacterium callunae  </td><td>k__Bacteria;p__Actinobacteria;c__Actinobacteria;o__Actinomycetales;f__Corynebacteriaceae;g__Corynebacterium;s__                            </td><td>d__Bacteria;p__Actinobacteriota;c__Actinobacteria;o__Corynebacteriales;f__Corynebacteriaceae;g__Corynebacterium;s__Corynebacterium callunae</td><td>/ebio/abt3_projects/databases_no-backup/GTDB/release86/genbank/bacteria/GCA_000420585.1/GCA_000420585.1_ASM42058v1_genomic.fna.gz          </td><td>Test                                                                                                                                       </td></tr>\n",
       "</tbody>\n",
       "</table>\n"
      ],
      "text/latex": [
       "\\begin{tabular}{r|lllllllllllllllll}\n",
       " Taxon & accession & scaffold\\_count & longest\\_scaffold & gc\\_percentage & total\\_gap\\_length & genome\\_size & n50\\_contigs & trna\\_count & checkm\\_completeness & checkm\\_contamination & ssu\\_count & ncbi\\_taxonomy & ssu\\_gg\\_taxonomy & gtdb\\_taxonomy & Fasta & data\\_partition\\\\\n",
       "\\hline\n",
       "\t GB\\_GCA\\_000437635.1\\_Sutterella sp. CAG:521                                                                                                                         & GB\\_GCA\\_000437635.1                                                                                                                                                  & 76                                                                                                                                                                      & 182689                                                                                                                                                                  & 46.93616                                                                                                                                                                & 5241                                                                                                                                                                    & 1829798                                                                                                                                                                 &  20115                                                                                                                                                                  & 47                                                                                                                                                                      & 94.90                                                                                                                                                                   & 1.25                                                                                                                                                                    & 1                                                                                                                                                                       & d\\_\\_Bacteria;p\\_\\_Proteobacteria;c\\_\\_Betaproteobacteria;o\\_\\_Burkholderiales;f\\_\\_Sutterellaceae;g\\_\\_Sutterella;s\\_\\_                                  & k\\_\\_Bacteria;p\\_\\_Proteobacteria;c\\_\\_Betaproteobacteria;o\\_\\_Burkholderiales;f\\_\\_Alcaligenaceae;g\\_\\_Sutterella;s\\_\\_                                  & d\\_\\_Bacteria;p\\_\\_Proteobacteria;c\\_\\_Gammaproteobacteria;o\\_\\_Betaproteobacteriales;f\\_\\_Burkholderiaceae;g\\_\\_CAG-521;s\\_\\_                            & /ebio/abt3\\_projects/databases\\_no-backup/GTDB/release86/genbank/bacteria/GCA\\_000437635.1/GCA\\_000437635.1\\_MGS521\\_genomic.fna.gz                               & Test                                                                                                                                                                   \\\\\n",
       "\t RS\\_GCF\\_000771625.1\\_Bifidobacterium saguini DSM 23967                                                                                                              & RS\\_GCF\\_000771625.1                                                                                                                                                  & 46                                                                                                                                                                      & 493861                                                                                                                                                                  & 56.34001                                                                                                                                                                &    0                                                                                                                                                                    & 2773425                                                                                                                                                                 & 265430                                                                                                                                                                  & 57                                                                                                                                                                      & 99.54                                                                                                                                                                   & 0.69                                                                                                                                                                    & 2                                                                                                                                                                       & d\\_\\_Bacteria;p\\_\\_Actinobacteria;c\\_\\_Actinobacteria;o\\_\\_Bifidobacteriales;f\\_\\_Bifidobacteriaceae;g\\_\\_Bifidobacterium;s\\_\\_Bifidobacterium saguini    & k\\_\\_Bacteria;p\\_\\_Actinobacteria;c\\_\\_Actinobacteria;o\\_\\_Bifidobacteriales;f\\_\\_Bifidobacteriaceae;g\\_\\_Bifidobacterium;s\\_\\_                           & d\\_\\_Bacteria;p\\_\\_Actinobacteriota;c\\_\\_Actinobacteria;o\\_\\_Actinomycetales;f\\_\\_Bifidobacteriaceae;g\\_\\_Bifidobacterium;s\\_\\_Bifidobacterium saguini    & /ebio/abt3\\_projects/databases\\_no-backup/GTDB/release86/genbank/bacteria/GCA\\_000771625.1/GCA\\_000771625.1\\_DSM-23967\\_genomic.fna.gz                            & Test                                                                                                                                                                   \\\\\n",
       "\t RS\\_GCF\\_000420585.1\\_Corynebacterium callunae DSM 20147                                                                                                             & RS\\_GCF\\_000420585.1                                                                                                                                                  & 26                                                                                                                                                                      & 387085                                                                                                                                                                  & 52.45034                                                                                                                                                                &    0                                                                                                                                                                    & 2885106                                                                                                                                                                 & 238580                                                                                                                                                                  & 59                                                                                                                                                                      & 99.45                                                                                                                                                                   & 0.44                                                                                                                                                                    & 2                                                                                                                                                                       & d\\_\\_Bacteria;p\\_\\_Actinobacteria;c\\_\\_Actinobacteria;o\\_\\_Corynebacteriales;f\\_\\_Corynebacteriaceae;g\\_\\_Corynebacterium;s\\_\\_Corynebacterium callunae   & k\\_\\_Bacteria;p\\_\\_Actinobacteria;c\\_\\_Actinobacteria;o\\_\\_Actinomycetales;f\\_\\_Corynebacteriaceae;g\\_\\_Corynebacterium;s\\_\\_                             & d\\_\\_Bacteria;p\\_\\_Actinobacteriota;c\\_\\_Actinobacteria;o\\_\\_Corynebacteriales;f\\_\\_Corynebacteriaceae;g\\_\\_Corynebacterium;s\\_\\_Corynebacterium callunae & /ebio/abt3\\_projects/databases\\_no-backup/GTDB/release86/genbank/bacteria/GCA\\_000420585.1/GCA\\_000420585.1\\_ASM42058v1\\_genomic.fna.gz                           & Test                                                                                                                                                                   \\\\\n",
       "\\end{tabular}\n"
      ],
      "text/markdown": [
       "\n",
       "Taxon | accession | scaffold_count | longest_scaffold | gc_percentage | total_gap_length | genome_size | n50_contigs | trna_count | checkm_completeness | checkm_contamination | ssu_count | ncbi_taxonomy | ssu_gg_taxonomy | gtdb_taxonomy | Fasta | data_partition | \n",
       "|---|---|---|\n",
       "| GB_GCA_000437635.1_Sutterella sp. CAG:521                                                                                                   | GB_GCA_000437635.1                                                                                                                          | 76                                                                                                                                          | 182689                                                                                                                                      | 46.93616                                                                                                                                    | 5241                                                                                                                                        | 1829798                                                                                                                                     |  20115                                                                                                                                      | 47                                                                                                                                          | 94.90                                                                                                                                       | 1.25                                                                                                                                        | 1                                                                                                                                           | d__Bacteria;p__Proteobacteria;c__Betaproteobacteria;o__Burkholderiales;f__Sutterellaceae;g__Sutterella;s__                                  | k__Bacteria;p__Proteobacteria;c__Betaproteobacteria;o__Burkholderiales;f__Alcaligenaceae;g__Sutterella;s__                                  | d__Bacteria;p__Proteobacteria;c__Gammaproteobacteria;o__Betaproteobacteriales;f__Burkholderiaceae;g__CAG-521;s__                            | /ebio/abt3_projects/databases_no-backup/GTDB/release86/genbank/bacteria/GCA_000437635.1/GCA_000437635.1_MGS521_genomic.fna.gz               | Test                                                                                                                                        | \n",
       "| RS_GCF_000771625.1_Bifidobacterium saguini DSM 23967                                                                                        | RS_GCF_000771625.1                                                                                                                          | 46                                                                                                                                          | 493861                                                                                                                                      | 56.34001                                                                                                                                    |    0                                                                                                                                        | 2773425                                                                                                                                     | 265430                                                                                                                                      | 57                                                                                                                                          | 99.54                                                                                                                                       | 0.69                                                                                                                                        | 2                                                                                                                                           | d__Bacteria;p__Actinobacteria;c__Actinobacteria;o__Bifidobacteriales;f__Bifidobacteriaceae;g__Bifidobacterium;s__Bifidobacterium saguini    | k__Bacteria;p__Actinobacteria;c__Actinobacteria;o__Bifidobacteriales;f__Bifidobacteriaceae;g__Bifidobacterium;s__                           | d__Bacteria;p__Actinobacteriota;c__Actinobacteria;o__Actinomycetales;f__Bifidobacteriaceae;g__Bifidobacterium;s__Bifidobacterium saguini    | /ebio/abt3_projects/databases_no-backup/GTDB/release86/genbank/bacteria/GCA_000771625.1/GCA_000771625.1_DSM-23967_genomic.fna.gz            | Test                                                                                                                                        | \n",
       "| RS_GCF_000420585.1_Corynebacterium callunae DSM 20147                                                                                       | RS_GCF_000420585.1                                                                                                                          | 26                                                                                                                                          | 387085                                                                                                                                      | 52.45034                                                                                                                                    |    0                                                                                                                                        | 2885106                                                                                                                                     | 238580                                                                                                                                      | 59                                                                                                                                          | 99.45                                                                                                                                       | 0.44                                                                                                                                        | 2                                                                                                                                           | d__Bacteria;p__Actinobacteria;c__Actinobacteria;o__Corynebacteriales;f__Corynebacteriaceae;g__Corynebacterium;s__Corynebacterium callunae   | k__Bacteria;p__Actinobacteria;c__Actinobacteria;o__Actinomycetales;f__Corynebacteriaceae;g__Corynebacterium;s__                             | d__Bacteria;p__Actinobacteriota;c__Actinobacteria;o__Corynebacteriales;f__Corynebacteriaceae;g__Corynebacterium;s__Corynebacterium callunae | /ebio/abt3_projects/databases_no-backup/GTDB/release86/genbank/bacteria/GCA_000420585.1/GCA_000420585.1_ASM42058v1_genomic.fna.gz           | Test                                                                                                                                        | \n",
       "\n",
       "\n"
      ],
      "text/plain": [
       "  Taxon                                                 accession         \n",
       "1 GB_GCA_000437635.1_Sutterella sp. CAG:521             GB_GCA_000437635.1\n",
       "2 RS_GCF_000771625.1_Bifidobacterium saguini DSM 23967  RS_GCF_000771625.1\n",
       "3 RS_GCF_000420585.1_Corynebacterium callunae DSM 20147 RS_GCF_000420585.1\n",
       "  scaffold_count longest_scaffold gc_percentage total_gap_length genome_size\n",
       "1 76             182689           46.93616      5241             1829798    \n",
       "2 46             493861           56.34001         0             2773425    \n",
       "3 26             387085           52.45034         0             2885106    \n",
       "  n50_contigs trna_count checkm_completeness checkm_contamination ssu_count\n",
       "1  20115      47         94.90               1.25                 1        \n",
       "2 265430      57         99.54               0.69                 2        \n",
       "3 238580      59         99.45               0.44                 2        \n",
       "  ncbi_taxonomy                                                                                                                            \n",
       "1 d__Bacteria;p__Proteobacteria;c__Betaproteobacteria;o__Burkholderiales;f__Sutterellaceae;g__Sutterella;s__                               \n",
       "2 d__Bacteria;p__Actinobacteria;c__Actinobacteria;o__Bifidobacteriales;f__Bifidobacteriaceae;g__Bifidobacterium;s__Bifidobacterium saguini \n",
       "3 d__Bacteria;p__Actinobacteria;c__Actinobacteria;o__Corynebacteriales;f__Corynebacteriaceae;g__Corynebacterium;s__Corynebacterium callunae\n",
       "  ssu_gg_taxonomy                                                                                                  \n",
       "1 k__Bacteria;p__Proteobacteria;c__Betaproteobacteria;o__Burkholderiales;f__Alcaligenaceae;g__Sutterella;s__       \n",
       "2 k__Bacteria;p__Actinobacteria;c__Actinobacteria;o__Bifidobacteriales;f__Bifidobacteriaceae;g__Bifidobacterium;s__\n",
       "3 k__Bacteria;p__Actinobacteria;c__Actinobacteria;o__Actinomycetales;f__Corynebacteriaceae;g__Corynebacterium;s__  \n",
       "  gtdb_taxonomy                                                                                                                              \n",
       "1 d__Bacteria;p__Proteobacteria;c__Gammaproteobacteria;o__Betaproteobacteriales;f__Burkholderiaceae;g__CAG-521;s__                           \n",
       "2 d__Bacteria;p__Actinobacteriota;c__Actinobacteria;o__Actinomycetales;f__Bifidobacteriaceae;g__Bifidobacterium;s__Bifidobacterium saguini   \n",
       "3 d__Bacteria;p__Actinobacteriota;c__Actinobacteria;o__Corynebacteriales;f__Corynebacteriaceae;g__Corynebacterium;s__Corynebacterium callunae\n",
       "  Fasta                                                                                                                            \n",
       "1 /ebio/abt3_projects/databases_no-backup/GTDB/release86/genbank/bacteria/GCA_000437635.1/GCA_000437635.1_MGS521_genomic.fna.gz    \n",
       "2 /ebio/abt3_projects/databases_no-backup/GTDB/release86/genbank/bacteria/GCA_000771625.1/GCA_000771625.1_DSM-23967_genomic.fna.gz \n",
       "3 /ebio/abt3_projects/databases_no-backup/GTDB/release86/genbank/bacteria/GCA_000420585.1/GCA_000420585.1_ASM42058v1_genomic.fna.gz\n",
       "  data_partition\n",
       "1 Test          \n",
       "2 Test          \n",
       "3 Test          "
      ]
     },
     "metadata": {},
     "output_type": "display_data"
    }
   ],
   "source": [
    "F = file.path(work_dir, 'DeepMAsED_GTDB_genome-refs_test.tsv')\n",
    "metadata_f_test = read.delim(F, sep='\\t') %>%\n",
    "    mutate(data_partition = 'Test')\n",
    "metadata_f_test %>% dim %>% print\n",
    "metadata_f_test %>% head(n=3)"
   ]
  },
  {
   "cell_type": "markdown",
   "metadata": {},
   "source": [
    "# fastani"
   ]
  },
  {
   "cell_type": "markdown",
   "metadata": {},
   "source": [
    "## Train"
   ]
  },
  {
   "cell_type": "code",
   "execution_count": 17,
   "metadata": {
    "ExecuteTime": {
     "end_time": "2019-08-10T14:32:39.857974Z",
     "start_time": "2019-08-10T14:32:39.803Z"
    }
   },
   "outputs": [
    {
     "name": "stdout",
     "output_type": "stream",
     "text": [
      "File written: /ebio/abt3_projects/databases_no-backup/DeepMAsED/GTDB_ref_genomes/fastANI//train_genomes.txt \n"
     ]
    }
   ],
   "source": [
    "# writing out genome fasta file list\n",
    "F = file.path(work_dir, 'train_genomes.txt')\n",
    "metadata_f_train %>%\n",
    "    dplyr::select(Fasta) %>%\n",
    "    write.table(F, sep='\\t', quote=FALSE, row.names=FALSE, col.names=FALSE)\n",
    "cat('File written:', F, '\\n')"
   ]
  },
  {
   "cell_type": "code",
   "execution_count": 19,
   "metadata": {
    "ExecuteTime": {
     "end_time": "2019-08-10T14:32:47.034871Z",
     "start_time": "2019-08-10T14:32:46.891Z"
    }
   },
   "outputs": [
    {
     "data": {
      "text/html": [
       "'fastANI --fragLen 1000 --minFrag 50 -k 16 --threads 24 --ql /ebio/abt3_projects/databases_no-backup/DeepMAsED/GTDB_ref_genomes/fastANI//train_genomes.txt --rl /ebio/abt3_projects/databases_no-backup/DeepMAsED/GTDB_ref_genomes/fastANI//train_genomes.txt -o /ebio/abt3_projects/databases_no-backup/DeepMAsED/GTDB_ref_genomes/fastANI//train_genomes_ANI.tsv'"
      ],
      "text/latex": [
       "'fastANI --fragLen 1000 --minFrag 50 -k 16 --threads 24 --ql /ebio/abt3\\_projects/databases\\_no-backup/DeepMAsED/GTDB\\_ref\\_genomes/fastANI//train\\_genomes.txt --rl /ebio/abt3\\_projects/databases\\_no-backup/DeepMAsED/GTDB\\_ref\\_genomes/fastANI//train\\_genomes.txt -o /ebio/abt3\\_projects/databases\\_no-backup/DeepMAsED/GTDB\\_ref\\_genomes/fastANI//train\\_genomes\\_ANI.tsv'"
      ],
      "text/markdown": [
       "'fastANI --fragLen 1000 --minFrag 50 -k 16 --threads 24 --ql /ebio/abt3_projects/databases_no-backup/DeepMAsED/GTDB_ref_genomes/fastANI//train_genomes.txt --rl /ebio/abt3_projects/databases_no-backup/DeepMAsED/GTDB_ref_genomes/fastANI//train_genomes.txt -o /ebio/abt3_projects/databases_no-backup/DeepMAsED/GTDB_ref_genomes/fastANI//train_genomes_ANI.tsv'"
      ],
      "text/plain": [
       "fastANI --fragLen 1000 --minFrag 50 -k 16 --threads 24 --ql /ebio/abt3_projects/databases_no-backup/DeepMAsED/GTDB_ref_genomes/fastANI//train_genomes.txt --rl /ebio/abt3_projects/databases_no-backup/DeepMAsED/GTDB_ref_genomes/fastANI//train_genomes.txt -o /ebio/abt3_projects/databases_no-backup/DeepMAsED/GTDB_ref_genomes/fastANI//train_genomes_ANI.tsv"
      ]
     },
     "metadata": {},
     "output_type": "display_data"
    }
   ],
   "source": [
    "cmd = 'fastANI {params} --threads {threads} --ql {query_genomes} --rl {ref_genomes} -o {output}'\n",
    "params = '--fragLen 1000 --minFrag 50 -k 16'\n",
    "train_outF = file.path(work_dir, 'train_genomes_ANI.tsv')\n",
    "cmd = glue::glue(cmd, params=params, threads=threads, query_genomes=F, ref_genomes=F, output=train_outF)\n",
    "cmd"
   ]
  },
  {
   "cell_type": "code",
   "execution_count": 21,
   "metadata": {
    "ExecuteTime": {
     "end_time": "2019-08-11T00:20:33.242624Z",
     "start_time": "2019-08-10T14:34:06.876Z"
    }
   },
   "outputs": [
    {
     "data": {
      "text/html": [],
      "text/latex": [],
      "text/markdown": [],
      "text/plain": [
       "character(0)"
      ]
     },
     "metadata": {},
     "output_type": "display_data"
    }
   ],
   "source": [
    "# running job\n",
    "bash_job(cmd, conda_env)"
   ]
  },
  {
   "cell_type": "markdown",
   "metadata": {},
   "source": [
    "# Test"
   ]
  },
  {
   "cell_type": "code",
   "execution_count": 22,
   "metadata": {
    "ExecuteTime": {
     "end_time": "2019-08-11T00:20:33.287635Z",
     "start_time": "2019-08-10T14:44:39.158Z"
    }
   },
   "outputs": [
    {
     "name": "stdout",
     "output_type": "stream",
     "text": [
      "File written: /ebio/abt3_projects/databases_no-backup/DeepMAsED/GTDB_ref_genomes/fastANI//test_genomes.txt \n"
     ]
    }
   ],
   "source": [
    "# writing out genome fasta file list\n",
    "F = file.path(work_dir, 'test_genomes.txt')\n",
    "metadata_f_test %>%\n",
    "    dplyr::select(Fasta) %>%\n",
    "    write.table(F, sep='\\t', quote=FALSE, row.names=FALSE, col.names=FALSE)\n",
    "cat('File written:', F, '\\n')"
   ]
  },
  {
   "cell_type": "code",
   "execution_count": 23,
   "metadata": {
    "ExecuteTime": {
     "end_time": "2019-08-11T00:20:33.359798Z",
     "start_time": "2019-08-10T14:44:42.343Z"
    }
   },
   "outputs": [
    {
     "data": {
      "text/html": [
       "'fastANI --fragLen 1000 --minFrag 50 -k 16 --threads 24 --ql /ebio/abt3_projects/databases_no-backup/DeepMAsED/GTDB_ref_genomes/fastANI//test_genomes.txt --rl /ebio/abt3_projects/databases_no-backup/DeepMAsED/GTDB_ref_genomes/fastANI//test_genomes.txt -o /ebio/abt3_projects/databases_no-backup/DeepMAsED/GTDB_ref_genomes/fastANI//test_genomes_ANI.tsv'"
      ],
      "text/latex": [
       "'fastANI --fragLen 1000 --minFrag 50 -k 16 --threads 24 --ql /ebio/abt3\\_projects/databases\\_no-backup/DeepMAsED/GTDB\\_ref\\_genomes/fastANI//test\\_genomes.txt --rl /ebio/abt3\\_projects/databases\\_no-backup/DeepMAsED/GTDB\\_ref\\_genomes/fastANI//test\\_genomes.txt -o /ebio/abt3\\_projects/databases\\_no-backup/DeepMAsED/GTDB\\_ref\\_genomes/fastANI//test\\_genomes\\_ANI.tsv'"
      ],
      "text/markdown": [
       "'fastANI --fragLen 1000 --minFrag 50 -k 16 --threads 24 --ql /ebio/abt3_projects/databases_no-backup/DeepMAsED/GTDB_ref_genomes/fastANI//test_genomes.txt --rl /ebio/abt3_projects/databases_no-backup/DeepMAsED/GTDB_ref_genomes/fastANI//test_genomes.txt -o /ebio/abt3_projects/databases_no-backup/DeepMAsED/GTDB_ref_genomes/fastANI//test_genomes_ANI.tsv'"
      ],
      "text/plain": [
       "fastANI --fragLen 1000 --minFrag 50 -k 16 --threads 24 --ql /ebio/abt3_projects/databases_no-backup/DeepMAsED/GTDB_ref_genomes/fastANI//test_genomes.txt --rl /ebio/abt3_projects/databases_no-backup/DeepMAsED/GTDB_ref_genomes/fastANI//test_genomes.txt -o /ebio/abt3_projects/databases_no-backup/DeepMAsED/GTDB_ref_genomes/fastANI//test_genomes_ANI.tsv"
      ]
     },
     "metadata": {},
     "output_type": "display_data"
    }
   ],
   "source": [
    "cmd = 'fastANI {params} --threads {threads} --ql {query_genomes} --rl {ref_genomes} -o {output}'\n",
    "params = '--fragLen 1000 --minFrag 50 -k 16' \n",
    "test_outF = file.path(work_dir, 'test_genomes_ANI.tsv')\n",
    "cmd = glue::glue(cmd, params=params, threads=threads, query_genomes=F, ref_genomes=F, output=test_outF)\n",
    "cmd"
   ]
  },
  {
   "cell_type": "code",
   "execution_count": 24,
   "metadata": {
    "ExecuteTime": {
     "end_time": "2019-08-11T18:03:53.055260Z",
     "start_time": "2019-08-10T14:44:42.550Z"
    }
   },
   "outputs": [
    {
     "data": {
      "text/html": [],
      "text/latex": [],
      "text/markdown": [],
      "text/plain": [
       "character(0)"
      ]
     },
     "metadata": {},
     "output_type": "display_data"
    }
   ],
   "source": [
    "# running job\n",
    "bash_job(cmd, conda_env)"
   ]
  },
  {
   "cell_type": "markdown",
   "metadata": {},
   "source": [
    "# Loading dist mtx"
   ]
  },
  {
   "cell_type": "code",
   "execution_count": 36,
   "metadata": {
    "ExecuteTime": {
     "end_time": "2019-08-11T18:09:30.150124Z",
     "start_time": "2019-08-11T18:09:19.157Z"
    }
   },
   "outputs": [
    {
     "name": "stdout",
     "output_type": "stream",
     "text": [
      "[1] 999679      6\n"
     ]
    },
    {
     "data": {
      "text/html": [
       "<table>\n",
       "<thead><tr><th scope=col>V1</th><th scope=col>V2</th><th scope=col>V3</th><th scope=col>V4</th><th scope=col>V5</th><th scope=col>data_type</th></tr></thead>\n",
       "<tbody>\n",
       "\t<tr><td>GCA_002238865.1_ASM223886v1_genomic.fna.gz</td><td>GCA_002238865.1_ASM223886v1_genomic.fna.gz</td><td>100.0000                                  </td><td>4383                                      </td><td>4383                                      </td><td>Train                                     </td></tr>\n",
       "\t<tr><td>GCA_002238865.1_ASM223886v1_genomic.fna.gz</td><td>GCA_000013185.1_ASM1318v1_genomic.fna.gz  </td><td> 74.1245                                  </td><td>  82                                      </td><td>4383                                      </td><td>Train                                     </td></tr>\n",
       "\t<tr><td>GCA_002238865.1_ASM223886v1_genomic.fna.gz</td><td>GCA_001625365.1_ASM162536v1_genomic.fna.gz</td><td> 74.1187                                  </td><td>2880                                      </td><td>4383                                      </td><td>Train                                     </td></tr>\n",
       "</tbody>\n",
       "</table>\n"
      ],
      "text/latex": [
       "\\begin{tabular}{r|llllll}\n",
       " V1 & V2 & V3 & V4 & V5 & data\\_type\\\\\n",
       "\\hline\n",
       "\t GCA\\_002238865.1\\_ASM223886v1\\_genomic.fna.gz & GCA\\_002238865.1\\_ASM223886v1\\_genomic.fna.gz & 100.0000                                         & 4383                                             & 4383                                             & Train                                           \\\\\n",
       "\t GCA\\_002238865.1\\_ASM223886v1\\_genomic.fna.gz & GCA\\_000013185.1\\_ASM1318v1\\_genomic.fna.gz   &  74.1245                                         &   82                                             & 4383                                             & Train                                           \\\\\n",
       "\t GCA\\_002238865.1\\_ASM223886v1\\_genomic.fna.gz & GCA\\_001625365.1\\_ASM162536v1\\_genomic.fna.gz &  74.1187                                         & 2880                                             & 4383                                             & Train                                           \\\\\n",
       "\\end{tabular}\n"
      ],
      "text/markdown": [
       "\n",
       "V1 | V2 | V3 | V4 | V5 | data_type | \n",
       "|---|---|---|\n",
       "| GCA_002238865.1_ASM223886v1_genomic.fna.gz | GCA_002238865.1_ASM223886v1_genomic.fna.gz | 100.0000                                   | 4383                                       | 4383                                       | Train                                      | \n",
       "| GCA_002238865.1_ASM223886v1_genomic.fna.gz | GCA_000013185.1_ASM1318v1_genomic.fna.gz   |  74.1245                                   |   82                                       | 4383                                       | Train                                      | \n",
       "| GCA_002238865.1_ASM223886v1_genomic.fna.gz | GCA_001625365.1_ASM162536v1_genomic.fna.gz |  74.1187                                   | 2880                                       | 4383                                       | Train                                      | \n",
       "\n",
       "\n"
      ],
      "text/plain": [
       "  V1                                        \n",
       "1 GCA_002238865.1_ASM223886v1_genomic.fna.gz\n",
       "2 GCA_002238865.1_ASM223886v1_genomic.fna.gz\n",
       "3 GCA_002238865.1_ASM223886v1_genomic.fna.gz\n",
       "  V2                                         V3       V4   V5   data_type\n",
       "1 GCA_002238865.1_ASM223886v1_genomic.fna.gz 100.0000 4383 4383 Train    \n",
       "2 GCA_000013185.1_ASM1318v1_genomic.fna.gz    74.1245   82 4383 Train    \n",
       "3 GCA_001625365.1_ASM162536v1_genomic.fna.gz  74.1187 2880 4383 Train    "
      ]
     },
     "metadata": {},
     "output_type": "display_data"
    }
   ],
   "source": [
    "train_dist = fread(train_outF, sep='\\t', header=FALSE) %>%\n",
    "    mutate(V1 = basename(V1),\n",
    "           V2 = basename(V2),\n",
    "           data_type = 'Train')\n",
    "\n",
    "train_dist %>% dim %>% print\n",
    "train_dist %>% head(n=3)"
   ]
  },
  {
   "cell_type": "code",
   "execution_count": 37,
   "metadata": {
    "ExecuteTime": {
     "end_time": "2019-08-11T18:09:41.169465Z",
     "start_time": "2019-08-11T18:09:19.657Z"
    }
   },
   "outputs": [
    {
     "name": "stdout",
     "output_type": "stream",
     "text": [
      "[1] 999359      6\n"
     ]
    },
    {
     "data": {
      "text/html": [
       "<table>\n",
       "<thead><tr><th scope=col>V1</th><th scope=col>V2</th><th scope=col>V3</th><th scope=col>V4</th><th scope=col>V5</th><th scope=col>data_type</th></tr></thead>\n",
       "<tbody>\n",
       "\t<tr><td>GCA_000437635.1_MGS521_genomic.fna.gz     </td><td>GCA_000437635.1_MGS521_genomic.fna.gz     </td><td>99.9999                                   </td><td>1793                                      </td><td>1793                                      </td><td>Test                                      </td></tr>\n",
       "\t<tr><td>GCA_000437635.1_MGS521_genomic.fna.gz     </td><td>GCA_002002425.1_ASM200242v1_genomic.fna.gz</td><td>74.0012                                   </td><td> 414                                      </td><td>1793                                      </td><td>Test                                      </td></tr>\n",
       "\t<tr><td>GCA_000437635.1_MGS521_genomic.fna.gz     </td><td>GCA_000070465.1_ASM7046v1_genomic.fna.gz  </td><td>74.0007                                   </td><td> 446                                      </td><td>1793                                      </td><td>Test                                      </td></tr>\n",
       "</tbody>\n",
       "</table>\n"
      ],
      "text/latex": [
       "\\begin{tabular}{r|llllll}\n",
       " V1 & V2 & V3 & V4 & V5 & data\\_type\\\\\n",
       "\\hline\n",
       "\t GCA\\_000437635.1\\_MGS521\\_genomic.fna.gz      & GCA\\_000437635.1\\_MGS521\\_genomic.fna.gz      & 99.9999                                          & 1793                                             & 1793                                             & Test                                            \\\\\n",
       "\t GCA\\_000437635.1\\_MGS521\\_genomic.fna.gz      & GCA\\_002002425.1\\_ASM200242v1\\_genomic.fna.gz & 74.0012                                          &  414                                             & 1793                                             & Test                                            \\\\\n",
       "\t GCA\\_000437635.1\\_MGS521\\_genomic.fna.gz      & GCA\\_000070465.1\\_ASM7046v1\\_genomic.fna.gz   & 74.0007                                          &  446                                             & 1793                                             & Test                                            \\\\\n",
       "\\end{tabular}\n"
      ],
      "text/markdown": [
       "\n",
       "V1 | V2 | V3 | V4 | V5 | data_type | \n",
       "|---|---|---|\n",
       "| GCA_000437635.1_MGS521_genomic.fna.gz      | GCA_000437635.1_MGS521_genomic.fna.gz      | 99.9999                                    | 1793                                       | 1793                                       | Test                                       | \n",
       "| GCA_000437635.1_MGS521_genomic.fna.gz      | GCA_002002425.1_ASM200242v1_genomic.fna.gz | 74.0012                                    |  414                                       | 1793                                       | Test                                       | \n",
       "| GCA_000437635.1_MGS521_genomic.fna.gz      | GCA_000070465.1_ASM7046v1_genomic.fna.gz   | 74.0007                                    |  446                                       | 1793                                       | Test                                       | \n",
       "\n",
       "\n"
      ],
      "text/plain": [
       "  V1                                   \n",
       "1 GCA_000437635.1_MGS521_genomic.fna.gz\n",
       "2 GCA_000437635.1_MGS521_genomic.fna.gz\n",
       "3 GCA_000437635.1_MGS521_genomic.fna.gz\n",
       "  V2                                         V3      V4   V5   data_type\n",
       "1 GCA_000437635.1_MGS521_genomic.fna.gz      99.9999 1793 1793 Test     \n",
       "2 GCA_002002425.1_ASM200242v1_genomic.fna.gz 74.0012  414 1793 Test     \n",
       "3 GCA_000070465.1_ASM7046v1_genomic.fna.gz   74.0007  446 1793 Test     "
      ]
     },
     "metadata": {},
     "output_type": "display_data"
    }
   ],
   "source": [
    "test_dist = fread(test_outF, sep='\\t', header=FALSE) %>%\n",
    "    mutate(V1 = basename(V1),\n",
    "           V2 = basename(V2),\n",
    "           data_type = 'Test')\n",
    "\n",
    "test_dist %>% dim %>% print\n",
    "test_dist %>% head(n=3)"
   ]
  },
  {
   "cell_type": "markdown",
   "metadata": {},
   "source": [
    "## Creating plots"
   ]
  },
  {
   "cell_type": "code",
   "execution_count": 44,
   "metadata": {
    "ExecuteTime": {
     "end_time": "2019-08-11T18:15:28.097261Z",
     "start_time": "2019-08-11T18:15:19.821Z"
    }
   },
   "outputs": [
    {
     "name": "stderr",
     "output_type": "stream",
     "text": [
      "Warning message:\n",
      "“Transformation introduced infinite values in continuous y-axis”Warning message:\n",
      "“Removed 13 rows containing missing values (geom_bar).”"
     ]
    },
    {
     "data": {
      "image/png": "[encoded data removed]",
      "text/plain": [
       "plot without title"
      ]
     },
     "metadata": {},
     "output_type": "display_data"
    }
   ],
   "source": [
    "p = train_dist %>%\n",
    "    rbind(test_dist) %>%\n",
    "    filter(V1 != V2) %>%\n",
    "    mutate(data_type = factor(data_type, levels=c('Train', 'Test'))) %>%\n",
    "    ggplot(aes(V3)) +\n",
    "    geom_histogram(bins=50) +\n",
    "    scale_y_log10() +\n",
    "    labs(x='ANI', y='Count') + \n",
    "    facet_grid(. ~ data_type) +\n",
    "    theme_bw()\n",
    "\n",
    "options(repr.plot.width=6, repr.plot.height=2.5)\n",
    "plot(p)"
   ]
  },
  {
   "cell_type": "code",
   "execution_count": 80,
   "metadata": {
    "ExecuteTime": {
     "end_time": "2019-08-11T18:33:13.531684Z",
     "start_time": "2019-08-11T18:33:06.575Z"
    }
   },
   "outputs": [
    {
     "name": "stderr",
     "output_type": "stream",
     "text": [
      "Warning message:\n",
      "“Transformation introduced infinite values in continuous y-axis”Warning message:\n",
      "“Removed 13 rows containing missing values (geom_bar).”"
     ]
    },
    {
     "name": "stdout",
     "output_type": "stream",
     "text": [
      "File written: /ebio/abt3_projects/databases_no-backup/DeepMAsED/GTDB_ref_genomes/fastANI//ANI_histograms.pdf \n"
     ]
    }
   ],
   "source": [
    "F = file.path(work_dir, 'ANI_histograms.pdf')\n",
    "ggsave(p, file=F, width=6, height=2.5)\n",
    "cat('File written:', F, '\\n')"
   ]
  },
  {
   "cell_type": "markdown",
   "metadata": {},
   "source": [
    "## Summary of 'close' genomes"
   ]
  },
  {
   "cell_type": "markdown",
   "metadata": {},
   "source": [
    "### Train"
   ]
  },
  {
   "cell_type": "code",
   "execution_count": 74,
   "metadata": {
    "ExecuteTime": {
     "end_time": "2019-08-11T18:29:29.244780Z",
     "start_time": "2019-08-11T18:29:28.824Z"
    }
   },
   "outputs": [
    {
     "name": "stdout",
     "output_type": "stream",
     "text": [
      "[1] \"GCA_000786575.1_ASM78657v1_genomic.fna.gz\"       \n",
      "[2] \"GCA_000371045.1_Bruc_sp_UK1_97_V1_genomic.fna.gz\"\n",
      "[3] \"GCA_900104605.1_PRJEB16355_genomic.fna.gz\"       \n",
      "[4] \"GCA_000495635.1_GBA94-10.20_genomic.fna.gz\"      \n",
      "[5] \"GCA_000018525.1_ASM1852v1_genomic.fna.gz\"        \n",
      "[6] \"GCA_000022625.1_ASM2262v1_genomic.fna.gz\"        \n",
      "[7] \"GCA_000495755.1_PVA94-07.23_genomic.fna.gz\"      \n"
     ]
    },
    {
     "data": {
      "text/plain": [
       "   Min. 1st Qu.  Median    Mean 3rd Qu.    Max. \n",
       "  99.59   99.68   99.73   99.75   99.77   99.98 "
      ]
     },
     "metadata": {},
     "output_type": "display_data"
    }
   ],
   "source": [
    "df_s = train_dist %>%\n",
    "    filter(V1 != V2) %>%\n",
    "    filter(V3 > 99) \n",
    "\n",
    "train_close_tax = c(df_s$V1, df_s$V2) %>% unique \n",
    "train_close_tax %>% print\n",
    "df_s$V3 %>% summary"
   ]
  },
  {
   "cell_type": "code",
   "execution_count": 77,
   "metadata": {
    "ExecuteTime": {
     "end_time": "2019-08-11T18:30:14.024670Z",
     "start_time": "2019-08-11T18:30:13.936Z"
    }
   },
   "outputs": [
    {
     "data": {
      "text/html": [
       "<table>\n",
       "<thead><tr><th scope=col>Taxon</th><th scope=col>ncbi_taxonomy</th><th scope=col>gtdb_taxonomy</th><th scope=col>Fasta</th><th scope=col>data_partition</th></tr></thead>\n",
       "<tbody>\n",
       "\t<tr><td>RS_GCF_000495635.1_Streptomyces sp. GBA 94-10                                                                                  </td><td>d__Bacteria;p__Actinobacteria;c__Actinobacteria;o__Streptomycetales;f__Streptomycetaceae;g__Streptomyces;s__                   </td><td>d__Bacteria;p__Actinobacteriota;c__Actinobacteria;o__Streptomycetales;f__Streptomycetaceae;g__Streptomyces;s__Streptomyces sp28</td><td>GCA_000495635.1_GBA94-10.20_genomic.fna.gz                                                                                     </td><td>Train                                                                                                                          </td></tr>\n",
       "\t<tr><td>RS_GCF_000495755.1_Streptomyces sp. PVA 94-07                                                                                  </td><td>d__Bacteria;p__Actinobacteria;c__Actinobacteria;o__Streptomycetales;f__Streptomycetaceae;g__Streptomyces;s__                   </td><td>d__Bacteria;p__Actinobacteriota;c__Actinobacteria;o__Streptomycetales;f__Streptomycetaceae;g__Streptomyces;s__Streptomyces sp28</td><td>GCA_000495755.1_PVA94-07.23_genomic.fna.gz                                                                                     </td><td>Train                                                                                                                          </td></tr>\n",
       "\t<tr><td>RS_GCF_000786575.1_Alistipes inops                                                                                             </td><td>d__Bacteria;p__Bacteroidetes;c__Bacteroidia;o__Bacteroidales;f__Rikenellaceae;g__Alistipes;s__Alistipes inops                  </td><td>d__Bacteria;p__Bacteroidota;c__Bacteroidia;o__Bacteroidales;f__Rikenellaceae;g__Tidjanibacter;s__Tidjanibacter massiliensis    </td><td>GCA_000786575.1_ASM78657v1_genomic.fna.gz                                                                                      </td><td>Train                                                                                                                          </td></tr>\n",
       "\t<tr><td>RS_GCF_900104605.1_Tidjanibacter massiliensis                                                                                  </td><td>d__Bacteria;p__Bacteroidetes;c__Bacteroidia;o__Bacteroidales;f__Rikenellaceae;g__Tidjanibacter;s__Tidjanibacter massiliensis   </td><td>d__Bacteria;p__Bacteroidota;c__Bacteroidia;o__Bacteroidales;f__Rikenellaceae;g__Tidjanibacter;s__Tidjanibacter massiliensis    </td><td>GCA_900104605.1_PRJEB16355_genomic.fna.gz                                                                                      </td><td>Train                                                                                                                          </td></tr>\n",
       "\t<tr><td>RS_GCF_000371045.1_Brucella sp. UK1/97                                                                                         </td><td>d__Bacteria;p__Proteobacteria;c__Alphaproteobacteria;o__Rhizobiales;f__Brucellaceae;g__Brucella;s__                            </td><td>d__Bacteria;p__Proteobacteria;c__Alphaproteobacteria;o__Rhizobiales;f__Rhizobiaceae;g__Brucella;s__Brucella sp1                </td><td>GCA_000371045.1_Bruc_sp_UK1_97_V1_genomic.fna.gz                                                                               </td><td>Train                                                                                                                          </td></tr>\n",
       "\t<tr><td>RS_GCF_000018525.1_Brucella canis ATCC 23365                                                                                   </td><td>d__Bacteria;p__Proteobacteria;c__Alphaproteobacteria;o__Rhizobiales;f__Brucellaceae;g__Brucella;s__Brucella canis              </td><td>d__Bacteria;p__Proteobacteria;c__Alphaproteobacteria;o__Rhizobiales;f__Rhizobiaceae;g__Brucella;s__Brucella canis              </td><td>GCA_000018525.1_ASM1852v1_genomic.fna.gz                                                                                       </td><td>Train                                                                                                                          </td></tr>\n",
       "\t<tr><td>RS_GCF_000022625.1_Brucella melitensis ATCC 23457                                                                              </td><td>d__Bacteria;p__Proteobacteria;c__Alphaproteobacteria;o__Rhizobiales;f__Brucellaceae;g__Brucella;s__Brucella melitensis         </td><td>d__Bacteria;p__Proteobacteria;c__Alphaproteobacteria;o__Rhizobiales;f__Rhizobiaceae;g__Brucella;s__Brucella melitensis         </td><td>GCA_000022625.1_ASM2262v1_genomic.fna.gz                                                                                       </td><td>Train                                                                                                                          </td></tr>\n",
       "</tbody>\n",
       "</table>\n"
      ],
      "text/latex": [
       "\\begin{tabular}{r|lllll}\n",
       " Taxon & ncbi\\_taxonomy & gtdb\\_taxonomy & Fasta & data\\_partition\\\\\n",
       "\\hline\n",
       "\t RS\\_GCF\\_000495635.1\\_Streptomyces sp. GBA 94-10                                                                                                         & d\\_\\_Bacteria;p\\_\\_Actinobacteria;c\\_\\_Actinobacteria;o\\_\\_Streptomycetales;f\\_\\_Streptomycetaceae;g\\_\\_Streptomyces;s\\_\\_                    & d\\_\\_Bacteria;p\\_\\_Actinobacteriota;c\\_\\_Actinobacteria;o\\_\\_Streptomycetales;f\\_\\_Streptomycetaceae;g\\_\\_Streptomyces;s\\_\\_Streptomyces sp28 & GCA\\_000495635.1\\_GBA94-10.20\\_genomic.fna.gz                                                                                                            & Train                                                                                                                                                      \\\\\n",
       "\t RS\\_GCF\\_000495755.1\\_Streptomyces sp. PVA 94-07                                                                                                         & d\\_\\_Bacteria;p\\_\\_Actinobacteria;c\\_\\_Actinobacteria;o\\_\\_Streptomycetales;f\\_\\_Streptomycetaceae;g\\_\\_Streptomyces;s\\_\\_                    & d\\_\\_Bacteria;p\\_\\_Actinobacteriota;c\\_\\_Actinobacteria;o\\_\\_Streptomycetales;f\\_\\_Streptomycetaceae;g\\_\\_Streptomyces;s\\_\\_Streptomyces sp28 & GCA\\_000495755.1\\_PVA94-07.23\\_genomic.fna.gz                                                                                                            & Train                                                                                                                                                      \\\\\n",
       "\t RS\\_GCF\\_000786575.1\\_Alistipes inops                                                                                                                    & d\\_\\_Bacteria;p\\_\\_Bacteroidetes;c\\_\\_Bacteroidia;o\\_\\_Bacteroidales;f\\_\\_Rikenellaceae;g\\_\\_Alistipes;s\\_\\_Alistipes inops                   & d\\_\\_Bacteria;p\\_\\_Bacteroidota;c\\_\\_Bacteroidia;o\\_\\_Bacteroidales;f\\_\\_Rikenellaceae;g\\_\\_Tidjanibacter;s\\_\\_Tidjanibacter massiliensis     & GCA\\_000786575.1\\_ASM78657v1\\_genomic.fna.gz                                                                                                             & Train                                                                                                                                                      \\\\\n",
       "\t RS\\_GCF\\_900104605.1\\_Tidjanibacter massiliensis                                                                                                         & d\\_\\_Bacteria;p\\_\\_Bacteroidetes;c\\_\\_Bacteroidia;o\\_\\_Bacteroidales;f\\_\\_Rikenellaceae;g\\_\\_Tidjanibacter;s\\_\\_Tidjanibacter massiliensis    & d\\_\\_Bacteria;p\\_\\_Bacteroidota;c\\_\\_Bacteroidia;o\\_\\_Bacteroidales;f\\_\\_Rikenellaceae;g\\_\\_Tidjanibacter;s\\_\\_Tidjanibacter massiliensis     & GCA\\_900104605.1\\_PRJEB16355\\_genomic.fna.gz                                                                                                             & Train                                                                                                                                                      \\\\\n",
       "\t RS\\_GCF\\_000371045.1\\_Brucella sp. UK1/97                                                                                                                & d\\_\\_Bacteria;p\\_\\_Proteobacteria;c\\_\\_Alphaproteobacteria;o\\_\\_Rhizobiales;f\\_\\_Brucellaceae;g\\_\\_Brucella;s\\_\\_                             & d\\_\\_Bacteria;p\\_\\_Proteobacteria;c\\_\\_Alphaproteobacteria;o\\_\\_Rhizobiales;f\\_\\_Rhizobiaceae;g\\_\\_Brucella;s\\_\\_Brucella sp1                 & GCA\\_000371045.1\\_Bruc\\_sp\\_UK1\\_97\\_V1\\_genomic.fna.gz                                                                                              & Train                                                                                                                                                      \\\\\n",
       "\t RS\\_GCF\\_000018525.1\\_Brucella canis ATCC 23365                                                                                                          & d\\_\\_Bacteria;p\\_\\_Proteobacteria;c\\_\\_Alphaproteobacteria;o\\_\\_Rhizobiales;f\\_\\_Brucellaceae;g\\_\\_Brucella;s\\_\\_Brucella canis               & d\\_\\_Bacteria;p\\_\\_Proteobacteria;c\\_\\_Alphaproteobacteria;o\\_\\_Rhizobiales;f\\_\\_Rhizobiaceae;g\\_\\_Brucella;s\\_\\_Brucella canis               & GCA\\_000018525.1\\_ASM1852v1\\_genomic.fna.gz                                                                                                              & Train                                                                                                                                                      \\\\\n",
       "\t RS\\_GCF\\_000022625.1\\_Brucella melitensis ATCC 23457                                                                                                     & d\\_\\_Bacteria;p\\_\\_Proteobacteria;c\\_\\_Alphaproteobacteria;o\\_\\_Rhizobiales;f\\_\\_Brucellaceae;g\\_\\_Brucella;s\\_\\_Brucella melitensis          & d\\_\\_Bacteria;p\\_\\_Proteobacteria;c\\_\\_Alphaproteobacteria;o\\_\\_Rhizobiales;f\\_\\_Rhizobiaceae;g\\_\\_Brucella;s\\_\\_Brucella melitensis          & GCA\\_000022625.1\\_ASM2262v1\\_genomic.fna.gz                                                                                                              & Train                                                                                                                                                      \\\\\n",
       "\\end{tabular}\n"
      ],
      "text/markdown": [
       "\n",
       "Taxon | ncbi_taxonomy | gtdb_taxonomy | Fasta | data_partition | \n",
       "|---|---|---|---|---|---|---|\n",
       "| RS_GCF_000495635.1_Streptomyces sp. GBA 94-10                                                                                   | d__Bacteria;p__Actinobacteria;c__Actinobacteria;o__Streptomycetales;f__Streptomycetaceae;g__Streptomyces;s__                    | d__Bacteria;p__Actinobacteriota;c__Actinobacteria;o__Streptomycetales;f__Streptomycetaceae;g__Streptomyces;s__Streptomyces sp28 | GCA_000495635.1_GBA94-10.20_genomic.fna.gz                                                                                      | Train                                                                                                                           | \n",
       "| RS_GCF_000495755.1_Streptomyces sp. PVA 94-07                                                                                   | d__Bacteria;p__Actinobacteria;c__Actinobacteria;o__Streptomycetales;f__Streptomycetaceae;g__Streptomyces;s__                    | d__Bacteria;p__Actinobacteriota;c__Actinobacteria;o__Streptomycetales;f__Streptomycetaceae;g__Streptomyces;s__Streptomyces sp28 | GCA_000495755.1_PVA94-07.23_genomic.fna.gz                                                                                      | Train                                                                                                                           | \n",
       "| RS_GCF_000786575.1_Alistipes inops                                                                                              | d__Bacteria;p__Bacteroidetes;c__Bacteroidia;o__Bacteroidales;f__Rikenellaceae;g__Alistipes;s__Alistipes inops                   | d__Bacteria;p__Bacteroidota;c__Bacteroidia;o__Bacteroidales;f__Rikenellaceae;g__Tidjanibacter;s__Tidjanibacter massiliensis     | GCA_000786575.1_ASM78657v1_genomic.fna.gz                                                                                       | Train                                                                                                                           | \n",
       "| RS_GCF_900104605.1_Tidjanibacter massiliensis                                                                                   | d__Bacteria;p__Bacteroidetes;c__Bacteroidia;o__Bacteroidales;f__Rikenellaceae;g__Tidjanibacter;s__Tidjanibacter massiliensis    | d__Bacteria;p__Bacteroidota;c__Bacteroidia;o__Bacteroidales;f__Rikenellaceae;g__Tidjanibacter;s__Tidjanibacter massiliensis     | GCA_900104605.1_PRJEB16355_genomic.fna.gz                                                                                       | Train                                                                                                                           | \n",
       "| RS_GCF_000371045.1_Brucella sp. UK1/97                                                                                          | d__Bacteria;p__Proteobacteria;c__Alphaproteobacteria;o__Rhizobiales;f__Brucellaceae;g__Brucella;s__                             | d__Bacteria;p__Proteobacteria;c__Alphaproteobacteria;o__Rhizobiales;f__Rhizobiaceae;g__Brucella;s__Brucella sp1                 | GCA_000371045.1_Bruc_sp_UK1_97_V1_genomic.fna.gz                                                                                | Train                                                                                                                           | \n",
       "| RS_GCF_000018525.1_Brucella canis ATCC 23365                                                                                    | d__Bacteria;p__Proteobacteria;c__Alphaproteobacteria;o__Rhizobiales;f__Brucellaceae;g__Brucella;s__Brucella canis               | d__Bacteria;p__Proteobacteria;c__Alphaproteobacteria;o__Rhizobiales;f__Rhizobiaceae;g__Brucella;s__Brucella canis               | GCA_000018525.1_ASM1852v1_genomic.fna.gz                                                                                        | Train                                                                                                                           | \n",
       "| RS_GCF_000022625.1_Brucella melitensis ATCC 23457                                                                               | d__Bacteria;p__Proteobacteria;c__Alphaproteobacteria;o__Rhizobiales;f__Brucellaceae;g__Brucella;s__Brucella melitensis          | d__Bacteria;p__Proteobacteria;c__Alphaproteobacteria;o__Rhizobiales;f__Rhizobiaceae;g__Brucella;s__Brucella melitensis          | GCA_000022625.1_ASM2262v1_genomic.fna.gz                                                                                        | Train                                                                                                                           | \n",
       "\n",
       "\n"
      ],
      "text/plain": [
       "  Taxon                                            \n",
       "1 RS_GCF_000495635.1_Streptomyces sp. GBA 94-10    \n",
       "2 RS_GCF_000495755.1_Streptomyces sp. PVA 94-07    \n",
       "3 RS_GCF_000786575.1_Alistipes inops               \n",
       "4 RS_GCF_900104605.1_Tidjanibacter massiliensis    \n",
       "5 RS_GCF_000371045.1_Brucella sp. UK1/97           \n",
       "6 RS_GCF_000018525.1_Brucella canis ATCC 23365     \n",
       "7 RS_GCF_000022625.1_Brucella melitensis ATCC 23457\n",
       "  ncbi_taxonomy                                                                                                               \n",
       "1 d__Bacteria;p__Actinobacteria;c__Actinobacteria;o__Streptomycetales;f__Streptomycetaceae;g__Streptomyces;s__                \n",
       "2 d__Bacteria;p__Actinobacteria;c__Actinobacteria;o__Streptomycetales;f__Streptomycetaceae;g__Streptomyces;s__                \n",
       "3 d__Bacteria;p__Bacteroidetes;c__Bacteroidia;o__Bacteroidales;f__Rikenellaceae;g__Alistipes;s__Alistipes inops               \n",
       "4 d__Bacteria;p__Bacteroidetes;c__Bacteroidia;o__Bacteroidales;f__Rikenellaceae;g__Tidjanibacter;s__Tidjanibacter massiliensis\n",
       "5 d__Bacteria;p__Proteobacteria;c__Alphaproteobacteria;o__Rhizobiales;f__Brucellaceae;g__Brucella;s__                         \n",
       "6 d__Bacteria;p__Proteobacteria;c__Alphaproteobacteria;o__Rhizobiales;f__Brucellaceae;g__Brucella;s__Brucella canis           \n",
       "7 d__Bacteria;p__Proteobacteria;c__Alphaproteobacteria;o__Rhizobiales;f__Brucellaceae;g__Brucella;s__Brucella melitensis      \n",
       "  gtdb_taxonomy                                                                                                                  \n",
       "1 d__Bacteria;p__Actinobacteriota;c__Actinobacteria;o__Streptomycetales;f__Streptomycetaceae;g__Streptomyces;s__Streptomyces sp28\n",
       "2 d__Bacteria;p__Actinobacteriota;c__Actinobacteria;o__Streptomycetales;f__Streptomycetaceae;g__Streptomyces;s__Streptomyces sp28\n",
       "3 d__Bacteria;p__Bacteroidota;c__Bacteroidia;o__Bacteroidales;f__Rikenellaceae;g__Tidjanibacter;s__Tidjanibacter massiliensis    \n",
       "4 d__Bacteria;p__Bacteroidota;c__Bacteroidia;o__Bacteroidales;f__Rikenellaceae;g__Tidjanibacter;s__Tidjanibacter massiliensis    \n",
       "5 d__Bacteria;p__Proteobacteria;c__Alphaproteobacteria;o__Rhizobiales;f__Rhizobiaceae;g__Brucella;s__Brucella sp1                \n",
       "6 d__Bacteria;p__Proteobacteria;c__Alphaproteobacteria;o__Rhizobiales;f__Rhizobiaceae;g__Brucella;s__Brucella canis              \n",
       "7 d__Bacteria;p__Proteobacteria;c__Alphaproteobacteria;o__Rhizobiales;f__Rhizobiaceae;g__Brucella;s__Brucella melitensis         \n",
       "  Fasta                                            data_partition\n",
       "1 GCA_000495635.1_GBA94-10.20_genomic.fna.gz       Train         \n",
       "2 GCA_000495755.1_PVA94-07.23_genomic.fna.gz       Train         \n",
       "3 GCA_000786575.1_ASM78657v1_genomic.fna.gz        Train         \n",
       "4 GCA_900104605.1_PRJEB16355_genomic.fna.gz        Train         \n",
       "5 GCA_000371045.1_Bruc_sp_UK1_97_V1_genomic.fna.gz Train         \n",
       "6 GCA_000018525.1_ASM1852v1_genomic.fna.gz         Train         \n",
       "7 GCA_000022625.1_ASM2262v1_genomic.fna.gz         Train         "
      ]
     },
     "metadata": {},
     "output_type": "display_data"
    }
   ],
   "source": [
    "metadata_f_train %>%\n",
    "    mutate(Fasta = basename(as.character(Fasta))) %>%\n",
    "    filter(Fasta %in% train_close_tax) %>%\n",
    "    dplyr::select(Taxon, ncbi_taxonomy, gtdb_taxonomy, Fasta, data_partition) %>%\n",
    "    arrange(ncbi_taxonomy)"
   ]
  },
  {
   "cell_type": "code",
   "execution_count": 78,
   "metadata": {
    "ExecuteTime": {
     "end_time": "2019-08-11T18:30:27.288605Z",
     "start_time": "2019-08-11T18:30:26.863Z"
    }
   },
   "outputs": [
    {
     "name": "stdout",
     "output_type": "stream",
     "text": [
      "[1] \"GCA_001423365.1_Leaf291_genomic.fna.gz\"\n",
      "[2] \"GCA_001423335.1_Leaf289_genomic.fna.gz\"\n"
     ]
    },
    {
     "data": {
      "text/plain": [
       "   Min. 1st Qu.  Median    Mean 3rd Qu.    Max. \n",
       "  99.10   99.10   99.11   99.11   99.11   99.11 "
      ]
     },
     "metadata": {},
     "output_type": "display_data"
    }
   ],
   "source": [
    "# Test: summary of \"close\" genomes\n",
    "df_s = test_dist %>%\n",
    "    filter(V1 != V2) %>%\n",
    "    filter(V3 > 99) \n",
    "\n",
    "test_close_tax = c(df_s$V1, df_s$V2) %>% unique \n",
    "test_close_tax %>% print\n",
    "df_s$V3 %>% summary "
   ]
  },
  {
   "cell_type": "code",
   "execution_count": 79,
   "metadata": {
    "ExecuteTime": {
     "end_time": "2019-08-11T18:30:31.112285Z",
     "start_time": "2019-08-11T18:30:31.039Z"
    }
   },
   "outputs": [
    {
     "data": {
      "text/html": [
       "<table>\n",
       "<thead><tr><th scope=col>Taxon</th><th scope=col>ncbi_taxonomy</th><th scope=col>gtdb_taxonomy</th><th scope=col>Fasta</th><th scope=col>data_partition</th></tr></thead>\n",
       "<tbody>\n",
       "\t<tr><td>RS_GCF_001423365.1_Aeromicrobium sp. Leaf291                                                                                     </td><td>d__Bacteria;p__Actinobacteria;c__Actinobacteria;o__Propionibacteriales;f__Nocardioidaceae;g__Aeromicrobium;s__                   </td><td>d__Bacteria;p__Actinobacteriota;c__Actinobacteria;o__Propionibacteriales;f__Nocardioidaceae;g__Aeromicrobium;s__Aeromicrobium sp1</td><td>GCA_001423365.1_Leaf291_genomic.fna.gz                                                                                           </td><td>Test                                                                                                                             </td></tr>\n",
       "\t<tr><td>RS_GCF_001423335.1_Aeromicrobium sp. Leaf289                                                                                     </td><td>d__Bacteria;p__Actinobacteria;c__Actinobacteria;o__Propionibacteriales;f__Nocardioidaceae;g__Aeromicrobium;s__                   </td><td>d__Bacteria;p__Actinobacteriota;c__Actinobacteria;o__Propionibacteriales;f__Nocardioidaceae;g__Aeromicrobium;s__Aeromicrobium sp1</td><td>GCA_001423335.1_Leaf289_genomic.fna.gz                                                                                           </td><td>Test                                                                                                                             </td></tr>\n",
       "</tbody>\n",
       "</table>\n"
      ],
      "text/latex": [
       "\\begin{tabular}{r|lllll}\n",
       " Taxon & ncbi\\_taxonomy & gtdb\\_taxonomy & Fasta & data\\_partition\\\\\n",
       "\\hline\n",
       "\t RS\\_GCF\\_001423365.1\\_Aeromicrobium sp. Leaf291                                                                                                            & d\\_\\_Bacteria;p\\_\\_Actinobacteria;c\\_\\_Actinobacteria;o\\_\\_Propionibacteriales;f\\_\\_Nocardioidaceae;g\\_\\_Aeromicrobium;s\\_\\_                    & d\\_\\_Bacteria;p\\_\\_Actinobacteriota;c\\_\\_Actinobacteria;o\\_\\_Propionibacteriales;f\\_\\_Nocardioidaceae;g\\_\\_Aeromicrobium;s\\_\\_Aeromicrobium sp1 & GCA\\_001423365.1\\_Leaf291\\_genomic.fna.gz                                                                                                                  & Test                                                                                                                                                         \\\\\n",
       "\t RS\\_GCF\\_001423335.1\\_Aeromicrobium sp. Leaf289                                                                                                            & d\\_\\_Bacteria;p\\_\\_Actinobacteria;c\\_\\_Actinobacteria;o\\_\\_Propionibacteriales;f\\_\\_Nocardioidaceae;g\\_\\_Aeromicrobium;s\\_\\_                    & d\\_\\_Bacteria;p\\_\\_Actinobacteriota;c\\_\\_Actinobacteria;o\\_\\_Propionibacteriales;f\\_\\_Nocardioidaceae;g\\_\\_Aeromicrobium;s\\_\\_Aeromicrobium sp1 & GCA\\_001423335.1\\_Leaf289\\_genomic.fna.gz                                                                                                                  & Test                                                                                                                                                         \\\\\n",
       "\\end{tabular}\n"
      ],
      "text/markdown": [
       "\n",
       "Taxon | ncbi_taxonomy | gtdb_taxonomy | Fasta | data_partition | \n",
       "|---|---|\n",
       "| RS_GCF_001423365.1_Aeromicrobium sp. Leaf291                                                                                      | d__Bacteria;p__Actinobacteria;c__Actinobacteria;o__Propionibacteriales;f__Nocardioidaceae;g__Aeromicrobium;s__                    | d__Bacteria;p__Actinobacteriota;c__Actinobacteria;o__Propionibacteriales;f__Nocardioidaceae;g__Aeromicrobium;s__Aeromicrobium sp1 | GCA_001423365.1_Leaf291_genomic.fna.gz                                                                                            | Test                                                                                                                              | \n",
       "| RS_GCF_001423335.1_Aeromicrobium sp. Leaf289                                                                                      | d__Bacteria;p__Actinobacteria;c__Actinobacteria;o__Propionibacteriales;f__Nocardioidaceae;g__Aeromicrobium;s__                    | d__Bacteria;p__Actinobacteriota;c__Actinobacteria;o__Propionibacteriales;f__Nocardioidaceae;g__Aeromicrobium;s__Aeromicrobium sp1 | GCA_001423335.1_Leaf289_genomic.fna.gz                                                                                            | Test                                                                                                                              | \n",
       "\n",
       "\n"
      ],
      "text/plain": [
       "  Taxon                                       \n",
       "1 RS_GCF_001423365.1_Aeromicrobium sp. Leaf291\n",
       "2 RS_GCF_001423335.1_Aeromicrobium sp. Leaf289\n",
       "  ncbi_taxonomy                                                                                                 \n",
       "1 d__Bacteria;p__Actinobacteria;c__Actinobacteria;o__Propionibacteriales;f__Nocardioidaceae;g__Aeromicrobium;s__\n",
       "2 d__Bacteria;p__Actinobacteria;c__Actinobacteria;o__Propionibacteriales;f__Nocardioidaceae;g__Aeromicrobium;s__\n",
       "  gtdb_taxonomy                                                                                                                    \n",
       "1 d__Bacteria;p__Actinobacteriota;c__Actinobacteria;o__Propionibacteriales;f__Nocardioidaceae;g__Aeromicrobium;s__Aeromicrobium sp1\n",
       "2 d__Bacteria;p__Actinobacteriota;c__Actinobacteria;o__Propionibacteriales;f__Nocardioidaceae;g__Aeromicrobium;s__Aeromicrobium sp1\n",
       "  Fasta                                  data_partition\n",
       "1 GCA_001423365.1_Leaf291_genomic.fna.gz Test          \n",
       "2 GCA_001423335.1_Leaf289_genomic.fna.gz Test          "
      ]
     },
     "metadata": {},
     "output_type": "display_data"
    }
   ],
   "source": [
    "metadata_f_test %>%\n",
    "    mutate(Fasta = basename(as.character(Fasta))) %>%\n",
    "    filter(Fasta %in% test_close_tax) %>%\n",
    "    dplyr::select(Taxon, ncbi_taxonomy, gtdb_taxonomy, Fasta, data_partition) %>%\n",
    "    arrange(ncbi_taxonomy)"
   ]
  },
  {
   "cell_type": "markdown",
   "metadata": {},
   "source": [
    "# sessionInfo"
   ]
  },
  {
   "cell_type": "code",
   "execution_count": 43,
   "metadata": {
    "ExecuteTime": {
     "end_time": "2019-08-11T18:14:48.988947Z",
     "start_time": "2019-08-11T18:14:48.813Z"
    }
   },
   "outputs": [
    {
     "data": {
      "text/plain": [
       "R version 3.4.1 (2017-06-30)\n",
       "Platform: x86_64-pc-linux-gnu (64-bit)\n",
       "Running under: Ubuntu 18.04.2 LTS\n",
       "\n",
       "Matrix products: default\n",
       "BLAS: /ebio/abt3_projects/software/miniconda3_gt4.4/envs/py3_physeq/lib/R/lib/libRblas.so\n",
       "LAPACK: /ebio/abt3_projects/software/miniconda3_gt4.4/envs/py3_physeq/lib/R/lib/libRlapack.so\n",
       "\n",
       "locale:\n",
       "[1] en_US.UTF-8\n",
       "\n",
       "attached base packages:\n",
       "[1] stats     graphics  grDevices utils     datasets  methods   base     \n",
       "\n",
       "other attached packages:\n",
       "[1] bindrcpp_0.2.2    data.table_1.11.4 ggplot2_3.0.0     tidyr_0.8.1      \n",
       "[5] dplyr_0.7.6      \n",
       "\n",
       "loaded via a namespace (and not attached):\n",
       " [1] Rcpp_0.12.17     pillar_1.2.2     compiler_3.4.1   plyr_1.8.4      \n",
       " [5] bindr_0.1.1      base64enc_0.1-3  tools_3.4.1      digest_0.6.15   \n",
       " [9] uuid_0.1-2       jsonlite_1.5     evaluate_0.10.1  tibble_1.4.2    \n",
       "[13] gtable_0.2.0     pkgconfig_2.0.1  rlang_0.2.1      IRdisplay_0.4.4 \n",
       "[17] IRkernel_0.8.12  repr_0.15.0      withr_2.1.1      stringr_1.3.1   \n",
       "[21] grid_3.4.1       tidyselect_0.2.4 glue_1.3.0       R6_2.2.2        \n",
       "[25] pbdZMQ_0.3-2     reshape2_1.4.3   purrr_0.2.4      magrittr_1.5    \n",
       "[29] scales_0.5.0     htmltools_0.3.6  assertthat_0.2.0 colorspace_1.3-2\n",
       "[33] labeling_0.3     stringi_1.2.3    lazyeval_0.2.1   munsell_0.5.0   \n",
       "[37] crayon_1.3.4    "
      ]
     },
     "metadata": {},
     "output_type": "display_data"
    }
   ],
   "source": [
    "sessionInfo()"
   ]
  },
  {
   "cell_type": "code",
   "execution_count": null,
   "metadata": {},
   "outputs": [],
   "source": []
  }
 ],
 "metadata": {
  "kernelspec": {
   "display_name": "R [conda env:py3_physeq]",
   "language": "R",
   "name": "conda-env-py3_physeq-r"
  },
  "language_info": {
   "codemirror_mode": "r",
   "file_extension": ".r",
   "mimetype": "text/x-r-source",
   "name": "R",
   "pygments_lexer": "r",
   "version": "3.4.1"
  },
  "notify_time": "30",
  "toc": {
   "base_numbering": 1,
   "nav_menu": {},
   "number_sections": true,
   "sideBar": true,
   "skip_h1_title": false,
   "title_cell": "Table of Contents",
   "title_sidebar": "Contents",
   "toc_cell": true,
   "toc_position": {},
   "toc_section_display": true,
   "toc_window_display": true
  }
 },
 "nbformat": 4,
 "nbformat_minor": 2
}
