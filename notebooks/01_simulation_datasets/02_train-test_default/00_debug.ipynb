{
 "cells": [
  {
   "cell_type": "markdown",
   "metadata": {
    "toc": true
   },
   "source": [
    "<h1>Table of Contents<span class=\"tocSkip\"></span></h1>\n",
    "<div class=\"toc\"><ul class=\"toc-item\"></ul></div>"
   ]
  },
  {
   "cell_type": "code",
   "execution_count": 3,
   "metadata": {
    "ExecuteTime": {
     "end_time": "2019-11-05T19:35:46.833446Z",
     "start_time": "2019-11-05T19:35:46.634Z"
    }
   },
   "outputs": [
    {
     "name": "stderr",
     "output_type": "stream",
     "text": [
      "Loading required package: data.table\n"
     ]
    }
   ],
   "source": [
    "library(batchtools)\n",
    "library(future)\n",
    "library(future.batchtools)\n",
    "library(future.apply)"
   ]
  },
  {
   "cell_type": "code",
   "execution_count": 2,
   "metadata": {
    "ExecuteTime": {
     "end_time": "2019-11-05T18:43:54.190951Z",
     "start_time": "2019-11-05T18:43:52.378Z"
    }
   },
   "outputs": [
    {
     "data": {
      "text/plain": [
       "R version 3.4.1 (2017-06-30)\n",
       "Platform: x86_64-pc-linux-gnu (64-bit)\n",
       "Running under: Ubuntu 18.04.3 LTS\n",
       "\n",
       "Matrix products: default\n",
       "BLAS: /ebio/abt3_projects/software/miniconda3_gt4.4/envs/py3_physeq/lib/R/lib/libRblas.so\n",
       "LAPACK: /ebio/abt3_projects/software/miniconda3_gt4.4/envs/py3_physeq/lib/R/lib/libRlapack.so\n",
       "\n",
       "locale:\n",
       " [1] LC_CTYPE=en_US.UTF-8       LC_NUMERIC=C              \n",
       " [3] LC_TIME=en_US.UTF-8        LC_COLLATE=en_US.UTF-8    \n",
       " [5] LC_MONETARY=en_US.UTF-8    LC_MESSAGES=en_US.UTF-8   \n",
       " [7] LC_PAPER=en_US.UTF-8       LC_NAME=C                 \n",
       " [9] LC_ADDRESS=C               LC_TELEPHONE=C            \n",
       "[11] LC_MEASUREMENT=en_US.UTF-8 LC_IDENTIFICATION=C       \n",
       "\n",
       "attached base packages:\n",
       "[1] stats     graphics  grDevices utils     datasets  methods   base     \n",
       "\n",
       "other attached packages:\n",
       "[1] future.apply_1.0.0      future.batchtools_0.7.1 future_1.9.0           \n",
       "\n",
       "loaded via a namespace (and not attached):\n",
       " [1] Rcpp_0.12.17      magrittr_1.5      rappdirs_0.3.1    hms_0.4.2        \n",
       " [5] progress_1.2.0    uuid_0.1-2        R6_2.2.2          rlang_0.2.1      \n",
       " [9] brew_1.0-6        stringr_1.3.1     globals_0.12.2    tools_3.4.1      \n",
       "[13] parallel_3.4.1    checkmate_1.8.5   data.table_1.11.4 withr_2.1.1      \n",
       "[17] htmltools_0.3.6   assertthat_0.2.0  base64url_1.4     digest_0.6.15    \n",
       "[21] crayon_1.3.4      IRdisplay_0.4.4   repr_0.15.0       base64enc_0.1-3  \n",
       "[25] codetools_0.2-15  batchtools_0.9.11 IRkernel_0.8.12   evaluate_0.10.1  \n",
       "[29] pbdZMQ_0.3-2      stringi_1.2.3     compiler_3.4.1    prettyunits_1.0.2\n",
       "[33] backports_1.1.2   jsonlite_1.5      listenv_0.7.0     pkgconfig_2.0.1  "
      ]
     },
     "metadata": {},
     "output_type": "display_data"
    }
   ],
   "source": [
    "sessionInfo()"
   ]
  },
  {
   "cell_type": "code",
   "execution_count": 5,
   "metadata": {
    "ExecuteTime": {
     "end_time": "2019-11-05T19:36:37.203066Z",
     "start_time": "2019-11-05T19:36:36.697Z"
    }
   },
   "outputs": [
    {
     "name": "stderr",
     "output_type": "stream",
     "text": [
      "Sourcing configuration file '~/.batchtools.conf.R' ...\n",
      "Created registry in '/ebio/abt3_projects/software/dev/DeepMAsED/notebooks/01_simulation_datasets/02_train-test_default/registry' using cluster functions 'SGE'\n",
      "Adding 10 jobs ...\n"
     ]
    }
   ],
   "source": [
    "test.batch <- function(ele) {\n",
    "    t = sample(20:50, 1)\n",
    "    print(paste0(\"waking up after \", t, \" seconds.\"))\n",
    "    print(paste0(\"of course you sent me: \", ele, \" bucks.\"))\n",
    "}\n",
    " \n",
    "reg = makeRegistry(conf.file = \"~/.batchtools.conf.R\")\n",
    "batchMap(fun = test.batch, ele = sample(10), reg=reg)"
   ]
  },
  {
   "cell_type": "code",
   "execution_count": 6,
   "metadata": {
    "ExecuteTime": {
     "end_time": "2019-11-05T19:37:03.816774Z",
     "start_time": "2019-11-05T19:37:03.664Z"
    }
   },
   "outputs": [
    {
     "ename": "ERROR",
     "evalue": "Error: \n",
     "output_type": "error",
     "traceback": [
      "Error: \nTraceback:\n",
      "1. submitJobs(resources = list(h_vmem = \"2G\", threads = \"1\"))",
      "2. .findOnSystem(reg = reg, cols = c(\"job.id\", \"batch.id\"))",
      "3. getBatchIds(reg, status = \"all\")",
      "4. unique(cf$listJobsRunning(reg))",
      "5. cf$listJobsRunning(reg)",
      "6. listJobs(reg, c(quote(\"-u $USER\"), \"-s rs\"))",
      "7. OSError(\"Listing of jobs failed\", res)",
      "8. stopf(\"%s (exit code %i);\\ncmd: '%s'\\noutput:\\n%s\", msg, res$exit.code, \n .     stri_flatten(c(res$sys.cmd, res$sys.args), collapse = \" \"), \n .     stri_flatten(res$output, \"\\n\"))"
     ]
    }
   ],
   "source": [
    "submitJobs(resources = list(h_vmem = \"2G\", threads = \"1\"))"
   ]
  },
  {
   "cell_type": "code",
   "execution_count": null,
   "metadata": {},
   "outputs": [],
   "source": []
  }
 ],
 "metadata": {
  "kernelspec": {
   "display_name": "R [conda env:py3_physeq]",
   "language": "R",
   "name": "conda-env-py3_physeq-r"
  },
  "language_info": {
   "codemirror_mode": "r",
   "file_extension": ".r",
   "mimetype": "text/x-r-source",
   "name": "R",
   "pygments_lexer": "r",
   "version": "3.4.1"
  },
  "toc": {
   "base_numbering": 1,
   "nav_menu": {},
   "number_sections": true,
   "sideBar": true,
   "skip_h1_title": false,
   "title_cell": "Table of Contents",
   "title_sidebar": "Contents",
   "toc_cell": true,
   "toc_position": {},
   "toc_section_display": true,
   "toc_window_display": false
  }
 },
 "nbformat": 4,
 "nbformat_minor": 2
}
