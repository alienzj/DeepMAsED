{
 "cells": [
  {
   "cell_type": "markdown",
   "metadata": {
    "toc": true
   },
   "source": [
    "<h1>Table of Contents<span class=\"tocSkip\"></span></h1>\n",
    "<div class=\"toc\"><ul class=\"toc-item\"><li><span><a href=\"#Goal\" data-toc-modified-id=\"Goal-1\"><span class=\"toc-item-num\">1&nbsp;&nbsp;</span>Goal</a></span></li><li><span><a href=\"#Var\" data-toc-modified-id=\"Var-2\"><span class=\"toc-item-num\">2&nbsp;&nbsp;</span>Var</a></span></li><li><span><a href=\"#Init\" data-toc-modified-id=\"Init-3\"><span class=\"toc-item-num\">3&nbsp;&nbsp;</span>Init</a></span></li><li><span><a href=\"#Snakemake-SM-run\" data-toc-modified-id=\"Snakemake-SM-run-4\"><span class=\"toc-item-num\">4&nbsp;&nbsp;</span>Snakemake-SM run</a></span><ul class=\"toc-item\"><li><span><a href=\"#Config\" data-toc-modified-id=\"Config-4.1\"><span class=\"toc-item-num\">4.1&nbsp;&nbsp;</span>Config</a></span></li><li><span><a href=\"#Run\" data-toc-modified-id=\"Run-4.2\"><span class=\"toc-item-num\">4.2&nbsp;&nbsp;</span>Run</a></span></li></ul></li><li><span><a href=\"#Communites\" data-toc-modified-id=\"Communites-5\"><span class=\"toc-item-num\">5&nbsp;&nbsp;</span>Communites</a></span><ul class=\"toc-item\"><li><span><a href=\"#n100_r30\" data-toc-modified-id=\"n100_r30-5.1\"><span class=\"toc-item-num\">5.1&nbsp;&nbsp;</span>n100_r30</a></span></li></ul></li><li><span><a href=\"#Estimated-coverage\" data-toc-modified-id=\"Estimated-coverage-6\"><span class=\"toc-item-num\">6&nbsp;&nbsp;</span>Estimated coverage</a></span></li><li><span><a href=\"#Feature-tables\" data-toc-modified-id=\"Feature-tables-7\"><span class=\"toc-item-num\">7&nbsp;&nbsp;</span>Feature tables</a></span><ul class=\"toc-item\"><li><span><a href=\"#n100_r30\" data-toc-modified-id=\"n100_r30-7.1\"><span class=\"toc-item-num\">7.1&nbsp;&nbsp;</span>n100_r30</a></span><ul class=\"toc-item\"><li><span><a href=\"#Number-of-contigs\" data-toc-modified-id=\"Number-of-contigs-7.1.1\"><span class=\"toc-item-num\">7.1.1&nbsp;&nbsp;</span>Number of contigs</a></span></li><li><span><a href=\"#Misassembly-types\" data-toc-modified-id=\"Misassembly-types-7.1.2\"><span class=\"toc-item-num\">7.1.2&nbsp;&nbsp;</span>Misassembly types</a></span></li></ul></li></ul></li><li><span><a href=\"#sessionInfo\" data-toc-modified-id=\"sessionInfo-8\"><span class=\"toc-item-num\">8&nbsp;&nbsp;</span>sessionInfo</a></span></li></ul></div>"
   ]
  },
  {
   "cell_type": "markdown",
   "metadata": {},
   "source": [
    "# Goal\n",
    "\n",
    "* evaluate the results of the test dataset generation\n",
    "* 2nd run, which include `VALET` "
   ]
  },
  {
   "cell_type": "markdown",
   "metadata": {},
   "source": [
    "# Var"
   ]
  },
  {
   "cell_type": "code",
   "execution_count": 3,
   "metadata": {
    "ExecuteTime": {
     "end_time": "2019-11-25T09:16:52.347977Z",
     "start_time": "2019-11-25T09:16:52.314Z"
    }
   },
   "outputs": [],
   "source": [
    "# location of all training dataset runs\n",
    "work_dir = '/ebio/abt3_projects/databases_no-backup/DeepMAsED/test_runs/'\n",
    "# 100 ref genomes, 30 metagenomes \n",
    "n100_r30_dir = file.path(work_dir, 'n100_r30')\n",
    "\n",
    "\n",
    "# input genome table\n",
    "test_n100_ref_file = '/ebio/abt3_projects/databases_no-backup/DeepMAsED/GTDB_ref_genomes/DeepMAsED_GTDB_genome-refs_test_n100.tsv'\n"
   ]
  },
  {
   "cell_type": "markdown",
   "metadata": {},
   "source": [
    "# Init"
   ]
  },
  {
   "cell_type": "code",
   "execution_count": 6,
   "metadata": {
    "ExecuteTime": {
     "end_time": "2019-11-25T09:16:55.383013Z",
     "start_time": "2019-11-25T09:16:55.346Z"
    }
   },
   "outputs": [],
   "source": [
    "library(dplyr)\n",
    "library(tidyr)\n",
    "library(ggplot2)\n",
    "library(data.table)\n",
    "\n",
    "source('/ebio/abt3_projects/software/dev/DeepMAsED/bin/misc_r_functions/init.R')"
   ]
  },
  {
   "cell_type": "code",
   "execution_count": 5,
   "metadata": {
    "ExecuteTime": {
     "end_time": "2019-11-25T09:16:54.671878Z",
     "start_time": "2019-11-25T09:16:53.002Z"
    }
   },
   "outputs": [],
   "source": [
    "#' \"cat {file}\" in R\n",
    "cat_file = function(file_name){\n",
    "    cmd = paste('cat', file_name, collapse=' ')\n",
    "    system(cmd, intern=TRUE) %>% paste(collapse='\\n') %>% cat\n",
    "}"
   ]
  },
  {
   "cell_type": "markdown",
   "metadata": {},
   "source": [
    "# Snakemake-SM run"
   ]
  },
  {
   "cell_type": "markdown",
   "metadata": {},
   "source": [
    "## Config"
   ]
  },
  {
   "cell_type": "code",
   "execution_count": 7,
   "metadata": {
    "ExecuteTime": {
     "end_time": "2019-11-20T09:14:25.797574Z",
     "start_time": "2019-11-20T09:14:25.759Z"
    }
   },
   "outputs": [
    {
     "name": "stdout",
     "output_type": "stream",
     "text": [
      "# Input\n",
      "genomes_file: /ebio/abt3_projects/databases_no-backup/DeepMAsED/GTDB_ref_genomes/DeepMAsED_GTDB_genome-refs_test_n100.tsv\n",
      "\n",
      "# Output location\n",
      "output_dir: /ebio/abt3_projects/databases_no-backup/DeepMAsED/test_runs/n100_r30/\n",
      "\n",
      "\n",
      "# software parameters\n",
      "# Use \"Skip\" to skip  steps. If no params for rule, use \"\"\n",
      "params:\n",
      "  # simulating metagenomes\n",
      "  reps: 30\n",
      "  MGSIM:\n",
      "    genome_download: \"\"\n",
      "    communities: --richness 1\n",
      "    reads: --sr-seq-depth 1e6 --art-paired --art-mflen 250\n",
      "  # coverage\n",
      "  nonpareil: -T kmer\n",
      "  nonpareil_summary: 1e9   # this is target seq. depth  \n",
      "  # assemblying metagenomes\n",
      "  assemblers:\n",
      "    metaspades: -k auto --only-assembler\n",
      "    megahit: --min-count 3 --min-contig-len 1000 --presets meta-sensitive\n",
      "    idba_ud: Skip #--mink 20 --maxk 100\n",
      "    ray: Skip \n",
      "  # assembly filtering\n",
      "  contig_length_cutoff: 1000       # length in bp \n",
      "  # assessing assembly errors\n",
      "  minimap2: \"\"\n",
      "  metaquast: --min-identity 95 --extensive-mis-size 100 --no-icarus --max-ref-number 0\n",
      "  # mapping reads to contigs\n",
      "  samtools: \"\"\n",
      "  # creating DL features\n",
      "  make_features: \"\"\n",
      "  # state-of-the-art\n",
      "  ## ALE\n",
      "  ALE: \"\"\n",
      "  ## VALET\n",
      "  VALET: \"\"\n",
      "  \n",
      "# snakemake pipeline\n",
      "pipeline:\n",
      "  snakemake_folder: ./\n",
      "  script_folder: ./bin/scripts/\n",
      "  temp_folder: /tmp/global/"
     ]
    }
   ],
   "source": [
    "cat_file(file.path(n100_r30_dir, 'config.yaml'))"
   ]
  },
  {
   "cell_type": "markdown",
   "metadata": {},
   "source": [
    "## Run"
   ]
  },
  {
   "cell_type": "markdown",
   "metadata": {},
   "source": [
    "```\n",
    "(snakemake_dev) @ rick:/ebio/abt3_projects/databases_no-backup/bin/deepmased/DeepMAsED-SM\n",
    "\n",
    "screen -L -S DM-test-n100-redo ./snakemake_sge.sh /ebio/abt3_projects/databases_no-backup/DeepMAsED/test_runs/n100_r30/config.yaml cluster.json /ebio/abt3_projects/databases_no-backup/DeepMAsED/test_runs/n100_r30/SGE_log 16\n",
    "```\n"
   ]
  },
  {
   "cell_type": "markdown",
   "metadata": {},
   "source": [
    "# Communites\n",
    "\n",
    "* Simulated abundances of each ref genome"
   ]
  },
  {
   "cell_type": "markdown",
   "metadata": {},
   "source": [
    "## n100_r30"
   ]
  },
  {
   "cell_type": "code",
   "execution_count": 7,
   "metadata": {
    "ExecuteTime": {
     "end_time": "2019-11-25T09:16:58.088140Z",
     "start_time": "2019-11-25T09:16:57.956Z"
    }
   },
   "outputs": [
    {
     "name": "stdout",
     "output_type": "stream",
     "text": [
      "[1] 30\n"
     ]
    },
    {
     "data": {
      "text/html": [
       "<ol class=list-inline>\n",
       "\t<li>'/ebio/abt3_projects/databases_no-backup/DeepMAsED/test_runs//n100_r30/MGSIM/1/comm_wAbund.txt'</li>\n",
       "\t<li>'/ebio/abt3_projects/databases_no-backup/DeepMAsED/test_runs//n100_r30/MGSIM/10/comm_wAbund.txt'</li>\n",
       "\t<li>'/ebio/abt3_projects/databases_no-backup/DeepMAsED/test_runs//n100_r30/MGSIM/11/comm_wAbund.txt'</li>\n",
       "\t<li>'/ebio/abt3_projects/databases_no-backup/DeepMAsED/test_runs//n100_r30/MGSIM/12/comm_wAbund.txt'</li>\n",
       "\t<li>'/ebio/abt3_projects/databases_no-backup/DeepMAsED/test_runs//n100_r30/MGSIM/13/comm_wAbund.txt'</li>\n",
       "\t<li>'/ebio/abt3_projects/databases_no-backup/DeepMAsED/test_runs//n100_r30/MGSIM/14/comm_wAbund.txt'</li>\n",
       "</ol>\n"
      ],
      "text/latex": [
       "\\begin{enumerate*}\n",
       "\\item '/ebio/abt3\\_projects/databases\\_no-backup/DeepMAsED/test\\_runs//n100\\_r30/MGSIM/1/comm\\_wAbund.txt'\n",
       "\\item '/ebio/abt3\\_projects/databases\\_no-backup/DeepMAsED/test\\_runs//n100\\_r30/MGSIM/10/comm\\_wAbund.txt'\n",
       "\\item '/ebio/abt3\\_projects/databases\\_no-backup/DeepMAsED/test\\_runs//n100\\_r30/MGSIM/11/comm\\_wAbund.txt'\n",
       "\\item '/ebio/abt3\\_projects/databases\\_no-backup/DeepMAsED/test\\_runs//n100\\_r30/MGSIM/12/comm\\_wAbund.txt'\n",
       "\\item '/ebio/abt3\\_projects/databases\\_no-backup/DeepMAsED/test\\_runs//n100\\_r30/MGSIM/13/comm\\_wAbund.txt'\n",
       "\\item '/ebio/abt3\\_projects/databases\\_no-backup/DeepMAsED/test\\_runs//n100\\_r30/MGSIM/14/comm\\_wAbund.txt'\n",
       "\\end{enumerate*}\n"
      ],
      "text/markdown": [
       "1. '/ebio/abt3_projects/databases_no-backup/DeepMAsED/test_runs//n100_r30/MGSIM/1/comm_wAbund.txt'\n",
       "2. '/ebio/abt3_projects/databases_no-backup/DeepMAsED/test_runs//n100_r30/MGSIM/10/comm_wAbund.txt'\n",
       "3. '/ebio/abt3_projects/databases_no-backup/DeepMAsED/test_runs//n100_r30/MGSIM/11/comm_wAbund.txt'\n",
       "4. '/ebio/abt3_projects/databases_no-backup/DeepMAsED/test_runs//n100_r30/MGSIM/12/comm_wAbund.txt'\n",
       "5. '/ebio/abt3_projects/databases_no-backup/DeepMAsED/test_runs//n100_r30/MGSIM/13/comm_wAbund.txt'\n",
       "6. '/ebio/abt3_projects/databases_no-backup/DeepMAsED/test_runs//n100_r30/MGSIM/14/comm_wAbund.txt'\n",
       "\n",
       "\n"
      ],
      "text/plain": [
       "[1] \"/ebio/abt3_projects/databases_no-backup/DeepMAsED/test_runs//n100_r30/MGSIM/1/comm_wAbund.txt\" \n",
       "[2] \"/ebio/abt3_projects/databases_no-backup/DeepMAsED/test_runs//n100_r30/MGSIM/10/comm_wAbund.txt\"\n",
       "[3] \"/ebio/abt3_projects/databases_no-backup/DeepMAsED/test_runs//n100_r30/MGSIM/11/comm_wAbund.txt\"\n",
       "[4] \"/ebio/abt3_projects/databases_no-backup/DeepMAsED/test_runs//n100_r30/MGSIM/12/comm_wAbund.txt\"\n",
       "[5] \"/ebio/abt3_projects/databases_no-backup/DeepMAsED/test_runs//n100_r30/MGSIM/13/comm_wAbund.txt\"\n",
       "[6] \"/ebio/abt3_projects/databases_no-backup/DeepMAsED/test_runs//n100_r30/MGSIM/14/comm_wAbund.txt\""
      ]
     },
     "metadata": {},
     "output_type": "display_data"
    }
   ],
   "source": [
    "comm_files = list.files(file.path(n100_r30_dir, 'MGSIM'), 'comm_wAbund.txt', full.names=TRUE, recursive=TRUE)\n",
    "comm_files %>% length %>% print\n",
    "comm_files %>% head"
   ]
  },
  {
   "cell_type": "code",
   "execution_count": 8,
   "metadata": {
    "ExecuteTime": {
     "end_time": "2019-11-25T09:16:58.640335Z",
     "start_time": "2019-11-25T09:16:58.337Z"
    }
   },
   "outputs": [
    {
     "name": "stdout",
     "output_type": "stream",
     "text": [
      "[1] 2970    5\n"
     ]
    },
    {
     "data": {
      "text/html": [
       "<table>\n",
       "<thead><tr><th scope=col>Community</th><th scope=col>Taxon</th><th scope=col>Perc_rel_abund</th><th scope=col>Rank</th><th scope=col>Rep</th></tr></thead>\n",
       "<tbody>\n",
       "\t<tr><td>1                                                                   </td><td>RS_GCF_000378225_1_Methylophilus_methylotrophus_DSM_46235_ATCC_53528</td><td>16.733938                                                           </td><td>1                                                                   </td><td>1                                                                   </td></tr>\n",
       "\t<tr><td>1                                                                   </td><td>RS_GCF_900100825_1_Agrobacterium_sp_DSM_25558                       </td><td>10.253782                                                           </td><td>2                                                                   </td><td>1                                                                   </td></tr>\n",
       "\t<tr><td>1                                                                   </td><td>RS_GCF_002246015_1_Nostoc_sp_Peltigera_membranacea_cyanobiont_210A  </td><td> 6.494903                                                           </td><td>3                                                                   </td><td>1                                                                   </td></tr>\n",
       "</tbody>\n",
       "</table>\n"
      ],
      "text/latex": [
       "\\begin{tabular}{r|lllll}\n",
       " Community & Taxon & Perc\\_rel\\_abund & Rank & Rep\\\\\n",
       "\\hline\n",
       "\t 1                                                                                      & RS\\_GCF\\_000378225\\_1\\_Methylophilus\\_methylotrophus\\_DSM\\_46235\\_ATCC\\_53528 & 16.733938                                                                              & 1                                                                                      & 1                                                                                     \\\\\n",
       "\t 1                                                                                  & RS\\_GCF\\_900100825\\_1\\_Agrobacterium\\_sp\\_DSM\\_25558                        & 10.253782                                                                          & 2                                                                                  & 1                                                                                 \\\\\n",
       "\t 1                                                                                      & RS\\_GCF\\_002246015\\_1\\_Nostoc\\_sp\\_Peltigera\\_membranacea\\_cyanobiont\\_210A   &  6.494903                                                                              & 3                                                                                      & 1                                                                                     \\\\\n",
       "\\end{tabular}\n"
      ],
      "text/markdown": [
       "\n",
       "Community | Taxon | Perc_rel_abund | Rank | Rep | \n",
       "|---|---|---|\n",
       "| 1                                                                    | RS_GCF_000378225_1_Methylophilus_methylotrophus_DSM_46235_ATCC_53528 | 16.733938                                                            | 1                                                                    | 1                                                                    | \n",
       "| 1                                                                    | RS_GCF_900100825_1_Agrobacterium_sp_DSM_25558                        | 10.253782                                                            | 2                                                                    | 1                                                                    | \n",
       "| 1                                                                    | RS_GCF_002246015_1_Nostoc_sp_Peltigera_membranacea_cyanobiont_210A   |  6.494903                                                            | 3                                                                    | 1                                                                    | \n",
       "\n",
       "\n"
      ],
      "text/plain": [
       "  Community\n",
       "1 1        \n",
       "2 1        \n",
       "3 1        \n",
       "  Taxon                                                               \n",
       "1 RS_GCF_000378225_1_Methylophilus_methylotrophus_DSM_46235_ATCC_53528\n",
       "2 RS_GCF_900100825_1_Agrobacterium_sp_DSM_25558                       \n",
       "3 RS_GCF_002246015_1_Nostoc_sp_Peltigera_membranacea_cyanobiont_210A  \n",
       "  Perc_rel_abund Rank Rep\n",
       "1 16.733938      1    1  \n",
       "2 10.253782      2    1  \n",
       "3  6.494903      3    1  "
      ]
     },
     "metadata": {},
     "output_type": "display_data"
    }
   ],
   "source": [
    "comms = list()\n",
    "for(F in comm_files){\n",
    "    df = read.delim(F, sep='\\t')\n",
    "    df$Rep = basename(dirname(F))\n",
    "    comms[[F]] = df\n",
    "}\n",
    "comms = do.call(rbind, comms)\n",
    "rownames(comms) = 1:nrow(comms)\n",
    "comms %>% dfhead"
   ]
  },
  {
   "cell_type": "code",
   "execution_count": 9,
   "metadata": {
    "ExecuteTime": {
     "end_time": "2019-11-25T09:17:00.891574Z",
     "start_time": "2019-11-25T09:16:59.033Z"
    }
   },
   "outputs": [
    {
     "data": {
      "image/png": "[encoded data removed]",
      "text/plain": [
       "plot without title"
      ]
     },
     "metadata": {},
     "output_type": "display_data"
    }
   ],
   "source": [
    "p = comms %>%\n",
    "    mutate(Perc_rel_abund = ifelse(Perc_rel_abund == 0, 1e-5, Perc_rel_abund)) %>%\n",
    "    group_by(Taxon) %>%\n",
    "    summarize(mean_perc_abund = mean(Perc_rel_abund),\n",
    "              sd_perc_abund = sd(Perc_rel_abund)) %>%\n",
    "    ungroup() %>%\n",
    "    mutate(neg_sd_perc_abund = mean_perc_abund - sd_perc_abund,\n",
    "           pos_sd_perc_abund = mean_perc_abund + sd_perc_abund,\n",
    "           neg_sd_perc_abund = ifelse(neg_sd_perc_abund <= 0, 1e-5, neg_sd_perc_abund)) %>%\n",
    "    mutate(Taxon = Taxon %>% reorder(-mean_perc_abund)) %>%\n",
    "    ggplot(aes(Taxon, mean_perc_abund)) +\n",
    "    geom_linerange(aes(ymin=neg_sd_perc_abund, ymax=pos_sd_perc_abund),\n",
    "                   size=0.3, alpha=0.3) +\n",
    "    geom_point(size=0.5, alpha=0.4, color='red') +\n",
    "    labs(y='% abundance') +\n",
    "    theme_bw() +\n",
    "    theme(\n",
    "        axis.text.x = element_blank(),\n",
    "        panel.grid.major.x = element_blank(), \n",
    "        panel.grid.major.y = element_blank(), \n",
    "        panel.grid.minor.x = element_blank(),\n",
    "        panel.grid.minor.y = element_blank()\n",
    "    )\n",
    "\n",
    "dims(10,2.5)\n",
    "plot(p)"
   ]
  },
  {
   "cell_type": "code",
   "execution_count": 10,
   "metadata": {
    "ExecuteTime": {
     "end_time": "2019-11-25T09:17:02.125650Z",
     "start_time": "2019-11-25T09:17:00.121Z"
    }
   },
   "outputs": [
    {
     "data": {
      "image/png": "[encoded data removed]",
      "text/plain": [
       "plot without title"
      ]
     },
     "metadata": {},
     "output_type": "display_data"
    }
   ],
   "source": [
    "dims(10,2.5)\n",
    "plot(p + scale_y_log10())"
   ]
  },
  {
   "cell_type": "markdown",
   "metadata": {},
   "source": [
    "# Estimated coverage\n",
    "\n",
    "* Coverage estimated with nonpareil"
   ]
  },
  {
   "cell_type": "code",
   "execution_count": 11,
   "metadata": {
    "ExecuteTime": {
     "end_time": "2019-11-25T09:17:02.163049Z",
     "start_time": "2019-11-25T09:17:00.969Z"
    }
   },
   "outputs": [
    {
     "name": "stdout",
     "output_type": "stream",
     "text": [
      "     Sample            C                LR                modelR      \n",
      " Min.   : 1.00   Min.   :0.4833   Min.   :149354400   Min.   :0.9987  \n",
      " 1st Qu.: 8.25   1st Qu.:0.5554   1st Qu.:149607075   1st Qu.:0.9994  \n",
      " Median :15.50   Median :0.6349   Median :149704425   Median :0.9996  \n",
      " Mean   :15.50   Mean   :0.6310   Mean   :149680020   Mean   :0.9995  \n",
      " 3rd Qu.:22.75   3rd Qu.:0.6836   3rd Qu.:149779950   3rd Qu.:0.9997  \n",
      " Max.   :30.00   Max.   :0.8856   Max.   :149846550   Max.   :0.9998  \n",
      "     LRstar            diversity    \n",
      " Min.   :2.306e+08   Min.   :16.21  \n",
      " 1st Qu.:1.365e+09   1st Qu.:17.68  \n",
      " Median :1.968e+09   Median :17.92  \n",
      " Mean   :2.148e+09   Mean   :17.94  \n",
      " 3rd Qu.:2.917e+09   3rd Qu.:18.32  \n",
      " Max.   :4.501e+09   Max.   :18.78  \n"
     ]
    }
   ],
   "source": [
    "F = file.path(n100_r30_dir, 'coverage', 'nonpareil', 'all_summary.txt')\n",
    "cov = read.delim(F, sep='\\t')\n",
    "cov %>% summary %>% print"
   ]
  },
  {
   "cell_type": "markdown",
   "metadata": {},
   "source": [
    "# Feature tables\n",
    "\n",
    "* feature tables for ML model training/testing"
   ]
  },
  {
   "cell_type": "markdown",
   "metadata": {},
   "source": [
    "## n100_r30"
   ]
  },
  {
   "cell_type": "code",
   "execution_count": 12,
   "metadata": {
    "ExecuteTime": {
     "end_time": "2019-11-25T09:17:02.265411Z",
     "start_time": "2019-11-25T09:17:02.200Z"
    }
   },
   "outputs": [
    {
     "name": "stdout",
     "output_type": "stream",
     "text": [
      "[1] 60\n"
     ]
    },
    {
     "data": {
      "text/html": [
       "<ol class=list-inline>\n",
       "\t<li>'/ebio/abt3_projects/databases_no-backup/DeepMAsED/test_runs//n100_r30/map/1/megahit/features.tsv.gz'</li>\n",
       "\t<li>'/ebio/abt3_projects/databases_no-backup/DeepMAsED/test_runs//n100_r30/map/1/metaspades/features.tsv.gz'</li>\n",
       "\t<li>'/ebio/abt3_projects/databases_no-backup/DeepMAsED/test_runs//n100_r30/map/10/megahit/features.tsv.gz'</li>\n",
       "\t<li>'/ebio/abt3_projects/databases_no-backup/DeepMAsED/test_runs//n100_r30/map/10/metaspades/features.tsv.gz'</li>\n",
       "\t<li>'/ebio/abt3_projects/databases_no-backup/DeepMAsED/test_runs//n100_r30/map/11/megahit/features.tsv.gz'</li>\n",
       "\t<li>'/ebio/abt3_projects/databases_no-backup/DeepMAsED/test_runs//n100_r30/map/11/metaspades/features.tsv.gz'</li>\n",
       "</ol>\n"
      ],
      "text/latex": [
       "\\begin{enumerate*}\n",
       "\\item '/ebio/abt3\\_projects/databases\\_no-backup/DeepMAsED/test\\_runs//n100\\_r30/map/1/megahit/features.tsv.gz'\n",
       "\\item '/ebio/abt3\\_projects/databases\\_no-backup/DeepMAsED/test\\_runs//n100\\_r30/map/1/metaspades/features.tsv.gz'\n",
       "\\item '/ebio/abt3\\_projects/databases\\_no-backup/DeepMAsED/test\\_runs//n100\\_r30/map/10/megahit/features.tsv.gz'\n",
       "\\item '/ebio/abt3\\_projects/databases\\_no-backup/DeepMAsED/test\\_runs//n100\\_r30/map/10/metaspades/features.tsv.gz'\n",
       "\\item '/ebio/abt3\\_projects/databases\\_no-backup/DeepMAsED/test\\_runs//n100\\_r30/map/11/megahit/features.tsv.gz'\n",
       "\\item '/ebio/abt3\\_projects/databases\\_no-backup/DeepMAsED/test\\_runs//n100\\_r30/map/11/metaspades/features.tsv.gz'\n",
       "\\end{enumerate*}\n"
      ],
      "text/markdown": [
       "1. '/ebio/abt3_projects/databases_no-backup/DeepMAsED/test_runs//n100_r30/map/1/megahit/features.tsv.gz'\n",
       "2. '/ebio/abt3_projects/databases_no-backup/DeepMAsED/test_runs//n100_r30/map/1/metaspades/features.tsv.gz'\n",
       "3. '/ebio/abt3_projects/databases_no-backup/DeepMAsED/test_runs//n100_r30/map/10/megahit/features.tsv.gz'\n",
       "4. '/ebio/abt3_projects/databases_no-backup/DeepMAsED/test_runs//n100_r30/map/10/metaspades/features.tsv.gz'\n",
       "5. '/ebio/abt3_projects/databases_no-backup/DeepMAsED/test_runs//n100_r30/map/11/megahit/features.tsv.gz'\n",
       "6. '/ebio/abt3_projects/databases_no-backup/DeepMAsED/test_runs//n100_r30/map/11/metaspades/features.tsv.gz'\n",
       "\n",
       "\n"
      ],
      "text/plain": [
       "[1] \"/ebio/abt3_projects/databases_no-backup/DeepMAsED/test_runs//n100_r30/map/1/megahit/features.tsv.gz\"    \n",
       "[2] \"/ebio/abt3_projects/databases_no-backup/DeepMAsED/test_runs//n100_r30/map/1/metaspades/features.tsv.gz\" \n",
       "[3] \"/ebio/abt3_projects/databases_no-backup/DeepMAsED/test_runs//n100_r30/map/10/megahit/features.tsv.gz\"   \n",
       "[4] \"/ebio/abt3_projects/databases_no-backup/DeepMAsED/test_runs//n100_r30/map/10/metaspades/features.tsv.gz\"\n",
       "[5] \"/ebio/abt3_projects/databases_no-backup/DeepMAsED/test_runs//n100_r30/map/11/megahit/features.tsv.gz\"   \n",
       "[6] \"/ebio/abt3_projects/databases_no-backup/DeepMAsED/test_runs//n100_r30/map/11/metaspades/features.tsv.gz\""
      ]
     },
     "metadata": {},
     "output_type": "display_data"
    }
   ],
   "source": [
    "feat_files = list.files(file.path(n100_r30_dir, 'map'), 'features.tsv.gz', full.names=TRUE, recursive=TRUE)\n",
    "feat_files %>% length %>% print\n",
    "feat_files %>% head"
   ]
  },
  {
   "cell_type": "code",
   "execution_count": null,
   "metadata": {
    "ExecuteTime": {
     "start_time": "2019-11-25T09:17:02.321Z"
    }
   },
   "outputs": [],
   "source": [
    "feats = list()\n",
    "for(F in feat_files){\n",
    "    cmd = glue::glue('gunzip -c {F}', F=F)\n",
    "    df = fread(cmd, sep='\\t') %>%\n",
    "        distinct(contig, assembler, Extensive_misassembly)\n",
    "    df$Rep = basename(dirname(dirname(F)))\n",
    "    feats[[F]] = df\n",
    "}\n",
    "feats = do.call(rbind, feats)\n",
    "rownames(feats) = 1:nrow(feats)\n",
    "feats %>% dfhead"
   ]
  },
  {
   "cell_type": "markdown",
   "metadata": {},
   "source": [
    "### Number of contigs"
   ]
  },
  {
   "cell_type": "code",
   "execution_count": null,
   "metadata": {
    "ExecuteTime": {
     "start_time": "2019-11-25T09:17:03.625Z"
    }
   },
   "outputs": [],
   "source": [
    "feats_s = feats %>%\n",
    "    group_by(assembler, Rep) %>%\n",
    "    summarize(n_contigs = n_distinct(contig)) %>%\n",
    "    ungroup \n",
    "\n",
    "feats_s$n_contigs %>% summary"
   ]
  },
  {
   "cell_type": "markdown",
   "metadata": {},
   "source": [
    "### Misassembly types"
   ]
  },
  {
   "cell_type": "code",
   "execution_count": null,
   "metadata": {
    "ExecuteTime": {
     "start_time": "2019-11-25T09:17:04.225Z"
    }
   },
   "outputs": [],
   "source": [
    "p = feats %>%\n",
    "    mutate(Extensive_misassembly = ifelse(Extensive_misassembly == '', 'None',\n",
    "                                          Extensive_misassembly)) %>%\n",
    "    group_by(Extensive_misassembly, assembler, Rep) %>%\n",
    "    summarize(n = n()) %>%\n",
    "    ungroup() %>%\n",
    "    ggplot(aes(Extensive_misassembly, n, color=assembler)) +\n",
    "    geom_boxplot() +\n",
    "    scale_y_log10() +\n",
    "    labs(x='metaQUAST extensive mis-assembly', y='Count') +\n",
    "    coord_flip() +\n",
    "    theme_bw() +\n",
    "    theme(\n",
    "        axis.text.x = element_text(angle=45, hjust=1)\n",
    "    )\n",
    "\n",
    "dims(7,4)\n",
    "plot(p)"
   ]
  },
  {
   "cell_type": "markdown",
   "metadata": {},
   "source": [
    "# sessionInfo"
   ]
  },
  {
   "cell_type": "code",
   "execution_count": null,
   "metadata": {
    "ExecuteTime": {
     "start_time": "2019-11-25T09:17:04.881Z"
    }
   },
   "outputs": [],
   "source": [
    "sessionInfo()"
   ]
  },
  {
   "cell_type": "code",
   "execution_count": null,
   "metadata": {},
   "outputs": [],
   "source": []
  }
 ],
 "metadata": {
  "kernelspec": {
   "display_name": "R [conda env:py3_physeq]",
   "language": "R",
   "name": "conda-env-py3_physeq-r"
  },
  "language_info": {
   "codemirror_mode": "r",
   "file_extension": ".r",
   "mimetype": "text/x-r-source",
   "name": "R",
   "pygments_lexer": "r",
   "version": "3.4.1"
  },
  "toc": {
   "base_numbering": 1,
   "nav_menu": {},
   "number_sections": true,
   "sideBar": true,
   "skip_h1_title": false,
   "title_cell": "Table of Contents",
   "title_sidebar": "Contents",
   "toc_cell": true,
   "toc_position": {},
   "toc_section_display": true,
   "toc_window_display": true
  }
 },
 "nbformat": 4,
 "nbformat_minor": 2
}
