{
 "cells": [
  {
   "cell_type": "markdown",
   "metadata": {
    "toc": true
   },
   "source": [
    "<h1>Table of Contents<span class=\"tocSkip\"></span></h1>\n",
    "<div class=\"toc\"><ul class=\"toc-item\"><li><span><a href=\"#Goal\" data-toc-modified-id=\"Goal-1\"><span class=\"toc-item-num\">1&nbsp;&nbsp;</span>Goal</a></span></li><li><span><a href=\"#Var\" data-toc-modified-id=\"Var-2\"><span class=\"toc-item-num\">2&nbsp;&nbsp;</span>Var</a></span><ul class=\"toc-item\"><li><span><a href=\"#Init\" data-toc-modified-id=\"Init-2.1\"><span class=\"toc-item-num\">2.1&nbsp;&nbsp;</span>Init</a></span></li></ul></li><li><span><a href=\"#DeepMAsED-SM\" data-toc-modified-id=\"DeepMAsED-SM-3\"><span class=\"toc-item-num\">3&nbsp;&nbsp;</span>DeepMAsED-SM</a></span><ul class=\"toc-item\"><li><span><a href=\"#Config\" data-toc-modified-id=\"Config-3.1\"><span class=\"toc-item-num\">3.1&nbsp;&nbsp;</span>Config</a></span></li><li><span><a href=\"#Run\" data-toc-modified-id=\"Run-3.2\"><span class=\"toc-item-num\">3.2&nbsp;&nbsp;</span>Run</a></span></li></ul></li><li><span><a href=\"#Summary\" data-toc-modified-id=\"Summary-4\"><span class=\"toc-item-num\">4&nbsp;&nbsp;</span>Summary</a></span><ul class=\"toc-item\"><li><span><a href=\"#Communities\" data-toc-modified-id=\"Communities-4.1\"><span class=\"toc-item-num\">4.1&nbsp;&nbsp;</span>Communities</a></span></li><li><span><a href=\"#Feature-tables\" data-toc-modified-id=\"Feature-tables-4.2\"><span class=\"toc-item-num\">4.2&nbsp;&nbsp;</span>Feature tables</a></span><ul class=\"toc-item\"><li><span><a href=\"#No.-of-contigs\" data-toc-modified-id=\"No.-of-contigs-4.2.1\"><span class=\"toc-item-num\">4.2.1&nbsp;&nbsp;</span>No. of contigs</a></span></li><li><span><a href=\"#Misassembly-types\" data-toc-modified-id=\"Misassembly-types-4.2.2\"><span class=\"toc-item-num\">4.2.2&nbsp;&nbsp;</span>Misassembly types</a></span></li></ul></li></ul></li><li><span><a href=\"#sessionInfo\" data-toc-modified-id=\"sessionInfo-5\"><span class=\"toc-item-num\">5&nbsp;&nbsp;</span>sessionInfo</a></span></li></ul></div>"
   ]
  },
  {
   "cell_type": "markdown",
   "metadata": {},
   "source": [
    "# Goal\n",
    "\n",
    "* Replicate metagenome assemblies using intra-spec training genome dataset\n",
    "* Richness = 0.9 (90% of all ref genomes used)"
   ]
  },
  {
   "cell_type": "markdown",
   "metadata": {},
   "source": [
    "# Var"
   ]
  },
  {
   "cell_type": "code",
   "execution_count": 3,
   "metadata": {
    "ExecuteTime": {
     "end_time": "2019-12-05T18:03:20.800798Z",
     "start_time": "2019-12-05T18:03:20.743Z"
    }
   },
   "outputs": [],
   "source": [
    "ref_dir = '/ebio/abt3_projects/databases_no-backup/DeepMAsED/GTDB_ref_genomes/intraSpec/'\n",
    "ref_file = file.path(ref_dir, 'GTDBr86_genome-refs_train_clean.tsv')\n",
    "work_dir = '/ebio/abt3_projects/databases_no-backup/DeepMAsED/train_runs/intra-species/diff_richness/n1000_r6_rich0p9/'\n",
    "\n",
    "# params\n",
    "pipeline_dir = '/ebio/abt3_projects/databases_no-backup/bin/deepmased/DeepMAsED-SM/'"
   ]
  },
  {
   "cell_type": "markdown",
   "metadata": {},
   "source": [
    "## Init"
   ]
  },
  {
   "cell_type": "code",
   "execution_count": 6,
   "metadata": {
    "ExecuteTime": {
     "end_time": "2019-12-05T18:03:23.772152Z",
     "start_time": "2019-12-05T18:03:23.710Z"
    }
   },
   "outputs": [],
   "source": [
    "library(dplyr)\n",
    "library(tidyr)\n",
    "library(ggplot2)\n",
    "library(data.table)\n",
    "source('/ebio/abt3_projects/software/dev/DeepMAsED/bin/misc_r_functions/init.R')"
   ]
  },
  {
   "cell_type": "code",
   "execution_count": 5,
   "metadata": {
    "ExecuteTime": {
     "end_time": "2019-12-05T18:03:22.916371Z",
     "start_time": "2019-12-05T18:03:21.684Z"
    }
   },
   "outputs": [],
   "source": [
    "#' \"cat {file}\" in R\n",
    "cat_file = function(file_name){\n",
    "    cmd = paste('cat', file_name, collapse=' ')\n",
    "    system(cmd, intern=TRUE) %>% paste(collapse='\\n') %>% cat\n",
    "}"
   ]
  },
  {
   "cell_type": "markdown",
   "metadata": {},
   "source": [
    "# DeepMAsED-SM"
   ]
  },
  {
   "cell_type": "markdown",
   "metadata": {},
   "source": [
    "## Config"
   ]
  },
  {
   "cell_type": "code",
   "execution_count": null,
   "metadata": {
    "ExecuteTime": {
     "end_time": "2019-11-25T19:46:11.162459Z",
     "start_time": "2019-11-25T19:46:11.102Z"
    }
   },
   "outputs": [],
   "source": [
    "config_file = file.path(work_dir, 'config.yaml')\n",
    "cat_file(config_file)"
   ]
  },
  {
   "cell_type": "markdown",
   "metadata": {},
   "source": [
    "## Run"
   ]
  },
  {
   "cell_type": "markdown",
   "metadata": {},
   "source": [
    "```\n",
    "(snakemake_dev) @ rick:/ebio/abt3_projects/databases_no-backup/bin/deepmased/DeepMAsED-SM\n",
    "$ screen -L -S DM-intraS-rich0.9 ./snakemake_sge.sh /ebio/abt3_projects/databases_no-backup/DeepMAsED/train_runs/intra-species/diff_richness/n1000_r6_rich0p9/config.yaml cluster.json /ebio/abt3_projects/databases_no-backup/DeepMAsED/train_runs/intra-species/diff_richness/n1000_r6_rich0p9/SGE_log 24\n",
    "```"
   ]
  },
  {
   "cell_type": "markdown",
   "metadata": {},
   "source": [
    "# Summary"
   ]
  },
  {
   "cell_type": "markdown",
   "metadata": {},
   "source": [
    "## Communities"
   ]
  },
  {
   "cell_type": "code",
   "execution_count": 7,
   "metadata": {
    "ExecuteTime": {
     "end_time": "2019-12-05T18:03:26.996583Z",
     "start_time": "2019-12-05T18:03:26.853Z"
    }
   },
   "outputs": [
    {
     "name": "stdout",
     "output_type": "stream",
     "text": [
      "[1] 6\n"
     ]
    },
    {
     "data": {
      "text/html": [
       "<ol class=list-inline>\n",
       "\t<li>'/ebio/abt3_projects/databases_no-backup/DeepMAsED/train_runs/intra-species/diff_richness/n1000_r6_rich0p9//MGSIM/1/comm_wAbund.txt'</li>\n",
       "\t<li>'/ebio/abt3_projects/databases_no-backup/DeepMAsED/train_runs/intra-species/diff_richness/n1000_r6_rich0p9//MGSIM/2/comm_wAbund.txt'</li>\n",
       "\t<li>'/ebio/abt3_projects/databases_no-backup/DeepMAsED/train_runs/intra-species/diff_richness/n1000_r6_rich0p9//MGSIM/3/comm_wAbund.txt'</li>\n",
       "\t<li>'/ebio/abt3_projects/databases_no-backup/DeepMAsED/train_runs/intra-species/diff_richness/n1000_r6_rich0p9//MGSIM/4/comm_wAbund.txt'</li>\n",
       "\t<li>'/ebio/abt3_projects/databases_no-backup/DeepMAsED/train_runs/intra-species/diff_richness/n1000_r6_rich0p9//MGSIM/5/comm_wAbund.txt'</li>\n",
       "\t<li>'/ebio/abt3_projects/databases_no-backup/DeepMAsED/train_runs/intra-species/diff_richness/n1000_r6_rich0p9//MGSIM/6/comm_wAbund.txt'</li>\n",
       "</ol>\n"
      ],
      "text/latex": [
       "\\begin{enumerate*}\n",
       "\\item '/ebio/abt3\\_projects/databases\\_no-backup/DeepMAsED/train\\_runs/intra-species/diff\\_richness/n1000\\_r6\\_rich0p9//MGSIM/1/comm\\_wAbund.txt'\n",
       "\\item '/ebio/abt3\\_projects/databases\\_no-backup/DeepMAsED/train\\_runs/intra-species/diff\\_richness/n1000\\_r6\\_rich0p9//MGSIM/2/comm\\_wAbund.txt'\n",
       "\\item '/ebio/abt3\\_projects/databases\\_no-backup/DeepMAsED/train\\_runs/intra-species/diff\\_richness/n1000\\_r6\\_rich0p9//MGSIM/3/comm\\_wAbund.txt'\n",
       "\\item '/ebio/abt3\\_projects/databases\\_no-backup/DeepMAsED/train\\_runs/intra-species/diff\\_richness/n1000\\_r6\\_rich0p9//MGSIM/4/comm\\_wAbund.txt'\n",
       "\\item '/ebio/abt3\\_projects/databases\\_no-backup/DeepMAsED/train\\_runs/intra-species/diff\\_richness/n1000\\_r6\\_rich0p9//MGSIM/5/comm\\_wAbund.txt'\n",
       "\\item '/ebio/abt3\\_projects/databases\\_no-backup/DeepMAsED/train\\_runs/intra-species/diff\\_richness/n1000\\_r6\\_rich0p9//MGSIM/6/comm\\_wAbund.txt'\n",
       "\\end{enumerate*}\n"
      ],
      "text/markdown": [
       "1. '/ebio/abt3_projects/databases_no-backup/DeepMAsED/train_runs/intra-species/diff_richness/n1000_r6_rich0p9//MGSIM/1/comm_wAbund.txt'\n",
       "2. '/ebio/abt3_projects/databases_no-backup/DeepMAsED/train_runs/intra-species/diff_richness/n1000_r6_rich0p9//MGSIM/2/comm_wAbund.txt'\n",
       "3. '/ebio/abt3_projects/databases_no-backup/DeepMAsED/train_runs/intra-species/diff_richness/n1000_r6_rich0p9//MGSIM/3/comm_wAbund.txt'\n",
       "4. '/ebio/abt3_projects/databases_no-backup/DeepMAsED/train_runs/intra-species/diff_richness/n1000_r6_rich0p9//MGSIM/4/comm_wAbund.txt'\n",
       "5. '/ebio/abt3_projects/databases_no-backup/DeepMAsED/train_runs/intra-species/diff_richness/n1000_r6_rich0p9//MGSIM/5/comm_wAbund.txt'\n",
       "6. '/ebio/abt3_projects/databases_no-backup/DeepMAsED/train_runs/intra-species/diff_richness/n1000_r6_rich0p9//MGSIM/6/comm_wAbund.txt'\n",
       "\n",
       "\n"
      ],
      "text/plain": [
       "[1] \"/ebio/abt3_projects/databases_no-backup/DeepMAsED/train_runs/intra-species/diff_richness/n1000_r6_rich0p9//MGSIM/1/comm_wAbund.txt\"\n",
       "[2] \"/ebio/abt3_projects/databases_no-backup/DeepMAsED/train_runs/intra-species/diff_richness/n1000_r6_rich0p9//MGSIM/2/comm_wAbund.txt\"\n",
       "[3] \"/ebio/abt3_projects/databases_no-backup/DeepMAsED/train_runs/intra-species/diff_richness/n1000_r6_rich0p9//MGSIM/3/comm_wAbund.txt\"\n",
       "[4] \"/ebio/abt3_projects/databases_no-backup/DeepMAsED/train_runs/intra-species/diff_richness/n1000_r6_rich0p9//MGSIM/4/comm_wAbund.txt\"\n",
       "[5] \"/ebio/abt3_projects/databases_no-backup/DeepMAsED/train_runs/intra-species/diff_richness/n1000_r6_rich0p9//MGSIM/5/comm_wAbund.txt\"\n",
       "[6] \"/ebio/abt3_projects/databases_no-backup/DeepMAsED/train_runs/intra-species/diff_richness/n1000_r6_rich0p9//MGSIM/6/comm_wAbund.txt\""
      ]
     },
     "metadata": {},
     "output_type": "display_data"
    }
   ],
   "source": [
    "comm_files = list.files(file.path(work_dir, 'MGSIM'), 'comm_wAbund.txt', full.names=TRUE, recursive=TRUE)\n",
    "comm_files %>% length %>% print\n",
    "comm_files %>% head"
   ]
  },
  {
   "cell_type": "code",
   "execution_count": 8,
   "metadata": {
    "ExecuteTime": {
     "end_time": "2019-12-05T18:03:28.656250Z",
     "start_time": "2019-12-05T18:03:28.132Z"
    }
   },
   "outputs": [
    {
     "name": "stdout",
     "output_type": "stream",
     "text": [
      "[1] 5400    5\n"
     ]
    },
    {
     "data": {
      "text/html": [
       "<table>\n",
       "<thead><tr><th scope=col>Community</th><th scope=col>Taxon</th><th scope=col>Perc_rel_abund</th><th scope=col>Rank</th><th scope=col>Rep</th></tr></thead>\n",
       "<tbody>\n",
       "\t<tr><td>1                                              </td><td>RS_GCF_000312145_1_Alistipes_senegalensis_JC50 </td><td>9.502383                                       </td><td>1                                              </td><td>1                                              </td></tr>\n",
       "\t<tr><td>1                                              </td><td>RS_GCF_900177295_1_Tistlia_consotensis_USBA_355</td><td>6.942563                                       </td><td>2                                              </td><td>1                                              </td></tr>\n",
       "\t<tr><td>1                                              </td><td>RS_GCF_001645775_1_Lactococcus_garvieae        </td><td>4.483498                                       </td><td>3                                              </td><td>1                                              </td></tr>\n",
       "</tbody>\n",
       "</table>\n"
      ],
      "text/latex": [
       "\\begin{tabular}{r|lllll}\n",
       " Community & Taxon & Perc\\_rel\\_abund & Rank & Rep\\\\\n",
       "\\hline\n",
       "\t 1                                                           & RS\\_GCF\\_000312145\\_1\\_Alistipes\\_senegalensis\\_JC50  & 9.502383                                                    & 1                                                           & 1                                                          \\\\\n",
       "\t 1                                                             & RS\\_GCF\\_900177295\\_1\\_Tistlia\\_consotensis\\_USBA\\_355 & 6.942563                                                      & 2                                                             & 1                                                            \\\\\n",
       "\t 1                                                         & RS\\_GCF\\_001645775\\_1\\_Lactococcus\\_garvieae         & 4.483498                                                  & 3                                                         & 1                                                        \\\\\n",
       "\\end{tabular}\n"
      ],
      "text/markdown": [
       "\n",
       "Community | Taxon | Perc_rel_abund | Rank | Rep | \n",
       "|---|---|---|\n",
       "| 1                                               | RS_GCF_000312145_1_Alistipes_senegalensis_JC50  | 9.502383                                        | 1                                               | 1                                               | \n",
       "| 1                                               | RS_GCF_900177295_1_Tistlia_consotensis_USBA_355 | 6.942563                                        | 2                                               | 1                                               | \n",
       "| 1                                               | RS_GCF_001645775_1_Lactococcus_garvieae         | 4.483498                                        | 3                                               | 1                                               | \n",
       "\n",
       "\n"
      ],
      "text/plain": [
       "  Community Taxon                                           Perc_rel_abund Rank\n",
       "1 1         RS_GCF_000312145_1_Alistipes_senegalensis_JC50  9.502383       1   \n",
       "2 1         RS_GCF_900177295_1_Tistlia_consotensis_USBA_355 6.942563       2   \n",
       "3 1         RS_GCF_001645775_1_Lactococcus_garvieae         4.483498       3   \n",
       "  Rep\n",
       "1 1  \n",
       "2 1  \n",
       "3 1  "
      ]
     },
     "metadata": {},
     "output_type": "display_data"
    }
   ],
   "source": [
    "comms = list()\n",
    "for(F in comm_files){\n",
    "    df = read.delim(F, sep='\\t')\n",
    "    df$Rep = basename(dirname(F))\n",
    "    comms[[F]] = df\n",
    "}\n",
    "comms = do.call(rbind, comms)\n",
    "rownames(comms) = 1:nrow(comms)\n",
    "comms %>% dfhead"
   ]
  },
  {
   "cell_type": "code",
   "execution_count": 9,
   "metadata": {
    "ExecuteTime": {
     "end_time": "2019-12-05T18:03:30.851783Z",
     "start_time": "2019-12-05T18:03:28.482Z"
    }
   },
   "outputs": [
    {
     "data": {
      "image/png": "[encoded data removed]",
      "text/plain": [
       "plot without title"
      ]
     },
     "metadata": {},
     "output_type": "display_data"
    }
   ],
   "source": [
    "p = comms %>%\n",
    "    mutate(Perc_rel_abund = ifelse(Perc_rel_abund == 0, 1e-5, Perc_rel_abund)) %>%\n",
    "    group_by(Taxon) %>%\n",
    "    summarize(mean_perc_abund = mean(Perc_rel_abund),\n",
    "              sd_perc_abund = sd(Perc_rel_abund)) %>%\n",
    "    ungroup() %>%\n",
    "    mutate(neg_sd_perc_abund = mean_perc_abund - sd_perc_abund,\n",
    "           pos_sd_perc_abund = mean_perc_abund + sd_perc_abund,\n",
    "           neg_sd_perc_abund = ifelse(neg_sd_perc_abund <= 0, 1e-5, neg_sd_perc_abund)) %>%\n",
    "    mutate(Taxon = Taxon %>% reorder(-mean_perc_abund)) %>%\n",
    "    ggplot(aes(Taxon, mean_perc_abund)) +\n",
    "    geom_linerange(aes(ymin=neg_sd_perc_abund, ymax=pos_sd_perc_abund),\n",
    "                   size=0.3, alpha=0.3) +\n",
    "    geom_point(size=0.5, alpha=0.4, color='red') +\n",
    "    labs(y='% abundance') +\n",
    "    theme_bw() +\n",
    "    theme(\n",
    "        axis.text.x = element_blank(),\n",
    "        panel.grid.major.x = element_blank(), \n",
    "        panel.grid.major.y = element_blank(), \n",
    "        panel.grid.minor.x = element_blank(),\n",
    "        panel.grid.minor.y = element_blank()\n",
    "    )\n",
    "\n",
    "dims(10,2.5)\n",
    "plot(p)"
   ]
  },
  {
   "cell_type": "code",
   "execution_count": 10,
   "metadata": {
    "ExecuteTime": {
     "end_time": "2019-12-05T18:03:32.527407Z",
     "start_time": "2019-12-05T18:03:29.734Z"
    }
   },
   "outputs": [
    {
     "data": {
      "image/png": "[encoded data removed]",
      "text/plain": [
       "plot without title"
      ]
     },
     "metadata": {},
     "output_type": "display_data"
    }
   ],
   "source": [
    "dims(10,2.5)\n",
    "plot(p + scale_y_log10())"
   ]
  },
  {
   "cell_type": "markdown",
   "metadata": {},
   "source": [
    "## Feature tables"
   ]
  },
  {
   "cell_type": "code",
   "execution_count": 11,
   "metadata": {
    "ExecuteTime": {
     "end_time": "2019-12-05T18:03:32.572348Z",
     "start_time": "2019-12-05T18:03:30.196Z"
    }
   },
   "outputs": [
    {
     "name": "stdout",
     "output_type": "stream",
     "text": [
      "[1] 12\n"
     ]
    },
    {
     "data": {
      "text/html": [
       "<ol class=list-inline>\n",
       "\t<li>'/ebio/abt3_projects/databases_no-backup/DeepMAsED/train_runs/intra-species/diff_richness/n1000_r6_rich0p9//map/1/megahit/features.tsv.gz'</li>\n",
       "\t<li>'/ebio/abt3_projects/databases_no-backup/DeepMAsED/train_runs/intra-species/diff_richness/n1000_r6_rich0p9//map/1/metaspades/features.tsv.gz'</li>\n",
       "\t<li>'/ebio/abt3_projects/databases_no-backup/DeepMAsED/train_runs/intra-species/diff_richness/n1000_r6_rich0p9//map/2/megahit/features.tsv.gz'</li>\n",
       "\t<li>'/ebio/abt3_projects/databases_no-backup/DeepMAsED/train_runs/intra-species/diff_richness/n1000_r6_rich0p9//map/2/metaspades/features.tsv.gz'</li>\n",
       "\t<li>'/ebio/abt3_projects/databases_no-backup/DeepMAsED/train_runs/intra-species/diff_richness/n1000_r6_rich0p9//map/3/megahit/features.tsv.gz'</li>\n",
       "\t<li>'/ebio/abt3_projects/databases_no-backup/DeepMAsED/train_runs/intra-species/diff_richness/n1000_r6_rich0p9//map/3/metaspades/features.tsv.gz'</li>\n",
       "</ol>\n"
      ],
      "text/latex": [
       "\\begin{enumerate*}\n",
       "\\item '/ebio/abt3\\_projects/databases\\_no-backup/DeepMAsED/train\\_runs/intra-species/diff\\_richness/n1000\\_r6\\_rich0p9//map/1/megahit/features.tsv.gz'\n",
       "\\item '/ebio/abt3\\_projects/databases\\_no-backup/DeepMAsED/train\\_runs/intra-species/diff\\_richness/n1000\\_r6\\_rich0p9//map/1/metaspades/features.tsv.gz'\n",
       "\\item '/ebio/abt3\\_projects/databases\\_no-backup/DeepMAsED/train\\_runs/intra-species/diff\\_richness/n1000\\_r6\\_rich0p9//map/2/megahit/features.tsv.gz'\n",
       "\\item '/ebio/abt3\\_projects/databases\\_no-backup/DeepMAsED/train\\_runs/intra-species/diff\\_richness/n1000\\_r6\\_rich0p9//map/2/metaspades/features.tsv.gz'\n",
       "\\item '/ebio/abt3\\_projects/databases\\_no-backup/DeepMAsED/train\\_runs/intra-species/diff\\_richness/n1000\\_r6\\_rich0p9//map/3/megahit/features.tsv.gz'\n",
       "\\item '/ebio/abt3\\_projects/databases\\_no-backup/DeepMAsED/train\\_runs/intra-species/diff\\_richness/n1000\\_r6\\_rich0p9//map/3/metaspades/features.tsv.gz'\n",
       "\\end{enumerate*}\n"
      ],
      "text/markdown": [
       "1. '/ebio/abt3_projects/databases_no-backup/DeepMAsED/train_runs/intra-species/diff_richness/n1000_r6_rich0p9//map/1/megahit/features.tsv.gz'\n",
       "2. '/ebio/abt3_projects/databases_no-backup/DeepMAsED/train_runs/intra-species/diff_richness/n1000_r6_rich0p9//map/1/metaspades/features.tsv.gz'\n",
       "3. '/ebio/abt3_projects/databases_no-backup/DeepMAsED/train_runs/intra-species/diff_richness/n1000_r6_rich0p9//map/2/megahit/features.tsv.gz'\n",
       "4. '/ebio/abt3_projects/databases_no-backup/DeepMAsED/train_runs/intra-species/diff_richness/n1000_r6_rich0p9//map/2/metaspades/features.tsv.gz'\n",
       "5. '/ebio/abt3_projects/databases_no-backup/DeepMAsED/train_runs/intra-species/diff_richness/n1000_r6_rich0p9//map/3/megahit/features.tsv.gz'\n",
       "6. '/ebio/abt3_projects/databases_no-backup/DeepMAsED/train_runs/intra-species/diff_richness/n1000_r6_rich0p9//map/3/metaspades/features.tsv.gz'\n",
       "\n",
       "\n"
      ],
      "text/plain": [
       "[1] \"/ebio/abt3_projects/databases_no-backup/DeepMAsED/train_runs/intra-species/diff_richness/n1000_r6_rich0p9//map/1/megahit/features.tsv.gz\"   \n",
       "[2] \"/ebio/abt3_projects/databases_no-backup/DeepMAsED/train_runs/intra-species/diff_richness/n1000_r6_rich0p9//map/1/metaspades/features.tsv.gz\"\n",
       "[3] \"/ebio/abt3_projects/databases_no-backup/DeepMAsED/train_runs/intra-species/diff_richness/n1000_r6_rich0p9//map/2/megahit/features.tsv.gz\"   \n",
       "[4] \"/ebio/abt3_projects/databases_no-backup/DeepMAsED/train_runs/intra-species/diff_richness/n1000_r6_rich0p9//map/2/metaspades/features.tsv.gz\"\n",
       "[5] \"/ebio/abt3_projects/databases_no-backup/DeepMAsED/train_runs/intra-species/diff_richness/n1000_r6_rich0p9//map/3/megahit/features.tsv.gz\"   \n",
       "[6] \"/ebio/abt3_projects/databases_no-backup/DeepMAsED/train_runs/intra-species/diff_richness/n1000_r6_rich0p9//map/3/metaspades/features.tsv.gz\""
      ]
     },
     "metadata": {},
     "output_type": "display_data"
    }
   ],
   "source": [
    "feat_files = list.files(file.path(work_dir, 'map'), 'features.tsv.gz', full.names=TRUE, recursive=TRUE)\n",
    "feat_files %>% length %>% print\n",
    "feat_files %>% head"
   ]
  },
  {
   "cell_type": "code",
   "execution_count": null,
   "metadata": {
    "ExecuteTime": {
     "start_time": "2019-12-05T18:03:30.324Z"
    }
   },
   "outputs": [],
   "source": [
    "feats = list()\n",
    "for(F in feat_files){\n",
    "    cmd = glue::glue('gunzip -c {F}', F=F)\n",
    "    df = fread(cmd, sep='\\t') %>%\n",
    "        distinct(contig, assembler, Extensive_misassembly)\n",
    "    df$Rep = basename(dirname(dirname(F)))\n",
    "    feats[[F]] = df\n",
    "}\n",
    "feats = do.call(rbind, feats)\n",
    "rownames(feats) = 1:nrow(feats)\n",
    "feats %>% dfhead"
   ]
  },
  {
   "cell_type": "markdown",
   "metadata": {},
   "source": [
    "### No. of contigs"
   ]
  },
  {
   "cell_type": "code",
   "execution_count": null,
   "metadata": {
    "ExecuteTime": {
     "start_time": "2019-12-05T18:03:30.911Z"
    }
   },
   "outputs": [],
   "source": [
    "feats_s = feats %>%\n",
    "    group_by(assembler, Rep) %>%\n",
    "    summarize(n_contigs = n_distinct(contig)) %>%\n",
    "    ungroup \n",
    "\n",
    "feats_s$n_contigs %>% summary"
   ]
  },
  {
   "cell_type": "markdown",
   "metadata": {},
   "source": [
    "### Misassembly types"
   ]
  },
  {
   "cell_type": "code",
   "execution_count": null,
   "metadata": {
    "ExecuteTime": {
     "start_time": "2019-12-05T18:03:31.532Z"
    }
   },
   "outputs": [],
   "source": [
    "p = feats %>%\n",
    "    mutate(Extensive_misassembly = ifelse(Extensive_misassembly == '', 'None',\n",
    "                                          Extensive_misassembly)) %>%\n",
    "    group_by(Extensive_misassembly, assembler, Rep) %>%\n",
    "    summarize(n = n()) %>%\n",
    "    ungroup() %>%\n",
    "    ggplot(aes(Extensive_misassembly, n, color=assembler)) +\n",
    "    geom_boxplot() +\n",
    "    scale_y_log10() +\n",
    "    labs(x='metaQUAST extensive mis-assembly', y='Count') +\n",
    "    coord_flip() +\n",
    "    theme_bw() +\n",
    "    theme(\n",
    "        axis.text.x = element_text(angle=45, hjust=1)\n",
    "    )\n",
    "\n",
    "dims(8,4)\n",
    "plot(p)"
   ]
  },
  {
   "cell_type": "markdown",
   "metadata": {},
   "source": [
    "# sessionInfo"
   ]
  },
  {
   "cell_type": "code",
   "execution_count": null,
   "metadata": {
    "ExecuteTime": {
     "start_time": "2019-12-05T18:03:32.295Z"
    }
   },
   "outputs": [],
   "source": [
    "sessionInfo()"
   ]
  },
  {
   "cell_type": "code",
   "execution_count": null,
   "metadata": {},
   "outputs": [],
   "source": []
  }
 ],
 "metadata": {
  "kernelspec": {
   "display_name": "R [conda env:py3_physeq]",
   "language": "R",
   "name": "conda-env-py3_physeq-r"
  },
  "language_info": {
   "codemirror_mode": "r",
   "file_extension": ".r",
   "mimetype": "text/x-r-source",
   "name": "R",
   "pygments_lexer": "r",
   "version": "3.4.1"
  },
  "notify_time": "30",
  "toc": {
   "base_numbering": 1,
   "nav_menu": {},
   "number_sections": true,
   "sideBar": true,
   "skip_h1_title": false,
   "title_cell": "Table of Contents",
   "title_sidebar": "Contents",
   "toc_cell": true,
   "toc_position": {},
   "toc_section_display": true,
   "toc_window_display": true
  }
 },
 "nbformat": 4,
 "nbformat_minor": 2
}
