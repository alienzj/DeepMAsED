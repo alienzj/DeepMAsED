{
 "cells": [
  {
   "cell_type": "markdown",
   "metadata": {
    "toc": true
   },
   "source": [
    "<h1>Table of Contents<span class=\"tocSkip\"></span></h1>\n",
    "<div class=\"toc\"><ul class=\"toc-item\"><li><span><a href=\"#Goal\" data-toc-modified-id=\"Goal-1\"><span class=\"toc-item-num\">1&nbsp;&nbsp;</span>Goal</a></span></li><li><span><a href=\"#Var\" data-toc-modified-id=\"Var-2\"><span class=\"toc-item-num\">2&nbsp;&nbsp;</span>Var</a></span></li><li><span><a href=\"#Init\" data-toc-modified-id=\"Init-3\"><span class=\"toc-item-num\">3&nbsp;&nbsp;</span>Init</a></span></li><li><span><a href=\"#Load\" data-toc-modified-id=\"Load-4\"><span class=\"toc-item-num\">4&nbsp;&nbsp;</span>Load</a></span></li><li><span><a href=\"#Format\" data-toc-modified-id=\"Format-5\"><span class=\"toc-item-num\">5&nbsp;&nbsp;</span>Format</a></span></li><li><span><a href=\"#Summary\" data-toc-modified-id=\"Summary-6\"><span class=\"toc-item-num\">6&nbsp;&nbsp;</span>Summary</a></span></li><li><span><a href=\"#sessionInfo\" data-toc-modified-id=\"sessionInfo-7\"><span class=\"toc-item-num\">7&nbsp;&nbsp;</span>sessionInfo</a></span></li></ul></div>"
   ]
  },
  {
   "cell_type": "markdown",
   "metadata": {},
   "source": [
    "# Goal\n",
    "\n",
    "* Compare checkM values for all plot"
   ]
  },
  {
   "cell_type": "markdown",
   "metadata": {},
   "source": [
    "# Var"
   ]
  },
  {
   "cell_type": "code",
   "execution_count": 1,
   "metadata": {
    "ExecuteTime": {
     "end_time": "2019-12-18T14:40:25.319897Z",
     "start_time": "2019-12-18T14:40:24.896Z"
    }
   },
   "outputs": [],
   "source": [
    "#-- original --#\n",
    "# table of 1000 genomes pre-selected for \"train\" datasets\n",
    "train_n1000_ref_file = '/ebio/abt3_projects/databases_no-backup/DeepMAsED/GTDB_ref_genomes/DeepMAsED_GTDB_genome-refs_train.tsv'\n",
    "# table of 100 genomes pre-selected for \"test\" datasets\n",
    "test_n100_ref_file = '/ebio/abt3_projects/databases_no-backup/DeepMAsED/GTDB_ref_genomes/DeepMAsED_GTDB_genome-refs_test_n100.tsv'\n",
    "# table of 1000 genomes pre-selected for \"test\" datasets \n",
    "test_n1000_ref_file = '/ebio/abt3_projects/databases_no-backup/DeepMAsED/GTDB_ref_genomes/DeepMAsED_GTDB_genome-refs_test.tsv'\n",
    "\n",
    "#-- intra-species --#\n",
    "IS_train_n1000_ref_file = '/ebio/abt3_projects/databases_no-backup/DeepMAsED/GTDB_ref_genomes/intraSpec/GTDBr86_genome-refs_train.tsv'\n",
    "IS_test_n1000_ref_file = '/ebio/abt3_projects/databases_no-backup/DeepMAsED/GTDB_ref_genomes/intraSpec/GTDBr86_genome-refs_test.tsv'"
   ]
  },
  {
   "cell_type": "markdown",
   "metadata": {},
   "source": [
    "# Init"
   ]
  },
  {
   "cell_type": "code",
   "execution_count": 2,
   "metadata": {
    "ExecuteTime": {
     "end_time": "2019-12-18T14:40:26.842907Z",
     "start_time": "2019-12-18T14:40:26.222Z"
    }
   },
   "outputs": [
    {
     "name": "stderr",
     "output_type": "stream",
     "text": [
      "\n",
      "Attaching package: ‘dplyr’\n",
      "\n",
      "The following objects are masked from ‘package:stats’:\n",
      "\n",
      "    filter, lag\n",
      "\n",
      "The following objects are masked from ‘package:base’:\n",
      "\n",
      "    intersect, setdiff, setequal, union\n",
      "\n"
     ]
    }
   ],
   "source": [
    "library(dplyr)\n",
    "library(tidyr)\n",
    "library(ggplot2)\n",
    "\n",
    "set.seed(8364)"
   ]
  },
  {
   "cell_type": "markdown",
   "metadata": {},
   "source": [
    "# Load"
   ]
  },
  {
   "cell_type": "code",
   "execution_count": 19,
   "metadata": {
    "ExecuteTime": {
     "end_time": "2019-12-18T14:45:16.518436Z",
     "start_time": "2019-12-18T14:45:16.173Z"
    }
   },
   "outputs": [
    {
     "data": {
      "text/html": [
       "<table>\n",
       "<thead><tr><th scope=col>Taxon</th><th scope=col>accession</th><th scope=col>scaffold_count</th><th scope=col>checkm_completeness</th><th scope=col>checkm_contamination</th><th scope=col>dataset</th><th scope=col>partition</th></tr></thead>\n",
       "<tbody>\n",
       "\t<tr><td>GB_GCA_002238865.1_Gemmatimonadetes bacterium bin94</td><td>GB_GCA_002238865.1                                 </td><td>83                                                 </td><td> 97.80                                             </td><td>3.30                                               </td><td>N1000                                              </td><td>Train                                              </td></tr>\n",
       "\t<tr><td>RS_GCF_000429065.1_Silanimonas lenta DSM 16282     </td><td>RS_GCF_000429065.1                                 </td><td>21                                                 </td><td> 99.66                                             </td><td>0.04                                               </td><td>N1000                                              </td><td>Train                                              </td></tr>\n",
       "\t<tr><td>RS_GCF_900188435.1_Marinobacter sp. es.048         </td><td>RS_GCF_900188435.1                                 </td><td> 2                                                 </td><td>100.00                                             </td><td>0.00                                               </td><td>N1000                                              </td><td>Train                                              </td></tr>\n",
       "</tbody>\n",
       "</table>\n"
      ],
      "text/latex": [
       "\\begin{tabular}{r|lllllll}\n",
       " Taxon & accession & scaffold\\_count & checkm\\_completeness & checkm\\_contamination & dataset & partition\\\\\n",
       "\\hline\n",
       "\t GB\\_GCA\\_002238865.1\\_Gemmatimonadetes bacterium bin94 & GB\\_GCA\\_002238865.1                                    & 83                                                        &  97.80                                                    & 3.30                                                      & N1000                                                     & Train                                                    \\\\\n",
       "\t RS\\_GCF\\_000429065.1\\_Silanimonas lenta DSM 16282      & RS\\_GCF\\_000429065.1                                    & 21                                                        &  99.66                                                    & 0.04                                                      & N1000                                                     & Train                                                    \\\\\n",
       "\t RS\\_GCF\\_900188435.1\\_Marinobacter sp. es.048          & RS\\_GCF\\_900188435.1                                    &  2                                                        & 100.00                                                    & 0.00                                                      & N1000                                                     & Train                                                    \\\\\n",
       "\\end{tabular}\n"
      ],
      "text/markdown": [
       "\n",
       "Taxon | accession | scaffold_count | checkm_completeness | checkm_contamination | dataset | partition | \n",
       "|---|---|---|\n",
       "| GB_GCA_002238865.1_Gemmatimonadetes bacterium bin94 | GB_GCA_002238865.1                                  | 83                                                  |  97.80                                              | 3.30                                                | N1000                                               | Train                                               | \n",
       "| RS_GCF_000429065.1_Silanimonas lenta DSM 16282      | RS_GCF_000429065.1                                  | 21                                                  |  99.66                                              | 0.04                                                | N1000                                               | Train                                               | \n",
       "| RS_GCF_900188435.1_Marinobacter sp. es.048          | RS_GCF_900188435.1                                  |  2                                                  | 100.00                                              | 0.00                                                | N1000                                               | Train                                               | \n",
       "\n",
       "\n"
      ],
      "text/plain": [
       "  Taxon                                               accession         \n",
       "1 GB_GCA_002238865.1_Gemmatimonadetes bacterium bin94 GB_GCA_002238865.1\n",
       "2 RS_GCF_000429065.1_Silanimonas lenta DSM 16282      RS_GCF_000429065.1\n",
       "3 RS_GCF_900188435.1_Marinobacter sp. es.048          RS_GCF_900188435.1\n",
       "  scaffold_count checkm_completeness checkm_contamination dataset partition\n",
       "1 83              97.80              3.30                 N1000   Train    \n",
       "2 21              99.66              0.04                 N1000   Train    \n",
       "3  2             100.00              0.00                 N1000   Train    "
      ]
     },
     "metadata": {},
     "output_type": "display_data"
    }
   ],
   "source": [
    "train_n1000_ref = read.delim(train_n1000_ref_file, sep='\\t') %>%\n",
    "    dplyr::select(Taxon, accession, scaffold_count, \n",
    "                  checkm_completeness, checkm_contamination) %>%\n",
    "    mutate(dataset = 'N1000',\n",
    "           partition = 'Train')\n",
    "\n",
    "train_n1000_ref %>% head(n=3)"
   ]
  },
  {
   "cell_type": "code",
   "execution_count": 18,
   "metadata": {
    "ExecuteTime": {
     "end_time": "2019-12-18T14:45:13.884373Z",
     "start_time": "2019-12-18T14:45:13.820Z"
    }
   },
   "outputs": [
    {
     "data": {
      "text/html": [
       "<table>\n",
       "<thead><tr><th scope=col>Taxon</th><th scope=col>accession</th><th scope=col>scaffold_count</th><th scope=col>checkm_completeness</th><th scope=col>checkm_contamination</th><th scope=col>dataset</th><th scope=col>partition</th></tr></thead>\n",
       "<tbody>\n",
       "\t<tr><td>GB_GCA_000437635.1_Sutterella sp. CAG:521            </td><td>GB_GCA_000437635.1                                   </td><td>76                                                   </td><td>94.90                                                </td><td>1.25                                                 </td><td>N100                                                 </td><td>Test                                                 </td></tr>\n",
       "\t<tr><td>RS_GCF_000771625.1_Bifidobacterium saguini DSM 23967 </td><td>RS_GCF_000771625.1                                   </td><td>46                                                   </td><td>99.54                                                </td><td>0.69                                                 </td><td>N100                                                 </td><td>Test                                                 </td></tr>\n",
       "\t<tr><td>RS_GCF_000420585.1_Corynebacterium callunae DSM 20147</td><td>RS_GCF_000420585.1                                   </td><td>26                                                   </td><td>99.45                                                </td><td>0.44                                                 </td><td>N100                                                 </td><td>Test                                                 </td></tr>\n",
       "</tbody>\n",
       "</table>\n"
      ],
      "text/latex": [
       "\\begin{tabular}{r|lllllll}\n",
       " Taxon & accession & scaffold\\_count & checkm\\_completeness & checkm\\_contamination & dataset & partition\\\\\n",
       "\\hline\n",
       "\t GB\\_GCA\\_000437635.1\\_Sutterella sp. CAG:521             & GB\\_GCA\\_000437635.1                                      & 76                                                          & 94.90                                                       & 1.25                                                        & N100                                                        & Test                                                       \\\\\n",
       "\t RS\\_GCF\\_000771625.1\\_Bifidobacterium saguini DSM 23967  & RS\\_GCF\\_000771625.1                                      & 46                                                          & 99.54                                                       & 0.69                                                        & N100                                                        & Test                                                       \\\\\n",
       "\t RS\\_GCF\\_000420585.1\\_Corynebacterium callunae DSM 20147 & RS\\_GCF\\_000420585.1                                      & 26                                                          & 99.45                                                       & 0.44                                                        & N100                                                        & Test                                                       \\\\\n",
       "\\end{tabular}\n"
      ],
      "text/markdown": [
       "\n",
       "Taxon | accession | scaffold_count | checkm_completeness | checkm_contamination | dataset | partition | \n",
       "|---|---|---|\n",
       "| GB_GCA_000437635.1_Sutterella sp. CAG:521             | GB_GCA_000437635.1                                    | 76                                                    | 94.90                                                 | 1.25                                                  | N100                                                  | Test                                                  | \n",
       "| RS_GCF_000771625.1_Bifidobacterium saguini DSM 23967  | RS_GCF_000771625.1                                    | 46                                                    | 99.54                                                 | 0.69                                                  | N100                                                  | Test                                                  | \n",
       "| RS_GCF_000420585.1_Corynebacterium callunae DSM 20147 | RS_GCF_000420585.1                                    | 26                                                    | 99.45                                                 | 0.44                                                  | N100                                                  | Test                                                  | \n",
       "\n",
       "\n"
      ],
      "text/plain": [
       "  Taxon                                                 accession         \n",
       "1 GB_GCA_000437635.1_Sutterella sp. CAG:521             GB_GCA_000437635.1\n",
       "2 RS_GCF_000771625.1_Bifidobacterium saguini DSM 23967  RS_GCF_000771625.1\n",
       "3 RS_GCF_000420585.1_Corynebacterium callunae DSM 20147 RS_GCF_000420585.1\n",
       "  scaffold_count checkm_completeness checkm_contamination dataset partition\n",
       "1 76             94.90               1.25                 N100    Test     \n",
       "2 46             99.54               0.69                 N100    Test     \n",
       "3 26             99.45               0.44                 N100    Test     "
      ]
     },
     "metadata": {},
     "output_type": "display_data"
    }
   ],
   "source": [
    "test_n100_ref = read.delim(test_n100_ref_file, sep='\\t') %>%\n",
    "    dplyr::select(Taxon, accession, scaffold_count, \n",
    "                  checkm_completeness, checkm_contamination) %>%\n",
    "    mutate(dataset = 'N100',\n",
    "           partition = 'Test')\n",
    "test_n100_ref %>% head(n=3)"
   ]
  },
  {
   "cell_type": "code",
   "execution_count": 17,
   "metadata": {
    "ExecuteTime": {
     "end_time": "2019-12-18T14:45:11.670525Z",
     "start_time": "2019-12-18T14:45:11.612Z"
    }
   },
   "outputs": [
    {
     "data": {
      "text/html": [
       "<table>\n",
       "<thead><tr><th scope=col>Taxon</th><th scope=col>accession</th><th scope=col>scaffold_count</th><th scope=col>checkm_completeness</th><th scope=col>checkm_contamination</th><th scope=col>dataset</th><th scope=col>partition</th></tr></thead>\n",
       "<tbody>\n",
       "\t<tr><td>GB_GCA_000437635.1_Sutterella sp. CAG:521            </td><td>GB_GCA_000437635.1                                   </td><td>76                                                   </td><td>94.90                                                </td><td>1.25                                                 </td><td>N1000                                                </td><td>Test                                                 </td></tr>\n",
       "\t<tr><td>RS_GCF_000771625.1_Bifidobacterium saguini DSM 23967 </td><td>RS_GCF_000771625.1                                   </td><td>46                                                   </td><td>99.54                                                </td><td>0.69                                                 </td><td>N1000                                                </td><td>Test                                                 </td></tr>\n",
       "\t<tr><td>RS_GCF_000420585.1_Corynebacterium callunae DSM 20147</td><td>RS_GCF_000420585.1                                   </td><td>26                                                   </td><td>99.45                                                </td><td>0.44                                                 </td><td>N1000                                                </td><td>Test                                                 </td></tr>\n",
       "</tbody>\n",
       "</table>\n"
      ],
      "text/latex": [
       "\\begin{tabular}{r|lllllll}\n",
       " Taxon & accession & scaffold\\_count & checkm\\_completeness & checkm\\_contamination & dataset & partition\\\\\n",
       "\\hline\n",
       "\t GB\\_GCA\\_000437635.1\\_Sutterella sp. CAG:521             & GB\\_GCA\\_000437635.1                                      & 76                                                          & 94.90                                                       & 1.25                                                        & N1000                                                       & Test                                                       \\\\\n",
       "\t RS\\_GCF\\_000771625.1\\_Bifidobacterium saguini DSM 23967  & RS\\_GCF\\_000771625.1                                      & 46                                                          & 99.54                                                       & 0.69                                                        & N1000                                                       & Test                                                       \\\\\n",
       "\t RS\\_GCF\\_000420585.1\\_Corynebacterium callunae DSM 20147 & RS\\_GCF\\_000420585.1                                      & 26                                                          & 99.45                                                       & 0.44                                                        & N1000                                                       & Test                                                       \\\\\n",
       "\\end{tabular}\n"
      ],
      "text/markdown": [
       "\n",
       "Taxon | accession | scaffold_count | checkm_completeness | checkm_contamination | dataset | partition | \n",
       "|---|---|---|\n",
       "| GB_GCA_000437635.1_Sutterella sp. CAG:521             | GB_GCA_000437635.1                                    | 76                                                    | 94.90                                                 | 1.25                                                  | N1000                                                 | Test                                                  | \n",
       "| RS_GCF_000771625.1_Bifidobacterium saguini DSM 23967  | RS_GCF_000771625.1                                    | 46                                                    | 99.54                                                 | 0.69                                                  | N1000                                                 | Test                                                  | \n",
       "| RS_GCF_000420585.1_Corynebacterium callunae DSM 20147 | RS_GCF_000420585.1                                    | 26                                                    | 99.45                                                 | 0.44                                                  | N1000                                                 | Test                                                  | \n",
       "\n",
       "\n"
      ],
      "text/plain": [
       "  Taxon                                                 accession         \n",
       "1 GB_GCA_000437635.1_Sutterella sp. CAG:521             GB_GCA_000437635.1\n",
       "2 RS_GCF_000771625.1_Bifidobacterium saguini DSM 23967  RS_GCF_000771625.1\n",
       "3 RS_GCF_000420585.1_Corynebacterium callunae DSM 20147 RS_GCF_000420585.1\n",
       "  scaffold_count checkm_completeness checkm_contamination dataset partition\n",
       "1 76             94.90               1.25                 N1000   Test     \n",
       "2 46             99.54               0.69                 N1000   Test     \n",
       "3 26             99.45               0.44                 N1000   Test     "
      ]
     },
     "metadata": {},
     "output_type": "display_data"
    }
   ],
   "source": [
    "test_n1000_ref = read.delim(test_n100_ref_file, sep='\\t') %>%\n",
    "    dplyr::select(Taxon, accession, scaffold_count, \n",
    "                  checkm_completeness, checkm_contamination) %>%\n",
    "    mutate(dataset = 'N1000',\n",
    "           partition = 'Test')\n",
    "test_n1000_ref %>% head(n=3)"
   ]
  },
  {
   "cell_type": "code",
   "execution_count": 15,
   "metadata": {
    "ExecuteTime": {
     "end_time": "2019-12-18T14:45:01.142776Z",
     "start_time": "2019-12-18T14:45:00.621Z"
    }
   },
   "outputs": [
    {
     "data": {
      "text/html": [
       "<table>\n",
       "<thead><tr><th scope=col>Taxon</th><th scope=col>accession</th><th scope=col>scaffold_count</th><th scope=col>checkm_completeness</th><th scope=col>checkm_contamination</th><th scope=col>dataset</th><th scope=col>partition</th></tr></thead>\n",
       "<tbody>\n",
       "\t<tr><td>RS_GCF_900078295.2_Blautia sp. Marseille-P2398       </td><td>RS_GCF_900078295.2                                   </td><td>14                                                   </td><td> 99.37                                               </td><td>0.00                                                 </td><td>IS_N1000                                             </td><td>Train                                                </td></tr>\n",
       "\t<tr><td>RS_GCF_001882795.1_Burkholderia ubonensis            </td><td>RS_GCF_001882795.1                                   </td><td>70                                                   </td><td>100.00                                               </td><td>1.11                                                 </td><td>IS_N1000                                             </td><td>Train                                                </td></tr>\n",
       "\t<tr><td>RS_GCF_000154385.1_Faecalibacterium prausnitzii M21/2</td><td>RS_GCF_000154385.1                                   </td><td>25                                                   </td><td>100.00                                               </td><td>0.00                                                 </td><td>IS_N1000                                             </td><td>Train                                                </td></tr>\n",
       "</tbody>\n",
       "</table>\n"
      ],
      "text/latex": [
       "\\begin{tabular}{r|lllllll}\n",
       " Taxon & accession & scaffold\\_count & checkm\\_completeness & checkm\\_contamination & dataset & partition\\\\\n",
       "\\hline\n",
       "\t RS\\_GCF\\_900078295.2\\_Blautia sp. Marseille-P2398        & RS\\_GCF\\_900078295.2                                      & 14                                                          &  99.37                                                      & 0.00                                                        & IS\\_N1000                                                  & Train                                                      \\\\\n",
       "\t RS\\_GCF\\_001882795.1\\_Burkholderia ubonensis             & RS\\_GCF\\_001882795.1                                      & 70                                                          & 100.00                                                      & 1.11                                                        & IS\\_N1000                                                  & Train                                                      \\\\\n",
       "\t RS\\_GCF\\_000154385.1\\_Faecalibacterium prausnitzii M21/2 & RS\\_GCF\\_000154385.1                                      & 25                                                          & 100.00                                                      & 0.00                                                        & IS\\_N1000                                                  & Train                                                      \\\\\n",
       "\\end{tabular}\n"
      ],
      "text/markdown": [
       "\n",
       "Taxon | accession | scaffold_count | checkm_completeness | checkm_contamination | dataset | partition | \n",
       "|---|---|---|\n",
       "| RS_GCF_900078295.2_Blautia sp. Marseille-P2398        | RS_GCF_900078295.2                                    | 14                                                    |  99.37                                                | 0.00                                                  | IS_N1000                                              | Train                                                 | \n",
       "| RS_GCF_001882795.1_Burkholderia ubonensis             | RS_GCF_001882795.1                                    | 70                                                    | 100.00                                                | 1.11                                                  | IS_N1000                                              | Train                                                 | \n",
       "| RS_GCF_000154385.1_Faecalibacterium prausnitzii M21/2 | RS_GCF_000154385.1                                    | 25                                                    | 100.00                                                | 0.00                                                  | IS_N1000                                              | Train                                                 | \n",
       "\n",
       "\n"
      ],
      "text/plain": [
       "  Taxon                                                 accession         \n",
       "1 RS_GCF_900078295.2_Blautia sp. Marseille-P2398        RS_GCF_900078295.2\n",
       "2 RS_GCF_001882795.1_Burkholderia ubonensis             RS_GCF_001882795.1\n",
       "3 RS_GCF_000154385.1_Faecalibacterium prausnitzii M21/2 RS_GCF_000154385.1\n",
       "  scaffold_count checkm_completeness checkm_contamination dataset  partition\n",
       "1 14              99.37              0.00                 IS_N1000 Train    \n",
       "2 70             100.00              1.11                 IS_N1000 Train    \n",
       "3 25             100.00              0.00                 IS_N1000 Train    "
      ]
     },
     "metadata": {},
     "output_type": "display_data"
    }
   ],
   "source": [
    "is_train_n1000_ref = read.delim(IS_train_n1000_ref_file, sep='\\t') %>%\n",
    "    dplyr::select(Taxon, accession, scaffold_count, \n",
    "                  checkm_completeness, checkm_contamination) %>%\n",
    "    mutate(dataset = 'IS_N1000',\n",
    "           partition = 'Train') \n",
    "\n",
    "is_train_n1000_ref %>% head(n=3)"
   ]
  },
  {
   "cell_type": "code",
   "execution_count": 16,
   "metadata": {
    "ExecuteTime": {
     "end_time": "2019-12-18T14:45:07.587121Z",
     "start_time": "2019-12-18T14:45:07.038Z"
    }
   },
   "outputs": [
    {
     "data": {
      "text/html": [
       "<table>\n",
       "<thead><tr><th scope=col>Taxon</th><th scope=col>accession</th><th scope=col>scaffold_count</th><th scope=col>checkm_completeness</th><th scope=col>checkm_contamination</th><th scope=col>dataset</th><th scope=col>partition</th></tr></thead>\n",
       "<tbody>\n",
       "\t<tr><td>RS_GCF_000505765.1_Asaia sp. SF2.1             </td><td>RS_GCF_000505765.1                             </td><td>51                                             </td><td> 93.86                                         </td><td>0.00                                           </td><td>IS_N1000                                       </td><td>Train                                          </td></tr>\n",
       "\t<tr><td>GB_GCA_002343285.1_Chthonomonas sp. UBA2399    </td><td>GB_GCA_002343285.1                             </td><td>58                                             </td><td> 92.54                                         </td><td>0.93                                           </td><td>IS_N1000                                       </td><td>Train                                          </td></tr>\n",
       "\t<tr><td>RS_GCF_001813675.1_Streptococcus sp. HMSC078D09</td><td>RS_GCF_001813675.1                             </td><td>31                                             </td><td>100.00                                         </td><td>0.24                                           </td><td>IS_N1000                                       </td><td>Train                                          </td></tr>\n",
       "</tbody>\n",
       "</table>\n"
      ],
      "text/latex": [
       "\\begin{tabular}{r|lllllll}\n",
       " Taxon & accession & scaffold\\_count & checkm\\_completeness & checkm\\_contamination & dataset & partition\\\\\n",
       "\\hline\n",
       "\t RS\\_GCF\\_000505765.1\\_Asaia sp. SF2.1              & RS\\_GCF\\_000505765.1                                & 51                                                    &  93.86                                                & 0.00                                                  & IS\\_N1000                                            & Train                                                \\\\\n",
       "\t GB\\_GCA\\_002343285.1\\_Chthonomonas sp. UBA2399     & GB\\_GCA\\_002343285.1                                & 58                                                    &  92.54                                                & 0.93                                                  & IS\\_N1000                                            & Train                                                \\\\\n",
       "\t RS\\_GCF\\_001813675.1\\_Streptococcus sp. HMSC078D09 & RS\\_GCF\\_001813675.1                                & 31                                                    & 100.00                                                & 0.24                                                  & IS\\_N1000                                            & Train                                                \\\\\n",
       "\\end{tabular}\n"
      ],
      "text/markdown": [
       "\n",
       "Taxon | accession | scaffold_count | checkm_completeness | checkm_contamination | dataset | partition | \n",
       "|---|---|---|\n",
       "| RS_GCF_000505765.1_Asaia sp. SF2.1              | RS_GCF_000505765.1                              | 51                                              |  93.86                                          | 0.00                                            | IS_N1000                                        | Train                                           | \n",
       "| GB_GCA_002343285.1_Chthonomonas sp. UBA2399     | GB_GCA_002343285.1                              | 58                                              |  92.54                                          | 0.93                                            | IS_N1000                                        | Train                                           | \n",
       "| RS_GCF_001813675.1_Streptococcus sp. HMSC078D09 | RS_GCF_001813675.1                              | 31                                              | 100.00                                          | 0.24                                            | IS_N1000                                        | Train                                           | \n",
       "\n",
       "\n"
      ],
      "text/plain": [
       "  Taxon                                           accession         \n",
       "1 RS_GCF_000505765.1_Asaia sp. SF2.1              RS_GCF_000505765.1\n",
       "2 GB_GCA_002343285.1_Chthonomonas sp. UBA2399     GB_GCA_002343285.1\n",
       "3 RS_GCF_001813675.1_Streptococcus sp. HMSC078D09 RS_GCF_001813675.1\n",
       "  scaffold_count checkm_completeness checkm_contamination dataset  partition\n",
       "1 51              93.86              0.00                 IS_N1000 Train    \n",
       "2 58              92.54              0.93                 IS_N1000 Train    \n",
       "3 31             100.00              0.24                 IS_N1000 Train    "
      ]
     },
     "metadata": {},
     "output_type": "display_data"
    }
   ],
   "source": [
    "is_test_n1000_ref = read.delim(IS_test_n1000_ref_file, sep='\\t') %>%\n",
    "    dplyr::select(Taxon, accession, scaffold_count, \n",
    "                  checkm_completeness, checkm_contamination) %>%\n",
    "    mutate(dataset = 'IS_N1000',\n",
    "           partition = 'Train')\n",
    "\n",
    "is_test_n1000_ref %>% head(n=3)"
   ]
  },
  {
   "cell_type": "markdown",
   "metadata": {},
   "source": [
    "# Format"
   ]
  },
  {
   "cell_type": "code",
   "execution_count": 20,
   "metadata": {
    "ExecuteTime": {
     "end_time": "2019-12-18T14:45:18.329736Z",
     "start_time": "2019-12-18T14:45:18.273Z"
    }
   },
   "outputs": [
    {
     "data": {
      "text/html": [
       "<table>\n",
       "<thead><tr><th scope=col>Taxon</th><th scope=col>accession</th><th scope=col>scaffold_count</th><th scope=col>checkm_completeness</th><th scope=col>checkm_contamination</th><th scope=col>dataset</th><th scope=col>partition</th></tr></thead>\n",
       "<tbody>\n",
       "\t<tr><td>GB_GCA_002238865.1_Gemmatimonadetes bacterium bin94</td><td>GB_GCA_002238865.1                                 </td><td>83                                                 </td><td> 97.80                                             </td><td>3.30                                               </td><td>N1000                                              </td><td>Train                                              </td></tr>\n",
       "\t<tr><td>RS_GCF_000429065.1_Silanimonas lenta DSM 16282     </td><td>RS_GCF_000429065.1                                 </td><td>21                                                 </td><td> 99.66                                             </td><td>0.04                                               </td><td>N1000                                              </td><td>Train                                              </td></tr>\n",
       "\t<tr><td>RS_GCF_900188435.1_Marinobacter sp. es.048         </td><td>RS_GCF_900188435.1                                 </td><td> 2                                                 </td><td>100.00                                             </td><td>0.00                                               </td><td>N1000                                              </td><td>Train                                              </td></tr>\n",
       "\t<tr><td>RS_GCF_001641615.1_Pseudoalteromonas gelatinilytica</td><td>RS_GCF_001641615.1                                 </td><td>23                                                 </td><td>100.00                                             </td><td>0.43                                               </td><td>N1000                                              </td><td>Train                                              </td></tr>\n",
       "\t<tr><td>RS_GCF_000832305.1_Cupriavidus basilensis          </td><td>RS_GCF_000832305.1                                 </td><td> 2                                                 </td><td> 99.94                                             </td><td>0.47                                               </td><td>N1000                                              </td><td>Train                                              </td></tr>\n",
       "\t<tr><td>RS_GCF_001468265.1_Sphingopyxis sp. H050           </td><td>RS_GCF_001468265.1                                 </td><td>23                                                 </td><td> 99.62                                             </td><td>0.85                                               </td><td>N1000                                              </td><td>Train                                              </td></tr>\n",
       "</tbody>\n",
       "</table>\n"
      ],
      "text/latex": [
       "\\begin{tabular}{r|lllllll}\n",
       " Taxon & accession & scaffold\\_count & checkm\\_completeness & checkm\\_contamination & dataset & partition\\\\\n",
       "\\hline\n",
       "\t GB\\_GCA\\_002238865.1\\_Gemmatimonadetes bacterium bin94 & GB\\_GCA\\_002238865.1                                    & 83                                                        &  97.80                                                    & 3.30                                                      & N1000                                                     & Train                                                    \\\\\n",
       "\t RS\\_GCF\\_000429065.1\\_Silanimonas lenta DSM 16282      & RS\\_GCF\\_000429065.1                                    & 21                                                        &  99.66                                                    & 0.04                                                      & N1000                                                     & Train                                                    \\\\\n",
       "\t RS\\_GCF\\_900188435.1\\_Marinobacter sp. es.048          & RS\\_GCF\\_900188435.1                                    &  2                                                        & 100.00                                                    & 0.00                                                      & N1000                                                     & Train                                                    \\\\\n",
       "\t RS\\_GCF\\_001641615.1\\_Pseudoalteromonas gelatinilytica & RS\\_GCF\\_001641615.1                                    & 23                                                        & 100.00                                                    & 0.43                                                      & N1000                                                     & Train                                                    \\\\\n",
       "\t RS\\_GCF\\_000832305.1\\_Cupriavidus basilensis           & RS\\_GCF\\_000832305.1                                    &  2                                                        &  99.94                                                    & 0.47                                                      & N1000                                                     & Train                                                    \\\\\n",
       "\t RS\\_GCF\\_001468265.1\\_Sphingopyxis sp. H050            & RS\\_GCF\\_001468265.1                                    & 23                                                        &  99.62                                                    & 0.85                                                      & N1000                                                     & Train                                                    \\\\\n",
       "\\end{tabular}\n"
      ],
      "text/markdown": [
       "\n",
       "Taxon | accession | scaffold_count | checkm_completeness | checkm_contamination | dataset | partition | \n",
       "|---|---|---|---|---|---|\n",
       "| GB_GCA_002238865.1_Gemmatimonadetes bacterium bin94 | GB_GCA_002238865.1                                  | 83                                                  |  97.80                                              | 3.30                                                | N1000                                               | Train                                               | \n",
       "| RS_GCF_000429065.1_Silanimonas lenta DSM 16282      | RS_GCF_000429065.1                                  | 21                                                  |  99.66                                              | 0.04                                                | N1000                                               | Train                                               | \n",
       "| RS_GCF_900188435.1_Marinobacter sp. es.048          | RS_GCF_900188435.1                                  |  2                                                  | 100.00                                              | 0.00                                                | N1000                                               | Train                                               | \n",
       "| RS_GCF_001641615.1_Pseudoalteromonas gelatinilytica | RS_GCF_001641615.1                                  | 23                                                  | 100.00                                              | 0.43                                                | N1000                                               | Train                                               | \n",
       "| RS_GCF_000832305.1_Cupriavidus basilensis           | RS_GCF_000832305.1                                  |  2                                                  |  99.94                                              | 0.47                                                | N1000                                               | Train                                               | \n",
       "| RS_GCF_001468265.1_Sphingopyxis sp. H050            | RS_GCF_001468265.1                                  | 23                                                  |  99.62                                              | 0.85                                                | N1000                                               | Train                                               | \n",
       "\n",
       "\n"
      ],
      "text/plain": [
       "  Taxon                                               accession         \n",
       "1 GB_GCA_002238865.1_Gemmatimonadetes bacterium bin94 GB_GCA_002238865.1\n",
       "2 RS_GCF_000429065.1_Silanimonas lenta DSM 16282      RS_GCF_000429065.1\n",
       "3 RS_GCF_900188435.1_Marinobacter sp. es.048          RS_GCF_900188435.1\n",
       "4 RS_GCF_001641615.1_Pseudoalteromonas gelatinilytica RS_GCF_001641615.1\n",
       "5 RS_GCF_000832305.1_Cupriavidus basilensis           RS_GCF_000832305.1\n",
       "6 RS_GCF_001468265.1_Sphingopyxis sp. H050            RS_GCF_001468265.1\n",
       "  scaffold_count checkm_completeness checkm_contamination dataset partition\n",
       "1 83              97.80              3.30                 N1000   Train    \n",
       "2 21              99.66              0.04                 N1000   Train    \n",
       "3  2             100.00              0.00                 N1000   Train    \n",
       "4 23             100.00              0.43                 N1000   Train    \n",
       "5  2              99.94              0.47                 N1000   Train    \n",
       "6 23              99.62              0.85                 N1000   Train    "
      ]
     },
     "metadata": {},
     "output_type": "display_data"
    }
   ],
   "source": [
    "df_all = do.call(rbind, list(train_n1000_ref, test_n100_ref, test_n100_ref,\n",
    "                             is_train_n1000_ref, is_test_n1000_ref)) \n",
    "\n",
    "df_all %>% head"
   ]
  },
  {
   "cell_type": "markdown",
   "metadata": {},
   "source": [
    "# Summary"
   ]
  },
  {
   "cell_type": "code",
   "execution_count": 24,
   "metadata": {
    "ExecuteTime": {
     "end_time": "2019-12-18T14:48:22.299078Z",
     "start_time": "2019-12-18T14:48:19.716Z"
    }
   },
   "outputs": [
    {
     "data": {
      "image/png": "[encoded data removed]",
      "text/plain": [
       "plot without title"
      ]
     },
     "metadata": {},
     "output_type": "display_data"
    }
   ],
   "source": [
    "p = df_all %>%\n",
    "    dplyr::select(Taxon, dataset, partition, checkm_completeness, checkm_contamination) %>%\n",
    "    gather(checkm_stat, checkm_value, -Taxon, -partition, -dataset) %>%\n",
    "    mutate(partition = factor(partition, levels=c('Train', 'Test')),\n",
    "           checkm_stat = ifelse(checkm_stat == 'checkm_completeness', 'Completenss', 'Contamination')) %>%\n",
    "    ggplot(aes(partition, checkm_value, color=dataset)) +\n",
    "    geom_boxplot() +\n",
    "    labs(x='Data partition', y='') +\n",
    "    facet_wrap(~ checkm_stat, scales='free_y') +\n",
    "    theme_bw()\n",
    "\n",
    "options(repr.plot.width=6, repr.plot.height=3)\n",
    "plot(p)"
   ]
  },
  {
   "cell_type": "markdown",
   "metadata": {},
   "source": [
    "# sessionInfo"
   ]
  },
  {
   "cell_type": "code",
   "execution_count": 25,
   "metadata": {
    "ExecuteTime": {
     "end_time": "2019-12-18T14:48:38.678602Z",
     "start_time": "2019-12-18T14:48:38.581Z"
    }
   },
   "outputs": [
    {
     "data": {
      "text/plain": [
       "R version 3.4.1 (2017-06-30)\n",
       "Platform: x86_64-pc-linux-gnu (64-bit)\n",
       "Running under: Ubuntu 18.04.3 LTS\n",
       "\n",
       "Matrix products: default\n",
       "BLAS: /ebio/abt3_projects/software/miniconda3_gt4.4/envs/py3_physeq/lib/R/lib/libRblas.so\n",
       "LAPACK: /ebio/abt3_projects/software/miniconda3_gt4.4/envs/py3_physeq/lib/R/lib/libRlapack.so\n",
       "\n",
       "locale:\n",
       "[1] en_US.UTF-8\n",
       "\n",
       "attached base packages:\n",
       "[1] stats     graphics  grDevices utils     datasets  methods   base     \n",
       "\n",
       "other attached packages:\n",
       "[1] bindrcpp_0.2.2 ggplot2_3.0.0  tidyr_0.8.1    dplyr_0.7.6   \n",
       "\n",
       "loaded via a namespace (and not attached):\n",
       " [1] Rcpp_0.12.17     pillar_1.2.2     compiler_3.4.1   plyr_1.8.4      \n",
       " [5] bindr_0.1.1      base64enc_0.1-3  tools_3.4.1      digest_0.6.15   \n",
       " [9] uuid_0.1-2       jsonlite_1.5     evaluate_0.10.1  tibble_1.4.2    \n",
       "[13] gtable_0.2.0     pkgconfig_2.0.1  rlang_0.2.1      IRdisplay_0.4.4 \n",
       "[17] IRkernel_0.8.12  repr_0.15.0      withr_2.1.1      stringr_1.3.1   \n",
       "[21] grid_3.4.1       tidyselect_0.2.4 glue_1.3.0       R6_2.2.2        \n",
       "[25] pbdZMQ_0.3-2     purrr_0.2.4      magrittr_1.5     scales_0.5.0    \n",
       "[29] htmltools_0.3.6  assertthat_0.2.0 colorspace_1.3-2 labeling_0.3    \n",
       "[33] stringi_1.2.3    lazyeval_0.2.1   munsell_0.5.0    crayon_1.3.4    "
      ]
     },
     "metadata": {},
     "output_type": "display_data"
    }
   ],
   "source": [
    "sessionInfo()"
   ]
  },
  {
   "cell_type": "code",
   "execution_count": null,
   "metadata": {},
   "outputs": [],
   "source": []
  }
 ],
 "metadata": {
  "kernelspec": {
   "display_name": "R [conda env:py3_physeq]",
   "language": "R",
   "name": "conda-env-py3_physeq-r"
  },
  "language_info": {
   "codemirror_mode": "r",
   "file_extension": ".r",
   "mimetype": "text/x-r-source",
   "name": "R",
   "pygments_lexer": "r",
   "version": "3.4.1"
  },
  "notify_time": "30",
  "toc": {
   "base_numbering": 1,
   "nav_menu": {},
   "number_sections": true,
   "sideBar": true,
   "skip_h1_title": false,
   "title_cell": "Table of Contents",
   "title_sidebar": "Contents",
   "toc_cell": true,
   "toc_position": {},
   "toc_section_display": true,
   "toc_window_display": true
  }
 },
 "nbformat": 4,
 "nbformat_minor": 2
}
