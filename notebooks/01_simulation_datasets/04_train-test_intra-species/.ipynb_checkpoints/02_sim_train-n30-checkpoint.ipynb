{
 "cells": [
  {
   "cell_type": "markdown",
   "metadata": {
    "toc": true
   },
   "source": [
    "<h1>Table of Contents<span class=\"tocSkip\"></span></h1>\n",
    "<div class=\"toc\"><ul class=\"toc-item\"><li><span><a href=\"#Goal\" data-toc-modified-id=\"Goal-1\"><span class=\"toc-item-num\">1&nbsp;&nbsp;</span>Goal</a></span></li><li><span><a href=\"#Var\" data-toc-modified-id=\"Var-2\"><span class=\"toc-item-num\">2&nbsp;&nbsp;</span>Var</a></span><ul class=\"toc-item\"><li><span><a href=\"#Init\" data-toc-modified-id=\"Init-2.1\"><span class=\"toc-item-num\">2.1&nbsp;&nbsp;</span>Init</a></span></li></ul></li><li><span><a href=\"#DeepMAsED-SM\" data-toc-modified-id=\"DeepMAsED-SM-3\"><span class=\"toc-item-num\">3&nbsp;&nbsp;</span>DeepMAsED-SM</a></span><ul class=\"toc-item\"><li><span><a href=\"#Config\" data-toc-modified-id=\"Config-3.1\"><span class=\"toc-item-num\">3.1&nbsp;&nbsp;</span>Config</a></span></li><li><span><a href=\"#Run\" data-toc-modified-id=\"Run-3.2\"><span class=\"toc-item-num\">3.2&nbsp;&nbsp;</span>Run</a></span></li></ul></li><li><span><a href=\"#Summary\" data-toc-modified-id=\"Summary-4\"><span class=\"toc-item-num\">4&nbsp;&nbsp;</span>Summary</a></span><ul class=\"toc-item\"><li><span><a href=\"#Communities\" data-toc-modified-id=\"Communities-4.1\"><span class=\"toc-item-num\">4.1&nbsp;&nbsp;</span>Communities</a></span></li><li><span><a href=\"#Feature-tables\" data-toc-modified-id=\"Feature-tables-4.2\"><span class=\"toc-item-num\">4.2&nbsp;&nbsp;</span>Feature tables</a></span><ul class=\"toc-item\"><li><span><a href=\"#No.-of-contigs\" data-toc-modified-id=\"No.-of-contigs-4.2.1\"><span class=\"toc-item-num\">4.2.1&nbsp;&nbsp;</span>No. of contigs</a></span></li><li><span><a href=\"#Misassembly-types\" data-toc-modified-id=\"Misassembly-types-4.2.2\"><span class=\"toc-item-num\">4.2.2&nbsp;&nbsp;</span>Misassembly types</a></span></li></ul></li></ul></li><li><span><a href=\"#sessionInfo\" data-toc-modified-id=\"sessionInfo-5\"><span class=\"toc-item-num\">5&nbsp;&nbsp;</span>sessionInfo</a></span></li></ul></div>"
   ]
  },
  {
   "cell_type": "markdown",
   "metadata": {},
   "source": [
    "# Goal\n",
    "\n",
    "* 30 replicate metagenome assemblies using intra-spec training genome dataset"
   ]
  },
  {
   "cell_type": "markdown",
   "metadata": {},
   "source": [
    "# Var"
   ]
  },
  {
   "cell_type": "code",
   "execution_count": 9,
   "metadata": {
    "ExecuteTime": {
     "end_time": "2019-11-12T07:55:44.317253Z",
     "start_time": "2019-11-12T07:55:44.266Z"
    }
   },
   "outputs": [],
   "source": [
    "ref_dir = '/ebio/abt3_projects/databases_no-backup/DeepMAsED/GTDB_ref_genomes/intraSpec/'\n",
    "ref_file = file.path(ref_dir, 'GTDBr86_genome-refs_train.tsv')\n",
    "work_dir = '/ebio/abt3_projects/databases_no-backup/DeepMAsED/train_runs/intra-species/n1000_r30/'\n",
    "\n",
    "# params\n",
    "pipeline_dir = '/ebio/abt3_projects/databases_no-backup/bin/deepmased/DeepMAsED-SM/'"
   ]
  },
  {
   "cell_type": "markdown",
   "metadata": {},
   "source": [
    "## Init"
   ]
  },
  {
   "cell_type": "code",
   "execution_count": 15,
   "metadata": {
    "ExecuteTime": {
     "end_time": "2019-11-16T07:33:08.227782Z",
     "start_time": "2019-11-16T07:33:08.157Z"
    }
   },
   "outputs": [],
   "source": [
    "library(dplyr)\n",
    "library(tidyr)\n",
    "library(ggplot2)\n",
    "library(data.table)\n",
    "source('/ebio/abt3_projects/software/dev/DeepMAsED/bin/misc_r_functions/init.R')"
   ]
  },
  {
   "cell_type": "code",
   "execution_count": 3,
   "metadata": {
    "ExecuteTime": {
     "end_time": "2019-11-12T07:50:29.458554Z",
     "start_time": "2019-11-12T07:50:29.405Z"
    }
   },
   "outputs": [],
   "source": [
    "#' \"cat {file}\" in R\n",
    "cat_file = function(file_name){\n",
    "    cmd = paste('cat', file_name, collapse=' ')\n",
    "    system(cmd, intern=TRUE) %>% paste(collapse='\\n') %>% cat\n",
    "}"
   ]
  },
  {
   "cell_type": "markdown",
   "metadata": {},
   "source": [
    "# DeepMAsED-SM"
   ]
  },
  {
   "cell_type": "markdown",
   "metadata": {},
   "source": [
    "## Config"
   ]
  },
  {
   "cell_type": "code",
   "execution_count": 8,
   "metadata": {
    "ExecuteTime": {
     "end_time": "2019-11-12T07:52:55.008917Z",
     "start_time": "2019-11-12T07:52:54.958Z"
    }
   },
   "outputs": [
    {
     "name": "stdout",
     "output_type": "stream",
     "text": [
      "# Input\n",
      "genomes_file: /ebio/abt3_projects/databases_no-backup/DeepMAsED/GTDB_ref_genomes/intraSpec/GTDBr86_genome-refs_train.tsv\n",
      "\n",
      "# Output location\n",
      "output_dir: /ebio/abt3_projects/databases_no-backup/DeepMAsED/train_runs/intra-species/n1000_r30/\n",
      "\n",
      "\n",
      "# software parameters\n",
      "# Use \"Skip\" to skip  steps. If no params for rule, use \"\"\n",
      "params:\n",
      "  # simulating metagenomes\n",
      "  reps: 30\n",
      "  MGSIM:\n",
      "    genome_download: \"\"\n",
      "    communities: --richness 1\n",
      "    reads: --sr-seq-depth 1e6 --art-paired --art-mflen 250\n",
      "  # coverage\n",
      "  nonpareil: -T kmer\n",
      "  nonpareil_summary: 1e9   # this is target seq. depth    \n",
      "  # assemblying metagenomes\n",
      "  assemblers:\n",
      "    metaspades: -k auto --only-assembler\n",
      "    megahit: --min-count 3 --min-contig-len 1000 --presets meta-sensitive\n",
      "  # assembly filtering\n",
      "  contig_length_cutoff: 1000       # length in bp \n",
      "  # assessing assembly errors\n",
      "  minimap2: \"\"\n",
      "  metaquast: --min-identity 95 --extensive-mis-size 100 --no-icarus --max-ref-number 0\n",
      "  # mapping reads to contigs\n",
      "  samtools: \"\"\n",
      "  # creating DL features\n",
      "  make_features: \"\"\n",
      "  # state-of-the-art\n",
      "  ## ALE\n",
      "  ALE: \"\"\n",
      "  ## VALET\n",
      "  VALET: \"\"\n",
      "\n",
      "# snakemake pipeline\n",
      "pipeline:\n",
      "  snakemake_folder: ./\n",
      "  script_folder: ./bin/scripts/\n",
      "  temp_folder: /tmp/global/\n",
      "  rnd_seed: 9384"
     ]
    }
   ],
   "source": [
    "config_file = file.path(work_dir, 'config.yaml')\n",
    "cat_file(config_file)"
   ]
  },
  {
   "cell_type": "markdown",
   "metadata": {},
   "source": [
    "## Run"
   ]
  },
  {
   "cell_type": "markdown",
   "metadata": {},
   "source": [
    "```\n",
    "(snakemake_dev) @ rick:/ebio/abt3_projects/databases_no-backup/bin/deepmased/DeepMAsED-SM\n",
    "screen -L -S DM-intraS-train ./snakemake_sge.sh /ebio/abt3_projects/databases_no-backup/DeepMAsED/train_runs/intra-species/n1000_r30/config.yaml cluster.json /ebio/abt3_projects/databases_no-backup/DeepMAsED/train_runs/intra-species/n1000_r30/SGE_log/ 30\n",
    "```"
   ]
  },
  {
   "cell_type": "markdown",
   "metadata": {},
   "source": [
    "# Summary"
   ]
  },
  {
   "cell_type": "markdown",
   "metadata": {},
   "source": [
    "## Communities"
   ]
  },
  {
   "cell_type": "code",
   "execution_count": null,
   "metadata": {
    "ExecuteTime": {
     "start_time": "2019-11-16T07:33:16.969Z"
    }
   },
   "outputs": [],
   "source": [
    "comm_files = list.files(file.path(work_dir, 'MGSIM'), 'comm_wAbund.txt', full.names=TRUE, recursive=TRUE)\n",
    "comm_files %>% length %>% print\n",
    "comm_files %>% head"
   ]
  },
  {
   "cell_type": "code",
   "execution_count": null,
   "metadata": {
    "ExecuteTime": {
     "start_time": "2019-11-16T07:33:17.105Z"
    }
   },
   "outputs": [],
   "source": [
    "comms = list()\n",
    "for(F in comm_files){\n",
    "    df = read.delim(F, sep='\\t')\n",
    "    df$Rep = basename(dirname(F))\n",
    "    comms[[F]] = df\n",
    "}\n",
    "comms = do.call(rbind, comms)\n",
    "rownames(comms) = 1:nrow(comms)\n",
    "comms %>% dfhead"
   ]
  },
  {
   "cell_type": "code",
   "execution_count": null,
   "metadata": {
    "ExecuteTime": {
     "start_time": "2019-11-16T07:33:17.248Z"
    }
   },
   "outputs": [],
   "source": [
    "p = comms %>%\n",
    "    mutate(Perc_rel_abund = ifelse(Perc_rel_abund == 0, 1e-5, Perc_rel_abund)) %>%\n",
    "    group_by(Taxon) %>%\n",
    "    summarize(mean_perc_abund = mean(Perc_rel_abund),\n",
    "              sd_perc_abund = sd(Perc_rel_abund)) %>%\n",
    "    ungroup() %>%\n",
    "    mutate(neg_sd_perc_abund = mean_perc_abund - sd_perc_abund,\n",
    "           pos_sd_perc_abund = mean_perc_abund + sd_perc_abund,\n",
    "           neg_sd_perc_abund = ifelse(neg_sd_perc_abund <= 0, 1e-5, neg_sd_perc_abund)) %>%\n",
    "    mutate(Taxon = Taxon %>% reorder(-mean_perc_abund)) %>%\n",
    "    ggplot(aes(Taxon, mean_perc_abund)) +\n",
    "    geom_linerange(aes(ymin=neg_sd_perc_abund, ymax=pos_sd_perc_abund),\n",
    "                   size=0.3, alpha=0.3) +\n",
    "    geom_point(size=0.5, alpha=0.4, color='red') +\n",
    "    labs(y='% abundance') +\n",
    "    theme_bw() +\n",
    "    theme(\n",
    "        axis.text.x = element_blank(),\n",
    "        panel.grid.major.x = element_blank(), \n",
    "        panel.grid.major.y = element_blank(), \n",
    "        panel.grid.minor.x = element_blank(),\n",
    "        panel.grid.minor.y = element_blank()\n",
    "    )\n",
    "\n",
    "dims(10,2.5)\n",
    "plot(p)"
   ]
  },
  {
   "cell_type": "code",
   "execution_count": null,
   "metadata": {
    "ExecuteTime": {
     "start_time": "2019-11-16T07:33:17.401Z"
    }
   },
   "outputs": [],
   "source": [
    "dims(10,2.5)\n",
    "plot(p + scale_y_log10())"
   ]
  },
  {
   "cell_type": "markdown",
   "metadata": {},
   "source": [
    "## Feature tables"
   ]
  },
  {
   "cell_type": "code",
   "execution_count": 12,
   "metadata": {
    "ExecuteTime": {
     "end_time": "2019-11-16T06:39:01.816355Z",
     "start_time": "2019-11-16T06:39:01.608Z"
    }
   },
   "outputs": [
    {
     "name": "stdout",
     "output_type": "stream",
     "text": [
      "[1] 60\n"
     ]
    },
    {
     "data": {
      "text/html": [
       "<ol class=list-inline>\n",
       "\t<li>'/ebio/abt3_projects/databases_no-backup/DeepMAsED/train_runs/intra-species/n1000_r30//map/1/megahit/features.tsv.gz'</li>\n",
       "\t<li>'/ebio/abt3_projects/databases_no-backup/DeepMAsED/train_runs/intra-species/n1000_r30//map/1/metaspades/features.tsv.gz'</li>\n",
       "\t<li>'/ebio/abt3_projects/databases_no-backup/DeepMAsED/train_runs/intra-species/n1000_r30//map/10/megahit/features.tsv.gz'</li>\n",
       "\t<li>'/ebio/abt3_projects/databases_no-backup/DeepMAsED/train_runs/intra-species/n1000_r30//map/10/metaspades/features.tsv.gz'</li>\n",
       "\t<li>'/ebio/abt3_projects/databases_no-backup/DeepMAsED/train_runs/intra-species/n1000_r30//map/11/megahit/features.tsv.gz'</li>\n",
       "\t<li>'/ebio/abt3_projects/databases_no-backup/DeepMAsED/train_runs/intra-species/n1000_r30//map/11/metaspades/features.tsv.gz'</li>\n",
       "</ol>\n"
      ],
      "text/latex": [
       "\\begin{enumerate*}\n",
       "\\item '/ebio/abt3\\_projects/databases\\_no-backup/DeepMAsED/train\\_runs/intra-species/n1000\\_r30//map/1/megahit/features.tsv.gz'\n",
       "\\item '/ebio/abt3\\_projects/databases\\_no-backup/DeepMAsED/train\\_runs/intra-species/n1000\\_r30//map/1/metaspades/features.tsv.gz'\n",
       "\\item '/ebio/abt3\\_projects/databases\\_no-backup/DeepMAsED/train\\_runs/intra-species/n1000\\_r30//map/10/megahit/features.tsv.gz'\n",
       "\\item '/ebio/abt3\\_projects/databases\\_no-backup/DeepMAsED/train\\_runs/intra-species/n1000\\_r30//map/10/metaspades/features.tsv.gz'\n",
       "\\item '/ebio/abt3\\_projects/databases\\_no-backup/DeepMAsED/train\\_runs/intra-species/n1000\\_r30//map/11/megahit/features.tsv.gz'\n",
       "\\item '/ebio/abt3\\_projects/databases\\_no-backup/DeepMAsED/train\\_runs/intra-species/n1000\\_r30//map/11/metaspades/features.tsv.gz'\n",
       "\\end{enumerate*}\n"
      ],
      "text/markdown": [
       "1. '/ebio/abt3_projects/databases_no-backup/DeepMAsED/train_runs/intra-species/n1000_r30//map/1/megahit/features.tsv.gz'\n",
       "2. '/ebio/abt3_projects/databases_no-backup/DeepMAsED/train_runs/intra-species/n1000_r30//map/1/metaspades/features.tsv.gz'\n",
       "3. '/ebio/abt3_projects/databases_no-backup/DeepMAsED/train_runs/intra-species/n1000_r30//map/10/megahit/features.tsv.gz'\n",
       "4. '/ebio/abt3_projects/databases_no-backup/DeepMAsED/train_runs/intra-species/n1000_r30//map/10/metaspades/features.tsv.gz'\n",
       "5. '/ebio/abt3_projects/databases_no-backup/DeepMAsED/train_runs/intra-species/n1000_r30//map/11/megahit/features.tsv.gz'\n",
       "6. '/ebio/abt3_projects/databases_no-backup/DeepMAsED/train_runs/intra-species/n1000_r30//map/11/metaspades/features.tsv.gz'\n",
       "\n",
       "\n"
      ],
      "text/plain": [
       "[1] \"/ebio/abt3_projects/databases_no-backup/DeepMAsED/train_runs/intra-species/n1000_r30//map/1/megahit/features.tsv.gz\"    \n",
       "[2] \"/ebio/abt3_projects/databases_no-backup/DeepMAsED/train_runs/intra-species/n1000_r30//map/1/metaspades/features.tsv.gz\" \n",
       "[3] \"/ebio/abt3_projects/databases_no-backup/DeepMAsED/train_runs/intra-species/n1000_r30//map/10/megahit/features.tsv.gz\"   \n",
       "[4] \"/ebio/abt3_projects/databases_no-backup/DeepMAsED/train_runs/intra-species/n1000_r30//map/10/metaspades/features.tsv.gz\"\n",
       "[5] \"/ebio/abt3_projects/databases_no-backup/DeepMAsED/train_runs/intra-species/n1000_r30//map/11/megahit/features.tsv.gz\"   \n",
       "[6] \"/ebio/abt3_projects/databases_no-backup/DeepMAsED/train_runs/intra-species/n1000_r30//map/11/metaspades/features.tsv.gz\""
      ]
     },
     "metadata": {},
     "output_type": "display_data"
    }
   ],
   "source": [
    "feat_files = list.files(file.path(work_dir, 'map'), 'features.tsv.gz', full.names=TRUE, recursive=TRUE)\n",
    "feat_files %>% length %>% print\n",
    "feat_files %>% head"
   ]
  },
  {
   "cell_type": "code",
   "execution_count": null,
   "metadata": {
    "ExecuteTime": {
     "start_time": "2019-11-16T07:33:11.186Z"
    }
   },
   "outputs": [],
   "source": [
    "feats = list()\n",
    "for(F in feat_files){\n",
    "    cmd = glue::glue('gunzip -c {F}', F=F)\n",
    "    df = fread(cmd, sep='\\t') %>%\n",
    "        distinct(contig, assembler, Extensive_misassembly)\n",
    "    df$Rep = basename(dirname(dirname(F)))\n",
    "    feats[[F]] = df\n",
    "}\n",
    "feats = do.call(rbind, feats)\n",
    "rownames(feats) = 1:nrow(feats)\n",
    "feats %>% dfhead"
   ]
  },
  {
   "cell_type": "markdown",
   "metadata": {},
   "source": [
    "### No. of contigs"
   ]
  },
  {
   "cell_type": "code",
   "execution_count": null,
   "metadata": {
    "ExecuteTime": {
     "start_time": "2019-11-16T07:33:12.153Z"
    }
   },
   "outputs": [],
   "source": [
    "feats_s = feats %>%\n",
    "    group_by(assembler, Rep) %>%\n",
    "    summarize(n_contigs = n_distinct(contig)) %>%\n",
    "    ungroup \n",
    "\n",
    "feats_s$n_contigs %>% summary"
   ]
  },
  {
   "cell_type": "markdown",
   "metadata": {},
   "source": [
    "### Misassembly types"
   ]
  },
  {
   "cell_type": "code",
   "execution_count": null,
   "metadata": {
    "ExecuteTime": {
     "start_time": "2019-11-16T07:33:12.689Z"
    }
   },
   "outputs": [],
   "source": [
    "p = feats %>%\n",
    "    mutate(Extensive_misassembly = ifelse(Extensive_misassembly == '', 'None',\n",
    "                                          Extensive_misassembly)) %>%\n",
    "    group_by(Extensive_misassembly, assembler, Rep) %>%\n",
    "    summarize(n = n()) %>%\n",
    "    ungroup() %>%\n",
    "    ggplot(aes(Extensive_misassembly, n, color=assembler)) +\n",
    "    geom_boxplot() +\n",
    "    scale_y_log10() +\n",
    "    labs(x='metaQUAST extensive mis-assembly', y='Count') +\n",
    "    coord_flip() +\n",
    "    theme_bw() +\n",
    "    theme(\n",
    "        axis.text.x = element_text(angle=45, hjust=1)\n",
    "    )\n",
    "\n",
    "dims(8,4)\n",
    "plot(p)"
   ]
  },
  {
   "cell_type": "markdown",
   "metadata": {},
   "source": [
    "# sessionInfo"
   ]
  },
  {
   "cell_type": "code",
   "execution_count": null,
   "metadata": {
    "ExecuteTime": {
     "start_time": "2019-11-16T07:33:13.441Z"
    }
   },
   "outputs": [],
   "source": [
    "sessionInfo()"
   ]
  },
  {
   "cell_type": "code",
   "execution_count": null,
   "metadata": {},
   "outputs": [],
   "source": []
  }
 ],
 "metadata": {
  "kernelspec": {
   "display_name": "R [conda env:py3_physeq]",
   "language": "R",
   "name": "conda-env-py3_physeq-r"
  },
  "language_info": {
   "codemirror_mode": "r",
   "file_extension": ".r",
   "mimetype": "text/x-r-source",
   "name": "R",
   "pygments_lexer": "r",
   "version": "3.4.1"
  },
  "notify_time": "30",
  "toc": {
   "base_numbering": 1,
   "nav_menu": {},
   "number_sections": true,
   "sideBar": true,
   "skip_h1_title": false,
   "title_cell": "Table of Contents",
   "title_sidebar": "Contents",
   "toc_cell": true,
   "toc_position": {},
   "toc_section_display": true,
   "toc_window_display": true
  }
 },
 "nbformat": 4,
 "nbformat_minor": 2
}
