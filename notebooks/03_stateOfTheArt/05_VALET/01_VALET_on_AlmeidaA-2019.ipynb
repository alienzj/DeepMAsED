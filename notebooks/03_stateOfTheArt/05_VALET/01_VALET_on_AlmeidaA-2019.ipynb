{
 "cells": [
  {
   "cell_type": "markdown",
   "metadata": {
    "toc": true
   },
   "source": [
    "<h1>Table of Contents<span class=\"tocSkip\"></span></h1>\n",
    "<div class=\"toc\"><ul class=\"toc-item\"><li><span><a href=\"#Goal\" data-toc-modified-id=\"Goal-1\"><span class=\"toc-item-num\">1&nbsp;&nbsp;</span>Goal</a></span></li><li><span><a href=\"#Var\" data-toc-modified-id=\"Var-2\"><span class=\"toc-item-num\">2&nbsp;&nbsp;</span>Var</a></span></li><li><span><a href=\"#Init\" data-toc-modified-id=\"Init-3\"><span class=\"toc-item-num\">3&nbsp;&nbsp;</span>Init</a></span></li><li><span><a href=\"#Load\" data-toc-modified-id=\"Load-4\"><span class=\"toc-item-num\">4&nbsp;&nbsp;</span>Load</a></span></li><li><span><a href=\"#Run\" data-toc-modified-id=\"Run-5\"><span class=\"toc-item-num\">5&nbsp;&nbsp;</span>Run</a></span><ul class=\"toc-item\"><li><span><a href=\"#Determining-which-succeeded\" data-toc-modified-id=\"Determining-which-succeeded-5.1\"><span class=\"toc-item-num\">5.1&nbsp;&nbsp;</span>Determining which succeeded</a></span></li><li><span><a href=\"#Re-run\" data-toc-modified-id=\"Re-run-5.2\"><span class=\"toc-item-num\">5.2&nbsp;&nbsp;</span>Re-run</a></span><ul class=\"toc-item\"><li><span><a href=\"#Creating-blank-summary.tsv-files\" data-toc-modified-id=\"Creating-blank-summary.tsv-files-5.2.1\"><span class=\"toc-item-num\">5.2.1&nbsp;&nbsp;</span>Creating blank summary.tsv files</a></span></li></ul></li></ul></li><li><span><a href=\"#Summary\" data-toc-modified-id=\"Summary-6\"><span class=\"toc-item-num\">6&nbsp;&nbsp;</span>Summary</a></span></li><li><span><a href=\"#sessionInfo\" data-toc-modified-id=\"sessionInfo-7\"><span class=\"toc-item-num\">7&nbsp;&nbsp;</span>sessionInfo</a></span></li></ul></div>"
   ]
  },
  {
   "cell_type": "markdown",
   "metadata": {},
   "source": [
    "# Goal\n",
    "\n",
    "* run VALET on AlmeidaA-2019 MAGs (those selected for analysis with DeepMAsED)"
   ]
  },
  {
   "cell_type": "markdown",
   "metadata": {},
   "source": [
    "# Var"
   ]
  },
  {
   "cell_type": "code",
   "execution_count": 3,
   "metadata": {
    "ExecuteTime": {
     "end_time": "2019-12-02T18:20:41.889101Z",
     "start_time": "2019-12-02T18:20:41.837Z"
    }
   },
   "outputs": [],
   "source": [
    "work_dir = '/ebio/abt3_projects/databases_no-backup/DeepMAsED/MAG_datasets/AlmeidaA-2019/samples_n143_MAG-feats/VALET/'\n",
    "\n",
    "# file of MAGs used for DeepMAsED analysis \n",
    "MAGs_n143_file = '/ebio/abt3_projects/databases_no-backup/DeepMAsED/MAG_datasets/AlmeidaA-2019/samples_n143_w-MAGs.txt'\n",
    "\n",
    "# bam file dir (mapping of metagenome reads to corresponding MAGs)\n",
    "map_dir = '/ebio/abt3_projects/databases_no-backup/DeepMAsED/MAG_datasets/AlmeidaA-2019/samples_n143_MAG-feats/map/'\n",
    "\n",
    "# params\n",
    "conda_env = 'VALET'\n",
    "threads = 8"
   ]
  },
  {
   "cell_type": "markdown",
   "metadata": {},
   "source": [
    "# Init"
   ]
  },
  {
   "cell_type": "code",
   "execution_count": 5,
   "metadata": {
    "ExecuteTime": {
     "end_time": "2019-12-02T18:20:45.224985Z",
     "start_time": "2019-12-02T18:20:44.547Z"
    }
   },
   "outputs": [],
   "source": [
    "library(dplyr)\n",
    "library(tidyr)\n",
    "library(ggplot2)\n",
    "library(data.table)\n",
    "library(doParallel)\n",
    "\n",
    "library(future)\n",
    "library(future.batchtools)\n",
    "library(future.apply)\n",
    "options(future.wait.interval = 2.0)"
   ]
  },
  {
   "cell_type": "code",
   "execution_count": 6,
   "metadata": {
    "ExecuteTime": {
     "end_time": "2019-12-02T18:20:45.252456Z",
     "start_time": "2019-12-02T18:20:44.945Z"
    }
   },
   "outputs": [],
   "source": [
    "bash_job = function(cmd, conda_env, stdout=TRUE, stderr=FALSE){\n",
    "    # cmd : string; commandline job (eg., 'ls -thlc')\n",
    "    # conda_env : string; conda environment name\n",
    "    cmd = sprintf('. ~/.bashrc; conda activate %s; %s', conda_env, cmd)\n",
    "    cmd = sprintf('-c \"%s\"', cmd)\n",
    "    system2('bash', cmd, stdout=stdout, stderr=stderr)\n",
    "}"
   ]
  },
  {
   "cell_type": "markdown",
   "metadata": {},
   "source": [
    "# Load"
   ]
  },
  {
   "cell_type": "code",
   "execution_count": 7,
   "metadata": {
    "ExecuteTime": {
     "end_time": "2019-12-02T18:20:47.255988Z",
     "start_time": "2019-12-02T18:20:46.821Z"
    }
   },
   "outputs": [
    {
     "data": {
      "text/html": [
       "<table>\n",
       "<thead><tr><th scope=col>Taxon</th><th scope=col>Completeness</th><th scope=col>Contamination</th><th scope=col>Strain_heterogeneity</th><th scope=col>CheckM_lineage</th><th scope=col>Sample</th><th scope=col>Fasta</th><th scope=col>Read1</th><th scope=col>Read2</th></tr></thead>\n",
       "<tbody>\n",
       "\t<tr><td>SRR1039533_bin.12                                                                                                           </td><td>99.29                                                                                                                       </td><td>0.95                                                                                                                        </td><td>0                                                                                                                           </td><td>k__Bacteria;p__Actinobacteria;c__Actinobacteria;o__Actinomycetales;f__Actinomycetaceae;g__Actinomyces                       </td><td>SRR1039533                                                                                                                  </td><td>/ebio/abt3_projects/databases_no-backup/DeepMAsED/MAG_datasets/AlmeidaA-2019/mags/SRR1039533_bin.12.fa.gz                   </td><td>/ebio/abt3_projects/databases_no-backup/DeepMAsED/MAG_datasets/AlmeidaA-2019/LLMGQC/final/SRR1039533/R1_final.fq.gz         </td><td>/ebio/abt3_projects/databases_no-backup/DeepMAsED/MAG_datasets/AlmeidaA-2019/LLMGQC/final/SRR1039533/R2_final.fq.gz         </td></tr>\n",
       "\t<tr><td>SRR1039533_bin.14                                                                                                           </td><td>69.19                                                                                                                       </td><td>0.00                                                                                                                        </td><td>0                                                                                                                           </td><td>k__Bacteria;p__Actinobacteria;c__Actinobacteria;o__Actinomycetales;f__Actinomycetaceae;g__Actinomyces_2;s__Actinomyces_neuii</td><td>SRR1039533                                                                                                                  </td><td>/ebio/abt3_projects/databases_no-backup/DeepMAsED/MAG_datasets/AlmeidaA-2019/mags/SRR1039533_bin.14.fa.gz                   </td><td>/ebio/abt3_projects/databases_no-backup/DeepMAsED/MAG_datasets/AlmeidaA-2019/LLMGQC/final/SRR1039533/R1_final.fq.gz         </td><td>/ebio/abt3_projects/databases_no-backup/DeepMAsED/MAG_datasets/AlmeidaA-2019/LLMGQC/final/SRR1039533/R2_final.fq.gz         </td></tr>\n",
       "\t<tr><td>SRR1039533_bin.19                                                                                                           </td><td>94.15                                                                                                                       </td><td>0.15                                                                                                                        </td><td>0                                                                                                                           </td><td>k__Bacteria;p__Actinobacteria;c__Actinobacteria;o__Actinomycetales;f__Dermabacteraceae                                      </td><td>SRR1039533                                                                                                                  </td><td>/ebio/abt3_projects/databases_no-backup/DeepMAsED/MAG_datasets/AlmeidaA-2019/mags/SRR1039533_bin.19.fa.gz                   </td><td>/ebio/abt3_projects/databases_no-backup/DeepMAsED/MAG_datasets/AlmeidaA-2019/LLMGQC/final/SRR1039533/R1_final.fq.gz         </td><td>/ebio/abt3_projects/databases_no-backup/DeepMAsED/MAG_datasets/AlmeidaA-2019/LLMGQC/final/SRR1039533/R2_final.fq.gz         </td></tr>\n",
       "</tbody>\n",
       "</table>\n"
      ],
      "text/latex": [
       "\\begin{tabular}{r|lllllllll}\n",
       " Taxon & Completeness & Contamination & Strain\\_heterogeneity & CheckM\\_lineage & Sample & Fasta & Read1 & Read2\\\\\n",
       "\\hline\n",
       "\t SRR1039533\\_bin.12                                                                                                                                  & 99.29                                                                                                                                                & 0.95                                                                                                                                                 & 0                                                                                                                                                    & k\\_\\_Bacteria;p\\_\\_Actinobacteria;c\\_\\_Actinobacteria;o\\_\\_Actinomycetales;f\\_\\_Actinomycetaceae;g\\_\\_Actinomyces                        & SRR1039533                                                                                                                                           & /ebio/abt3\\_projects/databases\\_no-backup/DeepMAsED/MAG\\_datasets/AlmeidaA-2019/mags/SRR1039533\\_bin.12.fa.gz                                    & /ebio/abt3\\_projects/databases\\_no-backup/DeepMAsED/MAG\\_datasets/AlmeidaA-2019/LLMGQC/final/SRR1039533/R1\\_final.fq.gz                          & /ebio/abt3\\_projects/databases\\_no-backup/DeepMAsED/MAG\\_datasets/AlmeidaA-2019/LLMGQC/final/SRR1039533/R2\\_final.fq.gz                         \\\\\n",
       "\t SRR1039533\\_bin.14                                                                                                                                          & 69.19                                                                                                                                                        & 0.00                                                                                                                                                         & 0                                                                                                                                                            & k\\_\\_Bacteria;p\\_\\_Actinobacteria;c\\_\\_Actinobacteria;o\\_\\_Actinomycetales;f\\_\\_Actinomycetaceae;g\\_\\_Actinomyces\\_2;s\\_\\_Actinomyces\\_neuii & SRR1039533                                                                                                                                                   & /ebio/abt3\\_projects/databases\\_no-backup/DeepMAsED/MAG\\_datasets/AlmeidaA-2019/mags/SRR1039533\\_bin.14.fa.gz                                            & /ebio/abt3\\_projects/databases\\_no-backup/DeepMAsED/MAG\\_datasets/AlmeidaA-2019/LLMGQC/final/SRR1039533/R1\\_final.fq.gz                                  & /ebio/abt3\\_projects/databases\\_no-backup/DeepMAsED/MAG\\_datasets/AlmeidaA-2019/LLMGQC/final/SRR1039533/R2\\_final.fq.gz                                 \\\\\n",
       "\t SRR1039533\\_bin.19                                                                                                                              & 94.15                                                                                                                                            & 0.15                                                                                                                                             & 0                                                                                                                                                & k\\_\\_Bacteria;p\\_\\_Actinobacteria;c\\_\\_Actinobacteria;o\\_\\_Actinomycetales;f\\_\\_Dermabacteraceae                                       & SRR1039533                                                                                                                                       & /ebio/abt3\\_projects/databases\\_no-backup/DeepMAsED/MAG\\_datasets/AlmeidaA-2019/mags/SRR1039533\\_bin.19.fa.gz                                & /ebio/abt3\\_projects/databases\\_no-backup/DeepMAsED/MAG\\_datasets/AlmeidaA-2019/LLMGQC/final/SRR1039533/R1\\_final.fq.gz                      & /ebio/abt3\\_projects/databases\\_no-backup/DeepMAsED/MAG\\_datasets/AlmeidaA-2019/LLMGQC/final/SRR1039533/R2\\_final.fq.gz                     \\\\\n",
       "\\end{tabular}\n"
      ],
      "text/markdown": [
       "\n",
       "Taxon | Completeness | Contamination | Strain_heterogeneity | CheckM_lineage | Sample | Fasta | Read1 | Read2 | \n",
       "|---|---|---|\n",
       "| SRR1039533_bin.12                                                                                                            | 99.29                                                                                                                        | 0.95                                                                                                                         | 0                                                                                                                            | k__Bacteria;p__Actinobacteria;c__Actinobacteria;o__Actinomycetales;f__Actinomycetaceae;g__Actinomyces                        | SRR1039533                                                                                                                   | /ebio/abt3_projects/databases_no-backup/DeepMAsED/MAG_datasets/AlmeidaA-2019/mags/SRR1039533_bin.12.fa.gz                    | /ebio/abt3_projects/databases_no-backup/DeepMAsED/MAG_datasets/AlmeidaA-2019/LLMGQC/final/SRR1039533/R1_final.fq.gz          | /ebio/abt3_projects/databases_no-backup/DeepMAsED/MAG_datasets/AlmeidaA-2019/LLMGQC/final/SRR1039533/R2_final.fq.gz          | \n",
       "| SRR1039533_bin.14                                                                                                            | 69.19                                                                                                                        | 0.00                                                                                                                         | 0                                                                                                                            | k__Bacteria;p__Actinobacteria;c__Actinobacteria;o__Actinomycetales;f__Actinomycetaceae;g__Actinomyces_2;s__Actinomyces_neuii | SRR1039533                                                                                                                   | /ebio/abt3_projects/databases_no-backup/DeepMAsED/MAG_datasets/AlmeidaA-2019/mags/SRR1039533_bin.14.fa.gz                    | /ebio/abt3_projects/databases_no-backup/DeepMAsED/MAG_datasets/AlmeidaA-2019/LLMGQC/final/SRR1039533/R1_final.fq.gz          | /ebio/abt3_projects/databases_no-backup/DeepMAsED/MAG_datasets/AlmeidaA-2019/LLMGQC/final/SRR1039533/R2_final.fq.gz          | \n",
       "| SRR1039533_bin.19                                                                                                            | 94.15                                                                                                                        | 0.15                                                                                                                         | 0                                                                                                                            | k__Bacteria;p__Actinobacteria;c__Actinobacteria;o__Actinomycetales;f__Dermabacteraceae                                       | SRR1039533                                                                                                                   | /ebio/abt3_projects/databases_no-backup/DeepMAsED/MAG_datasets/AlmeidaA-2019/mags/SRR1039533_bin.19.fa.gz                    | /ebio/abt3_projects/databases_no-backup/DeepMAsED/MAG_datasets/AlmeidaA-2019/LLMGQC/final/SRR1039533/R1_final.fq.gz          | /ebio/abt3_projects/databases_no-backup/DeepMAsED/MAG_datasets/AlmeidaA-2019/LLMGQC/final/SRR1039533/R2_final.fq.gz          | \n",
       "\n",
       "\n"
      ],
      "text/plain": [
       "  Taxon             Completeness Contamination Strain_heterogeneity\n",
       "1 SRR1039533_bin.12 99.29        0.95          0                   \n",
       "2 SRR1039533_bin.14 69.19        0.00          0                   \n",
       "3 SRR1039533_bin.19 94.15        0.15          0                   \n",
       "  CheckM_lineage                                                                                                              \n",
       "1 k__Bacteria;p__Actinobacteria;c__Actinobacteria;o__Actinomycetales;f__Actinomycetaceae;g__Actinomyces                       \n",
       "2 k__Bacteria;p__Actinobacteria;c__Actinobacteria;o__Actinomycetales;f__Actinomycetaceae;g__Actinomyces_2;s__Actinomyces_neuii\n",
       "3 k__Bacteria;p__Actinobacteria;c__Actinobacteria;o__Actinomycetales;f__Dermabacteraceae                                      \n",
       "  Sample    \n",
       "1 SRR1039533\n",
       "2 SRR1039533\n",
       "3 SRR1039533\n",
       "  Fasta                                                                                                    \n",
       "1 /ebio/abt3_projects/databases_no-backup/DeepMAsED/MAG_datasets/AlmeidaA-2019/mags/SRR1039533_bin.12.fa.gz\n",
       "2 /ebio/abt3_projects/databases_no-backup/DeepMAsED/MAG_datasets/AlmeidaA-2019/mags/SRR1039533_bin.14.fa.gz\n",
       "3 /ebio/abt3_projects/databases_no-backup/DeepMAsED/MAG_datasets/AlmeidaA-2019/mags/SRR1039533_bin.19.fa.gz\n",
       "  Read1                                                                                                              \n",
       "1 /ebio/abt3_projects/databases_no-backup/DeepMAsED/MAG_datasets/AlmeidaA-2019/LLMGQC/final/SRR1039533/R1_final.fq.gz\n",
       "2 /ebio/abt3_projects/databases_no-backup/DeepMAsED/MAG_datasets/AlmeidaA-2019/LLMGQC/final/SRR1039533/R1_final.fq.gz\n",
       "3 /ebio/abt3_projects/databases_no-backup/DeepMAsED/MAG_datasets/AlmeidaA-2019/LLMGQC/final/SRR1039533/R1_final.fq.gz\n",
       "  Read2                                                                                                              \n",
       "1 /ebio/abt3_projects/databases_no-backup/DeepMAsED/MAG_datasets/AlmeidaA-2019/LLMGQC/final/SRR1039533/R2_final.fq.gz\n",
       "2 /ebio/abt3_projects/databases_no-backup/DeepMAsED/MAG_datasets/AlmeidaA-2019/LLMGQC/final/SRR1039533/R2_final.fq.gz\n",
       "3 /ebio/abt3_projects/databases_no-backup/DeepMAsED/MAG_datasets/AlmeidaA-2019/LLMGQC/final/SRR1039533/R2_final.fq.gz"
      ]
     },
     "metadata": {},
     "output_type": "display_data"
    }
   ],
   "source": [
    "MAGs_n143 = read.delim(MAGs_n143_file, sep='\\t')\n",
    "MAGs_n143 %>% head(n=3)"
   ]
  },
  {
   "cell_type": "markdown",
   "metadata": {},
   "source": [
    "# Run"
   ]
  },
  {
   "cell_type": "code",
   "execution_count": 72,
   "metadata": {
    "ExecuteTime": {
     "end_time": "2019-11-21T09:14:25.778033Z",
     "start_time": "2019-11-21T09:14:25.729Z"
    }
   },
   "outputs": [],
   "source": [
    "#' creating valet commands\n",
    "VALET_cmd = function(ref, read1, read2, outdir, threads){\n",
    "    # L = c(ref, read1, read2)\n",
    "    baseout = basename(as.character(ref))\n",
    "    baseout = gsub('\\\\.fa\\\\.gz', '', baseout)\n",
    "    outdir = file.path(outdir, baseout)\n",
    "    tmp_ref = gsub('\\\\.gz$', '', ref)\n",
    "    cmd = 'rm -rf {outdir}; mkdir -p {outdir}; gunzip -c {ref} > {tmp_ref}; valet.py --threads {threads} --assembly-names reference --skip-reapr --output-dir {outdir} -a {tmp_ref} -1 {read1} -2 {read2}; rm -f {tmp_ref}'\n",
    "    cmd = glue::glue(cmd, threads=threads, outdir=outdir, \n",
    "                     ref=ref, read1=read1, read2=read2, tmp_ref=tmp_ref)\n",
    "    return(cmd)\n",
    "}"
   ]
  },
  {
   "cell_type": "code",
   "execution_count": 34,
   "metadata": {
    "ExecuteTime": {
     "end_time": "2019-11-20T15:13:48.739276Z",
     "start_time": "2019-11-20T15:13:46.767Z"
    }
   },
   "outputs": [
    {
     "data": {
      "text/html": [
       "1519"
      ],
      "text/latex": [
       "1519"
      ],
      "text/markdown": [
       "1519"
      ],
      "text/plain": [
       "[1] 1519"
      ]
     },
     "metadata": {},
     "output_type": "display_data"
    },
    {
     "data": {
      "text/html": [
       "'mkdir -p /ebio/abt3_projects/databases_no-backup/DeepMAsED/MAG_datasets/AlmeidaA-2019/samples_n143_MAG-feats/VALET//SRR1039533_bin.12; gunzip -c /ebio/abt3_projects/databases_no-backup/DeepMAsED/MAG_datasets/AlmeidaA-2019/mags/SRR1039533_bin.12.fa.gz &gt; /ebio/abt3_projects/databases_no-backup/DeepMAsED/MAG_datasets/AlmeidaA-2019/mags/SRR1039533_bin.12.fa; valet.py --threads 8 --assembly-names reference --skip-reapr --output-dir /ebio/abt3_projects/databases_no-backup/DeepMAsED/MAG_datasets/AlmeidaA-2019/samples_n143_MAG-feats/VALET//SRR1039533_bin.12 -a /ebio/abt3_projects/databases_no-backup/DeepMAsED/MAG_datasets/AlmeidaA-2019/mags/SRR1039533_bin.12.fa -1 /ebio/abt3_projects/databases_no-backup/DeepMAsED/MAG_datasets/AlmeidaA-2019/LLMGQC/final/SRR1039533/R1_final.fq.gz -2 /ebio/abt3_projects/databases_no-backup/DeepMAsED/MAG_datasets/AlmeidaA-2019/LLMGQC/final/SRR1039533/R2_final.fq.gz; rm -f /ebio/abt3_projects/databases_no-backup/DeepMAsED/MAG_datasets/AlmeidaA-2019/mags/SRR1039533_bin.12.fa'"
      ],
      "text/latex": [
       "'mkdir -p /ebio/abt3\\_projects/databases\\_no-backup/DeepMAsED/MAG\\_datasets/AlmeidaA-2019/samples\\_n143\\_MAG-feats/VALET//SRR1039533\\_bin.12; gunzip -c /ebio/abt3\\_projects/databases\\_no-backup/DeepMAsED/MAG\\_datasets/AlmeidaA-2019/mags/SRR1039533\\_bin.12.fa.gz > /ebio/abt3\\_projects/databases\\_no-backup/DeepMAsED/MAG\\_datasets/AlmeidaA-2019/mags/SRR1039533\\_bin.12.fa; valet.py --threads 8 --assembly-names reference --skip-reapr --output-dir /ebio/abt3\\_projects/databases\\_no-backup/DeepMAsED/MAG\\_datasets/AlmeidaA-2019/samples\\_n143\\_MAG-feats/VALET//SRR1039533\\_bin.12 -a /ebio/abt3\\_projects/databases\\_no-backup/DeepMAsED/MAG\\_datasets/AlmeidaA-2019/mags/SRR1039533\\_bin.12.fa -1 /ebio/abt3\\_projects/databases\\_no-backup/DeepMAsED/MAG\\_datasets/AlmeidaA-2019/LLMGQC/final/SRR1039533/R1\\_final.fq.gz -2 /ebio/abt3\\_projects/databases\\_no-backup/DeepMAsED/MAG\\_datasets/AlmeidaA-2019/LLMGQC/final/SRR1039533/R2\\_final.fq.gz; rm -f /ebio/abt3\\_projects/databases\\_no-backup/DeepMAsED/MAG\\_datasets/AlmeidaA-2019/mags/SRR1039533\\_bin.12.fa'"
      ],
      "text/markdown": [
       "'mkdir -p /ebio/abt3_projects/databases_no-backup/DeepMAsED/MAG_datasets/AlmeidaA-2019/samples_n143_MAG-feats/VALET//SRR1039533_bin.12; gunzip -c /ebio/abt3_projects/databases_no-backup/DeepMAsED/MAG_datasets/AlmeidaA-2019/mags/SRR1039533_bin.12.fa.gz &gt; /ebio/abt3_projects/databases_no-backup/DeepMAsED/MAG_datasets/AlmeidaA-2019/mags/SRR1039533_bin.12.fa; valet.py --threads 8 --assembly-names reference --skip-reapr --output-dir /ebio/abt3_projects/databases_no-backup/DeepMAsED/MAG_datasets/AlmeidaA-2019/samples_n143_MAG-feats/VALET//SRR1039533_bin.12 -a /ebio/abt3_projects/databases_no-backup/DeepMAsED/MAG_datasets/AlmeidaA-2019/mags/SRR1039533_bin.12.fa -1 /ebio/abt3_projects/databases_no-backup/DeepMAsED/MAG_datasets/AlmeidaA-2019/LLMGQC/final/SRR1039533/R1_final.fq.gz -2 /ebio/abt3_projects/databases_no-backup/DeepMAsED/MAG_datasets/AlmeidaA-2019/LLMGQC/final/SRR1039533/R2_final.fq.gz; rm -f /ebio/abt3_projects/databases_no-backup/DeepMAsED/MAG_datasets/AlmeidaA-2019/mags/SRR1039533_bin.12.fa'"
      ],
      "text/plain": [
       "[1] \"mkdir -p /ebio/abt3_projects/databases_no-backup/DeepMAsED/MAG_datasets/AlmeidaA-2019/samples_n143_MAG-feats/VALET//SRR1039533_bin.12; gunzip -c /ebio/abt3_projects/databases_no-backup/DeepMAsED/MAG_datasets/AlmeidaA-2019/mags/SRR1039533_bin.12.fa.gz > /ebio/abt3_projects/databases_no-backup/DeepMAsED/MAG_datasets/AlmeidaA-2019/mags/SRR1039533_bin.12.fa; valet.py --threads 8 --assembly-names reference --skip-reapr --output-dir /ebio/abt3_projects/databases_no-backup/DeepMAsED/MAG_datasets/AlmeidaA-2019/samples_n143_MAG-feats/VALET//SRR1039533_bin.12 -a /ebio/abt3_projects/databases_no-backup/DeepMAsED/MAG_datasets/AlmeidaA-2019/mags/SRR1039533_bin.12.fa -1 /ebio/abt3_projects/databases_no-backup/DeepMAsED/MAG_datasets/AlmeidaA-2019/LLMGQC/final/SRR1039533/R1_final.fq.gz -2 /ebio/abt3_projects/databases_no-backup/DeepMAsED/MAG_datasets/AlmeidaA-2019/LLMGQC/final/SRR1039533/R2_final.fq.gz; rm -f /ebio/abt3_projects/databases_no-backup/DeepMAsED/MAG_datasets/AlmeidaA-2019/mags/SRR1039533_bin.12.fa\""
      ]
     },
     "metadata": {},
     "output_type": "display_data"
    }
   ],
   "source": [
    "# creating commands for VALET runs\n",
    "cmds = mapply(VALET_cmd, MAGs_n143$Fasta, MAGs_n143$Read1, \n",
    "             MAGs_n143$Read2, outdir=work_dir, threads=8) %>%\n",
    "    as.list()\n",
    "cmds %>% length\n",
    "cmds[[1]]"
   ]
  },
  {
   "cell_type": "code",
   "execution_count": 28,
   "metadata": {
    "ExecuteTime": {
     "end_time": "2019-11-20T14:29:50.836854Z",
     "start_time": "2019-11-20T13:14:01.937Z"
    }
   },
   "outputs": [
    {
     "data": {
      "text/html": [],
      "text/latex": [],
      "text/markdown": [],
      "text/plain": [
       "character(0)"
      ]
     },
     "metadata": {},
     "output_type": "display_data"
    }
   ],
   "source": [
    "# test run\n",
    "bash_job(res[[1]], conda_env = conda_env)"
   ]
  },
  {
   "cell_type": "code",
   "execution_count": 50,
   "metadata": {
    "ExecuteTime": {
     "end_time": "2019-11-20T19:33:43.668594Z",
     "start_time": "2019-11-20T19:33:43.604Z"
    }
   },
   "outputs": [],
   "source": [
    "# cluster resources\n",
    "resources = list(h_rt = '08:00:00',\n",
    "                 h_vmem = '8G',\n",
    "                 threads = threads,\n",
    "                 conda.env = 'py3_physeq')     # conda env with batchtools installed\n",
    "plan(batchtools_sge, resources=resources, workers=30)"
   ]
  },
  {
   "cell_type": "code",
   "execution_count": null,
   "metadata": {
    "ExecuteTime": {
     "start_time": "2019-11-20T19:33:52.449Z"
    }
   },
   "outputs": [],
   "source": [
    "# running cluster jobs \n",
    "res = cmds %>%\n",
    "    future_lapply(FUN = bash_job, conda_env=conda_env)\n",
    "\n",
    "res %>% length"
   ]
  },
  {
   "cell_type": "markdown",
   "metadata": {},
   "source": [
    "## Determining which succeeded"
   ]
  },
  {
   "cell_type": "code",
   "execution_count": 113,
   "metadata": {
    "ExecuteTime": {
     "end_time": "2019-11-23T05:58:28.251944Z",
     "start_time": "2019-11-23T05:58:26.265Z"
    }
   },
   "outputs": [
    {
     "data": {
      "text/html": [
       "1481"
      ],
      "text/latex": [
       "1481"
      ],
      "text/markdown": [
       "1481"
      ],
      "text/plain": [
       "[1] 1481"
      ]
     },
     "metadata": {},
     "output_type": "display_data"
    }
   ],
   "source": [
    "sum_files = list.files(work_dir, pattern='summary.tsv', recursive=TRUE, full.names=TRUE)\n",
    "sum_files %>% length"
   ]
  },
  {
   "cell_type": "code",
   "execution_count": 114,
   "metadata": {
    "ExecuteTime": {
     "end_time": "2019-11-23T05:58:30.447481Z",
     "start_time": "2019-11-23T05:58:30.358Z"
    }
   },
   "outputs": [
    {
     "data": {
      "text/html": [
       "1481"
      ],
      "text/latex": [
       "1481"
      ],
      "text/markdown": [
       "1481"
      ],
      "text/plain": [
       "[1] 1481"
      ]
     },
     "metadata": {},
     "output_type": "display_data"
    }
   ],
   "source": [
    "taxa_complete = sum_files %>%\n",
    "    as.character %>%\n",
    "    dirname %>% dirname %>% basename \n",
    "\n",
    "taxa_complete %>% length"
   ]
  },
  {
   "cell_type": "code",
   "execution_count": 115,
   "metadata": {
    "ExecuteTime": {
     "end_time": "2019-11-23T05:58:30.868416Z",
     "start_time": "2019-11-23T05:58:30.780Z"
    }
   },
   "outputs": [
    {
     "data": {
      "text/html": [
       "38"
      ],
      "text/latex": [
       "38"
      ],
      "text/markdown": [
       "38"
      ],
      "text/plain": [
       "[1] 38"
      ]
     },
     "metadata": {},
     "output_type": "display_data"
    }
   ],
   "source": [
    "MAGs_n143_f = MAGs_n143 %>%\n",
    "    filter(! Taxon %in% taxa_complete)\n",
    "\n",
    "MAGs_n143_f %>% nrow"
   ]
  },
  {
   "cell_type": "markdown",
   "metadata": {},
   "source": [
    "## Re-run"
   ]
  },
  {
   "cell_type": "code",
   "execution_count": 116,
   "metadata": {
    "ExecuteTime": {
     "end_time": "2019-11-23T05:58:32.972626Z",
     "start_time": "2019-11-23T05:58:32.230Z"
    }
   },
   "outputs": [
    {
     "data": {
      "text/html": [
       "38"
      ],
      "text/latex": [
       "38"
      ],
      "text/markdown": [
       "38"
      ],
      "text/plain": [
       "[1] 38"
      ]
     },
     "metadata": {},
     "output_type": "display_data"
    },
    {
     "data": {
      "text/html": [
       "'rm -rf /ebio/abt3_projects/databases_no-backup/DeepMAsED/MAG_datasets/AlmeidaA-2019/samples_n143_MAG-feats/VALET//ERR321527_bin.2; mkdir -p /ebio/abt3_projects/databases_no-backup/DeepMAsED/MAG_datasets/AlmeidaA-2019/samples_n143_MAG-feats/VALET//ERR321527_bin.2; gunzip -c /ebio/abt3_projects/databases_no-backup/DeepMAsED/MAG_datasets/AlmeidaA-2019/mags/ERR321527_bin.2.fa.gz &gt; /ebio/abt3_projects/databases_no-backup/DeepMAsED/MAG_datasets/AlmeidaA-2019/mags/ERR321527_bin.2.fa; valet.py --threads 8 --assembly-names reference --skip-reapr --output-dir /ebio/abt3_projects/databases_no-backup/DeepMAsED/MAG_datasets/AlmeidaA-2019/samples_n143_MAG-feats/VALET//ERR321527_bin.2 -a /ebio/abt3_projects/databases_no-backup/DeepMAsED/MAG_datasets/AlmeidaA-2019/mags/ERR321527_bin.2.fa -1 /ebio/abt3_projects/databases_no-backup/DeepMAsED/MAG_datasets/AlmeidaA-2019/LLMGQC/final/ERR321527/R1_final.fq.gz -2 /ebio/abt3_projects/databases_no-backup/DeepMAsED/MAG_datasets/AlmeidaA-2019/LLMGQC/final/ERR321527/R2_final.fq.gz; rm -f /ebio/abt3_projects/databases_no-backup/DeepMAsED/MAG_datasets/AlmeidaA-2019/mags/ERR321527_bin.2.fa'"
      ],
      "text/latex": [
       "'rm -rf /ebio/abt3\\_projects/databases\\_no-backup/DeepMAsED/MAG\\_datasets/AlmeidaA-2019/samples\\_n143\\_MAG-feats/VALET//ERR321527\\_bin.2; mkdir -p /ebio/abt3\\_projects/databases\\_no-backup/DeepMAsED/MAG\\_datasets/AlmeidaA-2019/samples\\_n143\\_MAG-feats/VALET//ERR321527\\_bin.2; gunzip -c /ebio/abt3\\_projects/databases\\_no-backup/DeepMAsED/MAG\\_datasets/AlmeidaA-2019/mags/ERR321527\\_bin.2.fa.gz > /ebio/abt3\\_projects/databases\\_no-backup/DeepMAsED/MAG\\_datasets/AlmeidaA-2019/mags/ERR321527\\_bin.2.fa; valet.py --threads 8 --assembly-names reference --skip-reapr --output-dir /ebio/abt3\\_projects/databases\\_no-backup/DeepMAsED/MAG\\_datasets/AlmeidaA-2019/samples\\_n143\\_MAG-feats/VALET//ERR321527\\_bin.2 -a /ebio/abt3\\_projects/databases\\_no-backup/DeepMAsED/MAG\\_datasets/AlmeidaA-2019/mags/ERR321527\\_bin.2.fa -1 /ebio/abt3\\_projects/databases\\_no-backup/DeepMAsED/MAG\\_datasets/AlmeidaA-2019/LLMGQC/final/ERR321527/R1\\_final.fq.gz -2 /ebio/abt3\\_projects/databases\\_no-backup/DeepMAsED/MAG\\_datasets/AlmeidaA-2019/LLMGQC/final/ERR321527/R2\\_final.fq.gz; rm -f /ebio/abt3\\_projects/databases\\_no-backup/DeepMAsED/MAG\\_datasets/AlmeidaA-2019/mags/ERR321527\\_bin.2.fa'"
      ],
      "text/markdown": [
       "'rm -rf /ebio/abt3_projects/databases_no-backup/DeepMAsED/MAG_datasets/AlmeidaA-2019/samples_n143_MAG-feats/VALET//ERR321527_bin.2; mkdir -p /ebio/abt3_projects/databases_no-backup/DeepMAsED/MAG_datasets/AlmeidaA-2019/samples_n143_MAG-feats/VALET//ERR321527_bin.2; gunzip -c /ebio/abt3_projects/databases_no-backup/DeepMAsED/MAG_datasets/AlmeidaA-2019/mags/ERR321527_bin.2.fa.gz &gt; /ebio/abt3_projects/databases_no-backup/DeepMAsED/MAG_datasets/AlmeidaA-2019/mags/ERR321527_bin.2.fa; valet.py --threads 8 --assembly-names reference --skip-reapr --output-dir /ebio/abt3_projects/databases_no-backup/DeepMAsED/MAG_datasets/AlmeidaA-2019/samples_n143_MAG-feats/VALET//ERR321527_bin.2 -a /ebio/abt3_projects/databases_no-backup/DeepMAsED/MAG_datasets/AlmeidaA-2019/mags/ERR321527_bin.2.fa -1 /ebio/abt3_projects/databases_no-backup/DeepMAsED/MAG_datasets/AlmeidaA-2019/LLMGQC/final/ERR321527/R1_final.fq.gz -2 /ebio/abt3_projects/databases_no-backup/DeepMAsED/MAG_datasets/AlmeidaA-2019/LLMGQC/final/ERR321527/R2_final.fq.gz; rm -f /ebio/abt3_projects/databases_no-backup/DeepMAsED/MAG_datasets/AlmeidaA-2019/mags/ERR321527_bin.2.fa'"
      ],
      "text/plain": [
       "[1] \"rm -rf /ebio/abt3_projects/databases_no-backup/DeepMAsED/MAG_datasets/AlmeidaA-2019/samples_n143_MAG-feats/VALET//ERR321527_bin.2; mkdir -p /ebio/abt3_projects/databases_no-backup/DeepMAsED/MAG_datasets/AlmeidaA-2019/samples_n143_MAG-feats/VALET//ERR321527_bin.2; gunzip -c /ebio/abt3_projects/databases_no-backup/DeepMAsED/MAG_datasets/AlmeidaA-2019/mags/ERR321527_bin.2.fa.gz > /ebio/abt3_projects/databases_no-backup/DeepMAsED/MAG_datasets/AlmeidaA-2019/mags/ERR321527_bin.2.fa; valet.py --threads 8 --assembly-names reference --skip-reapr --output-dir /ebio/abt3_projects/databases_no-backup/DeepMAsED/MAG_datasets/AlmeidaA-2019/samples_n143_MAG-feats/VALET//ERR321527_bin.2 -a /ebio/abt3_projects/databases_no-backup/DeepMAsED/MAG_datasets/AlmeidaA-2019/mags/ERR321527_bin.2.fa -1 /ebio/abt3_projects/databases_no-backup/DeepMAsED/MAG_datasets/AlmeidaA-2019/LLMGQC/final/ERR321527/R1_final.fq.gz -2 /ebio/abt3_projects/databases_no-backup/DeepMAsED/MAG_datasets/AlmeidaA-2019/LLMGQC/final/ERR321527/R2_final.fq.gz; rm -f /ebio/abt3_projects/databases_no-backup/DeepMAsED/MAG_datasets/AlmeidaA-2019/mags/ERR321527_bin.2.fa\""
      ]
     },
     "metadata": {},
     "output_type": "display_data"
    }
   ],
   "source": [
    "# creating commands for VALET runs\n",
    "cmds = mapply(VALET_cmd, MAGs_n143_f$Fasta, MAGs_n143_f$Read1, \n",
    "             MAGs_n143_f$Read2, outdir=work_dir, threads=8) %>%\n",
    "    as.list()\n",
    "cmds %>% length\n",
    "cmds[[1]]"
   ]
  },
  {
   "cell_type": "code",
   "execution_count": 117,
   "metadata": {
    "ExecuteTime": {
     "end_time": "2019-11-23T05:58:34.967273Z",
     "start_time": "2019-11-23T05:58:34.893Z"
    }
   },
   "outputs": [],
   "source": [
    "# cluster resources\n",
    "resources = list(h_rt = '36:00:00',\n",
    "                 h_vmem = '8G',\n",
    "                 threads = threads,\n",
    "                 conda.env = 'py3_physeq')     # conda env with batchtools installed\n",
    "plan(batchtools_sge, resources=resources, workers=30)"
   ]
  },
  {
   "cell_type": "code",
   "execution_count": 118,
   "metadata": {
    "ExecuteTime": {
     "start_time": "2019-11-23T05:58:35.472Z"
    }
   },
   "outputs": [
    {
     "data": {
      "text/html": [
       "38"
      ],
      "text/latex": [
       "38"
      ],
      "text/markdown": [
       "38"
      ],
      "text/plain": [
       "[1] 38"
      ]
     },
     "metadata": {},
     "output_type": "display_data"
    }
   ],
   "source": [
    "# running cluster jobs \n",
    "res = cmds %>%\n",
    "    future_lapply(FUN = bash_job, conda_env=conda_env)\n",
    "\n",
    "res %>% length"
   ]
  },
  {
   "cell_type": "markdown",
   "metadata": {},
   "source": [
    "### Creating blank summary.tsv files\n",
    "\n",
    "* For those lacking reads"
   ]
  },
  {
   "cell_type": "code",
   "execution_count": 139,
   "metadata": {},
   "outputs": [
    {
     "data": {
      "text/html": [
       "<table>\n",
       "<thead><tr><th scope=col>contig_name</th><th scope=col>contig_length</th><th scope=col>abundance</th><th scope=col>low_cov</th><th scope=col>low_cov_bps</th><th scope=col>high_cov</th><th scope=col>high_cov_bps</th><th scope=col>reapr</th><th scope=col>reapr_bps</th><th scope=col>breakpoints</th><th scope=col>breakpoints_bps</th></tr></thead>\n",
       "<tbody>\n",
       "\t<tr><td>NODE_1479_length_8752_cov_3.593998</td><td>8752                              </td><td>7                                 </td><td>0                                 </td><td>0                                 </td><td>1                                 </td><td>305                               </td><td>0                                 </td><td>0                                 </td><td>0                                 </td><td>0                                 </td></tr>\n",
       "\t<tr><td>NODE_1583_length_8406_cov_3.691294</td><td>8406                              </td><td>8                                 </td><td>0                                 </td><td>0                                 </td><td>1                                 </td><td>241                               </td><td>0                                 </td><td>0                                 </td><td>0                                 </td><td>0                                 </td></tr>\n",
       "\t<tr><td>NODE_1682_length_8130_cov_4.145882</td><td>8130                              </td><td>9                                 </td><td>0                                 </td><td>0                                 </td><td>1                                 </td><td>590                               </td><td>0                                 </td><td>0                                 </td><td>0                                 </td><td>0                                 </td></tr>\n",
       "</tbody>\n",
       "</table>\n"
      ],
      "text/latex": [
       "\\begin{tabular}{r|lllllllllll}\n",
       " contig\\_name & contig\\_length & abundance & low\\_cov & low\\_cov\\_bps & high\\_cov & high\\_cov\\_bps & reapr & reapr\\_bps & breakpoints & breakpoints\\_bps\\\\\n",
       "\\hline\n",
       "\t NODE\\_1479\\_length\\_8752\\_cov\\_3.593998 & 8752                                         & 7                                            & 0                                            & 0                                            & 1                                            & 305                                          & 0                                            & 0                                            & 0                                            & 0                                           \\\\\n",
       "\t NODE\\_1583\\_length\\_8406\\_cov\\_3.691294 & 8406                                         & 8                                            & 0                                            & 0                                            & 1                                            & 241                                          & 0                                            & 0                                            & 0                                            & 0                                           \\\\\n",
       "\t NODE\\_1682\\_length\\_8130\\_cov\\_4.145882 & 8130                                         & 9                                            & 0                                            & 0                                            & 1                                            & 590                                          & 0                                            & 0                                            & 0                                            & 0                                           \\\\\n",
       "\\end{tabular}\n"
      ],
      "text/markdown": [
       "\n",
       "contig_name | contig_length | abundance | low_cov | low_cov_bps | high_cov | high_cov_bps | reapr | reapr_bps | breakpoints | breakpoints_bps | \n",
       "|---|---|---|\n",
       "| NODE_1479_length_8752_cov_3.593998 | 8752                               | 7                                  | 0                                  | 0                                  | 1                                  | 305                                | 0                                  | 0                                  | 0                                  | 0                                  | \n",
       "| NODE_1583_length_8406_cov_3.691294 | 8406                               | 8                                  | 0                                  | 0                                  | 1                                  | 241                                | 0                                  | 0                                  | 0                                  | 0                                  | \n",
       "| NODE_1682_length_8130_cov_4.145882 | 8130                               | 9                                  | 0                                  | 0                                  | 1                                  | 590                                | 0                                  | 0                                  | 0                                  | 0                                  | \n",
       "\n",
       "\n"
      ],
      "text/plain": [
       "  contig_name                        contig_length abundance low_cov\n",
       "1 NODE_1479_length_8752_cov_3.593998 8752          7         0      \n",
       "2 NODE_1583_length_8406_cov_3.691294 8406          8         0      \n",
       "3 NODE_1682_length_8130_cov_4.145882 8130          9         0      \n",
       "  low_cov_bps high_cov high_cov_bps reapr reapr_bps breakpoints breakpoints_bps\n",
       "1 0           1        305          0     0         0           0              \n",
       "2 0           1        241          0     0         0           0              \n",
       "3 0           1        590          0     0         0           0              "
      ]
     },
     "metadata": {},
     "output_type": "display_data"
    },
    {
     "data": {
      "text/html": [
       "<table>\n",
       "<thead><tr><th></th><th scope=col>contig_name</th><th scope=col>contig_length</th><th scope=col>abundance</th><th scope=col>low_cov</th><th scope=col>low_cov_bps</th><th scope=col>high_cov</th><th scope=col>high_cov_bps</th><th scope=col>reapr</th><th scope=col>reapr_bps</th><th scope=col>breakpoints</th><th scope=col>breakpoints_bps</th></tr></thead>\n",
       "<tbody>\n",
       "\t<tr><th scope=row>277</th><td>NODE_288_length_20818_cov_4.219525 </td><td>20818                              </td><td>NA                                 </td><td>NA                                 </td><td>NA                                 </td><td>NA                                 </td><td>NA                                 </td><td>NA                                 </td><td>NA                                 </td><td>NA                                 </td><td>NA                                 </td></tr>\n",
       "\t<tr><th scope=row>278</th><td>NODE_10913_length_2007_cov_3.909836</td><td> 2007                              </td><td>NA                                 </td><td>NA                                 </td><td>NA                                 </td><td>NA                                 </td><td>NA                                 </td><td>NA                                 </td><td>NA                                 </td><td>NA                                 </td><td>NA                                 </td></tr>\n",
       "\t<tr><th scope=row>279</th><td>NODE_6791_length_3055_cov_3.030000 </td><td> 3055                              </td><td>NA                                 </td><td>NA                                 </td><td>NA                                 </td><td>NA                                 </td><td>NA                                 </td><td>NA                                 </td><td>NA                                 </td><td>NA                                 </td><td>NA                                 </td></tr>\n",
       "</tbody>\n",
       "</table>\n"
      ],
      "text/latex": [
       "\\begin{tabular}{r|lllllllllll}\n",
       "  & contig\\_name & contig\\_length & abundance & low\\_cov & low\\_cov\\_bps & high\\_cov & high\\_cov\\_bps & reapr & reapr\\_bps & breakpoints & breakpoints\\_bps\\\\\n",
       "\\hline\n",
       "\t277 & NODE\\_288\\_length\\_20818\\_cov\\_4.219525  & 20818                                         & NA                                            & NA                                            & NA                                            & NA                                            & NA                                            & NA                                            & NA                                            & NA                                            & NA                                           \\\\\n",
       "\t278 & NODE\\_10913\\_length\\_2007\\_cov\\_3.909836 &  2007                                         & NA                                            & NA                                            & NA                                            & NA                                            & NA                                            & NA                                            & NA                                            & NA                                            & NA                                           \\\\\n",
       "\t279 & NODE\\_6791\\_length\\_3055\\_cov\\_3.030000  &  3055                                         & NA                                            & NA                                            & NA                                            & NA                                            & NA                                            & NA                                            & NA                                            & NA                                            & NA                                           \\\\\n",
       "\\end{tabular}\n"
      ],
      "text/markdown": [
       "\n",
       "| <!--/--> | contig_name | contig_length | abundance | low_cov | low_cov_bps | high_cov | high_cov_bps | reapr | reapr_bps | breakpoints | breakpoints_bps | \n",
       "|---|---|---|\n",
       "| 277 | NODE_288_length_20818_cov_4.219525  | 20818                               | NA                                  | NA                                  | NA                                  | NA                                  | NA                                  | NA                                  | NA                                  | NA                                  | NA                                  | \n",
       "| 278 | NODE_10913_length_2007_cov_3.909836 |  2007                               | NA                                  | NA                                  | NA                                  | NA                                  | NA                                  | NA                                  | NA                                  | NA                                  | NA                                  | \n",
       "| 279 | NODE_6791_length_3055_cov_3.030000  |  3055                               | NA                                  | NA                                  | NA                                  | NA                                  | NA                                  | NA                                  | NA                                  | NA                                  | NA                                  | \n",
       "\n",
       "\n"
      ],
      "text/plain": [
       "    contig_name                         contig_length abundance low_cov\n",
       "277 NODE_288_length_20818_cov_4.219525  20818         NA        NA     \n",
       "278 NODE_10913_length_2007_cov_3.909836  2007         NA        NA     \n",
       "279 NODE_6791_length_3055_cov_3.030000   3055         NA        NA     \n",
       "    low_cov_bps high_cov high_cov_bps reapr reapr_bps breakpoints\n",
       "277 NA          NA       NA           NA    NA        NA         \n",
       "278 NA          NA       NA           NA    NA        NA         \n",
       "279 NA          NA       NA           NA    NA        NA         \n",
       "    breakpoints_bps\n",
       "277 NA             \n",
       "278 NA             \n",
       "279 NA             "
      ]
     },
     "metadata": {},
     "output_type": "display_data"
    }
   ],
   "source": [
    "F = file.path(work_dir, 'SRR1196604_bin.22', 'reference', 'summary.tsv')\n",
    "tmpl_sum = read.delim(F, sep='\\t')\n",
    "tmpl_sum %>% head(n=3)\n",
    "tmpl_sum %>% tail(n=3)"
   ]
  },
  {
   "cell_type": "code",
   "execution_count": 140,
   "metadata": {},
   "outputs": [
    {
     "name": "stdout",
     "output_type": "stream",
     "text": [
      "File written: /ebio/abt3_projects/databases_no-backup/DeepMAsED/MAG_datasets/AlmeidaA-2019/samples_n143_MAG-feats/VALET//ERR321527_bin.2/reference/summary.tsv \n",
      "File written: /ebio/abt3_projects/databases_no-backup/DeepMAsED/MAG_datasets/AlmeidaA-2019/samples_n143_MAG-feats/VALET//ERR321527_bin.1/reference/summary.tsv \n",
      "File written: /ebio/abt3_projects/databases_no-backup/DeepMAsED/MAG_datasets/AlmeidaA-2019/samples_n143_MAG-feats/VALET//ERR321527_bin.4/reference/summary.tsv \n",
      "File written: /ebio/abt3_projects/databases_no-backup/DeepMAsED/MAG_datasets/AlmeidaA-2019/samples_n143_MAG-feats/VALET//ERR209103_bin.1/reference/summary.tsv \n",
      "File written: /ebio/abt3_projects/databases_no-backup/DeepMAsED/MAG_datasets/AlmeidaA-2019/samples_n143_MAG-feats/VALET//ERR209103_bin.3/reference/summary.tsv \n",
      "File written: /ebio/abt3_projects/databases_no-backup/DeepMAsED/MAG_datasets/AlmeidaA-2019/samples_n143_MAG-feats/VALET//ERR209130_bin.1/reference/summary.tsv \n",
      "File written: /ebio/abt3_projects/databases_no-backup/DeepMAsED/MAG_datasets/AlmeidaA-2019/samples_n143_MAG-feats/VALET//ERR209228_bin.12/reference/summary.tsv \n",
      "File written: /ebio/abt3_projects/databases_no-backup/DeepMAsED/MAG_datasets/AlmeidaA-2019/samples_n143_MAG-feats/VALET//ERR209228_bin.11/reference/summary.tsv \n",
      "File written: /ebio/abt3_projects/databases_no-backup/DeepMAsED/MAG_datasets/AlmeidaA-2019/samples_n143_MAG-feats/VALET//ERR209228_bin.15/reference/summary.tsv \n",
      "File written: /ebio/abt3_projects/databases_no-backup/DeepMAsED/MAG_datasets/AlmeidaA-2019/samples_n143_MAG-feats/VALET//ERR209228_bin.6/reference/summary.tsv \n",
      "File written: /ebio/abt3_projects/databases_no-backup/DeepMAsED/MAG_datasets/AlmeidaA-2019/samples_n143_MAG-feats/VALET//ERR209228_bin.1/reference/summary.tsv \n",
      "File written: /ebio/abt3_projects/databases_no-backup/DeepMAsED/MAG_datasets/AlmeidaA-2019/samples_n143_MAG-feats/VALET//ERR209228_bin.9/reference/summary.tsv \n",
      "File written: /ebio/abt3_projects/databases_no-backup/DeepMAsED/MAG_datasets/AlmeidaA-2019/samples_n143_MAG-feats/VALET//ERR209342_bin.4/reference/summary.tsv \n",
      "File written: /ebio/abt3_projects/databases_no-backup/DeepMAsED/MAG_datasets/AlmeidaA-2019/samples_n143_MAG-feats/VALET//ERR209342_bin.5/reference/summary.tsv \n",
      "File written: /ebio/abt3_projects/databases_no-backup/DeepMAsED/MAG_datasets/AlmeidaA-2019/samples_n143_MAG-feats/VALET//ERR209633_bin.1/reference/summary.tsv \n",
      "File written: /ebio/abt3_projects/databases_no-backup/DeepMAsED/MAG_datasets/AlmeidaA-2019/samples_n143_MAG-feats/VALET//ERR209679_bin.9/reference/summary.tsv \n",
      "File written: /ebio/abt3_projects/databases_no-backup/DeepMAsED/MAG_datasets/AlmeidaA-2019/samples_n143_MAG-feats/VALET//ERR209679_bin.2/reference/summary.tsv \n",
      "File written: /ebio/abt3_projects/databases_no-backup/DeepMAsED/MAG_datasets/AlmeidaA-2019/samples_n143_MAG-feats/VALET//ERR209679_bin.7/reference/summary.tsv \n",
      "File written: /ebio/abt3_projects/databases_no-backup/DeepMAsED/MAG_datasets/AlmeidaA-2019/samples_n143_MAG-feats/VALET//ERR209679_bin.11/reference/summary.tsv \n",
      "File written: /ebio/abt3_projects/databases_no-backup/DeepMAsED/MAG_datasets/AlmeidaA-2019/samples_n143_MAG-feats/VALET//ERR209679_bin.10/reference/summary.tsv \n",
      "File written: /ebio/abt3_projects/databases_no-backup/DeepMAsED/MAG_datasets/AlmeidaA-2019/samples_n143_MAG-feats/VALET//ERR209679_bin.1/reference/summary.tsv \n",
      "File written: /ebio/abt3_projects/databases_no-backup/DeepMAsED/MAG_datasets/AlmeidaA-2019/samples_n143_MAG-feats/VALET//ERR209679_bin.14/reference/summary.tsv \n",
      "File written: /ebio/abt3_projects/databases_no-backup/DeepMAsED/MAG_datasets/AlmeidaA-2019/samples_n143_MAG-feats/VALET//ERR209679_bin.3/reference/summary.tsv \n",
      "File written: /ebio/abt3_projects/databases_no-backup/DeepMAsED/MAG_datasets/AlmeidaA-2019/samples_n143_MAG-feats/VALET//ERR209715_bin.14/reference/summary.tsv \n",
      "File written: /ebio/abt3_projects/databases_no-backup/DeepMAsED/MAG_datasets/AlmeidaA-2019/samples_n143_MAG-feats/VALET//ERR209715_bin.11/reference/summary.tsv \n",
      "File written: /ebio/abt3_projects/databases_no-backup/DeepMAsED/MAG_datasets/AlmeidaA-2019/samples_n143_MAG-feats/VALET//ERR209715_bin.12/reference/summary.tsv \n",
      "File written: /ebio/abt3_projects/databases_no-backup/DeepMAsED/MAG_datasets/AlmeidaA-2019/samples_n143_MAG-feats/VALET//ERR209715_bin.13/reference/summary.tsv \n",
      "File written: /ebio/abt3_projects/databases_no-backup/DeepMAsED/MAG_datasets/AlmeidaA-2019/samples_n143_MAG-feats/VALET//ERR209715_bin.32/reference/summary.tsv \n",
      "File written: /ebio/abt3_projects/databases_no-backup/DeepMAsED/MAG_datasets/AlmeidaA-2019/samples_n143_MAG-feats/VALET//ERR209715_bin.30/reference/summary.tsv \n",
      "File written: /ebio/abt3_projects/databases_no-backup/DeepMAsED/MAG_datasets/AlmeidaA-2019/samples_n143_MAG-feats/VALET//ERR209715_bin.18/reference/summary.tsv \n",
      "File written: /ebio/abt3_projects/databases_no-backup/DeepMAsED/MAG_datasets/AlmeidaA-2019/samples_n143_MAG-feats/VALET//ERR209715_bin.35/reference/summary.tsv \n",
      "File written: /ebio/abt3_projects/databases_no-backup/DeepMAsED/MAG_datasets/AlmeidaA-2019/samples_n143_MAG-feats/VALET//ERR209715_bin.2/reference/summary.tsv \n",
      "File written: /ebio/abt3_projects/databases_no-backup/DeepMAsED/MAG_datasets/AlmeidaA-2019/samples_n143_MAG-feats/VALET//ERR209715_bin.3/reference/summary.tsv \n",
      "File written: /ebio/abt3_projects/databases_no-backup/DeepMAsED/MAG_datasets/AlmeidaA-2019/samples_n143_MAG-feats/VALET//ERR209715_bin.6/reference/summary.tsv \n",
      "File written: /ebio/abt3_projects/databases_no-backup/DeepMAsED/MAG_datasets/AlmeidaA-2019/samples_n143_MAG-feats/VALET//ERR209715_bin.7/reference/summary.tsv \n",
      "File written: /ebio/abt3_projects/databases_no-backup/DeepMAsED/MAG_datasets/AlmeidaA-2019/samples_n143_MAG-feats/VALET//ERR209715_bin.9/reference/summary.tsv \n",
      "File written: /ebio/abt3_projects/databases_no-backup/DeepMAsED/MAG_datasets/AlmeidaA-2019/samples_n143_MAG-feats/VALET//ERR209715_bin.21/reference/summary.tsv \n",
      "File written: /ebio/abt3_projects/databases_no-backup/DeepMAsED/MAG_datasets/AlmeidaA-2019/samples_n143_MAG-feats/VALET//ERR209715_bin.20/reference/summary.tsv \n"
     ]
    },
    {
     "data": {
      "text/html": [
       "38"
      ],
      "text/latex": [
       "38"
      ],
      "text/markdown": [
       "38"
      ],
      "text/plain": [
       "[1] 38"
      ]
     },
     "metadata": {},
     "output_type": "display_data"
    },
    {
     "data": {
      "text/html": [
       "'/ebio/abt3_projects/databases_no-backup/DeepMAsED/MAG_datasets/AlmeidaA-2019/samples_n143_MAG-feats/VALET//ERR321527_bin.2/reference/summary.tsv'"
      ],
      "text/latex": [
       "'/ebio/abt3\\_projects/databases\\_no-backup/DeepMAsED/MAG\\_datasets/AlmeidaA-2019/samples\\_n143\\_MAG-feats/VALET//ERR321527\\_bin.2/reference/summary.tsv'"
      ],
      "text/markdown": [
       "'/ebio/abt3_projects/databases_no-backup/DeepMAsED/MAG_datasets/AlmeidaA-2019/samples_n143_MAG-feats/VALET//ERR321527_bin.2/reference/summary.tsv'"
      ],
      "text/plain": [
       "[1] \"/ebio/abt3_projects/databases_no-backup/DeepMAsED/MAG_datasets/AlmeidaA-2019/samples_n143_MAG-feats/VALET//ERR321527_bin.2/reference/summary.tsv\""
      ]
     },
     "metadata": {},
     "output_type": "display_data"
    }
   ],
   "source": [
    "#' getting sequence IDs from the fasta\n",
    "get_seq_ids = function(fasta, conda_env){\n",
    "    cmd = \"gunzip -c {fasta} | grep '>'\"\n",
    "    cmd = glue::glue(cmd, fasta=fasta)\n",
    "    ret = bash_job(cmd, conda_env, stdout=TRUE)\n",
    "    ret = gsub('^>', '', ret)\n",
    "    contig_length = gsub('.+_length_([0-9]+)_cov.+', '\\\\1', ret)\n",
    "    ret = data.frame(contig_name = ret, contig_length=contig_length, \n",
    "                     abundance = NA, low_cov = NA, low_cov_bps = NA, \n",
    "                     high_cov = NA, high_cov_bps = NA, reapr = NA, \n",
    "                     reapr_bps = NA, breakpoints = NA, breakpoints_bps = NA)\n",
    "    return(ret)\n",
    "}\n",
    "\n",
    "#' creating a VALET summary file \n",
    "make_summary = function(fasta, out_dir, conda_env){\n",
    "    # output directory structure\n",
    "    MAG_ID = gsub('.+/(.+)\\\\.fa.gz', '\\\\1', fasta)\n",
    "    F = file.path(out_dir, MAG_ID)\n",
    "    dir.create(F, showWarnings = FALSE) \n",
    "    F = file.path(F, 'reference')\n",
    "    dir.create(F, showWarnings = FALSE) \n",
    "    \n",
    "    # sequence IDs\n",
    "    seqIDs = get_seq_ids(fasta, conda_env=conda_env)\n",
    "    \n",
    "    # writing table\n",
    "    outF = file.path(F, 'summary.tsv')\n",
    "    write.table(seqIDs, file=outF, sep='\\t', quote=FALSE, row.names=FALSE)\n",
    "    cat('File written:', outF, '\\n')\n",
    "    return(outF)\n",
    "        \n",
    "}\n",
    "\n",
    "# creating summary files\n",
    "sum_tbls = MAGs_n143_f$Fasta %>%\n",
    "    as.list %>% lapply(make_summary, out_dir=work_dir, conda_env=conda_env)\n",
    "\n",
    "# status\n",
    "sum_tbls %>% length\n",
    "sum_tbls[[1]]"
   ]
  },
  {
   "cell_type": "markdown",
   "metadata": {},
   "source": [
    "# Summary"
   ]
  },
  {
   "cell_type": "code",
   "execution_count": 8,
   "metadata": {
    "ExecuteTime": {
     "end_time": "2019-12-02T18:21:02.195993Z",
     "start_time": "2019-12-02T18:20:49.586Z"
    }
   },
   "outputs": [
    {
     "data": {
      "text/html": [
       "1519"
      ],
      "text/latex": [
       "1519"
      ],
      "text/markdown": [
       "1519"
      ],
      "text/plain": [
       "[1] 1519"
      ]
     },
     "metadata": {},
     "output_type": "display_data"
    }
   ],
   "source": [
    "sum_files = list.files(work_dir, pattern='summary.tsv', recursive=TRUE, full.names=TRUE)\n",
    "sum_files %>% length"
   ]
  },
  {
   "cell_type": "code",
   "execution_count": 25,
   "metadata": {
    "ExecuteTime": {
     "end_time": "2019-12-02T18:27:38.566301Z",
     "start_time": "2019-12-02T18:24:06.519Z"
    }
   },
   "outputs": [
    {
     "data": {
      "text/html": [
       "267866"
      ],
      "text/latex": [
       "267866"
      ],
      "text/markdown": [
       "267866"
      ],
      "text/plain": [
       "[1] 267866"
      ]
     },
     "metadata": {},
     "output_type": "display_data"
    },
    {
     "data": {
      "text/html": [
       "<table>\n",
       "<thead><tr><th scope=col>contig_name</th><th scope=col>contig_length</th><th scope=col>abundance</th><th scope=col>low_cov</th><th scope=col>low_cov_bps</th><th scope=col>high_cov</th><th scope=col>high_cov_bps</th><th scope=col>reapr</th><th scope=col>reapr_bps</th><th scope=col>breakpoints</th><th scope=col>breakpoints_bps</th><th scope=col>MAG</th></tr></thead>\n",
       "<tbody>\n",
       "\t<tr><td>NODE_2163_length_8115_cov_4.136974</td><td>8115                              </td><td>16                                </td><td>0                                 </td><td>0                                 </td><td>1                                 </td><td>979                               </td><td>0                                 </td><td>0                                 </td><td>0                                 </td><td>0                                 </td><td>DRR042488_bin.11                  </td></tr>\n",
       "\t<tr><td>NODE_2191_length_7995_cov_3.019323</td><td>7995                              </td><td>12                                </td><td>0                                 </td><td>0                                 </td><td>1                                 </td><td>195                               </td><td>0                                 </td><td>0                                 </td><td>0                                 </td><td>0                                 </td><td>DRR042488_bin.11                  </td></tr>\n",
       "\t<tr><td>NODE_2259_length_7778_cov_2.352422</td><td>7778                              </td><td>10                                </td><td>0                                 </td><td>0                                 </td><td>1                                 </td><td> 58                               </td><td>0                                 </td><td>0                                 </td><td>0                                 </td><td>0                                 </td><td>DRR042488_bin.11                  </td></tr>\n",
       "</tbody>\n",
       "</table>\n"
      ],
      "text/latex": [
       "\\begin{tabular}{r|llllllllllll}\n",
       " contig\\_name & contig\\_length & abundance & low\\_cov & low\\_cov\\_bps & high\\_cov & high\\_cov\\_bps & reapr & reapr\\_bps & breakpoints & breakpoints\\_bps & MAG\\\\\n",
       "\\hline\n",
       "\t NODE\\_2163\\_length\\_8115\\_cov\\_4.136974 & 8115                                         & 16                                           & 0                                            & 0                                            & 1                                            & 979                                          & 0                                            & 0                                            & 0                                            & 0                                            & DRR042488\\_bin.11                          \\\\\n",
       "\t NODE\\_2191\\_length\\_7995\\_cov\\_3.019323 & 7995                                         & 12                                           & 0                                            & 0                                            & 1                                            & 195                                          & 0                                            & 0                                            & 0                                            & 0                                            & DRR042488\\_bin.11                          \\\\\n",
       "\t NODE\\_2259\\_length\\_7778\\_cov\\_2.352422 & 7778                                         & 10                                           & 0                                            & 0                                            & 1                                            &  58                                          & 0                                            & 0                                            & 0                                            & 0                                            & DRR042488\\_bin.11                          \\\\\n",
       "\\end{tabular}\n"
      ],
      "text/markdown": [
       "\n",
       "contig_name | contig_length | abundance | low_cov | low_cov_bps | high_cov | high_cov_bps | reapr | reapr_bps | breakpoints | breakpoints_bps | MAG | \n",
       "|---|---|---|\n",
       "| NODE_2163_length_8115_cov_4.136974 | 8115                               | 16                                 | 0                                  | 0                                  | 1                                  | 979                                | 0                                  | 0                                  | 0                                  | 0                                  | DRR042488_bin.11                   | \n",
       "| NODE_2191_length_7995_cov_3.019323 | 7995                               | 12                                 | 0                                  | 0                                  | 1                                  | 195                                | 0                                  | 0                                  | 0                                  | 0                                  | DRR042488_bin.11                   | \n",
       "| NODE_2259_length_7778_cov_2.352422 | 7778                               | 10                                 | 0                                  | 0                                  | 1                                  |  58                                | 0                                  | 0                                  | 0                                  | 0                                  | DRR042488_bin.11                   | \n",
       "\n",
       "\n"
      ],
      "text/plain": [
       "  contig_name                        contig_length abundance low_cov\n",
       "1 NODE_2163_length_8115_cov_4.136974 8115          16        0      \n",
       "2 NODE_2191_length_7995_cov_3.019323 7995          12        0      \n",
       "3 NODE_2259_length_7778_cov_2.352422 7778          10        0      \n",
       "  low_cov_bps high_cov high_cov_bps reapr reapr_bps breakpoints breakpoints_bps\n",
       "1 0           1        979          0     0         0           0              \n",
       "2 0           1        195          0     0         0           0              \n",
       "3 0           1         58          0     0         0           0              \n",
       "  MAG             \n",
       "1 DRR042488_bin.11\n",
       "2 DRR042488_bin.11\n",
       "3 DRR042488_bin.11"
      ]
     },
     "metadata": {},
     "output_type": "display_data"
    }
   ],
   "source": [
    "# loading all tables\n",
    "valet = list()\n",
    "for(f in sum_files){\n",
    "    x = read.delim(f, sep='\\t')\n",
    "    x$MAG = basename(dirname(dirname(f)))\n",
    "    valet[[f]] = x\n",
    "}\n",
    "\n",
    "valet = do.call(rbind, valet)\n",
    "rownames(valet) = 1:nrow(valet)\n",
    "\n",
    "# status\n",
    "valet %>% nrow\n",
    "valet %>% head(n=3)"
   ]
  },
  {
   "cell_type": "code",
   "execution_count": 29,
   "metadata": {
    "ExecuteTime": {
     "end_time": "2019-12-02T18:29:02.204126Z",
     "start_time": "2019-12-02T18:29:02.098Z"
    }
   },
   "outputs": [
    {
     "name": "stdout",
     "output_type": "stream",
     "text": [
      "36329 of 267866 (13.56 %) contigs identified as miassembled"
     ]
    }
   ],
   "source": [
    "# % of contigs marked as mis-assemblies\n",
    "n_contigs = valet %>% nrow \n",
    "n_misass = valet %>% filter(!is.na(low_cov),\n",
    "                            !is.na(high_cov),\n",
    "                            !is.na(breakpoints)) %>% nrow\n",
    "\n",
    "x = glue::glue('{x} of {y} ({z} %) contigs identified as miassembled', \n",
    "               x=n_misass, y=n_contigs, z=round(x / y * 100, 2))\n",
    "cat(x)"
   ]
  },
  {
   "cell_type": "markdown",
   "metadata": {},
   "source": [
    "# sessionInfo"
   ]
  },
  {
   "cell_type": "code",
   "execution_count": 142,
   "metadata": {
    "ExecuteTime": {
     "start_time": "2019-11-20T19:33:54.073Z"
    }
   },
   "outputs": [
    {
     "data": {
      "text/plain": [
       "R version 3.4.1 (2017-06-30)\n",
       "Platform: x86_64-pc-linux-gnu (64-bit)\n",
       "Running under: Ubuntu 18.04.3 LTS\n",
       "\n",
       "Matrix products: default\n",
       "BLAS: /ebio/abt3_projects/software/miniconda3_gt4.4/envs/py3_physeq/lib/R/lib/libRblas.so\n",
       "LAPACK: /ebio/abt3_projects/software/miniconda3_gt4.4/envs/py3_physeq/lib/R/lib/libRlapack.so\n",
       "\n",
       "locale:\n",
       " [1] LC_CTYPE=en_US.UTF-8       LC_NUMERIC=C              \n",
       " [3] LC_TIME=en_US.UTF-8        LC_COLLATE=en_US.UTF-8    \n",
       " [5] LC_MONETARY=en_US.UTF-8    LC_MESSAGES=en_US.UTF-8   \n",
       " [7] LC_PAPER=en_US.UTF-8       LC_NAME=C                 \n",
       " [9] LC_ADDRESS=C               LC_TELEPHONE=C            \n",
       "[11] LC_MEASUREMENT=en_US.UTF-8 LC_IDENTIFICATION=C       \n",
       "\n",
       "attached base packages:\n",
       "[1] parallel  stats     graphics  grDevices utils     datasets  methods  \n",
       "[8] base     \n",
       "\n",
       "other attached packages:\n",
       " [1] bindrcpp_0.2.2          future.apply_1.0.0      future.batchtools_0.7.1\n",
       " [4] future_1.9.0            doParallel_1.0.11       iterators_1.0.10       \n",
       " [7] foreach_1.4.4           data.table_1.11.4       ggplot2_3.0.0          \n",
       "[10] tidyr_0.8.1             dplyr_0.7.6            \n",
       "\n",
       "loaded via a namespace (and not attached):\n",
       " [1] pbdZMQ_0.3-2      progress_1.2.0    tidyselect_0.2.4  repr_0.15.0      \n",
       " [5] purrr_0.2.4       listenv_0.7.0     colorspace_1.3-2  htmltools_0.3.6  \n",
       " [9] base64enc_0.1-3   rlang_0.2.1       pillar_1.2.2      glue_1.3.0       \n",
       "[13] withr_2.1.1       rappdirs_0.3.1    uuid_0.1-2        bindr_0.1.1      \n",
       "[17] plyr_1.8.4        stringr_1.3.1     munsell_0.5.0     gtable_0.2.0     \n",
       "[21] codetools_0.2-15  evaluate_0.10.1   batchtools_0.9.11 IRdisplay_0.4.4  \n",
       "[25] Rcpp_0.12.17      scales_0.5.0      backports_1.1.2   checkmate_1.8.5  \n",
       "[29] IRkernel_0.8.12   jsonlite_1.5      fs_1.2.6          brew_1.0-6       \n",
       "[33] hms_0.4.2         digest_0.6.15     stringi_1.2.3     grid_3.4.1       \n",
       "[37] tools_3.4.1       magrittr_1.5      base64url_1.4     lazyeval_0.2.1   \n",
       "[41] tibble_1.4.2      crayon_1.3.4      pkgconfig_2.0.1   prettyunits_1.0.2\n",
       "[45] assertthat_0.2.0  R6_2.2.2          globals_0.12.2    compiler_3.4.1   "
      ]
     },
     "metadata": {},
     "output_type": "display_data"
    }
   ],
   "source": [
    "sessionInfo()"
   ]
  },
  {
   "cell_type": "code",
   "execution_count": null,
   "metadata": {},
   "outputs": [],
   "source": []
  }
 ],
 "metadata": {
  "kernelspec": {
   "display_name": "R [conda env:py3_physeq]",
   "language": "R",
   "name": "conda-env-py3_physeq-r"
  },
  "language_info": {
   "codemirror_mode": "r",
   "file_extension": ".r",
   "mimetype": "text/x-r-source",
   "name": "R",
   "pygments_lexer": "r",
   "version": "3.4.1"
  },
  "notify_time": "30",
  "toc": {
   "base_numbering": 1,
   "nav_menu": {},
   "number_sections": true,
   "sideBar": true,
   "skip_h1_title": false,
   "title_cell": "Table of Contents",
   "title_sidebar": "Contents",
   "toc_cell": true,
   "toc_position": {},
   "toc_section_display": true,
   "toc_window_display": true
  }
 },
 "nbformat": 4,
 "nbformat_minor": 2
}
