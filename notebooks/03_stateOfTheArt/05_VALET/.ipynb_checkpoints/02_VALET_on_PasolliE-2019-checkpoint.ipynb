{
 "cells": [
  {
   "cell_type": "markdown",
   "metadata": {
    "toc": true
   },
   "source": [
    "<h1>Table of Contents<span class=\"tocSkip\"></span></h1>\n",
    "<div class=\"toc\"><ul class=\"toc-item\"><li><span><a href=\"#Goal\" data-toc-modified-id=\"Goal-1\"><span class=\"toc-item-num\">1&nbsp;&nbsp;</span>Goal</a></span></li><li><span><a href=\"#Var\" data-toc-modified-id=\"Var-2\"><span class=\"toc-item-num\">2&nbsp;&nbsp;</span>Var</a></span></li><li><span><a href=\"#Init\" data-toc-modified-id=\"Init-3\"><span class=\"toc-item-num\">3&nbsp;&nbsp;</span>Init</a></span></li><li><span><a href=\"#Load\" data-toc-modified-id=\"Load-4\"><span class=\"toc-item-num\">4&nbsp;&nbsp;</span>Load</a></span></li><li><span><a href=\"#Run\" data-toc-modified-id=\"Run-5\"><span class=\"toc-item-num\">5&nbsp;&nbsp;</span>Run</a></span><ul class=\"toc-item\"><li><span><a href=\"#Determining-which-succeeded\" data-toc-modified-id=\"Determining-which-succeeded-5.1\"><span class=\"toc-item-num\">5.1&nbsp;&nbsp;</span>Determining which succeeded</a></span></li><li><span><a href=\"#Re-run\" data-toc-modified-id=\"Re-run-5.2\"><span class=\"toc-item-num\">5.2&nbsp;&nbsp;</span>Re-run</a></span><ul class=\"toc-item\"><li><span><a href=\"#Creating-blank-summary.tsv-files\" data-toc-modified-id=\"Creating-blank-summary.tsv-files-5.2.1\"><span class=\"toc-item-num\">5.2.1&nbsp;&nbsp;</span>Creating blank summary.tsv files</a></span></li></ul></li></ul></li><li><span><a href=\"#Summary\" data-toc-modified-id=\"Summary-6\"><span class=\"toc-item-num\">6&nbsp;&nbsp;</span>Summary</a></span></li><li><span><a href=\"#sessionInfo\" data-toc-modified-id=\"sessionInfo-7\"><span class=\"toc-item-num\">7&nbsp;&nbsp;</span>sessionInfo</a></span></li></ul></div>"
   ]
  },
  {
   "cell_type": "markdown",
   "metadata": {},
   "source": [
    "# Goal\n",
    "\n",
    "* run VALET on PasolliE-2019 MAGs (those selected for analysis with DeepMAsED)"
   ]
  },
  {
   "cell_type": "markdown",
   "metadata": {},
   "source": [
    "# Var"
   ]
  },
  {
   "cell_type": "code",
   "execution_count": 1,
   "metadata": {
    "ExecuteTime": {
     "end_time": "2019-12-02T18:25:21.876157Z",
     "start_time": "2019-12-02T18:25:21.423Z"
    }
   },
   "outputs": [],
   "source": [
    "work_dir = '/ebio/abt3_projects/databases_no-backup/DeepMAsED/MAG_datasets/PasolliE-2019/samples_Almeida-Pasolli/VALET/'\n",
    "\n",
    "# file of MAGs used for DeepMAsED analysis \n",
    "MAGs_n143_file = '/ebio/abt3_projects/databases_no-backup/DeepMAsED/MAG_datasets/PasolliE-2019//samples_Almeida-Pasolli.txt'\n",
    "\n",
    "# bam file dir (mapping of metagenome reads to corresponding MAGs)\n",
    "map_dir = '/ebio/abt3_projects/databases_no-backup/DeepMAsED/MAG_datasets/PasolliE-2019/samples_Almeida-Pasolli/map/'\n",
    "\n",
    "# params\n",
    "conda_env = 'VALET'\n",
    "threads = 8"
   ]
  },
  {
   "cell_type": "markdown",
   "metadata": {},
   "source": [
    "# Init"
   ]
  },
  {
   "cell_type": "code",
   "execution_count": 3,
   "metadata": {
    "ExecuteTime": {
     "end_time": "2019-12-02T18:25:24.115347Z",
     "start_time": "2019-12-02T18:25:23.782Z"
    }
   },
   "outputs": [],
   "source": [
    "library(dplyr)\n",
    "library(tidyr)\n",
    "library(ggplot2)\n",
    "library(data.table)\n",
    "library(doParallel)\n",
    "\n",
    "library(future)\n",
    "library(future.batchtools)\n",
    "library(future.apply)\n",
    "options(future.wait.interval = 2.0)"
   ]
  },
  {
   "cell_type": "code",
   "execution_count": 4,
   "metadata": {
    "ExecuteTime": {
     "end_time": "2019-12-02T18:25:24.242221Z",
     "start_time": "2019-12-02T18:25:24.172Z"
    }
   },
   "outputs": [],
   "source": [
    "bash_job = function(cmd, conda_env, stdout=TRUE, stderr=FALSE){\n",
    "    # cmd : string; commandline job (eg., 'ls -thlc')\n",
    "    # conda_env : string; conda environment name\n",
    "    cmd = sprintf('. ~/.bashrc; conda activate %s; %s', conda_env, cmd)\n",
    "    cmd = sprintf('-c \"%s\"', cmd)\n",
    "    system2('bash', cmd, stdout=stdout, stderr=stderr)\n",
    "}"
   ]
  },
  {
   "cell_type": "markdown",
   "metadata": {},
   "source": [
    "# Load"
   ]
  },
  {
   "cell_type": "code",
   "execution_count": 5,
   "metadata": {
    "ExecuteTime": {
     "end_time": "2019-12-02T18:25:25.202163Z",
     "start_time": "2019-12-02T18:25:24.860Z"
    }
   },
   "outputs": [
    {
     "data": {
      "text/html": [
       "<table>\n",
       "<thead><tr><th scope=col>Taxon</th><th scope=col>Fasta</th><th scope=col>Sample</th><th scope=col>Read1</th><th scope=col>Read2</th></tr></thead>\n",
       "<tbody>\n",
       "\t<tr><td>VogtmannE_2016__MMRS65205033ST-27-0-0__bin.43                                                                                                                         </td><td>/ebio/abt3_projects/databases_no-backup/DeepMAsED/MAG_datasets/PasolliE-2019/all_MAGs/SGB_genome_fastas_part1/1024/VogtmannE_2016__MMRS65205033ST-27-0-0__bin.43.fa.gz</td><td>ERR1293531                                                                                                                                                            </td><td>/ebio/abt3_projects/databases_no-backup/DeepMAsED/MAG_datasets/AlmeidaA-2019/LLMGQC/final/ERR1293531/R1_final.fq.gz                                                   </td><td>/ebio/abt3_projects/databases_no-backup/DeepMAsED/MAG_datasets/AlmeidaA-2019/LLMGQC/final/ERR1293531/R2_final.fq.gz                                                   </td></tr>\n",
       "\t<tr><td>VogtmannE_2016__MMRS51737257ST-27-0-0__bin.46                                                                                                                         </td><td>/ebio/abt3_projects/databases_no-backup/DeepMAsED/MAG_datasets/PasolliE-2019/all_MAGs/SGB_genome_fastas_part1/1408/VogtmannE_2016__MMRS51737257ST-27-0-0__bin.46.fa.gz</td><td>ERR1293612                                                                                                                                                            </td><td>/ebio/abt3_projects/databases_no-backup/DeepMAsED/MAG_datasets/AlmeidaA-2019/LLMGQC/final/ERR1293612/R1_final.fq.gz                                                   </td><td>/ebio/abt3_projects/databases_no-backup/DeepMAsED/MAG_datasets/AlmeidaA-2019/LLMGQC/final/ERR1293612/R2_final.fq.gz                                                   </td></tr>\n",
       "\t<tr><td>VogtmannE_2016__MMRS51737257ST-27-0-0__bin.34                                                                                                                         </td><td>/ebio/abt3_projects/databases_no-backup/DeepMAsED/MAG_datasets/PasolliE-2019/all_MAGs/SGB_genome_fastas_part1/1472/VogtmannE_2016__MMRS51737257ST-27-0-0__bin.34.fa.gz</td><td>ERR1293612                                                                                                                                                            </td><td>/ebio/abt3_projects/databases_no-backup/DeepMAsED/MAG_datasets/AlmeidaA-2019/LLMGQC/final/ERR1293612/R1_final.fq.gz                                                   </td><td>/ebio/abt3_projects/databases_no-backup/DeepMAsED/MAG_datasets/AlmeidaA-2019/LLMGQC/final/ERR1293612/R2_final.fq.gz                                                   </td></tr>\n",
       "</tbody>\n",
       "</table>\n"
      ],
      "text/latex": [
       "\\begin{tabular}{r|lllll}\n",
       " Taxon & Fasta & Sample & Read1 & Read2\\\\\n",
       "\\hline\n",
       "\t VogtmannE\\_2016\\_\\_MMRS65205033ST-27-0-0\\_\\_bin.43                                                                                                                                        & /ebio/abt3\\_projects/databases\\_no-backup/DeepMAsED/MAG\\_datasets/PasolliE-2019/all\\_MAGs/SGB\\_genome\\_fastas\\_part1/1024/VogtmannE\\_2016\\_\\_MMRS65205033ST-27-0-0\\_\\_bin.43.fa.gz & ERR1293531                                                                                                                                                                                     & /ebio/abt3\\_projects/databases\\_no-backup/DeepMAsED/MAG\\_datasets/AlmeidaA-2019/LLMGQC/final/ERR1293531/R1\\_final.fq.gz                                                                    & /ebio/abt3\\_projects/databases\\_no-backup/DeepMAsED/MAG\\_datasets/AlmeidaA-2019/LLMGQC/final/ERR1293531/R2\\_final.fq.gz                                                                   \\\\\n",
       "\t VogtmannE\\_2016\\_\\_MMRS51737257ST-27-0-0\\_\\_bin.46                                                                                                                                        & /ebio/abt3\\_projects/databases\\_no-backup/DeepMAsED/MAG\\_datasets/PasolliE-2019/all\\_MAGs/SGB\\_genome\\_fastas\\_part1/1408/VogtmannE\\_2016\\_\\_MMRS51737257ST-27-0-0\\_\\_bin.46.fa.gz & ERR1293612                                                                                                                                                                                     & /ebio/abt3\\_projects/databases\\_no-backup/DeepMAsED/MAG\\_datasets/AlmeidaA-2019/LLMGQC/final/ERR1293612/R1\\_final.fq.gz                                                                    & /ebio/abt3\\_projects/databases\\_no-backup/DeepMAsED/MAG\\_datasets/AlmeidaA-2019/LLMGQC/final/ERR1293612/R2\\_final.fq.gz                                                                   \\\\\n",
       "\t VogtmannE\\_2016\\_\\_MMRS51737257ST-27-0-0\\_\\_bin.34                                                                                                                                        & /ebio/abt3\\_projects/databases\\_no-backup/DeepMAsED/MAG\\_datasets/PasolliE-2019/all\\_MAGs/SGB\\_genome\\_fastas\\_part1/1472/VogtmannE\\_2016\\_\\_MMRS51737257ST-27-0-0\\_\\_bin.34.fa.gz & ERR1293612                                                                                                                                                                                     & /ebio/abt3\\_projects/databases\\_no-backup/DeepMAsED/MAG\\_datasets/AlmeidaA-2019/LLMGQC/final/ERR1293612/R1\\_final.fq.gz                                                                    & /ebio/abt3\\_projects/databases\\_no-backup/DeepMAsED/MAG\\_datasets/AlmeidaA-2019/LLMGQC/final/ERR1293612/R2\\_final.fq.gz                                                                   \\\\\n",
       "\\end{tabular}\n"
      ],
      "text/markdown": [
       "\n",
       "Taxon | Fasta | Sample | Read1 | Read2 | \n",
       "|---|---|---|\n",
       "| VogtmannE_2016__MMRS65205033ST-27-0-0__bin.43                                                                                                                          | /ebio/abt3_projects/databases_no-backup/DeepMAsED/MAG_datasets/PasolliE-2019/all_MAGs/SGB_genome_fastas_part1/1024/VogtmannE_2016__MMRS65205033ST-27-0-0__bin.43.fa.gz | ERR1293531                                                                                                                                                             | /ebio/abt3_projects/databases_no-backup/DeepMAsED/MAG_datasets/AlmeidaA-2019/LLMGQC/final/ERR1293531/R1_final.fq.gz                                                    | /ebio/abt3_projects/databases_no-backup/DeepMAsED/MAG_datasets/AlmeidaA-2019/LLMGQC/final/ERR1293531/R2_final.fq.gz                                                    | \n",
       "| VogtmannE_2016__MMRS51737257ST-27-0-0__bin.46                                                                                                                          | /ebio/abt3_projects/databases_no-backup/DeepMAsED/MAG_datasets/PasolliE-2019/all_MAGs/SGB_genome_fastas_part1/1408/VogtmannE_2016__MMRS51737257ST-27-0-0__bin.46.fa.gz | ERR1293612                                                                                                                                                             | /ebio/abt3_projects/databases_no-backup/DeepMAsED/MAG_datasets/AlmeidaA-2019/LLMGQC/final/ERR1293612/R1_final.fq.gz                                                    | /ebio/abt3_projects/databases_no-backup/DeepMAsED/MAG_datasets/AlmeidaA-2019/LLMGQC/final/ERR1293612/R2_final.fq.gz                                                    | \n",
       "| VogtmannE_2016__MMRS51737257ST-27-0-0__bin.34                                                                                                                          | /ebio/abt3_projects/databases_no-backup/DeepMAsED/MAG_datasets/PasolliE-2019/all_MAGs/SGB_genome_fastas_part1/1472/VogtmannE_2016__MMRS51737257ST-27-0-0__bin.34.fa.gz | ERR1293612                                                                                                                                                             | /ebio/abt3_projects/databases_no-backup/DeepMAsED/MAG_datasets/AlmeidaA-2019/LLMGQC/final/ERR1293612/R1_final.fq.gz                                                    | /ebio/abt3_projects/databases_no-backup/DeepMAsED/MAG_datasets/AlmeidaA-2019/LLMGQC/final/ERR1293612/R2_final.fq.gz                                                    | \n",
       "\n",
       "\n"
      ],
      "text/plain": [
       "  Taxon                                        \n",
       "1 VogtmannE_2016__MMRS65205033ST-27-0-0__bin.43\n",
       "2 VogtmannE_2016__MMRS51737257ST-27-0-0__bin.46\n",
       "3 VogtmannE_2016__MMRS51737257ST-27-0-0__bin.34\n",
       "  Fasta                                                                                                                                                                 \n",
       "1 /ebio/abt3_projects/databases_no-backup/DeepMAsED/MAG_datasets/PasolliE-2019/all_MAGs/SGB_genome_fastas_part1/1024/VogtmannE_2016__MMRS65205033ST-27-0-0__bin.43.fa.gz\n",
       "2 /ebio/abt3_projects/databases_no-backup/DeepMAsED/MAG_datasets/PasolliE-2019/all_MAGs/SGB_genome_fastas_part1/1408/VogtmannE_2016__MMRS51737257ST-27-0-0__bin.46.fa.gz\n",
       "3 /ebio/abt3_projects/databases_no-backup/DeepMAsED/MAG_datasets/PasolliE-2019/all_MAGs/SGB_genome_fastas_part1/1472/VogtmannE_2016__MMRS51737257ST-27-0-0__bin.34.fa.gz\n",
       "  Sample    \n",
       "1 ERR1293531\n",
       "2 ERR1293612\n",
       "3 ERR1293612\n",
       "  Read1                                                                                                              \n",
       "1 /ebio/abt3_projects/databases_no-backup/DeepMAsED/MAG_datasets/AlmeidaA-2019/LLMGQC/final/ERR1293531/R1_final.fq.gz\n",
       "2 /ebio/abt3_projects/databases_no-backup/DeepMAsED/MAG_datasets/AlmeidaA-2019/LLMGQC/final/ERR1293612/R1_final.fq.gz\n",
       "3 /ebio/abt3_projects/databases_no-backup/DeepMAsED/MAG_datasets/AlmeidaA-2019/LLMGQC/final/ERR1293612/R1_final.fq.gz\n",
       "  Read2                                                                                                              \n",
       "1 /ebio/abt3_projects/databases_no-backup/DeepMAsED/MAG_datasets/AlmeidaA-2019/LLMGQC/final/ERR1293531/R2_final.fq.gz\n",
       "2 /ebio/abt3_projects/databases_no-backup/DeepMAsED/MAG_datasets/AlmeidaA-2019/LLMGQC/final/ERR1293612/R2_final.fq.gz\n",
       "3 /ebio/abt3_projects/databases_no-backup/DeepMAsED/MAG_datasets/AlmeidaA-2019/LLMGQC/final/ERR1293612/R2_final.fq.gz"
      ]
     },
     "metadata": {},
     "output_type": "display_data"
    }
   ],
   "source": [
    "MAGs_n143 = read.delim(MAGs_n143_file, sep='\\t')\n",
    "MAGs_n143 %>% head(n=3)"
   ]
  },
  {
   "cell_type": "markdown",
   "metadata": {},
   "source": [
    "# Run"
   ]
  },
  {
   "cell_type": "code",
   "execution_count": 8,
   "metadata": {
    "ExecuteTime": {
     "end_time": "2019-11-24T18:52:57.835152Z",
     "start_time": "2019-11-24T18:52:57.794Z"
    }
   },
   "outputs": [],
   "source": [
    "#' creating valet commands\n",
    "VALET_cmd = function(ref, read1, read2, outdir, threads){\n",
    "    # L = c(ref, read1, read2)\n",
    "    baseout = basename(as.character(ref))\n",
    "    baseout = gsub('\\\\.fa\\\\.gz', '', baseout)\n",
    "    outdir = file.path(outdir, baseout)\n",
    "    tmp_ref = gsub('\\\\.gz$', '', ref)\n",
    "    cmd = 'rm -rf {outdir}; mkdir -p {outdir}; gunzip -c {ref} > {tmp_ref}; valet.py --threads {threads} --assembly-names reference --skip-reapr --output-dir {outdir} -a {tmp_ref} -1 {read1} -2 {read2}; rm -f {tmp_ref}'\n",
    "    cmd = glue::glue(cmd, threads=threads, outdir=outdir, \n",
    "                     ref=ref, read1=read1, read2=read2, tmp_ref=tmp_ref)\n",
    "    return(cmd)\n",
    "}"
   ]
  },
  {
   "cell_type": "code",
   "execution_count": 9,
   "metadata": {
    "ExecuteTime": {
     "end_time": "2019-11-24T07:12:57.021895Z",
     "start_time": "2019-11-24T07:12:55.402Z"
    }
   },
   "outputs": [
    {
     "data": {
      "text/html": [
       "1090"
      ],
      "text/latex": [
       "1090"
      ],
      "text/markdown": [
       "1090"
      ],
      "text/plain": [
       "[1] 1090"
      ]
     },
     "metadata": {},
     "output_type": "display_data"
    },
    {
     "data": {
      "text/html": [
       "'rm -rf /ebio/abt3_projects/databases_no-backup/DeepMAsED/MAG_datasets/PasolliE-2019/samples_Almeida-Pasolli/VALET//VogtmannE_2016__MMRS65205033ST-27-0-0__bin.43; mkdir -p /ebio/abt3_projects/databases_no-backup/DeepMAsED/MAG_datasets/PasolliE-2019/samples_Almeida-Pasolli/VALET//VogtmannE_2016__MMRS65205033ST-27-0-0__bin.43; gunzip -c /ebio/abt3_projects/databases_no-backup/DeepMAsED/MAG_datasets/PasolliE-2019/all_MAGs/SGB_genome_fastas_part1/1024/VogtmannE_2016__MMRS65205033ST-27-0-0__bin.43.fa.gz &gt; /ebio/abt3_projects/databases_no-backup/DeepMAsED/MAG_datasets/PasolliE-2019/all_MAGs/SGB_genome_fastas_part1/1024/VogtmannE_2016__MMRS65205033ST-27-0-0__bin.43.fa; valet.py --threads 8 --assembly-names reference --skip-reapr --output-dir /ebio/abt3_projects/databases_no-backup/DeepMAsED/MAG_datasets/PasolliE-2019/samples_Almeida-Pasolli/VALET//VogtmannE_2016__MMRS65205033ST-27-0-0__bin.43 -a /ebio/abt3_projects/databases_no-backup/DeepMAsED/MAG_datasets/PasolliE-2019/all_MAGs/SGB_genome_fastas_part1/1024/VogtmannE_2016__MMRS65205033ST-27-0-0__bin.43.fa -1 /ebio/abt3_projects/databases_no-backup/DeepMAsED/MAG_datasets/AlmeidaA-2019/LLMGQC/final/ERR1293531/R1_final.fq.gz -2 /ebio/abt3_projects/databases_no-backup/DeepMAsED/MAG_datasets/AlmeidaA-2019/LLMGQC/final/ERR1293531/R2_final.fq.gz; rm -f /ebio/abt3_projects/databases_no-backup/DeepMAsED/MAG_datasets/PasolliE-2019/all_MAGs/SGB_genome_fastas_part1/1024/VogtmannE_2016__MMRS65205033ST-27-0-0__bin.43.fa'"
      ],
      "text/latex": [
       "'rm -rf /ebio/abt3\\_projects/databases\\_no-backup/DeepMAsED/MAG\\_datasets/PasolliE-2019/samples\\_Almeida-Pasolli/VALET//VogtmannE\\_2016\\_\\_MMRS65205033ST-27-0-0\\_\\_bin.43; mkdir -p /ebio/abt3\\_projects/databases\\_no-backup/DeepMAsED/MAG\\_datasets/PasolliE-2019/samples\\_Almeida-Pasolli/VALET//VogtmannE\\_2016\\_\\_MMRS65205033ST-27-0-0\\_\\_bin.43; gunzip -c /ebio/abt3\\_projects/databases\\_no-backup/DeepMAsED/MAG\\_datasets/PasolliE-2019/all\\_MAGs/SGB\\_genome\\_fastas\\_part1/1024/VogtmannE\\_2016\\_\\_MMRS65205033ST-27-0-0\\_\\_bin.43.fa.gz > /ebio/abt3\\_projects/databases\\_no-backup/DeepMAsED/MAG\\_datasets/PasolliE-2019/all\\_MAGs/SGB\\_genome\\_fastas\\_part1/1024/VogtmannE\\_2016\\_\\_MMRS65205033ST-27-0-0\\_\\_bin.43.fa; valet.py --threads 8 --assembly-names reference --skip-reapr --output-dir /ebio/abt3\\_projects/databases\\_no-backup/DeepMAsED/MAG\\_datasets/PasolliE-2019/samples\\_Almeida-Pasolli/VALET//VogtmannE\\_2016\\_\\_MMRS65205033ST-27-0-0\\_\\_bin.43 -a /ebio/abt3\\_projects/databases\\_no-backup/DeepMAsED/MAG\\_datasets/PasolliE-2019/all\\_MAGs/SGB\\_genome\\_fastas\\_part1/1024/VogtmannE\\_2016\\_\\_MMRS65205033ST-27-0-0\\_\\_bin.43.fa -1 /ebio/abt3\\_projects/databases\\_no-backup/DeepMAsED/MAG\\_datasets/AlmeidaA-2019/LLMGQC/final/ERR1293531/R1\\_final.fq.gz -2 /ebio/abt3\\_projects/databases\\_no-backup/DeepMAsED/MAG\\_datasets/AlmeidaA-2019/LLMGQC/final/ERR1293531/R2\\_final.fq.gz; rm -f /ebio/abt3\\_projects/databases\\_no-backup/DeepMAsED/MAG\\_datasets/PasolliE-2019/all\\_MAGs/SGB\\_genome\\_fastas\\_part1/1024/VogtmannE\\_2016\\_\\_MMRS65205033ST-27-0-0\\_\\_bin.43.fa'"
      ],
      "text/markdown": [
       "'rm -rf /ebio/abt3_projects/databases_no-backup/DeepMAsED/MAG_datasets/PasolliE-2019/samples_Almeida-Pasolli/VALET//VogtmannE_2016__MMRS65205033ST-27-0-0__bin.43; mkdir -p /ebio/abt3_projects/databases_no-backup/DeepMAsED/MAG_datasets/PasolliE-2019/samples_Almeida-Pasolli/VALET//VogtmannE_2016__MMRS65205033ST-27-0-0__bin.43; gunzip -c /ebio/abt3_projects/databases_no-backup/DeepMAsED/MAG_datasets/PasolliE-2019/all_MAGs/SGB_genome_fastas_part1/1024/VogtmannE_2016__MMRS65205033ST-27-0-0__bin.43.fa.gz &gt; /ebio/abt3_projects/databases_no-backup/DeepMAsED/MAG_datasets/PasolliE-2019/all_MAGs/SGB_genome_fastas_part1/1024/VogtmannE_2016__MMRS65205033ST-27-0-0__bin.43.fa; valet.py --threads 8 --assembly-names reference --skip-reapr --output-dir /ebio/abt3_projects/databases_no-backup/DeepMAsED/MAG_datasets/PasolliE-2019/samples_Almeida-Pasolli/VALET//VogtmannE_2016__MMRS65205033ST-27-0-0__bin.43 -a /ebio/abt3_projects/databases_no-backup/DeepMAsED/MAG_datasets/PasolliE-2019/all_MAGs/SGB_genome_fastas_part1/1024/VogtmannE_2016__MMRS65205033ST-27-0-0__bin.43.fa -1 /ebio/abt3_projects/databases_no-backup/DeepMAsED/MAG_datasets/AlmeidaA-2019/LLMGQC/final/ERR1293531/R1_final.fq.gz -2 /ebio/abt3_projects/databases_no-backup/DeepMAsED/MAG_datasets/AlmeidaA-2019/LLMGQC/final/ERR1293531/R2_final.fq.gz; rm -f /ebio/abt3_projects/databases_no-backup/DeepMAsED/MAG_datasets/PasolliE-2019/all_MAGs/SGB_genome_fastas_part1/1024/VogtmannE_2016__MMRS65205033ST-27-0-0__bin.43.fa'"
      ],
      "text/plain": [
       "[1] \"rm -rf /ebio/abt3_projects/databases_no-backup/DeepMAsED/MAG_datasets/PasolliE-2019/samples_Almeida-Pasolli/VALET//VogtmannE_2016__MMRS65205033ST-27-0-0__bin.43; mkdir -p /ebio/abt3_projects/databases_no-backup/DeepMAsED/MAG_datasets/PasolliE-2019/samples_Almeida-Pasolli/VALET//VogtmannE_2016__MMRS65205033ST-27-0-0__bin.43; gunzip -c /ebio/abt3_projects/databases_no-backup/DeepMAsED/MAG_datasets/PasolliE-2019/all_MAGs/SGB_genome_fastas_part1/1024/VogtmannE_2016__MMRS65205033ST-27-0-0__bin.43.fa.gz > /ebio/abt3_projects/databases_no-backup/DeepMAsED/MAG_datasets/PasolliE-2019/all_MAGs/SGB_genome_fastas_part1/1024/VogtmannE_2016__MMRS65205033ST-27-0-0__bin.43.fa; valet.py --threads 8 --assembly-names reference --skip-reapr --output-dir /ebio/abt3_projects/databases_no-backup/DeepMAsED/MAG_datasets/PasolliE-2019/samples_Almeida-Pasolli/VALET//VogtmannE_2016__MMRS65205033ST-27-0-0__bin.43 -a /ebio/abt3_projects/databases_no-backup/DeepMAsED/MAG_datasets/PasolliE-2019/all_MAGs/SGB_genome_fastas_part1/1024/VogtmannE_2016__MMRS65205033ST-27-0-0__bin.43.fa -1 /ebio/abt3_projects/databases_no-backup/DeepMAsED/MAG_datasets/AlmeidaA-2019/LLMGQC/final/ERR1293531/R1_final.fq.gz -2 /ebio/abt3_projects/databases_no-backup/DeepMAsED/MAG_datasets/AlmeidaA-2019/LLMGQC/final/ERR1293531/R2_final.fq.gz; rm -f /ebio/abt3_projects/databases_no-backup/DeepMAsED/MAG_datasets/PasolliE-2019/all_MAGs/SGB_genome_fastas_part1/1024/VogtmannE_2016__MMRS65205033ST-27-0-0__bin.43.fa\""
      ]
     },
     "metadata": {},
     "output_type": "display_data"
    }
   ],
   "source": [
    "# creating commands for VALET runs\n",
    "cmds = mapply(VALET_cmd, MAGs_n143$Fasta, MAGs_n143$Read1, \n",
    "              MAGs_n143$Read2, outdir=work_dir, threads=8) %>%\n",
    "    as.list()\n",
    "cmds %>% length\n",
    "cmds[[1]]"
   ]
  },
  {
   "cell_type": "code",
   "execution_count": null,
   "metadata": {
    "ExecuteTime": {
     "end_time": "2019-11-20T14:29:50.836854Z",
     "start_time": "2019-11-20T13:14:01.937Z"
    }
   },
   "outputs": [],
   "source": [
    "# test run\n",
    "bash_job(res[[1]], conda_env = conda_env)"
   ]
  },
  {
   "cell_type": "code",
   "execution_count": 10,
   "metadata": {
    "ExecuteTime": {
     "end_time": "2019-11-24T07:14:02.913656Z",
     "start_time": "2019-11-24T07:14:02.808Z"
    }
   },
   "outputs": [],
   "source": [
    "# cluster resources\n",
    "resources = list(h_rt = '08:00:00',\n",
    "                 h_vmem = '8G',\n",
    "                 threads = threads,\n",
    "                 conda.env = 'py3_physeq')     # conda env with batchtools installed\n",
    "plan(batchtools_sge, resources=resources, workers=30)"
   ]
  },
  {
   "cell_type": "code",
   "execution_count": null,
   "metadata": {
    "ExecuteTime": {
     "start_time": "2019-11-24T07:14:09.349Z"
    }
   },
   "outputs": [],
   "source": [
    "# running cluster jobs \n",
    "res = cmds %>%\n",
    "    future_lapply(FUN = bash_job, conda_env=conda_env)\n",
    "\n",
    "res %>% length"
   ]
  },
  {
   "cell_type": "markdown",
   "metadata": {},
   "source": [
    "## Determining which succeeded"
   ]
  },
  {
   "cell_type": "code",
   "execution_count": 26,
   "metadata": {
    "ExecuteTime": {
     "end_time": "2019-11-25T08:43:01.343046Z",
     "start_time": "2019-11-25T08:42:58.160Z"
    }
   },
   "outputs": [
    {
     "data": {
      "text/html": [
       "984"
      ],
      "text/latex": [
       "984"
      ],
      "text/markdown": [
       "984"
      ],
      "text/plain": [
       "[1] 984"
      ]
     },
     "metadata": {},
     "output_type": "display_data"
    }
   ],
   "source": [
    "sum_files = list.files(work_dir, pattern='summary.tsv', recursive=TRUE, full.names=TRUE)\n",
    "sum_files %>% length"
   ]
  },
  {
   "cell_type": "code",
   "execution_count": 27,
   "metadata": {
    "ExecuteTime": {
     "end_time": "2019-11-25T08:43:01.396061Z",
     "start_time": "2019-11-25T08:42:58.695Z"
    }
   },
   "outputs": [
    {
     "data": {
      "text/html": [
       "984"
      ],
      "text/latex": [
       "984"
      ],
      "text/markdown": [
       "984"
      ],
      "text/plain": [
       "[1] 984"
      ]
     },
     "metadata": {},
     "output_type": "display_data"
    }
   ],
   "source": [
    "taxa_complete = sum_files %>%\n",
    "    as.character %>%\n",
    "    dirname %>% dirname %>% basename \n",
    "\n",
    "taxa_complete %>% length"
   ]
  },
  {
   "cell_type": "code",
   "execution_count": 28,
   "metadata": {
    "ExecuteTime": {
     "end_time": "2019-11-25T08:43:01.429476Z",
     "start_time": "2019-11-25T08:42:58.967Z"
    }
   },
   "outputs": [
    {
     "data": {
      "text/html": [
       "106"
      ],
      "text/latex": [
       "106"
      ],
      "text/markdown": [
       "106"
      ],
      "text/plain": [
       "[1] 106"
      ]
     },
     "metadata": {},
     "output_type": "display_data"
    }
   ],
   "source": [
    "MAGs_n143_f = MAGs_n143 %>%\n",
    "    filter(! Taxon %in% taxa_complete)\n",
    "\n",
    "MAGs_n143_f %>% nrow"
   ]
  },
  {
   "cell_type": "markdown",
   "metadata": {},
   "source": [
    "## Re-run"
   ]
  },
  {
   "cell_type": "code",
   "execution_count": 29,
   "metadata": {
    "ExecuteTime": {
     "end_time": "2019-11-25T08:43:14.930625Z",
     "start_time": "2019-11-25T08:43:14.735Z"
    }
   },
   "outputs": [
    {
     "data": {
      "text/html": [
       "106"
      ],
      "text/latex": [
       "106"
      ],
      "text/markdown": [
       "106"
      ],
      "text/plain": [
       "[1] 106"
      ]
     },
     "metadata": {},
     "output_type": "display_data"
    },
    {
     "data": {
      "text/html": [
       "'rm -rf /ebio/abt3_projects/databases_no-backup/DeepMAsED/MAG_datasets/PasolliE-2019/samples_Almeida-Pasolli/VALET//NielsenHB_2014__MH0032__bin.6; mkdir -p /ebio/abt3_projects/databases_no-backup/DeepMAsED/MAG_datasets/PasolliE-2019/samples_Almeida-Pasolli/VALET//NielsenHB_2014__MH0032__bin.6; gunzip -c /ebio/abt3_projects/databases_no-backup/DeepMAsED/MAG_datasets/PasolliE-2019/all_MAGs/SGB_genome_fastas_part1/1626/NielsenHB_2014__MH0032__bin.6.fa.gz &gt; /ebio/abt3_projects/databases_no-backup/DeepMAsED/MAG_datasets/PasolliE-2019/all_MAGs/SGB_genome_fastas_part1/1626/NielsenHB_2014__MH0032__bin.6.fa; valet.py --threads 8 --assembly-names reference --skip-reapr --output-dir /ebio/abt3_projects/databases_no-backup/DeepMAsED/MAG_datasets/PasolliE-2019/samples_Almeida-Pasolli/VALET//NielsenHB_2014__MH0032__bin.6 -a /ebio/abt3_projects/databases_no-backup/DeepMAsED/MAG_datasets/PasolliE-2019/all_MAGs/SGB_genome_fastas_part1/1626/NielsenHB_2014__MH0032__bin.6.fa -1 /ebio/abt3_projects/databases_no-backup/DeepMAsED/MAG_datasets/AlmeidaA-2019/LLMGQC/final/ERR209130/R1_final.fq.gz -2 /ebio/abt3_projects/databases_no-backup/DeepMAsED/MAG_datasets/AlmeidaA-2019/LLMGQC/final/ERR209130/R2_final.fq.gz; rm -f /ebio/abt3_projects/databases_no-backup/DeepMAsED/MAG_datasets/PasolliE-2019/all_MAGs/SGB_genome_fastas_part1/1626/NielsenHB_2014__MH0032__bin.6.fa'"
      ],
      "text/latex": [
       "'rm -rf /ebio/abt3\\_projects/databases\\_no-backup/DeepMAsED/MAG\\_datasets/PasolliE-2019/samples\\_Almeida-Pasolli/VALET//NielsenHB\\_2014\\_\\_MH0032\\_\\_bin.6; mkdir -p /ebio/abt3\\_projects/databases\\_no-backup/DeepMAsED/MAG\\_datasets/PasolliE-2019/samples\\_Almeida-Pasolli/VALET//NielsenHB\\_2014\\_\\_MH0032\\_\\_bin.6; gunzip -c /ebio/abt3\\_projects/databases\\_no-backup/DeepMAsED/MAG\\_datasets/PasolliE-2019/all\\_MAGs/SGB\\_genome\\_fastas\\_part1/1626/NielsenHB\\_2014\\_\\_MH0032\\_\\_bin.6.fa.gz > /ebio/abt3\\_projects/databases\\_no-backup/DeepMAsED/MAG\\_datasets/PasolliE-2019/all\\_MAGs/SGB\\_genome\\_fastas\\_part1/1626/NielsenHB\\_2014\\_\\_MH0032\\_\\_bin.6.fa; valet.py --threads 8 --assembly-names reference --skip-reapr --output-dir /ebio/abt3\\_projects/databases\\_no-backup/DeepMAsED/MAG\\_datasets/PasolliE-2019/samples\\_Almeida-Pasolli/VALET//NielsenHB\\_2014\\_\\_MH0032\\_\\_bin.6 -a /ebio/abt3\\_projects/databases\\_no-backup/DeepMAsED/MAG\\_datasets/PasolliE-2019/all\\_MAGs/SGB\\_genome\\_fastas\\_part1/1626/NielsenHB\\_2014\\_\\_MH0032\\_\\_bin.6.fa -1 /ebio/abt3\\_projects/databases\\_no-backup/DeepMAsED/MAG\\_datasets/AlmeidaA-2019/LLMGQC/final/ERR209130/R1\\_final.fq.gz -2 /ebio/abt3\\_projects/databases\\_no-backup/DeepMAsED/MAG\\_datasets/AlmeidaA-2019/LLMGQC/final/ERR209130/R2\\_final.fq.gz; rm -f /ebio/abt3\\_projects/databases\\_no-backup/DeepMAsED/MAG\\_datasets/PasolliE-2019/all\\_MAGs/SGB\\_genome\\_fastas\\_part1/1626/NielsenHB\\_2014\\_\\_MH0032\\_\\_bin.6.fa'"
      ],
      "text/markdown": [
       "'rm -rf /ebio/abt3_projects/databases_no-backup/DeepMAsED/MAG_datasets/PasolliE-2019/samples_Almeida-Pasolli/VALET//NielsenHB_2014__MH0032__bin.6; mkdir -p /ebio/abt3_projects/databases_no-backup/DeepMAsED/MAG_datasets/PasolliE-2019/samples_Almeida-Pasolli/VALET//NielsenHB_2014__MH0032__bin.6; gunzip -c /ebio/abt3_projects/databases_no-backup/DeepMAsED/MAG_datasets/PasolliE-2019/all_MAGs/SGB_genome_fastas_part1/1626/NielsenHB_2014__MH0032__bin.6.fa.gz &gt; /ebio/abt3_projects/databases_no-backup/DeepMAsED/MAG_datasets/PasolliE-2019/all_MAGs/SGB_genome_fastas_part1/1626/NielsenHB_2014__MH0032__bin.6.fa; valet.py --threads 8 --assembly-names reference --skip-reapr --output-dir /ebio/abt3_projects/databases_no-backup/DeepMAsED/MAG_datasets/PasolliE-2019/samples_Almeida-Pasolli/VALET//NielsenHB_2014__MH0032__bin.6 -a /ebio/abt3_projects/databases_no-backup/DeepMAsED/MAG_datasets/PasolliE-2019/all_MAGs/SGB_genome_fastas_part1/1626/NielsenHB_2014__MH0032__bin.6.fa -1 /ebio/abt3_projects/databases_no-backup/DeepMAsED/MAG_datasets/AlmeidaA-2019/LLMGQC/final/ERR209130/R1_final.fq.gz -2 /ebio/abt3_projects/databases_no-backup/DeepMAsED/MAG_datasets/AlmeidaA-2019/LLMGQC/final/ERR209130/R2_final.fq.gz; rm -f /ebio/abt3_projects/databases_no-backup/DeepMAsED/MAG_datasets/PasolliE-2019/all_MAGs/SGB_genome_fastas_part1/1626/NielsenHB_2014__MH0032__bin.6.fa'"
      ],
      "text/plain": [
       "[1] \"rm -rf /ebio/abt3_projects/databases_no-backup/DeepMAsED/MAG_datasets/PasolliE-2019/samples_Almeida-Pasolli/VALET//NielsenHB_2014__MH0032__bin.6; mkdir -p /ebio/abt3_projects/databases_no-backup/DeepMAsED/MAG_datasets/PasolliE-2019/samples_Almeida-Pasolli/VALET//NielsenHB_2014__MH0032__bin.6; gunzip -c /ebio/abt3_projects/databases_no-backup/DeepMAsED/MAG_datasets/PasolliE-2019/all_MAGs/SGB_genome_fastas_part1/1626/NielsenHB_2014__MH0032__bin.6.fa.gz > /ebio/abt3_projects/databases_no-backup/DeepMAsED/MAG_datasets/PasolliE-2019/all_MAGs/SGB_genome_fastas_part1/1626/NielsenHB_2014__MH0032__bin.6.fa; valet.py --threads 8 --assembly-names reference --skip-reapr --output-dir /ebio/abt3_projects/databases_no-backup/DeepMAsED/MAG_datasets/PasolliE-2019/samples_Almeida-Pasolli/VALET//NielsenHB_2014__MH0032__bin.6 -a /ebio/abt3_projects/databases_no-backup/DeepMAsED/MAG_datasets/PasolliE-2019/all_MAGs/SGB_genome_fastas_part1/1626/NielsenHB_2014__MH0032__bin.6.fa -1 /ebio/abt3_projects/databases_no-backup/DeepMAsED/MAG_datasets/AlmeidaA-2019/LLMGQC/final/ERR209130/R1_final.fq.gz -2 /ebio/abt3_projects/databases_no-backup/DeepMAsED/MAG_datasets/AlmeidaA-2019/LLMGQC/final/ERR209130/R2_final.fq.gz; rm -f /ebio/abt3_projects/databases_no-backup/DeepMAsED/MAG_datasets/PasolliE-2019/all_MAGs/SGB_genome_fastas_part1/1626/NielsenHB_2014__MH0032__bin.6.fa\""
      ]
     },
     "metadata": {},
     "output_type": "display_data"
    }
   ],
   "source": [
    "# creating commands for VALET runs\n",
    "cmds = mapply(VALET_cmd, MAGs_n143_f$Fasta, MAGs_n143_f$Read1, \n",
    "             MAGs_n143_f$Read2, outdir=work_dir, threads=8) %>%\n",
    "    as.list()\n",
    "cmds %>% length\n",
    "cmds[[1]]"
   ]
  },
  {
   "cell_type": "code",
   "execution_count": 30,
   "metadata": {
    "ExecuteTime": {
     "end_time": "2019-11-25T08:43:14.954555Z",
     "start_time": "2019-11-25T08:43:14.846Z"
    }
   },
   "outputs": [],
   "source": [
    "# cluster resources\n",
    "resources = list(h_rt = '36:00:00',\n",
    "                 h_vmem = '8G',\n",
    "                 threads = threads,\n",
    "                 conda.env = 'py3_physeq')     # conda env with batchtools installed\n",
    "plan(batchtools_sge, resources=resources, workers=30)"
   ]
  },
  {
   "cell_type": "code",
   "execution_count": 31,
   "metadata": {
    "ExecuteTime": {
     "end_time": "2019-11-25T08:45:13.964655Z",
     "start_time": "2019-11-25T08:43:15.647Z"
    }
   },
   "outputs": [
    {
     "data": {
      "text/html": [
       "106"
      ],
      "text/latex": [
       "106"
      ],
      "text/markdown": [
       "106"
      ],
      "text/plain": [
       "[1] 106"
      ]
     },
     "metadata": {},
     "output_type": "display_data"
    }
   ],
   "source": [
    "# running cluster jobs \n",
    "res = cmds %>%\n",
    "    future_lapply(FUN = bash_job, conda_env=conda_env)\n",
    "\n",
    "res %>% length"
   ]
  },
  {
   "cell_type": "markdown",
   "metadata": {},
   "source": [
    "### Creating blank summary.tsv files\n",
    "\n",
    "* For those lacking reads"
   ]
  },
  {
   "cell_type": "code",
   "execution_count": 33,
   "metadata": {
    "ExecuteTime": {
     "end_time": "2019-11-25T08:49:07.380885Z",
     "start_time": "2019-11-25T08:49:07.362Z"
    }
   },
   "outputs": [],
   "source": [
    "# F = file.path(work_dir, 'SRR1196604_bin.22', 'reference', 'summary.tsv')\n",
    "# tmpl_sum = read.delim(F, sep='\\t')\n",
    "# tmpl_sum %>% head(n=3)\n",
    "# tmpl_sum %>% tail(n=3)"
   ]
  },
  {
   "cell_type": "code",
   "execution_count": 34,
   "metadata": {
    "ExecuteTime": {
     "end_time": "2019-11-25T08:55:28.764460Z",
     "start_time": "2019-11-25T08:49:14.417Z"
    }
   },
   "outputs": [
    {
     "name": "stdout",
     "output_type": "stream",
     "text": [
      "File written: /ebio/abt3_projects/databases_no-backup/DeepMAsED/MAG_datasets/PasolliE-2019/samples_Almeida-Pasolli/VALET//NielsenHB_2014__MH0032__bin.6/reference/summary.tsv \n",
      "File written: /ebio/abt3_projects/databases_no-backup/DeepMAsED/MAG_datasets/PasolliE-2019/samples_Almeida-Pasolli/VALET//NielsenHB_2014__MH0107__bin.3/reference/summary.tsv \n",
      "File written: /ebio/abt3_projects/databases_no-backup/DeepMAsED/MAG_datasets/PasolliE-2019/samples_Almeida-Pasolli/VALET//NielsenHB_2014__O2_UC47_2__bin.42/reference/summary.tsv \n",
      "File written: /ebio/abt3_projects/databases_no-backup/DeepMAsED/MAG_datasets/PasolliE-2019/samples_Almeida-Pasolli/VALET//NielsenHB_2014__MH0017__bin.5/reference/summary.tsv \n",
      "File written: /ebio/abt3_projects/databases_no-backup/DeepMAsED/MAG_datasets/PasolliE-2019/samples_Almeida-Pasolli/VALET//NielsenHB_2014__MH0032__bin.3/reference/summary.tsv \n",
      "File written: /ebio/abt3_projects/databases_no-backup/DeepMAsED/MAG_datasets/PasolliE-2019/samples_Almeida-Pasolli/VALET//NielsenHB_2014__MH0080__bin.21/reference/summary.tsv \n",
      "File written: /ebio/abt3_projects/databases_no-backup/DeepMAsED/MAG_datasets/PasolliE-2019/samples_Almeida-Pasolli/VALET//NielsenHB_2014__MH0107__bin.7/reference/summary.tsv \n",
      "File written: /ebio/abt3_projects/databases_no-backup/DeepMAsED/MAG_datasets/PasolliE-2019/samples_Almeida-Pasolli/VALET//NielsenHB_2014__V1_CD25_0__bin.19/reference/summary.tsv \n",
      "File written: /ebio/abt3_projects/databases_no-backup/DeepMAsED/MAG_datasets/PasolliE-2019/samples_Almeida-Pasolli/VALET//NielsenHB_2014__V1_CD25_0__bin.32/reference/summary.tsv \n",
      "File written: /ebio/abt3_projects/databases_no-backup/DeepMAsED/MAG_datasets/PasolliE-2019/samples_Almeida-Pasolli/VALET//LeChatelierE_2013__MH0177__bin.35/reference/summary.tsv \n",
      "File written: /ebio/abt3_projects/databases_no-backup/DeepMAsED/MAG_datasets/PasolliE-2019/samples_Almeida-Pasolli/VALET//NielsenHB_2014__O2_UC47_2__bin.41/reference/summary.tsv \n",
      "File written: /ebio/abt3_projects/databases_no-backup/DeepMAsED/MAG_datasets/PasolliE-2019/samples_Almeida-Pasolli/VALET//NielsenHB_2014__V1_CD25_0__bin.13/reference/summary.tsv \n",
      "File written: /ebio/abt3_projects/databases_no-backup/DeepMAsED/MAG_datasets/PasolliE-2019/samples_Almeida-Pasolli/VALET//NielsenHB_2014__MH0080__bin.2/reference/summary.tsv \n",
      "File written: /ebio/abt3_projects/databases_no-backup/DeepMAsED/MAG_datasets/PasolliE-2019/samples_Almeida-Pasolli/VALET//NielsenHB_2014__V1_CD25_0__bin.1/reference/summary.tsv \n",
      "File written: /ebio/abt3_projects/databases_no-backup/DeepMAsED/MAG_datasets/PasolliE-2019/samples_Almeida-Pasolli/VALET//NielsenHB_2014__O2_UC47_2__bin.1/reference/summary.tsv \n",
      "File written: /ebio/abt3_projects/databases_no-backup/DeepMAsED/MAG_datasets/PasolliE-2019/samples_Almeida-Pasolli/VALET//NielsenHB_2014__MH0107__bin.4/reference/summary.tsv \n",
      "File written: /ebio/abt3_projects/databases_no-backup/DeepMAsED/MAG_datasets/PasolliE-2019/samples_Almeida-Pasolli/VALET//NielsenHB_2014__MH0107__bin.19/reference/summary.tsv \n",
      "File written: /ebio/abt3_projects/databases_no-backup/DeepMAsED/MAG_datasets/PasolliE-2019/samples_Almeida-Pasolli/VALET//NielsenHB_2014__MH0080__bin.10/reference/summary.tsv \n",
      "File written: /ebio/abt3_projects/databases_no-backup/DeepMAsED/MAG_datasets/PasolliE-2019/samples_Almeida-Pasolli/VALET//NielsenHB_2014__V1_CD25_0__bin.27/reference/summary.tsv \n",
      "File written: /ebio/abt3_projects/databases_no-backup/DeepMAsED/MAG_datasets/PasolliE-2019/samples_Almeida-Pasolli/VALET//NielsenHB_2014__MH0107__bin.12/reference/summary.tsv \n",
      "File written: /ebio/abt3_projects/databases_no-backup/DeepMAsED/MAG_datasets/PasolliE-2019/samples_Almeida-Pasolli/VALET//NielsenHB_2014__O2_UC47_2__bin.38/reference/summary.tsv \n",
      "File written: /ebio/abt3_projects/databases_no-backup/DeepMAsED/MAG_datasets/PasolliE-2019/samples_Almeida-Pasolli/VALET//NielsenHB_2014__O2_UC47_2__bin.33/reference/summary.tsv \n",
      "File written: /ebio/abt3_projects/databases_no-backup/DeepMAsED/MAG_datasets/PasolliE-2019/samples_Almeida-Pasolli/VALET//NielsenHB_2014__V1_CD25_0__bin.24/reference/summary.tsv \n",
      "File written: /ebio/abt3_projects/databases_no-backup/DeepMAsED/MAG_datasets/PasolliE-2019/samples_Almeida-Pasolli/VALET//NielsenHB_2014__MH0017__bin.6/reference/summary.tsv \n",
      "File written: /ebio/abt3_projects/databases_no-backup/DeepMAsED/MAG_datasets/PasolliE-2019/samples_Almeida-Pasolli/VALET//NielsenHB_2014__MH0017__bin.4/reference/summary.tsv \n",
      "File written: /ebio/abt3_projects/databases_no-backup/DeepMAsED/MAG_datasets/PasolliE-2019/samples_Almeida-Pasolli/VALET//NielsenHB_2014__V1_CD25_0__bin.9/reference/summary.tsv \n",
      "File written: /ebio/abt3_projects/databases_no-backup/DeepMAsED/MAG_datasets/PasolliE-2019/samples_Almeida-Pasolli/VALET//NielsenHB_2014__MH0017__bin.8/reference/summary.tsv \n",
      "File written: /ebio/abt3_projects/databases_no-backup/DeepMAsED/MAG_datasets/PasolliE-2019/samples_Almeida-Pasolli/VALET//NielsenHB_2014__O2_UC47_2__bin.7/reference/summary.tsv \n",
      "File written: /ebio/abt3_projects/databases_no-backup/DeepMAsED/MAG_datasets/PasolliE-2019/samples_Almeida-Pasolli/VALET//NielsenHB_2014__MH0107__bin.37/reference/summary.tsv \n",
      "File written: /ebio/abt3_projects/databases_no-backup/DeepMAsED/MAG_datasets/PasolliE-2019/samples_Almeida-Pasolli/VALET//LeChatelierE_2013__MH0177__bin.4/reference/summary.tsv \n",
      "File written: /ebio/abt3_projects/databases_no-backup/DeepMAsED/MAG_datasets/PasolliE-2019/samples_Almeida-Pasolli/VALET//LeChatelierE_2013__MH0177__bin.2/reference/summary.tsv \n",
      "File written: /ebio/abt3_projects/databases_no-backup/DeepMAsED/MAG_datasets/PasolliE-2019/samples_Almeida-Pasolli/VALET//NielsenHB_2014__MH0107__bin.33/reference/summary.tsv \n",
      "File written: /ebio/abt3_projects/databases_no-backup/DeepMAsED/MAG_datasets/PasolliE-2019/samples_Almeida-Pasolli/VALET//NielsenHB_2014__O2_UC47_2__bin.18/reference/summary.tsv \n",
      "File written: /ebio/abt3_projects/databases_no-backup/DeepMAsED/MAG_datasets/PasolliE-2019/samples_Almeida-Pasolli/VALET//NielsenHB_2014__MH0080__bin.4/reference/summary.tsv \n",
      "File written: /ebio/abt3_projects/databases_no-backup/DeepMAsED/MAG_datasets/PasolliE-2019/samples_Almeida-Pasolli/VALET//LeChatelierE_2013__MH0177__bin.26/reference/summary.tsv \n",
      "File written: /ebio/abt3_projects/databases_no-backup/DeepMAsED/MAG_datasets/PasolliE-2019/samples_Almeida-Pasolli/VALET//NielsenHB_2014__V1_CD25_0__bin.7/reference/summary.tsv \n",
      "File written: /ebio/abt3_projects/databases_no-backup/DeepMAsED/MAG_datasets/PasolliE-2019/samples_Almeida-Pasolli/VALET//NielsenHB_2014__O2_UC47_2__bin.35/reference/summary.tsv \n",
      "File written: /ebio/abt3_projects/databases_no-backup/DeepMAsED/MAG_datasets/PasolliE-2019/samples_Almeida-Pasolli/VALET//NielsenHB_2014__O2_UC47_2__bin.11/reference/summary.tsv \n",
      "File written: /ebio/abt3_projects/databases_no-backup/DeepMAsED/MAG_datasets/PasolliE-2019/samples_Almeida-Pasolli/VALET//NielsenHB_2014__V1_CD10_0__bin.14/reference/summary.tsv \n",
      "File written: /ebio/abt3_projects/databases_no-backup/DeepMAsED/MAG_datasets/PasolliE-2019/samples_Almeida-Pasolli/VALET//NielsenHB_2014__V1_CD10_0__bin.3/reference/summary.tsv \n",
      "File written: /ebio/abt3_projects/databases_no-backup/DeepMAsED/MAG_datasets/PasolliE-2019/samples_Almeida-Pasolli/VALET//NielsenHB_2014__MH0107__bin.24/reference/summary.tsv \n",
      "File written: /ebio/abt3_projects/databases_no-backup/DeepMAsED/MAG_datasets/PasolliE-2019/samples_Almeida-Pasolli/VALET//NielsenHB_2014__O2_UC47_2__bin.12/reference/summary.tsv \n",
      "File written: /ebio/abt3_projects/databases_no-backup/DeepMAsED/MAG_datasets/PasolliE-2019/samples_Almeida-Pasolli/VALET//NielsenHB_2014__V1_CD25_0__bin.12/reference/summary.tsv \n",
      "File written: /ebio/abt3_projects/databases_no-backup/DeepMAsED/MAG_datasets/PasolliE-2019/samples_Almeida-Pasolli/VALET//NielsenHB_2014__V1_CD10_0__bin.7/reference/summary.tsv \n",
      "File written: /ebio/abt3_projects/databases_no-backup/DeepMAsED/MAG_datasets/PasolliE-2019/samples_Almeida-Pasolli/VALET//NielsenHB_2014__V1_CD25_0__bin.8/reference/summary.tsv \n",
      "File written: /ebio/abt3_projects/databases_no-backup/DeepMAsED/MAG_datasets/PasolliE-2019/samples_Almeida-Pasolli/VALET//NielsenHB_2014__MH0107__bin.32/reference/summary.tsv \n",
      "File written: /ebio/abt3_projects/databases_no-backup/DeepMAsED/MAG_datasets/PasolliE-2019/samples_Almeida-Pasolli/VALET//LeChatelierE_2013__MH0177__bin.28/reference/summary.tsv \n",
      "File written: /ebio/abt3_projects/databases_no-backup/DeepMAsED/MAG_datasets/PasolliE-2019/samples_Almeida-Pasolli/VALET//LeChatelierE_2013__MH0177__bin.37/reference/summary.tsv \n",
      "File written: /ebio/abt3_projects/databases_no-backup/DeepMAsED/MAG_datasets/PasolliE-2019/samples_Almeida-Pasolli/VALET//NielsenHB_2014__MH0107__bin.11/reference/summary.tsv \n",
      "File written: /ebio/abt3_projects/databases_no-backup/DeepMAsED/MAG_datasets/PasolliE-2019/samples_Almeida-Pasolli/VALET//NielsenHB_2014__V1_CD25_0__bin.21/reference/summary.tsv \n",
      "File written: /ebio/abt3_projects/databases_no-backup/DeepMAsED/MAG_datasets/PasolliE-2019/samples_Almeida-Pasolli/VALET//NielsenHB_2014__MH0080__bin.9/reference/summary.tsv \n",
      "File written: /ebio/abt3_projects/databases_no-backup/DeepMAsED/MAG_datasets/PasolliE-2019/samples_Almeida-Pasolli/VALET//NielsenHB_2014__MH0107__bin.29/reference/summary.tsv \n",
      "File written: /ebio/abt3_projects/databases_no-backup/DeepMAsED/MAG_datasets/PasolliE-2019/samples_Almeida-Pasolli/VALET//NielsenHB_2014__MH0080__bin.22/reference/summary.tsv \n",
      "File written: /ebio/abt3_projects/databases_no-backup/DeepMAsED/MAG_datasets/PasolliE-2019/samples_Almeida-Pasolli/VALET//NielsenHB_2014__MH0080__bin.1/reference/summary.tsv \n",
      "File written: /ebio/abt3_projects/databases_no-backup/DeepMAsED/MAG_datasets/PasolliE-2019/samples_Almeida-Pasolli/VALET//NielsenHB_2014__MH0107__bin.42/reference/summary.tsv \n",
      "File written: /ebio/abt3_projects/databases_no-backup/DeepMAsED/MAG_datasets/PasolliE-2019/samples_Almeida-Pasolli/VALET//NielsenHB_2014__MH0107__bin.43/reference/summary.tsv \n",
      "File written: /ebio/abt3_projects/databases_no-backup/DeepMAsED/MAG_datasets/PasolliE-2019/samples_Almeida-Pasolli/VALET//LeChatelierE_2013__MH0177__bin.1/reference/summary.tsv \n",
      "File written: /ebio/abt3_projects/databases_no-backup/DeepMAsED/MAG_datasets/PasolliE-2019/samples_Almeida-Pasolli/VALET//NielsenHB_2014__MH0080__bin.13/reference/summary.tsv \n",
      "File written: /ebio/abt3_projects/databases_no-backup/DeepMAsED/MAG_datasets/PasolliE-2019/samples_Almeida-Pasolli/VALET//NielsenHB_2014__MH0107__bin.5/reference/summary.tsv \n",
      "File written: /ebio/abt3_projects/databases_no-backup/DeepMAsED/MAG_datasets/PasolliE-2019/samples_Almeida-Pasolli/VALET//NielsenHB_2014__O2_UC47_2__bin.37/reference/summary.tsv \n",
      "File written: /ebio/abt3_projects/databases_no-backup/DeepMAsED/MAG_datasets/PasolliE-2019/samples_Almeida-Pasolli/VALET//LeChatelierE_2013__MH0177__bin.32/reference/summary.tsv \n",
      "File written: /ebio/abt3_projects/databases_no-backup/DeepMAsED/MAG_datasets/PasolliE-2019/samples_Almeida-Pasolli/VALET//NielsenHB_2014__V1_CD10_0__bin.9/reference/summary.tsv \n",
      "File written: /ebio/abt3_projects/databases_no-backup/DeepMAsED/MAG_datasets/PasolliE-2019/samples_Almeida-Pasolli/VALET//NielsenHB_2014__O2_UC47_2__bin.20/reference/summary.tsv \n",
      "File written: /ebio/abt3_projects/databases_no-backup/DeepMAsED/MAG_datasets/PasolliE-2019/samples_Almeida-Pasolli/VALET//NielsenHB_2014__O2_UC47_2__bin.4/reference/summary.tsv \n",
      "File written: /ebio/abt3_projects/databases_no-backup/DeepMAsED/MAG_datasets/PasolliE-2019/samples_Almeida-Pasolli/VALET//NielsenHB_2014__O2_UC47_2__bin.17/reference/summary.tsv \n",
      "File written: /ebio/abt3_projects/databases_no-backup/DeepMAsED/MAG_datasets/PasolliE-2019/samples_Almeida-Pasolli/VALET//NielsenHB_2014__MH0107__bin.27/reference/summary.tsv \n",
      "File written: /ebio/abt3_projects/databases_no-backup/DeepMAsED/MAG_datasets/PasolliE-2019/samples_Almeida-Pasolli/VALET//NielsenHB_2014__MH0107__bin.22/reference/summary.tsv \n",
      "File written: /ebio/abt3_projects/databases_no-backup/DeepMAsED/MAG_datasets/PasolliE-2019/samples_Almeida-Pasolli/VALET//NielsenHB_2014__V1_CD25_0__bin.23/reference/summary.tsv \n",
      "File written: /ebio/abt3_projects/databases_no-backup/DeepMAsED/MAG_datasets/PasolliE-2019/samples_Almeida-Pasolli/VALET//NielsenHB_2014__O2_UC47_2__bin.13/reference/summary.tsv \n",
      "File written: /ebio/abt3_projects/databases_no-backup/DeepMAsED/MAG_datasets/PasolliE-2019/samples_Almeida-Pasolli/VALET//NielsenHB_2014__MH0032__bin.4/reference/summary.tsv \n",
      "File written: /ebio/abt3_projects/databases_no-backup/DeepMAsED/MAG_datasets/PasolliE-2019/samples_Almeida-Pasolli/VALET//NielsenHB_2014__MH0107__bin.28/reference/summary.tsv \n",
      "File written: /ebio/abt3_projects/databases_no-backup/DeepMAsED/MAG_datasets/PasolliE-2019/samples_Almeida-Pasolli/VALET//NielsenHB_2014__V1_CD25_0__bin.6/reference/summary.tsv \n",
      "File written: /ebio/abt3_projects/databases_no-backup/DeepMAsED/MAG_datasets/PasolliE-2019/samples_Almeida-Pasolli/VALET//NielsenHB_2014__V1_CD25_0__bin.15/reference/summary.tsv \n",
      "File written: /ebio/abt3_projects/databases_no-backup/DeepMAsED/MAG_datasets/PasolliE-2019/samples_Almeida-Pasolli/VALET//NielsenHB_2014__V1_CD10_0__bin.8/reference/summary.tsv \n",
      "File written: /ebio/abt3_projects/databases_no-backup/DeepMAsED/MAG_datasets/PasolliE-2019/samples_Almeida-Pasolli/VALET//NielsenHB_2014__O2_UC47_2__bin.5/reference/summary.tsv \n",
      "File written: /ebio/abt3_projects/databases_no-backup/DeepMAsED/MAG_datasets/PasolliE-2019/samples_Almeida-Pasolli/VALET//LeChatelierE_2013__MH0177__bin.3/reference/summary.tsv \n",
      "File written: /ebio/abt3_projects/databases_no-backup/DeepMAsED/MAG_datasets/PasolliE-2019/samples_Almeida-Pasolli/VALET//LeChatelierE_2013__MH0177__bin.5/reference/summary.tsv \n",
      "File written: /ebio/abt3_projects/databases_no-backup/DeepMAsED/MAG_datasets/PasolliE-2019/samples_Almeida-Pasolli/VALET//NielsenHB_2014__O2_UC47_2__bin.25/reference/summary.tsv \n",
      "File written: /ebio/abt3_projects/databases_no-backup/DeepMAsED/MAG_datasets/PasolliE-2019/samples_Almeida-Pasolli/VALET//NielsenHB_2014__O2_UC47_2__bin.22/reference/summary.tsv \n",
      "File written: /ebio/abt3_projects/databases_no-backup/DeepMAsED/MAG_datasets/PasolliE-2019/samples_Almeida-Pasolli/VALET//NielsenHB_2014__MH0107__bin.30/reference/summary.tsv \n",
      "File written: /ebio/abt3_projects/databases_no-backup/DeepMAsED/MAG_datasets/PasolliE-2019/samples_Almeida-Pasolli/VALET//NielsenHB_2014__MH0107__bin.15/reference/summary.tsv \n",
      "File written: /ebio/abt3_projects/databases_no-backup/DeepMAsED/MAG_datasets/PasolliE-2019/samples_Almeida-Pasolli/VALET//NielsenHB_2014__MH0107__bin.44/reference/summary.tsv \n",
      "File written: /ebio/abt3_projects/databases_no-backup/DeepMAsED/MAG_datasets/PasolliE-2019/samples_Almeida-Pasolli/VALET//NielsenHB_2014__O2_UC47_2__bin.3/reference/summary.tsv \n",
      "File written: /ebio/abt3_projects/databases_no-backup/DeepMAsED/MAG_datasets/PasolliE-2019/samples_Almeida-Pasolli/VALET//LeChatelierE_2013__MH0177__bin.22/reference/summary.tsv \n",
      "File written: /ebio/abt3_projects/databases_no-backup/DeepMAsED/MAG_datasets/PasolliE-2019/samples_Almeida-Pasolli/VALET//NielsenHB_2014__MH0107__bin.26/reference/summary.tsv \n",
      "File written: /ebio/abt3_projects/databases_no-backup/DeepMAsED/MAG_datasets/PasolliE-2019/samples_Almeida-Pasolli/VALET//LeChatelierE_2013__MH0177__bin.19/reference/summary.tsv \n",
      "File written: /ebio/abt3_projects/databases_no-backup/DeepMAsED/MAG_datasets/PasolliE-2019/samples_Almeida-Pasolli/VALET//NielsenHB_2014__V1_CD10_0__bin.10/reference/summary.tsv \n",
      "File written: /ebio/abt3_projects/databases_no-backup/DeepMAsED/MAG_datasets/PasolliE-2019/samples_Almeida-Pasolli/VALET//NielsenHB_2014__O2_UC47_2__bin.19/reference/summary.tsv \n",
      "File written: /ebio/abt3_projects/databases_no-backup/DeepMAsED/MAG_datasets/PasolliE-2019/samples_Almeida-Pasolli/VALET//NielsenHB_2014__MH0080__bin.8/reference/summary.tsv \n",
      "File written: /ebio/abt3_projects/databases_no-backup/DeepMAsED/MAG_datasets/PasolliE-2019/samples_Almeida-Pasolli/VALET//NielsenHB_2014__MH0107__bin.47/reference/summary.tsv \n",
      "File written: /ebio/abt3_projects/databases_no-backup/DeepMAsED/MAG_datasets/PasolliE-2019/samples_Almeida-Pasolli/VALET//NielsenHB_2014__O2_UC47_2__bin.23/reference/summary.tsv \n",
      "File written: /ebio/abt3_projects/databases_no-backup/DeepMAsED/MAG_datasets/PasolliE-2019/samples_Almeida-Pasolli/VALET//LeChatelierE_2013__MH0177__bin.30/reference/summary.tsv \n",
      "File written: /ebio/abt3_projects/databases_no-backup/DeepMAsED/MAG_datasets/PasolliE-2019/samples_Almeida-Pasolli/VALET//LeChatelierE_2013__MH0177__bin.23/reference/summary.tsv \n",
      "File written: /ebio/abt3_projects/databases_no-backup/DeepMAsED/MAG_datasets/PasolliE-2019/samples_Almeida-Pasolli/VALET//NielsenHB_2014__O2_UC47_2__bin.15/reference/summary.tsv \n",
      "File written: /ebio/abt3_projects/databases_no-backup/DeepMAsED/MAG_datasets/PasolliE-2019/samples_Almeida-Pasolli/VALET//NielsenHB_2014__O2_UC47_2__bin.30/reference/summary.tsv \n",
      "File written: /ebio/abt3_projects/databases_no-backup/DeepMAsED/MAG_datasets/PasolliE-2019/samples_Almeida-Pasolli/VALET//LeChatelierE_2013__MH0177__bin.8/reference/summary.tsv \n",
      "File written: /ebio/abt3_projects/databases_no-backup/DeepMAsED/MAG_datasets/PasolliE-2019/samples_Almeida-Pasolli/VALET//NielsenHB_2014__O2_UC47_2__bin.2/reference/summary.tsv \n",
      "File written: /ebio/abt3_projects/databases_no-backup/DeepMAsED/MAG_datasets/PasolliE-2019/samples_Almeida-Pasolli/VALET//NielsenHB_2014__O2_UC47_2__bin.16/reference/summary.tsv \n",
      "File written: /ebio/abt3_projects/databases_no-backup/DeepMAsED/MAG_datasets/PasolliE-2019/samples_Almeida-Pasolli/VALET//LeChatelierE_2013__MH0177__bin.24/reference/summary.tsv \n",
      "File written: /ebio/abt3_projects/databases_no-backup/DeepMAsED/MAG_datasets/PasolliE-2019/samples_Almeida-Pasolli/VALET//NielsenHB_2014__O2_UC47_2__bin.27/reference/summary.tsv \n",
      "File written: /ebio/abt3_projects/databases_no-backup/DeepMAsED/MAG_datasets/PasolliE-2019/samples_Almeida-Pasolli/VALET//NielsenHB_2014__V1_CD10_0__bin.12/reference/summary.tsv \n",
      "File written: /ebio/abt3_projects/databases_no-backup/DeepMAsED/MAG_datasets/PasolliE-2019/samples_Almeida-Pasolli/VALET//NielsenHB_2014__O2_UC47_2__bin.9/reference/summary.tsv \n",
      "File written: /ebio/abt3_projects/databases_no-backup/DeepMAsED/MAG_datasets/PasolliE-2019/samples_Almeida-Pasolli/VALET//NielsenHB_2014__V1_CD25_0__bin.33/reference/summary.tsv \n",
      "File written: /ebio/abt3_projects/databases_no-backup/DeepMAsED/MAG_datasets/PasolliE-2019/samples_Almeida-Pasolli/VALET//NielsenHB_2014__O2_UC47_2__bin.32/reference/summary.tsv \n",
      "File written: /ebio/abt3_projects/databases_no-backup/DeepMAsED/MAG_datasets/PasolliE-2019/samples_Almeida-Pasolli/VALET//NielsenHB_2014__V1_CD25_0__bin.29/reference/summary.tsv \n",
      "File written: /ebio/abt3_projects/databases_no-backup/DeepMAsED/MAG_datasets/PasolliE-2019/samples_Almeida-Pasolli/VALET//NielsenHB_2014__O2_UC47_2__bin.21/reference/summary.tsv \n"
     ]
    },
    {
     "data": {
      "text/html": [
       "106"
      ],
      "text/latex": [
       "106"
      ],
      "text/markdown": [
       "106"
      ],
      "text/plain": [
       "[1] 106"
      ]
     },
     "metadata": {},
     "output_type": "display_data"
    },
    {
     "data": {
      "text/html": [
       "'/ebio/abt3_projects/databases_no-backup/DeepMAsED/MAG_datasets/PasolliE-2019/samples_Almeida-Pasolli/VALET//NielsenHB_2014__MH0032__bin.6/reference/summary.tsv'"
      ],
      "text/latex": [
       "'/ebio/abt3\\_projects/databases\\_no-backup/DeepMAsED/MAG\\_datasets/PasolliE-2019/samples\\_Almeida-Pasolli/VALET//NielsenHB\\_2014\\_\\_MH0032\\_\\_bin.6/reference/summary.tsv'"
      ],
      "text/markdown": [
       "'/ebio/abt3_projects/databases_no-backup/DeepMAsED/MAG_datasets/PasolliE-2019/samples_Almeida-Pasolli/VALET//NielsenHB_2014__MH0032__bin.6/reference/summary.tsv'"
      ],
      "text/plain": [
       "[1] \"/ebio/abt3_projects/databases_no-backup/DeepMAsED/MAG_datasets/PasolliE-2019/samples_Almeida-Pasolli/VALET//NielsenHB_2014__MH0032__bin.6/reference/summary.tsv\""
      ]
     },
     "metadata": {},
     "output_type": "display_data"
    }
   ],
   "source": [
    "#' getting sequence IDs from the fasta\n",
    "get_seq_ids = function(fasta, conda_env){\n",
    "    cmd = \"gunzip -c {fasta} | grep '>'\"\n",
    "    cmd = glue::glue(cmd, fasta=fasta)\n",
    "    ret = bash_job(cmd, conda_env, stdout=TRUE)\n",
    "    ret = gsub('^>', '', ret)\n",
    "    contig_length = gsub('.+_length_([0-9]+)_cov.+', '\\\\1', ret)\n",
    "    ret = data.frame(contig_name = ret, contig_length=contig_length, \n",
    "                     abundance = NA, low_cov = NA, low_cov_bps = NA, \n",
    "                     high_cov = NA, high_cov_bps = NA, reapr = NA, \n",
    "                     reapr_bps = NA, breakpoints = NA, breakpoints_bps = NA)\n",
    "    return(ret)\n",
    "}\n",
    "\n",
    "#' creating a VALET summary file \n",
    "make_summary = function(fasta, out_dir, conda_env){\n",
    "    # output directory structure\n",
    "    MAG_ID = gsub('.+/(.+)\\\\.fa.gz', '\\\\1', fasta)\n",
    "    F = file.path(out_dir, MAG_ID)\n",
    "    dir.create(F, showWarnings = FALSE) \n",
    "    F = file.path(F, 'reference')\n",
    "    dir.create(F, showWarnings = FALSE) \n",
    "    \n",
    "    # sequence IDs\n",
    "    seqIDs = get_seq_ids(fasta, conda_env=conda_env)\n",
    "    \n",
    "    # writing table\n",
    "    outF = file.path(F, 'summary.tsv')\n",
    "    write.table(seqIDs, file=outF, sep='\\t', quote=FALSE, row.names=FALSE)\n",
    "    cat('File written:', outF, '\\n')\n",
    "    return(outF)\n",
    "        \n",
    "}\n",
    "\n",
    "# creating summary files\n",
    "sum_tbls = MAGs_n143_f$Fasta %>%\n",
    "    as.list %>% lapply(make_summary, out_dir=work_dir, conda_env=conda_env)\n",
    "\n",
    "# status\n",
    "sum_tbls %>% length\n",
    "sum_tbls[[1]]"
   ]
  },
  {
   "cell_type": "markdown",
   "metadata": {},
   "source": [
    "# Summary"
   ]
  },
  {
   "cell_type": "code",
   "execution_count": 6,
   "metadata": {
    "ExecuteTime": {
     "end_time": "2019-12-02T18:25:33.370160Z",
     "start_time": "2019-12-02T18:25:27.856Z"
    }
   },
   "outputs": [
    {
     "data": {
      "text/html": [
       "1090"
      ],
      "text/latex": [
       "1090"
      ],
      "text/markdown": [
       "1090"
      ],
      "text/plain": [
       "[1] 1090"
      ]
     },
     "metadata": {},
     "output_type": "display_data"
    }
   ],
   "source": [
    "sum_files = list.files(work_dir, pattern='summary.tsv', recursive=TRUE, full.names=TRUE)\n",
    "sum_files %>% length"
   ]
  },
  {
   "cell_type": "code",
   "execution_count": 7,
   "metadata": {
    "ExecuteTime": {
     "end_time": "2019-12-02T18:28:06.897320Z",
     "start_time": "2019-12-02T18:25:34.429Z"
    }
   },
   "outputs": [
    {
     "data": {
      "text/html": [
       "232308"
      ],
      "text/latex": [
       "232308"
      ],
      "text/markdown": [
       "232308"
      ],
      "text/plain": [
       "[1] 232308"
      ]
     },
     "metadata": {},
     "output_type": "display_data"
    },
    {
     "data": {
      "text/html": [
       "<table>\n",
       "<thead><tr><th scope=col>contig_name</th><th scope=col>contig_length</th><th scope=col>abundance</th><th scope=col>low_cov</th><th scope=col>low_cov_bps</th><th scope=col>high_cov</th><th scope=col>high_cov_bps</th><th scope=col>reapr</th><th scope=col>reapr_bps</th><th scope=col>breakpoints</th><th scope=col>breakpoints_bps</th><th scope=col>MAG</th></tr></thead>\n",
       "<tbody>\n",
       "\t<tr><td>NODE_1121_length_5579_cov_11.9477</td><td> 5579                            </td><td>25                               </td><td>0                                </td><td>  0                              </td><td>1                                </td><td>52                               </td><td>0                                </td><td>0                                </td><td>0                                </td><td>0                                </td><td>BackhedF_2015__SID201_4M__bin.1  </td></tr>\n",
       "\t<tr><td>NODE_118_length_39319_cov_15.9866</td><td>39319                            </td><td>34                               </td><td>1                                </td><td>165                              </td><td>0                                </td><td> 0                               </td><td>0                                </td><td>0                                </td><td>0                                </td><td>0                                </td><td>BackhedF_2015__SID201_4M__bin.1  </td></tr>\n",
       "\t<tr><td>NODE_123_length_37699_cov_19.1645</td><td>37699                            </td><td>40                               </td><td>0                                </td><td>  0                              </td><td>2                                </td><td>87                               </td><td>0                                </td><td>0                                </td><td>0                                </td><td>0                                </td><td>BackhedF_2015__SID201_4M__bin.1  </td></tr>\n",
       "</tbody>\n",
       "</table>\n"
      ],
      "text/latex": [
       "\\begin{tabular}{r|llllllllllll}\n",
       " contig\\_name & contig\\_length & abundance & low\\_cov & low\\_cov\\_bps & high\\_cov & high\\_cov\\_bps & reapr & reapr\\_bps & breakpoints & breakpoints\\_bps & MAG\\\\\n",
       "\\hline\n",
       "\t NODE\\_1121\\_length\\_5579\\_cov\\_11.9477 &  5579                                       & 25                                          & 0                                           &   0                                         & 1                                           & 52                                          & 0                                           & 0                                           & 0                                           & 0                                           & BackhedF\\_2015\\_\\_SID201\\_4M\\_\\_bin.1\\\\\n",
       "\t NODE\\_118\\_length\\_39319\\_cov\\_15.9866 & 39319                                       & 34                                          & 1                                           & 165                                         & 0                                           &  0                                          & 0                                           & 0                                           & 0                                           & 0                                           & BackhedF\\_2015\\_\\_SID201\\_4M\\_\\_bin.1\\\\\n",
       "\t NODE\\_123\\_length\\_37699\\_cov\\_19.1645 & 37699                                       & 40                                          & 0                                           &   0                                         & 2                                           & 87                                          & 0                                           & 0                                           & 0                                           & 0                                           & BackhedF\\_2015\\_\\_SID201\\_4M\\_\\_bin.1\\\\\n",
       "\\end{tabular}\n"
      ],
      "text/markdown": [
       "\n",
       "contig_name | contig_length | abundance | low_cov | low_cov_bps | high_cov | high_cov_bps | reapr | reapr_bps | breakpoints | breakpoints_bps | MAG | \n",
       "|---|---|---|\n",
       "| NODE_1121_length_5579_cov_11.9477 |  5579                             | 25                                | 0                                 |   0                               | 1                                 | 52                                | 0                                 | 0                                 | 0                                 | 0                                 | BackhedF_2015__SID201_4M__bin.1   | \n",
       "| NODE_118_length_39319_cov_15.9866 | 39319                             | 34                                | 1                                 | 165                               | 0                                 |  0                                | 0                                 | 0                                 | 0                                 | 0                                 | BackhedF_2015__SID201_4M__bin.1   | \n",
       "| NODE_123_length_37699_cov_19.1645 | 37699                             | 40                                | 0                                 |   0                               | 2                                 | 87                                | 0                                 | 0                                 | 0                                 | 0                                 | BackhedF_2015__SID201_4M__bin.1   | \n",
       "\n",
       "\n"
      ],
      "text/plain": [
       "  contig_name                       contig_length abundance low_cov low_cov_bps\n",
       "1 NODE_1121_length_5579_cov_11.9477  5579         25        0         0        \n",
       "2 NODE_118_length_39319_cov_15.9866 39319         34        1       165        \n",
       "3 NODE_123_length_37699_cov_19.1645 37699         40        0         0        \n",
       "  high_cov high_cov_bps reapr reapr_bps breakpoints breakpoints_bps\n",
       "1 1        52           0     0         0           0              \n",
       "2 0         0           0     0         0           0              \n",
       "3 2        87           0     0         0           0              \n",
       "  MAG                            \n",
       "1 BackhedF_2015__SID201_4M__bin.1\n",
       "2 BackhedF_2015__SID201_4M__bin.1\n",
       "3 BackhedF_2015__SID201_4M__bin.1"
      ]
     },
     "metadata": {},
     "output_type": "display_data"
    }
   ],
   "source": [
    "# loading all tables\n",
    "valet = list()\n",
    "for(f in sum_files){\n",
    "    x = read.delim(f, sep='\\t')\n",
    "    x$MAG = basename(dirname(dirname(f)))\n",
    "    valet[[f]] = x\n",
    "}\n",
    "\n",
    "valet = do.call(rbind, valet)\n",
    "rownames(valet) = 1:nrow(valet)\n",
    "\n",
    "# status\n",
    "valet %>% nrow\n",
    "valet %>% head(n=3)"
   ]
  },
  {
   "cell_type": "code",
   "execution_count": 9,
   "metadata": {
    "ExecuteTime": {
     "end_time": "2019-12-02T18:28:58.418660Z",
     "start_time": "2019-12-02T18:28:58.273Z"
    }
   },
   "outputs": [
    {
     "name": "stdout",
     "output_type": "stream",
     "text": [
      "23118 of 232308 (9.95 %) contigs identified as miassembled"
     ]
    }
   ],
   "source": [
    "# % of contigs marked as mis-assemblies\n",
    "n_contigs = valet %>% nrow \n",
    "n_misass = valet %>% filter(!is.na(low_cov),\n",
    "                            !is.na(high_cov),\n",
    "                            !is.na(breakpoints)) %>% nrow\n",
    "\n",
    "x = glue::glue('{x} of {y} ({z} %) contigs identified as miassembled', \n",
    "               x=n_misass, y=n_contigs, z=round(x / y * 100, 2))\n",
    "cat(x)"
   ]
  },
  {
   "cell_type": "markdown",
   "metadata": {},
   "source": [
    "# sessionInfo"
   ]
  },
  {
   "cell_type": "code",
   "execution_count": 36,
   "metadata": {
    "ExecuteTime": {
     "end_time": "2019-11-25T08:55:32.640166Z",
     "start_time": "2019-11-25T08:49:18.090Z"
    }
   },
   "outputs": [
    {
     "data": {
      "text/plain": [
       "R version 3.4.1 (2017-06-30)\n",
       "Platform: x86_64-pc-linux-gnu (64-bit)\n",
       "Running under: Ubuntu 18.04.3 LTS\n",
       "\n",
       "Matrix products: default\n",
       "BLAS: /ebio/abt3_projects/software/miniconda3_gt4.4/envs/py3_physeq/lib/R/lib/libRblas.so\n",
       "LAPACK: /ebio/abt3_projects/software/miniconda3_gt4.4/envs/py3_physeq/lib/R/lib/libRlapack.so\n",
       "\n",
       "locale:\n",
       " [1] LC_CTYPE=en_US.UTF-8       LC_NUMERIC=C              \n",
       " [3] LC_TIME=en_US.UTF-8        LC_COLLATE=en_US.UTF-8    \n",
       " [5] LC_MONETARY=en_US.UTF-8    LC_MESSAGES=en_US.UTF-8   \n",
       " [7] LC_PAPER=en_US.UTF-8       LC_NAME=C                 \n",
       " [9] LC_ADDRESS=C               LC_TELEPHONE=C            \n",
       "[11] LC_MEASUREMENT=en_US.UTF-8 LC_IDENTIFICATION=C       \n",
       "\n",
       "attached base packages:\n",
       "[1] parallel  stats     graphics  grDevices utils     datasets  methods  \n",
       "[8] base     \n",
       "\n",
       "other attached packages:\n",
       " [1] bindrcpp_0.2.2          future.apply_1.0.0      future.batchtools_0.7.1\n",
       " [4] future_1.9.0            doParallel_1.0.11       iterators_1.0.10       \n",
       " [7] foreach_1.4.4           data.table_1.11.4       ggplot2_3.0.0          \n",
       "[10] tidyr_0.8.1             dplyr_0.7.6            \n",
       "\n",
       "loaded via a namespace (and not attached):\n",
       " [1] pbdZMQ_0.3-2      progress_1.2.0    tidyselect_0.2.4  repr_0.15.0      \n",
       " [5] purrr_0.2.4       listenv_0.7.0     colorspace_1.3-2  htmltools_0.3.6  \n",
       " [9] base64enc_0.1-3   rlang_0.2.1       pillar_1.2.2      glue_1.3.0       \n",
       "[13] withr_2.1.1       rappdirs_0.3.1    uuid_0.1-2        bindr_0.1.1      \n",
       "[17] plyr_1.8.4        stringr_1.3.1     munsell_0.5.0     gtable_0.2.0     \n",
       "[21] codetools_0.2-15  evaluate_0.10.1   batchtools_0.9.11 IRdisplay_0.4.4  \n",
       "[25] Rcpp_0.12.17      scales_0.5.0      backports_1.1.2   checkmate_1.8.5  \n",
       "[29] IRkernel_0.8.12   jsonlite_1.5      fs_1.2.6          brew_1.0-6       \n",
       "[33] hms_0.4.2         digest_0.6.15     stringi_1.2.3     grid_3.4.1       \n",
       "[37] tools_3.4.1       magrittr_1.5      base64url_1.4     lazyeval_0.2.1   \n",
       "[41] tibble_1.4.2      crayon_1.3.4      pkgconfig_2.0.1   prettyunits_1.0.2\n",
       "[45] assertthat_0.2.0  R6_2.2.2          globals_0.12.2    compiler_3.4.1   "
      ]
     },
     "metadata": {},
     "output_type": "display_data"
    }
   ],
   "source": [
    "sessionInfo()"
   ]
  },
  {
   "cell_type": "code",
   "execution_count": null,
   "metadata": {},
   "outputs": [],
   "source": []
  }
 ],
 "metadata": {
  "kernelspec": {
   "display_name": "R [conda env:py3_physeq]",
   "language": "R",
   "name": "conda-env-py3_physeq-r"
  },
  "language_info": {
   "codemirror_mode": "r",
   "file_extension": ".r",
   "mimetype": "text/x-r-source",
   "name": "R",
   "pygments_lexer": "r",
   "version": "3.4.1"
  },
  "notify_time": "30",
  "toc": {
   "base_numbering": 1,
   "nav_menu": {},
   "number_sections": true,
   "sideBar": true,
   "skip_h1_title": false,
   "title_cell": "Table of Contents",
   "title_sidebar": "Contents",
   "toc_cell": true,
   "toc_position": {},
   "toc_section_display": true,
   "toc_window_display": true
  }
 },
 "nbformat": 4,
 "nbformat_minor": 2
}
