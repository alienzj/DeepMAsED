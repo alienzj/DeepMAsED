{
 "cells": [
  {
   "cell_type": "markdown",
   "metadata": {
    "toc": true
   },
   "source": [
    "<h1>Table of Contents<span class=\"tocSkip\"></span></h1>\n",
    "<div class=\"toc\"><ul class=\"toc-item\"><li><span><a href=\"#Goal\" data-toc-modified-id=\"Goal-1\"><span class=\"toc-item-num\">1&nbsp;&nbsp;</span>Goal</a></span></li><li><span><a href=\"#Install\" data-toc-modified-id=\"Install-2\"><span class=\"toc-item-num\">2&nbsp;&nbsp;</span>Install</a></span><ul class=\"toc-item\"><li><span><a href=\"#download\" data-toc-modified-id=\"download-2.1\"><span class=\"toc-item-num\">2.1&nbsp;&nbsp;</span>download</a></span></li><li><span><a href=\"#conda-env\" data-toc-modified-id=\"conda-env-2.2\"><span class=\"toc-item-num\">2.2&nbsp;&nbsp;</span>conda env</a></span><ul class=\"toc-item\"><li><span><a href=\"#ran-into-compilation-errors:\" data-toc-modified-id=\"ran-into-compilation-errors:-2.2.1\"><span class=\"toc-item-num\">2.2.1&nbsp;&nbsp;</span>ran into compilation errors:</a></span></li></ul></li></ul></li></ul></div>"
   ]
  },
  {
   "cell_type": "markdown",
   "metadata": {},
   "source": [
    "# Goal\n",
    "\n",
    "* Test run of REAPR"
   ]
  },
  {
   "cell_type": "markdown",
   "metadata": {},
   "source": [
    "# Install"
   ]
  },
  {
   "cell_type": "code",
   "execution_count": 1,
   "metadata": {
    "ExecuteTime": {
     "end_time": "2019-11-01T09:27:55.998962Z",
     "start_time": "2019-11-01T09:27:55.606Z"
    }
   },
   "outputs": [],
   "source": [
    "work_dir = '/ebio/abt3_projects/software/dev/DeepMAsED/tmp/REAPR/'"
   ]
  },
  {
   "cell_type": "markdown",
   "metadata": {},
   "source": [
    "## download"
   ]
  },
  {
   "cell_type": "markdown",
   "metadata": {},
   "source": [
    "```\n",
    "wget ftp://ftp.sanger.ac.uk/pub/resources/software/reapr/Reapr_1.0.18.tar.gz\n",
    "wget ftp://ftp.sanger.ac.uk/pub/resources/software/reapr/Reapr_1.0.18.test_data.tar.gz\n",
    "# uncompress\n",
    "uncomp Reapr_1.0.18.tar.gz\n",
    "uncomp Reapr_1.0.18.test_data.tar.gz\n",
    "```"
   ]
  },
  {
   "cell_type": "markdown",
   "metadata": {},
   "source": [
    "## conda env"
   ]
  },
  {
   "cell_type": "markdown",
   "metadata": {},
   "source": [
    "```\n",
    "conda create -n REAPR bioconda::perl-getopt-long bioconda::perl-file-spec bioconda::perl-app-cpanminus\n",
    "conda activate REAPR\n",
    "cpanm File::Spec::Link\n",
    "\n",
    "#@./Reapr_1.0.18\n",
    "./install.sh\n",
    "```\n",
    "\n",
    "### ran into compilation errors:\n",
    "\n",
    "```\n",
    "...\n",
    "/ebio/abt3_projects/software/dev/DeepMAsED/tmp/REAPR/Reapr_1.0.18/third_party/cmake/Utilities/KWIML/test/test_INT_format.h:30:10: error: unable to find string literal operator ‘operator\"\"cmIML_INT_PRI’ with ‘const char [38]’, ‘long unsigned int’ arguments\n",
    "          \" expression [%\"cmIML_INT_PRI##PRI\"],\"                       \\\n",
    "          ^\n",
    "/ebio/abt3_projects/software/dev/DeepMAsED/tmp/REAPR/Reapr_1.0.18/third_party/cmake/Utilities/KWIML/test/test_INT_format.h:185:3: note: in expansion of macro ‘TEST_C’\n",
    "   TEST_C(UINT64_C, 0xAB00000000000000, u64, uint64_t, uint64_t)\n",
    "   ^~~~~~\n",
    "Utilities/KWIML/test/CMakeFiles/cmIML_test.dir/build.make:166: recipe for target 'Utilities/KWIML/test/CMakeFiles/cmIML_test.dir/test_INT_CXX.cxx.o' failed\n",
    "make[2]: *** [Utilities/KWIML/test/CMakeFiles/cmIML_test.dir/test_INT_CXX.cxx.o] Error 1\n",
    "CMakeFiles/Makefile2:986: recipe for target 'Utilities/KWIML/test/CMakeFiles/cmIML_test.dir/all' failed\n",
    "make[1]: *** [Utilities/KWIML/test/CMakeFiles/cmIML_test.dir/all] Error 2\n",
    "Makefile:140: recipe for target 'all' failed\n",
    "make: *** [all] Error 2\n",
    "```"
   ]
  },
  {
   "cell_type": "code",
   "execution_count": null,
   "metadata": {},
   "outputs": [],
   "source": []
  }
 ],
 "metadata": {
  "kernelspec": {
   "display_name": "R [conda env:py3_physeq]",
   "language": "R",
   "name": "conda-env-py3_physeq-r"
  },
  "language_info": {
   "codemirror_mode": "r",
   "file_extension": ".r",
   "mimetype": "text/x-r-source",
   "name": "R",
   "pygments_lexer": "r",
   "version": "3.4.1"
  },
  "toc": {
   "base_numbering": 1,
   "nav_menu": {},
   "number_sections": true,
   "sideBar": true,
   "skip_h1_title": false,
   "title_cell": "Table of Contents",
   "title_sidebar": "Contents",
   "toc_cell": true,
   "toc_position": {},
   "toc_section_display": true,
   "toc_window_display": false
  }
 },
 "nbformat": 4,
 "nbformat_minor": 2
}
