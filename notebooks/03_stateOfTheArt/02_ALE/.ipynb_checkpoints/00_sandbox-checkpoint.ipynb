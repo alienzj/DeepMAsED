{
 "cells": [
  {
   "cell_type": "markdown",
   "metadata": {
    "toc": true
   },
   "source": [
    "<h1>Table of Contents<span class=\"tocSkip\"></span></h1>\n",
    "<div class=\"toc\"><ul class=\"toc-item\"><li><span><a href=\"#Exploring-how-to-install-&amp;-use-ALE\" data-toc-modified-id=\"Exploring-how-to-install-&amp;-use-ALE-1\"><span class=\"toc-item-num\">1&nbsp;&nbsp;</span>Exploring how to install &amp; use ALE</a></span></li><li><span><a href=\"#Install\" data-toc-modified-id=\"Install-2\"><span class=\"toc-item-num\">2&nbsp;&nbsp;</span>Install</a></span></li><li><span><a href=\"#Test-run\" data-toc-modified-id=\"Test-run-3\"><span class=\"toc-item-num\">3&nbsp;&nbsp;</span>Test run</a></span><ul class=\"toc-item\"><li><span><a href=\"#Test-input-files\" data-toc-modified-id=\"Test-input-files-3.1\"><span class=\"toc-item-num\">3.1&nbsp;&nbsp;</span>Test input files</a></span></li><li><span><a href=\"#Run\" data-toc-modified-id=\"Run-3.2\"><span class=\"toc-item-num\">3.2&nbsp;&nbsp;</span>Run</a></span></li><li><span><a href=\"#Assessing-hits\" data-toc-modified-id=\"Assessing-hits-3.3\"><span class=\"toc-item-num\">3.3&nbsp;&nbsp;</span>Assessing hits</a></span></li></ul></li></ul></div>"
   ]
  },
  {
   "cell_type": "markdown",
   "metadata": {},
   "source": [
    "# Exploring how to install & use ALE\n",
    "\n",
    "[ALE paper](https://www.ncbi.nlm.nih.gov/pubmed/23303509)"
   ]
  },
  {
   "cell_type": "markdown",
   "metadata": {},
   "source": [
    "# Install\n",
    "\n",
    "[instructions](https://portal.nersc.gov/dna/RD/Adv-Seq/ALE-doc/index.html#installation)"
   ]
  },
  {
   "cell_type": "markdown",
   "metadata": {
    "ExecuteTime": {
     "end_time": "2019-07-18T17:43:37.957960Z",
     "start_time": "2019-07-18T17:43:37.664Z"
    }
   },
   "source": [
    "```\n",
    "git clone git@github.com:sc932/ALE.git\n",
    "$ cd ALE/src\n",
    "$ make\n",
    "```"
   ]
  },
  {
   "cell_type": "markdown",
   "metadata": {},
   "source": [
    "# Test run"
   ]
  },
  {
   "cell_type": "markdown",
   "metadata": {},
   "source": [
    "## Test input files\n",
    "\n",
    "Using assemblies from 10-genome DeepMAsED test \n",
    "\n",
    "```\n",
    "@ rick:/ebio/abt3_projects/databases_no-backup/DeepMAsED/ALE/test_run\n",
    "\n",
    "cp /ebio/abt3_projects/software/dev/DeepMAsED/DeepMAsED-SM/tests/output_n10/assembly/1/megahit/contigs_filtered.fasta megahit_rep1.fasta\n",
    "\n",
    "cp /ebio/abt3_projects/software/dev/DeepMAsED/DeepMAsED-SM/tests/output_n10/assembly/2/megahit/contigs_filtered.fasta megahit_rep2.fasta\n",
    "\n",
    "cp /ebio/abt3_projects/software/dev/DeepMAsED/DeepMAsED-SM/tests/output_n10/map/1/megahit.bam megahit_rep1.bam\n",
    "\n",
    "cp /ebio/abt3_projects/software/dev/DeepMAsED/DeepMAsED-SM/tests/output_n10/map/2/megahit.bam megahit_rep2.bam\n",
    "```"
   ]
  },
  {
   "cell_type": "markdown",
   "metadata": {},
   "source": [
    "## Run\n",
    "\n",
    "```\n",
    "(base) @ rick:/ebio/abt3_projects/databases_no-backup/DeepMAsED/ALE/test_run\n",
    "./ALE megahit_rep1.bam megahit_rep1.fasta megahit_rep1_out\n",
    "```"
   ]
  },
  {
   "cell_type": "markdown",
   "metadata": {},
   "source": [
    "## Assessing hits"
   ]
  },
  {
   "cell_type": "code",
   "execution_count": null,
   "metadata": {},
   "outputs": [],
   "source": []
  }
 ],
 "metadata": {
  "kernelspec": {
   "display_name": "R [conda env:py3_physeq]",
   "language": "R",
   "name": "conda-env-py3_physeq-r"
  },
  "language_info": {
   "codemirror_mode": "r",
   "file_extension": ".r",
   "mimetype": "text/x-r-source",
   "name": "R",
   "pygments_lexer": "r",
   "version": "3.4.1"
  },
  "notify_time": "30",
  "toc": {
   "base_numbering": 1,
   "nav_menu": {},
   "number_sections": true,
   "sideBar": true,
   "skip_h1_title": false,
   "title_cell": "Table of Contents",
   "title_sidebar": "Contents",
   "toc_cell": true,
   "toc_position": {},
   "toc_section_display": true,
   "toc_window_display": true
  }
 },
 "nbformat": 4,
 "nbformat_minor": 2
}
