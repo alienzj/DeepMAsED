{
 "cells": [
  {
   "cell_type": "markdown",
   "metadata": {
    "toc": true
   },
   "source": [
    "<h1>Table of Contents<span class=\"tocSkip\"></span></h1>\n",
    "<div class=\"toc\"><ul class=\"toc-item\"><li><span><a href=\"#Goal\" data-toc-modified-id=\"Goal-1\"><span class=\"toc-item-num\">1&nbsp;&nbsp;</span>Goal</a></span></li><li><span><a href=\"#Var\" data-toc-modified-id=\"Var-2\"><span class=\"toc-item-num\">2&nbsp;&nbsp;</span>Var</a></span></li><li><span><a href=\"#Init\" data-toc-modified-id=\"Init-3\"><span class=\"toc-item-num\">3&nbsp;&nbsp;</span>Init</a></span></li><li><span><a href=\"#Load\" data-toc-modified-id=\"Load-4\"><span class=\"toc-item-num\">4&nbsp;&nbsp;</span>Load</a></span></li><li><span><a href=\"#Running-ALE\" data-toc-modified-id=\"Running-ALE-5\"><span class=\"toc-item-num\">5&nbsp;&nbsp;</span>Running ALE</a></span><ul class=\"toc-item\"><li><span><a href=\"#Finding-failed-jobs\" data-toc-modified-id=\"Finding-failed-jobs-5.1\"><span class=\"toc-item-num\">5.1&nbsp;&nbsp;</span>Finding failed jobs</a></span></li><li><span><a href=\"#ALE-on-failed-jobs\" data-toc-modified-id=\"ALE-on-failed-jobs-5.2\"><span class=\"toc-item-num\">5.2&nbsp;&nbsp;</span>ALE on failed jobs</a></span></li><li><span><a href=\"#Finding-failed-jobs\" data-toc-modified-id=\"Finding-failed-jobs-5.3\"><span class=\"toc-item-num\">5.3&nbsp;&nbsp;</span>Finding failed jobs</a></span><ul class=\"toc-item\"><li><ul class=\"toc-item\"><li><span><a href=\"#Notes\" data-toc-modified-id=\"Notes-5.3.0.1\"><span class=\"toc-item-num\">5.3.0.1&nbsp;&nbsp;</span>Notes</a></span></li></ul></li></ul></li></ul></li><li><span><a href=\"#Summarizing-results\" data-toc-modified-id=\"Summarizing-results-6\"><span class=\"toc-item-num\">6&nbsp;&nbsp;</span>Summarizing results</a></span><ul class=\"toc-item\"><li><span><a href=\"#Writing-combined-ALE-resutls\" data-toc-modified-id=\"Writing-combined-ALE-resutls-6.1\"><span class=\"toc-item-num\">6.1&nbsp;&nbsp;</span>Writing combined ALE resutls</a></span><ul class=\"toc-item\"><li><ul class=\"toc-item\"><li><span><a href=\"#WARNING\" data-toc-modified-id=\"WARNING-6.1.0.1\"><span class=\"toc-item-num\">6.1.0.1&nbsp;&nbsp;</span>WARNING</a></span></li></ul></li></ul></li></ul></li><li><span><a href=\"#sessionInfo\" data-toc-modified-id=\"sessionInfo-7\"><span class=\"toc-item-num\">7&nbsp;&nbsp;</span>sessionInfo</a></span></li></ul></div>"
   ]
  },
  {
   "cell_type": "markdown",
   "metadata": {},
   "source": [
    "# Goal\n",
    "\n",
    "* run ALE on AlmeidaA-2019 MAGs (those selected for analysis with DeepMAsED)"
   ]
  },
  {
   "cell_type": "markdown",
   "metadata": {},
   "source": [
    "# Var"
   ]
  },
  {
   "cell_type": "code",
   "execution_count": 1,
   "metadata": {
    "ExecuteTime": {
     "end_time": "2019-07-29T07:42:27.254826Z",
     "start_time": "2019-07-29T07:42:25.911Z"
    }
   },
   "outputs": [],
   "source": [
    "work_dir = '/ebio/abt3_projects/databases_no-backup/DeepMAsED/MAG_datasets/AlmeidaA-2019/samples_n143_MAG-feats/ALE/'\n",
    "\n",
    "# file of MAGs used for DeepMAsED analysis \n",
    "MAGs_n143_file = '/ebio/abt3_projects/databases_no-backup/DeepMAsED/MAG_datasets/AlmeidaA-2019//samples_n143_w-MAGs.txt'\n",
    "\n",
    "# bam file dir (mapping of metagenome reads to corresponding MAGs)\n",
    "map_dir = '/ebio/abt3_projects/databases_no-backup/DeepMAsED/MAG_datasets/AlmeidaA-2019/samples_n143_MAG-feats/map/'\n",
    "\n",
    "# ALE executable\n",
    "ALE_exe = '/ebio/abt3_projects/databases_no-backup/DeepMAsED/bin/ALE/src/ALE'\n",
    "\n",
    "# params\n",
    "conda_env = 'base'\n",
    "threads = 24"
   ]
  },
  {
   "cell_type": "markdown",
   "metadata": {},
   "source": [
    "# Init"
   ]
  },
  {
   "cell_type": "code",
   "execution_count": null,
   "metadata": {
    "ExecuteTime": {
     "start_time": "2019-07-29T07:42:26.171Z"
    }
   },
   "outputs": [
    {
     "name": "stderr",
     "output_type": "stream",
     "text": [
      "\n",
      "Attaching package: ‘dplyr’\n",
      "\n",
      "The following objects are masked from ‘package:stats’:\n",
      "\n",
      "    filter, lag\n",
      "\n",
      "The following objects are masked from ‘package:base’:\n",
      "\n",
      "    intersect, setdiff, setequal, union\n",
      "\n"
     ]
    }
   ],
   "source": [
    "library(dplyr)\n",
    "library(tidyr)\n",
    "library(ggplot2)\n",
    "library(data.table)\n",
    "library(doParallel)\n",
    "\n",
    "library(future)\n",
    "library(future.batchtools)\n",
    "library(future.apply)\n",
    "options(future.wait.interval = 2.0)"
   ]
  },
  {
   "cell_type": "markdown",
   "metadata": {},
   "source": [
    "# Load"
   ]
  },
  {
   "cell_type": "code",
   "execution_count": 3,
   "metadata": {
    "ExecuteTime": {
     "end_time": "2019-07-25T18:27:23.950109Z",
     "start_time": "2019-07-25T18:27:20.416Z"
    }
   },
   "outputs": [
    {
     "name": "stdout",
     "output_type": "stream",
     "text": [
      "[1] 1519\n",
      "[1] 1519\n"
     ]
    },
    {
     "data": {
      "text/html": [
       "<table>\n",
       "<thead><tr><th scope=col>Taxon</th><th scope=col>Completeness</th><th scope=col>Contamination</th><th scope=col>Strain_heterogeneity</th><th scope=col>CheckM_lineage</th><th scope=col>Sample</th><th scope=col>Fasta</th><th scope=col>Read1</th><th scope=col>Read2</th></tr></thead>\n",
       "<tbody>\n",
       "\t<tr><td>SRR1039533_bin_12                                                                                                           </td><td>99.29                                                                                                                       </td><td>0.95                                                                                                                        </td><td>0                                                                                                                           </td><td>k__Bacteria;p__Actinobacteria;c__Actinobacteria;o__Actinomycetales;f__Actinomycetaceae;g__Actinomyces                       </td><td>SRR1039533                                                                                                                  </td><td>/ebio/abt3_projects/databases_no-backup/DeepMAsED/MAG_datasets/AlmeidaA-2019/mags/SRR1039533_bin.12.fa.gz                   </td><td>/ebio/abt3_projects/databases_no-backup/DeepMAsED/MAG_datasets/AlmeidaA-2019/LLMGQC/final/SRR1039533/R1_final.fq.gz         </td><td>/ebio/abt3_projects/databases_no-backup/DeepMAsED/MAG_datasets/AlmeidaA-2019/LLMGQC/final/SRR1039533/R2_final.fq.gz         </td></tr>\n",
       "\t<tr><td>SRR1039533_bin_14                                                                                                           </td><td>69.19                                                                                                                       </td><td>0.00                                                                                                                        </td><td>0                                                                                                                           </td><td>k__Bacteria;p__Actinobacteria;c__Actinobacteria;o__Actinomycetales;f__Actinomycetaceae;g__Actinomyces_2;s__Actinomyces_neuii</td><td>SRR1039533                                                                                                                  </td><td>/ebio/abt3_projects/databases_no-backup/DeepMAsED/MAG_datasets/AlmeidaA-2019/mags/SRR1039533_bin.14.fa.gz                   </td><td>/ebio/abt3_projects/databases_no-backup/DeepMAsED/MAG_datasets/AlmeidaA-2019/LLMGQC/final/SRR1039533/R1_final.fq.gz         </td><td>/ebio/abt3_projects/databases_no-backup/DeepMAsED/MAG_datasets/AlmeidaA-2019/LLMGQC/final/SRR1039533/R2_final.fq.gz         </td></tr>\n",
       "\t<tr><td>SRR1039533_bin_19                                                                                                           </td><td>94.15                                                                                                                       </td><td>0.15                                                                                                                        </td><td>0                                                                                                                           </td><td>k__Bacteria;p__Actinobacteria;c__Actinobacteria;o__Actinomycetales;f__Dermabacteraceae                                      </td><td>SRR1039533                                                                                                                  </td><td>/ebio/abt3_projects/databases_no-backup/DeepMAsED/MAG_datasets/AlmeidaA-2019/mags/SRR1039533_bin.19.fa.gz                   </td><td>/ebio/abt3_projects/databases_no-backup/DeepMAsED/MAG_datasets/AlmeidaA-2019/LLMGQC/final/SRR1039533/R1_final.fq.gz         </td><td>/ebio/abt3_projects/databases_no-backup/DeepMAsED/MAG_datasets/AlmeidaA-2019/LLMGQC/final/SRR1039533/R2_final.fq.gz         </td></tr>\n",
       "</tbody>\n",
       "</table>\n"
      ],
      "text/latex": [
       "\\begin{tabular}{r|lllllllll}\n",
       " Taxon & Completeness & Contamination & Strain\\_heterogeneity & CheckM\\_lineage & Sample & Fasta & Read1 & Read2\\\\\n",
       "\\hline\n",
       "\t SRR1039533\\_bin\\_12                                                                                                                                & 99.29                                                                                                                                                & 0.95                                                                                                                                                 & 0                                                                                                                                                    & k\\_\\_Bacteria;p\\_\\_Actinobacteria;c\\_\\_Actinobacteria;o\\_\\_Actinomycetales;f\\_\\_Actinomycetaceae;g\\_\\_Actinomyces                        & SRR1039533                                                                                                                                           & /ebio/abt3\\_projects/databases\\_no-backup/DeepMAsED/MAG\\_datasets/AlmeidaA-2019/mags/SRR1039533\\_bin.12.fa.gz                                    & /ebio/abt3\\_projects/databases\\_no-backup/DeepMAsED/MAG\\_datasets/AlmeidaA-2019/LLMGQC/final/SRR1039533/R1\\_final.fq.gz                          & /ebio/abt3\\_projects/databases\\_no-backup/DeepMAsED/MAG\\_datasets/AlmeidaA-2019/LLMGQC/final/SRR1039533/R2\\_final.fq.gz                         \\\\\n",
       "\t SRR1039533\\_bin\\_14                                                                                                                                        & 69.19                                                                                                                                                        & 0.00                                                                                                                                                         & 0                                                                                                                                                            & k\\_\\_Bacteria;p\\_\\_Actinobacteria;c\\_\\_Actinobacteria;o\\_\\_Actinomycetales;f\\_\\_Actinomycetaceae;g\\_\\_Actinomyces\\_2;s\\_\\_Actinomyces\\_neuii & SRR1039533                                                                                                                                                   & /ebio/abt3\\_projects/databases\\_no-backup/DeepMAsED/MAG\\_datasets/AlmeidaA-2019/mags/SRR1039533\\_bin.14.fa.gz                                            & /ebio/abt3\\_projects/databases\\_no-backup/DeepMAsED/MAG\\_datasets/AlmeidaA-2019/LLMGQC/final/SRR1039533/R1\\_final.fq.gz                                  & /ebio/abt3\\_projects/databases\\_no-backup/DeepMAsED/MAG\\_datasets/AlmeidaA-2019/LLMGQC/final/SRR1039533/R2\\_final.fq.gz                                 \\\\\n",
       "\t SRR1039533\\_bin\\_19                                                                                                                            & 94.15                                                                                                                                            & 0.15                                                                                                                                             & 0                                                                                                                                                & k\\_\\_Bacteria;p\\_\\_Actinobacteria;c\\_\\_Actinobacteria;o\\_\\_Actinomycetales;f\\_\\_Dermabacteraceae                                       & SRR1039533                                                                                                                                       & /ebio/abt3\\_projects/databases\\_no-backup/DeepMAsED/MAG\\_datasets/AlmeidaA-2019/mags/SRR1039533\\_bin.19.fa.gz                                & /ebio/abt3\\_projects/databases\\_no-backup/DeepMAsED/MAG\\_datasets/AlmeidaA-2019/LLMGQC/final/SRR1039533/R1\\_final.fq.gz                      & /ebio/abt3\\_projects/databases\\_no-backup/DeepMAsED/MAG\\_datasets/AlmeidaA-2019/LLMGQC/final/SRR1039533/R2\\_final.fq.gz                     \\\\\n",
       "\\end{tabular}\n"
      ],
      "text/markdown": [
       "\n",
       "Taxon | Completeness | Contamination | Strain_heterogeneity | CheckM_lineage | Sample | Fasta | Read1 | Read2 | \n",
       "|---|---|---|\n",
       "| SRR1039533_bin_12                                                                                                            | 99.29                                                                                                                        | 0.95                                                                                                                         | 0                                                                                                                            | k__Bacteria;p__Actinobacteria;c__Actinobacteria;o__Actinomycetales;f__Actinomycetaceae;g__Actinomyces                        | SRR1039533                                                                                                                   | /ebio/abt3_projects/databases_no-backup/DeepMAsED/MAG_datasets/AlmeidaA-2019/mags/SRR1039533_bin.12.fa.gz                    | /ebio/abt3_projects/databases_no-backup/DeepMAsED/MAG_datasets/AlmeidaA-2019/LLMGQC/final/SRR1039533/R1_final.fq.gz          | /ebio/abt3_projects/databases_no-backup/DeepMAsED/MAG_datasets/AlmeidaA-2019/LLMGQC/final/SRR1039533/R2_final.fq.gz          | \n",
       "| SRR1039533_bin_14                                                                                                            | 69.19                                                                                                                        | 0.00                                                                                                                         | 0                                                                                                                            | k__Bacteria;p__Actinobacteria;c__Actinobacteria;o__Actinomycetales;f__Actinomycetaceae;g__Actinomyces_2;s__Actinomyces_neuii | SRR1039533                                                                                                                   | /ebio/abt3_projects/databases_no-backup/DeepMAsED/MAG_datasets/AlmeidaA-2019/mags/SRR1039533_bin.14.fa.gz                    | /ebio/abt3_projects/databases_no-backup/DeepMAsED/MAG_datasets/AlmeidaA-2019/LLMGQC/final/SRR1039533/R1_final.fq.gz          | /ebio/abt3_projects/databases_no-backup/DeepMAsED/MAG_datasets/AlmeidaA-2019/LLMGQC/final/SRR1039533/R2_final.fq.gz          | \n",
       "| SRR1039533_bin_19                                                                                                            | 94.15                                                                                                                        | 0.15                                                                                                                         | 0                                                                                                                            | k__Bacteria;p__Actinobacteria;c__Actinobacteria;o__Actinomycetales;f__Dermabacteraceae                                       | SRR1039533                                                                                                                   | /ebio/abt3_projects/databases_no-backup/DeepMAsED/MAG_datasets/AlmeidaA-2019/mags/SRR1039533_bin.19.fa.gz                    | /ebio/abt3_projects/databases_no-backup/DeepMAsED/MAG_datasets/AlmeidaA-2019/LLMGQC/final/SRR1039533/R1_final.fq.gz          | /ebio/abt3_projects/databases_no-backup/DeepMAsED/MAG_datasets/AlmeidaA-2019/LLMGQC/final/SRR1039533/R2_final.fq.gz          | \n",
       "\n",
       "\n"
      ],
      "text/plain": [
       "  Taxon             Completeness Contamination Strain_heterogeneity\n",
       "1 SRR1039533_bin_12 99.29        0.95          0                   \n",
       "2 SRR1039533_bin_14 69.19        0.00          0                   \n",
       "3 SRR1039533_bin_19 94.15        0.15          0                   \n",
       "  CheckM_lineage                                                                                                              \n",
       "1 k__Bacteria;p__Actinobacteria;c__Actinobacteria;o__Actinomycetales;f__Actinomycetaceae;g__Actinomyces                       \n",
       "2 k__Bacteria;p__Actinobacteria;c__Actinobacteria;o__Actinomycetales;f__Actinomycetaceae;g__Actinomyces_2;s__Actinomyces_neuii\n",
       "3 k__Bacteria;p__Actinobacteria;c__Actinobacteria;o__Actinomycetales;f__Dermabacteraceae                                      \n",
       "  Sample    \n",
       "1 SRR1039533\n",
       "2 SRR1039533\n",
       "3 SRR1039533\n",
       "  Fasta                                                                                                    \n",
       "1 /ebio/abt3_projects/databases_no-backup/DeepMAsED/MAG_datasets/AlmeidaA-2019/mags/SRR1039533_bin.12.fa.gz\n",
       "2 /ebio/abt3_projects/databases_no-backup/DeepMAsED/MAG_datasets/AlmeidaA-2019/mags/SRR1039533_bin.14.fa.gz\n",
       "3 /ebio/abt3_projects/databases_no-backup/DeepMAsED/MAG_datasets/AlmeidaA-2019/mags/SRR1039533_bin.19.fa.gz\n",
       "  Read1                                                                                                              \n",
       "1 /ebio/abt3_projects/databases_no-backup/DeepMAsED/MAG_datasets/AlmeidaA-2019/LLMGQC/final/SRR1039533/R1_final.fq.gz\n",
       "2 /ebio/abt3_projects/databases_no-backup/DeepMAsED/MAG_datasets/AlmeidaA-2019/LLMGQC/final/SRR1039533/R1_final.fq.gz\n",
       "3 /ebio/abt3_projects/databases_no-backup/DeepMAsED/MAG_datasets/AlmeidaA-2019/LLMGQC/final/SRR1039533/R1_final.fq.gz\n",
       "  Read2                                                                                                              \n",
       "1 /ebio/abt3_projects/databases_no-backup/DeepMAsED/MAG_datasets/AlmeidaA-2019/LLMGQC/final/SRR1039533/R2_final.fq.gz\n",
       "2 /ebio/abt3_projects/databases_no-backup/DeepMAsED/MAG_datasets/AlmeidaA-2019/LLMGQC/final/SRR1039533/R2_final.fq.gz\n",
       "3 /ebio/abt3_projects/databases_no-backup/DeepMAsED/MAG_datasets/AlmeidaA-2019/LLMGQC/final/SRR1039533/R2_final.fq.gz"
      ]
     },
     "metadata": {},
     "output_type": "display_data"
    }
   ],
   "source": [
    "MAGs_n143 = read.delim(MAGs_n143_file, sep='\\t') %>%\n",
    "    mutate(Taxon = gsub('\\\\.', '_', Taxon))\n",
    "MAGs_n143 %>% nrow %>% print\n",
    "MAGs_n143$Taxon %>% unique %>% length %>% print\n",
    "MAGs_n143 %>% head(n=3)"
   ]
  },
  {
   "cell_type": "code",
   "execution_count": 4,
   "metadata": {
    "ExecuteTime": {
     "end_time": "2019-07-25T18:27:32.465230Z",
     "start_time": "2019-07-25T18:27:21.610Z"
    }
   },
   "outputs": [
    {
     "name": "stdout",
     "output_type": "stream",
     "text": [
      "[1] 1519\n"
     ]
    },
    {
     "data": {
      "text/html": [
       "<table>\n",
       "<thead><tr><th scope=col>Taxon</th><th scope=col>Bam</th></tr></thead>\n",
       "<tbody>\n",
       "\t<tr><td>DRR042488_bin_11                                                                                                                       </td><td>/ebio/abt3_projects/databases_no-backup/DeepMAsED/MAG_datasets/AlmeidaA-2019/samples_n143_MAG-feats/map//DRR042488_bin_11/DRR042488.bam</td></tr>\n",
       "\t<tr><td>DRR042488_bin_13                                                                                                                       </td><td>/ebio/abt3_projects/databases_no-backup/DeepMAsED/MAG_datasets/AlmeidaA-2019/samples_n143_MAG-feats/map//DRR042488_bin_13/DRR042488.bam</td></tr>\n",
       "\t<tr><td>DRR042488_bin_14                                                                                                                       </td><td>/ebio/abt3_projects/databases_no-backup/DeepMAsED/MAG_datasets/AlmeidaA-2019/samples_n143_MAG-feats/map//DRR042488_bin_14/DRR042488.bam</td></tr>\n",
       "</tbody>\n",
       "</table>\n"
      ],
      "text/latex": [
       "\\begin{tabular}{r|ll}\n",
       " Taxon & Bam\\\\\n",
       "\\hline\n",
       "\t DRR042488\\_bin\\_11                                                                                                                                  & /ebio/abt3\\_projects/databases\\_no-backup/DeepMAsED/MAG\\_datasets/AlmeidaA-2019/samples\\_n143\\_MAG-feats/map//DRR042488\\_bin\\_11/DRR042488.bam\\\\\n",
       "\t DRR042488\\_bin\\_13                                                                                                                                  & /ebio/abt3\\_projects/databases\\_no-backup/DeepMAsED/MAG\\_datasets/AlmeidaA-2019/samples\\_n143\\_MAG-feats/map//DRR042488\\_bin\\_13/DRR042488.bam\\\\\n",
       "\t DRR042488\\_bin\\_14                                                                                                                                  & /ebio/abt3\\_projects/databases\\_no-backup/DeepMAsED/MAG\\_datasets/AlmeidaA-2019/samples\\_n143\\_MAG-feats/map//DRR042488\\_bin\\_14/DRR042488.bam\\\\\n",
       "\\end{tabular}\n"
      ],
      "text/markdown": [
       "\n",
       "Taxon | Bam | \n",
       "|---|---|---|\n",
       "| DRR042488_bin_11                                                                                                                        | /ebio/abt3_projects/databases_no-backup/DeepMAsED/MAG_datasets/AlmeidaA-2019/samples_n143_MAG-feats/map//DRR042488_bin_11/DRR042488.bam | \n",
       "| DRR042488_bin_13                                                                                                                        | /ebio/abt3_projects/databases_no-backup/DeepMAsED/MAG_datasets/AlmeidaA-2019/samples_n143_MAG-feats/map//DRR042488_bin_13/DRR042488.bam | \n",
       "| DRR042488_bin_14                                                                                                                        | /ebio/abt3_projects/databases_no-backup/DeepMAsED/MAG_datasets/AlmeidaA-2019/samples_n143_MAG-feats/map//DRR042488_bin_14/DRR042488.bam | \n",
       "\n",
       "\n"
      ],
      "text/plain": [
       "  Taxon           \n",
       "1 DRR042488_bin_11\n",
       "2 DRR042488_bin_13\n",
       "3 DRR042488_bin_14\n",
       "  Bam                                                                                                                                    \n",
       "1 /ebio/abt3_projects/databases_no-backup/DeepMAsED/MAG_datasets/AlmeidaA-2019/samples_n143_MAG-feats/map//DRR042488_bin_11/DRR042488.bam\n",
       "2 /ebio/abt3_projects/databases_no-backup/DeepMAsED/MAG_datasets/AlmeidaA-2019/samples_n143_MAG-feats/map//DRR042488_bin_13/DRR042488.bam\n",
       "3 /ebio/abt3_projects/databases_no-backup/DeepMAsED/MAG_datasets/AlmeidaA-2019/samples_n143_MAG-feats/map//DRR042488_bin_14/DRR042488.bam"
      ]
     },
     "metadata": {},
     "output_type": "display_data"
    }
   ],
   "source": [
    "# adding bam files\n",
    "bam_files = list.files(map_dir, '*.bam$', recursive=TRUE, full.names=TRUE)\n",
    "bam_files = data.frame(Taxon = bam_files %>% dirname %>% basename,\n",
    "                       Bam = bam_files)\n",
    "\n",
    "bam_files %>% nrow %>% print\n",
    "bam_files %>% head(n=3)"
   ]
  },
  {
   "cell_type": "code",
   "execution_count": 5,
   "metadata": {
    "ExecuteTime": {
     "end_time": "2019-07-25T18:27:32.712275Z",
     "start_time": "2019-07-25T18:27:22.193Z"
    }
   },
   "outputs": [
    {
     "data": {
      "text/html": [
       "1519"
      ],
      "text/latex": [
       "1519"
      ],
      "text/markdown": [
       "1519"
      ],
      "text/plain": [
       "[1] 1519"
      ]
     },
     "metadata": {},
     "output_type": "display_data"
    },
    {
     "name": "stderr",
     "output_type": "stream",
     "text": [
      "Warning message:\n",
      "“Column `Taxon` joining character vector and factor, coercing into character vector”"
     ]
    },
    {
     "name": "stdout",
     "output_type": "stream",
     "text": [
      "[1] 1519\n"
     ]
    },
    {
     "data": {
      "text/html": [
       "<table>\n",
       "<thead><tr><th scope=col>Taxon</th><th scope=col>Completeness</th><th scope=col>Contamination</th><th scope=col>Strain_heterogeneity</th><th scope=col>CheckM_lineage</th><th scope=col>Sample</th><th scope=col>Fasta</th><th scope=col>Read1</th><th scope=col>Read2</th><th scope=col>Bam</th></tr></thead>\n",
       "<tbody>\n",
       "\t<tr><td>SRR1039533_bin_12                                                                                                                        </td><td>99.29                                                                                                                                    </td><td>0.95                                                                                                                                     </td><td>0                                                                                                                                        </td><td>k__Bacteria;p__Actinobacteria;c__Actinobacteria;o__Actinomycetales;f__Actinomycetaceae;g__Actinomyces                                    </td><td>SRR1039533                                                                                                                               </td><td>/ebio/abt3_projects/databases_no-backup/DeepMAsED/MAG_datasets/AlmeidaA-2019/mags/SRR1039533_bin.12.fa.gz                                </td><td>/ebio/abt3_projects/databases_no-backup/DeepMAsED/MAG_datasets/AlmeidaA-2019/LLMGQC/final/SRR1039533/R1_final.fq.gz                      </td><td>/ebio/abt3_projects/databases_no-backup/DeepMAsED/MAG_datasets/AlmeidaA-2019/LLMGQC/final/SRR1039533/R2_final.fq.gz                      </td><td>/ebio/abt3_projects/databases_no-backup/DeepMAsED/MAG_datasets/AlmeidaA-2019/samples_n143_MAG-feats/map//SRR1039533_bin_12/SRR1039533.bam</td></tr>\n",
       "\t<tr><td>SRR1039533_bin_14                                                                                                                        </td><td>69.19                                                                                                                                    </td><td>0.00                                                                                                                                     </td><td>0                                                                                                                                        </td><td>k__Bacteria;p__Actinobacteria;c__Actinobacteria;o__Actinomycetales;f__Actinomycetaceae;g__Actinomyces_2;s__Actinomyces_neuii             </td><td>SRR1039533                                                                                                                               </td><td>/ebio/abt3_projects/databases_no-backup/DeepMAsED/MAG_datasets/AlmeidaA-2019/mags/SRR1039533_bin.14.fa.gz                                </td><td>/ebio/abt3_projects/databases_no-backup/DeepMAsED/MAG_datasets/AlmeidaA-2019/LLMGQC/final/SRR1039533/R1_final.fq.gz                      </td><td>/ebio/abt3_projects/databases_no-backup/DeepMAsED/MAG_datasets/AlmeidaA-2019/LLMGQC/final/SRR1039533/R2_final.fq.gz                      </td><td>/ebio/abt3_projects/databases_no-backup/DeepMAsED/MAG_datasets/AlmeidaA-2019/samples_n143_MAG-feats/map//SRR1039533_bin_14/SRR1039533.bam</td></tr>\n",
       "\t<tr><td>SRR1039533_bin_19                                                                                                                        </td><td>94.15                                                                                                                                    </td><td>0.15                                                                                                                                     </td><td>0                                                                                                                                        </td><td>k__Bacteria;p__Actinobacteria;c__Actinobacteria;o__Actinomycetales;f__Dermabacteraceae                                                   </td><td>SRR1039533                                                                                                                               </td><td>/ebio/abt3_projects/databases_no-backup/DeepMAsED/MAG_datasets/AlmeidaA-2019/mags/SRR1039533_bin.19.fa.gz                                </td><td>/ebio/abt3_projects/databases_no-backup/DeepMAsED/MAG_datasets/AlmeidaA-2019/LLMGQC/final/SRR1039533/R1_final.fq.gz                      </td><td>/ebio/abt3_projects/databases_no-backup/DeepMAsED/MAG_datasets/AlmeidaA-2019/LLMGQC/final/SRR1039533/R2_final.fq.gz                      </td><td>/ebio/abt3_projects/databases_no-backup/DeepMAsED/MAG_datasets/AlmeidaA-2019/samples_n143_MAG-feats/map//SRR1039533_bin_19/SRR1039533.bam</td></tr>\n",
       "</tbody>\n",
       "</table>\n"
      ],
      "text/latex": [
       "\\begin{tabular}{r|llllllllll}\n",
       " Taxon & Completeness & Contamination & Strain\\_heterogeneity & CheckM\\_lineage & Sample & Fasta & Read1 & Read2 & Bam\\\\\n",
       "\\hline\n",
       "\t SRR1039533\\_bin\\_12                                                                                                                                   & 99.29                                                                                                                                                   & 0.95                                                                                                                                                    & 0                                                                                                                                                       & k\\_\\_Bacteria;p\\_\\_Actinobacteria;c\\_\\_Actinobacteria;o\\_\\_Actinomycetales;f\\_\\_Actinomycetaceae;g\\_\\_Actinomyces                           & SRR1039533                                                                                                                                              & /ebio/abt3\\_projects/databases\\_no-backup/DeepMAsED/MAG\\_datasets/AlmeidaA-2019/mags/SRR1039533\\_bin.12.fa.gz                                       & /ebio/abt3\\_projects/databases\\_no-backup/DeepMAsED/MAG\\_datasets/AlmeidaA-2019/LLMGQC/final/SRR1039533/R1\\_final.fq.gz                             & /ebio/abt3\\_projects/databases\\_no-backup/DeepMAsED/MAG\\_datasets/AlmeidaA-2019/LLMGQC/final/SRR1039533/R2\\_final.fq.gz                             & /ebio/abt3\\_projects/databases\\_no-backup/DeepMAsED/MAG\\_datasets/AlmeidaA-2019/samples\\_n143\\_MAG-feats/map//SRR1039533\\_bin\\_12/SRR1039533.bam\\\\\n",
       "\t SRR1039533\\_bin\\_14                                                                                                                                        & 69.19                                                                                                                                                        & 0.00                                                                                                                                                         & 0                                                                                                                                                            & k\\_\\_Bacteria;p\\_\\_Actinobacteria;c\\_\\_Actinobacteria;o\\_\\_Actinomycetales;f\\_\\_Actinomycetaceae;g\\_\\_Actinomyces\\_2;s\\_\\_Actinomyces\\_neuii & SRR1039533                                                                                                                                                   & /ebio/abt3\\_projects/databases\\_no-backup/DeepMAsED/MAG\\_datasets/AlmeidaA-2019/mags/SRR1039533\\_bin.14.fa.gz                                            & /ebio/abt3\\_projects/databases\\_no-backup/DeepMAsED/MAG\\_datasets/AlmeidaA-2019/LLMGQC/final/SRR1039533/R1\\_final.fq.gz                                  & /ebio/abt3\\_projects/databases\\_no-backup/DeepMAsED/MAG\\_datasets/AlmeidaA-2019/LLMGQC/final/SRR1039533/R2\\_final.fq.gz                                  & /ebio/abt3\\_projects/databases\\_no-backup/DeepMAsED/MAG\\_datasets/AlmeidaA-2019/samples\\_n143\\_MAG-feats/map//SRR1039533\\_bin\\_14/SRR1039533.bam     \\\\\n",
       "\t SRR1039533\\_bin\\_19                                                                                                                                   & 94.15                                                                                                                                                   & 0.15                                                                                                                                                    & 0                                                                                                                                                       & k\\_\\_Bacteria;p\\_\\_Actinobacteria;c\\_\\_Actinobacteria;o\\_\\_Actinomycetales;f\\_\\_Dermabacteraceae                                              & SRR1039533                                                                                                                                              & /ebio/abt3\\_projects/databases\\_no-backup/DeepMAsED/MAG\\_datasets/AlmeidaA-2019/mags/SRR1039533\\_bin.19.fa.gz                                       & /ebio/abt3\\_projects/databases\\_no-backup/DeepMAsED/MAG\\_datasets/AlmeidaA-2019/LLMGQC/final/SRR1039533/R1\\_final.fq.gz                             & /ebio/abt3\\_projects/databases\\_no-backup/DeepMAsED/MAG\\_datasets/AlmeidaA-2019/LLMGQC/final/SRR1039533/R2\\_final.fq.gz                             & /ebio/abt3\\_projects/databases\\_no-backup/DeepMAsED/MAG\\_datasets/AlmeidaA-2019/samples\\_n143\\_MAG-feats/map//SRR1039533\\_bin\\_19/SRR1039533.bam\\\\\n",
       "\\end{tabular}\n"
      ],
      "text/markdown": [
       "\n",
       "Taxon | Completeness | Contamination | Strain_heterogeneity | CheckM_lineage | Sample | Fasta | Read1 | Read2 | Bam | \n",
       "|---|---|---|\n",
       "| SRR1039533_bin_12                                                                                                                         | 99.29                                                                                                                                     | 0.95                                                                                                                                      | 0                                                                                                                                         | k__Bacteria;p__Actinobacteria;c__Actinobacteria;o__Actinomycetales;f__Actinomycetaceae;g__Actinomyces                                     | SRR1039533                                                                                                                                | /ebio/abt3_projects/databases_no-backup/DeepMAsED/MAG_datasets/AlmeidaA-2019/mags/SRR1039533_bin.12.fa.gz                                 | /ebio/abt3_projects/databases_no-backup/DeepMAsED/MAG_datasets/AlmeidaA-2019/LLMGQC/final/SRR1039533/R1_final.fq.gz                       | /ebio/abt3_projects/databases_no-backup/DeepMAsED/MAG_datasets/AlmeidaA-2019/LLMGQC/final/SRR1039533/R2_final.fq.gz                       | /ebio/abt3_projects/databases_no-backup/DeepMAsED/MAG_datasets/AlmeidaA-2019/samples_n143_MAG-feats/map//SRR1039533_bin_12/SRR1039533.bam | \n",
       "| SRR1039533_bin_14                                                                                                                         | 69.19                                                                                                                                     | 0.00                                                                                                                                      | 0                                                                                                                                         | k__Bacteria;p__Actinobacteria;c__Actinobacteria;o__Actinomycetales;f__Actinomycetaceae;g__Actinomyces_2;s__Actinomyces_neuii              | SRR1039533                                                                                                                                | /ebio/abt3_projects/databases_no-backup/DeepMAsED/MAG_datasets/AlmeidaA-2019/mags/SRR1039533_bin.14.fa.gz                                 | /ebio/abt3_projects/databases_no-backup/DeepMAsED/MAG_datasets/AlmeidaA-2019/LLMGQC/final/SRR1039533/R1_final.fq.gz                       | /ebio/abt3_projects/databases_no-backup/DeepMAsED/MAG_datasets/AlmeidaA-2019/LLMGQC/final/SRR1039533/R2_final.fq.gz                       | /ebio/abt3_projects/databases_no-backup/DeepMAsED/MAG_datasets/AlmeidaA-2019/samples_n143_MAG-feats/map//SRR1039533_bin_14/SRR1039533.bam | \n",
       "| SRR1039533_bin_19                                                                                                                         | 94.15                                                                                                                                     | 0.15                                                                                                                                      | 0                                                                                                                                         | k__Bacteria;p__Actinobacteria;c__Actinobacteria;o__Actinomycetales;f__Dermabacteraceae                                                    | SRR1039533                                                                                                                                | /ebio/abt3_projects/databases_no-backup/DeepMAsED/MAG_datasets/AlmeidaA-2019/mags/SRR1039533_bin.19.fa.gz                                 | /ebio/abt3_projects/databases_no-backup/DeepMAsED/MAG_datasets/AlmeidaA-2019/LLMGQC/final/SRR1039533/R1_final.fq.gz                       | /ebio/abt3_projects/databases_no-backup/DeepMAsED/MAG_datasets/AlmeidaA-2019/LLMGQC/final/SRR1039533/R2_final.fq.gz                       | /ebio/abt3_projects/databases_no-backup/DeepMAsED/MAG_datasets/AlmeidaA-2019/samples_n143_MAG-feats/map//SRR1039533_bin_19/SRR1039533.bam | \n",
       "\n",
       "\n"
      ],
      "text/plain": [
       "  Taxon             Completeness Contamination Strain_heterogeneity\n",
       "1 SRR1039533_bin_12 99.29        0.95          0                   \n",
       "2 SRR1039533_bin_14 69.19        0.00          0                   \n",
       "3 SRR1039533_bin_19 94.15        0.15          0                   \n",
       "  CheckM_lineage                                                                                                              \n",
       "1 k__Bacteria;p__Actinobacteria;c__Actinobacteria;o__Actinomycetales;f__Actinomycetaceae;g__Actinomyces                       \n",
       "2 k__Bacteria;p__Actinobacteria;c__Actinobacteria;o__Actinomycetales;f__Actinomycetaceae;g__Actinomyces_2;s__Actinomyces_neuii\n",
       "3 k__Bacteria;p__Actinobacteria;c__Actinobacteria;o__Actinomycetales;f__Dermabacteraceae                                      \n",
       "  Sample    \n",
       "1 SRR1039533\n",
       "2 SRR1039533\n",
       "3 SRR1039533\n",
       "  Fasta                                                                                                    \n",
       "1 /ebio/abt3_projects/databases_no-backup/DeepMAsED/MAG_datasets/AlmeidaA-2019/mags/SRR1039533_bin.12.fa.gz\n",
       "2 /ebio/abt3_projects/databases_no-backup/DeepMAsED/MAG_datasets/AlmeidaA-2019/mags/SRR1039533_bin.14.fa.gz\n",
       "3 /ebio/abt3_projects/databases_no-backup/DeepMAsED/MAG_datasets/AlmeidaA-2019/mags/SRR1039533_bin.19.fa.gz\n",
       "  Read1                                                                                                              \n",
       "1 /ebio/abt3_projects/databases_no-backup/DeepMAsED/MAG_datasets/AlmeidaA-2019/LLMGQC/final/SRR1039533/R1_final.fq.gz\n",
       "2 /ebio/abt3_projects/databases_no-backup/DeepMAsED/MAG_datasets/AlmeidaA-2019/LLMGQC/final/SRR1039533/R1_final.fq.gz\n",
       "3 /ebio/abt3_projects/databases_no-backup/DeepMAsED/MAG_datasets/AlmeidaA-2019/LLMGQC/final/SRR1039533/R1_final.fq.gz\n",
       "  Read2                                                                                                              \n",
       "1 /ebio/abt3_projects/databases_no-backup/DeepMAsED/MAG_datasets/AlmeidaA-2019/LLMGQC/final/SRR1039533/R2_final.fq.gz\n",
       "2 /ebio/abt3_projects/databases_no-backup/DeepMAsED/MAG_datasets/AlmeidaA-2019/LLMGQC/final/SRR1039533/R2_final.fq.gz\n",
       "3 /ebio/abt3_projects/databases_no-backup/DeepMAsED/MAG_datasets/AlmeidaA-2019/LLMGQC/final/SRR1039533/R2_final.fq.gz\n",
       "  Bam                                                                                                                                      \n",
       "1 /ebio/abt3_projects/databases_no-backup/DeepMAsED/MAG_datasets/AlmeidaA-2019/samples_n143_MAG-feats/map//SRR1039533_bin_12/SRR1039533.bam\n",
       "2 /ebio/abt3_projects/databases_no-backup/DeepMAsED/MAG_datasets/AlmeidaA-2019/samples_n143_MAG-feats/map//SRR1039533_bin_14/SRR1039533.bam\n",
       "3 /ebio/abt3_projects/databases_no-backup/DeepMAsED/MAG_datasets/AlmeidaA-2019/samples_n143_MAG-feats/map//SRR1039533_bin_19/SRR1039533.bam"
      ]
     },
     "metadata": {},
     "output_type": "display_data"
    }
   ],
   "source": [
    "# joining\n",
    "intersect(MAGs_n143$Taxon, bam_files$Taxon) %>% length \n",
    "\n",
    "MAGs_n143 = MAGs_n143 %>%\n",
    "    inner_join(bam_files, c('Taxon'))\n",
    "MAGs_n143 %>% nrow %>% print\n",
    "MAGs_n143 %>% head(n=3)"
   ]
  },
  {
   "cell_type": "code",
   "execution_count": 6,
   "metadata": {
    "ExecuteTime": {
     "end_time": "2019-07-25T18:27:32.794903Z",
     "start_time": "2019-07-25T18:27:23.210Z"
    }
   },
   "outputs": [
    {
     "data": {
      "text/html": [
       "<table>\n",
       "<thead><tr><th scope=col>Taxon</th><th scope=col>Completeness</th><th scope=col>Contamination</th><th scope=col>Strain_heterogeneity</th><th scope=col>CheckM_lineage</th><th scope=col>Sample</th><th scope=col>Fasta</th><th scope=col>Read1</th><th scope=col>Read2</th><th scope=col>Bam</th><th scope=col>ALE</th></tr></thead>\n",
       "<tbody>\n",
       "\t<tr><td>SRR1039533_bin_12                                                                                                                        </td><td>99.29                                                                                                                                    </td><td>0.95                                                                                                                                     </td><td>0                                                                                                                                        </td><td>k__Bacteria;p__Actinobacteria;c__Actinobacteria;o__Actinomycetales;f__Actinomycetaceae;g__Actinomyces                                    </td><td>SRR1039533                                                                                                                               </td><td>/ebio/abt3_projects/databases_no-backup/DeepMAsED/MAG_datasets/AlmeidaA-2019/mags/SRR1039533_bin.12.fa.gz                                </td><td>/ebio/abt3_projects/databases_no-backup/DeepMAsED/MAG_datasets/AlmeidaA-2019/LLMGQC/final/SRR1039533/R1_final.fq.gz                      </td><td>/ebio/abt3_projects/databases_no-backup/DeepMAsED/MAG_datasets/AlmeidaA-2019/LLMGQC/final/SRR1039533/R2_final.fq.gz                      </td><td>/ebio/abt3_projects/databases_no-backup/DeepMAsED/MAG_datasets/AlmeidaA-2019/samples_n143_MAG-feats/map//SRR1039533_bin_12/SRR1039533.bam</td><td>/ebio/abt3_projects/databases_no-backup/DeepMAsED/MAG_datasets/AlmeidaA-2019/samples_n143_MAG-feats/ALE//SRR1039533_bin_12.txt           </td></tr>\n",
       "\t<tr><td>SRR1039533_bin_14                                                                                                                        </td><td>69.19                                                                                                                                    </td><td>0.00                                                                                                                                     </td><td>0                                                                                                                                        </td><td>k__Bacteria;p__Actinobacteria;c__Actinobacteria;o__Actinomycetales;f__Actinomycetaceae;g__Actinomyces_2;s__Actinomyces_neuii             </td><td>SRR1039533                                                                                                                               </td><td>/ebio/abt3_projects/databases_no-backup/DeepMAsED/MAG_datasets/AlmeidaA-2019/mags/SRR1039533_bin.14.fa.gz                                </td><td>/ebio/abt3_projects/databases_no-backup/DeepMAsED/MAG_datasets/AlmeidaA-2019/LLMGQC/final/SRR1039533/R1_final.fq.gz                      </td><td>/ebio/abt3_projects/databases_no-backup/DeepMAsED/MAG_datasets/AlmeidaA-2019/LLMGQC/final/SRR1039533/R2_final.fq.gz                      </td><td>/ebio/abt3_projects/databases_no-backup/DeepMAsED/MAG_datasets/AlmeidaA-2019/samples_n143_MAG-feats/map//SRR1039533_bin_14/SRR1039533.bam</td><td>/ebio/abt3_projects/databases_no-backup/DeepMAsED/MAG_datasets/AlmeidaA-2019/samples_n143_MAG-feats/ALE//SRR1039533_bin_14.txt           </td></tr>\n",
       "\t<tr><td>SRR1039533_bin_19                                                                                                                        </td><td>94.15                                                                                                                                    </td><td>0.15                                                                                                                                     </td><td>0                                                                                                                                        </td><td>k__Bacteria;p__Actinobacteria;c__Actinobacteria;o__Actinomycetales;f__Dermabacteraceae                                                   </td><td>SRR1039533                                                                                                                               </td><td>/ebio/abt3_projects/databases_no-backup/DeepMAsED/MAG_datasets/AlmeidaA-2019/mags/SRR1039533_bin.19.fa.gz                                </td><td>/ebio/abt3_projects/databases_no-backup/DeepMAsED/MAG_datasets/AlmeidaA-2019/LLMGQC/final/SRR1039533/R1_final.fq.gz                      </td><td>/ebio/abt3_projects/databases_no-backup/DeepMAsED/MAG_datasets/AlmeidaA-2019/LLMGQC/final/SRR1039533/R2_final.fq.gz                      </td><td>/ebio/abt3_projects/databases_no-backup/DeepMAsED/MAG_datasets/AlmeidaA-2019/samples_n143_MAG-feats/map//SRR1039533_bin_19/SRR1039533.bam</td><td>/ebio/abt3_projects/databases_no-backup/DeepMAsED/MAG_datasets/AlmeidaA-2019/samples_n143_MAG-feats/ALE//SRR1039533_bin_19.txt           </td></tr>\n",
       "</tbody>\n",
       "</table>\n"
      ],
      "text/latex": [
       "\\begin{tabular}{r|lllllllllll}\n",
       " Taxon & Completeness & Contamination & Strain\\_heterogeneity & CheckM\\_lineage & Sample & Fasta & Read1 & Read2 & Bam & ALE\\\\\n",
       "\\hline\n",
       "\t SRR1039533\\_bin\\_12                                                                                                                                   & 99.29                                                                                                                                                   & 0.95                                                                                                                                                    & 0                                                                                                                                                       & k\\_\\_Bacteria;p\\_\\_Actinobacteria;c\\_\\_Actinobacteria;o\\_\\_Actinomycetales;f\\_\\_Actinomycetaceae;g\\_\\_Actinomyces                           & SRR1039533                                                                                                                                              & /ebio/abt3\\_projects/databases\\_no-backup/DeepMAsED/MAG\\_datasets/AlmeidaA-2019/mags/SRR1039533\\_bin.12.fa.gz                                       & /ebio/abt3\\_projects/databases\\_no-backup/DeepMAsED/MAG\\_datasets/AlmeidaA-2019/LLMGQC/final/SRR1039533/R1\\_final.fq.gz                             & /ebio/abt3\\_projects/databases\\_no-backup/DeepMAsED/MAG\\_datasets/AlmeidaA-2019/LLMGQC/final/SRR1039533/R2\\_final.fq.gz                             & /ebio/abt3\\_projects/databases\\_no-backup/DeepMAsED/MAG\\_datasets/AlmeidaA-2019/samples\\_n143\\_MAG-feats/map//SRR1039533\\_bin\\_12/SRR1039533.bam & /ebio/abt3\\_projects/databases\\_no-backup/DeepMAsED/MAG\\_datasets/AlmeidaA-2019/samples\\_n143\\_MAG-feats/ALE//SRR1039533\\_bin\\_12.txt           \\\\\n",
       "\t SRR1039533\\_bin\\_14                                                                                                                                        & 69.19                                                                                                                                                        & 0.00                                                                                                                                                         & 0                                                                                                                                                            & k\\_\\_Bacteria;p\\_\\_Actinobacteria;c\\_\\_Actinobacteria;o\\_\\_Actinomycetales;f\\_\\_Actinomycetaceae;g\\_\\_Actinomyces\\_2;s\\_\\_Actinomyces\\_neuii & SRR1039533                                                                                                                                                   & /ebio/abt3\\_projects/databases\\_no-backup/DeepMAsED/MAG\\_datasets/AlmeidaA-2019/mags/SRR1039533\\_bin.14.fa.gz                                            & /ebio/abt3\\_projects/databases\\_no-backup/DeepMAsED/MAG\\_datasets/AlmeidaA-2019/LLMGQC/final/SRR1039533/R1\\_final.fq.gz                                  & /ebio/abt3\\_projects/databases\\_no-backup/DeepMAsED/MAG\\_datasets/AlmeidaA-2019/LLMGQC/final/SRR1039533/R2\\_final.fq.gz                                  & /ebio/abt3\\_projects/databases\\_no-backup/DeepMAsED/MAG\\_datasets/AlmeidaA-2019/samples\\_n143\\_MAG-feats/map//SRR1039533\\_bin\\_14/SRR1039533.bam      & /ebio/abt3\\_projects/databases\\_no-backup/DeepMAsED/MAG\\_datasets/AlmeidaA-2019/samples\\_n143\\_MAG-feats/ALE//SRR1039533\\_bin\\_14.txt                \\\\\n",
       "\t SRR1039533\\_bin\\_19                                                                                                                                   & 94.15                                                                                                                                                   & 0.15                                                                                                                                                    & 0                                                                                                                                                       & k\\_\\_Bacteria;p\\_\\_Actinobacteria;c\\_\\_Actinobacteria;o\\_\\_Actinomycetales;f\\_\\_Dermabacteraceae                                              & SRR1039533                                                                                                                                              & /ebio/abt3\\_projects/databases\\_no-backup/DeepMAsED/MAG\\_datasets/AlmeidaA-2019/mags/SRR1039533\\_bin.19.fa.gz                                       & /ebio/abt3\\_projects/databases\\_no-backup/DeepMAsED/MAG\\_datasets/AlmeidaA-2019/LLMGQC/final/SRR1039533/R1\\_final.fq.gz                             & /ebio/abt3\\_projects/databases\\_no-backup/DeepMAsED/MAG\\_datasets/AlmeidaA-2019/LLMGQC/final/SRR1039533/R2\\_final.fq.gz                             & /ebio/abt3\\_projects/databases\\_no-backup/DeepMAsED/MAG\\_datasets/AlmeidaA-2019/samples\\_n143\\_MAG-feats/map//SRR1039533\\_bin\\_19/SRR1039533.bam & /ebio/abt3\\_projects/databases\\_no-backup/DeepMAsED/MAG\\_datasets/AlmeidaA-2019/samples\\_n143\\_MAG-feats/ALE//SRR1039533\\_bin\\_19.txt           \\\\\n",
       "\\end{tabular}\n"
      ],
      "text/markdown": [
       "\n",
       "Taxon | Completeness | Contamination | Strain_heterogeneity | CheckM_lineage | Sample | Fasta | Read1 | Read2 | Bam | ALE | \n",
       "|---|---|---|\n",
       "| SRR1039533_bin_12                                                                                                                         | 99.29                                                                                                                                     | 0.95                                                                                                                                      | 0                                                                                                                                         | k__Bacteria;p__Actinobacteria;c__Actinobacteria;o__Actinomycetales;f__Actinomycetaceae;g__Actinomyces                                     | SRR1039533                                                                                                                                | /ebio/abt3_projects/databases_no-backup/DeepMAsED/MAG_datasets/AlmeidaA-2019/mags/SRR1039533_bin.12.fa.gz                                 | /ebio/abt3_projects/databases_no-backup/DeepMAsED/MAG_datasets/AlmeidaA-2019/LLMGQC/final/SRR1039533/R1_final.fq.gz                       | /ebio/abt3_projects/databases_no-backup/DeepMAsED/MAG_datasets/AlmeidaA-2019/LLMGQC/final/SRR1039533/R2_final.fq.gz                       | /ebio/abt3_projects/databases_no-backup/DeepMAsED/MAG_datasets/AlmeidaA-2019/samples_n143_MAG-feats/map//SRR1039533_bin_12/SRR1039533.bam | /ebio/abt3_projects/databases_no-backup/DeepMAsED/MAG_datasets/AlmeidaA-2019/samples_n143_MAG-feats/ALE//SRR1039533_bin_12.txt            | \n",
       "| SRR1039533_bin_14                                                                                                                         | 69.19                                                                                                                                     | 0.00                                                                                                                                      | 0                                                                                                                                         | k__Bacteria;p__Actinobacteria;c__Actinobacteria;o__Actinomycetales;f__Actinomycetaceae;g__Actinomyces_2;s__Actinomyces_neuii              | SRR1039533                                                                                                                                | /ebio/abt3_projects/databases_no-backup/DeepMAsED/MAG_datasets/AlmeidaA-2019/mags/SRR1039533_bin.14.fa.gz                                 | /ebio/abt3_projects/databases_no-backup/DeepMAsED/MAG_datasets/AlmeidaA-2019/LLMGQC/final/SRR1039533/R1_final.fq.gz                       | /ebio/abt3_projects/databases_no-backup/DeepMAsED/MAG_datasets/AlmeidaA-2019/LLMGQC/final/SRR1039533/R2_final.fq.gz                       | /ebio/abt3_projects/databases_no-backup/DeepMAsED/MAG_datasets/AlmeidaA-2019/samples_n143_MAG-feats/map//SRR1039533_bin_14/SRR1039533.bam | /ebio/abt3_projects/databases_no-backup/DeepMAsED/MAG_datasets/AlmeidaA-2019/samples_n143_MAG-feats/ALE//SRR1039533_bin_14.txt            | \n",
       "| SRR1039533_bin_19                                                                                                                         | 94.15                                                                                                                                     | 0.15                                                                                                                                      | 0                                                                                                                                         | k__Bacteria;p__Actinobacteria;c__Actinobacteria;o__Actinomycetales;f__Dermabacteraceae                                                    | SRR1039533                                                                                                                                | /ebio/abt3_projects/databases_no-backup/DeepMAsED/MAG_datasets/AlmeidaA-2019/mags/SRR1039533_bin.19.fa.gz                                 | /ebio/abt3_projects/databases_no-backup/DeepMAsED/MAG_datasets/AlmeidaA-2019/LLMGQC/final/SRR1039533/R1_final.fq.gz                       | /ebio/abt3_projects/databases_no-backup/DeepMAsED/MAG_datasets/AlmeidaA-2019/LLMGQC/final/SRR1039533/R2_final.fq.gz                       | /ebio/abt3_projects/databases_no-backup/DeepMAsED/MAG_datasets/AlmeidaA-2019/samples_n143_MAG-feats/map//SRR1039533_bin_19/SRR1039533.bam | /ebio/abt3_projects/databases_no-backup/DeepMAsED/MAG_datasets/AlmeidaA-2019/samples_n143_MAG-feats/ALE//SRR1039533_bin_19.txt            | \n",
       "\n",
       "\n"
      ],
      "text/plain": [
       "  Taxon             Completeness Contamination Strain_heterogeneity\n",
       "1 SRR1039533_bin_12 99.29        0.95          0                   \n",
       "2 SRR1039533_bin_14 69.19        0.00          0                   \n",
       "3 SRR1039533_bin_19 94.15        0.15          0                   \n",
       "  CheckM_lineage                                                                                                              \n",
       "1 k__Bacteria;p__Actinobacteria;c__Actinobacteria;o__Actinomycetales;f__Actinomycetaceae;g__Actinomyces                       \n",
       "2 k__Bacteria;p__Actinobacteria;c__Actinobacteria;o__Actinomycetales;f__Actinomycetaceae;g__Actinomyces_2;s__Actinomyces_neuii\n",
       "3 k__Bacteria;p__Actinobacteria;c__Actinobacteria;o__Actinomycetales;f__Dermabacteraceae                                      \n",
       "  Sample    \n",
       "1 SRR1039533\n",
       "2 SRR1039533\n",
       "3 SRR1039533\n",
       "  Fasta                                                                                                    \n",
       "1 /ebio/abt3_projects/databases_no-backup/DeepMAsED/MAG_datasets/AlmeidaA-2019/mags/SRR1039533_bin.12.fa.gz\n",
       "2 /ebio/abt3_projects/databases_no-backup/DeepMAsED/MAG_datasets/AlmeidaA-2019/mags/SRR1039533_bin.14.fa.gz\n",
       "3 /ebio/abt3_projects/databases_no-backup/DeepMAsED/MAG_datasets/AlmeidaA-2019/mags/SRR1039533_bin.19.fa.gz\n",
       "  Read1                                                                                                              \n",
       "1 /ebio/abt3_projects/databases_no-backup/DeepMAsED/MAG_datasets/AlmeidaA-2019/LLMGQC/final/SRR1039533/R1_final.fq.gz\n",
       "2 /ebio/abt3_projects/databases_no-backup/DeepMAsED/MAG_datasets/AlmeidaA-2019/LLMGQC/final/SRR1039533/R1_final.fq.gz\n",
       "3 /ebio/abt3_projects/databases_no-backup/DeepMAsED/MAG_datasets/AlmeidaA-2019/LLMGQC/final/SRR1039533/R1_final.fq.gz\n",
       "  Read2                                                                                                              \n",
       "1 /ebio/abt3_projects/databases_no-backup/DeepMAsED/MAG_datasets/AlmeidaA-2019/LLMGQC/final/SRR1039533/R2_final.fq.gz\n",
       "2 /ebio/abt3_projects/databases_no-backup/DeepMAsED/MAG_datasets/AlmeidaA-2019/LLMGQC/final/SRR1039533/R2_final.fq.gz\n",
       "3 /ebio/abt3_projects/databases_no-backup/DeepMAsED/MAG_datasets/AlmeidaA-2019/LLMGQC/final/SRR1039533/R2_final.fq.gz\n",
       "  Bam                                                                                                                                      \n",
       "1 /ebio/abt3_projects/databases_no-backup/DeepMAsED/MAG_datasets/AlmeidaA-2019/samples_n143_MAG-feats/map//SRR1039533_bin_12/SRR1039533.bam\n",
       "2 /ebio/abt3_projects/databases_no-backup/DeepMAsED/MAG_datasets/AlmeidaA-2019/samples_n143_MAG-feats/map//SRR1039533_bin_14/SRR1039533.bam\n",
       "3 /ebio/abt3_projects/databases_no-backup/DeepMAsED/MAG_datasets/AlmeidaA-2019/samples_n143_MAG-feats/map//SRR1039533_bin_19/SRR1039533.bam\n",
       "  ALE                                                                                                                           \n",
       "1 /ebio/abt3_projects/databases_no-backup/DeepMAsED/MAG_datasets/AlmeidaA-2019/samples_n143_MAG-feats/ALE//SRR1039533_bin_12.txt\n",
       "2 /ebio/abt3_projects/databases_no-backup/DeepMAsED/MAG_datasets/AlmeidaA-2019/samples_n143_MAG-feats/ALE//SRR1039533_bin_14.txt\n",
       "3 /ebio/abt3_projects/databases_no-backup/DeepMAsED/MAG_datasets/AlmeidaA-2019/samples_n143_MAG-feats/ALE//SRR1039533_bin_19.txt"
      ]
     },
     "metadata": {},
     "output_type": "display_data"
    }
   ],
   "source": [
    "# ALE output file name\n",
    "MAGs_n143 = MAGs_n143 %>%\n",
    "    mutate(ALE = sapply(Taxon, function(x) file.path(work_dir, paste0(x, '.txt'))))\n",
    "                        \n",
    "MAGs_n143 %>% head(n=3)"
   ]
  },
  {
   "cell_type": "markdown",
   "metadata": {},
   "source": [
    "# Running ALE"
   ]
  },
  {
   "cell_type": "code",
   "execution_count": 16,
   "metadata": {
    "ExecuteTime": {
     "end_time": "2019-07-25T18:36:57.045703Z",
     "start_time": "2019-07-25T18:36:56.992Z"
    }
   },
   "outputs": [],
   "source": [
    "# cluster resources\n",
    "resources = list(h_rt = '00:59:00',\n",
    "                 h_vmem = '8G',\n",
    "                 threads = '1',\n",
    "                 conda.env = 'py3_physeq')     # conda env with batchtools installed\n",
    "plan(batchtools_sge, resources=resources, workers=40)"
   ]
  },
  {
   "cell_type": "code",
   "execution_count": 17,
   "metadata": {
    "ExecuteTime": {
     "end_time": "2019-07-25T18:36:58.363476Z",
     "start_time": "2019-07-25T18:36:57.128Z"
    }
   },
   "outputs": [
    {
     "name": "stdout",
     "output_type": "stream",
     "text": [
      "[1] 1519\n"
     ]
    },
    {
     "data": {
      "text/html": [
       "'/ebio/abt3_projects/databases_no-backup/DeepMAsED/bin/ALE/src/ALE /ebio/abt3_projects/databases_no-backup/DeepMAsED/MAG_datasets/AlmeidaA-2019/samples_n143_MAG-feats/map//SRR1039533_bin_12/SRR1039533.bam /ebio/abt3_projects/databases_no-backup/DeepMAsED/MAG_datasets/AlmeidaA-2019/mags/SRR1039533_bin.12.fa.gz /ebio/abt3_projects/databases_no-backup/DeepMAsED/MAG_datasets/AlmeidaA-2019/samples_n143_MAG-feats/ALE//SRR1039533_bin_12.txt'"
      ],
      "text/latex": [
       "'/ebio/abt3\\_projects/databases\\_no-backup/DeepMAsED/bin/ALE/src/ALE /ebio/abt3\\_projects/databases\\_no-backup/DeepMAsED/MAG\\_datasets/AlmeidaA-2019/samples\\_n143\\_MAG-feats/map//SRR1039533\\_bin\\_12/SRR1039533.bam /ebio/abt3\\_projects/databases\\_no-backup/DeepMAsED/MAG\\_datasets/AlmeidaA-2019/mags/SRR1039533\\_bin.12.fa.gz /ebio/abt3\\_projects/databases\\_no-backup/DeepMAsED/MAG\\_datasets/AlmeidaA-2019/samples\\_n143\\_MAG-feats/ALE//SRR1039533\\_bin\\_12.txt'"
      ],
      "text/markdown": [
       "'/ebio/abt3_projects/databases_no-backup/DeepMAsED/bin/ALE/src/ALE /ebio/abt3_projects/databases_no-backup/DeepMAsED/MAG_datasets/AlmeidaA-2019/samples_n143_MAG-feats/map//SRR1039533_bin_12/SRR1039533.bam /ebio/abt3_projects/databases_no-backup/DeepMAsED/MAG_datasets/AlmeidaA-2019/mags/SRR1039533_bin.12.fa.gz /ebio/abt3_projects/databases_no-backup/DeepMAsED/MAG_datasets/AlmeidaA-2019/samples_n143_MAG-feats/ALE//SRR1039533_bin_12.txt'"
      ],
      "text/plain": [
       "[1] \"/ebio/abt3_projects/databases_no-backup/DeepMAsED/bin/ALE/src/ALE /ebio/abt3_projects/databases_no-backup/DeepMAsED/MAG_datasets/AlmeidaA-2019/samples_n143_MAG-feats/map//SRR1039533_bin_12/SRR1039533.bam /ebio/abt3_projects/databases_no-backup/DeepMAsED/MAG_datasets/AlmeidaA-2019/mags/SRR1039533_bin.12.fa.gz /ebio/abt3_projects/databases_no-backup/DeepMAsED/MAG_datasets/AlmeidaA-2019/samples_n143_MAG-feats/ALE//SRR1039533_bin_12.txt\""
      ]
     },
     "metadata": {},
     "output_type": "display_data"
    }
   ],
   "source": [
    "ALE_params = function(x, exe){\n",
    "    cmd = '{exe} {bam} {fasta} {outfile}'\n",
    "    cmd = glue::glue(cmd, exe=exe, bam=x[['Bam']], fasta=x[['Fasta']], outfile=x[['ALE']])\n",
    "    return(cmd)\n",
    "}\n",
    "\n",
    "ALE_cmds = apply(MAGs_n143, 1, ALE_params, exe=ALE_exe) %>%\n",
    "    as.list\n",
    "\n",
    "ALE_cmds %>% length %>% print\n",
    "ALE_cmds[[1]]"
   ]
  },
  {
   "cell_type": "code",
   "execution_count": 18,
   "metadata": {
    "ExecuteTime": {
     "end_time": "2019-07-25T18:37:01.164096Z",
     "start_time": "2019-07-25T18:37:01.117Z"
    }
   },
   "outputs": [],
   "source": [
    "bash_job = function(cmd, conda_env, stdout=TRUE, stderr=FALSE){\n",
    "    # cmd : string; commandline job (eg., 'ls -thlc')\n",
    "    # conda_env : string; conda environment name\n",
    "    cmd = sprintf('. ~/.bashrc; conda activate %s; %s', conda_env, cmd)\n",
    "    cmd = sprintf('-c \"%s\"', cmd)\n",
    "    system2('bash', cmd, stdout=stdout, stderr=stderr)\n",
    "}"
   ]
  },
  {
   "cell_type": "code",
   "execution_count": 19,
   "metadata": {
    "ExecuteTime": {
     "end_time": "2019-07-25T19:38:00.843728Z",
     "start_time": "2019-07-25T18:37:03.601Z"
    }
   },
   "outputs": [
    {
     "ename": "ERROR",
     "evalue": "Error: BatchtoolsExpiration: Future ('<none>') expired (registry path /ebio/abt3_projects/software/dev/DeepMAsED/notebooks/03_stateOfTheArt/02_ALE/.future/20190725_203335-OCTspy/batchtools_1116545982).. The last few lines of the logged output:\n### [bt]: Starting calculation of 1 jobs\n### [bt]: Setting working directory to '/ebio/abt3_projects/software/dev/DeepMAsED/notebooks/03_stateOfTheArt/02_ALE'\nLoading required package: methods\n### [bt]: Memory measurement disabled\n### [bt]: Starting job [batchtools job.id=1]\n### [bt]: Setting seed to 1 ...\n",
     "output_type": "error",
     "traceback": [
      "Error: BatchtoolsExpiration: Future ('<none>') expired (registry path /ebio/abt3_projects/software/dev/DeepMAsED/notebooks/03_stateOfTheArt/02_ALE/.future/20190725_203335-OCTspy/batchtools_1116545982).. The last few lines of the logged output:\n### [bt]: Starting calculation of 1 jobs\n### [bt]: Setting working directory to '/ebio/abt3_projects/software/dev/DeepMAsED/notebooks/03_stateOfTheArt/02_ALE'\nLoading required package: methods\n### [bt]: Memory measurement disabled\n### [bt]: Starting job [batchtools job.id=1]\n### [bt]: Setting seed to 1 ...\nTraceback:\n",
      "1. future_lapply(ALE_cmds, FUN = function(x) bash_job(x, conda_env = conda_env))",
      "2. values(fs)",
      "3. values.list(fs)",
      "4. value(tmp, ...)",
      "5. value.Future(tmp, ...)",
      "6. result(future)",
      "7. result.BatchtoolsFuture(future)",
      "8. await(future, cleanup = FALSE)",
      "9. await.BatchtoolsFuture(future, cleanup = FALSE)"
     ]
    }
   ],
   "source": [
    "# apply function on cluster\n",
    "job_ret = future_lapply(ALE_cmds, FUN = function(x) bash_job(x, conda_env=conda_env))\n",
    "job_ret %>% length %>% print\n",
    "job_ret[[1]]"
   ]
  },
  {
   "cell_type": "markdown",
   "metadata": {},
   "source": [
    "## Finding failed jobs"
   ]
  },
  {
   "cell_type": "code",
   "execution_count": 24,
   "metadata": {
    "ExecuteTime": {
     "end_time": "2019-07-25T19:41:29.933005Z",
     "start_time": "2019-07-25T19:41:29.231Z"
    }
   },
   "outputs": [
    {
     "data": {
      "text/html": [
       "1438"
      ],
      "text/latex": [
       "1438"
      ],
      "text/markdown": [
       "1438"
      ],
      "text/plain": [
       "[1] 1438"
      ]
     },
     "metadata": {},
     "output_type": "display_data"
    },
    {
     "data": {
      "text/html": [
       "<ol class=list-inline>\n",
       "\t<li>'DRR042488_bin_11'</li>\n",
       "\t<li>'DRR042488_bin_13'</li>\n",
       "\t<li>'DRR042488_bin_14'</li>\n",
       "</ol>\n"
      ],
      "text/latex": [
       "\\begin{enumerate*}\n",
       "\\item 'DRR042488\\_bin\\_11'\n",
       "\\item 'DRR042488\\_bin\\_13'\n",
       "\\item 'DRR042488\\_bin\\_14'\n",
       "\\end{enumerate*}\n"
      ],
      "text/markdown": [
       "1. 'DRR042488_bin_11'\n",
       "2. 'DRR042488_bin_13'\n",
       "3. 'DRR042488_bin_14'\n",
       "\n",
       "\n"
      ],
      "text/plain": [
       "[1] \"DRR042488_bin_11\" \"DRR042488_bin_13\" \"DRR042488_bin_14\""
      ]
     },
     "metadata": {},
     "output_type": "display_data"
    }
   ],
   "source": [
    "P = map_dir %>% dirname %>% file.path('ALE')\n",
    "feat_files = list.files(P, '*.txt$', recursive=TRUE) %>%\n",
    "    gsub('\\\\.txt$', '', .)\n",
    "feat_files %>% length\n",
    "feat_files %>% head(n=3)"
   ]
  },
  {
   "cell_type": "code",
   "execution_count": 28,
   "metadata": {
    "ExecuteTime": {
     "end_time": "2019-07-25T19:42:23.254707Z",
     "start_time": "2019-07-25T19:42:22.702Z"
    }
   },
   "outputs": [
    {
     "name": "stdout",
     "output_type": "stream",
     "text": [
      "[1] 81\n"
     ]
    },
    {
     "data": {
      "text/html": [
       "<table>\n",
       "<thead><tr><th scope=col>Taxon</th><th scope=col>Completeness</th><th scope=col>Contamination</th><th scope=col>Strain_heterogeneity</th><th scope=col>CheckM_lineage</th><th scope=col>Sample</th><th scope=col>Fasta</th><th scope=col>Read1</th><th scope=col>Read2</th><th scope=col>Bam</th><th scope=col>ALE</th></tr></thead>\n",
       "<tbody>\n",
       "\t<tr><td>SRR1039533_bin_21                                                                                                                        </td><td>98.88                                                                                                                                    </td><td>0.00                                                                                                                                     </td><td> 0.00                                                                                                                                    </td><td>k__Bacteria;p__Firmicutes;c__Bacilli;o__Lactobacillales;f__Enterococcaceae;g__Enterococcus;s__Enterococcus_faecalis                      </td><td>SRR1039533                                                                                                                               </td><td>/ebio/abt3_projects/databases_no-backup/DeepMAsED/MAG_datasets/AlmeidaA-2019/mags/SRR1039533_bin.21.fa.gz                                </td><td>/ebio/abt3_projects/databases_no-backup/DeepMAsED/MAG_datasets/AlmeidaA-2019/LLMGQC/final/SRR1039533/R1_final.fq.gz                      </td><td>/ebio/abt3_projects/databases_no-backup/DeepMAsED/MAG_datasets/AlmeidaA-2019/LLMGQC/final/SRR1039533/R2_final.fq.gz                      </td><td>/ebio/abt3_projects/databases_no-backup/DeepMAsED/MAG_datasets/AlmeidaA-2019/samples_n143_MAG-feats/map//SRR1039533_bin_21/SRR1039533.bam</td><td>/ebio/abt3_projects/databases_no-backup/DeepMAsED/MAG_datasets/AlmeidaA-2019/samples_n143_MAG-feats/ALE//SRR1039533_bin_21.txt           </td></tr>\n",
       "\t<tr><td>SRR828645_bin_1                                                                                                                          </td><td>98.14                                                                                                                                    </td><td>7.93                                                                                                                                     </td><td>11.11                                                                                                                                    </td><td>k__Bacteria;p__Bacteroidetes;c__Bacteroidia;o__Bacteroidales;f__Bacteroidaceae;g__Bacteroides;s__Bacteroides_uniformis                   </td><td>SRR828645                                                                                                                                </td><td>/ebio/abt3_projects/databases_no-backup/DeepMAsED/MAG_datasets/AlmeidaA-2019/mags/SRR828645_bin.1.fa.gz                                  </td><td>/ebio/abt3_projects/databases_no-backup/DeepMAsED/MAG_datasets/AlmeidaA-2019/LLMGQC/final/SRR828645/R1_final.fq.gz                       </td><td>/ebio/abt3_projects/databases_no-backup/DeepMAsED/MAG_datasets/AlmeidaA-2019/LLMGQC/final/SRR828645/R2_final.fq.gz                       </td><td>/ebio/abt3_projects/databases_no-backup/DeepMAsED/MAG_datasets/AlmeidaA-2019/samples_n143_MAG-feats/map//SRR828645_bin_1/SRR828645.bam   </td><td>/ebio/abt3_projects/databases_no-backup/DeepMAsED/MAG_datasets/AlmeidaA-2019/samples_n143_MAG-feats/ALE//SRR828645_bin_1.txt             </td></tr>\n",
       "\t<tr><td>SRR828645_bin_3                                                                                                                          </td><td>96.96                                                                                                                                    </td><td>0.00                                                                                                                                     </td><td> 0.00                                                                                                                                    </td><td>k__Bacteria;p__Bacteroidetes;c__Bacteroidia;o__Bacteroidales;f__Prevotellaceae;g__Prevotella                                             </td><td>SRR828645                                                                                                                                </td><td>/ebio/abt3_projects/databases_no-backup/DeepMAsED/MAG_datasets/AlmeidaA-2019/mags/SRR828645_bin.3.fa.gz                                  </td><td>/ebio/abt3_projects/databases_no-backup/DeepMAsED/MAG_datasets/AlmeidaA-2019/LLMGQC/final/SRR828645/R1_final.fq.gz                       </td><td>/ebio/abt3_projects/databases_no-backup/DeepMAsED/MAG_datasets/AlmeidaA-2019/LLMGQC/final/SRR828645/R2_final.fq.gz                       </td><td>/ebio/abt3_projects/databases_no-backup/DeepMAsED/MAG_datasets/AlmeidaA-2019/samples_n143_MAG-feats/map//SRR828645_bin_3/SRR828645.bam   </td><td>/ebio/abt3_projects/databases_no-backup/DeepMAsED/MAG_datasets/AlmeidaA-2019/samples_n143_MAG-feats/ALE//SRR828645_bin_3.txt             </td></tr>\n",
       "</tbody>\n",
       "</table>\n"
      ],
      "text/latex": [
       "\\begin{tabular}{r|lllllllllll}\n",
       " Taxon & Completeness & Contamination & Strain\\_heterogeneity & CheckM\\_lineage & Sample & Fasta & Read1 & Read2 & Bam & ALE\\\\\n",
       "\\hline\n",
       "\t SRR1039533\\_bin\\_21                                                                                                                                   & 98.88                                                                                                                                                   & 0.00                                                                                                                                                    &  0.00                                                                                                                                                   & k\\_\\_Bacteria;p\\_\\_Firmicutes;c\\_\\_Bacilli;o\\_\\_Lactobacillales;f\\_\\_Enterococcaceae;g\\_\\_Enterococcus;s\\_\\_Enterococcus\\_faecalis       & SRR1039533                                                                                                                                              & /ebio/abt3\\_projects/databases\\_no-backup/DeepMAsED/MAG\\_datasets/AlmeidaA-2019/mags/SRR1039533\\_bin.21.fa.gz                                       & /ebio/abt3\\_projects/databases\\_no-backup/DeepMAsED/MAG\\_datasets/AlmeidaA-2019/LLMGQC/final/SRR1039533/R1\\_final.fq.gz                             & /ebio/abt3\\_projects/databases\\_no-backup/DeepMAsED/MAG\\_datasets/AlmeidaA-2019/LLMGQC/final/SRR1039533/R2\\_final.fq.gz                             & /ebio/abt3\\_projects/databases\\_no-backup/DeepMAsED/MAG\\_datasets/AlmeidaA-2019/samples\\_n143\\_MAG-feats/map//SRR1039533\\_bin\\_21/SRR1039533.bam & /ebio/abt3\\_projects/databases\\_no-backup/DeepMAsED/MAG\\_datasets/AlmeidaA-2019/samples\\_n143\\_MAG-feats/ALE//SRR1039533\\_bin\\_21.txt           \\\\\n",
       "\t SRR828645\\_bin\\_1                                                                                                                                     & 98.14                                                                                                                                                   & 7.93                                                                                                                                                    & 11.11                                                                                                                                                   & k\\_\\_Bacteria;p\\_\\_Bacteroidetes;c\\_\\_Bacteroidia;o\\_\\_Bacteroidales;f\\_\\_Bacteroidaceae;g\\_\\_Bacteroides;s\\_\\_Bacteroides\\_uniformis    & SRR828645                                                                                                                                               & /ebio/abt3\\_projects/databases\\_no-backup/DeepMAsED/MAG\\_datasets/AlmeidaA-2019/mags/SRR828645\\_bin.1.fa.gz                                         & /ebio/abt3\\_projects/databases\\_no-backup/DeepMAsED/MAG\\_datasets/AlmeidaA-2019/LLMGQC/final/SRR828645/R1\\_final.fq.gz                              & /ebio/abt3\\_projects/databases\\_no-backup/DeepMAsED/MAG\\_datasets/AlmeidaA-2019/LLMGQC/final/SRR828645/R2\\_final.fq.gz                              & /ebio/abt3\\_projects/databases\\_no-backup/DeepMAsED/MAG\\_datasets/AlmeidaA-2019/samples\\_n143\\_MAG-feats/map//SRR828645\\_bin\\_1/SRR828645.bam    & /ebio/abt3\\_projects/databases\\_no-backup/DeepMAsED/MAG\\_datasets/AlmeidaA-2019/samples\\_n143\\_MAG-feats/ALE//SRR828645\\_bin\\_1.txt             \\\\\n",
       "\t SRR828645\\_bin\\_3                                                                                                                                     & 96.96                                                                                                                                                   & 0.00                                                                                                                                                    &  0.00                                                                                                                                                   & k\\_\\_Bacteria;p\\_\\_Bacteroidetes;c\\_\\_Bacteroidia;o\\_\\_Bacteroidales;f\\_\\_Prevotellaceae;g\\_\\_Prevotella                                    & SRR828645                                                                                                                                               & /ebio/abt3\\_projects/databases\\_no-backup/DeepMAsED/MAG\\_datasets/AlmeidaA-2019/mags/SRR828645\\_bin.3.fa.gz                                         & /ebio/abt3\\_projects/databases\\_no-backup/DeepMAsED/MAG\\_datasets/AlmeidaA-2019/LLMGQC/final/SRR828645/R1\\_final.fq.gz                              & /ebio/abt3\\_projects/databases\\_no-backup/DeepMAsED/MAG\\_datasets/AlmeidaA-2019/LLMGQC/final/SRR828645/R2\\_final.fq.gz                              & /ebio/abt3\\_projects/databases\\_no-backup/DeepMAsED/MAG\\_datasets/AlmeidaA-2019/samples\\_n143\\_MAG-feats/map//SRR828645\\_bin\\_3/SRR828645.bam    & /ebio/abt3\\_projects/databases\\_no-backup/DeepMAsED/MAG\\_datasets/AlmeidaA-2019/samples\\_n143\\_MAG-feats/ALE//SRR828645\\_bin\\_3.txt             \\\\\n",
       "\\end{tabular}\n"
      ],
      "text/markdown": [
       "\n",
       "Taxon | Completeness | Contamination | Strain_heterogeneity | CheckM_lineage | Sample | Fasta | Read1 | Read2 | Bam | ALE | \n",
       "|---|---|---|\n",
       "| SRR1039533_bin_21                                                                                                                         | 98.88                                                                                                                                     | 0.00                                                                                                                                      |  0.00                                                                                                                                     | k__Bacteria;p__Firmicutes;c__Bacilli;o__Lactobacillales;f__Enterococcaceae;g__Enterococcus;s__Enterococcus_faecalis                       | SRR1039533                                                                                                                                | /ebio/abt3_projects/databases_no-backup/DeepMAsED/MAG_datasets/AlmeidaA-2019/mags/SRR1039533_bin.21.fa.gz                                 | /ebio/abt3_projects/databases_no-backup/DeepMAsED/MAG_datasets/AlmeidaA-2019/LLMGQC/final/SRR1039533/R1_final.fq.gz                       | /ebio/abt3_projects/databases_no-backup/DeepMAsED/MAG_datasets/AlmeidaA-2019/LLMGQC/final/SRR1039533/R2_final.fq.gz                       | /ebio/abt3_projects/databases_no-backup/DeepMAsED/MAG_datasets/AlmeidaA-2019/samples_n143_MAG-feats/map//SRR1039533_bin_21/SRR1039533.bam | /ebio/abt3_projects/databases_no-backup/DeepMAsED/MAG_datasets/AlmeidaA-2019/samples_n143_MAG-feats/ALE//SRR1039533_bin_21.txt            | \n",
       "| SRR828645_bin_1                                                                                                                           | 98.14                                                                                                                                     | 7.93                                                                                                                                      | 11.11                                                                                                                                     | k__Bacteria;p__Bacteroidetes;c__Bacteroidia;o__Bacteroidales;f__Bacteroidaceae;g__Bacteroides;s__Bacteroides_uniformis                    | SRR828645                                                                                                                                 | /ebio/abt3_projects/databases_no-backup/DeepMAsED/MAG_datasets/AlmeidaA-2019/mags/SRR828645_bin.1.fa.gz                                   | /ebio/abt3_projects/databases_no-backup/DeepMAsED/MAG_datasets/AlmeidaA-2019/LLMGQC/final/SRR828645/R1_final.fq.gz                        | /ebio/abt3_projects/databases_no-backup/DeepMAsED/MAG_datasets/AlmeidaA-2019/LLMGQC/final/SRR828645/R2_final.fq.gz                        | /ebio/abt3_projects/databases_no-backup/DeepMAsED/MAG_datasets/AlmeidaA-2019/samples_n143_MAG-feats/map//SRR828645_bin_1/SRR828645.bam    | /ebio/abt3_projects/databases_no-backup/DeepMAsED/MAG_datasets/AlmeidaA-2019/samples_n143_MAG-feats/ALE//SRR828645_bin_1.txt              | \n",
       "| SRR828645_bin_3                                                                                                                           | 96.96                                                                                                                                     | 0.00                                                                                                                                      |  0.00                                                                                                                                     | k__Bacteria;p__Bacteroidetes;c__Bacteroidia;o__Bacteroidales;f__Prevotellaceae;g__Prevotella                                              | SRR828645                                                                                                                                 | /ebio/abt3_projects/databases_no-backup/DeepMAsED/MAG_datasets/AlmeidaA-2019/mags/SRR828645_bin.3.fa.gz                                   | /ebio/abt3_projects/databases_no-backup/DeepMAsED/MAG_datasets/AlmeidaA-2019/LLMGQC/final/SRR828645/R1_final.fq.gz                        | /ebio/abt3_projects/databases_no-backup/DeepMAsED/MAG_datasets/AlmeidaA-2019/LLMGQC/final/SRR828645/R2_final.fq.gz                        | /ebio/abt3_projects/databases_no-backup/DeepMAsED/MAG_datasets/AlmeidaA-2019/samples_n143_MAG-feats/map//SRR828645_bin_3/SRR828645.bam    | /ebio/abt3_projects/databases_no-backup/DeepMAsED/MAG_datasets/AlmeidaA-2019/samples_n143_MAG-feats/ALE//SRR828645_bin_3.txt              | \n",
       "\n",
       "\n"
      ],
      "text/plain": [
       "  Taxon             Completeness Contamination Strain_heterogeneity\n",
       "1 SRR1039533_bin_21 98.88        0.00           0.00               \n",
       "2 SRR828645_bin_1   98.14        7.93          11.11               \n",
       "3 SRR828645_bin_3   96.96        0.00           0.00               \n",
       "  CheckM_lineage                                                                                                        \n",
       "1 k__Bacteria;p__Firmicutes;c__Bacilli;o__Lactobacillales;f__Enterococcaceae;g__Enterococcus;s__Enterococcus_faecalis   \n",
       "2 k__Bacteria;p__Bacteroidetes;c__Bacteroidia;o__Bacteroidales;f__Bacteroidaceae;g__Bacteroides;s__Bacteroides_uniformis\n",
       "3 k__Bacteria;p__Bacteroidetes;c__Bacteroidia;o__Bacteroidales;f__Prevotellaceae;g__Prevotella                          \n",
       "  Sample    \n",
       "1 SRR1039533\n",
       "2 SRR828645 \n",
       "3 SRR828645 \n",
       "  Fasta                                                                                                    \n",
       "1 /ebio/abt3_projects/databases_no-backup/DeepMAsED/MAG_datasets/AlmeidaA-2019/mags/SRR1039533_bin.21.fa.gz\n",
       "2 /ebio/abt3_projects/databases_no-backup/DeepMAsED/MAG_datasets/AlmeidaA-2019/mags/SRR828645_bin.1.fa.gz  \n",
       "3 /ebio/abt3_projects/databases_no-backup/DeepMAsED/MAG_datasets/AlmeidaA-2019/mags/SRR828645_bin.3.fa.gz  \n",
       "  Read1                                                                                                              \n",
       "1 /ebio/abt3_projects/databases_no-backup/DeepMAsED/MAG_datasets/AlmeidaA-2019/LLMGQC/final/SRR1039533/R1_final.fq.gz\n",
       "2 /ebio/abt3_projects/databases_no-backup/DeepMAsED/MAG_datasets/AlmeidaA-2019/LLMGQC/final/SRR828645/R1_final.fq.gz \n",
       "3 /ebio/abt3_projects/databases_no-backup/DeepMAsED/MAG_datasets/AlmeidaA-2019/LLMGQC/final/SRR828645/R1_final.fq.gz \n",
       "  Read2                                                                                                              \n",
       "1 /ebio/abt3_projects/databases_no-backup/DeepMAsED/MAG_datasets/AlmeidaA-2019/LLMGQC/final/SRR1039533/R2_final.fq.gz\n",
       "2 /ebio/abt3_projects/databases_no-backup/DeepMAsED/MAG_datasets/AlmeidaA-2019/LLMGQC/final/SRR828645/R2_final.fq.gz \n",
       "3 /ebio/abt3_projects/databases_no-backup/DeepMAsED/MAG_datasets/AlmeidaA-2019/LLMGQC/final/SRR828645/R2_final.fq.gz \n",
       "  Bam                                                                                                                                      \n",
       "1 /ebio/abt3_projects/databases_no-backup/DeepMAsED/MAG_datasets/AlmeidaA-2019/samples_n143_MAG-feats/map//SRR1039533_bin_21/SRR1039533.bam\n",
       "2 /ebio/abt3_projects/databases_no-backup/DeepMAsED/MAG_datasets/AlmeidaA-2019/samples_n143_MAG-feats/map//SRR828645_bin_1/SRR828645.bam   \n",
       "3 /ebio/abt3_projects/databases_no-backup/DeepMAsED/MAG_datasets/AlmeidaA-2019/samples_n143_MAG-feats/map//SRR828645_bin_3/SRR828645.bam   \n",
       "  ALE                                                                                                                           \n",
       "1 /ebio/abt3_projects/databases_no-backup/DeepMAsED/MAG_datasets/AlmeidaA-2019/samples_n143_MAG-feats/ALE//SRR1039533_bin_21.txt\n",
       "2 /ebio/abt3_projects/databases_no-backup/DeepMAsED/MAG_datasets/AlmeidaA-2019/samples_n143_MAG-feats/ALE//SRR828645_bin_1.txt  \n",
       "3 /ebio/abt3_projects/databases_no-backup/DeepMAsED/MAG_datasets/AlmeidaA-2019/samples_n143_MAG-feats/ALE//SRR828645_bin_3.txt  "
      ]
     },
     "metadata": {},
     "output_type": "display_data"
    }
   ],
   "source": [
    "failed_jobs = MAGs_n143 %>%\n",
    "    filter(! Taxon %in% feat_files)\n",
    "\n",
    "failed_jobs %>% nrow %>% print\n",
    "failed_jobs %>% head(n=3)"
   ]
  },
  {
   "cell_type": "markdown",
   "metadata": {},
   "source": [
    "## ALE on failed jobs"
   ]
  },
  {
   "cell_type": "code",
   "execution_count": 31,
   "metadata": {
    "ExecuteTime": {
     "end_time": "2019-07-25T19:46:11.283245Z",
     "start_time": "2019-07-25T19:46:10.799Z"
    }
   },
   "outputs": [],
   "source": [
    "# cluster resources\n",
    "resources = list(h_rt = '00:59:00',\n",
    "                 h_vmem = '16G',\n",
    "                 threads = '1',\n",
    "                 conda.env = 'py3_physeq')     # conda env with batchtools installed\n",
    "plan(batchtools_sge, resources=resources, workers=40)"
   ]
  },
  {
   "cell_type": "code",
   "execution_count": 32,
   "metadata": {
    "ExecuteTime": {
     "end_time": "2019-07-25T19:46:12.543925Z",
     "start_time": "2019-07-25T19:46:11.943Z"
    }
   },
   "outputs": [
    {
     "name": "stdout",
     "output_type": "stream",
     "text": [
      "[1] 81\n"
     ]
    },
    {
     "data": {
      "text/html": [
       "'/ebio/abt3_projects/databases_no-backup/DeepMAsED/bin/ALE/src/ALE /ebio/abt3_projects/databases_no-backup/DeepMAsED/MAG_datasets/AlmeidaA-2019/samples_n143_MAG-feats/map//SRR1039533_bin_21/SRR1039533.bam /ebio/abt3_projects/databases_no-backup/DeepMAsED/MAG_datasets/AlmeidaA-2019/mags/SRR1039533_bin.21.fa.gz /ebio/abt3_projects/databases_no-backup/DeepMAsED/MAG_datasets/AlmeidaA-2019/samples_n143_MAG-feats/ALE//SRR1039533_bin_21.txt'"
      ],
      "text/latex": [
       "'/ebio/abt3\\_projects/databases\\_no-backup/DeepMAsED/bin/ALE/src/ALE /ebio/abt3\\_projects/databases\\_no-backup/DeepMAsED/MAG\\_datasets/AlmeidaA-2019/samples\\_n143\\_MAG-feats/map//SRR1039533\\_bin\\_21/SRR1039533.bam /ebio/abt3\\_projects/databases\\_no-backup/DeepMAsED/MAG\\_datasets/AlmeidaA-2019/mags/SRR1039533\\_bin.21.fa.gz /ebio/abt3\\_projects/databases\\_no-backup/DeepMAsED/MAG\\_datasets/AlmeidaA-2019/samples\\_n143\\_MAG-feats/ALE//SRR1039533\\_bin\\_21.txt'"
      ],
      "text/markdown": [
       "'/ebio/abt3_projects/databases_no-backup/DeepMAsED/bin/ALE/src/ALE /ebio/abt3_projects/databases_no-backup/DeepMAsED/MAG_datasets/AlmeidaA-2019/samples_n143_MAG-feats/map//SRR1039533_bin_21/SRR1039533.bam /ebio/abt3_projects/databases_no-backup/DeepMAsED/MAG_datasets/AlmeidaA-2019/mags/SRR1039533_bin.21.fa.gz /ebio/abt3_projects/databases_no-backup/DeepMAsED/MAG_datasets/AlmeidaA-2019/samples_n143_MAG-feats/ALE//SRR1039533_bin_21.txt'"
      ],
      "text/plain": [
       "[1] \"/ebio/abt3_projects/databases_no-backup/DeepMAsED/bin/ALE/src/ALE /ebio/abt3_projects/databases_no-backup/DeepMAsED/MAG_datasets/AlmeidaA-2019/samples_n143_MAG-feats/map//SRR1039533_bin_21/SRR1039533.bam /ebio/abt3_projects/databases_no-backup/DeepMAsED/MAG_datasets/AlmeidaA-2019/mags/SRR1039533_bin.21.fa.gz /ebio/abt3_projects/databases_no-backup/DeepMAsED/MAG_datasets/AlmeidaA-2019/samples_n143_MAG-feats/ALE//SRR1039533_bin_21.txt\""
      ]
     },
     "metadata": {},
     "output_type": "display_data"
    }
   ],
   "source": [
    "ALE_params = function(x, exe){\n",
    "    cmd = '{exe} {bam} {fasta} {outfile}'\n",
    "    cmd = glue::glue(cmd, exe=exe, bam=x[['Bam']], fasta=x[['Fasta']], outfile=x[['ALE']])\n",
    "    return(cmd)\n",
    "}\n",
    "\n",
    "ALE_cmds = apply(failed_jobs, 1, ALE_params, exe=ALE_exe) %>%\n",
    "    as.list\n",
    "\n",
    "ALE_cmds %>% length %>% print\n",
    "ALE_cmds[[1]]"
   ]
  },
  {
   "cell_type": "code",
   "execution_count": 33,
   "metadata": {
    "ExecuteTime": {
     "end_time": "2019-07-25T20:42:31.065768Z",
     "start_time": "2019-07-25T19:47:10.314Z"
    }
   },
   "outputs": [
    {
     "ename": "ERROR",
     "evalue": "Error: BatchtoolsExpiration: Future ('<none>') expired (registry path /ebio/abt3_projects/software/dev/DeepMAsED/notebooks/03_stateOfTheArt/02_ALE/.future/20190725_203335-OCTspy/batchtools_1207375984).. The last few lines of the logged output:\n### [bt]: Starting calculation of 1 jobs\n### [bt]: Setting working directory to '/ebio/abt3_projects/software/dev/DeepMAsED/notebooks/03_stateOfTheArt/02_ALE'\nLoading required package: methods\n### [bt]: Memory measurement disabled\n### [bt]: Starting job [batchtools job.id=1]\n### [bt]: Setting seed to 1 ...\n",
     "output_type": "error",
     "traceback": [
      "Error: BatchtoolsExpiration: Future ('<none>') expired (registry path /ebio/abt3_projects/software/dev/DeepMAsED/notebooks/03_stateOfTheArt/02_ALE/.future/20190725_203335-OCTspy/batchtools_1207375984).. The last few lines of the logged output:\n### [bt]: Starting calculation of 1 jobs\n### [bt]: Setting working directory to '/ebio/abt3_projects/software/dev/DeepMAsED/notebooks/03_stateOfTheArt/02_ALE'\nLoading required package: methods\n### [bt]: Memory measurement disabled\n### [bt]: Starting job [batchtools job.id=1]\n### [bt]: Setting seed to 1 ...\nTraceback:\n",
      "1. future_lapply(ALE_cmds, FUN = function(x) bash_job(x, conda_env = conda_env))",
      "2. values(fs)",
      "3. values.list(fs)",
      "4. value(tmp, ...)",
      "5. value.Future(tmp, ...)",
      "6. result(future)",
      "7. result.BatchtoolsFuture(future)",
      "8. await(future, cleanup = FALSE)",
      "9. await.BatchtoolsFuture(future, cleanup = FALSE)"
     ]
    }
   ],
   "source": [
    "# apply function on cluster\n",
    "job_ret = future_lapply(ALE_cmds, FUN = function(x) bash_job(x, conda_env=conda_env))\n",
    "job_ret %>% length %>% print\n",
    "job_ret[[1]]"
   ]
  },
  {
   "cell_type": "markdown",
   "metadata": {},
   "source": [
    "## Finding failed jobs"
   ]
  },
  {
   "cell_type": "code",
   "execution_count": 39,
   "metadata": {
    "ExecuteTime": {
     "end_time": "2019-07-26T07:35:18.973733Z",
     "start_time": "2019-07-26T07:35:18.822Z"
    }
   },
   "outputs": [
    {
     "data": {
      "text/html": [
       "1481"
      ],
      "text/latex": [
       "1481"
      ],
      "text/markdown": [
       "1481"
      ],
      "text/plain": [
       "[1] 1481"
      ]
     },
     "metadata": {},
     "output_type": "display_data"
    },
    {
     "data": {
      "text/html": [
       "<ol class=list-inline>\n",
       "\t<li>'DRR042488_bin_11'</li>\n",
       "\t<li>'DRR042488_bin_13'</li>\n",
       "\t<li>'DRR042488_bin_14'</li>\n",
       "</ol>\n"
      ],
      "text/latex": [
       "\\begin{enumerate*}\n",
       "\\item 'DRR042488\\_bin\\_11'\n",
       "\\item 'DRR042488\\_bin\\_13'\n",
       "\\item 'DRR042488\\_bin\\_14'\n",
       "\\end{enumerate*}\n"
      ],
      "text/markdown": [
       "1. 'DRR042488_bin_11'\n",
       "2. 'DRR042488_bin_13'\n",
       "3. 'DRR042488_bin_14'\n",
       "\n",
       "\n"
      ],
      "text/plain": [
       "[1] \"DRR042488_bin_11\" \"DRR042488_bin_13\" \"DRR042488_bin_14\""
      ]
     },
     "metadata": {},
     "output_type": "display_data"
    }
   ],
   "source": [
    "P = map_dir %>% dirname %>% file.path('ALE')\n",
    "feat_files = list.files(P, '*.txt$', recursive=TRUE) %>%\n",
    "    gsub('\\\\.txt$', '', .)\n",
    "feat_files %>% length\n",
    "feat_files %>% head(n=3)"
   ]
  },
  {
   "cell_type": "code",
   "execution_count": 40,
   "metadata": {
    "ExecuteTime": {
     "end_time": "2019-07-26T07:35:21.221336Z",
     "start_time": "2019-07-26T07:35:21.133Z"
    }
   },
   "outputs": [
    {
     "name": "stdout",
     "output_type": "stream",
     "text": [
      "[1] 39\n"
     ]
    },
    {
     "data": {
      "text/html": [
       "<table>\n",
       "<thead><tr><th scope=col>Taxon</th><th scope=col>Completeness</th><th scope=col>Contamination</th><th scope=col>Strain_heterogeneity</th><th scope=col>CheckM_lineage</th><th scope=col>Sample</th><th scope=col>Fasta</th><th scope=col>Read1</th><th scope=col>Read2</th><th scope=col>Bam</th><th scope=col>ALE</th></tr></thead>\n",
       "<tbody>\n",
       "\t<tr><td>SRR1039533_bin_21                                                                                                                        </td><td>98.88                                                                                                                                    </td><td>0.00                                                                                                                                     </td><td>0                                                                                                                                        </td><td>k__Bacteria;p__Firmicutes;c__Bacilli;o__Lactobacillales;f__Enterococcaceae;g__Enterococcus;s__Enterococcus_faecalis                      </td><td>SRR1039533                                                                                                                               </td><td>/ebio/abt3_projects/databases_no-backup/DeepMAsED/MAG_datasets/AlmeidaA-2019/mags/SRR1039533_bin.21.fa.gz                                </td><td>/ebio/abt3_projects/databases_no-backup/DeepMAsED/MAG_datasets/AlmeidaA-2019/LLMGQC/final/SRR1039533/R1_final.fq.gz                      </td><td>/ebio/abt3_projects/databases_no-backup/DeepMAsED/MAG_datasets/AlmeidaA-2019/LLMGQC/final/SRR1039533/R2_final.fq.gz                      </td><td>/ebio/abt3_projects/databases_no-backup/DeepMAsED/MAG_datasets/AlmeidaA-2019/samples_n143_MAG-feats/map//SRR1039533_bin_21/SRR1039533.bam</td><td>/ebio/abt3_projects/databases_no-backup/DeepMAsED/MAG_datasets/AlmeidaA-2019/samples_n143_MAG-feats/ALE//SRR1039533_bin_21.txt           </td></tr>\n",
       "\t<tr><td>ERR321527_bin_2                                                                                                                          </td><td>94.98                                                                                                                                    </td><td>0.00                                                                                                                                     </td><td>0                                                                                                                                        </td><td>k__Bacteria;p__Proteobacteria;c__Alphaproteobacteria                                                                                     </td><td>ERR321527                                                                                                                                </td><td>/ebio/abt3_projects/databases_no-backup/DeepMAsED/MAG_datasets/AlmeidaA-2019/mags/ERR321527_bin.2.fa.gz                                  </td><td>/ebio/abt3_projects/databases_no-backup/DeepMAsED/MAG_datasets/AlmeidaA-2019/LLMGQC/final/ERR321527/R1_final.fq.gz                       </td><td>/ebio/abt3_projects/databases_no-backup/DeepMAsED/MAG_datasets/AlmeidaA-2019/LLMGQC/final/ERR321527/R2_final.fq.gz                       </td><td>/ebio/abt3_projects/databases_no-backup/DeepMAsED/MAG_datasets/AlmeidaA-2019/samples_n143_MAG-feats/map//ERR321527_bin_2/ERR321527.bam   </td><td>/ebio/abt3_projects/databases_no-backup/DeepMAsED/MAG_datasets/AlmeidaA-2019/samples_n143_MAG-feats/ALE//ERR321527_bin_2.txt             </td></tr>\n",
       "\t<tr><td>ERR321527_bin_1                                                                                                                          </td><td>89.50                                                                                                                                    </td><td>2.47                                                                                                                                     </td><td>0                                                                                                                                        </td><td>k__Bacteria;p__Firmicutes;c__Clostridia;o__Clostridiales;f__Lachnospiraceae;g__Lachnobacterium                                           </td><td>ERR321527                                                                                                                                </td><td>/ebio/abt3_projects/databases_no-backup/DeepMAsED/MAG_datasets/AlmeidaA-2019/mags/ERR321527_bin.1.fa.gz                                  </td><td>/ebio/abt3_projects/databases_no-backup/DeepMAsED/MAG_datasets/AlmeidaA-2019/LLMGQC/final/ERR321527/R1_final.fq.gz                       </td><td>/ebio/abt3_projects/databases_no-backup/DeepMAsED/MAG_datasets/AlmeidaA-2019/LLMGQC/final/ERR321527/R2_final.fq.gz                       </td><td>/ebio/abt3_projects/databases_no-backup/DeepMAsED/MAG_datasets/AlmeidaA-2019/samples_n143_MAG-feats/map//ERR321527_bin_1/ERR321527.bam   </td><td>/ebio/abt3_projects/databases_no-backup/DeepMAsED/MAG_datasets/AlmeidaA-2019/samples_n143_MAG-feats/ALE//ERR321527_bin_1.txt             </td></tr>\n",
       "</tbody>\n",
       "</table>\n"
      ],
      "text/latex": [
       "\\begin{tabular}{r|lllllllllll}\n",
       " Taxon & Completeness & Contamination & Strain\\_heterogeneity & CheckM\\_lineage & Sample & Fasta & Read1 & Read2 & Bam & ALE\\\\\n",
       "\\hline\n",
       "\t SRR1039533\\_bin\\_21                                                                                                                                   & 98.88                                                                                                                                                   & 0.00                                                                                                                                                    & 0                                                                                                                                                       & k\\_\\_Bacteria;p\\_\\_Firmicutes;c\\_\\_Bacilli;o\\_\\_Lactobacillales;f\\_\\_Enterococcaceae;g\\_\\_Enterococcus;s\\_\\_Enterococcus\\_faecalis       & SRR1039533                                                                                                                                              & /ebio/abt3\\_projects/databases\\_no-backup/DeepMAsED/MAG\\_datasets/AlmeidaA-2019/mags/SRR1039533\\_bin.21.fa.gz                                       & /ebio/abt3\\_projects/databases\\_no-backup/DeepMAsED/MAG\\_datasets/AlmeidaA-2019/LLMGQC/final/SRR1039533/R1\\_final.fq.gz                             & /ebio/abt3\\_projects/databases\\_no-backup/DeepMAsED/MAG\\_datasets/AlmeidaA-2019/LLMGQC/final/SRR1039533/R2\\_final.fq.gz                             & /ebio/abt3\\_projects/databases\\_no-backup/DeepMAsED/MAG\\_datasets/AlmeidaA-2019/samples\\_n143\\_MAG-feats/map//SRR1039533\\_bin\\_21/SRR1039533.bam & /ebio/abt3\\_projects/databases\\_no-backup/DeepMAsED/MAG\\_datasets/AlmeidaA-2019/samples\\_n143\\_MAG-feats/ALE//SRR1039533\\_bin\\_21.txt           \\\\\n",
       "\t ERR321527\\_bin\\_2                                                                                                                                     & 94.98                                                                                                                                                   & 0.00                                                                                                                                                    & 0                                                                                                                                                       & k\\_\\_Bacteria;p\\_\\_Proteobacteria;c\\_\\_Alphaproteobacteria                                                                                        & ERR321527                                                                                                                                               & /ebio/abt3\\_projects/databases\\_no-backup/DeepMAsED/MAG\\_datasets/AlmeidaA-2019/mags/ERR321527\\_bin.2.fa.gz                                         & /ebio/abt3\\_projects/databases\\_no-backup/DeepMAsED/MAG\\_datasets/AlmeidaA-2019/LLMGQC/final/ERR321527/R1\\_final.fq.gz                              & /ebio/abt3\\_projects/databases\\_no-backup/DeepMAsED/MAG\\_datasets/AlmeidaA-2019/LLMGQC/final/ERR321527/R2\\_final.fq.gz                              & /ebio/abt3\\_projects/databases\\_no-backup/DeepMAsED/MAG\\_datasets/AlmeidaA-2019/samples\\_n143\\_MAG-feats/map//ERR321527\\_bin\\_2/ERR321527.bam    & /ebio/abt3\\_projects/databases\\_no-backup/DeepMAsED/MAG\\_datasets/AlmeidaA-2019/samples\\_n143\\_MAG-feats/ALE//ERR321527\\_bin\\_2.txt             \\\\\n",
       "\t ERR321527\\_bin\\_1                                                                                                                                     & 89.50                                                                                                                                                   & 2.47                                                                                                                                                    & 0                                                                                                                                                       & k\\_\\_Bacteria;p\\_\\_Firmicutes;c\\_\\_Clostridia;o\\_\\_Clostridiales;f\\_\\_Lachnospiraceae;g\\_\\_Lachnobacterium                                  & ERR321527                                                                                                                                               & /ebio/abt3\\_projects/databases\\_no-backup/DeepMAsED/MAG\\_datasets/AlmeidaA-2019/mags/ERR321527\\_bin.1.fa.gz                                         & /ebio/abt3\\_projects/databases\\_no-backup/DeepMAsED/MAG\\_datasets/AlmeidaA-2019/LLMGQC/final/ERR321527/R1\\_final.fq.gz                              & /ebio/abt3\\_projects/databases\\_no-backup/DeepMAsED/MAG\\_datasets/AlmeidaA-2019/LLMGQC/final/ERR321527/R2\\_final.fq.gz                              & /ebio/abt3\\_projects/databases\\_no-backup/DeepMAsED/MAG\\_datasets/AlmeidaA-2019/samples\\_n143\\_MAG-feats/map//ERR321527\\_bin\\_1/ERR321527.bam    & /ebio/abt3\\_projects/databases\\_no-backup/DeepMAsED/MAG\\_datasets/AlmeidaA-2019/samples\\_n143\\_MAG-feats/ALE//ERR321527\\_bin\\_1.txt             \\\\\n",
       "\\end{tabular}\n"
      ],
      "text/markdown": [
       "\n",
       "Taxon | Completeness | Contamination | Strain_heterogeneity | CheckM_lineage | Sample | Fasta | Read1 | Read2 | Bam | ALE | \n",
       "|---|---|---|\n",
       "| SRR1039533_bin_21                                                                                                                         | 98.88                                                                                                                                     | 0.00                                                                                                                                      | 0                                                                                                                                         | k__Bacteria;p__Firmicutes;c__Bacilli;o__Lactobacillales;f__Enterococcaceae;g__Enterococcus;s__Enterococcus_faecalis                       | SRR1039533                                                                                                                                | /ebio/abt3_projects/databases_no-backup/DeepMAsED/MAG_datasets/AlmeidaA-2019/mags/SRR1039533_bin.21.fa.gz                                 | /ebio/abt3_projects/databases_no-backup/DeepMAsED/MAG_datasets/AlmeidaA-2019/LLMGQC/final/SRR1039533/R1_final.fq.gz                       | /ebio/abt3_projects/databases_no-backup/DeepMAsED/MAG_datasets/AlmeidaA-2019/LLMGQC/final/SRR1039533/R2_final.fq.gz                       | /ebio/abt3_projects/databases_no-backup/DeepMAsED/MAG_datasets/AlmeidaA-2019/samples_n143_MAG-feats/map//SRR1039533_bin_21/SRR1039533.bam | /ebio/abt3_projects/databases_no-backup/DeepMAsED/MAG_datasets/AlmeidaA-2019/samples_n143_MAG-feats/ALE//SRR1039533_bin_21.txt            | \n",
       "| ERR321527_bin_2                                                                                                                           | 94.98                                                                                                                                     | 0.00                                                                                                                                      | 0                                                                                                                                         | k__Bacteria;p__Proteobacteria;c__Alphaproteobacteria                                                                                      | ERR321527                                                                                                                                 | /ebio/abt3_projects/databases_no-backup/DeepMAsED/MAG_datasets/AlmeidaA-2019/mags/ERR321527_bin.2.fa.gz                                   | /ebio/abt3_projects/databases_no-backup/DeepMAsED/MAG_datasets/AlmeidaA-2019/LLMGQC/final/ERR321527/R1_final.fq.gz                        | /ebio/abt3_projects/databases_no-backup/DeepMAsED/MAG_datasets/AlmeidaA-2019/LLMGQC/final/ERR321527/R2_final.fq.gz                        | /ebio/abt3_projects/databases_no-backup/DeepMAsED/MAG_datasets/AlmeidaA-2019/samples_n143_MAG-feats/map//ERR321527_bin_2/ERR321527.bam    | /ebio/abt3_projects/databases_no-backup/DeepMAsED/MAG_datasets/AlmeidaA-2019/samples_n143_MAG-feats/ALE//ERR321527_bin_2.txt              | \n",
       "| ERR321527_bin_1                                                                                                                           | 89.50                                                                                                                                     | 2.47                                                                                                                                      | 0                                                                                                                                         | k__Bacteria;p__Firmicutes;c__Clostridia;o__Clostridiales;f__Lachnospiraceae;g__Lachnobacterium                                            | ERR321527                                                                                                                                 | /ebio/abt3_projects/databases_no-backup/DeepMAsED/MAG_datasets/AlmeidaA-2019/mags/ERR321527_bin.1.fa.gz                                   | /ebio/abt3_projects/databases_no-backup/DeepMAsED/MAG_datasets/AlmeidaA-2019/LLMGQC/final/ERR321527/R1_final.fq.gz                        | /ebio/abt3_projects/databases_no-backup/DeepMAsED/MAG_datasets/AlmeidaA-2019/LLMGQC/final/ERR321527/R2_final.fq.gz                        | /ebio/abt3_projects/databases_no-backup/DeepMAsED/MAG_datasets/AlmeidaA-2019/samples_n143_MAG-feats/map//ERR321527_bin_1/ERR321527.bam    | /ebio/abt3_projects/databases_no-backup/DeepMAsED/MAG_datasets/AlmeidaA-2019/samples_n143_MAG-feats/ALE//ERR321527_bin_1.txt              | \n",
       "\n",
       "\n"
      ],
      "text/plain": [
       "  Taxon             Completeness Contamination Strain_heterogeneity\n",
       "1 SRR1039533_bin_21 98.88        0.00          0                   \n",
       "2 ERR321527_bin_2   94.98        0.00          0                   \n",
       "3 ERR321527_bin_1   89.50        2.47          0                   \n",
       "  CheckM_lineage                                                                                                     \n",
       "1 k__Bacteria;p__Firmicutes;c__Bacilli;o__Lactobacillales;f__Enterococcaceae;g__Enterococcus;s__Enterococcus_faecalis\n",
       "2 k__Bacteria;p__Proteobacteria;c__Alphaproteobacteria                                                               \n",
       "3 k__Bacteria;p__Firmicutes;c__Clostridia;o__Clostridiales;f__Lachnospiraceae;g__Lachnobacterium                     \n",
       "  Sample    \n",
       "1 SRR1039533\n",
       "2 ERR321527 \n",
       "3 ERR321527 \n",
       "  Fasta                                                                                                    \n",
       "1 /ebio/abt3_projects/databases_no-backup/DeepMAsED/MAG_datasets/AlmeidaA-2019/mags/SRR1039533_bin.21.fa.gz\n",
       "2 /ebio/abt3_projects/databases_no-backup/DeepMAsED/MAG_datasets/AlmeidaA-2019/mags/ERR321527_bin.2.fa.gz  \n",
       "3 /ebio/abt3_projects/databases_no-backup/DeepMAsED/MAG_datasets/AlmeidaA-2019/mags/ERR321527_bin.1.fa.gz  \n",
       "  Read1                                                                                                              \n",
       "1 /ebio/abt3_projects/databases_no-backup/DeepMAsED/MAG_datasets/AlmeidaA-2019/LLMGQC/final/SRR1039533/R1_final.fq.gz\n",
       "2 /ebio/abt3_projects/databases_no-backup/DeepMAsED/MAG_datasets/AlmeidaA-2019/LLMGQC/final/ERR321527/R1_final.fq.gz \n",
       "3 /ebio/abt3_projects/databases_no-backup/DeepMAsED/MAG_datasets/AlmeidaA-2019/LLMGQC/final/ERR321527/R1_final.fq.gz \n",
       "  Read2                                                                                                              \n",
       "1 /ebio/abt3_projects/databases_no-backup/DeepMAsED/MAG_datasets/AlmeidaA-2019/LLMGQC/final/SRR1039533/R2_final.fq.gz\n",
       "2 /ebio/abt3_projects/databases_no-backup/DeepMAsED/MAG_datasets/AlmeidaA-2019/LLMGQC/final/ERR321527/R2_final.fq.gz \n",
       "3 /ebio/abt3_projects/databases_no-backup/DeepMAsED/MAG_datasets/AlmeidaA-2019/LLMGQC/final/ERR321527/R2_final.fq.gz \n",
       "  Bam                                                                                                                                      \n",
       "1 /ebio/abt3_projects/databases_no-backup/DeepMAsED/MAG_datasets/AlmeidaA-2019/samples_n143_MAG-feats/map//SRR1039533_bin_21/SRR1039533.bam\n",
       "2 /ebio/abt3_projects/databases_no-backup/DeepMAsED/MAG_datasets/AlmeidaA-2019/samples_n143_MAG-feats/map//ERR321527_bin_2/ERR321527.bam   \n",
       "3 /ebio/abt3_projects/databases_no-backup/DeepMAsED/MAG_datasets/AlmeidaA-2019/samples_n143_MAG-feats/map//ERR321527_bin_1/ERR321527.bam   \n",
       "  ALE                                                                                                                           \n",
       "1 /ebio/abt3_projects/databases_no-backup/DeepMAsED/MAG_datasets/AlmeidaA-2019/samples_n143_MAG-feats/ALE//SRR1039533_bin_21.txt\n",
       "2 /ebio/abt3_projects/databases_no-backup/DeepMAsED/MAG_datasets/AlmeidaA-2019/samples_n143_MAG-feats/ALE//ERR321527_bin_2.txt  \n",
       "3 /ebio/abt3_projects/databases_no-backup/DeepMAsED/MAG_datasets/AlmeidaA-2019/samples_n143_MAG-feats/ALE//ERR321527_bin_1.txt  "
      ]
     },
     "metadata": {},
     "output_type": "display_data"
    }
   ],
   "source": [
    "failed_jobs = MAGs_n143 %>%\n",
    "    filter(! Taxon %in% feat_files)\n",
    "\n",
    "failed_jobs %>% nrow %>% print\n",
    "failed_jobs %>% head(n=3)"
   ]
  },
  {
   "cell_type": "code",
   "execution_count": 41,
   "metadata": {
    "ExecuteTime": {
     "end_time": "2019-07-26T07:35:23.041961Z",
     "start_time": "2019-07-26T07:35:23.002Z"
    }
   },
   "outputs": [],
   "source": [
    "# cluster resources\n",
    "resources = list(h_rt = '00:59:00',\n",
    "                 h_vmem = '40G',\n",
    "                 threads = '1',\n",
    "                 conda.env = 'py3_physeq')     # conda env with batchtools installed\n",
    "plan(batchtools_sge, resources=resources, workers=40)"
   ]
  },
  {
   "cell_type": "code",
   "execution_count": 42,
   "metadata": {
    "ExecuteTime": {
     "end_time": "2019-07-26T07:35:24.522863Z",
     "start_time": "2019-07-26T07:35:24.412Z"
    }
   },
   "outputs": [
    {
     "name": "stdout",
     "output_type": "stream",
     "text": [
      "[1] 39\n"
     ]
    },
    {
     "data": {
      "text/html": [
       "'/ebio/abt3_projects/databases_no-backup/DeepMAsED/bin/ALE/src/ALE /ebio/abt3_projects/databases_no-backup/DeepMAsED/MAG_datasets/AlmeidaA-2019/samples_n143_MAG-feats/map//SRR1039533_bin_21/SRR1039533.bam /ebio/abt3_projects/databases_no-backup/DeepMAsED/MAG_datasets/AlmeidaA-2019/mags/SRR1039533_bin.21.fa.gz /ebio/abt3_projects/databases_no-backup/DeepMAsED/MAG_datasets/AlmeidaA-2019/samples_n143_MAG-feats/ALE//SRR1039533_bin_21.txt'"
      ],
      "text/latex": [
       "'/ebio/abt3\\_projects/databases\\_no-backup/DeepMAsED/bin/ALE/src/ALE /ebio/abt3\\_projects/databases\\_no-backup/DeepMAsED/MAG\\_datasets/AlmeidaA-2019/samples\\_n143\\_MAG-feats/map//SRR1039533\\_bin\\_21/SRR1039533.bam /ebio/abt3\\_projects/databases\\_no-backup/DeepMAsED/MAG\\_datasets/AlmeidaA-2019/mags/SRR1039533\\_bin.21.fa.gz /ebio/abt3\\_projects/databases\\_no-backup/DeepMAsED/MAG\\_datasets/AlmeidaA-2019/samples\\_n143\\_MAG-feats/ALE//SRR1039533\\_bin\\_21.txt'"
      ],
      "text/markdown": [
       "'/ebio/abt3_projects/databases_no-backup/DeepMAsED/bin/ALE/src/ALE /ebio/abt3_projects/databases_no-backup/DeepMAsED/MAG_datasets/AlmeidaA-2019/samples_n143_MAG-feats/map//SRR1039533_bin_21/SRR1039533.bam /ebio/abt3_projects/databases_no-backup/DeepMAsED/MAG_datasets/AlmeidaA-2019/mags/SRR1039533_bin.21.fa.gz /ebio/abt3_projects/databases_no-backup/DeepMAsED/MAG_datasets/AlmeidaA-2019/samples_n143_MAG-feats/ALE//SRR1039533_bin_21.txt'"
      ],
      "text/plain": [
       "[1] \"/ebio/abt3_projects/databases_no-backup/DeepMAsED/bin/ALE/src/ALE /ebio/abt3_projects/databases_no-backup/DeepMAsED/MAG_datasets/AlmeidaA-2019/samples_n143_MAG-feats/map//SRR1039533_bin_21/SRR1039533.bam /ebio/abt3_projects/databases_no-backup/DeepMAsED/MAG_datasets/AlmeidaA-2019/mags/SRR1039533_bin.21.fa.gz /ebio/abt3_projects/databases_no-backup/DeepMAsED/MAG_datasets/AlmeidaA-2019/samples_n143_MAG-feats/ALE//SRR1039533_bin_21.txt\""
      ]
     },
     "metadata": {},
     "output_type": "display_data"
    }
   ],
   "source": [
    "ALE_params = function(x, exe){\n",
    "    cmd = '{exe} {bam} {fasta} {outfile}'\n",
    "    cmd = glue::glue(cmd, exe=exe, bam=x[['Bam']], fasta=x[['Fasta']], outfile=x[['ALE']])\n",
    "    return(cmd)\n",
    "}\n",
    "\n",
    "ALE_cmds = apply(failed_jobs, 1, ALE_params, exe=ALE_exe) %>%\n",
    "    as.list\n",
    "\n",
    "ALE_cmds %>% length %>% print\n",
    "ALE_cmds[[1]]"
   ]
  },
  {
   "cell_type": "code",
   "execution_count": 44,
   "metadata": {
    "ExecuteTime": {
     "end_time": "2019-07-26T07:36:42.700835Z",
     "start_time": "2019-07-26T07:36:42.657Z"
    }
   },
   "outputs": [
    {
     "data": {
      "text/html": [
       "'/ebio/abt3_projects/databases_no-backup/DeepMAsED/bin/ALE/src/ALE /ebio/abt3_projects/databases_no-backup/DeepMAsED/MAG_datasets/AlmeidaA-2019/samples_n143_MAG-feats/map//ERR321527_bin_1/ERR321527.bam /ebio/abt3_projects/databases_no-backup/DeepMAsED/MAG_datasets/AlmeidaA-2019/mags/ERR321527_bin.1.fa.gz /ebio/abt3_projects/databases_no-backup/DeepMAsED/MAG_datasets/AlmeidaA-2019/samples_n143_MAG-feats/ALE//ERR321527_bin_1.txt'"
      ],
      "text/latex": [
       "'/ebio/abt3\\_projects/databases\\_no-backup/DeepMAsED/bin/ALE/src/ALE /ebio/abt3\\_projects/databases\\_no-backup/DeepMAsED/MAG\\_datasets/AlmeidaA-2019/samples\\_n143\\_MAG-feats/map//ERR321527\\_bin\\_1/ERR321527.bam /ebio/abt3\\_projects/databases\\_no-backup/DeepMAsED/MAG\\_datasets/AlmeidaA-2019/mags/ERR321527\\_bin.1.fa.gz /ebio/abt3\\_projects/databases\\_no-backup/DeepMAsED/MAG\\_datasets/AlmeidaA-2019/samples\\_n143\\_MAG-feats/ALE//ERR321527\\_bin\\_1.txt'"
      ],
      "text/markdown": [
       "'/ebio/abt3_projects/databases_no-backup/DeepMAsED/bin/ALE/src/ALE /ebio/abt3_projects/databases_no-backup/DeepMAsED/MAG_datasets/AlmeidaA-2019/samples_n143_MAG-feats/map//ERR321527_bin_1/ERR321527.bam /ebio/abt3_projects/databases_no-backup/DeepMAsED/MAG_datasets/AlmeidaA-2019/mags/ERR321527_bin.1.fa.gz /ebio/abt3_projects/databases_no-backup/DeepMAsED/MAG_datasets/AlmeidaA-2019/samples_n143_MAG-feats/ALE//ERR321527_bin_1.txt'"
      ],
      "text/plain": [
       "[1] \"/ebio/abt3_projects/databases_no-backup/DeepMAsED/bin/ALE/src/ALE /ebio/abt3_projects/databases_no-backup/DeepMAsED/MAG_datasets/AlmeidaA-2019/samples_n143_MAG-feats/map//ERR321527_bin_1/ERR321527.bam /ebio/abt3_projects/databases_no-backup/DeepMAsED/MAG_datasets/AlmeidaA-2019/mags/ERR321527_bin.1.fa.gz /ebio/abt3_projects/databases_no-backup/DeepMAsED/MAG_datasets/AlmeidaA-2019/samples_n143_MAG-feats/ALE//ERR321527_bin_1.txt\""
      ]
     },
     "metadata": {},
     "output_type": "display_data"
    }
   ],
   "source": [
    "ALE_cmds[[3]]"
   ]
  },
  {
   "cell_type": "code",
   "execution_count": 38,
   "metadata": {
    "ExecuteTime": {
     "end_time": "2019-07-26T07:31:45.356341Z",
     "start_time": "2019-07-26T06:36:31.324Z"
    }
   },
   "outputs": [
    {
     "ename": "ERROR",
     "evalue": "Error: BatchtoolsExpiration: Future ('<none>') expired (registry path /ebio/abt3_projects/software/dev/DeepMAsED/notebooks/03_stateOfTheArt/02_ALE/.future/20190725_203335-OCTspy/batchtools_837764763).. The last few lines of the logged output:\n### [bt]: Starting calculation of 1 jobs\n### [bt]: Setting working directory to '/ebio/abt3_projects/software/dev/DeepMAsED/notebooks/03_stateOfTheArt/02_ALE'\nLoading required package: methods\n### [bt]: Memory measurement disabled\n### [bt]: Starting job [batchtools job.id=1]\n### [bt]: Setting seed to 1 ...\n",
     "output_type": "error",
     "traceback": [
      "Error: BatchtoolsExpiration: Future ('<none>') expired (registry path /ebio/abt3_projects/software/dev/DeepMAsED/notebooks/03_stateOfTheArt/02_ALE/.future/20190725_203335-OCTspy/batchtools_837764763).. The last few lines of the logged output:\n### [bt]: Starting calculation of 1 jobs\n### [bt]: Setting working directory to '/ebio/abt3_projects/software/dev/DeepMAsED/notebooks/03_stateOfTheArt/02_ALE'\nLoading required package: methods\n### [bt]: Memory measurement disabled\n### [bt]: Starting job [batchtools job.id=1]\n### [bt]: Setting seed to 1 ...\nTraceback:\n",
      "1. future_lapply(ALE_cmds, FUN = function(x) bash_job(x, conda_env = conda_env))",
      "2. values(fs)",
      "3. values.list(fs)",
      "4. value(tmp, ...)",
      "5. value.Future(tmp, ...)",
      "6. result(future)",
      "7. result.BatchtoolsFuture(future)",
      "8. await(future, cleanup = FALSE)",
      "9. await.BatchtoolsFuture(future, cleanup = FALSE)"
     ]
    }
   ],
   "source": [
    "# apply function on cluster\n",
    "job_ret = future_lapply(ALE_cmds, FUN = function(x) bash_job(x, conda_env=conda_env))\n",
    "job_ret %>% length %>% print\n",
    "job_ret[[1]]"
   ]
  },
  {
   "cell_type": "markdown",
   "metadata": {},
   "source": [
    "#### Notes\n",
    "\n",
    "* It appears that the failed MAGs are a result of lack of coverage"
   ]
  },
  {
   "cell_type": "markdown",
   "metadata": {},
   "source": [
    "# Summarizing results"
   ]
  },
  {
   "cell_type": "code",
   "execution_count": 45,
   "metadata": {
    "ExecuteTime": {
     "end_time": "2019-07-26T07:37:28.797803Z",
     "start_time": "2019-07-26T07:37:28.615Z"
    }
   },
   "outputs": [
    {
     "name": "stdout",
     "output_type": "stream",
     "text": [
      "[1] 1480\n"
     ]
    },
    {
     "data": {
      "text/html": [
       "<ol class=list-inline>\n",
       "\t<li>'/ebio/abt3_projects/databases_no-backup/DeepMAsED/MAG_datasets/AlmeidaA-2019/samples_n143_MAG-feats/ALE//DRR042488_bin_11.txt'</li>\n",
       "\t<li>'/ebio/abt3_projects/databases_no-backup/DeepMAsED/MAG_datasets/AlmeidaA-2019/samples_n143_MAG-feats/ALE//DRR042488_bin_13.txt'</li>\n",
       "\t<li>'/ebio/abt3_projects/databases_no-backup/DeepMAsED/MAG_datasets/AlmeidaA-2019/samples_n143_MAG-feats/ALE//DRR042488_bin_14.txt'</li>\n",
       "\t<li>'/ebio/abt3_projects/databases_no-backup/DeepMAsED/MAG_datasets/AlmeidaA-2019/samples_n143_MAG-feats/ALE//DRR042488_bin_15.txt'</li>\n",
       "\t<li>'/ebio/abt3_projects/databases_no-backup/DeepMAsED/MAG_datasets/AlmeidaA-2019/samples_n143_MAG-feats/ALE//DRR042488_bin_20.txt'</li>\n",
       "\t<li>'/ebio/abt3_projects/databases_no-backup/DeepMAsED/MAG_datasets/AlmeidaA-2019/samples_n143_MAG-feats/ALE//DRR042488_bin_22.txt'</li>\n",
       "</ol>\n"
      ],
      "text/latex": [
       "\\begin{enumerate*}\n",
       "\\item '/ebio/abt3\\_projects/databases\\_no-backup/DeepMAsED/MAG\\_datasets/AlmeidaA-2019/samples\\_n143\\_MAG-feats/ALE//DRR042488\\_bin\\_11.txt'\n",
       "\\item '/ebio/abt3\\_projects/databases\\_no-backup/DeepMAsED/MAG\\_datasets/AlmeidaA-2019/samples\\_n143\\_MAG-feats/ALE//DRR042488\\_bin\\_13.txt'\n",
       "\\item '/ebio/abt3\\_projects/databases\\_no-backup/DeepMAsED/MAG\\_datasets/AlmeidaA-2019/samples\\_n143\\_MAG-feats/ALE//DRR042488\\_bin\\_14.txt'\n",
       "\\item '/ebio/abt3\\_projects/databases\\_no-backup/DeepMAsED/MAG\\_datasets/AlmeidaA-2019/samples\\_n143\\_MAG-feats/ALE//DRR042488\\_bin\\_15.txt'\n",
       "\\item '/ebio/abt3\\_projects/databases\\_no-backup/DeepMAsED/MAG\\_datasets/AlmeidaA-2019/samples\\_n143\\_MAG-feats/ALE//DRR042488\\_bin\\_20.txt'\n",
       "\\item '/ebio/abt3\\_projects/databases\\_no-backup/DeepMAsED/MAG\\_datasets/AlmeidaA-2019/samples\\_n143\\_MAG-feats/ALE//DRR042488\\_bin\\_22.txt'\n",
       "\\end{enumerate*}\n"
      ],
      "text/markdown": [
       "1. '/ebio/abt3_projects/databases_no-backup/DeepMAsED/MAG_datasets/AlmeidaA-2019/samples_n143_MAG-feats/ALE//DRR042488_bin_11.txt'\n",
       "2. '/ebio/abt3_projects/databases_no-backup/DeepMAsED/MAG_datasets/AlmeidaA-2019/samples_n143_MAG-feats/ALE//DRR042488_bin_13.txt'\n",
       "3. '/ebio/abt3_projects/databases_no-backup/DeepMAsED/MAG_datasets/AlmeidaA-2019/samples_n143_MAG-feats/ALE//DRR042488_bin_14.txt'\n",
       "4. '/ebio/abt3_projects/databases_no-backup/DeepMAsED/MAG_datasets/AlmeidaA-2019/samples_n143_MAG-feats/ALE//DRR042488_bin_15.txt'\n",
       "5. '/ebio/abt3_projects/databases_no-backup/DeepMAsED/MAG_datasets/AlmeidaA-2019/samples_n143_MAG-feats/ALE//DRR042488_bin_20.txt'\n",
       "6. '/ebio/abt3_projects/databases_no-backup/DeepMAsED/MAG_datasets/AlmeidaA-2019/samples_n143_MAG-feats/ALE//DRR042488_bin_22.txt'\n",
       "\n",
       "\n"
      ],
      "text/plain": [
       "[1] \"/ebio/abt3_projects/databases_no-backup/DeepMAsED/MAG_datasets/AlmeidaA-2019/samples_n143_MAG-feats/ALE//DRR042488_bin_11.txt\"\n",
       "[2] \"/ebio/abt3_projects/databases_no-backup/DeepMAsED/MAG_datasets/AlmeidaA-2019/samples_n143_MAG-feats/ALE//DRR042488_bin_13.txt\"\n",
       "[3] \"/ebio/abt3_projects/databases_no-backup/DeepMAsED/MAG_datasets/AlmeidaA-2019/samples_n143_MAG-feats/ALE//DRR042488_bin_14.txt\"\n",
       "[4] \"/ebio/abt3_projects/databases_no-backup/DeepMAsED/MAG_datasets/AlmeidaA-2019/samples_n143_MAG-feats/ALE//DRR042488_bin_15.txt\"\n",
       "[5] \"/ebio/abt3_projects/databases_no-backup/DeepMAsED/MAG_datasets/AlmeidaA-2019/samples_n143_MAG-feats/ALE//DRR042488_bin_20.txt\"\n",
       "[6] \"/ebio/abt3_projects/databases_no-backup/DeepMAsED/MAG_datasets/AlmeidaA-2019/samples_n143_MAG-feats/ALE//DRR042488_bin_22.txt\""
      ]
     },
     "metadata": {},
     "output_type": "display_data"
    }
   ],
   "source": [
    "ALE_res_files = list.files(work_dir, '*.txt$', recursive=TRUE, full.names=TRUE)\n",
    "ALE_res_files %>% length %>% print\n",
    "ALE_res_files %>% head"
   ]
  },
  {
   "cell_type": "code",
   "execution_count": 46,
   "metadata": {
    "ExecuteTime": {
     "end_time": "2019-07-26T07:38:24.147880Z",
     "start_time": "2019-07-26T07:38:24.117Z"
    }
   },
   "outputs": [],
   "source": [
    "read_ALE_files = function(in_file){\n",
    "    # input command\n",
    "    cmd = 'egrep -v \"^#\" {in_file}'\n",
    "    cmd = glue::glue(cmd, in_file=in_file)\n",
    "    # reading in table\n",
    "    df = fread(cmd, sep=' ', header=FALSE)\n",
    "    # formatting\n",
    "    colnames(df) = c('contig', 'position', 'depth', \n",
    "                     'ln__depthLike', 'ln__placeLike', \n",
    "                     'ln__insertLike', 'ln__kmerLike')\n",
    "    df$Sample = in_file %>% basename %>% gsub('_bin.+', '', .)\n",
    "    df$MAG = in_file %>% basename %>% gsub('\\\\.txt$', '', .)\n",
    "    return(df)\n",
    "}"
   ]
  },
  {
   "cell_type": "code",
   "execution_count": null,
   "metadata": {
    "ExecuteTime": {
     "start_time": "2019-07-26T07:38:41.613Z"
    }
   },
   "outputs": [],
   "source": [
    "doParallel::registerDoParallel(threads)\n",
    "ALE_res = plyr::llply(as.list(ALE_res_files), read_ALE_files, .parallel=TRUE) %>%\n",
    "    do.call(rbind, .)\n",
    "\n",
    "ALE_res %>% nrow %>% print\n",
    "ALE_res %>% head(n=3)"
   ]
  },
  {
   "cell_type": "markdown",
   "metadata": {},
   "source": [
    "## Writing combined ALE resutls"
   ]
  },
  {
   "cell_type": "markdown",
   "metadata": {},
   "source": [
    "#### WARNING\n",
    "\n",
    "* had to cancel this job, given that it was using ~500 GB of memory and taking >48 hours"
   ]
  },
  {
   "cell_type": "code",
   "execution_count": null,
   "metadata": {
    "ExecuteTime": {
     "start_time": "2019-07-26T07:39:29.150Z"
    }
   },
   "outputs": [],
   "source": [
    "out_file = file.path(work_dir, 'ALE_results.tsv')\n",
    "ALE_res %>%\n",
    "    write.table(file=out_file, sep='\\t', quote=FALSE, row.names=FALSE)\n",
    "cat('File written:', out_file, '\\n')"
   ]
  },
  {
   "cell_type": "code",
   "execution_count": null,
   "metadata": {
    "ExecuteTime": {
     "start_time": "2019-07-26T07:39:35.137Z"
    }
   },
   "outputs": [],
   "source": [
    "ALE_res = NULL"
   ]
  },
  {
   "cell_type": "markdown",
   "metadata": {},
   "source": [
    "# sessionInfo"
   ]
  },
  {
   "cell_type": "code",
   "execution_count": null,
   "metadata": {
    "ExecuteTime": {
     "start_time": "2019-07-29T07:42:29.183Z"
    }
   },
   "outputs": [],
   "source": [
    "sessionInfo()"
   ]
  },
  {
   "cell_type": "code",
   "execution_count": null,
   "metadata": {},
   "outputs": [],
   "source": []
  }
 ],
 "metadata": {
  "kernelspec": {
   "display_name": "R [conda env:py3_physeq]",
   "language": "R",
   "name": "conda-env-py3_physeq-r"
  },
  "language_info": {
   "codemirror_mode": "r",
   "file_extension": ".r",
   "mimetype": "text/x-r-source",
   "name": "R",
   "pygments_lexer": "r",
   "version": "3.4.1"
  },
  "notify_time": "30",
  "toc": {
   "base_numbering": 1,
   "nav_menu": {},
   "number_sections": true,
   "sideBar": true,
   "skip_h1_title": false,
   "title_cell": "Table of Contents",
   "title_sidebar": "Contents",
   "toc_cell": true,
   "toc_position": {},
   "toc_section_display": true,
   "toc_window_display": true
  }
 },
 "nbformat": 4,
 "nbformat_minor": 2
}
