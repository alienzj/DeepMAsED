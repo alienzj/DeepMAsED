{
 "cells": [
  {
   "cell_type": "markdown",
   "metadata": {
    "toc": true
   },
   "source": [
    "<h1>Table of Contents<span class=\"tocSkip\"></span></h1>\n",
    "<div class=\"toc\"><ul class=\"toc-item\"><li><span><a href=\"#Goal\" data-toc-modified-id=\"Goal-1\"><span class=\"toc-item-num\">1&nbsp;&nbsp;</span>Goal</a></span></li><li><span><a href=\"#Var\" data-toc-modified-id=\"Var-2\"><span class=\"toc-item-num\">2&nbsp;&nbsp;</span>Var</a></span></li><li><span><a href=\"#Init\" data-toc-modified-id=\"Init-3\"><span class=\"toc-item-num\">3&nbsp;&nbsp;</span>Init</a></span></li><li><span><a href=\"#Load\" data-toc-modified-id=\"Load-4\"><span class=\"toc-item-num\">4&nbsp;&nbsp;</span>Load</a></span></li><li><span><a href=\"#Running-ALE\" data-toc-modified-id=\"Running-ALE-5\"><span class=\"toc-item-num\">5&nbsp;&nbsp;</span>Running ALE</a></span><ul class=\"toc-item\"><li><span><a href=\"#Finding-failed-jobs\" data-toc-modified-id=\"Finding-failed-jobs-5.1\"><span class=\"toc-item-num\">5.1&nbsp;&nbsp;</span>Finding failed jobs</a></span></li><li><span><a href=\"#ALE-on-failed-jobs\" data-toc-modified-id=\"ALE-on-failed-jobs-5.2\"><span class=\"toc-item-num\">5.2&nbsp;&nbsp;</span>ALE on failed jobs</a></span></li><li><span><a href=\"#Finding-failed-jobs\" data-toc-modified-id=\"Finding-failed-jobs-5.3\"><span class=\"toc-item-num\">5.3&nbsp;&nbsp;</span>Finding failed jobs</a></span><ul class=\"toc-item\"><li><ul class=\"toc-item\"><li><span><a href=\"#Notes\" data-toc-modified-id=\"Notes-5.3.0.1\"><span class=\"toc-item-num\">5.3.0.1&nbsp;&nbsp;</span>Notes</a></span></li></ul></li></ul></li></ul></li><li><span><a href=\"#Summarizing-results\" data-toc-modified-id=\"Summarizing-results-6\"><span class=\"toc-item-num\">6&nbsp;&nbsp;</span>Summarizing results</a></span></li><li><span><a href=\"#sessionInfo\" data-toc-modified-id=\"sessionInfo-7\"><span class=\"toc-item-num\">7&nbsp;&nbsp;</span>sessionInfo</a></span></li></ul></div>"
   ]
  },
  {
   "cell_type": "markdown",
   "metadata": {},
   "source": [
    "# Goal\n",
    "\n",
    "* run ALE on AlmeidaA-2019 MAGs (those selected for analysis with DeepMAsED)"
   ]
  },
  {
   "cell_type": "markdown",
   "metadata": {},
   "source": [
    "# Var"
   ]
  },
  {
   "cell_type": "code",
   "execution_count": 20,
   "metadata": {
    "ExecuteTime": {
     "end_time": "2019-07-29T07:48:52.148762Z",
     "start_time": "2019-07-29T07:48:52.084Z"
    }
   },
   "outputs": [],
   "source": [
    "work_dir = '/ebio/abt3_projects/databases_no-backup/DeepMAsED/MAG_datasets/PasolliE-2019/samples_Almeida-Pasolli/ALE/'\n",
    "\n",
    "# file of MAGs used for DeepMAsED analysis \n",
    "MAGs_n143_file = '/ebio/abt3_projects/databases_no-backup/DeepMAsED/MAG_datasets/PasolliE-2019//samples_Almeida-Pasolli.txt'\n",
    "\n",
    "# bam file dir (mapping of metagenome reads to corresponding MAGs)\n",
    "map_dir = '/ebio/abt3_projects/databases_no-backup/DeepMAsED/MAG_datasets/PasolliE-2019/samples_Almeida-Pasolli/map/'\n",
    "\n",
    "# ALE executable\n",
    "ALE_exe = '/ebio/abt3_projects/databases_no-backup/DeepMAsED/bin/ALE/src/ALE'\n",
    "\n",
    "# params\n",
    "conda_env = 'base'\n",
    "threads = 24"
   ]
  },
  {
   "cell_type": "markdown",
   "metadata": {},
   "source": [
    "# Init"
   ]
  },
  {
   "cell_type": "code",
   "execution_count": 21,
   "metadata": {
    "ExecuteTime": {
     "end_time": "2019-07-29T07:48:52.416140Z",
     "start_time": "2019-07-29T07:48:52.334Z"
    }
   },
   "outputs": [],
   "source": [
    "library(dplyr)\n",
    "library(tidyr)\n",
    "library(ggplot2)\n",
    "library(data.table)\n",
    "library(doParallel)\n",
    "\n",
    "library(future)\n",
    "library(future.batchtools)\n",
    "library(future.apply)\n",
    "options(future.wait.interval = 2.0)"
   ]
  },
  {
   "cell_type": "markdown",
   "metadata": {},
   "source": [
    "# Load"
   ]
  },
  {
   "cell_type": "code",
   "execution_count": 31,
   "metadata": {
    "ExecuteTime": {
     "end_time": "2019-07-29T07:51:10.195324Z",
     "start_time": "2019-07-29T07:51:10.031Z"
    }
   },
   "outputs": [
    {
     "name": "stdout",
     "output_type": "stream",
     "text": [
      "[1] 1090\n",
      "[1] 1090\n"
     ]
    },
    {
     "data": {
      "text/html": [
       "<table>\n",
       "<thead><tr><th scope=col>Taxon</th><th scope=col>Fasta</th><th scope=col>Sample</th><th scope=col>Read1</th><th scope=col>Read2</th></tr></thead>\n",
       "<tbody>\n",
       "\t<tr><td>VogtmannE_2016__MMRS65205033ST_27_0_0__bin_43                                                                                                                         </td><td>/ebio/abt3_projects/databases_no-backup/DeepMAsED/MAG_datasets/PasolliE-2019/all_MAGs/SGB_genome_fastas_part1/1024/VogtmannE_2016__MMRS65205033ST-27-0-0__bin.43.fa.gz</td><td>ERR1293531                                                                                                                                                            </td><td>/ebio/abt3_projects/databases_no-backup/DeepMAsED/MAG_datasets/AlmeidaA-2019/LLMGQC/final/ERR1293531/R1_final.fq.gz                                                   </td><td>/ebio/abt3_projects/databases_no-backup/DeepMAsED/MAG_datasets/AlmeidaA-2019/LLMGQC/final/ERR1293531/R2_final.fq.gz                                                   </td></tr>\n",
       "\t<tr><td>VogtmannE_2016__MMRS51737257ST_27_0_0__bin_46                                                                                                                         </td><td>/ebio/abt3_projects/databases_no-backup/DeepMAsED/MAG_datasets/PasolliE-2019/all_MAGs/SGB_genome_fastas_part1/1408/VogtmannE_2016__MMRS51737257ST-27-0-0__bin.46.fa.gz</td><td>ERR1293612                                                                                                                                                            </td><td>/ebio/abt3_projects/databases_no-backup/DeepMAsED/MAG_datasets/AlmeidaA-2019/LLMGQC/final/ERR1293612/R1_final.fq.gz                                                   </td><td>/ebio/abt3_projects/databases_no-backup/DeepMAsED/MAG_datasets/AlmeidaA-2019/LLMGQC/final/ERR1293612/R2_final.fq.gz                                                   </td></tr>\n",
       "\t<tr><td>VogtmannE_2016__MMRS51737257ST_27_0_0__bin_34                                                                                                                         </td><td>/ebio/abt3_projects/databases_no-backup/DeepMAsED/MAG_datasets/PasolliE-2019/all_MAGs/SGB_genome_fastas_part1/1472/VogtmannE_2016__MMRS51737257ST-27-0-0__bin.34.fa.gz</td><td>ERR1293612                                                                                                                                                            </td><td>/ebio/abt3_projects/databases_no-backup/DeepMAsED/MAG_datasets/AlmeidaA-2019/LLMGQC/final/ERR1293612/R1_final.fq.gz                                                   </td><td>/ebio/abt3_projects/databases_no-backup/DeepMAsED/MAG_datasets/AlmeidaA-2019/LLMGQC/final/ERR1293612/R2_final.fq.gz                                                   </td></tr>\n",
       "</tbody>\n",
       "</table>\n"
      ],
      "text/latex": [
       "\\begin{tabular}{r|lllll}\n",
       " Taxon & Fasta & Sample & Read1 & Read2\\\\\n",
       "\\hline\n",
       "\t VogtmannE\\_2016\\_\\_MMRS65205033ST\\_27\\_0\\_0\\_\\_bin\\_43                                                                                                                                & /ebio/abt3\\_projects/databases\\_no-backup/DeepMAsED/MAG\\_datasets/PasolliE-2019/all\\_MAGs/SGB\\_genome\\_fastas\\_part1/1024/VogtmannE\\_2016\\_\\_MMRS65205033ST-27-0-0\\_\\_bin.43.fa.gz & ERR1293531                                                                                                                                                                                     & /ebio/abt3\\_projects/databases\\_no-backup/DeepMAsED/MAG\\_datasets/AlmeidaA-2019/LLMGQC/final/ERR1293531/R1\\_final.fq.gz                                                                    & /ebio/abt3\\_projects/databases\\_no-backup/DeepMAsED/MAG\\_datasets/AlmeidaA-2019/LLMGQC/final/ERR1293531/R2\\_final.fq.gz                                                                   \\\\\n",
       "\t VogtmannE\\_2016\\_\\_MMRS51737257ST\\_27\\_0\\_0\\_\\_bin\\_46                                                                                                                                & /ebio/abt3\\_projects/databases\\_no-backup/DeepMAsED/MAG\\_datasets/PasolliE-2019/all\\_MAGs/SGB\\_genome\\_fastas\\_part1/1408/VogtmannE\\_2016\\_\\_MMRS51737257ST-27-0-0\\_\\_bin.46.fa.gz & ERR1293612                                                                                                                                                                                     & /ebio/abt3\\_projects/databases\\_no-backup/DeepMAsED/MAG\\_datasets/AlmeidaA-2019/LLMGQC/final/ERR1293612/R1\\_final.fq.gz                                                                    & /ebio/abt3\\_projects/databases\\_no-backup/DeepMAsED/MAG\\_datasets/AlmeidaA-2019/LLMGQC/final/ERR1293612/R2\\_final.fq.gz                                                                   \\\\\n",
       "\t VogtmannE\\_2016\\_\\_MMRS51737257ST\\_27\\_0\\_0\\_\\_bin\\_34                                                                                                                                & /ebio/abt3\\_projects/databases\\_no-backup/DeepMAsED/MAG\\_datasets/PasolliE-2019/all\\_MAGs/SGB\\_genome\\_fastas\\_part1/1472/VogtmannE\\_2016\\_\\_MMRS51737257ST-27-0-0\\_\\_bin.34.fa.gz & ERR1293612                                                                                                                                                                                     & /ebio/abt3\\_projects/databases\\_no-backup/DeepMAsED/MAG\\_datasets/AlmeidaA-2019/LLMGQC/final/ERR1293612/R1\\_final.fq.gz                                                                    & /ebio/abt3\\_projects/databases\\_no-backup/DeepMAsED/MAG\\_datasets/AlmeidaA-2019/LLMGQC/final/ERR1293612/R2\\_final.fq.gz                                                                   \\\\\n",
       "\\end{tabular}\n"
      ],
      "text/markdown": [
       "\n",
       "Taxon | Fasta | Sample | Read1 | Read2 | \n",
       "|---|---|---|\n",
       "| VogtmannE_2016__MMRS65205033ST_27_0_0__bin_43                                                                                                                          | /ebio/abt3_projects/databases_no-backup/DeepMAsED/MAG_datasets/PasolliE-2019/all_MAGs/SGB_genome_fastas_part1/1024/VogtmannE_2016__MMRS65205033ST-27-0-0__bin.43.fa.gz | ERR1293531                                                                                                                                                             | /ebio/abt3_projects/databases_no-backup/DeepMAsED/MAG_datasets/AlmeidaA-2019/LLMGQC/final/ERR1293531/R1_final.fq.gz                                                    | /ebio/abt3_projects/databases_no-backup/DeepMAsED/MAG_datasets/AlmeidaA-2019/LLMGQC/final/ERR1293531/R2_final.fq.gz                                                    | \n",
       "| VogtmannE_2016__MMRS51737257ST_27_0_0__bin_46                                                                                                                          | /ebio/abt3_projects/databases_no-backup/DeepMAsED/MAG_datasets/PasolliE-2019/all_MAGs/SGB_genome_fastas_part1/1408/VogtmannE_2016__MMRS51737257ST-27-0-0__bin.46.fa.gz | ERR1293612                                                                                                                                                             | /ebio/abt3_projects/databases_no-backup/DeepMAsED/MAG_datasets/AlmeidaA-2019/LLMGQC/final/ERR1293612/R1_final.fq.gz                                                    | /ebio/abt3_projects/databases_no-backup/DeepMAsED/MAG_datasets/AlmeidaA-2019/LLMGQC/final/ERR1293612/R2_final.fq.gz                                                    | \n",
       "| VogtmannE_2016__MMRS51737257ST_27_0_0__bin_34                                                                                                                          | /ebio/abt3_projects/databases_no-backup/DeepMAsED/MAG_datasets/PasolliE-2019/all_MAGs/SGB_genome_fastas_part1/1472/VogtmannE_2016__MMRS51737257ST-27-0-0__bin.34.fa.gz | ERR1293612                                                                                                                                                             | /ebio/abt3_projects/databases_no-backup/DeepMAsED/MAG_datasets/AlmeidaA-2019/LLMGQC/final/ERR1293612/R1_final.fq.gz                                                    | /ebio/abt3_projects/databases_no-backup/DeepMAsED/MAG_datasets/AlmeidaA-2019/LLMGQC/final/ERR1293612/R2_final.fq.gz                                                    | \n",
       "\n",
       "\n"
      ],
      "text/plain": [
       "  Taxon                                        \n",
       "1 VogtmannE_2016__MMRS65205033ST_27_0_0__bin_43\n",
       "2 VogtmannE_2016__MMRS51737257ST_27_0_0__bin_46\n",
       "3 VogtmannE_2016__MMRS51737257ST_27_0_0__bin_34\n",
       "  Fasta                                                                                                                                                                 \n",
       "1 /ebio/abt3_projects/databases_no-backup/DeepMAsED/MAG_datasets/PasolliE-2019/all_MAGs/SGB_genome_fastas_part1/1024/VogtmannE_2016__MMRS65205033ST-27-0-0__bin.43.fa.gz\n",
       "2 /ebio/abt3_projects/databases_no-backup/DeepMAsED/MAG_datasets/PasolliE-2019/all_MAGs/SGB_genome_fastas_part1/1408/VogtmannE_2016__MMRS51737257ST-27-0-0__bin.46.fa.gz\n",
       "3 /ebio/abt3_projects/databases_no-backup/DeepMAsED/MAG_datasets/PasolliE-2019/all_MAGs/SGB_genome_fastas_part1/1472/VogtmannE_2016__MMRS51737257ST-27-0-0__bin.34.fa.gz\n",
       "  Sample    \n",
       "1 ERR1293531\n",
       "2 ERR1293612\n",
       "3 ERR1293612\n",
       "  Read1                                                                                                              \n",
       "1 /ebio/abt3_projects/databases_no-backup/DeepMAsED/MAG_datasets/AlmeidaA-2019/LLMGQC/final/ERR1293531/R1_final.fq.gz\n",
       "2 /ebio/abt3_projects/databases_no-backup/DeepMAsED/MAG_datasets/AlmeidaA-2019/LLMGQC/final/ERR1293612/R1_final.fq.gz\n",
       "3 /ebio/abt3_projects/databases_no-backup/DeepMAsED/MAG_datasets/AlmeidaA-2019/LLMGQC/final/ERR1293612/R1_final.fq.gz\n",
       "  Read2                                                                                                              \n",
       "1 /ebio/abt3_projects/databases_no-backup/DeepMAsED/MAG_datasets/AlmeidaA-2019/LLMGQC/final/ERR1293531/R2_final.fq.gz\n",
       "2 /ebio/abt3_projects/databases_no-backup/DeepMAsED/MAG_datasets/AlmeidaA-2019/LLMGQC/final/ERR1293612/R2_final.fq.gz\n",
       "3 /ebio/abt3_projects/databases_no-backup/DeepMAsED/MAG_datasets/AlmeidaA-2019/LLMGQC/final/ERR1293612/R2_final.fq.gz"
      ]
     },
     "metadata": {},
     "output_type": "display_data"
    }
   ],
   "source": [
    "MAGs_n143 = read.delim(MAGs_n143_file, sep='\\t') %>%\n",
    "    mutate(Taxon = gsub('[-.]', '_', Taxon))\n",
    "\n",
    "MAGs_n143 %>% nrow %>% print\n",
    "MAGs_n143$Taxon %>% unique %>% length %>% print\n",
    "MAGs_n143 %>% head(n=3)"
   ]
  },
  {
   "cell_type": "code",
   "execution_count": 32,
   "metadata": {
    "ExecuteTime": {
     "end_time": "2019-07-29T07:51:13.327796Z",
     "start_time": "2019-07-29T07:51:12.488Z"
    }
   },
   "outputs": [
    {
     "name": "stdout",
     "output_type": "stream",
     "text": [
      "[1] 1090\n"
     ]
    },
    {
     "data": {
      "text/html": [
       "<table>\n",
       "<thead><tr><th scope=col>Taxon</th><th scope=col>Bam</th></tr></thead>\n",
       "<tbody>\n",
       "\t<tr><td>BackhedF_2015__SID201_4M__bin_1                                                                                                                         </td><td>/ebio/abt3_projects/databases_no-backup/DeepMAsED/MAG_datasets/PasolliE-2019/samples_Almeida-Pasolli/map//BackhedF_2015__SID201_4M__bin_1/ERR525761.bam </td></tr>\n",
       "\t<tr><td>BackhedF_2015__SID201_4M__bin_10                                                                                                                        </td><td>/ebio/abt3_projects/databases_no-backup/DeepMAsED/MAG_datasets/PasolliE-2019/samples_Almeida-Pasolli/map//BackhedF_2015__SID201_4M__bin_10/ERR525761.bam</td></tr>\n",
       "\t<tr><td>BackhedF_2015__SID201_4M__bin_12                                                                                                                        </td><td>/ebio/abt3_projects/databases_no-backup/DeepMAsED/MAG_datasets/PasolliE-2019/samples_Almeida-Pasolli/map//BackhedF_2015__SID201_4M__bin_12/ERR525761.bam</td></tr>\n",
       "</tbody>\n",
       "</table>\n"
      ],
      "text/latex": [
       "\\begin{tabular}{r|ll}\n",
       " Taxon & Bam\\\\\n",
       "\\hline\n",
       "\t BackhedF\\_2015\\_\\_SID201\\_4M\\_\\_bin\\_1                                                                                                                                  & /ebio/abt3\\_projects/databases\\_no-backup/DeepMAsED/MAG\\_datasets/PasolliE-2019/samples\\_Almeida-Pasolli/map//BackhedF\\_2015\\_\\_SID201\\_4M\\_\\_bin\\_1/ERR525761.bam \\\\\n",
       "\t BackhedF\\_2015\\_\\_SID201\\_4M\\_\\_bin\\_10                                                                                                                                 & /ebio/abt3\\_projects/databases\\_no-backup/DeepMAsED/MAG\\_datasets/PasolliE-2019/samples\\_Almeida-Pasolli/map//BackhedF\\_2015\\_\\_SID201\\_4M\\_\\_bin\\_10/ERR525761.bam\\\\\n",
       "\t BackhedF\\_2015\\_\\_SID201\\_4M\\_\\_bin\\_12                                                                                                                                 & /ebio/abt3\\_projects/databases\\_no-backup/DeepMAsED/MAG\\_datasets/PasolliE-2019/samples\\_Almeida-Pasolli/map//BackhedF\\_2015\\_\\_SID201\\_4M\\_\\_bin\\_12/ERR525761.bam\\\\\n",
       "\\end{tabular}\n"
      ],
      "text/markdown": [
       "\n",
       "Taxon | Bam | \n",
       "|---|---|---|\n",
       "| BackhedF_2015__SID201_4M__bin_1                                                                                                                          | /ebio/abt3_projects/databases_no-backup/DeepMAsED/MAG_datasets/PasolliE-2019/samples_Almeida-Pasolli/map//BackhedF_2015__SID201_4M__bin_1/ERR525761.bam  | \n",
       "| BackhedF_2015__SID201_4M__bin_10                                                                                                                         | /ebio/abt3_projects/databases_no-backup/DeepMAsED/MAG_datasets/PasolliE-2019/samples_Almeida-Pasolli/map//BackhedF_2015__SID201_4M__bin_10/ERR525761.bam | \n",
       "| BackhedF_2015__SID201_4M__bin_12                                                                                                                         | /ebio/abt3_projects/databases_no-backup/DeepMAsED/MAG_datasets/PasolliE-2019/samples_Almeida-Pasolli/map//BackhedF_2015__SID201_4M__bin_12/ERR525761.bam | \n",
       "\n",
       "\n"
      ],
      "text/plain": [
       "  Taxon                           \n",
       "1 BackhedF_2015__SID201_4M__bin_1 \n",
       "2 BackhedF_2015__SID201_4M__bin_10\n",
       "3 BackhedF_2015__SID201_4M__bin_12\n",
       "  Bam                                                                                                                                                     \n",
       "1 /ebio/abt3_projects/databases_no-backup/DeepMAsED/MAG_datasets/PasolliE-2019/samples_Almeida-Pasolli/map//BackhedF_2015__SID201_4M__bin_1/ERR525761.bam \n",
       "2 /ebio/abt3_projects/databases_no-backup/DeepMAsED/MAG_datasets/PasolliE-2019/samples_Almeida-Pasolli/map//BackhedF_2015__SID201_4M__bin_10/ERR525761.bam\n",
       "3 /ebio/abt3_projects/databases_no-backup/DeepMAsED/MAG_datasets/PasolliE-2019/samples_Almeida-Pasolli/map//BackhedF_2015__SID201_4M__bin_12/ERR525761.bam"
      ]
     },
     "metadata": {},
     "output_type": "display_data"
    }
   ],
   "source": [
    "# adding bam files\n",
    "bam_files = list.files(map_dir, '*.bam$', recursive=TRUE, full.names=TRUE)\n",
    "bam_files = data.frame(Taxon = bam_files %>% dirname %>% basename,\n",
    "                       Bam = bam_files)\n",
    "\n",
    "bam_files %>% nrow %>% print\n",
    "bam_files %>% head(n=3)"
   ]
  },
  {
   "cell_type": "code",
   "execution_count": 33,
   "metadata": {
    "ExecuteTime": {
     "end_time": "2019-07-29T07:51:13.619557Z",
     "start_time": "2019-07-29T07:51:13.550Z"
    }
   },
   "outputs": [
    {
     "data": {
      "text/html": [
       "0"
      ],
      "text/latex": [
       "0"
      ],
      "text/markdown": [
       "0"
      ],
      "text/plain": [
       "[1] 0"
      ]
     },
     "metadata": {},
     "output_type": "display_data"
    },
    {
     "data": {
      "text/html": [
       "0"
      ],
      "text/latex": [
       "0"
      ],
      "text/markdown": [
       "0"
      ],
      "text/plain": [
       "[1] 0"
      ]
     },
     "metadata": {},
     "output_type": "display_data"
    }
   ],
   "source": [
    "setdiff(MAGs_n143$Taxon, bam_files$Taxon) %>% length\n",
    "setdiff(bam_files$Taxon, MAGs_n143$Taxon) %>% length"
   ]
  },
  {
   "cell_type": "code",
   "execution_count": 34,
   "metadata": {
    "ExecuteTime": {
     "end_time": "2019-07-29T07:51:34.402739Z",
     "start_time": "2019-07-29T07:51:34.032Z"
    }
   },
   "outputs": [
    {
     "name": "stdout",
     "output_type": "stream",
     "text": [
      "[1] 1090\n"
     ]
    },
    {
     "name": "stderr",
     "output_type": "stream",
     "text": [
      "Warning message:\n",
      "“Column `Taxon` joining character vector and factor, coercing into character vector”"
     ]
    },
    {
     "name": "stdout",
     "output_type": "stream",
     "text": [
      "[1] 1090\n"
     ]
    },
    {
     "data": {
      "text/html": [
       "<table>\n",
       "<thead><tr><th scope=col>Taxon</th><th scope=col>Fasta</th><th scope=col>Sample</th><th scope=col>Read1</th><th scope=col>Read2</th><th scope=col>Bam</th></tr></thead>\n",
       "<tbody>\n",
       "\t<tr><td>VogtmannE_2016__MMRS65205033ST_27_0_0__bin_43                                                                                                                         </td><td>/ebio/abt3_projects/databases_no-backup/DeepMAsED/MAG_datasets/PasolliE-2019/all_MAGs/SGB_genome_fastas_part1/1024/VogtmannE_2016__MMRS65205033ST-27-0-0__bin.43.fa.gz</td><td>ERR1293531                                                                                                                                                            </td><td>/ebio/abt3_projects/databases_no-backup/DeepMAsED/MAG_datasets/AlmeidaA-2019/LLMGQC/final/ERR1293531/R1_final.fq.gz                                                   </td><td>/ebio/abt3_projects/databases_no-backup/DeepMAsED/MAG_datasets/AlmeidaA-2019/LLMGQC/final/ERR1293531/R2_final.fq.gz                                                   </td><td>/ebio/abt3_projects/databases_no-backup/DeepMAsED/MAG_datasets/PasolliE-2019/samples_Almeida-Pasolli/map//VogtmannE_2016__MMRS65205033ST_27_0_0__bin_43/ERR1293531.bam</td></tr>\n",
       "\t<tr><td>VogtmannE_2016__MMRS51737257ST_27_0_0__bin_46                                                                                                                         </td><td>/ebio/abt3_projects/databases_no-backup/DeepMAsED/MAG_datasets/PasolliE-2019/all_MAGs/SGB_genome_fastas_part1/1408/VogtmannE_2016__MMRS51737257ST-27-0-0__bin.46.fa.gz</td><td>ERR1293612                                                                                                                                                            </td><td>/ebio/abt3_projects/databases_no-backup/DeepMAsED/MAG_datasets/AlmeidaA-2019/LLMGQC/final/ERR1293612/R1_final.fq.gz                                                   </td><td>/ebio/abt3_projects/databases_no-backup/DeepMAsED/MAG_datasets/AlmeidaA-2019/LLMGQC/final/ERR1293612/R2_final.fq.gz                                                   </td><td>/ebio/abt3_projects/databases_no-backup/DeepMAsED/MAG_datasets/PasolliE-2019/samples_Almeida-Pasolli/map//VogtmannE_2016__MMRS51737257ST_27_0_0__bin_46/ERR1293612.bam</td></tr>\n",
       "\t<tr><td>VogtmannE_2016__MMRS51737257ST_27_0_0__bin_34                                                                                                                         </td><td>/ebio/abt3_projects/databases_no-backup/DeepMAsED/MAG_datasets/PasolliE-2019/all_MAGs/SGB_genome_fastas_part1/1472/VogtmannE_2016__MMRS51737257ST-27-0-0__bin.34.fa.gz</td><td>ERR1293612                                                                                                                                                            </td><td>/ebio/abt3_projects/databases_no-backup/DeepMAsED/MAG_datasets/AlmeidaA-2019/LLMGQC/final/ERR1293612/R1_final.fq.gz                                                   </td><td>/ebio/abt3_projects/databases_no-backup/DeepMAsED/MAG_datasets/AlmeidaA-2019/LLMGQC/final/ERR1293612/R2_final.fq.gz                                                   </td><td>/ebio/abt3_projects/databases_no-backup/DeepMAsED/MAG_datasets/PasolliE-2019/samples_Almeida-Pasolli/map//VogtmannE_2016__MMRS51737257ST_27_0_0__bin_34/ERR1293612.bam</td></tr>\n",
       "</tbody>\n",
       "</table>\n"
      ],
      "text/latex": [
       "\\begin{tabular}{r|llllll}\n",
       " Taxon & Fasta & Sample & Read1 & Read2 & Bam\\\\\n",
       "\\hline\n",
       "\t VogtmannE\\_2016\\_\\_MMRS65205033ST\\_27\\_0\\_0\\_\\_bin\\_43                                                                                                                                  & /ebio/abt3\\_projects/databases\\_no-backup/DeepMAsED/MAG\\_datasets/PasolliE-2019/all\\_MAGs/SGB\\_genome\\_fastas\\_part1/1024/VogtmannE\\_2016\\_\\_MMRS65205033ST-27-0-0\\_\\_bin.43.fa.gz   & ERR1293531                                                                                                                                                                                       & /ebio/abt3\\_projects/databases\\_no-backup/DeepMAsED/MAG\\_datasets/AlmeidaA-2019/LLMGQC/final/ERR1293531/R1\\_final.fq.gz                                                                      & /ebio/abt3\\_projects/databases\\_no-backup/DeepMAsED/MAG\\_datasets/AlmeidaA-2019/LLMGQC/final/ERR1293531/R2\\_final.fq.gz                                                                      & /ebio/abt3\\_projects/databases\\_no-backup/DeepMAsED/MAG\\_datasets/PasolliE-2019/samples\\_Almeida-Pasolli/map//VogtmannE\\_2016\\_\\_MMRS65205033ST\\_27\\_0\\_0\\_\\_bin\\_43/ERR1293531.bam\\\\\n",
       "\t VogtmannE\\_2016\\_\\_MMRS51737257ST\\_27\\_0\\_0\\_\\_bin\\_46                                                                                                                                  & /ebio/abt3\\_projects/databases\\_no-backup/DeepMAsED/MAG\\_datasets/PasolliE-2019/all\\_MAGs/SGB\\_genome\\_fastas\\_part1/1408/VogtmannE\\_2016\\_\\_MMRS51737257ST-27-0-0\\_\\_bin.46.fa.gz   & ERR1293612                                                                                                                                                                                       & /ebio/abt3\\_projects/databases\\_no-backup/DeepMAsED/MAG\\_datasets/AlmeidaA-2019/LLMGQC/final/ERR1293612/R1\\_final.fq.gz                                                                      & /ebio/abt3\\_projects/databases\\_no-backup/DeepMAsED/MAG\\_datasets/AlmeidaA-2019/LLMGQC/final/ERR1293612/R2\\_final.fq.gz                                                                      & /ebio/abt3\\_projects/databases\\_no-backup/DeepMAsED/MAG\\_datasets/PasolliE-2019/samples\\_Almeida-Pasolli/map//VogtmannE\\_2016\\_\\_MMRS51737257ST\\_27\\_0\\_0\\_\\_bin\\_46/ERR1293612.bam\\\\\n",
       "\t VogtmannE\\_2016\\_\\_MMRS51737257ST\\_27\\_0\\_0\\_\\_bin\\_34                                                                                                                                  & /ebio/abt3\\_projects/databases\\_no-backup/DeepMAsED/MAG\\_datasets/PasolliE-2019/all\\_MAGs/SGB\\_genome\\_fastas\\_part1/1472/VogtmannE\\_2016\\_\\_MMRS51737257ST-27-0-0\\_\\_bin.34.fa.gz   & ERR1293612                                                                                                                                                                                       & /ebio/abt3\\_projects/databases\\_no-backup/DeepMAsED/MAG\\_datasets/AlmeidaA-2019/LLMGQC/final/ERR1293612/R1\\_final.fq.gz                                                                      & /ebio/abt3\\_projects/databases\\_no-backup/DeepMAsED/MAG\\_datasets/AlmeidaA-2019/LLMGQC/final/ERR1293612/R2\\_final.fq.gz                                                                      & /ebio/abt3\\_projects/databases\\_no-backup/DeepMAsED/MAG\\_datasets/PasolliE-2019/samples\\_Almeida-Pasolli/map//VogtmannE\\_2016\\_\\_MMRS51737257ST\\_27\\_0\\_0\\_\\_bin\\_34/ERR1293612.bam\\\\\n",
       "\\end{tabular}\n"
      ],
      "text/markdown": [
       "\n",
       "Taxon | Fasta | Sample | Read1 | Read2 | Bam | \n",
       "|---|---|---|\n",
       "| VogtmannE_2016__MMRS65205033ST_27_0_0__bin_43                                                                                                                          | /ebio/abt3_projects/databases_no-backup/DeepMAsED/MAG_datasets/PasolliE-2019/all_MAGs/SGB_genome_fastas_part1/1024/VogtmannE_2016__MMRS65205033ST-27-0-0__bin.43.fa.gz | ERR1293531                                                                                                                                                             | /ebio/abt3_projects/databases_no-backup/DeepMAsED/MAG_datasets/AlmeidaA-2019/LLMGQC/final/ERR1293531/R1_final.fq.gz                                                    | /ebio/abt3_projects/databases_no-backup/DeepMAsED/MAG_datasets/AlmeidaA-2019/LLMGQC/final/ERR1293531/R2_final.fq.gz                                                    | /ebio/abt3_projects/databases_no-backup/DeepMAsED/MAG_datasets/PasolliE-2019/samples_Almeida-Pasolli/map//VogtmannE_2016__MMRS65205033ST_27_0_0__bin_43/ERR1293531.bam | \n",
       "| VogtmannE_2016__MMRS51737257ST_27_0_0__bin_46                                                                                                                          | /ebio/abt3_projects/databases_no-backup/DeepMAsED/MAG_datasets/PasolliE-2019/all_MAGs/SGB_genome_fastas_part1/1408/VogtmannE_2016__MMRS51737257ST-27-0-0__bin.46.fa.gz | ERR1293612                                                                                                                                                             | /ebio/abt3_projects/databases_no-backup/DeepMAsED/MAG_datasets/AlmeidaA-2019/LLMGQC/final/ERR1293612/R1_final.fq.gz                                                    | /ebio/abt3_projects/databases_no-backup/DeepMAsED/MAG_datasets/AlmeidaA-2019/LLMGQC/final/ERR1293612/R2_final.fq.gz                                                    | /ebio/abt3_projects/databases_no-backup/DeepMAsED/MAG_datasets/PasolliE-2019/samples_Almeida-Pasolli/map//VogtmannE_2016__MMRS51737257ST_27_0_0__bin_46/ERR1293612.bam | \n",
       "| VogtmannE_2016__MMRS51737257ST_27_0_0__bin_34                                                                                                                          | /ebio/abt3_projects/databases_no-backup/DeepMAsED/MAG_datasets/PasolliE-2019/all_MAGs/SGB_genome_fastas_part1/1472/VogtmannE_2016__MMRS51737257ST-27-0-0__bin.34.fa.gz | ERR1293612                                                                                                                                                             | /ebio/abt3_projects/databases_no-backup/DeepMAsED/MAG_datasets/AlmeidaA-2019/LLMGQC/final/ERR1293612/R1_final.fq.gz                                                    | /ebio/abt3_projects/databases_no-backup/DeepMAsED/MAG_datasets/AlmeidaA-2019/LLMGQC/final/ERR1293612/R2_final.fq.gz                                                    | /ebio/abt3_projects/databases_no-backup/DeepMAsED/MAG_datasets/PasolliE-2019/samples_Almeida-Pasolli/map//VogtmannE_2016__MMRS51737257ST_27_0_0__bin_34/ERR1293612.bam | \n",
       "\n",
       "\n"
      ],
      "text/plain": [
       "  Taxon                                        \n",
       "1 VogtmannE_2016__MMRS65205033ST_27_0_0__bin_43\n",
       "2 VogtmannE_2016__MMRS51737257ST_27_0_0__bin_46\n",
       "3 VogtmannE_2016__MMRS51737257ST_27_0_0__bin_34\n",
       "  Fasta                                                                                                                                                                 \n",
       "1 /ebio/abt3_projects/databases_no-backup/DeepMAsED/MAG_datasets/PasolliE-2019/all_MAGs/SGB_genome_fastas_part1/1024/VogtmannE_2016__MMRS65205033ST-27-0-0__bin.43.fa.gz\n",
       "2 /ebio/abt3_projects/databases_no-backup/DeepMAsED/MAG_datasets/PasolliE-2019/all_MAGs/SGB_genome_fastas_part1/1408/VogtmannE_2016__MMRS51737257ST-27-0-0__bin.46.fa.gz\n",
       "3 /ebio/abt3_projects/databases_no-backup/DeepMAsED/MAG_datasets/PasolliE-2019/all_MAGs/SGB_genome_fastas_part1/1472/VogtmannE_2016__MMRS51737257ST-27-0-0__bin.34.fa.gz\n",
       "  Sample    \n",
       "1 ERR1293531\n",
       "2 ERR1293612\n",
       "3 ERR1293612\n",
       "  Read1                                                                                                              \n",
       "1 /ebio/abt3_projects/databases_no-backup/DeepMAsED/MAG_datasets/AlmeidaA-2019/LLMGQC/final/ERR1293531/R1_final.fq.gz\n",
       "2 /ebio/abt3_projects/databases_no-backup/DeepMAsED/MAG_datasets/AlmeidaA-2019/LLMGQC/final/ERR1293612/R1_final.fq.gz\n",
       "3 /ebio/abt3_projects/databases_no-backup/DeepMAsED/MAG_datasets/AlmeidaA-2019/LLMGQC/final/ERR1293612/R1_final.fq.gz\n",
       "  Read2                                                                                                              \n",
       "1 /ebio/abt3_projects/databases_no-backup/DeepMAsED/MAG_datasets/AlmeidaA-2019/LLMGQC/final/ERR1293531/R2_final.fq.gz\n",
       "2 /ebio/abt3_projects/databases_no-backup/DeepMAsED/MAG_datasets/AlmeidaA-2019/LLMGQC/final/ERR1293612/R2_final.fq.gz\n",
       "3 /ebio/abt3_projects/databases_no-backup/DeepMAsED/MAG_datasets/AlmeidaA-2019/LLMGQC/final/ERR1293612/R2_final.fq.gz\n",
       "  Bam                                                                                                                                                                   \n",
       "1 /ebio/abt3_projects/databases_no-backup/DeepMAsED/MAG_datasets/PasolliE-2019/samples_Almeida-Pasolli/map//VogtmannE_2016__MMRS65205033ST_27_0_0__bin_43/ERR1293531.bam\n",
       "2 /ebio/abt3_projects/databases_no-backup/DeepMAsED/MAG_datasets/PasolliE-2019/samples_Almeida-Pasolli/map//VogtmannE_2016__MMRS51737257ST_27_0_0__bin_46/ERR1293612.bam\n",
       "3 /ebio/abt3_projects/databases_no-backup/DeepMAsED/MAG_datasets/PasolliE-2019/samples_Almeida-Pasolli/map//VogtmannE_2016__MMRS51737257ST_27_0_0__bin_34/ERR1293612.bam"
      ]
     },
     "metadata": {},
     "output_type": "display_data"
    }
   ],
   "source": [
    "# joining\n",
    "intersect(MAGs_n143$Taxon, bam_files$Taxon) %>% length %>% print\n",
    "\n",
    "MAGs_n143 = MAGs_n143 %>%\n",
    "    inner_join(bam_files, c('Taxon'))\n",
    "\n",
    "MAGs_n143 %>% nrow %>% print\n",
    "MAGs_n143 %>% head(n=3)"
   ]
  },
  {
   "cell_type": "code",
   "execution_count": 35,
   "metadata": {
    "ExecuteTime": {
     "end_time": "2019-07-29T07:51:44.752265Z",
     "start_time": "2019-07-29T07:51:44.574Z"
    }
   },
   "outputs": [
    {
     "data": {
      "text/html": [
       "<table>\n",
       "<thead><tr><th scope=col>Taxon</th><th scope=col>Fasta</th><th scope=col>Sample</th><th scope=col>Read1</th><th scope=col>Read2</th><th scope=col>Bam</th><th scope=col>ALE</th></tr></thead>\n",
       "<tbody>\n",
       "\t<tr><td>VogtmannE_2016__MMRS65205033ST_27_0_0__bin_43                                                                                                                         </td><td>/ebio/abt3_projects/databases_no-backup/DeepMAsED/MAG_datasets/PasolliE-2019/all_MAGs/SGB_genome_fastas_part1/1024/VogtmannE_2016__MMRS65205033ST-27-0-0__bin.43.fa.gz</td><td>ERR1293531                                                                                                                                                            </td><td>/ebio/abt3_projects/databases_no-backup/DeepMAsED/MAG_datasets/AlmeidaA-2019/LLMGQC/final/ERR1293531/R1_final.fq.gz                                                   </td><td>/ebio/abt3_projects/databases_no-backup/DeepMAsED/MAG_datasets/AlmeidaA-2019/LLMGQC/final/ERR1293531/R2_final.fq.gz                                                   </td><td>/ebio/abt3_projects/databases_no-backup/DeepMAsED/MAG_datasets/PasolliE-2019/samples_Almeida-Pasolli/map//VogtmannE_2016__MMRS65205033ST_27_0_0__bin_43/ERR1293531.bam</td><td>/ebio/abt3_projects/databases_no-backup/DeepMAsED/MAG_datasets/PasolliE-2019/samples_Almeida-Pasolli/ALE//VogtmannE_2016__MMRS65205033ST_27_0_0__bin_43.txt           </td></tr>\n",
       "\t<tr><td>VogtmannE_2016__MMRS51737257ST_27_0_0__bin_46                                                                                                                         </td><td>/ebio/abt3_projects/databases_no-backup/DeepMAsED/MAG_datasets/PasolliE-2019/all_MAGs/SGB_genome_fastas_part1/1408/VogtmannE_2016__MMRS51737257ST-27-0-0__bin.46.fa.gz</td><td>ERR1293612                                                                                                                                                            </td><td>/ebio/abt3_projects/databases_no-backup/DeepMAsED/MAG_datasets/AlmeidaA-2019/LLMGQC/final/ERR1293612/R1_final.fq.gz                                                   </td><td>/ebio/abt3_projects/databases_no-backup/DeepMAsED/MAG_datasets/AlmeidaA-2019/LLMGQC/final/ERR1293612/R2_final.fq.gz                                                   </td><td>/ebio/abt3_projects/databases_no-backup/DeepMAsED/MAG_datasets/PasolliE-2019/samples_Almeida-Pasolli/map//VogtmannE_2016__MMRS51737257ST_27_0_0__bin_46/ERR1293612.bam</td><td>/ebio/abt3_projects/databases_no-backup/DeepMAsED/MAG_datasets/PasolliE-2019/samples_Almeida-Pasolli/ALE//VogtmannE_2016__MMRS51737257ST_27_0_0__bin_46.txt           </td></tr>\n",
       "\t<tr><td>VogtmannE_2016__MMRS51737257ST_27_0_0__bin_34                                                                                                                         </td><td>/ebio/abt3_projects/databases_no-backup/DeepMAsED/MAG_datasets/PasolliE-2019/all_MAGs/SGB_genome_fastas_part1/1472/VogtmannE_2016__MMRS51737257ST-27-0-0__bin.34.fa.gz</td><td>ERR1293612                                                                                                                                                            </td><td>/ebio/abt3_projects/databases_no-backup/DeepMAsED/MAG_datasets/AlmeidaA-2019/LLMGQC/final/ERR1293612/R1_final.fq.gz                                                   </td><td>/ebio/abt3_projects/databases_no-backup/DeepMAsED/MAG_datasets/AlmeidaA-2019/LLMGQC/final/ERR1293612/R2_final.fq.gz                                                   </td><td>/ebio/abt3_projects/databases_no-backup/DeepMAsED/MAG_datasets/PasolliE-2019/samples_Almeida-Pasolli/map//VogtmannE_2016__MMRS51737257ST_27_0_0__bin_34/ERR1293612.bam</td><td>/ebio/abt3_projects/databases_no-backup/DeepMAsED/MAG_datasets/PasolliE-2019/samples_Almeida-Pasolli/ALE//VogtmannE_2016__MMRS51737257ST_27_0_0__bin_34.txt           </td></tr>\n",
       "</tbody>\n",
       "</table>\n"
      ],
      "text/latex": [
       "\\begin{tabular}{r|lllllll}\n",
       " Taxon & Fasta & Sample & Read1 & Read2 & Bam & ALE\\\\\n",
       "\\hline\n",
       "\t VogtmannE\\_2016\\_\\_MMRS65205033ST\\_27\\_0\\_0\\_\\_bin\\_43                                                                                                                                  & /ebio/abt3\\_projects/databases\\_no-backup/DeepMAsED/MAG\\_datasets/PasolliE-2019/all\\_MAGs/SGB\\_genome\\_fastas\\_part1/1024/VogtmannE\\_2016\\_\\_MMRS65205033ST-27-0-0\\_\\_bin.43.fa.gz   & ERR1293531                                                                                                                                                                                       & /ebio/abt3\\_projects/databases\\_no-backup/DeepMAsED/MAG\\_datasets/AlmeidaA-2019/LLMGQC/final/ERR1293531/R1\\_final.fq.gz                                                                      & /ebio/abt3\\_projects/databases\\_no-backup/DeepMAsED/MAG\\_datasets/AlmeidaA-2019/LLMGQC/final/ERR1293531/R2\\_final.fq.gz                                                                      & /ebio/abt3\\_projects/databases\\_no-backup/DeepMAsED/MAG\\_datasets/PasolliE-2019/samples\\_Almeida-Pasolli/map//VogtmannE\\_2016\\_\\_MMRS65205033ST\\_27\\_0\\_0\\_\\_bin\\_43/ERR1293531.bam & /ebio/abt3\\_projects/databases\\_no-backup/DeepMAsED/MAG\\_datasets/PasolliE-2019/samples\\_Almeida-Pasolli/ALE//VogtmannE\\_2016\\_\\_MMRS65205033ST\\_27\\_0\\_0\\_\\_bin\\_43.txt           \\\\\n",
       "\t VogtmannE\\_2016\\_\\_MMRS51737257ST\\_27\\_0\\_0\\_\\_bin\\_46                                                                                                                                  & /ebio/abt3\\_projects/databases\\_no-backup/DeepMAsED/MAG\\_datasets/PasolliE-2019/all\\_MAGs/SGB\\_genome\\_fastas\\_part1/1408/VogtmannE\\_2016\\_\\_MMRS51737257ST-27-0-0\\_\\_bin.46.fa.gz   & ERR1293612                                                                                                                                                                                       & /ebio/abt3\\_projects/databases\\_no-backup/DeepMAsED/MAG\\_datasets/AlmeidaA-2019/LLMGQC/final/ERR1293612/R1\\_final.fq.gz                                                                      & /ebio/abt3\\_projects/databases\\_no-backup/DeepMAsED/MAG\\_datasets/AlmeidaA-2019/LLMGQC/final/ERR1293612/R2\\_final.fq.gz                                                                      & /ebio/abt3\\_projects/databases\\_no-backup/DeepMAsED/MAG\\_datasets/PasolliE-2019/samples\\_Almeida-Pasolli/map//VogtmannE\\_2016\\_\\_MMRS51737257ST\\_27\\_0\\_0\\_\\_bin\\_46/ERR1293612.bam & /ebio/abt3\\_projects/databases\\_no-backup/DeepMAsED/MAG\\_datasets/PasolliE-2019/samples\\_Almeida-Pasolli/ALE//VogtmannE\\_2016\\_\\_MMRS51737257ST\\_27\\_0\\_0\\_\\_bin\\_46.txt           \\\\\n",
       "\t VogtmannE\\_2016\\_\\_MMRS51737257ST\\_27\\_0\\_0\\_\\_bin\\_34                                                                                                                                  & /ebio/abt3\\_projects/databases\\_no-backup/DeepMAsED/MAG\\_datasets/PasolliE-2019/all\\_MAGs/SGB\\_genome\\_fastas\\_part1/1472/VogtmannE\\_2016\\_\\_MMRS51737257ST-27-0-0\\_\\_bin.34.fa.gz   & ERR1293612                                                                                                                                                                                       & /ebio/abt3\\_projects/databases\\_no-backup/DeepMAsED/MAG\\_datasets/AlmeidaA-2019/LLMGQC/final/ERR1293612/R1\\_final.fq.gz                                                                      & /ebio/abt3\\_projects/databases\\_no-backup/DeepMAsED/MAG\\_datasets/AlmeidaA-2019/LLMGQC/final/ERR1293612/R2\\_final.fq.gz                                                                      & /ebio/abt3\\_projects/databases\\_no-backup/DeepMAsED/MAG\\_datasets/PasolliE-2019/samples\\_Almeida-Pasolli/map//VogtmannE\\_2016\\_\\_MMRS51737257ST\\_27\\_0\\_0\\_\\_bin\\_34/ERR1293612.bam & /ebio/abt3\\_projects/databases\\_no-backup/DeepMAsED/MAG\\_datasets/PasolliE-2019/samples\\_Almeida-Pasolli/ALE//VogtmannE\\_2016\\_\\_MMRS51737257ST\\_27\\_0\\_0\\_\\_bin\\_34.txt           \\\\\n",
       "\\end{tabular}\n"
      ],
      "text/markdown": [
       "\n",
       "Taxon | Fasta | Sample | Read1 | Read2 | Bam | ALE | \n",
       "|---|---|---|\n",
       "| VogtmannE_2016__MMRS65205033ST_27_0_0__bin_43                                                                                                                          | /ebio/abt3_projects/databases_no-backup/DeepMAsED/MAG_datasets/PasolliE-2019/all_MAGs/SGB_genome_fastas_part1/1024/VogtmannE_2016__MMRS65205033ST-27-0-0__bin.43.fa.gz | ERR1293531                                                                                                                                                             | /ebio/abt3_projects/databases_no-backup/DeepMAsED/MAG_datasets/AlmeidaA-2019/LLMGQC/final/ERR1293531/R1_final.fq.gz                                                    | /ebio/abt3_projects/databases_no-backup/DeepMAsED/MAG_datasets/AlmeidaA-2019/LLMGQC/final/ERR1293531/R2_final.fq.gz                                                    | /ebio/abt3_projects/databases_no-backup/DeepMAsED/MAG_datasets/PasolliE-2019/samples_Almeida-Pasolli/map//VogtmannE_2016__MMRS65205033ST_27_0_0__bin_43/ERR1293531.bam | /ebio/abt3_projects/databases_no-backup/DeepMAsED/MAG_datasets/PasolliE-2019/samples_Almeida-Pasolli/ALE//VogtmannE_2016__MMRS65205033ST_27_0_0__bin_43.txt            | \n",
       "| VogtmannE_2016__MMRS51737257ST_27_0_0__bin_46                                                                                                                          | /ebio/abt3_projects/databases_no-backup/DeepMAsED/MAG_datasets/PasolliE-2019/all_MAGs/SGB_genome_fastas_part1/1408/VogtmannE_2016__MMRS51737257ST-27-0-0__bin.46.fa.gz | ERR1293612                                                                                                                                                             | /ebio/abt3_projects/databases_no-backup/DeepMAsED/MAG_datasets/AlmeidaA-2019/LLMGQC/final/ERR1293612/R1_final.fq.gz                                                    | /ebio/abt3_projects/databases_no-backup/DeepMAsED/MAG_datasets/AlmeidaA-2019/LLMGQC/final/ERR1293612/R2_final.fq.gz                                                    | /ebio/abt3_projects/databases_no-backup/DeepMAsED/MAG_datasets/PasolliE-2019/samples_Almeida-Pasolli/map//VogtmannE_2016__MMRS51737257ST_27_0_0__bin_46/ERR1293612.bam | /ebio/abt3_projects/databases_no-backup/DeepMAsED/MAG_datasets/PasolliE-2019/samples_Almeida-Pasolli/ALE//VogtmannE_2016__MMRS51737257ST_27_0_0__bin_46.txt            | \n",
       "| VogtmannE_2016__MMRS51737257ST_27_0_0__bin_34                                                                                                                          | /ebio/abt3_projects/databases_no-backup/DeepMAsED/MAG_datasets/PasolliE-2019/all_MAGs/SGB_genome_fastas_part1/1472/VogtmannE_2016__MMRS51737257ST-27-0-0__bin.34.fa.gz | ERR1293612                                                                                                                                                             | /ebio/abt3_projects/databases_no-backup/DeepMAsED/MAG_datasets/AlmeidaA-2019/LLMGQC/final/ERR1293612/R1_final.fq.gz                                                    | /ebio/abt3_projects/databases_no-backup/DeepMAsED/MAG_datasets/AlmeidaA-2019/LLMGQC/final/ERR1293612/R2_final.fq.gz                                                    | /ebio/abt3_projects/databases_no-backup/DeepMAsED/MAG_datasets/PasolliE-2019/samples_Almeida-Pasolli/map//VogtmannE_2016__MMRS51737257ST_27_0_0__bin_34/ERR1293612.bam | /ebio/abt3_projects/databases_no-backup/DeepMAsED/MAG_datasets/PasolliE-2019/samples_Almeida-Pasolli/ALE//VogtmannE_2016__MMRS51737257ST_27_0_0__bin_34.txt            | \n",
       "\n",
       "\n"
      ],
      "text/plain": [
       "  Taxon                                        \n",
       "1 VogtmannE_2016__MMRS65205033ST_27_0_0__bin_43\n",
       "2 VogtmannE_2016__MMRS51737257ST_27_0_0__bin_46\n",
       "3 VogtmannE_2016__MMRS51737257ST_27_0_0__bin_34\n",
       "  Fasta                                                                                                                                                                 \n",
       "1 /ebio/abt3_projects/databases_no-backup/DeepMAsED/MAG_datasets/PasolliE-2019/all_MAGs/SGB_genome_fastas_part1/1024/VogtmannE_2016__MMRS65205033ST-27-0-0__bin.43.fa.gz\n",
       "2 /ebio/abt3_projects/databases_no-backup/DeepMAsED/MAG_datasets/PasolliE-2019/all_MAGs/SGB_genome_fastas_part1/1408/VogtmannE_2016__MMRS51737257ST-27-0-0__bin.46.fa.gz\n",
       "3 /ebio/abt3_projects/databases_no-backup/DeepMAsED/MAG_datasets/PasolliE-2019/all_MAGs/SGB_genome_fastas_part1/1472/VogtmannE_2016__MMRS51737257ST-27-0-0__bin.34.fa.gz\n",
       "  Sample    \n",
       "1 ERR1293531\n",
       "2 ERR1293612\n",
       "3 ERR1293612\n",
       "  Read1                                                                                                              \n",
       "1 /ebio/abt3_projects/databases_no-backup/DeepMAsED/MAG_datasets/AlmeidaA-2019/LLMGQC/final/ERR1293531/R1_final.fq.gz\n",
       "2 /ebio/abt3_projects/databases_no-backup/DeepMAsED/MAG_datasets/AlmeidaA-2019/LLMGQC/final/ERR1293612/R1_final.fq.gz\n",
       "3 /ebio/abt3_projects/databases_no-backup/DeepMAsED/MAG_datasets/AlmeidaA-2019/LLMGQC/final/ERR1293612/R1_final.fq.gz\n",
       "  Read2                                                                                                              \n",
       "1 /ebio/abt3_projects/databases_no-backup/DeepMAsED/MAG_datasets/AlmeidaA-2019/LLMGQC/final/ERR1293531/R2_final.fq.gz\n",
       "2 /ebio/abt3_projects/databases_no-backup/DeepMAsED/MAG_datasets/AlmeidaA-2019/LLMGQC/final/ERR1293612/R2_final.fq.gz\n",
       "3 /ebio/abt3_projects/databases_no-backup/DeepMAsED/MAG_datasets/AlmeidaA-2019/LLMGQC/final/ERR1293612/R2_final.fq.gz\n",
       "  Bam                                                                                                                                                                   \n",
       "1 /ebio/abt3_projects/databases_no-backup/DeepMAsED/MAG_datasets/PasolliE-2019/samples_Almeida-Pasolli/map//VogtmannE_2016__MMRS65205033ST_27_0_0__bin_43/ERR1293531.bam\n",
       "2 /ebio/abt3_projects/databases_no-backup/DeepMAsED/MAG_datasets/PasolliE-2019/samples_Almeida-Pasolli/map//VogtmannE_2016__MMRS51737257ST_27_0_0__bin_46/ERR1293612.bam\n",
       "3 /ebio/abt3_projects/databases_no-backup/DeepMAsED/MAG_datasets/PasolliE-2019/samples_Almeida-Pasolli/map//VogtmannE_2016__MMRS51737257ST_27_0_0__bin_34/ERR1293612.bam\n",
       "  ALE                                                                                                                                                        \n",
       "1 /ebio/abt3_projects/databases_no-backup/DeepMAsED/MAG_datasets/PasolliE-2019/samples_Almeida-Pasolli/ALE//VogtmannE_2016__MMRS65205033ST_27_0_0__bin_43.txt\n",
       "2 /ebio/abt3_projects/databases_no-backup/DeepMAsED/MAG_datasets/PasolliE-2019/samples_Almeida-Pasolli/ALE//VogtmannE_2016__MMRS51737257ST_27_0_0__bin_46.txt\n",
       "3 /ebio/abt3_projects/databases_no-backup/DeepMAsED/MAG_datasets/PasolliE-2019/samples_Almeida-Pasolli/ALE//VogtmannE_2016__MMRS51737257ST_27_0_0__bin_34.txt"
      ]
     },
     "metadata": {},
     "output_type": "display_data"
    }
   ],
   "source": [
    "# ALE output file name\n",
    "MAGs_n143 = MAGs_n143 %>%\n",
    "    mutate(ALE = sapply(Taxon, function(x) file.path(work_dir, paste0(x, '.txt'))))\n",
    "                        \n",
    "MAGs_n143 %>% head(n=3)"
   ]
  },
  {
   "cell_type": "markdown",
   "metadata": {},
   "source": [
    "# Running ALE"
   ]
  },
  {
   "cell_type": "code",
   "execution_count": 36,
   "metadata": {
    "ExecuteTime": {
     "end_time": "2019-07-29T07:51:53.522556Z",
     "start_time": "2019-07-29T07:51:53.413Z"
    }
   },
   "outputs": [],
   "source": [
    "# cluster resources\n",
    "resources = list(h_rt = '00:59:00',\n",
    "                 h_vmem = '8G',\n",
    "                 threads = '1',\n",
    "                 conda.env = 'py3_physeq')     # conda env with batchtools installed\n",
    "plan(batchtools_sge, resources=resources, workers=40)"
   ]
  },
  {
   "cell_type": "code",
   "execution_count": 37,
   "metadata": {
    "ExecuteTime": {
     "end_time": "2019-07-29T07:51:54.614498Z",
     "start_time": "2019-07-29T07:51:53.732Z"
    }
   },
   "outputs": [
    {
     "name": "stdout",
     "output_type": "stream",
     "text": [
      "[1] 1090\n"
     ]
    },
    {
     "data": {
      "text/html": [
       "'/ebio/abt3_projects/databases_no-backup/DeepMAsED/bin/ALE/src/ALE /ebio/abt3_projects/databases_no-backup/DeepMAsED/MAG_datasets/PasolliE-2019/samples_Almeida-Pasolli/map//VogtmannE_2016__MMRS65205033ST_27_0_0__bin_43/ERR1293531.bam /ebio/abt3_projects/databases_no-backup/DeepMAsED/MAG_datasets/PasolliE-2019/all_MAGs/SGB_genome_fastas_part1/1024/VogtmannE_2016__MMRS65205033ST-27-0-0__bin.43.fa.gz /ebio/abt3_projects/databases_no-backup/DeepMAsED/MAG_datasets/PasolliE-2019/samples_Almeida-Pasolli/ALE//VogtmannE_2016__MMRS65205033ST_27_0_0__bin_43.txt'"
      ],
      "text/latex": [
       "'/ebio/abt3\\_projects/databases\\_no-backup/DeepMAsED/bin/ALE/src/ALE /ebio/abt3\\_projects/databases\\_no-backup/DeepMAsED/MAG\\_datasets/PasolliE-2019/samples\\_Almeida-Pasolli/map//VogtmannE\\_2016\\_\\_MMRS65205033ST\\_27\\_0\\_0\\_\\_bin\\_43/ERR1293531.bam /ebio/abt3\\_projects/databases\\_no-backup/DeepMAsED/MAG\\_datasets/PasolliE-2019/all\\_MAGs/SGB\\_genome\\_fastas\\_part1/1024/VogtmannE\\_2016\\_\\_MMRS65205033ST-27-0-0\\_\\_bin.43.fa.gz /ebio/abt3\\_projects/databases\\_no-backup/DeepMAsED/MAG\\_datasets/PasolliE-2019/samples\\_Almeida-Pasolli/ALE//VogtmannE\\_2016\\_\\_MMRS65205033ST\\_27\\_0\\_0\\_\\_bin\\_43.txt'"
      ],
      "text/markdown": [
       "'/ebio/abt3_projects/databases_no-backup/DeepMAsED/bin/ALE/src/ALE /ebio/abt3_projects/databases_no-backup/DeepMAsED/MAG_datasets/PasolliE-2019/samples_Almeida-Pasolli/map//VogtmannE_2016__MMRS65205033ST_27_0_0__bin_43/ERR1293531.bam /ebio/abt3_projects/databases_no-backup/DeepMAsED/MAG_datasets/PasolliE-2019/all_MAGs/SGB_genome_fastas_part1/1024/VogtmannE_2016__MMRS65205033ST-27-0-0__bin.43.fa.gz /ebio/abt3_projects/databases_no-backup/DeepMAsED/MAG_datasets/PasolliE-2019/samples_Almeida-Pasolli/ALE//VogtmannE_2016__MMRS65205033ST_27_0_0__bin_43.txt'"
      ],
      "text/plain": [
       "[1] \"/ebio/abt3_projects/databases_no-backup/DeepMAsED/bin/ALE/src/ALE /ebio/abt3_projects/databases_no-backup/DeepMAsED/MAG_datasets/PasolliE-2019/samples_Almeida-Pasolli/map//VogtmannE_2016__MMRS65205033ST_27_0_0__bin_43/ERR1293531.bam /ebio/abt3_projects/databases_no-backup/DeepMAsED/MAG_datasets/PasolliE-2019/all_MAGs/SGB_genome_fastas_part1/1024/VogtmannE_2016__MMRS65205033ST-27-0-0__bin.43.fa.gz /ebio/abt3_projects/databases_no-backup/DeepMAsED/MAG_datasets/PasolliE-2019/samples_Almeida-Pasolli/ALE//VogtmannE_2016__MMRS65205033ST_27_0_0__bin_43.txt\""
      ]
     },
     "metadata": {},
     "output_type": "display_data"
    }
   ],
   "source": [
    "ALE_params = function(x, exe){\n",
    "    cmd = '{exe} {bam} {fasta} {outfile}'\n",
    "    cmd = glue::glue(cmd, exe=exe, bam=x[['Bam']], fasta=x[['Fasta']], outfile=x[['ALE']])\n",
    "    return(cmd)\n",
    "}\n",
    "\n",
    "ALE_cmds = apply(MAGs_n143, 1, ALE_params, exe=ALE_exe) %>%\n",
    "    as.list\n",
    "\n",
    "ALE_cmds %>% length %>% print\n",
    "ALE_cmds[[1]]"
   ]
  },
  {
   "cell_type": "code",
   "execution_count": 38,
   "metadata": {
    "ExecuteTime": {
     "end_time": "2019-07-29T07:52:06.919573Z",
     "start_time": "2019-07-29T07:52:06.884Z"
    }
   },
   "outputs": [],
   "source": [
    "bash_job = function(cmd, conda_env, stdout=TRUE, stderr=FALSE){\n",
    "    # cmd : string; commandline job (eg., 'ls -thlc')\n",
    "    # conda_env : string; conda environment name\n",
    "    cmd = sprintf('. ~/.bashrc; conda activate %s; %s', conda_env, cmd)\n",
    "    cmd = sprintf('-c \"%s\"', cmd)\n",
    "    system2('bash', cmd, stdout=stdout, stderr=stderr)\n",
    "}"
   ]
  },
  {
   "cell_type": "code",
   "execution_count": 39,
   "metadata": {
    "ExecuteTime": {
     "end_time": "2019-07-29T08:36:07.016218Z",
     "start_time": "2019-07-29T07:52:07.142Z"
    }
   },
   "outputs": [
    {
     "name": "stdout",
     "output_type": "stream",
     "text": [
      "[1] 1090\n"
     ]
    },
    {
     "data": {
      "text/html": [
       "<ol class=list-inline>\n",
       "\t<li>'BAM file: /ebio/abt3_projects/databases_no-backup/DeepMAsED/MAG_datasets/PasolliE-2019/samples_Almeida-Pasolli/map//VogtmannE_2016__MMRS65205033ST_27_0_0__bin_43/ERR1293531.bam'</li>\n",
       "\t<li>'Assembly fasta file: /ebio/abt3_projects/databases_no-backup/DeepMAsED/MAG_datasets/PasolliE-2019/all_MAGs/SGB_genome_fastas_part1/1024/VogtmannE_2016__MMRS65205033ST-27-0-0__bin.43.fa.gz'</li>\n",
       "\t<li>'ALE Output file: /ebio/abt3_projects/databases_no-backup/DeepMAsED/MAG_datasets/PasolliE-2019/samples_Almeida-Pasolli/ALE//VogtmannE_2016__MMRS65205033ST_27_0_0__bin_43.txt'</li>\n",
       "\t<li>'Reading in assembly...'</li>\n",
       "\t<li>'Reading in the map and computing statistics...'</li>\n",
       "\t<li>'Insert length and std not given, will be calculated from input map.'</li>\n",
       "\t<li>'Found FR sample avg insert length to be 307.284776 from 9892 mapped reads'</li>\n",
       "\t<li>'Found FR sample insert length std to be 59.733316'</li>\n",
       "\t<li>'There were 10683 total reads, 10683 paired (10298 properly mated), 281 proper singles, 104 improper reads (60 chimeric). (0 reads were unmapped)'</li>\n",
       "\t<li>'Saved library parameters to /ebio/abt3_projects/databases_no-backup/DeepMAsED/MAG_datasets/PasolliE-2019/samples_Almeida-Pasolli/ALE//VogtmannE_2016__MMRS65205033ST_27_0_0__bin_43.txt.param'</li>\n",
       "\t<li>'Computing read placements and depths'</li>\n",
       "\t<li>'FR orientation with 10298 reads, 10298 mapped, 0 unmapped, 10298 placed, 0 mappedButNotPlaced'</li>\n",
       "\t<li>'RF orientation with 0 reads, 0 mapped, 0 unmapped, 0 placed, 0 mappedButNotPlaced'</li>\n",
       "\t<li>'FF orientation with 0 reads, 0 mapped, 0 unmapped, 0 placed, 0 mappedButNotPlaced'</li>\n",
       "\t<li>'NOT_PROPER_FR orientation with 44 reads, 44 mapped, 0 unmapped, 44 placed, 0 mappedButNotPlaced'</li>\n",
       "\t<li>'NOT_PROPER_RF orientation with 0 reads, 0 mapped, 0 unmapped, 0 placed, 0 mappedButNotPlaced'</li>\n",
       "\t<li>'NOT_PROPER_FF orientation with 0 reads, 0 mapped, 0 unmapped, 0 placed, 0 mappedButNotPlaced'</li>\n",
       "\t<li>'UNMAPPED_PAIR orientation with 0 reads, 0 mapped, 0 unmapped, 0 placed, 0 mappedButNotPlaced'</li>\n",
       "\t<li>'CHIMER orientation with 60 reads, 60 mapped, 0 unmapped, 60 placed, 0 mappedButNotPlaced'</li>\n",
       "\t<li>'SINGLE_UNMAPPED_MATE orientation with 281 reads, 281 mapped, 0 unmapped, 281 placed, 0 mappedButNotPlaced'</li>\n",
       "\t<li>'UNMAPPED_MATE orientation with 0 reads, 0 mapped, 0 unmapped, 0 placed, 0 mappedButNotPlaced'</li>\n",
       "\t<li>'HALF_VALID_MATE orientation with 0 reads, 0 mapped, 0 unmapped, 0 placed, 0 mappedButNotPlaced'</li>\n",
       "\t<li>'SINGLE_READ orientation with 0 reads, 0 mapped, 0 unmapped, 0 placed, 0 mappedButNotPlaced'</li>\n",
       "\t<li>'UNMAPPED_SINGLE orientation with 0 reads, 0 mapped, 0 unmapped, 0 placed, 0 mappedButNotPlaced'</li>\n",
       "\t<li>'NO_READS orientation with 0 reads, 0 mapped, 0 unmapped, 0 placed, 0 mappedButNotPlaced'</li>\n",
       "\t<li>'Total mapped reads: 10683'</li>\n",
       "\t<li>'Total placed reads: 10683'</li>\n",
       "\t<li>'Total unmapped reads: 0'</li>\n",
       "\t<li>'Total unplaced reads: 0'</li>\n",
       "\t<li>'Computing k-mer statistics...'</li>\n",
       "\t<li>'Done computing k-mer statistics.'</li>\n",
       "\t<li>'Computing depth statistics...'</li>\n",
       "\t<li>'bases with no GC depth correction metric (small contigs): 0'</li>\n",
       "\t<li>'unmappable bases: 0 across 0 different regions'</li>\n",
       "\t<li>'bases with 0 coverage: 244871'</li>\n",
       "\t<li>'Done computing depth statistics.'</li>\n",
       "\t<li>'Computing statistics on expected missing...'</li>\n",
       "\t<li>'Expected extra length: -207.800000'</li>\n",
       "\t<li>'Done computing statistics on expected missing.'</li>\n",
       "\t<li>'Set minLogLike to: -120.0'</li>\n",
       "\t<li>'Total ALE Score: -2226822.228845'</li>\n",
       "\t<li>'Output is in file: /ebio/abt3_projects/databases_no-backup/DeepMAsED/MAG_datasets/PasolliE-2019/samples_Almeida-Pasolli/ALE//VogtmannE_2016__MMRS65205033ST_27_0_0__bin_43.txt'</li>\n",
       "\t<li>'Closing input file'</li>\n",
       "</ol>\n"
      ],
      "text/latex": [
       "\\begin{enumerate*}\n",
       "\\item 'BAM file: /ebio/abt3\\_projects/databases\\_no-backup/DeepMAsED/MAG\\_datasets/PasolliE-2019/samples\\_Almeida-Pasolli/map//VogtmannE\\_2016\\_\\_MMRS65205033ST\\_27\\_0\\_0\\_\\_bin\\_43/ERR1293531.bam'\n",
       "\\item 'Assembly fasta file: /ebio/abt3\\_projects/databases\\_no-backup/DeepMAsED/MAG\\_datasets/PasolliE-2019/all\\_MAGs/SGB\\_genome\\_fastas\\_part1/1024/VogtmannE\\_2016\\_\\_MMRS65205033ST-27-0-0\\_\\_bin.43.fa.gz'\n",
       "\\item 'ALE Output file: /ebio/abt3\\_projects/databases\\_no-backup/DeepMAsED/MAG\\_datasets/PasolliE-2019/samples\\_Almeida-Pasolli/ALE//VogtmannE\\_2016\\_\\_MMRS65205033ST\\_27\\_0\\_0\\_\\_bin\\_43.txt'\n",
       "\\item 'Reading in assembly...'\n",
       "\\item 'Reading in the map and computing statistics...'\n",
       "\\item 'Insert length and std not given, will be calculated from input map.'\n",
       "\\item 'Found FR sample avg insert length to be 307.284776 from 9892 mapped reads'\n",
       "\\item 'Found FR sample insert length std to be 59.733316'\n",
       "\\item 'There were 10683 total reads, 10683 paired (10298 properly mated), 281 proper singles, 104 improper reads (60 chimeric). (0 reads were unmapped)'\n",
       "\\item 'Saved library parameters to /ebio/abt3\\_projects/databases\\_no-backup/DeepMAsED/MAG\\_datasets/PasolliE-2019/samples\\_Almeida-Pasolli/ALE//VogtmannE\\_2016\\_\\_MMRS65205033ST\\_27\\_0\\_0\\_\\_bin\\_43.txt.param'\n",
       "\\item 'Computing read placements and depths'\n",
       "\\item 'FR orientation with 10298 reads, 10298 mapped, 0 unmapped, 10298 placed, 0 mappedButNotPlaced'\n",
       "\\item 'RF orientation with 0 reads, 0 mapped, 0 unmapped, 0 placed, 0 mappedButNotPlaced'\n",
       "\\item 'FF orientation with 0 reads, 0 mapped, 0 unmapped, 0 placed, 0 mappedButNotPlaced'\n",
       "\\item 'NOT\\_PROPER\\_FR orientation with 44 reads, 44 mapped, 0 unmapped, 44 placed, 0 mappedButNotPlaced'\n",
       "\\item 'NOT\\_PROPER\\_RF orientation with 0 reads, 0 mapped, 0 unmapped, 0 placed, 0 mappedButNotPlaced'\n",
       "\\item 'NOT\\_PROPER\\_FF orientation with 0 reads, 0 mapped, 0 unmapped, 0 placed, 0 mappedButNotPlaced'\n",
       "\\item 'UNMAPPED\\_PAIR orientation with 0 reads, 0 mapped, 0 unmapped, 0 placed, 0 mappedButNotPlaced'\n",
       "\\item 'CHIMER orientation with 60 reads, 60 mapped, 0 unmapped, 60 placed, 0 mappedButNotPlaced'\n",
       "\\item 'SINGLE\\_UNMAPPED\\_MATE orientation with 281 reads, 281 mapped, 0 unmapped, 281 placed, 0 mappedButNotPlaced'\n",
       "\\item 'UNMAPPED\\_MATE orientation with 0 reads, 0 mapped, 0 unmapped, 0 placed, 0 mappedButNotPlaced'\n",
       "\\item 'HALF\\_VALID\\_MATE orientation with 0 reads, 0 mapped, 0 unmapped, 0 placed, 0 mappedButNotPlaced'\n",
       "\\item 'SINGLE\\_READ orientation with 0 reads, 0 mapped, 0 unmapped, 0 placed, 0 mappedButNotPlaced'\n",
       "\\item 'UNMAPPED\\_SINGLE orientation with 0 reads, 0 mapped, 0 unmapped, 0 placed, 0 mappedButNotPlaced'\n",
       "\\item 'NO\\_READS orientation with 0 reads, 0 mapped, 0 unmapped, 0 placed, 0 mappedButNotPlaced'\n",
       "\\item 'Total mapped reads: 10683'\n",
       "\\item 'Total placed reads: 10683'\n",
       "\\item 'Total unmapped reads: 0'\n",
       "\\item 'Total unplaced reads: 0'\n",
       "\\item 'Computing k-mer statistics...'\n",
       "\\item 'Done computing k-mer statistics.'\n",
       "\\item 'Computing depth statistics...'\n",
       "\\item 'bases with no GC depth correction metric (small contigs): 0'\n",
       "\\item 'unmappable bases: 0 across 0 different regions'\n",
       "\\item 'bases with 0 coverage: 244871'\n",
       "\\item 'Done computing depth statistics.'\n",
       "\\item 'Computing statistics on expected missing...'\n",
       "\\item 'Expected extra length: -207.800000'\n",
       "\\item 'Done computing statistics on expected missing.'\n",
       "\\item 'Set minLogLike to: -120.0'\n",
       "\\item 'Total ALE Score: -2226822.228845'\n",
       "\\item 'Output is in file: /ebio/abt3\\_projects/databases\\_no-backup/DeepMAsED/MAG\\_datasets/PasolliE-2019/samples\\_Almeida-Pasolli/ALE//VogtmannE\\_2016\\_\\_MMRS65205033ST\\_27\\_0\\_0\\_\\_bin\\_43.txt'\n",
       "\\item 'Closing input file'\n",
       "\\end{enumerate*}\n"
      ],
      "text/markdown": [
       "1. 'BAM file: /ebio/abt3_projects/databases_no-backup/DeepMAsED/MAG_datasets/PasolliE-2019/samples_Almeida-Pasolli/map//VogtmannE_2016__MMRS65205033ST_27_0_0__bin_43/ERR1293531.bam'\n",
       "2. 'Assembly fasta file: /ebio/abt3_projects/databases_no-backup/DeepMAsED/MAG_datasets/PasolliE-2019/all_MAGs/SGB_genome_fastas_part1/1024/VogtmannE_2016__MMRS65205033ST-27-0-0__bin.43.fa.gz'\n",
       "3. 'ALE Output file: /ebio/abt3_projects/databases_no-backup/DeepMAsED/MAG_datasets/PasolliE-2019/samples_Almeida-Pasolli/ALE//VogtmannE_2016__MMRS65205033ST_27_0_0__bin_43.txt'\n",
       "4. 'Reading in assembly...'\n",
       "5. 'Reading in the map and computing statistics...'\n",
       "6. 'Insert length and std not given, will be calculated from input map.'\n",
       "7. 'Found FR sample avg insert length to be 307.284776 from 9892 mapped reads'\n",
       "8. 'Found FR sample insert length std to be 59.733316'\n",
       "9. 'There were 10683 total reads, 10683 paired (10298 properly mated), 281 proper singles, 104 improper reads (60 chimeric). (0 reads were unmapped)'\n",
       "10. 'Saved library parameters to /ebio/abt3_projects/databases_no-backup/DeepMAsED/MAG_datasets/PasolliE-2019/samples_Almeida-Pasolli/ALE//VogtmannE_2016__MMRS65205033ST_27_0_0__bin_43.txt.param'\n",
       "11. 'Computing read placements and depths'\n",
       "12. 'FR orientation with 10298 reads, 10298 mapped, 0 unmapped, 10298 placed, 0 mappedButNotPlaced'\n",
       "13. 'RF orientation with 0 reads, 0 mapped, 0 unmapped, 0 placed, 0 mappedButNotPlaced'\n",
       "14. 'FF orientation with 0 reads, 0 mapped, 0 unmapped, 0 placed, 0 mappedButNotPlaced'\n",
       "15. 'NOT_PROPER_FR orientation with 44 reads, 44 mapped, 0 unmapped, 44 placed, 0 mappedButNotPlaced'\n",
       "16. 'NOT_PROPER_RF orientation with 0 reads, 0 mapped, 0 unmapped, 0 placed, 0 mappedButNotPlaced'\n",
       "17. 'NOT_PROPER_FF orientation with 0 reads, 0 mapped, 0 unmapped, 0 placed, 0 mappedButNotPlaced'\n",
       "18. 'UNMAPPED_PAIR orientation with 0 reads, 0 mapped, 0 unmapped, 0 placed, 0 mappedButNotPlaced'\n",
       "19. 'CHIMER orientation with 60 reads, 60 mapped, 0 unmapped, 60 placed, 0 mappedButNotPlaced'\n",
       "20. 'SINGLE_UNMAPPED_MATE orientation with 281 reads, 281 mapped, 0 unmapped, 281 placed, 0 mappedButNotPlaced'\n",
       "21. 'UNMAPPED_MATE orientation with 0 reads, 0 mapped, 0 unmapped, 0 placed, 0 mappedButNotPlaced'\n",
       "22. 'HALF_VALID_MATE orientation with 0 reads, 0 mapped, 0 unmapped, 0 placed, 0 mappedButNotPlaced'\n",
       "23. 'SINGLE_READ orientation with 0 reads, 0 mapped, 0 unmapped, 0 placed, 0 mappedButNotPlaced'\n",
       "24. 'UNMAPPED_SINGLE orientation with 0 reads, 0 mapped, 0 unmapped, 0 placed, 0 mappedButNotPlaced'\n",
       "25. 'NO_READS orientation with 0 reads, 0 mapped, 0 unmapped, 0 placed, 0 mappedButNotPlaced'\n",
       "26. 'Total mapped reads: 10683'\n",
       "27. 'Total placed reads: 10683'\n",
       "28. 'Total unmapped reads: 0'\n",
       "29. 'Total unplaced reads: 0'\n",
       "30. 'Computing k-mer statistics...'\n",
       "31. 'Done computing k-mer statistics.'\n",
       "32. 'Computing depth statistics...'\n",
       "33. 'bases with no GC depth correction metric (small contigs): 0'\n",
       "34. 'unmappable bases: 0 across 0 different regions'\n",
       "35. 'bases with 0 coverage: 244871'\n",
       "36. 'Done computing depth statistics.'\n",
       "37. 'Computing statistics on expected missing...'\n",
       "38. 'Expected extra length: -207.800000'\n",
       "39. 'Done computing statistics on expected missing.'\n",
       "40. 'Set minLogLike to: -120.0'\n",
       "41. 'Total ALE Score: -2226822.228845'\n",
       "42. 'Output is in file: /ebio/abt3_projects/databases_no-backup/DeepMAsED/MAG_datasets/PasolliE-2019/samples_Almeida-Pasolli/ALE//VogtmannE_2016__MMRS65205033ST_27_0_0__bin_43.txt'\n",
       "43. 'Closing input file'\n",
       "\n",
       "\n"
      ],
      "text/plain": [
       " [1] \"BAM file: /ebio/abt3_projects/databases_no-backup/DeepMAsED/MAG_datasets/PasolliE-2019/samples_Almeida-Pasolli/map//VogtmannE_2016__MMRS65205033ST_27_0_0__bin_43/ERR1293531.bam\"             \n",
       " [2] \"Assembly fasta file: /ebio/abt3_projects/databases_no-backup/DeepMAsED/MAG_datasets/PasolliE-2019/all_MAGs/SGB_genome_fastas_part1/1024/VogtmannE_2016__MMRS65205033ST-27-0-0__bin.43.fa.gz\"  \n",
       " [3] \"ALE Output file: /ebio/abt3_projects/databases_no-backup/DeepMAsED/MAG_datasets/PasolliE-2019/samples_Almeida-Pasolli/ALE//VogtmannE_2016__MMRS65205033ST_27_0_0__bin_43.txt\"                 \n",
       " [4] \"Reading in assembly...\"                                                                                                                                                                       \n",
       " [5] \"Reading in the map and computing statistics...\"                                                                                                                                               \n",
       " [6] \"Insert length and std not given, will be calculated from input map.\"                                                                                                                          \n",
       " [7] \"Found FR sample avg insert length to be 307.284776 from 9892 mapped reads\"                                                                                                                    \n",
       " [8] \"Found FR sample insert length std to be 59.733316\"                                                                                                                                            \n",
       " [9] \"There were 10683 total reads, 10683 paired (10298 properly mated), 281 proper singles, 104 improper reads (60 chimeric). (0 reads were unmapped)\"                                             \n",
       "[10] \"Saved library parameters to /ebio/abt3_projects/databases_no-backup/DeepMAsED/MAG_datasets/PasolliE-2019/samples_Almeida-Pasolli/ALE//VogtmannE_2016__MMRS65205033ST_27_0_0__bin_43.txt.param\"\n",
       "[11] \"Computing read placements and depths\"                                                                                                                                                         \n",
       "[12] \"FR orientation with 10298 reads, 10298 mapped, 0 unmapped, 10298 placed, 0 mappedButNotPlaced\"                                                                                                \n",
       "[13] \"RF orientation with 0 reads, 0 mapped, 0 unmapped, 0 placed, 0 mappedButNotPlaced\"                                                                                                            \n",
       "[14] \"FF orientation with 0 reads, 0 mapped, 0 unmapped, 0 placed, 0 mappedButNotPlaced\"                                                                                                            \n",
       "[15] \"NOT_PROPER_FR orientation with 44 reads, 44 mapped, 0 unmapped, 44 placed, 0 mappedButNotPlaced\"                                                                                              \n",
       "[16] \"NOT_PROPER_RF orientation with 0 reads, 0 mapped, 0 unmapped, 0 placed, 0 mappedButNotPlaced\"                                                                                                 \n",
       "[17] \"NOT_PROPER_FF orientation with 0 reads, 0 mapped, 0 unmapped, 0 placed, 0 mappedButNotPlaced\"                                                                                                 \n",
       "[18] \"UNMAPPED_PAIR orientation with 0 reads, 0 mapped, 0 unmapped, 0 placed, 0 mappedButNotPlaced\"                                                                                                 \n",
       "[19] \"CHIMER orientation with 60 reads, 60 mapped, 0 unmapped, 60 placed, 0 mappedButNotPlaced\"                                                                                                     \n",
       "[20] \"SINGLE_UNMAPPED_MATE orientation with 281 reads, 281 mapped, 0 unmapped, 281 placed, 0 mappedButNotPlaced\"                                                                                    \n",
       "[21] \"UNMAPPED_MATE orientation with 0 reads, 0 mapped, 0 unmapped, 0 placed, 0 mappedButNotPlaced\"                                                                                                 \n",
       "[22] \"HALF_VALID_MATE orientation with 0 reads, 0 mapped, 0 unmapped, 0 placed, 0 mappedButNotPlaced\"                                                                                               \n",
       "[23] \"SINGLE_READ orientation with 0 reads, 0 mapped, 0 unmapped, 0 placed, 0 mappedButNotPlaced\"                                                                                                   \n",
       "[24] \"UNMAPPED_SINGLE orientation with 0 reads, 0 mapped, 0 unmapped, 0 placed, 0 mappedButNotPlaced\"                                                                                               \n",
       "[25] \"NO_READS orientation with 0 reads, 0 mapped, 0 unmapped, 0 placed, 0 mappedButNotPlaced\"                                                                                                      \n",
       "[26] \"Total mapped reads: 10683\"                                                                                                                                                                    \n",
       "[27] \"Total placed reads: 10683\"                                                                                                                                                                    \n",
       "[28] \"Total unmapped reads: 0\"                                                                                                                                                                      \n",
       "[29] \"Total unplaced reads: 0\"                                                                                                                                                                      \n",
       "[30] \"Computing k-mer statistics...\"                                                                                                                                                                \n",
       "[31] \"Done computing k-mer statistics.\"                                                                                                                                                             \n",
       "[32] \"Computing depth statistics...\"                                                                                                                                                                \n",
       "[33] \"bases with no GC depth correction metric (small contigs): 0\"                                                                                                                                  \n",
       "[34] \"unmappable bases: 0 across 0 different regions\"                                                                                                                                               \n",
       "[35] \"bases with 0 coverage: 244871\"                                                                                                                                                                \n",
       "[36] \"Done computing depth statistics.\"                                                                                                                                                             \n",
       "[37] \"Computing statistics on expected missing...\"                                                                                                                                                  \n",
       "[38] \"Expected extra length: -207.800000\"                                                                                                                                                           \n",
       "[39] \"Done computing statistics on expected missing.\"                                                                                                                                               \n",
       "[40] \"Set minLogLike to: -120.0\"                                                                                                                                                                    \n",
       "[41] \"Total ALE Score: -2226822.228845\"                                                                                                                                                             \n",
       "[42] \"Output is in file: /ebio/abt3_projects/databases_no-backup/DeepMAsED/MAG_datasets/PasolliE-2019/samples_Almeida-Pasolli/ALE//VogtmannE_2016__MMRS65205033ST_27_0_0__bin_43.txt\"               \n",
       "[43] \"Closing input file\"                                                                                                                                                                           "
      ]
     },
     "metadata": {},
     "output_type": "display_data"
    }
   ],
   "source": [
    "# apply function on cluster\n",
    "job_ret = future_lapply(ALE_cmds, FUN = function(x) bash_job(x, conda_env=conda_env))\n",
    "job_ret %>% length %>% print\n",
    "job_ret[[1]]"
   ]
  },
  {
   "cell_type": "markdown",
   "metadata": {},
   "source": [
    "## Finding failed jobs"
   ]
  },
  {
   "cell_type": "code",
   "execution_count": 40,
   "metadata": {
    "ExecuteTime": {
     "end_time": "2019-07-29T12:37:52.413219Z",
     "start_time": "2019-07-29T12:37:52.042Z"
    }
   },
   "outputs": [
    {
     "data": {
      "text/html": [
       "984"
      ],
      "text/latex": [
       "984"
      ],
      "text/markdown": [
       "984"
      ],
      "text/plain": [
       "[1] 984"
      ]
     },
     "metadata": {},
     "output_type": "display_data"
    },
    {
     "data": {
      "text/html": [
       "<ol class=list-inline>\n",
       "\t<li>'BackhedF_2015__SID201_4M__bin_1'</li>\n",
       "\t<li>'BackhedF_2015__SID201_4M__bin_10'</li>\n",
       "\t<li>'BackhedF_2015__SID201_4M__bin_12'</li>\n",
       "</ol>\n"
      ],
      "text/latex": [
       "\\begin{enumerate*}\n",
       "\\item 'BackhedF\\_2015\\_\\_SID201\\_4M\\_\\_bin\\_1'\n",
       "\\item 'BackhedF\\_2015\\_\\_SID201\\_4M\\_\\_bin\\_10'\n",
       "\\item 'BackhedF\\_2015\\_\\_SID201\\_4M\\_\\_bin\\_12'\n",
       "\\end{enumerate*}\n"
      ],
      "text/markdown": [
       "1. 'BackhedF_2015__SID201_4M__bin_1'\n",
       "2. 'BackhedF_2015__SID201_4M__bin_10'\n",
       "3. 'BackhedF_2015__SID201_4M__bin_12'\n",
       "\n",
       "\n"
      ],
      "text/plain": [
       "[1] \"BackhedF_2015__SID201_4M__bin_1\"  \"BackhedF_2015__SID201_4M__bin_10\"\n",
       "[3] \"BackhedF_2015__SID201_4M__bin_12\""
      ]
     },
     "metadata": {},
     "output_type": "display_data"
    }
   ],
   "source": [
    "P = map_dir %>% dirname %>% file.path('ALE')\n",
    "feat_files = list.files(P, '*.txt$', recursive=TRUE) %>%\n",
    "    gsub('\\\\.txt$', '', .)\n",
    "feat_files %>% length\n",
    "feat_files %>% head(n=3)"
   ]
  },
  {
   "cell_type": "code",
   "execution_count": 41,
   "metadata": {
    "ExecuteTime": {
     "end_time": "2019-07-29T12:37:54.319961Z",
     "start_time": "2019-07-29T12:37:54.238Z"
    }
   },
   "outputs": [
    {
     "name": "stdout",
     "output_type": "stream",
     "text": [
      "[1] 106\n"
     ]
    },
    {
     "data": {
      "text/html": [
       "<table>\n",
       "<thead><tr><th scope=col>Taxon</th><th scope=col>Fasta</th><th scope=col>Sample</th><th scope=col>Read1</th><th scope=col>Read2</th><th scope=col>Bam</th><th scope=col>ALE</th></tr></thead>\n",
       "<tbody>\n",
       "\t<tr><td>NielsenHB_2014__MH0032__bin_6                                                                                                                             </td><td>/ebio/abt3_projects/databases_no-backup/DeepMAsED/MAG_datasets/PasolliE-2019/all_MAGs/SGB_genome_fastas_part1/1626/NielsenHB_2014__MH0032__bin.6.fa.gz    </td><td>ERR209130                                                                                                                                                 </td><td>/ebio/abt3_projects/databases_no-backup/DeepMAsED/MAG_datasets/AlmeidaA-2019/LLMGQC/final/ERR209130/R1_final.fq.gz                                        </td><td>/ebio/abt3_projects/databases_no-backup/DeepMAsED/MAG_datasets/AlmeidaA-2019/LLMGQC/final/ERR209130/R2_final.fq.gz                                        </td><td>/ebio/abt3_projects/databases_no-backup/DeepMAsED/MAG_datasets/PasolliE-2019/samples_Almeida-Pasolli/map//NielsenHB_2014__MH0032__bin_6/ERR209130.bam     </td><td>/ebio/abt3_projects/databases_no-backup/DeepMAsED/MAG_datasets/PasolliE-2019/samples_Almeida-Pasolli/ALE//NielsenHB_2014__MH0032__bin_6.txt               </td></tr>\n",
       "\t<tr><td>NielsenHB_2014__MH0107__bin_3                                                                                                                             </td><td>/ebio/abt3_projects/databases_no-backup/DeepMAsED/MAG_datasets/PasolliE-2019/all_MAGs/SGB_genome_fastas_part1/1684/NielsenHB_2014__MH0107__bin.3.fa.gz    </td><td>ERR209342                                                                                                                                                 </td><td>/ebio/abt3_projects/databases_no-backup/DeepMAsED/MAG_datasets/AlmeidaA-2019/LLMGQC/final/ERR209342/R1_final.fq.gz                                        </td><td>/ebio/abt3_projects/databases_no-backup/DeepMAsED/MAG_datasets/AlmeidaA-2019/LLMGQC/final/ERR209342/R2_final.fq.gz                                        </td><td>/ebio/abt3_projects/databases_no-backup/DeepMAsED/MAG_datasets/PasolliE-2019/samples_Almeida-Pasolli/map//NielsenHB_2014__MH0107__bin_3/ERR209342.bam     </td><td>/ebio/abt3_projects/databases_no-backup/DeepMAsED/MAG_datasets/PasolliE-2019/samples_Almeida-Pasolli/ALE//NielsenHB_2014__MH0107__bin_3.txt               </td></tr>\n",
       "\t<tr><td>NielsenHB_2014__O2_UC47_2__bin_42                                                                                                                         </td><td>/ebio/abt3_projects/databases_no-backup/DeepMAsED/MAG_datasets/PasolliE-2019/all_MAGs/SGB_genome_fastas_part1/1699/NielsenHB_2014__O2_UC47_2__bin.42.fa.gz</td><td>ERR209633                                                                                                                                                 </td><td>/ebio/abt3_projects/databases_no-backup/DeepMAsED/MAG_datasets/AlmeidaA-2019/LLMGQC/final/ERR209633/R1_final.fq.gz                                        </td><td>/ebio/abt3_projects/databases_no-backup/DeepMAsED/MAG_datasets/AlmeidaA-2019/LLMGQC/final/ERR209633/R2_final.fq.gz                                        </td><td>/ebio/abt3_projects/databases_no-backup/DeepMAsED/MAG_datasets/PasolliE-2019/samples_Almeida-Pasolli/map//NielsenHB_2014__O2_UC47_2__bin_42/ERR209633.bam </td><td>/ebio/abt3_projects/databases_no-backup/DeepMAsED/MAG_datasets/PasolliE-2019/samples_Almeida-Pasolli/ALE//NielsenHB_2014__O2_UC47_2__bin_42.txt           </td></tr>\n",
       "</tbody>\n",
       "</table>\n"
      ],
      "text/latex": [
       "\\begin{tabular}{r|lllllll}\n",
       " Taxon & Fasta & Sample & Read1 & Read2 & Bam & ALE\\\\\n",
       "\\hline\n",
       "\t NielsenHB\\_2014\\_\\_MH0032\\_\\_bin\\_6                                                                                                                                          & /ebio/abt3\\_projects/databases\\_no-backup/DeepMAsED/MAG\\_datasets/PasolliE-2019/all\\_MAGs/SGB\\_genome\\_fastas\\_part1/1626/NielsenHB\\_2014\\_\\_MH0032\\_\\_bin.6.fa.gz     & ERR209130                                                                                                                                                                          & /ebio/abt3\\_projects/databases\\_no-backup/DeepMAsED/MAG\\_datasets/AlmeidaA-2019/LLMGQC/final/ERR209130/R1\\_final.fq.gz                                                         & /ebio/abt3\\_projects/databases\\_no-backup/DeepMAsED/MAG\\_datasets/AlmeidaA-2019/LLMGQC/final/ERR209130/R2\\_final.fq.gz                                                         & /ebio/abt3\\_projects/databases\\_no-backup/DeepMAsED/MAG\\_datasets/PasolliE-2019/samples\\_Almeida-Pasolli/map//NielsenHB\\_2014\\_\\_MH0032\\_\\_bin\\_6/ERR209130.bam          & /ebio/abt3\\_projects/databases\\_no-backup/DeepMAsED/MAG\\_datasets/PasolliE-2019/samples\\_Almeida-Pasolli/ALE//NielsenHB\\_2014\\_\\_MH0032\\_\\_bin\\_6.txt                   \\\\\n",
       "\t NielsenHB\\_2014\\_\\_MH0107\\_\\_bin\\_3                                                                                                                                          & /ebio/abt3\\_projects/databases\\_no-backup/DeepMAsED/MAG\\_datasets/PasolliE-2019/all\\_MAGs/SGB\\_genome\\_fastas\\_part1/1684/NielsenHB\\_2014\\_\\_MH0107\\_\\_bin.3.fa.gz     & ERR209342                                                                                                                                                                          & /ebio/abt3\\_projects/databases\\_no-backup/DeepMAsED/MAG\\_datasets/AlmeidaA-2019/LLMGQC/final/ERR209342/R1\\_final.fq.gz                                                         & /ebio/abt3\\_projects/databases\\_no-backup/DeepMAsED/MAG\\_datasets/AlmeidaA-2019/LLMGQC/final/ERR209342/R2\\_final.fq.gz                                                         & /ebio/abt3\\_projects/databases\\_no-backup/DeepMAsED/MAG\\_datasets/PasolliE-2019/samples\\_Almeida-Pasolli/map//NielsenHB\\_2014\\_\\_MH0107\\_\\_bin\\_3/ERR209342.bam          & /ebio/abt3\\_projects/databases\\_no-backup/DeepMAsED/MAG\\_datasets/PasolliE-2019/samples\\_Almeida-Pasolli/ALE//NielsenHB\\_2014\\_\\_MH0107\\_\\_bin\\_3.txt                   \\\\\n",
       "\t NielsenHB\\_2014\\_\\_O2\\_UC47\\_2\\_\\_bin\\_42                                                                                                                                      & /ebio/abt3\\_projects/databases\\_no-backup/DeepMAsED/MAG\\_datasets/PasolliE-2019/all\\_MAGs/SGB\\_genome\\_fastas\\_part1/1699/NielsenHB\\_2014\\_\\_O2\\_UC47\\_2\\_\\_bin.42.fa.gz & ERR209633                                                                                                                                                                              & /ebio/abt3\\_projects/databases\\_no-backup/DeepMAsED/MAG\\_datasets/AlmeidaA-2019/LLMGQC/final/ERR209633/R1\\_final.fq.gz                                                             & /ebio/abt3\\_projects/databases\\_no-backup/DeepMAsED/MAG\\_datasets/AlmeidaA-2019/LLMGQC/final/ERR209633/R2\\_final.fq.gz                                                             & /ebio/abt3\\_projects/databases\\_no-backup/DeepMAsED/MAG\\_datasets/PasolliE-2019/samples\\_Almeida-Pasolli/map//NielsenHB\\_2014\\_\\_O2\\_UC47\\_2\\_\\_bin\\_42/ERR209633.bam      & /ebio/abt3\\_projects/databases\\_no-backup/DeepMAsED/MAG\\_datasets/PasolliE-2019/samples\\_Almeida-Pasolli/ALE//NielsenHB\\_2014\\_\\_O2\\_UC47\\_2\\_\\_bin\\_42.txt               \\\\\n",
       "\\end{tabular}\n"
      ],
      "text/markdown": [
       "\n",
       "Taxon | Fasta | Sample | Read1 | Read2 | Bam | ALE | \n",
       "|---|---|---|\n",
       "| NielsenHB_2014__MH0032__bin_6                                                                                                                              | /ebio/abt3_projects/databases_no-backup/DeepMAsED/MAG_datasets/PasolliE-2019/all_MAGs/SGB_genome_fastas_part1/1626/NielsenHB_2014__MH0032__bin.6.fa.gz     | ERR209130                                                                                                                                                  | /ebio/abt3_projects/databases_no-backup/DeepMAsED/MAG_datasets/AlmeidaA-2019/LLMGQC/final/ERR209130/R1_final.fq.gz                                         | /ebio/abt3_projects/databases_no-backup/DeepMAsED/MAG_datasets/AlmeidaA-2019/LLMGQC/final/ERR209130/R2_final.fq.gz                                         | /ebio/abt3_projects/databases_no-backup/DeepMAsED/MAG_datasets/PasolliE-2019/samples_Almeida-Pasolli/map//NielsenHB_2014__MH0032__bin_6/ERR209130.bam      | /ebio/abt3_projects/databases_no-backup/DeepMAsED/MAG_datasets/PasolliE-2019/samples_Almeida-Pasolli/ALE//NielsenHB_2014__MH0032__bin_6.txt                | \n",
       "| NielsenHB_2014__MH0107__bin_3                                                                                                                              | /ebio/abt3_projects/databases_no-backup/DeepMAsED/MAG_datasets/PasolliE-2019/all_MAGs/SGB_genome_fastas_part1/1684/NielsenHB_2014__MH0107__bin.3.fa.gz     | ERR209342                                                                                                                                                  | /ebio/abt3_projects/databases_no-backup/DeepMAsED/MAG_datasets/AlmeidaA-2019/LLMGQC/final/ERR209342/R1_final.fq.gz                                         | /ebio/abt3_projects/databases_no-backup/DeepMAsED/MAG_datasets/AlmeidaA-2019/LLMGQC/final/ERR209342/R2_final.fq.gz                                         | /ebio/abt3_projects/databases_no-backup/DeepMAsED/MAG_datasets/PasolliE-2019/samples_Almeida-Pasolli/map//NielsenHB_2014__MH0107__bin_3/ERR209342.bam      | /ebio/abt3_projects/databases_no-backup/DeepMAsED/MAG_datasets/PasolliE-2019/samples_Almeida-Pasolli/ALE//NielsenHB_2014__MH0107__bin_3.txt                | \n",
       "| NielsenHB_2014__O2_UC47_2__bin_42                                                                                                                          | /ebio/abt3_projects/databases_no-backup/DeepMAsED/MAG_datasets/PasolliE-2019/all_MAGs/SGB_genome_fastas_part1/1699/NielsenHB_2014__O2_UC47_2__bin.42.fa.gz | ERR209633                                                                                                                                                  | /ebio/abt3_projects/databases_no-backup/DeepMAsED/MAG_datasets/AlmeidaA-2019/LLMGQC/final/ERR209633/R1_final.fq.gz                                         | /ebio/abt3_projects/databases_no-backup/DeepMAsED/MAG_datasets/AlmeidaA-2019/LLMGQC/final/ERR209633/R2_final.fq.gz                                         | /ebio/abt3_projects/databases_no-backup/DeepMAsED/MAG_datasets/PasolliE-2019/samples_Almeida-Pasolli/map//NielsenHB_2014__O2_UC47_2__bin_42/ERR209633.bam  | /ebio/abt3_projects/databases_no-backup/DeepMAsED/MAG_datasets/PasolliE-2019/samples_Almeida-Pasolli/ALE//NielsenHB_2014__O2_UC47_2__bin_42.txt            | \n",
       "\n",
       "\n"
      ],
      "text/plain": [
       "  Taxon                            \n",
       "1 NielsenHB_2014__MH0032__bin_6    \n",
       "2 NielsenHB_2014__MH0107__bin_3    \n",
       "3 NielsenHB_2014__O2_UC47_2__bin_42\n",
       "  Fasta                                                                                                                                                     \n",
       "1 /ebio/abt3_projects/databases_no-backup/DeepMAsED/MAG_datasets/PasolliE-2019/all_MAGs/SGB_genome_fastas_part1/1626/NielsenHB_2014__MH0032__bin.6.fa.gz    \n",
       "2 /ebio/abt3_projects/databases_no-backup/DeepMAsED/MAG_datasets/PasolliE-2019/all_MAGs/SGB_genome_fastas_part1/1684/NielsenHB_2014__MH0107__bin.3.fa.gz    \n",
       "3 /ebio/abt3_projects/databases_no-backup/DeepMAsED/MAG_datasets/PasolliE-2019/all_MAGs/SGB_genome_fastas_part1/1699/NielsenHB_2014__O2_UC47_2__bin.42.fa.gz\n",
       "  Sample   \n",
       "1 ERR209130\n",
       "2 ERR209342\n",
       "3 ERR209633\n",
       "  Read1                                                                                                             \n",
       "1 /ebio/abt3_projects/databases_no-backup/DeepMAsED/MAG_datasets/AlmeidaA-2019/LLMGQC/final/ERR209130/R1_final.fq.gz\n",
       "2 /ebio/abt3_projects/databases_no-backup/DeepMAsED/MAG_datasets/AlmeidaA-2019/LLMGQC/final/ERR209342/R1_final.fq.gz\n",
       "3 /ebio/abt3_projects/databases_no-backup/DeepMAsED/MAG_datasets/AlmeidaA-2019/LLMGQC/final/ERR209633/R1_final.fq.gz\n",
       "  Read2                                                                                                             \n",
       "1 /ebio/abt3_projects/databases_no-backup/DeepMAsED/MAG_datasets/AlmeidaA-2019/LLMGQC/final/ERR209130/R2_final.fq.gz\n",
       "2 /ebio/abt3_projects/databases_no-backup/DeepMAsED/MAG_datasets/AlmeidaA-2019/LLMGQC/final/ERR209342/R2_final.fq.gz\n",
       "3 /ebio/abt3_projects/databases_no-backup/DeepMAsED/MAG_datasets/AlmeidaA-2019/LLMGQC/final/ERR209633/R2_final.fq.gz\n",
       "  Bam                                                                                                                                                      \n",
       "1 /ebio/abt3_projects/databases_no-backup/DeepMAsED/MAG_datasets/PasolliE-2019/samples_Almeida-Pasolli/map//NielsenHB_2014__MH0032__bin_6/ERR209130.bam    \n",
       "2 /ebio/abt3_projects/databases_no-backup/DeepMAsED/MAG_datasets/PasolliE-2019/samples_Almeida-Pasolli/map//NielsenHB_2014__MH0107__bin_3/ERR209342.bam    \n",
       "3 /ebio/abt3_projects/databases_no-backup/DeepMAsED/MAG_datasets/PasolliE-2019/samples_Almeida-Pasolli/map//NielsenHB_2014__O2_UC47_2__bin_42/ERR209633.bam\n",
       "  ALE                                                                                                                                            \n",
       "1 /ebio/abt3_projects/databases_no-backup/DeepMAsED/MAG_datasets/PasolliE-2019/samples_Almeida-Pasolli/ALE//NielsenHB_2014__MH0032__bin_6.txt    \n",
       "2 /ebio/abt3_projects/databases_no-backup/DeepMAsED/MAG_datasets/PasolliE-2019/samples_Almeida-Pasolli/ALE//NielsenHB_2014__MH0107__bin_3.txt    \n",
       "3 /ebio/abt3_projects/databases_no-backup/DeepMAsED/MAG_datasets/PasolliE-2019/samples_Almeida-Pasolli/ALE//NielsenHB_2014__O2_UC47_2__bin_42.txt"
      ]
     },
     "metadata": {},
     "output_type": "display_data"
    }
   ],
   "source": [
    "failed_jobs = MAGs_n143 %>%\n",
    "    filter(! Taxon %in% feat_files)\n",
    "\n",
    "failed_jobs %>% nrow %>% print\n",
    "failed_jobs %>% head(n=3)"
   ]
  },
  {
   "cell_type": "markdown",
   "metadata": {},
   "source": [
    "## ALE on failed jobs"
   ]
  },
  {
   "cell_type": "code",
   "execution_count": 42,
   "metadata": {
    "ExecuteTime": {
     "end_time": "2019-07-29T12:38:06.079639Z",
     "start_time": "2019-07-29T12:38:06.011Z"
    }
   },
   "outputs": [],
   "source": [
    "# cluster resources\n",
    "resources = list(h_rt = '00:59:00',\n",
    "                 h_vmem = '64G',\n",
    "                 threads = '1',\n",
    "                 conda.env = 'py3_physeq')     # conda env with batchtools installed\n",
    "plan(batchtools_sge, resources=resources, workers=40)"
   ]
  },
  {
   "cell_type": "code",
   "execution_count": 43,
   "metadata": {
    "ExecuteTime": {
     "end_time": "2019-07-29T12:38:11.526422Z",
     "start_time": "2019-07-29T12:38:11.178Z"
    }
   },
   "outputs": [
    {
     "name": "stdout",
     "output_type": "stream",
     "text": [
      "[1] 106\n"
     ]
    },
    {
     "data": {
      "text/html": [
       "'/ebio/abt3_projects/databases_no-backup/DeepMAsED/bin/ALE/src/ALE /ebio/abt3_projects/databases_no-backup/DeepMAsED/MAG_datasets/PasolliE-2019/samples_Almeida-Pasolli/map//NielsenHB_2014__MH0032__bin_6/ERR209130.bam /ebio/abt3_projects/databases_no-backup/DeepMAsED/MAG_datasets/PasolliE-2019/all_MAGs/SGB_genome_fastas_part1/1626/NielsenHB_2014__MH0032__bin.6.fa.gz /ebio/abt3_projects/databases_no-backup/DeepMAsED/MAG_datasets/PasolliE-2019/samples_Almeida-Pasolli/ALE//NielsenHB_2014__MH0032__bin_6.txt'"
      ],
      "text/latex": [
       "'/ebio/abt3\\_projects/databases\\_no-backup/DeepMAsED/bin/ALE/src/ALE /ebio/abt3\\_projects/databases\\_no-backup/DeepMAsED/MAG\\_datasets/PasolliE-2019/samples\\_Almeida-Pasolli/map//NielsenHB\\_2014\\_\\_MH0032\\_\\_bin\\_6/ERR209130.bam /ebio/abt3\\_projects/databases\\_no-backup/DeepMAsED/MAG\\_datasets/PasolliE-2019/all\\_MAGs/SGB\\_genome\\_fastas\\_part1/1626/NielsenHB\\_2014\\_\\_MH0032\\_\\_bin.6.fa.gz /ebio/abt3\\_projects/databases\\_no-backup/DeepMAsED/MAG\\_datasets/PasolliE-2019/samples\\_Almeida-Pasolli/ALE//NielsenHB\\_2014\\_\\_MH0032\\_\\_bin\\_6.txt'"
      ],
      "text/markdown": [
       "'/ebio/abt3_projects/databases_no-backup/DeepMAsED/bin/ALE/src/ALE /ebio/abt3_projects/databases_no-backup/DeepMAsED/MAG_datasets/PasolliE-2019/samples_Almeida-Pasolli/map//NielsenHB_2014__MH0032__bin_6/ERR209130.bam /ebio/abt3_projects/databases_no-backup/DeepMAsED/MAG_datasets/PasolliE-2019/all_MAGs/SGB_genome_fastas_part1/1626/NielsenHB_2014__MH0032__bin.6.fa.gz /ebio/abt3_projects/databases_no-backup/DeepMAsED/MAG_datasets/PasolliE-2019/samples_Almeida-Pasolli/ALE//NielsenHB_2014__MH0032__bin_6.txt'"
      ],
      "text/plain": [
       "[1] \"/ebio/abt3_projects/databases_no-backup/DeepMAsED/bin/ALE/src/ALE /ebio/abt3_projects/databases_no-backup/DeepMAsED/MAG_datasets/PasolliE-2019/samples_Almeida-Pasolli/map//NielsenHB_2014__MH0032__bin_6/ERR209130.bam /ebio/abt3_projects/databases_no-backup/DeepMAsED/MAG_datasets/PasolliE-2019/all_MAGs/SGB_genome_fastas_part1/1626/NielsenHB_2014__MH0032__bin.6.fa.gz /ebio/abt3_projects/databases_no-backup/DeepMAsED/MAG_datasets/PasolliE-2019/samples_Almeida-Pasolli/ALE//NielsenHB_2014__MH0032__bin_6.txt\""
      ]
     },
     "metadata": {},
     "output_type": "display_data"
    }
   ],
   "source": [
    "ALE_params = function(x, exe){\n",
    "    cmd = '{exe} {bam} {fasta} {outfile}'\n",
    "    cmd = glue::glue(cmd, exe=exe, bam=x[['Bam']], fasta=x[['Fasta']], outfile=x[['ALE']])\n",
    "    return(cmd)\n",
    "}\n",
    "\n",
    "ALE_cmds = apply(failed_jobs, 1, ALE_params, exe=ALE_exe) %>%\n",
    "    as.list\n",
    "\n",
    "ALE_cmds %>% length %>% print\n",
    "ALE_cmds[[1]]"
   ]
  },
  {
   "cell_type": "code",
   "execution_count": 44,
   "metadata": {
    "ExecuteTime": {
     "end_time": "2019-07-29T12:41:41.979714Z",
     "start_time": "2019-07-29T12:38:13.363Z"
    }
   },
   "outputs": [
    {
     "name": "stdout",
     "output_type": "stream",
     "text": [
      "[1] 106\n"
     ]
    },
    {
     "data": {
      "text/html": [],
      "text/latex": [],
      "text/markdown": [],
      "text/plain": [
       "character(0)\n",
       "attr(,\"status\")\n",
       "[1] 136"
      ]
     },
     "metadata": {},
     "output_type": "display_data"
    }
   ],
   "source": [
    "# apply function on cluster\n",
    "job_ret = future_lapply(ALE_cmds, FUN = function(x) bash_job(x, conda_env=conda_env))\n",
    "job_ret %>% length %>% print\n",
    "job_ret[[1]]"
   ]
  },
  {
   "cell_type": "markdown",
   "metadata": {},
   "source": [
    "## Finding failed jobs"
   ]
  },
  {
   "cell_type": "code",
   "execution_count": 45,
   "metadata": {
    "ExecuteTime": {
     "end_time": "2019-07-29T14:54:29.130986Z",
     "start_time": "2019-07-29T14:54:28.705Z"
    }
   },
   "outputs": [
    {
     "data": {
      "text/html": [
       "984"
      ],
      "text/latex": [
       "984"
      ],
      "text/markdown": [
       "984"
      ],
      "text/plain": [
       "[1] 984"
      ]
     },
     "metadata": {},
     "output_type": "display_data"
    },
    {
     "data": {
      "text/html": [
       "<ol class=list-inline>\n",
       "\t<li>'BackhedF_2015__SID201_4M__bin_1'</li>\n",
       "\t<li>'BackhedF_2015__SID201_4M__bin_10'</li>\n",
       "\t<li>'BackhedF_2015__SID201_4M__bin_12'</li>\n",
       "</ol>\n"
      ],
      "text/latex": [
       "\\begin{enumerate*}\n",
       "\\item 'BackhedF\\_2015\\_\\_SID201\\_4M\\_\\_bin\\_1'\n",
       "\\item 'BackhedF\\_2015\\_\\_SID201\\_4M\\_\\_bin\\_10'\n",
       "\\item 'BackhedF\\_2015\\_\\_SID201\\_4M\\_\\_bin\\_12'\n",
       "\\end{enumerate*}\n"
      ],
      "text/markdown": [
       "1. 'BackhedF_2015__SID201_4M__bin_1'\n",
       "2. 'BackhedF_2015__SID201_4M__bin_10'\n",
       "3. 'BackhedF_2015__SID201_4M__bin_12'\n",
       "\n",
       "\n"
      ],
      "text/plain": [
       "[1] \"BackhedF_2015__SID201_4M__bin_1\"  \"BackhedF_2015__SID201_4M__bin_10\"\n",
       "[3] \"BackhedF_2015__SID201_4M__bin_12\""
      ]
     },
     "metadata": {},
     "output_type": "display_data"
    }
   ],
   "source": [
    "P = map_dir %>% dirname %>% file.path('ALE')\n",
    "feat_files = list.files(P, '*.txt$', recursive=TRUE) %>%\n",
    "    gsub('\\\\.txt$', '', .)\n",
    "feat_files %>% length\n",
    "feat_files %>% head(n=3)"
   ]
  },
  {
   "cell_type": "code",
   "execution_count": 46,
   "metadata": {
    "ExecuteTime": {
     "end_time": "2019-07-29T14:54:35.671793Z",
     "start_time": "2019-07-29T14:54:35.614Z"
    }
   },
   "outputs": [
    {
     "name": "stdout",
     "output_type": "stream",
     "text": [
      "[1] 106\n"
     ]
    },
    {
     "data": {
      "text/html": [
       "<table>\n",
       "<thead><tr><th scope=col>Taxon</th><th scope=col>Fasta</th><th scope=col>Sample</th><th scope=col>Read1</th><th scope=col>Read2</th><th scope=col>Bam</th><th scope=col>ALE</th></tr></thead>\n",
       "<tbody>\n",
       "\t<tr><td>NielsenHB_2014__MH0032__bin_6                                                                                                                             </td><td>/ebio/abt3_projects/databases_no-backup/DeepMAsED/MAG_datasets/PasolliE-2019/all_MAGs/SGB_genome_fastas_part1/1626/NielsenHB_2014__MH0032__bin.6.fa.gz    </td><td>ERR209130                                                                                                                                                 </td><td>/ebio/abt3_projects/databases_no-backup/DeepMAsED/MAG_datasets/AlmeidaA-2019/LLMGQC/final/ERR209130/R1_final.fq.gz                                        </td><td>/ebio/abt3_projects/databases_no-backup/DeepMAsED/MAG_datasets/AlmeidaA-2019/LLMGQC/final/ERR209130/R2_final.fq.gz                                        </td><td>/ebio/abt3_projects/databases_no-backup/DeepMAsED/MAG_datasets/PasolliE-2019/samples_Almeida-Pasolli/map//NielsenHB_2014__MH0032__bin_6/ERR209130.bam     </td><td>/ebio/abt3_projects/databases_no-backup/DeepMAsED/MAG_datasets/PasolliE-2019/samples_Almeida-Pasolli/ALE//NielsenHB_2014__MH0032__bin_6.txt               </td></tr>\n",
       "\t<tr><td>NielsenHB_2014__MH0107__bin_3                                                                                                                             </td><td>/ebio/abt3_projects/databases_no-backup/DeepMAsED/MAG_datasets/PasolliE-2019/all_MAGs/SGB_genome_fastas_part1/1684/NielsenHB_2014__MH0107__bin.3.fa.gz    </td><td>ERR209342                                                                                                                                                 </td><td>/ebio/abt3_projects/databases_no-backup/DeepMAsED/MAG_datasets/AlmeidaA-2019/LLMGQC/final/ERR209342/R1_final.fq.gz                                        </td><td>/ebio/abt3_projects/databases_no-backup/DeepMAsED/MAG_datasets/AlmeidaA-2019/LLMGQC/final/ERR209342/R2_final.fq.gz                                        </td><td>/ebio/abt3_projects/databases_no-backup/DeepMAsED/MAG_datasets/PasolliE-2019/samples_Almeida-Pasolli/map//NielsenHB_2014__MH0107__bin_3/ERR209342.bam     </td><td>/ebio/abt3_projects/databases_no-backup/DeepMAsED/MAG_datasets/PasolliE-2019/samples_Almeida-Pasolli/ALE//NielsenHB_2014__MH0107__bin_3.txt               </td></tr>\n",
       "\t<tr><td>NielsenHB_2014__O2_UC47_2__bin_42                                                                                                                         </td><td>/ebio/abt3_projects/databases_no-backup/DeepMAsED/MAG_datasets/PasolliE-2019/all_MAGs/SGB_genome_fastas_part1/1699/NielsenHB_2014__O2_UC47_2__bin.42.fa.gz</td><td>ERR209633                                                                                                                                                 </td><td>/ebio/abt3_projects/databases_no-backup/DeepMAsED/MAG_datasets/AlmeidaA-2019/LLMGQC/final/ERR209633/R1_final.fq.gz                                        </td><td>/ebio/abt3_projects/databases_no-backup/DeepMAsED/MAG_datasets/AlmeidaA-2019/LLMGQC/final/ERR209633/R2_final.fq.gz                                        </td><td>/ebio/abt3_projects/databases_no-backup/DeepMAsED/MAG_datasets/PasolliE-2019/samples_Almeida-Pasolli/map//NielsenHB_2014__O2_UC47_2__bin_42/ERR209633.bam </td><td>/ebio/abt3_projects/databases_no-backup/DeepMAsED/MAG_datasets/PasolliE-2019/samples_Almeida-Pasolli/ALE//NielsenHB_2014__O2_UC47_2__bin_42.txt           </td></tr>\n",
       "</tbody>\n",
       "</table>\n"
      ],
      "text/latex": [
       "\\begin{tabular}{r|lllllll}\n",
       " Taxon & Fasta & Sample & Read1 & Read2 & Bam & ALE\\\\\n",
       "\\hline\n",
       "\t NielsenHB\\_2014\\_\\_MH0032\\_\\_bin\\_6                                                                                                                                          & /ebio/abt3\\_projects/databases\\_no-backup/DeepMAsED/MAG\\_datasets/PasolliE-2019/all\\_MAGs/SGB\\_genome\\_fastas\\_part1/1626/NielsenHB\\_2014\\_\\_MH0032\\_\\_bin.6.fa.gz     & ERR209130                                                                                                                                                                          & /ebio/abt3\\_projects/databases\\_no-backup/DeepMAsED/MAG\\_datasets/AlmeidaA-2019/LLMGQC/final/ERR209130/R1\\_final.fq.gz                                                         & /ebio/abt3\\_projects/databases\\_no-backup/DeepMAsED/MAG\\_datasets/AlmeidaA-2019/LLMGQC/final/ERR209130/R2\\_final.fq.gz                                                         & /ebio/abt3\\_projects/databases\\_no-backup/DeepMAsED/MAG\\_datasets/PasolliE-2019/samples\\_Almeida-Pasolli/map//NielsenHB\\_2014\\_\\_MH0032\\_\\_bin\\_6/ERR209130.bam          & /ebio/abt3\\_projects/databases\\_no-backup/DeepMAsED/MAG\\_datasets/PasolliE-2019/samples\\_Almeida-Pasolli/ALE//NielsenHB\\_2014\\_\\_MH0032\\_\\_bin\\_6.txt                   \\\\\n",
       "\t NielsenHB\\_2014\\_\\_MH0107\\_\\_bin\\_3                                                                                                                                          & /ebio/abt3\\_projects/databases\\_no-backup/DeepMAsED/MAG\\_datasets/PasolliE-2019/all\\_MAGs/SGB\\_genome\\_fastas\\_part1/1684/NielsenHB\\_2014\\_\\_MH0107\\_\\_bin.3.fa.gz     & ERR209342                                                                                                                                                                          & /ebio/abt3\\_projects/databases\\_no-backup/DeepMAsED/MAG\\_datasets/AlmeidaA-2019/LLMGQC/final/ERR209342/R1\\_final.fq.gz                                                         & /ebio/abt3\\_projects/databases\\_no-backup/DeepMAsED/MAG\\_datasets/AlmeidaA-2019/LLMGQC/final/ERR209342/R2\\_final.fq.gz                                                         & /ebio/abt3\\_projects/databases\\_no-backup/DeepMAsED/MAG\\_datasets/PasolliE-2019/samples\\_Almeida-Pasolli/map//NielsenHB\\_2014\\_\\_MH0107\\_\\_bin\\_3/ERR209342.bam          & /ebio/abt3\\_projects/databases\\_no-backup/DeepMAsED/MAG\\_datasets/PasolliE-2019/samples\\_Almeida-Pasolli/ALE//NielsenHB\\_2014\\_\\_MH0107\\_\\_bin\\_3.txt                   \\\\\n",
       "\t NielsenHB\\_2014\\_\\_O2\\_UC47\\_2\\_\\_bin\\_42                                                                                                                                      & /ebio/abt3\\_projects/databases\\_no-backup/DeepMAsED/MAG\\_datasets/PasolliE-2019/all\\_MAGs/SGB\\_genome\\_fastas\\_part1/1699/NielsenHB\\_2014\\_\\_O2\\_UC47\\_2\\_\\_bin.42.fa.gz & ERR209633                                                                                                                                                                              & /ebio/abt3\\_projects/databases\\_no-backup/DeepMAsED/MAG\\_datasets/AlmeidaA-2019/LLMGQC/final/ERR209633/R1\\_final.fq.gz                                                             & /ebio/abt3\\_projects/databases\\_no-backup/DeepMAsED/MAG\\_datasets/AlmeidaA-2019/LLMGQC/final/ERR209633/R2\\_final.fq.gz                                                             & /ebio/abt3\\_projects/databases\\_no-backup/DeepMAsED/MAG\\_datasets/PasolliE-2019/samples\\_Almeida-Pasolli/map//NielsenHB\\_2014\\_\\_O2\\_UC47\\_2\\_\\_bin\\_42/ERR209633.bam      & /ebio/abt3\\_projects/databases\\_no-backup/DeepMAsED/MAG\\_datasets/PasolliE-2019/samples\\_Almeida-Pasolli/ALE//NielsenHB\\_2014\\_\\_O2\\_UC47\\_2\\_\\_bin\\_42.txt               \\\\\n",
       "\\end{tabular}\n"
      ],
      "text/markdown": [
       "\n",
       "Taxon | Fasta | Sample | Read1 | Read2 | Bam | ALE | \n",
       "|---|---|---|\n",
       "| NielsenHB_2014__MH0032__bin_6                                                                                                                              | /ebio/abt3_projects/databases_no-backup/DeepMAsED/MAG_datasets/PasolliE-2019/all_MAGs/SGB_genome_fastas_part1/1626/NielsenHB_2014__MH0032__bin.6.fa.gz     | ERR209130                                                                                                                                                  | /ebio/abt3_projects/databases_no-backup/DeepMAsED/MAG_datasets/AlmeidaA-2019/LLMGQC/final/ERR209130/R1_final.fq.gz                                         | /ebio/abt3_projects/databases_no-backup/DeepMAsED/MAG_datasets/AlmeidaA-2019/LLMGQC/final/ERR209130/R2_final.fq.gz                                         | /ebio/abt3_projects/databases_no-backup/DeepMAsED/MAG_datasets/PasolliE-2019/samples_Almeida-Pasolli/map//NielsenHB_2014__MH0032__bin_6/ERR209130.bam      | /ebio/abt3_projects/databases_no-backup/DeepMAsED/MAG_datasets/PasolliE-2019/samples_Almeida-Pasolli/ALE//NielsenHB_2014__MH0032__bin_6.txt                | \n",
       "| NielsenHB_2014__MH0107__bin_3                                                                                                                              | /ebio/abt3_projects/databases_no-backup/DeepMAsED/MAG_datasets/PasolliE-2019/all_MAGs/SGB_genome_fastas_part1/1684/NielsenHB_2014__MH0107__bin.3.fa.gz     | ERR209342                                                                                                                                                  | /ebio/abt3_projects/databases_no-backup/DeepMAsED/MAG_datasets/AlmeidaA-2019/LLMGQC/final/ERR209342/R1_final.fq.gz                                         | /ebio/abt3_projects/databases_no-backup/DeepMAsED/MAG_datasets/AlmeidaA-2019/LLMGQC/final/ERR209342/R2_final.fq.gz                                         | /ebio/abt3_projects/databases_no-backup/DeepMAsED/MAG_datasets/PasolliE-2019/samples_Almeida-Pasolli/map//NielsenHB_2014__MH0107__bin_3/ERR209342.bam      | /ebio/abt3_projects/databases_no-backup/DeepMAsED/MAG_datasets/PasolliE-2019/samples_Almeida-Pasolli/ALE//NielsenHB_2014__MH0107__bin_3.txt                | \n",
       "| NielsenHB_2014__O2_UC47_2__bin_42                                                                                                                          | /ebio/abt3_projects/databases_no-backup/DeepMAsED/MAG_datasets/PasolliE-2019/all_MAGs/SGB_genome_fastas_part1/1699/NielsenHB_2014__O2_UC47_2__bin.42.fa.gz | ERR209633                                                                                                                                                  | /ebio/abt3_projects/databases_no-backup/DeepMAsED/MAG_datasets/AlmeidaA-2019/LLMGQC/final/ERR209633/R1_final.fq.gz                                         | /ebio/abt3_projects/databases_no-backup/DeepMAsED/MAG_datasets/AlmeidaA-2019/LLMGQC/final/ERR209633/R2_final.fq.gz                                         | /ebio/abt3_projects/databases_no-backup/DeepMAsED/MAG_datasets/PasolliE-2019/samples_Almeida-Pasolli/map//NielsenHB_2014__O2_UC47_2__bin_42/ERR209633.bam  | /ebio/abt3_projects/databases_no-backup/DeepMAsED/MAG_datasets/PasolliE-2019/samples_Almeida-Pasolli/ALE//NielsenHB_2014__O2_UC47_2__bin_42.txt            | \n",
       "\n",
       "\n"
      ],
      "text/plain": [
       "  Taxon                            \n",
       "1 NielsenHB_2014__MH0032__bin_6    \n",
       "2 NielsenHB_2014__MH0107__bin_3    \n",
       "3 NielsenHB_2014__O2_UC47_2__bin_42\n",
       "  Fasta                                                                                                                                                     \n",
       "1 /ebio/abt3_projects/databases_no-backup/DeepMAsED/MAG_datasets/PasolliE-2019/all_MAGs/SGB_genome_fastas_part1/1626/NielsenHB_2014__MH0032__bin.6.fa.gz    \n",
       "2 /ebio/abt3_projects/databases_no-backup/DeepMAsED/MAG_datasets/PasolliE-2019/all_MAGs/SGB_genome_fastas_part1/1684/NielsenHB_2014__MH0107__bin.3.fa.gz    \n",
       "3 /ebio/abt3_projects/databases_no-backup/DeepMAsED/MAG_datasets/PasolliE-2019/all_MAGs/SGB_genome_fastas_part1/1699/NielsenHB_2014__O2_UC47_2__bin.42.fa.gz\n",
       "  Sample   \n",
       "1 ERR209130\n",
       "2 ERR209342\n",
       "3 ERR209633\n",
       "  Read1                                                                                                             \n",
       "1 /ebio/abt3_projects/databases_no-backup/DeepMAsED/MAG_datasets/AlmeidaA-2019/LLMGQC/final/ERR209130/R1_final.fq.gz\n",
       "2 /ebio/abt3_projects/databases_no-backup/DeepMAsED/MAG_datasets/AlmeidaA-2019/LLMGQC/final/ERR209342/R1_final.fq.gz\n",
       "3 /ebio/abt3_projects/databases_no-backup/DeepMAsED/MAG_datasets/AlmeidaA-2019/LLMGQC/final/ERR209633/R1_final.fq.gz\n",
       "  Read2                                                                                                             \n",
       "1 /ebio/abt3_projects/databases_no-backup/DeepMAsED/MAG_datasets/AlmeidaA-2019/LLMGQC/final/ERR209130/R2_final.fq.gz\n",
       "2 /ebio/abt3_projects/databases_no-backup/DeepMAsED/MAG_datasets/AlmeidaA-2019/LLMGQC/final/ERR209342/R2_final.fq.gz\n",
       "3 /ebio/abt3_projects/databases_no-backup/DeepMAsED/MAG_datasets/AlmeidaA-2019/LLMGQC/final/ERR209633/R2_final.fq.gz\n",
       "  Bam                                                                                                                                                      \n",
       "1 /ebio/abt3_projects/databases_no-backup/DeepMAsED/MAG_datasets/PasolliE-2019/samples_Almeida-Pasolli/map//NielsenHB_2014__MH0032__bin_6/ERR209130.bam    \n",
       "2 /ebio/abt3_projects/databases_no-backup/DeepMAsED/MAG_datasets/PasolliE-2019/samples_Almeida-Pasolli/map//NielsenHB_2014__MH0107__bin_3/ERR209342.bam    \n",
       "3 /ebio/abt3_projects/databases_no-backup/DeepMAsED/MAG_datasets/PasolliE-2019/samples_Almeida-Pasolli/map//NielsenHB_2014__O2_UC47_2__bin_42/ERR209633.bam\n",
       "  ALE                                                                                                                                            \n",
       "1 /ebio/abt3_projects/databases_no-backup/DeepMAsED/MAG_datasets/PasolliE-2019/samples_Almeida-Pasolli/ALE//NielsenHB_2014__MH0032__bin_6.txt    \n",
       "2 /ebio/abt3_projects/databases_no-backup/DeepMAsED/MAG_datasets/PasolliE-2019/samples_Almeida-Pasolli/ALE//NielsenHB_2014__MH0107__bin_3.txt    \n",
       "3 /ebio/abt3_projects/databases_no-backup/DeepMAsED/MAG_datasets/PasolliE-2019/samples_Almeida-Pasolli/ALE//NielsenHB_2014__O2_UC47_2__bin_42.txt"
      ]
     },
     "metadata": {},
     "output_type": "display_data"
    }
   ],
   "source": [
    "failed_jobs = MAGs_n143 %>%\n",
    "    filter(! Taxon %in% feat_files)\n",
    "\n",
    "failed_jobs %>% nrow %>% print\n",
    "failed_jobs %>% head(n=3)"
   ]
  },
  {
   "cell_type": "markdown",
   "metadata": {},
   "source": [
    "#### Notes\n",
    "\n",
    "* It appears that the failed MAGs are a result of lack of coverage"
   ]
  },
  {
   "cell_type": "markdown",
   "metadata": {},
   "source": [
    "# Summarizing results"
   ]
  },
  {
   "cell_type": "code",
   "execution_count": 47,
   "metadata": {
    "ExecuteTime": {
     "end_time": "2019-07-29T14:54:45.771818Z",
     "start_time": "2019-07-29T14:54:45.621Z"
    }
   },
   "outputs": [
    {
     "name": "stdout",
     "output_type": "stream",
     "text": [
      "[1] 984\n"
     ]
    },
    {
     "data": {
      "text/html": [
       "<ol class=list-inline>\n",
       "\t<li>'/ebio/abt3_projects/databases_no-backup/DeepMAsED/MAG_datasets/PasolliE-2019/samples_Almeida-Pasolli/ALE//BackhedF_2015__SID201_4M__bin_1.txt'</li>\n",
       "\t<li>'/ebio/abt3_projects/databases_no-backup/DeepMAsED/MAG_datasets/PasolliE-2019/samples_Almeida-Pasolli/ALE//BackhedF_2015__SID201_4M__bin_10.txt'</li>\n",
       "\t<li>'/ebio/abt3_projects/databases_no-backup/DeepMAsED/MAG_datasets/PasolliE-2019/samples_Almeida-Pasolli/ALE//BackhedF_2015__SID201_4M__bin_12.txt'</li>\n",
       "\t<li>'/ebio/abt3_projects/databases_no-backup/DeepMAsED/MAG_datasets/PasolliE-2019/samples_Almeida-Pasolli/ALE//BackhedF_2015__SID201_4M__bin_16.txt'</li>\n",
       "\t<li>'/ebio/abt3_projects/databases_no-backup/DeepMAsED/MAG_datasets/PasolliE-2019/samples_Almeida-Pasolli/ALE//BackhedF_2015__SID201_4M__bin_5.txt'</li>\n",
       "\t<li>'/ebio/abt3_projects/databases_no-backup/DeepMAsED/MAG_datasets/PasolliE-2019/samples_Almeida-Pasolli/ALE//BackhedF_2015__SID201_4M__bin_6.txt'</li>\n",
       "</ol>\n"
      ],
      "text/latex": [
       "\\begin{enumerate*}\n",
       "\\item '/ebio/abt3\\_projects/databases\\_no-backup/DeepMAsED/MAG\\_datasets/PasolliE-2019/samples\\_Almeida-Pasolli/ALE//BackhedF\\_2015\\_\\_SID201\\_4M\\_\\_bin\\_1.txt'\n",
       "\\item '/ebio/abt3\\_projects/databases\\_no-backup/DeepMAsED/MAG\\_datasets/PasolliE-2019/samples\\_Almeida-Pasolli/ALE//BackhedF\\_2015\\_\\_SID201\\_4M\\_\\_bin\\_10.txt'\n",
       "\\item '/ebio/abt3\\_projects/databases\\_no-backup/DeepMAsED/MAG\\_datasets/PasolliE-2019/samples\\_Almeida-Pasolli/ALE//BackhedF\\_2015\\_\\_SID201\\_4M\\_\\_bin\\_12.txt'\n",
       "\\item '/ebio/abt3\\_projects/databases\\_no-backup/DeepMAsED/MAG\\_datasets/PasolliE-2019/samples\\_Almeida-Pasolli/ALE//BackhedF\\_2015\\_\\_SID201\\_4M\\_\\_bin\\_16.txt'\n",
       "\\item '/ebio/abt3\\_projects/databases\\_no-backup/DeepMAsED/MAG\\_datasets/PasolliE-2019/samples\\_Almeida-Pasolli/ALE//BackhedF\\_2015\\_\\_SID201\\_4M\\_\\_bin\\_5.txt'\n",
       "\\item '/ebio/abt3\\_projects/databases\\_no-backup/DeepMAsED/MAG\\_datasets/PasolliE-2019/samples\\_Almeida-Pasolli/ALE//BackhedF\\_2015\\_\\_SID201\\_4M\\_\\_bin\\_6.txt'\n",
       "\\end{enumerate*}\n"
      ],
      "text/markdown": [
       "1. '/ebio/abt3_projects/databases_no-backup/DeepMAsED/MAG_datasets/PasolliE-2019/samples_Almeida-Pasolli/ALE//BackhedF_2015__SID201_4M__bin_1.txt'\n",
       "2. '/ebio/abt3_projects/databases_no-backup/DeepMAsED/MAG_datasets/PasolliE-2019/samples_Almeida-Pasolli/ALE//BackhedF_2015__SID201_4M__bin_10.txt'\n",
       "3. '/ebio/abt3_projects/databases_no-backup/DeepMAsED/MAG_datasets/PasolliE-2019/samples_Almeida-Pasolli/ALE//BackhedF_2015__SID201_4M__bin_12.txt'\n",
       "4. '/ebio/abt3_projects/databases_no-backup/DeepMAsED/MAG_datasets/PasolliE-2019/samples_Almeida-Pasolli/ALE//BackhedF_2015__SID201_4M__bin_16.txt'\n",
       "5. '/ebio/abt3_projects/databases_no-backup/DeepMAsED/MAG_datasets/PasolliE-2019/samples_Almeida-Pasolli/ALE//BackhedF_2015__SID201_4M__bin_5.txt'\n",
       "6. '/ebio/abt3_projects/databases_no-backup/DeepMAsED/MAG_datasets/PasolliE-2019/samples_Almeida-Pasolli/ALE//BackhedF_2015__SID201_4M__bin_6.txt'\n",
       "\n",
       "\n"
      ],
      "text/plain": [
       "[1] \"/ebio/abt3_projects/databases_no-backup/DeepMAsED/MAG_datasets/PasolliE-2019/samples_Almeida-Pasolli/ALE//BackhedF_2015__SID201_4M__bin_1.txt\" \n",
       "[2] \"/ebio/abt3_projects/databases_no-backup/DeepMAsED/MAG_datasets/PasolliE-2019/samples_Almeida-Pasolli/ALE//BackhedF_2015__SID201_4M__bin_10.txt\"\n",
       "[3] \"/ebio/abt3_projects/databases_no-backup/DeepMAsED/MAG_datasets/PasolliE-2019/samples_Almeida-Pasolli/ALE//BackhedF_2015__SID201_4M__bin_12.txt\"\n",
       "[4] \"/ebio/abt3_projects/databases_no-backup/DeepMAsED/MAG_datasets/PasolliE-2019/samples_Almeida-Pasolli/ALE//BackhedF_2015__SID201_4M__bin_16.txt\"\n",
       "[5] \"/ebio/abt3_projects/databases_no-backup/DeepMAsED/MAG_datasets/PasolliE-2019/samples_Almeida-Pasolli/ALE//BackhedF_2015__SID201_4M__bin_5.txt\" \n",
       "[6] \"/ebio/abt3_projects/databases_no-backup/DeepMAsED/MAG_datasets/PasolliE-2019/samples_Almeida-Pasolli/ALE//BackhedF_2015__SID201_4M__bin_6.txt\" "
      ]
     },
     "metadata": {},
     "output_type": "display_data"
    }
   ],
   "source": [
    "ALE_res_files = list.files(work_dir, '*.txt$', recursive=TRUE, full.names=TRUE)\n",
    "ALE_res_files %>% length %>% print\n",
    "ALE_res_files %>% head"
   ]
  },
  {
   "cell_type": "markdown",
   "metadata": {},
   "source": [
    "# sessionInfo"
   ]
  },
  {
   "cell_type": "code",
   "execution_count": 48,
   "metadata": {
    "ExecuteTime": {
     "end_time": "2019-07-29T14:54:58.184952Z",
     "start_time": "2019-07-29T14:54:57.629Z"
    }
   },
   "outputs": [
    {
     "data": {
      "text/plain": [
       "R version 3.4.1 (2017-06-30)\n",
       "Platform: x86_64-pc-linux-gnu (64-bit)\n",
       "Running under: Ubuntu 18.04.2 LTS\n",
       "\n",
       "Matrix products: default\n",
       "BLAS: /ebio/abt3_projects/software/miniconda3_gt4.4/envs/py3_physeq/lib/R/lib/libRblas.so\n",
       "LAPACK: /ebio/abt3_projects/software/miniconda3_gt4.4/envs/py3_physeq/lib/R/lib/libRlapack.so\n",
       "\n",
       "locale:\n",
       " [1] LC_CTYPE=en_US.UTF-8       LC_NUMERIC=C              \n",
       " [3] LC_TIME=en_US.UTF-8        LC_COLLATE=en_US.UTF-8    \n",
       " [5] LC_MONETARY=en_US.UTF-8    LC_MESSAGES=en_US.UTF-8   \n",
       " [7] LC_PAPER=en_US.UTF-8       LC_NAME=C                 \n",
       " [9] LC_ADDRESS=C               LC_TELEPHONE=C            \n",
       "[11] LC_MEASUREMENT=en_US.UTF-8 LC_IDENTIFICATION=C       \n",
       "\n",
       "attached base packages:\n",
       "[1] parallel  stats     graphics  grDevices utils     datasets  methods  \n",
       "[8] base     \n",
       "\n",
       "other attached packages:\n",
       " [1] bindrcpp_0.2.2          future.apply_1.0.0      future.batchtools_0.7.1\n",
       " [4] future_1.9.0            doParallel_1.0.11       iterators_1.0.10       \n",
       " [7] foreach_1.4.4           data.table_1.11.4       ggplot2_3.0.0          \n",
       "[10] tidyr_0.8.1             dplyr_0.7.6            \n",
       "\n",
       "loaded via a namespace (and not attached):\n",
       " [1] pbdZMQ_0.3-2      progress_1.2.0    tidyselect_0.2.4  repr_0.15.0      \n",
       " [5] purrr_0.2.4       listenv_0.7.0     colorspace_1.3-2  htmltools_0.3.6  \n",
       " [9] base64enc_0.1-3   rlang_0.2.1       pillar_1.2.2      glue_1.3.0       \n",
       "[13] withr_2.1.1       rappdirs_0.3.1    uuid_0.1-2        bindr_0.1.1      \n",
       "[17] plyr_1.8.4        stringr_1.3.1     munsell_0.5.0     gtable_0.2.0     \n",
       "[21] codetools_0.2-15  evaluate_0.10.1   batchtools_0.9.11 IRdisplay_0.4.4  \n",
       "[25] Rcpp_0.12.17      scales_0.5.0      backports_1.1.2   checkmate_1.8.5  \n",
       "[29] IRkernel_0.8.12   jsonlite_1.5      fs_1.2.6          brew_1.0-6       \n",
       "[33] hms_0.4.2         digest_0.6.15     stringi_1.2.3     grid_3.4.1       \n",
       "[37] tools_3.4.1       magrittr_1.5      base64url_1.4     lazyeval_0.2.1   \n",
       "[41] tibble_1.4.2      crayon_1.3.4      pkgconfig_2.0.1   prettyunits_1.0.2\n",
       "[45] assertthat_0.2.0  R6_2.2.2          globals_0.12.2    compiler_3.4.1   "
      ]
     },
     "metadata": {},
     "output_type": "display_data"
    }
   ],
   "source": [
    "sessionInfo()"
   ]
  },
  {
   "cell_type": "code",
   "execution_count": null,
   "metadata": {},
   "outputs": [],
   "source": []
  }
 ],
 "metadata": {
  "kernelspec": {
   "display_name": "R [conda env:py3_physeq]",
   "language": "R",
   "name": "conda-env-py3_physeq-r"
  },
  "language_info": {
   "codemirror_mode": "r",
   "file_extension": ".r",
   "mimetype": "text/x-r-source",
   "name": "R",
   "pygments_lexer": "r",
   "version": "3.4.1"
  },
  "notify_time": "30",
  "toc": {
   "base_numbering": 1,
   "nav_menu": {},
   "number_sections": true,
   "sideBar": true,
   "skip_h1_title": false,
   "title_cell": "Table of Contents",
   "title_sidebar": "Contents",
   "toc_cell": true,
   "toc_position": {},
   "toc_section_display": true,
   "toc_window_display": true
  }
 },
 "nbformat": 4,
 "nbformat_minor": 2
}
