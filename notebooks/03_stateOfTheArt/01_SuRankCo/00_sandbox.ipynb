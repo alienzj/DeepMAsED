{
 "cells": [
  {
   "cell_type": "markdown",
   "metadata": {
    "toc": true
   },
   "source": [
    "<h1>Table of Contents<span class=\"tocSkip\"></span></h1>\n",
    "<div class=\"toc\"><ul class=\"toc-item\"><li><span><a href=\"#Goal\" data-toc-modified-id=\"Goal-1\"><span class=\"toc-item-num\">1&nbsp;&nbsp;</span>Goal</a></span></li><li><span><a href=\"#Install\" data-toc-modified-id=\"Install-2\"><span class=\"toc-item-num\">2&nbsp;&nbsp;</span>Install</a></span><ul class=\"toc-item\"><li><span><a href=\"#conda-env-setup\" data-toc-modified-id=\"conda-env-setup-2.1\"><span class=\"toc-item-num\">2.1&nbsp;&nbsp;</span>conda env setup</a></span><ul class=\"toc-item\"><li><span><a href=\"#Notes\" data-toc-modified-id=\"Notes-2.1.1\"><span class=\"toc-item-num\">2.1.1&nbsp;&nbsp;</span>Notes</a></span></li></ul></li></ul></li><li><span><a href=\"#General-method\" data-toc-modified-id=\"General-method-3\"><span class=\"toc-item-num\">3&nbsp;&nbsp;</span>General method</a></span></li><li><span><a href=\"#General-usage\" data-toc-modified-id=\"General-usage-4\"><span class=\"toc-item-num\">4&nbsp;&nbsp;</span>General usage</a></span></li><li><span><a href=\"#Test-run\" data-toc-modified-id=\"Test-run-5\"><span class=\"toc-item-num\">5&nbsp;&nbsp;</span>Test run</a></span></li></ul></div>"
   ]
  },
  {
   "cell_type": "markdown",
   "metadata": {},
   "source": [
    "# Goal\n",
    "\n",
    "* get [SuRankCo](https://doi.org/10.1186/s12859-015-0644-7) installed and running\n",
    "  * try SuRankCo with training subset"
   ]
  },
  {
   "cell_type": "markdown",
   "metadata": {},
   "source": [
    "# Install"
   ]
  },
  {
   "cell_type": "markdown",
   "metadata": {},
   "source": [
    "## conda env setup\n",
    "\n",
    "```\n",
    "(base) @ rick:/ebio/abt3_projects/software/dev/DeepMAsED\n",
    "$ conda create -n surankco r-optparse r-mass r-randomforest bioconda::blat bioconda::ucsc-pslpretty\n",
    "```"
   ]
  },
  {
   "cell_type": "markdown",
   "metadata": {
    "ExecuteTime": {
     "end_time": "2019-07-18T12:06:56.599333Z",
     "start_time": "2019-07-18T12:06:56.182Z"
    }
   },
   "source": [
    "### Notes \n",
    "\n",
    "Rscript from the conda env is required in order to use the R packages in the conda env:\n",
    "\n",
    "```\n",
    "(surankco) @ rick:/ebio/abt3_projects/software/dev/DeepMAsED/tmp/SuRankCo\n",
    "Rscript surankco_r5/surankco-training\n",
    "```"
   ]
  },
  {
   "cell_type": "markdown",
   "metadata": {},
   "source": [
    "# General method"
   ]
  },
  {
   "cell_type": "markdown",
   "metadata": {},
   "source": [
    "* Training\n",
    "  * `surankco-feature`\n",
    "    * Create features from genomes + fastq files\n",
    "  * `surankco-score`\n",
    "    * Score the feature tables using reference genomes\n",
    "  * `surankco-training`\n",
    "    * Train the RF model\n",
    "* Prediction\n",
    "  * `surankco-feature`\n",
    "    * Create features from genomes + fastq files\n",
    "  * `surankco-prediction`\n",
    "    * RF prediction"
   ]
  },
  {
   "cell_type": "markdown",
   "metadata": {},
   "source": [
    "# General usage"
   ]
  },
  {
   "cell_type": "markdown",
   "metadata": {},
   "source": [
    "Conda env init\n",
    "\n",
    "```\n",
    "@ rick:/ebio/abt3_projects/databases_no-backup/DeepMAsED/SuRankCo\n",
    "$ source /ebio/abt3_projects/software/dev/.bashrc\n",
    "\n",
    "(base) @ rick:/ebio/abt3_projects/databases_no-backup/DeepMAsED/SuRankCo\n",
    "$ conda activate surankco\n",
    "\n",
    "(base) @ rick:/ebio/abt3_projects/databases_no-backup/DeepMAsED/SuRankCo\n",
    "Rscript surankco_r5/surankco-training\n",
    "```"
   ]
  },
  {
   "cell_type": "markdown",
   "metadata": {},
   "source": [
    "# Test run"
   ]
  },
  {
   "cell_type": "markdown",
   "metadata": {},
   "source": [
    "```\n",
    "(surankco) @ rick:/ebio/abt3_projects/databases_no-backup/DeepMAsED/SuRankCo\n",
    "\n",
    "$ ../surankco_r5/surankco-feature -d /ebio/abt3_projects/databases_no-backup/DeepMAsED/SuRankCo/sandbox/ -f contigs.fasta -r bam\n",
    "\n",
    "```"
   ]
  },
  {
   "cell_type": "code",
   "execution_count": null,
   "metadata": {},
   "outputs": [],
   "source": []
  }
 ],
 "metadata": {
  "kernelspec": {
   "display_name": "R [conda env:py3_physeq]",
   "language": "R",
   "name": "conda-env-py3_physeq-r"
  },
  "language_info": {
   "codemirror_mode": "r",
   "file_extension": ".r",
   "mimetype": "text/x-r-source",
   "name": "R",
   "pygments_lexer": "r",
   "version": "3.4.1"
  },
  "notify_time": "30",
  "toc": {
   "base_numbering": 1,
   "nav_menu": {},
   "number_sections": true,
   "sideBar": true,
   "skip_h1_title": false,
   "title_cell": "Table of Contents",
   "title_sidebar": "Contents",
   "toc_cell": true,
   "toc_position": {},
   "toc_section_display": true,
   "toc_window_display": true
  }
 },
 "nbformat": 4,
 "nbformat_minor": 2
}
