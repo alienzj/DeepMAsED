{
 "cells": [
  {
   "cell_type": "markdown",
   "metadata": {
    "toc": true
   },
   "source": [
    "<h1>Table of Contents<span class=\"tocSkip\"></span></h1>\n",
    "<div class=\"toc\"><ul class=\"toc-item\"><li><span><a href=\"#Goal\" data-toc-modified-id=\"Goal-1\"><span class=\"toc-item-num\">1&nbsp;&nbsp;</span>Goal</a></span></li><li><span><a href=\"#Install\" data-toc-modified-id=\"Install-2\"><span class=\"toc-item-num\">2&nbsp;&nbsp;</span>Install</a></span></li><li><span><a href=\"#Test-run\" data-toc-modified-id=\"Test-run-3\"><span class=\"toc-item-num\">3&nbsp;&nbsp;</span>Test run</a></span><ul class=\"toc-item\"><li><span><a href=\"#Calculating-probabilities\" data-toc-modified-id=\"Calculating-probabilities-3.1\"><span class=\"toc-item-num\">3.1&nbsp;&nbsp;</span>Calculating probabilities</a></span></li></ul></li></ul></div>"
   ]
  },
  {
   "cell_type": "markdown",
   "metadata": {},
   "source": [
    "# Goal\n",
    "\n",
    "* Test `LAP` "
   ]
  },
  {
   "cell_type": "markdown",
   "metadata": {},
   "source": [
    "# Install"
   ]
  },
  {
   "cell_type": "markdown",
   "metadata": {
    "ExecuteTime": {
     "end_time": "2019-11-01T08:22:36.544592Z",
     "start_time": "2019-11-01T08:22:36.163Z"
    }
   },
   "source": [
    "```\n",
    "(base) @ rick:/ebio/abt3_projects/software/dev/DeepMAsED/tmp/LAP\n",
    "$ conda create -n LAP bioconda::lap\n",
    "```"
   ]
  },
  {
   "cell_type": "markdown",
   "metadata": {},
   "source": [
    "# Test run"
   ]
  },
  {
   "cell_type": "markdown",
   "metadata": {},
   "source": [
    "## Calculating probabilities\n",
    "\n",
    "> Notes: had to patch `calc_prob.py` in order to get it working properly with sam files. The UI wasn't set up correctly for sam file input"
   ]
  },
  {
   "cell_type": "markdown",
   "metadata": {},
   "source": [
    "```\n",
    "#(LAP) @ rick:/ebio/abt3_projects/software/dev/DeepMAsED/tmp/LAP\n",
    "./calc_prob.py -a contigs_filtered.fasta -s test-runs_n100-r5_megahit-1.sam -1 read1.fastq -2 read2.fastq | sum_prob.py -t \"1e-30\"\n",
    "```"
   ]
  },
  {
   "cell_type": "code",
   "execution_count": null,
   "metadata": {},
   "outputs": [],
   "source": []
  }
 ],
 "metadata": {
  "kernelspec": {
   "display_name": "R [conda env:py3_physeq]",
   "language": "R",
   "name": "conda-env-py3_physeq-r"
  },
  "language_info": {
   "codemirror_mode": "r",
   "file_extension": ".r",
   "mimetype": "text/x-r-source",
   "name": "R",
   "pygments_lexer": "r",
   "version": "3.4.1"
  },
  "toc": {
   "base_numbering": 1,
   "nav_menu": {},
   "number_sections": true,
   "sideBar": true,
   "skip_h1_title": false,
   "title_cell": "Table of Contents",
   "title_sidebar": "Contents",
   "toc_cell": true,
   "toc_position": {},
   "toc_section_display": true,
   "toc_window_display": false
  }
 },
 "nbformat": 4,
 "nbformat_minor": 2
}
