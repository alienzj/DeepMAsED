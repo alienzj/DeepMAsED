{
 "cells": [
  {
   "cell_type": "markdown",
   "metadata": {
    "toc": true
   },
   "source": [
    "<h1>Table of Contents<span class=\"tocSkip\"></span></h1>\n",
    "<div class=\"toc\"><ul class=\"toc-item\"><li><span><a href=\"#Goal\" data-toc-modified-id=\"Goal-1\"><span class=\"toc-item-num\">1&nbsp;&nbsp;</span>Goal</a></span></li><li><span><a href=\"#Var\" data-toc-modified-id=\"Var-2\"><span class=\"toc-item-num\">2&nbsp;&nbsp;</span>Var</a></span></li><li><span><a href=\"#Init\" data-toc-modified-id=\"Init-3\"><span class=\"toc-item-num\">3&nbsp;&nbsp;</span>Init</a></span></li><li><span><a href=\"#Load\" data-toc-modified-id=\"Load-4\"><span class=\"toc-item-num\">4&nbsp;&nbsp;</span>Load</a></span><ul class=\"toc-item\"><li><span><a href=\"#minimap2-summaries\" data-toc-modified-id=\"minimap2-summaries-4.1\"><span class=\"toc-item-num\">4.1&nbsp;&nbsp;</span>minimap2 summaries</a></span></li><li><span><a href=\"#MetaQuast-output\" data-toc-modified-id=\"MetaQuast-output-4.2\"><span class=\"toc-item-num\">4.2&nbsp;&nbsp;</span>MetaQuast output</a></span></li></ul></li><li><span><a href=\"#minimap2-summary\" data-toc-modified-id=\"minimap2-summary-5\"><span class=\"toc-item-num\">5&nbsp;&nbsp;</span>minimap2 summary</a></span><ul class=\"toc-item\"><li><span><a href=\"#Largest-norm-edit-dists\" data-toc-modified-id=\"Largest-norm-edit-dists-5.1\"><span class=\"toc-item-num\">5.1&nbsp;&nbsp;</span>Largest norm-edit dists</a></span></li></ul></li><li><span><a href=\"#Comparing-minimap2-vs-MetaQUAST\" data-toc-modified-id=\"Comparing-minimap2-vs-MetaQUAST-6\"><span class=\"toc-item-num\">6&nbsp;&nbsp;</span>Comparing minimap2 vs MetaQUAST</a></span></li><li><span><a href=\"#sessionInfo\" data-toc-modified-id=\"sessionInfo-7\"><span class=\"toc-item-num\">7&nbsp;&nbsp;</span>sessionInfo</a></span></li></ul></div>"
   ]
  },
  {
   "cell_type": "markdown",
   "metadata": {},
   "source": [
    "# Goal\n",
    "\n",
    "* Assessing the output of a simulation on 8 genomes"
   ]
  },
  {
   "cell_type": "markdown",
   "metadata": {},
   "source": [
    "# Var"
   ]
  },
  {
   "cell_type": "code",
   "execution_count": 1,
   "metadata": {
    "ExecuteTime": {
     "end_time": "2019-03-13T09:29:46.051962Z",
     "start_time": "2019-03-13T09:29:46.411Z"
    }
   },
   "outputs": [],
   "source": [
    "work_dir = '/ebio/abt3_projects/software/dev/DeepMAsED/tests/output_n8/true_errors/'\n"
   ]
  },
  {
   "cell_type": "markdown",
   "metadata": {},
   "source": [
    "# Init"
   ]
  },
  {
   "cell_type": "code",
   "execution_count": 2,
   "metadata": {
    "ExecuteTime": {
     "end_time": "2019-03-13T09:29:47.532556Z",
     "start_time": "2019-03-13T09:29:46.642Z"
    }
   },
   "outputs": [
    {
     "name": "stderr",
     "output_type": "stream",
     "text": [
      "\n",
      "Attaching package: ‘dplyr’\n",
      "\n",
      "The following objects are masked from ‘package:stats’:\n",
      "\n",
      "    filter, lag\n",
      "\n",
      "The following objects are masked from ‘package:base’:\n",
      "\n",
      "    intersect, setdiff, setequal, union\n",
      "\n"
     ]
    }
   ],
   "source": [
    "library(dplyr)\n",
    "library(tidyr)\n",
    "library(ggplot2)"
   ]
  },
  {
   "cell_type": "markdown",
   "metadata": {},
   "source": [
    "# Load"
   ]
  },
  {
   "cell_type": "markdown",
   "metadata": {},
   "source": [
    "## minimap2 summaries"
   ]
  },
  {
   "cell_type": "code",
   "execution_count": 3,
   "metadata": {
    "ExecuteTime": {
     "end_time": "2019-03-13T09:29:48.483762Z",
     "start_time": "2019-03-13T09:29:48.073Z"
    }
   },
   "outputs": [
    {
     "data": {
      "text/html": [
       "4"
      ],
      "text/latex": [
       "4"
      ],
      "text/markdown": [
       "4"
      ],
      "text/plain": [
       "[1] 4"
      ]
     },
     "metadata": {},
     "output_type": "display_data"
    }
   ],
   "source": [
    "file_name = 'minimap2_aln_summary.tsv'\n",
    "minimap_sum_files = list.files(path=work_dir, pattern=file_name, recursive=TRUE, full.names=TRUE)\n",
    "minimap_sum_files %>% length"
   ]
  },
  {
   "cell_type": "code",
   "execution_count": 4,
   "metadata": {
    "ExecuteTime": {
     "end_time": "2019-03-13T09:29:49.551596Z",
     "start_time": "2019-03-13T09:29:48.832Z"
    }
   },
   "outputs": [
    {
     "data": {
      "text/html": [
       "<table>\n",
       "<thead><tr><th scope=col>query</th><th scope=col>chimeric</th><th scope=col>num_hits</th><th scope=col>query_hit_len</th><th scope=col>edit_dist</th><th scope=col>edit_dist_norm</th><th scope=col>dataset</th><th scope=col>mg_sim_rep</th><th scope=col>assembler</th></tr></thead>\n",
       "<tbody>\n",
       "\t<tr><td>k141_10     </td><td>False       </td><td>1           </td><td>1076        </td><td>0           </td><td>0.0000000000</td><td>output_n8   </td><td>1           </td><td>megahit     </td></tr>\n",
       "\t<tr><td>k141_100    </td><td>False       </td><td>1           </td><td>1029        </td><td>3           </td><td>0.0029154519</td><td>output_n8   </td><td>1           </td><td>megahit     </td></tr>\n",
       "\t<tr><td>k141_1001   </td><td>False       </td><td>1           </td><td>1644        </td><td>1           </td><td>0.0006082725</td><td>output_n8   </td><td>1           </td><td>megahit     </td></tr>\n",
       "\t<tr><td>k141_1002   </td><td>False       </td><td>1           </td><td>1361        </td><td>0           </td><td>0.0000000000</td><td>output_n8   </td><td>1           </td><td>megahit     </td></tr>\n",
       "\t<tr><td>k141_1003   </td><td>False       </td><td>1           </td><td>4359        </td><td>0           </td><td>0.0000000000</td><td>output_n8   </td><td>1           </td><td>megahit     </td></tr>\n",
       "\t<tr><td>k141_1004   </td><td>False       </td><td>1           </td><td>1346        </td><td>1           </td><td>0.0007429421</td><td>output_n8   </td><td>1           </td><td>megahit     </td></tr>\n",
       "</tbody>\n",
       "</table>\n"
      ],
      "text/latex": [
       "\\begin{tabular}{r|lllllllll}\n",
       " query & chimeric & num\\_hits & query\\_hit\\_len & edit\\_dist & edit\\_dist\\_norm & dataset & mg\\_sim\\_rep & assembler\\\\\n",
       "\\hline\n",
       "\t k141\\_10    & False        & 1            & 1076         & 0            & 0.0000000000 & output\\_n8  & 1            & megahit     \\\\\n",
       "\t k141\\_100   & False        & 1            & 1029         & 3            & 0.0029154519 & output\\_n8  & 1            & megahit     \\\\\n",
       "\t k141\\_1001  & False        & 1            & 1644         & 1            & 0.0006082725 & output\\_n8  & 1            & megahit     \\\\\n",
       "\t k141\\_1002  & False        & 1            & 1361         & 0            & 0.0000000000 & output\\_n8  & 1            & megahit     \\\\\n",
       "\t k141\\_1003  & False        & 1            & 4359         & 0            & 0.0000000000 & output\\_n8  & 1            & megahit     \\\\\n",
       "\t k141\\_1004  & False        & 1            & 1346         & 1            & 0.0007429421 & output\\_n8  & 1            & megahit     \\\\\n",
       "\\end{tabular}\n"
      ],
      "text/markdown": [
       "\n",
       "query | chimeric | num_hits | query_hit_len | edit_dist | edit_dist_norm | dataset | mg_sim_rep | assembler | \n",
       "|---|---|---|---|---|---|\n",
       "| k141_10      | False        | 1            | 1076         | 0            | 0.0000000000 | output_n8    | 1            | megahit      | \n",
       "| k141_100     | False        | 1            | 1029         | 3            | 0.0029154519 | output_n8    | 1            | megahit      | \n",
       "| k141_1001    | False        | 1            | 1644         | 1            | 0.0006082725 | output_n8    | 1            | megahit      | \n",
       "| k141_1002    | False        | 1            | 1361         | 0            | 0.0000000000 | output_n8    | 1            | megahit      | \n",
       "| k141_1003    | False        | 1            | 4359         | 0            | 0.0000000000 | output_n8    | 1            | megahit      | \n",
       "| k141_1004    | False        | 1            | 1346         | 1            | 0.0007429421 | output_n8    | 1            | megahit      | \n",
       "\n",
       "\n"
      ],
      "text/plain": [
       "  query     chimeric num_hits query_hit_len edit_dist edit_dist_norm dataset  \n",
       "1 k141_10   False    1        1076          0         0.0000000000   output_n8\n",
       "2 k141_100  False    1        1029          3         0.0029154519   output_n8\n",
       "3 k141_1001 False    1        1644          1         0.0006082725   output_n8\n",
       "4 k141_1002 False    1        1361          0         0.0000000000   output_n8\n",
       "5 k141_1003 False    1        4359          0         0.0000000000   output_n8\n",
       "6 k141_1004 False    1        1346          1         0.0007429421   output_n8\n",
       "  mg_sim_rep assembler\n",
       "1 1          megahit  \n",
       "2 1          megahit  \n",
       "3 1          megahit  \n",
       "4 1          megahit  \n",
       "5 1          megahit  \n",
       "6 1          megahit  "
      ]
     },
     "metadata": {},
     "output_type": "display_data"
    }
   ],
   "source": [
    "func = function(x){\n",
    "    y = read.table(x, sep='\\t', header=TRUE)\n",
    "    y$file_name = x\n",
    "    return(y)\n",
    "}\n",
    "\n",
    "minimap_sum = minimap_sum_files %>%\n",
    "    as.list %>%\n",
    "    lapply(func) %>%\n",
    "    do.call(rbind, .) %>%\n",
    "    mutate(TMP = gsub('.+/DeepMAsED/tests/', '', file_name),\n",
    "           TMP = gsub('/+', '/', TMP)) %>%\n",
    "    separate(TMP, c('dataset', 'TMP', 'mg_sim_rep', 'assembler', 'file_name'), sep='/') %>%\n",
    "    select(-TMP, -file_name)\n",
    "\n",
    "minimap_sum %>% head"
   ]
  },
  {
   "cell_type": "markdown",
   "metadata": {
    "ExecuteTime": {
     "end_time": "2019-03-12T18:32:05.112651Z",
     "start_time": "2019-03-12T18:32:06.577Z"
    }
   },
   "source": [
    "## MetaQuast output"
   ]
  },
  {
   "cell_type": "code",
   "execution_count": 5,
   "metadata": {
    "ExecuteTime": {
     "end_time": "2019-03-13T09:29:52.059340Z",
     "start_time": "2019-03-13T09:29:52.672Z"
    }
   },
   "outputs": [
    {
     "data": {
      "text/html": [
       "4"
      ],
      "text/latex": [
       "4"
      ],
      "text/markdown": [
       "4"
      ],
      "text/plain": [
       "[1] 4"
      ]
     },
     "metadata": {},
     "output_type": "display_data"
    }
   ],
   "source": [
    "file_name = 'contigs.mis_contigs.fa'\n",
    "mis_contigs_files = list.files(path=work_dir, pattern=file_name, recursive=TRUE, full.names=TRUE)\n",
    "mis_contigs_files %>% length"
   ]
  },
  {
   "cell_type": "code",
   "execution_count": 6,
   "metadata": {
    "ExecuteTime": {
     "end_time": "2019-03-13T09:29:53.225700Z",
     "start_time": "2019-03-13T09:29:53.735Z"
    }
   },
   "outputs": [
    {
     "data": {
      "text/html": [
       "<table>\n",
       "<thead><tr><th scope=col>contig</th><th scope=col>dataset</th><th scope=col>mg_sim_rep</th><th scope=col>assembler</th><th scope=col>file_name</th></tr></thead>\n",
       "<tbody>\n",
       "\t<tr><td>k141_145              </td><td>output_n8             </td><td>1                     </td><td>megahit               </td><td>contigs.mis_contigs.fa</td></tr>\n",
       "\t<tr><td>k141_538              </td><td>output_n8             </td><td>1                     </td><td>megahit               </td><td>contigs.mis_contigs.fa</td></tr>\n",
       "\t<tr><td>k141_558              </td><td>output_n8             </td><td>1                     </td><td>megahit               </td><td>contigs.mis_contigs.fa</td></tr>\n",
       "\t<tr><td>k141_719              </td><td>output_n8             </td><td>1                     </td><td>megahit               </td><td>contigs.mis_contigs.fa</td></tr>\n",
       "\t<tr><td>k141_770              </td><td>output_n8             </td><td>1                     </td><td>megahit               </td><td>contigs.mis_contigs.fa</td></tr>\n",
       "\t<tr><td>k141_1131             </td><td>output_n8             </td><td>1                     </td><td>megahit               </td><td>contigs.mis_contigs.fa</td></tr>\n",
       "</tbody>\n",
       "</table>\n"
      ],
      "text/latex": [
       "\\begin{tabular}{r|lllll}\n",
       " contig & dataset & mg\\_sim\\_rep & assembler & file\\_name\\\\\n",
       "\\hline\n",
       "\t k141\\_145               & output\\_n8              & 1                        & megahit                  & contigs.mis\\_contigs.fa\\\\\n",
       "\t k141\\_538               & output\\_n8              & 1                        & megahit                  & contigs.mis\\_contigs.fa\\\\\n",
       "\t k141\\_558               & output\\_n8              & 1                        & megahit                  & contigs.mis\\_contigs.fa\\\\\n",
       "\t k141\\_719               & output\\_n8              & 1                        & megahit                  & contigs.mis\\_contigs.fa\\\\\n",
       "\t k141\\_770               & output\\_n8              & 1                        & megahit                  & contigs.mis\\_contigs.fa\\\\\n",
       "\t k141\\_1131              & output\\_n8              & 1                        & megahit                  & contigs.mis\\_contigs.fa\\\\\n",
       "\\end{tabular}\n"
      ],
      "text/markdown": [
       "\n",
       "contig | dataset | mg_sim_rep | assembler | file_name | \n",
       "|---|---|---|---|---|---|\n",
       "| k141_145               | output_n8              | 1                      | megahit                | contigs.mis_contigs.fa | \n",
       "| k141_538               | output_n8              | 1                      | megahit                | contigs.mis_contigs.fa | \n",
       "| k141_558               | output_n8              | 1                      | megahit                | contigs.mis_contigs.fa | \n",
       "| k141_719               | output_n8              | 1                      | megahit                | contigs.mis_contigs.fa | \n",
       "| k141_770               | output_n8              | 1                      | megahit                | contigs.mis_contigs.fa | \n",
       "| k141_1131              | output_n8              | 1                      | megahit                | contigs.mis_contigs.fa | \n",
       "\n",
       "\n"
      ],
      "text/plain": [
       "  contig    dataset   mg_sim_rep assembler file_name             \n",
       "1 k141_145  output_n8 1          megahit   contigs.mis_contigs.fa\n",
       "2 k141_538  output_n8 1          megahit   contigs.mis_contigs.fa\n",
       "3 k141_558  output_n8 1          megahit   contigs.mis_contigs.fa\n",
       "4 k141_719  output_n8 1          megahit   contigs.mis_contigs.fa\n",
       "5 k141_770  output_n8 1          megahit   contigs.mis_contigs.fa\n",
       "6 k141_1131 output_n8 1          megahit   contigs.mis_contigs.fa"
      ]
     },
     "metadata": {},
     "output_type": "display_data"
    }
   ],
   "source": [
    "func = function(x){\n",
    "    cmd = paste0('grep \">\" ', x)\n",
    "    y = system(cmd, intern=TRUE) %>% as.vector\n",
    "    y = data.frame(contig = gsub('>', '', y))\n",
    "    y$file_name = x\n",
    "    return(y)\n",
    "}\n",
    "\n",
    "mis_contigs = mis_contigs_files  %>%\n",
    "    as.list %>%\n",
    "    lapply(func) %>%\n",
    "    do.call(rbind, .) %>%\n",
    "    mutate(TMP = gsub('.+/DeepMAsED/tests/', '', file_name),\n",
    "          TMP = gsub('/+', '/', TMP)) %>%\n",
    "    separate(TMP, c('dataset', 'TMP', 'mg_sim_rep', 'assembler', 'X', 'XX', 'file_name'), sep='/') %>%\n",
    "    select(-TMP, -X, -XX)\n",
    "\n",
    "mis_contigs %>% head"
   ]
  },
  {
   "cell_type": "markdown",
   "metadata": {},
   "source": [
    "# minimap2 summary"
   ]
  },
  {
   "cell_type": "code",
   "execution_count": 21,
   "metadata": {
    "ExecuteTime": {
     "end_time": "2019-03-13T09:35:35.067889Z",
     "start_time": "2019-03-13T09:35:35.894Z"
    }
   },
   "outputs": [
    {
     "name": "stdout",
     "output_type": "stream",
     "text": [
      "[1] 3.162075e-06\n"
     ]
    }
   ],
   "source": [
    "# converting zeros to psuedo-counts\n",
    "min_edit_dist_norm = min(minimap_sum[minimap_sum$edit_dist_norm > 0,'edit_dist_norm']) / 2\n",
    "print(min_edit_dist_norm)"
   ]
  },
  {
   "cell_type": "code",
   "execution_count": 22,
   "metadata": {
    "ExecuteTime": {
     "end_time": "2019-03-13T09:35:36.014250Z",
     "start_time": "2019-03-13T09:35:36.010Z"
    }
   },
   "outputs": [
    {
     "data": {
      "image/png": "[encoded data removed]",
      "text/plain": [
       "plot without title"
      ]
     },
     "metadata": {},
     "output_type": "display_data"
    }
   ],
   "source": [
    "p = minimap_sum %>%\n",
    "    mutate(edit_dist_norm = ifelse(edit_dist_norm == 0, min_edit_dist_norm, edit_dist_norm)) %>%\n",
    "    ggplot(aes(assembler, edit_dist_norm)) +\n",
    "    geom_boxplot() +\n",
    "    scale_y_log10() +\n",
    "    facet_grid(. ~ mg_sim_rep) +\n",
    "    theme_bw()\n",
    "\n",
    "options(repr.plot.width=5, repr.plot.height=3.5)\n",
    "plot(p)"
   ]
  },
  {
   "cell_type": "code",
   "execution_count": 23,
   "metadata": {
    "ExecuteTime": {
     "end_time": "2019-03-13T09:35:37.344331Z",
     "start_time": "2019-03-13T09:35:36.877Z"
    }
   },
   "outputs": [
    {
     "data": {
      "image/png": "[encoded data removed]",
      "text/plain": [
       "plot without title"
      ]
     },
     "metadata": {},
     "output_type": "display_data"
    }
   ],
   "source": [
    "p = minimap_sum %>%\n",
    "    mutate(edit_dist_norm = ifelse(edit_dist_norm == 0, min_edit_dist_norm, edit_dist_norm)) %>%\n",
    "    ggplot(aes(assembler, edit_dist_norm, color=chimeric)) +\n",
    "    geom_boxplot() +\n",
    "    scale_y_log10() +\n",
    "    facet_grid(. ~ mg_sim_rep) +\n",
    "    theme_bw()\n",
    "\n",
    "options(repr.plot.width=6.5, repr.plot.height=3.5)\n",
    "plot(p)"
   ]
  },
  {
   "cell_type": "markdown",
   "metadata": {},
   "source": [
    "## Largest norm-edit dists"
   ]
  },
  {
   "cell_type": "code",
   "execution_count": 24,
   "metadata": {
    "ExecuteTime": {
     "end_time": "2019-03-13T09:35:37.884852Z",
     "start_time": "2019-03-13T09:35:38.646Z"
    }
   },
   "outputs": [
    {
     "data": {
      "text/html": [
       "<table>\n",
       "<thead><tr><th scope=col>query</th><th scope=col>chimeric</th><th scope=col>num_hits</th><th scope=col>query_hit_len</th><th scope=col>edit_dist</th><th scope=col>edit_dist_norm</th><th scope=col>dataset</th><th scope=col>mg_sim_rep</th><th scope=col>assembler</th></tr></thead>\n",
       "<tbody>\n",
       "\t<tr><td>k141_2500                         </td><td>False                             </td><td>1                                 </td><td> 585                              </td><td>248                               </td><td>0.42393162                        </td><td>output_n8                         </td><td>1                                 </td><td>megahit                           </td></tr>\n",
       "\t<tr><td>k141_177                          </td><td>False                             </td><td>1                                 </td><td> 843                              </td><td>198                               </td><td>0.23487544                        </td><td>output_n8                         </td><td>1                                 </td><td>megahit                           </td></tr>\n",
       "\t<tr><td>k141_2542                         </td><td>False                             </td><td>1                                 </td><td>1212                              </td><td>244                               </td><td>0.20132013                        </td><td>output_n8                         </td><td>1                                 </td><td>megahit                           </td></tr>\n",
       "\t<tr><td>k141_2532                         </td><td>True                              </td><td>2                                 </td><td>5689                              </td><td>862                               </td><td>0.15152048                        </td><td>output_n8                         </td><td>1                                 </td><td>megahit                           </td></tr>\n",
       "\t<tr><td>k141_719                          </td><td>True                              </td><td>2                                 </td><td> 929                              </td><td> 61                               </td><td>0.06566200                        </td><td>output_n8                         </td><td>1                                 </td><td>megahit                           </td></tr>\n",
       "\t<tr><td>k141_3485                         </td><td>False                             </td><td>1                                 </td><td> 740                              </td><td> 45                               </td><td>0.06081081                        </td><td>output_n8                         </td><td>1                                 </td><td>megahit                           </td></tr>\n",
       "\t<tr><td>k141_1088                         </td><td>False                             </td><td>1                                 </td><td>2631                              </td><td>149                               </td><td>0.05663246                        </td><td>output_n8                         </td><td>1                                 </td><td>megahit                           </td></tr>\n",
       "\t<tr><td>NODE_3047_length_590_cov_1.839252 </td><td>False                             </td><td>1                                 </td><td> 585                              </td><td>248                               </td><td>0.42393162                        </td><td>output_n8                         </td><td>1                                 </td><td>metaspades                        </td></tr>\n",
       "\t<tr><td>NODE_7074_length_73_cov_1.333333  </td><td>False                             </td><td>1                                 </td><td>  73                              </td><td> 19                               </td><td>0.26027397                        </td><td>output_n8                         </td><td>1                                 </td><td>metaspades                        </td></tr>\n",
       "\t<tr><td>NODE_2288_length_917_cov_2.392111 </td><td>False                             </td><td>1                                 </td><td> 917                              </td><td>199                               </td><td>0.21701200                        </td><td>output_n8                         </td><td>1                                 </td><td>metaspades                        </td></tr>\n",
       "\t<tr><td>NODE_3346_length_505_cov_1.344444 </td><td>True                              </td><td>2                                 </td><td> 679                              </td><td> 86                               </td><td>0.12665685                        </td><td>output_n8                         </td><td>1                                 </td><td>metaspades                        </td></tr>\n",
       "\t<tr><td>NODE_2700_length_708_cov_0.983155 </td><td>True                              </td><td>2                                 </td><td> 929                              </td><td> 61                               </td><td>0.06566200                        </td><td>output_n8                         </td><td>1                                 </td><td>metaspades                        </td></tr>\n",
       "\t<tr><td>NODE_2494_length_806_cov_63.969374</td><td>False                             </td><td>1                                 </td><td> 806                              </td><td> 48                               </td><td>0.05955335                        </td><td>output_n8                         </td><td>1                                 </td><td>metaspades                        </td></tr>\n",
       "\t<tr><td>k141_561                          </td><td>False                             </td><td>1                                 </td><td> 931                              </td><td>244                               </td><td>0.26208378                        </td><td>output_n8                         </td><td>2                                 </td><td>megahit                           </td></tr>\n",
       "\t<tr><td>k141_833                          </td><td>False                             </td><td>1                                 </td><td>1929                              </td><td>463                               </td><td>0.24002074                        </td><td>output_n8                         </td><td>2                                 </td><td>megahit                           </td></tr>\n",
       "\t<tr><td>k141_82                           </td><td>False                             </td><td>1                                 </td><td> 655                              </td><td>138                               </td><td>0.21068702                        </td><td>output_n8                         </td><td>2                                 </td><td>megahit                           </td></tr>\n",
       "\t<tr><td>k141_1660                         </td><td>False                             </td><td>1                                 </td><td> 624                              </td><td> 98                               </td><td>0.15705128                        </td><td>output_n8                         </td><td>2                                 </td><td>megahit                           </td></tr>\n",
       "\t<tr><td>k141_2063                         </td><td>False                             </td><td>1                                 </td><td>1980                              </td><td>293                               </td><td>0.14797980                        </td><td>output_n8                         </td><td>2                                 </td><td>megahit                           </td></tr>\n",
       "\t<tr><td>k141_2497                         </td><td>False                             </td><td>1                                 </td><td> 948                              </td><td> 97                               </td><td>0.10232068                        </td><td>output_n8                         </td><td>2                                 </td><td>megahit                           </td></tr>\n",
       "\t<tr><td>k141_1554                         </td><td>False                             </td><td>1                                 </td><td>2946                              </td><td>218                               </td><td>0.07399864                        </td><td>output_n8                         </td><td>2                                 </td><td>megahit                           </td></tr>\n",
       "\t<tr><td>k141_2479                         </td><td>False                             </td><td>1                                 </td><td> 732                              </td><td> 45                               </td><td>0.06147541                        </td><td>output_n8                         </td><td>2                                 </td><td>megahit                           </td></tr>\n",
       "\t<tr><td>k141_2340                         </td><td>False                             </td><td>1                                 </td><td>7364                              </td><td>429                               </td><td>0.05825638                        </td><td>output_n8                         </td><td>2                                 </td><td>megahit                           </td></tr>\n",
       "\t<tr><td>NODE_2013_length_624_cov_0.903339 </td><td>False                             </td><td>1                                 </td><td> 624                              </td><td> 98                               </td><td>0.15705128                        </td><td>output_n8                         </td><td>2                                 </td><td>metaspades                        </td></tr>\n",
       "\t<tr><td>NODE_503_length_2960_cov_2.621687 </td><td>False                             </td><td>1                                 </td><td>2960                              </td><td>316                               </td><td>0.10675676                        </td><td>output_n8                         </td><td>2                                 </td><td>metaspades                        </td></tr>\n",
       "\t<tr><td>NODE_3250_length_355_cov_5.676667 </td><td>False                             </td><td>1                                 </td><td> 355                              </td><td> 32                               </td><td>0.09014085                        </td><td>output_n8                         </td><td>2                                 </td><td>metaspades                        </td></tr>\n",
       "\t<tr><td>NODE_1817_length_732_cov_2.788774 </td><td>False                             </td><td>1                                 </td><td> 732                              </td><td> 45                               </td><td>0.06147541                        </td><td>output_n8                         </td><td>2                                 </td><td>metaspades                        </td></tr>\n",
       "\t<tr><td>NODE_3565_length_306_cov_2.207171 </td><td>False                             </td><td>1                                 </td><td> 266                              </td><td> 15                               </td><td>0.05639098                        </td><td>output_n8                         </td><td>2                                 </td><td>metaspades                        </td></tr>\n",
       "\t<tr><td>NODE_696_length_2106_cov_3.603608 </td><td>False                             </td><td>1                                 </td><td>2106                              </td><td>112                               </td><td>0.05318139                        </td><td>output_n8                         </td><td>2                                 </td><td>metaspades                        </td></tr>\n",
       "</tbody>\n",
       "</table>\n"
      ],
      "text/latex": [
       "\\begin{tabular}{r|lllllllll}\n",
       " query & chimeric & num\\_hits & query\\_hit\\_len & edit\\_dist & edit\\_dist\\_norm & dataset & mg\\_sim\\_rep & assembler\\\\\n",
       "\\hline\n",
       "\t k141\\_2500                          & False                                & 1                                    &  585                                 & 248                                  & 0.42393162                           & output\\_n8                          & 1                                    & megahit                             \\\\\n",
       "\t k141\\_177                           & False                                & 1                                    &  843                                 & 198                                  & 0.23487544                           & output\\_n8                          & 1                                    & megahit                             \\\\\n",
       "\t k141\\_2542                          & False                                & 1                                    & 1212                                 & 244                                  & 0.20132013                           & output\\_n8                          & 1                                    & megahit                             \\\\\n",
       "\t k141\\_2532                          & True                                 & 2                                    & 5689                                 & 862                                  & 0.15152048                           & output\\_n8                          & 1                                    & megahit                             \\\\\n",
       "\t k141\\_719                           & True                                 & 2                                    &  929                                 &  61                                  & 0.06566200                           & output\\_n8                          & 1                                    & megahit                             \\\\\n",
       "\t k141\\_3485                          & False                                & 1                                    &  740                                 &  45                                  & 0.06081081                           & output\\_n8                          & 1                                    & megahit                             \\\\\n",
       "\t k141\\_1088                          & False                                & 1                                    & 2631                                 & 149                                  & 0.05663246                           & output\\_n8                          & 1                                    & megahit                             \\\\\n",
       "\t NODE\\_3047\\_length\\_590\\_cov\\_1.839252  & False                                        & 1                                            &  585                                         & 248                                          & 0.42393162                                   & output\\_n8                                  & 1                                            & metaspades                                  \\\\\n",
       "\t NODE\\_7074\\_length\\_73\\_cov\\_1.333333   & False                                        & 1                                            &   73                                         &  19                                          & 0.26027397                                   & output\\_n8                                  & 1                                            & metaspades                                  \\\\\n",
       "\t NODE\\_2288\\_length\\_917\\_cov\\_2.392111  & False                                        & 1                                            &  917                                         & 199                                          & 0.21701200                                   & output\\_n8                                  & 1                                            & metaspades                                  \\\\\n",
       "\t NODE\\_3346\\_length\\_505\\_cov\\_1.344444  & True                                         & 2                                            &  679                                         &  86                                          & 0.12665685                                   & output\\_n8                                  & 1                                            & metaspades                                  \\\\\n",
       "\t NODE\\_2700\\_length\\_708\\_cov\\_0.983155  & True                                         & 2                                            &  929                                         &  61                                          & 0.06566200                                   & output\\_n8                                  & 1                                            & metaspades                                  \\\\\n",
       "\t NODE\\_2494\\_length\\_806\\_cov\\_63.969374 & False                                        & 1                                            &  806                                         &  48                                          & 0.05955335                                   & output\\_n8                                  & 1                                            & metaspades                                  \\\\\n",
       "\t k141\\_561                           & False                                & 1                                    &  931                                 & 244                                  & 0.26208378                           & output\\_n8                          & 2                                    & megahit                             \\\\\n",
       "\t k141\\_833                           & False                                & 1                                    & 1929                                 & 463                                  & 0.24002074                           & output\\_n8                          & 2                                    & megahit                             \\\\\n",
       "\t k141\\_82                            & False                                & 1                                    &  655                                 & 138                                  & 0.21068702                           & output\\_n8                          & 2                                    & megahit                             \\\\\n",
       "\t k141\\_1660                          & False                                & 1                                    &  624                                 &  98                                  & 0.15705128                           & output\\_n8                          & 2                                    & megahit                             \\\\\n",
       "\t k141\\_2063                          & False                                & 1                                    & 1980                                 & 293                                  & 0.14797980                           & output\\_n8                          & 2                                    & megahit                             \\\\\n",
       "\t k141\\_2497                          & False                                & 1                                    &  948                                 &  97                                  & 0.10232068                           & output\\_n8                          & 2                                    & megahit                             \\\\\n",
       "\t k141\\_1554                          & False                                & 1                                    & 2946                                 & 218                                  & 0.07399864                           & output\\_n8                          & 2                                    & megahit                             \\\\\n",
       "\t k141\\_2479                          & False                                & 1                                    &  732                                 &  45                                  & 0.06147541                           & output\\_n8                          & 2                                    & megahit                             \\\\\n",
       "\t k141\\_2340                          & False                                & 1                                    & 7364                                 & 429                                  & 0.05825638                           & output\\_n8                          & 2                                    & megahit                             \\\\\n",
       "\t NODE\\_2013\\_length\\_624\\_cov\\_0.903339  & False                                        & 1                                            &  624                                         &  98                                          & 0.15705128                                   & output\\_n8                                  & 2                                            & metaspades                                  \\\\\n",
       "\t NODE\\_503\\_length\\_2960\\_cov\\_2.621687  & False                                        & 1                                            & 2960                                         & 316                                          & 0.10675676                                   & output\\_n8                                  & 2                                            & metaspades                                  \\\\\n",
       "\t NODE\\_3250\\_length\\_355\\_cov\\_5.676667  & False                                        & 1                                            &  355                                         &  32                                          & 0.09014085                                   & output\\_n8                                  & 2                                            & metaspades                                  \\\\\n",
       "\t NODE\\_1817\\_length\\_732\\_cov\\_2.788774  & False                                        & 1                                            &  732                                         &  45                                          & 0.06147541                                   & output\\_n8                                  & 2                                            & metaspades                                  \\\\\n",
       "\t NODE\\_3565\\_length\\_306\\_cov\\_2.207171  & False                                        & 1                                            &  266                                         &  15                                          & 0.05639098                                   & output\\_n8                                  & 2                                            & metaspades                                  \\\\\n",
       "\t NODE\\_696\\_length\\_2106\\_cov\\_3.603608  & False                                        & 1                                            & 2106                                         & 112                                          & 0.05318139                                   & output\\_n8                                  & 2                                            & metaspades                                  \\\\\n",
       "\\end{tabular}\n"
      ],
      "text/markdown": [
       "\n",
       "query | chimeric | num_hits | query_hit_len | edit_dist | edit_dist_norm | dataset | mg_sim_rep | assembler | \n",
       "|---|---|---|---|---|---|---|---|---|---|---|---|---|---|---|---|---|---|---|---|---|---|---|---|---|---|---|---|\n",
       "| k141_2500                          | False                              | 1                                  |  585                               | 248                                | 0.42393162                         | output_n8                          | 1                                  | megahit                            | \n",
       "| k141_177                           | False                              | 1                                  |  843                               | 198                                | 0.23487544                         | output_n8                          | 1                                  | megahit                            | \n",
       "| k141_2542                          | False                              | 1                                  | 1212                               | 244                                | 0.20132013                         | output_n8                          | 1                                  | megahit                            | \n",
       "| k141_2532                          | True                               | 2                                  | 5689                               | 862                                | 0.15152048                         | output_n8                          | 1                                  | megahit                            | \n",
       "| k141_719                           | True                               | 2                                  |  929                               |  61                                | 0.06566200                         | output_n8                          | 1                                  | megahit                            | \n",
       "| k141_3485                          | False                              | 1                                  |  740                               |  45                                | 0.06081081                         | output_n8                          | 1                                  | megahit                            | \n",
       "| k141_1088                          | False                              | 1                                  | 2631                               | 149                                | 0.05663246                         | output_n8                          | 1                                  | megahit                            | \n",
       "| NODE_3047_length_590_cov_1.839252  | False                              | 1                                  |  585                               | 248                                | 0.42393162                         | output_n8                          | 1                                  | metaspades                         | \n",
       "| NODE_7074_length_73_cov_1.333333   | False                              | 1                                  |   73                               |  19                                | 0.26027397                         | output_n8                          | 1                                  | metaspades                         | \n",
       "| NODE_2288_length_917_cov_2.392111  | False                              | 1                                  |  917                               | 199                                | 0.21701200                         | output_n8                          | 1                                  | metaspades                         | \n",
       "| NODE_3346_length_505_cov_1.344444  | True                               | 2                                  |  679                               |  86                                | 0.12665685                         | output_n8                          | 1                                  | metaspades                         | \n",
       "| NODE_2700_length_708_cov_0.983155  | True                               | 2                                  |  929                               |  61                                | 0.06566200                         | output_n8                          | 1                                  | metaspades                         | \n",
       "| NODE_2494_length_806_cov_63.969374 | False                              | 1                                  |  806                               |  48                                | 0.05955335                         | output_n8                          | 1                                  | metaspades                         | \n",
       "| k141_561                           | False                              | 1                                  |  931                               | 244                                | 0.26208378                         | output_n8                          | 2                                  | megahit                            | \n",
       "| k141_833                           | False                              | 1                                  | 1929                               | 463                                | 0.24002074                         | output_n8                          | 2                                  | megahit                            | \n",
       "| k141_82                            | False                              | 1                                  |  655                               | 138                                | 0.21068702                         | output_n8                          | 2                                  | megahit                            | \n",
       "| k141_1660                          | False                              | 1                                  |  624                               |  98                                | 0.15705128                         | output_n8                          | 2                                  | megahit                            | \n",
       "| k141_2063                          | False                              | 1                                  | 1980                               | 293                                | 0.14797980                         | output_n8                          | 2                                  | megahit                            | \n",
       "| k141_2497                          | False                              | 1                                  |  948                               |  97                                | 0.10232068                         | output_n8                          | 2                                  | megahit                            | \n",
       "| k141_1554                          | False                              | 1                                  | 2946                               | 218                                | 0.07399864                         | output_n8                          | 2                                  | megahit                            | \n",
       "| k141_2479                          | False                              | 1                                  |  732                               |  45                                | 0.06147541                         | output_n8                          | 2                                  | megahit                            | \n",
       "| k141_2340                          | False                              | 1                                  | 7364                               | 429                                | 0.05825638                         | output_n8                          | 2                                  | megahit                            | \n",
       "| NODE_2013_length_624_cov_0.903339  | False                              | 1                                  |  624                               |  98                                | 0.15705128                         | output_n8                          | 2                                  | metaspades                         | \n",
       "| NODE_503_length_2960_cov_2.621687  | False                              | 1                                  | 2960                               | 316                                | 0.10675676                         | output_n8                          | 2                                  | metaspades                         | \n",
       "| NODE_3250_length_355_cov_5.676667  | False                              | 1                                  |  355                               |  32                                | 0.09014085                         | output_n8                          | 2                                  | metaspades                         | \n",
       "| NODE_1817_length_732_cov_2.788774  | False                              | 1                                  |  732                               |  45                                | 0.06147541                         | output_n8                          | 2                                  | metaspades                         | \n",
       "| NODE_3565_length_306_cov_2.207171  | False                              | 1                                  |  266                               |  15                                | 0.05639098                         | output_n8                          | 2                                  | metaspades                         | \n",
       "| NODE_696_length_2106_cov_3.603608  | False                              | 1                                  | 2106                               | 112                                | 0.05318139                         | output_n8                          | 2                                  | metaspades                         | \n",
       "\n",
       "\n"
      ],
      "text/plain": [
       "   query                              chimeric num_hits query_hit_len edit_dist\n",
       "1  k141_2500                          False    1         585          248      \n",
       "2  k141_177                           False    1         843          198      \n",
       "3  k141_2542                          False    1        1212          244      \n",
       "4  k141_2532                          True     2        5689          862      \n",
       "5  k141_719                           True     2         929           61      \n",
       "6  k141_3485                          False    1         740           45      \n",
       "7  k141_1088                          False    1        2631          149      \n",
       "8  NODE_3047_length_590_cov_1.839252  False    1         585          248      \n",
       "9  NODE_7074_length_73_cov_1.333333   False    1          73           19      \n",
       "10 NODE_2288_length_917_cov_2.392111  False    1         917          199      \n",
       "11 NODE_3346_length_505_cov_1.344444  True     2         679           86      \n",
       "12 NODE_2700_length_708_cov_0.983155  True     2         929           61      \n",
       "13 NODE_2494_length_806_cov_63.969374 False    1         806           48      \n",
       "14 k141_561                           False    1         931          244      \n",
       "15 k141_833                           False    1        1929          463      \n",
       "16 k141_82                            False    1         655          138      \n",
       "17 k141_1660                          False    1         624           98      \n",
       "18 k141_2063                          False    1        1980          293      \n",
       "19 k141_2497                          False    1         948           97      \n",
       "20 k141_1554                          False    1        2946          218      \n",
       "21 k141_2479                          False    1         732           45      \n",
       "22 k141_2340                          False    1        7364          429      \n",
       "23 NODE_2013_length_624_cov_0.903339  False    1         624           98      \n",
       "24 NODE_503_length_2960_cov_2.621687  False    1        2960          316      \n",
       "25 NODE_3250_length_355_cov_5.676667  False    1         355           32      \n",
       "26 NODE_1817_length_732_cov_2.788774  False    1         732           45      \n",
       "27 NODE_3565_length_306_cov_2.207171  False    1         266           15      \n",
       "28 NODE_696_length_2106_cov_3.603608  False    1        2106          112      \n",
       "   edit_dist_norm dataset   mg_sim_rep assembler \n",
       "1  0.42393162     output_n8 1          megahit   \n",
       "2  0.23487544     output_n8 1          megahit   \n",
       "3  0.20132013     output_n8 1          megahit   \n",
       "4  0.15152048     output_n8 1          megahit   \n",
       "5  0.06566200     output_n8 1          megahit   \n",
       "6  0.06081081     output_n8 1          megahit   \n",
       "7  0.05663246     output_n8 1          megahit   \n",
       "8  0.42393162     output_n8 1          metaspades\n",
       "9  0.26027397     output_n8 1          metaspades\n",
       "10 0.21701200     output_n8 1          metaspades\n",
       "11 0.12665685     output_n8 1          metaspades\n",
       "12 0.06566200     output_n8 1          metaspades\n",
       "13 0.05955335     output_n8 1          metaspades\n",
       "14 0.26208378     output_n8 2          megahit   \n",
       "15 0.24002074     output_n8 2          megahit   \n",
       "16 0.21068702     output_n8 2          megahit   \n",
       "17 0.15705128     output_n8 2          megahit   \n",
       "18 0.14797980     output_n8 2          megahit   \n",
       "19 0.10232068     output_n8 2          megahit   \n",
       "20 0.07399864     output_n8 2          megahit   \n",
       "21 0.06147541     output_n8 2          megahit   \n",
       "22 0.05825638     output_n8 2          megahit   \n",
       "23 0.15705128     output_n8 2          metaspades\n",
       "24 0.10675676     output_n8 2          metaspades\n",
       "25 0.09014085     output_n8 2          metaspades\n",
       "26 0.06147541     output_n8 2          metaspades\n",
       "27 0.05639098     output_n8 2          metaspades\n",
       "28 0.05318139     output_n8 2          metaspades"
      ]
     },
     "metadata": {},
     "output_type": "display_data"
    }
   ],
   "source": [
    "minimap_sum %>%\n",
    "    filter(edit_dist_norm > 0.05) %>%\n",
    "    arrange(mg_sim_rep, assembler, -edit_dist_norm)"
   ]
  },
  {
   "cell_type": "markdown",
   "metadata": {},
   "source": [
    "# Comparing minimap2 vs MetaQUAST"
   ]
  },
  {
   "cell_type": "code",
   "execution_count": 25,
   "metadata": {
    "ExecuteTime": {
     "end_time": "2019-03-13T09:35:40.580818Z",
     "start_time": "2019-03-13T09:35:41.343Z"
    }
   },
   "outputs": [
    {
     "name": "stdout",
     "output_type": "stream",
     "text": [
      "[1] 56\n"
     ]
    },
    {
     "name": "stderr",
     "output_type": "stream",
     "text": [
      "Warning message:\n",
      "“Column `query`/`contig` joining factors with different levels, coercing to character vector”"
     ]
    },
    {
     "name": "stdout",
     "output_type": "stream",
     "text": [
      "[1] 56\n"
     ]
    }
   ],
   "source": [
    "# Check: all mis-contigs found in minimap?\n",
    "mis_contigs %>% nrow %>% print\n",
    "\n",
    "inner_join(minimap_sum, mis_contigs, \n",
    "           c('query'='contig', 'dataset', \n",
    "             'mg_sim_rep', 'assembler')) %>% nrow %>% print"
   ]
  },
  {
   "cell_type": "code",
   "execution_count": 26,
   "metadata": {
    "ExecuteTime": {
     "end_time": "2019-03-13T09:35:40.709699Z",
     "start_time": "2019-03-13T09:35:41.452Z"
    }
   },
   "outputs": [
    {
     "name": "stderr",
     "output_type": "stream",
     "text": [
      "Warning message:\n",
      "“Column `query`/`contig` joining factors with different levels, coercing to character vector”"
     ]
    },
    {
     "data": {
      "text/html": [
       "<table>\n",
       "<thead><tr><th scope=col>query</th><th scope=col>chimeric</th><th scope=col>num_hits</th><th scope=col>query_hit_len</th><th scope=col>edit_dist</th><th scope=col>edit_dist_norm</th><th scope=col>dataset</th><th scope=col>mg_sim_rep</th><th scope=col>assembler</th><th scope=col>mis_contig</th></tr></thead>\n",
       "<tbody>\n",
       "\t<tr><td>k141_10     </td><td>False       </td><td>1           </td><td>1076        </td><td>0           </td><td>0.0000000000</td><td>output_n8   </td><td>1           </td><td>megahit     </td><td>FALSE       </td></tr>\n",
       "\t<tr><td>k141_100    </td><td>False       </td><td>1           </td><td>1029        </td><td>3           </td><td>0.0029154519</td><td>output_n8   </td><td>1           </td><td>megahit     </td><td>FALSE       </td></tr>\n",
       "\t<tr><td>k141_1001   </td><td>False       </td><td>1           </td><td>1644        </td><td>1           </td><td>0.0006082725</td><td>output_n8   </td><td>1           </td><td>megahit     </td><td>FALSE       </td></tr>\n",
       "\t<tr><td>k141_1002   </td><td>False       </td><td>1           </td><td>1361        </td><td>0           </td><td>0.0000000000</td><td>output_n8   </td><td>1           </td><td>megahit     </td><td>FALSE       </td></tr>\n",
       "\t<tr><td>k141_1003   </td><td>False       </td><td>1           </td><td>4359        </td><td>0           </td><td>0.0000000000</td><td>output_n8   </td><td>1           </td><td>megahit     </td><td>FALSE       </td></tr>\n",
       "\t<tr><td>k141_1004   </td><td>False       </td><td>1           </td><td>1346        </td><td>1           </td><td>0.0007429421</td><td>output_n8   </td><td>1           </td><td>megahit     </td><td>FALSE       </td></tr>\n",
       "</tbody>\n",
       "</table>\n"
      ],
      "text/latex": [
       "\\begin{tabular}{r|llllllllll}\n",
       " query & chimeric & num\\_hits & query\\_hit\\_len & edit\\_dist & edit\\_dist\\_norm & dataset & mg\\_sim\\_rep & assembler & mis\\_contig\\\\\n",
       "\\hline\n",
       "\t k141\\_10    & False        & 1            & 1076         & 0            & 0.0000000000 & output\\_n8  & 1            & megahit      & FALSE       \\\\\n",
       "\t k141\\_100   & False        & 1            & 1029         & 3            & 0.0029154519 & output\\_n8  & 1            & megahit      & FALSE       \\\\\n",
       "\t k141\\_1001  & False        & 1            & 1644         & 1            & 0.0006082725 & output\\_n8  & 1            & megahit      & FALSE       \\\\\n",
       "\t k141\\_1002  & False        & 1            & 1361         & 0            & 0.0000000000 & output\\_n8  & 1            & megahit      & FALSE       \\\\\n",
       "\t k141\\_1003  & False        & 1            & 4359         & 0            & 0.0000000000 & output\\_n8  & 1            & megahit      & FALSE       \\\\\n",
       "\t k141\\_1004  & False        & 1            & 1346         & 1            & 0.0007429421 & output\\_n8  & 1            & megahit      & FALSE       \\\\\n",
       "\\end{tabular}\n"
      ],
      "text/markdown": [
       "\n",
       "query | chimeric | num_hits | query_hit_len | edit_dist | edit_dist_norm | dataset | mg_sim_rep | assembler | mis_contig | \n",
       "|---|---|---|---|---|---|\n",
       "| k141_10      | False        | 1            | 1076         | 0            | 0.0000000000 | output_n8    | 1            | megahit      | FALSE        | \n",
       "| k141_100     | False        | 1            | 1029         | 3            | 0.0029154519 | output_n8    | 1            | megahit      | FALSE        | \n",
       "| k141_1001    | False        | 1            | 1644         | 1            | 0.0006082725 | output_n8    | 1            | megahit      | FALSE        | \n",
       "| k141_1002    | False        | 1            | 1361         | 0            | 0.0000000000 | output_n8    | 1            | megahit      | FALSE        | \n",
       "| k141_1003    | False        | 1            | 4359         | 0            | 0.0000000000 | output_n8    | 1            | megahit      | FALSE        | \n",
       "| k141_1004    | False        | 1            | 1346         | 1            | 0.0007429421 | output_n8    | 1            | megahit      | FALSE        | \n",
       "\n",
       "\n"
      ],
      "text/plain": [
       "  query     chimeric num_hits query_hit_len edit_dist edit_dist_norm dataset  \n",
       "1 k141_10   False    1        1076          0         0.0000000000   output_n8\n",
       "2 k141_100  False    1        1029          3         0.0029154519   output_n8\n",
       "3 k141_1001 False    1        1644          1         0.0006082725   output_n8\n",
       "4 k141_1002 False    1        1361          0         0.0000000000   output_n8\n",
       "5 k141_1003 False    1        4359          0         0.0000000000   output_n8\n",
       "6 k141_1004 False    1        1346          1         0.0007429421   output_n8\n",
       "  mg_sim_rep assembler mis_contig\n",
       "1 1          megahit   FALSE     \n",
       "2 1          megahit   FALSE     \n",
       "3 1          megahit   FALSE     \n",
       "4 1          megahit   FALSE     \n",
       "5 1          megahit   FALSE     \n",
       "6 1          megahit   FALSE     "
      ]
     },
     "metadata": {},
     "output_type": "display_data"
    }
   ],
   "source": [
    "mini_mis = left_join(minimap_sum, mis_contigs, \n",
    "                     c('query'='contig', 'dataset', \n",
    "                       'mg_sim_rep', 'assembler')) %>%\n",
    "    mutate(mis_contig = !is.na(file_name)) %>%\n",
    "    dplyr::select(-file_name)\n",
    "\n",
    "mini_mis %>% head"
   ]
  },
  {
   "cell_type": "code",
   "execution_count": 27,
   "metadata": {
    "ExecuteTime": {
     "end_time": "2019-03-13T09:35:53.055724Z",
     "start_time": "2019-03-13T09:35:53.868Z"
    }
   },
   "outputs": [
    {
     "name": "stdout",
     "output_type": "stream",
     "text": [
      "[1] 3.162075e-06\n"
     ]
    }
   ],
   "source": [
    "# converting zeros to psuedo-counts\n",
    "min_edit_dist_norm = min(mini_mis[mini_mis$edit_dist_norm > 0,'edit_dist_norm']) / 2\n",
    "print(min_edit_dist_norm)"
   ]
  },
  {
   "cell_type": "code",
   "execution_count": 28,
   "metadata": {
    "ExecuteTime": {
     "end_time": "2019-03-13T09:36:06.474206Z",
     "start_time": "2019-03-13T09:36:05.970Z"
    }
   },
   "outputs": [
    {
     "data": {
      "image/png": "[encoded data removed]",
      "text/plain": [
       "plot without title"
      ]
     },
     "metadata": {},
     "output_type": "display_data"
    }
   ],
   "source": [
    "p = mini_mis %>%\n",
    "    mutate(edit_dist_norm = ifelse(edit_dist_norm == 0, min_edit_dist_norm, edit_dist_norm)) %>%\n",
    "    ggplot(aes(assembler, edit_dist_norm, color=mis_contig)) +\n",
    "    geom_boxplot() +\n",
    "    scale_y_log10() +\n",
    "    facet_grid(. ~ mg_sim_rep) +\n",
    "    theme_bw()\n",
    "\n",
    "options(repr.plot.width=6.5, repr.plot.height=3.5)\n",
    "plot(p)"
   ]
  },
  {
   "cell_type": "code",
   "execution_count": 29,
   "metadata": {
    "ExecuteTime": {
     "end_time": "2019-03-13T09:36:11.823232Z",
     "start_time": "2019-03-13T09:36:10.682Z"
    }
   },
   "outputs": [
    {
     "data": {
      "image/png": "[encoded data removed]",
      "text/plain": [
       "plot without title"
      ]
     },
     "metadata": {},
     "output_type": "display_data"
    }
   ],
   "source": [
    "p = mini_mis %>%\n",
    "    mutate(edit_dist_norm = ifelse(edit_dist_norm == 0, min_edit_dist_norm, edit_dist_norm)) %>%\n",
    "    ggplot(aes(chimeric, edit_dist_norm, color=mis_contig)) +\n",
    "    geom_boxplot() +\n",
    "    scale_y_log10() +\n",
    "    facet_grid(assembler ~ mg_sim_rep) +\n",
    "    theme_bw()\n",
    "\n",
    "options(repr.plot.width=6.5, repr.plot.height=3.5)\n",
    "plot(p)"
   ]
  },
  {
   "cell_type": "code",
   "execution_count": 30,
   "metadata": {
    "ExecuteTime": {
     "end_time": "2019-03-13T09:36:21.733325Z",
     "start_time": "2019-03-13T09:36:22.539Z"
    }
   },
   "outputs": [
    {
     "name": "stdout",
     "output_type": "stream",
     "text": [
      "    Min.  1st Qu.   Median     Mean  3rd Qu.     Max. \n",
      "0.000000 0.001220 0.004858 0.027743 0.019872 0.201320 \n"
     ]
    },
    {
     "data": {
      "text/html": [
       "<table>\n",
       "<thead><tr><th scope=col>q5</th><th scope=col>q10</th></tr></thead>\n",
       "<tbody>\n",
       "\t<tr><td>0.0001110206</td><td>0.0003910447</td></tr>\n",
       "</tbody>\n",
       "</table>\n"
      ],
      "text/latex": [
       "\\begin{tabular}{r|ll}\n",
       " q5 & q10\\\\\n",
       "\\hline\n",
       "\t 0.0001110206 & 0.0003910447\\\\\n",
       "\\end{tabular}\n"
      ],
      "text/markdown": [
       "\n",
       "q5 | q10 | \n",
       "|---|\n",
       "| 0.0001110206 | 0.0003910447 | \n",
       "\n",
       "\n"
      ],
      "text/plain": [
       "  q5           q10         \n",
       "1 0.0001110206 0.0003910447"
      ]
     },
     "metadata": {},
     "output_type": "display_data"
    }
   ],
   "source": [
    "# possible cutoffs for calling a true mis-assembly \n",
    "mini_mis %>%\n",
    "    filter(mis_contig == TRUE) %>%\n",
    "    .$edit_dist_norm %>% summary %>% print\n",
    "\n",
    "mini_mis %>%\n",
    "    filter(mis_contig == TRUE) %>%\n",
    "    summarize(q5 = quantile(edit_dist_norm, 0.05),\n",
    "              q10 = quantile(edit_dist_norm, 0.10))"
   ]
  },
  {
   "cell_type": "markdown",
   "metadata": {},
   "source": [
    "# sessionInfo"
   ]
  },
  {
   "cell_type": "code",
   "execution_count": 31,
   "metadata": {
    "ExecuteTime": {
     "end_time": "2019-03-13T09:36:24.055695Z",
     "start_time": "2019-03-13T09:36:24.779Z"
    }
   },
   "outputs": [
    {
     "data": {
      "text/plain": [
       "R version 3.4.1 (2017-06-30)\n",
       "Platform: x86_64-pc-linux-gnu (64-bit)\n",
       "Running under: Ubuntu 18.04.1 LTS\n",
       "\n",
       "Matrix products: default\n",
       "BLAS: /ebio/abt3_projects/software/miniconda3_gt4.4/envs/py3_physeq/lib/R/lib/libRblas.so\n",
       "LAPACK: /ebio/abt3_projects/software/miniconda3_gt4.4/envs/py3_physeq/lib/R/lib/libRlapack.so\n",
       "\n",
       "locale:\n",
       "[1] en_US.UTF-8\n",
       "\n",
       "attached base packages:\n",
       "[1] stats     graphics  grDevices utils     datasets  methods   base     \n",
       "\n",
       "other attached packages:\n",
       "[1] bindrcpp_0.2.2 ggplot2_3.0.0  tidyr_0.8.1    dplyr_0.7.6   \n",
       "\n",
       "loaded via a namespace (and not attached):\n",
       " [1] Rcpp_0.12.17     pillar_1.2.2     compiler_3.4.1   plyr_1.8.4      \n",
       " [5] bindr_0.1.1      base64enc_0.1-3  tools_3.4.1      digest_0.6.15   \n",
       " [9] uuid_0.1-2       jsonlite_1.5     evaluate_0.10.1  tibble_1.4.2    \n",
       "[13] gtable_0.2.0     pkgconfig_2.0.1  rlang_0.2.1      IRdisplay_0.4.4 \n",
       "[17] IRkernel_0.8.12  repr_0.15.0      withr_2.1.1      stringr_1.3.1   \n",
       "[21] grid_3.4.1       tidyselect_0.2.4 glue_1.3.0       R6_2.2.2        \n",
       "[25] pbdZMQ_0.3-2     purrr_0.2.4      reshape2_1.4.3   magrittr_1.5    \n",
       "[29] scales_0.5.0     htmltools_0.3.6  assertthat_0.2.0 colorspace_1.3-2\n",
       "[33] stringi_1.2.3    lazyeval_0.2.1   munsell_0.5.0    crayon_1.3.4    "
      ]
     },
     "metadata": {},
     "output_type": "display_data"
    }
   ],
   "source": [
    "sessionInfo()"
   ]
  },
  {
   "cell_type": "code",
   "execution_count": null,
   "metadata": {},
   "outputs": [],
   "source": []
  }
 ],
 "metadata": {
  "kernelspec": {
   "display_name": "R [conda env:py3_physeq]",
   "language": "R",
   "name": "conda-env-py3_physeq-r"
  },
  "language_info": {
   "codemirror_mode": "r",
   "file_extension": ".r",
   "mimetype": "text/x-r-source",
   "name": "R",
   "pygments_lexer": "r",
   "version": "3.4.1"
  },
  "toc": {
   "base_numbering": 1,
   "nav_menu": {},
   "number_sections": true,
   "sideBar": true,
   "skip_h1_title": false,
   "title_cell": "Table of Contents",
   "title_sidebar": "Contents",
   "toc_cell": true,
   "toc_position": {},
   "toc_section_display": true,
   "toc_window_display": false
  }
 },
 "nbformat": 4,
 "nbformat_minor": 2
}
