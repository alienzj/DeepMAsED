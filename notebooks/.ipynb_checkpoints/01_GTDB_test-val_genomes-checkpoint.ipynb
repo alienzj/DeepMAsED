{
 "cells": [
  {
   "cell_type": "markdown",
   "metadata": {
    "toc": true
   },
   "source": [
    "<h1>Table of Contents<span class=\"tocSkip\"></span></h1>\n",
    "<div class=\"toc\"><ul class=\"toc-item\"><li><span><a href=\"#Goal\" data-toc-modified-id=\"Goal-1\"><span class=\"toc-item-num\">1&nbsp;&nbsp;</span>Goal</a></span></li><li><span><a href=\"#Var\" data-toc-modified-id=\"Var-2\"><span class=\"toc-item-num\">2&nbsp;&nbsp;</span>Var</a></span></li><li><span><a href=\"#Init\" data-toc-modified-id=\"Init-3\"><span class=\"toc-item-num\">3&nbsp;&nbsp;</span>Init</a></span></li><li><span><a href=\"#Load\" data-toc-modified-id=\"Load-4\"><span class=\"toc-item-num\">4&nbsp;&nbsp;</span>Load</a></span></li><li><span><a href=\"#Summary\" data-toc-modified-id=\"Summary-5\"><span class=\"toc-item-num\">5&nbsp;&nbsp;</span>Summary</a></span></li><li><span><a href=\"#Filter\" data-toc-modified-id=\"Filter-6\"><span class=\"toc-item-num\">6&nbsp;&nbsp;</span>Filter</a></span><ul class=\"toc-item\"><li><span><a href=\"#Random-selection\" data-toc-modified-id=\"Random-selection-6.1\"><span class=\"toc-item-num\">6.1&nbsp;&nbsp;</span>Random selection</a></span><ul class=\"toc-item\"><li><span><a href=\"#Summary\" data-toc-modified-id=\"Summary-6.1.1\"><span class=\"toc-item-num\">6.1.1&nbsp;&nbsp;</span>Summary</a></span><ul class=\"toc-item\"><li><span><a href=\"#Taxonomy\" data-toc-modified-id=\"Taxonomy-6.1.1.1\"><span class=\"toc-item-num\">6.1.1.1&nbsp;&nbsp;</span>Taxonomy</a></span></li></ul></li></ul></li></ul></li><li><span><a href=\"#Split\" data-toc-modified-id=\"Split-7\"><span class=\"toc-item-num\">7&nbsp;&nbsp;</span>Split</a></span></li><li><span><a href=\"#Write\" data-toc-modified-id=\"Write-8\"><span class=\"toc-item-num\">8&nbsp;&nbsp;</span>Write</a></span></li><li><span><a href=\"#sessionInfo\" data-toc-modified-id=\"sessionInfo-9\"><span class=\"toc-item-num\">9&nbsp;&nbsp;</span>sessionInfo</a></span></li></ul></div>"
   ]
  },
  {
   "cell_type": "markdown",
   "metadata": {},
   "source": [
    "# Goal\n",
    "\n",
    "* selecting genomes from the GTDB for testing and validation\n",
    "  * randomly selecting"
   ]
  },
  {
   "cell_type": "markdown",
   "metadata": {},
   "source": [
    "# Var"
   ]
  },
  {
   "cell_type": "code",
   "execution_count": 1,
   "metadata": {
    "ExecuteTime": {
     "end_time": "2019-05-15T12:24:51.819610Z",
     "start_time": "2019-05-15T12:24:51.391Z"
    }
   },
   "outputs": [],
   "source": [
    "work_dir = '/ebio/abt3_projects/databases_no-backup/DeepMAsED/GTDB_ref_genomes/'\n",
    "metadata_file = '/ebio/abt3_projects/databases_no-backup/GTDB/release86/metadata_1perGTDBSpec_gte50comp-lt5cont_wPath.tsv'\n"
   ]
  },
  {
   "cell_type": "markdown",
   "metadata": {},
   "source": [
    "# Init"
   ]
  },
  {
   "cell_type": "code",
   "execution_count": 2,
   "metadata": {
    "ExecuteTime": {
     "end_time": "2019-05-15T12:24:52.564898Z",
     "start_time": "2019-05-15T12:24:51.606Z"
    }
   },
   "outputs": [
    {
     "name": "stderr",
     "output_type": "stream",
     "text": [
      "\n",
      "Attaching package: ‘dplyr’\n",
      "\n",
      "The following objects are masked from ‘package:stats’:\n",
      "\n",
      "    filter, lag\n",
      "\n",
      "The following objects are masked from ‘package:base’:\n",
      "\n",
      "    intersect, setdiff, setequal, union\n",
      "\n"
     ]
    }
   ],
   "source": [
    "library(dplyr)\n",
    "library(tidyr)\n",
    "library(ggplot2)\n",
    "\n",
    "set.seed(8364)"
   ]
  },
  {
   "cell_type": "markdown",
   "metadata": {},
   "source": [
    "# Load"
   ]
  },
  {
   "cell_type": "code",
   "execution_count": 3,
   "metadata": {
    "ExecuteTime": {
     "end_time": "2019-05-15T12:25:10.847915Z",
     "start_time": "2019-05-15T12:24:53.097Z"
    }
   },
   "outputs": [
    {
     "name": "stdout",
     "output_type": "stream",
     "text": [
      "[1] 21276\n"
     ]
    },
    {
     "data": {
      "text/html": [
       "<table>\n",
       "<thead><tr><th scope=col>ncbi_organism_name</th><th scope=col>accession</th><th scope=col>scaffold_count</th><th scope=col>longest_scaffold</th><th scope=col>gc_percentage</th><th scope=col>total_gap_length</th><th scope=col>genome_size</th><th scope=col>n50_contigs</th><th scope=col>trna_count</th><th scope=col>checkm_completeness</th><th scope=col>checkm_contamination</th><th scope=col>ssu_count</th><th scope=col>ncbi_taxonomy</th><th scope=col>ssu_gg_taxonomy</th><th scope=col>gtdb_taxonomy</th><th scope=col>fasta_file_path</th></tr></thead>\n",
       "<tbody>\n",
       "\t<tr><td>RS_GCF_002009845.1_Leptospira alexanderi                                                                                                                      </td><td>RS_GCF_002009845.1                                                                                                                                            </td><td>238                                                                                                                                                           </td><td> 184955                                                                                                                                                       </td><td>40.28703                                                                                                                                                      </td><td>   0                                                                                                                                                          </td><td>4060960                                                                                                                                                       </td><td> 41821                                                                                                                                                        </td><td>37                                                                                                                                                            </td><td> 98.82                                                                                                                                                        </td><td>0.00                                                                                                                                                          </td><td>1                                                                                                                                                             </td><td>d__Bacteria;p__Spirochaetes;c__Spirochaetia;o__;f__Leptospiraceae;g__Leptospira;s__Leptospira alexanderi                                                      </td><td>k__Bacteria;p__Spirochaetes;c__[Leptospirae];o__[Leptospirales];f__Leptospiraceae;g__Leptospira;s__                                                           </td><td>d__Bacteria;p__Spirochaetota;c__Leptospirae;o__Leptospirales;f__Leptospiraceae;g__Leptospira;s__Leptospira alexanderi                                         </td><td>/ebio/abt3_projects/databases_no-backup/GTDB/release86/genbank/bacteria/GCA_002009845.1/GCA_002009845.1_ASM200984v1_genomic.fna.gz                            </td></tr>\n",
       "\t<tr><td>RS_GCF_000214495.1_Megasphaera sp. UPII 199-6                                                                                                                 </td><td>RS_GCF_000214495.1                                                                                                                                            </td><td> 45                                                                                                                                                           </td><td> 149073                                                                                                                                                       </td><td>46.36845                                                                                                                                                      </td><td>   1                                                                                                                                                          </td><td>1640787                                                                                                                                                       </td><td>100595                                                                                                                                                        </td><td>49                                                                                                                                                            </td><td>100.00                                                                                                                                                        </td><td>0.00                                                                                                                                                          </td><td>1                                                                                                                                                             </td><td>d__Bacteria;p__Firmicutes;c__Negativicutes;o__Veillonellales;f__Veillonellaceae;g__Megasphaera;s__                                                            </td><td>k__Bacteria;p__Firmicutes;c__Clostridia;o__Clostridiales;f__Veillonellaceae;g__Megasphaera;s__                                                                </td><td>d__Bacteria;p__Firmicutes_C;c__Negativicutes;o__Veillonellales;f__Megasphaeraceae;g__28L;s__28L sp1                                                           </td><td>/ebio/abt3_projects/databases_no-backup/GTDB/release86/genbank/bacteria/GCA_000214495.2/GCA_000214495.2_ASM21449v1_genomic.fna.gz                             </td></tr>\n",
       "\t<tr><td>RS_GCF_000221545.1_Megasphaera sp. UPII 135-E                                                                                                                 </td><td>RS_GCF_000221545.1                                                                                                                                            </td><td> 49                                                                                                                                                           </td><td> 172537                                                                                                                                                       </td><td>38.88314                                                                                                                                                      </td><td>   8                                                                                                                                                          </td><td>1650551                                                                                                                                                       </td><td> 64000                                                                                                                                                        </td><td>49                                                                                                                                                            </td><td> 99.70                                                                                                                                                        </td><td>0.00                                                                                                                                                          </td><td>1                                                                                                                                                             </td><td>d__Bacteria;p__Firmicutes;c__Negativicutes;o__Veillonellales;f__Veillonellaceae;g__Megasphaera;s__                                                            </td><td>k__Bacteria;p__Firmicutes;c__Clostridia;o__Clostridiales;f__Veillonellaceae;g__Megasphaera;s__                                                                </td><td>d__Bacteria;p__Firmicutes_C;c__Negativicutes;o__Veillonellales;f__Megasphaeraceae;g__28L;s__28L sp2                                                           </td><td>/ebio/abt3_projects/databases_no-backup/GTDB/release86/genbank/bacteria/GCA_000221545.2/GCA_000221545.2_ASM22154v1_genomic.fna.gz                             </td></tr>\n",
       "\t<tr><td>RS_GCF_000764165.1_Cryobacterium roopkundense                                                                                                                 </td><td>RS_GCF_000764165.1                                                                                                                                            </td><td>226                                                                                                                                                           </td><td> 132366                                                                                                                                                       </td><td>65.29437                                                                                                                                                      </td><td>  11                                                                                                                                                          </td><td>4356826                                                                                                                                                       </td><td> 36861                                                                                                                                                        </td><td>47                                                                                                                                                            </td><td> 98.74                                                                                                                                                        </td><td>0.34                                                                                                                                                          </td><td>1                                                                                                                                                             </td><td>d__Bacteria;p__Actinobacteria;c__Actinobacteria;o__Micrococcales;f__Microbacteriaceae;g__Cryobacterium;s__Cryobacterium roopkundense                          </td><td>k__Bacteria;p__Actinobacteria;c__Actinobacteria;o__Actinomycetales;f__Microbacteriaceae;g__Cryobacterium;s__psychrophilum                                     </td><td>d__Bacteria;p__Actinobacteriota;c__Actinobacteria;o__Actinomycetales;f__Microbacteriaceae;g__Cryobacterium;s__Cryobacterium roopkundense                      </td><td>/ebio/abt3_projects/databases_no-backup/GTDB/release86/genbank/bacteria/GCA_000764165.1/GCA_000764165.1_ASM76416v1_genomic.fna.gz                             </td></tr>\n",
       "\t<tr><td>RS_GCF_900143645.1_Anaerocolumna xylanovorans DSM 12503                                                                                                       </td><td>RS_GCF_900143645.1                                                                                                                                            </td><td> 23                                                                                                                                                           </td><td>1427898                                                                                                                                                       </td><td>40.14312                                                                                                                                                      </td><td>5024                                                                                                                                                          </td><td>5420325                                                                                                                                                       </td><td>343250                                                                                                                                                        </td><td>50                                                                                                                                                            </td><td> 99.11                                                                                                                                                        </td><td>3.02                                                                                                                                                          </td><td>1                                                                                                                                                             </td><td>d__Bacteria;p__Firmicutes;c__Clostridia;o__Clostridiales;f__Lachnospiraceae;g__Anaerocolumna;s__Anaerocolumna xylanovorans                                    </td><td>k__Bacteria;p__Firmicutes;c__Clostridia;o__Clostridiales;f__Lachnospiraceae;g__Coprococcus;s__                                                                </td><td>d__Bacteria;p__Firmicutes_A;c__Clostridia;o__Lachnospirales;f__Lachnospiraceae;g__Anaerocolumna;s__Anaerocolumna xylanovorans                                 </td><td>/ebio/abt3_projects/databases_no-backup/GTDB/release86/genbank/bacteria/GCA_900143645.1/GCA_900143645.1_IMG-taxon_2582580727_annotated_assembly_genomic.fna.gz</td></tr>\n",
       "\t<tr><td>RS_GCF_900205925.1_Clostridium peptidivorans                                                                                                                  </td><td>RS_GCF_900205925.1                                                                                                                                            </td><td> 62                                                                                                                                                           </td><td> 325162                                                                                                                                                       </td><td>30.72976                                                                                                                                                      </td><td>   0                                                                                                                                                          </td><td>3524229                                                                                                                                                       </td><td>133845                                                                                                                                                        </td><td>64                                                                                                                                                            </td><td> 99.31                                                                                                                                                        </td><td>3.70                                                                                                                                                          </td><td>1                                                                                                                                                             </td><td>d__Bacteria;p__Firmicutes;c__Clostridia;o__Clostridiales;f__Clostridiaceae;g__Clostridium;s__Clostridium peptidivorans                                        </td><td>k__Bacteria;p__Firmicutes;c__Clostridia;o__Clostridiales;f__Clostridiaceae;g__Clostridium;s__                                                                 </td><td>d__Bacteria;p__Firmicutes_A;c__Clostridia;o__Clostridiales;f__Clostridiaceae;g__Clostridium_AK;s__Clostridium_AK peptidivorans                                </td><td>/ebio/abt3_projects/databases_no-backup/GTDB/release86/genbank/bacteria/GCA_900205925.1/GCA_900205925.1_Clostridium_peptidoveorans_DPC7177_genomic.fna.gz     </td></tr>\n",
       "</tbody>\n",
       "</table>\n"
      ],
      "text/latex": [
       "\\begin{tabular}{r|llllllllllllllll}\n",
       " ncbi\\_organism\\_name & accession & scaffold\\_count & longest\\_scaffold & gc\\_percentage & total\\_gap\\_length & genome\\_size & n50\\_contigs & trna\\_count & checkm\\_completeness & checkm\\_contamination & ssu\\_count & ncbi\\_taxonomy & ssu\\_gg\\_taxonomy & gtdb\\_taxonomy & fasta\\_file\\_path\\\\\n",
       "\\hline\n",
       "\t RS\\_GCF\\_002009845.1\\_Leptospira alexanderi                                                                                                                             & RS\\_GCF\\_002009845.1                                                                                                                                                     & 238                                                                                                                                                                        &  184955                                                                                                                                                                    & 40.28703                                                                                                                                                                   &    0                                                                                                                                                                       & 4060960                                                                                                                                                                    &  41821                                                                                                                                                                     & 37                                                                                                                                                                         &  98.82                                                                                                                                                                     & 0.00                                                                                                                                                                       & 1                                                                                                                                                                          & d\\_\\_Bacteria;p\\_\\_Spirochaetes;c\\_\\_Spirochaetia;o\\_\\_;f\\_\\_Leptospiraceae;g\\_\\_Leptospira;s\\_\\_Leptospira alexanderi                                       & k\\_\\_Bacteria;p\\_\\_Spirochaetes;c\\_\\_{[}Leptospirae{]};o\\_\\_{[}Leptospirales{]};f\\_\\_Leptospiraceae;g\\_\\_Leptospira;s\\_\\_                                    & d\\_\\_Bacteria;p\\_\\_Spirochaetota;c\\_\\_Leptospirae;o\\_\\_Leptospirales;f\\_\\_Leptospiraceae;g\\_\\_Leptospira;s\\_\\_Leptospira alexanderi                          & /ebio/abt3\\_projects/databases\\_no-backup/GTDB/release86/genbank/bacteria/GCA\\_002009845.1/GCA\\_002009845.1\\_ASM200984v1\\_genomic.fna.gz                            \\\\\n",
       "\t RS\\_GCF\\_000214495.1\\_Megasphaera sp. UPII 199-6                                                                                                                        & RS\\_GCF\\_000214495.1                                                                                                                                                     &  45                                                                                                                                                                        &  149073                                                                                                                                                                    & 46.36845                                                                                                                                                                   &    1                                                                                                                                                                       & 1640787                                                                                                                                                                    & 100595                                                                                                                                                                     & 49                                                                                                                                                                         & 100.00                                                                                                                                                                     & 0.00                                                                                                                                                                       & 1                                                                                                                                                                          & d\\_\\_Bacteria;p\\_\\_Firmicutes;c\\_\\_Negativicutes;o\\_\\_Veillonellales;f\\_\\_Veillonellaceae;g\\_\\_Megasphaera;s\\_\\_                                             & k\\_\\_Bacteria;p\\_\\_Firmicutes;c\\_\\_Clostridia;o\\_\\_Clostridiales;f\\_\\_Veillonellaceae;g\\_\\_Megasphaera;s\\_\\_                                                 & d\\_\\_Bacteria;p\\_\\_Firmicutes\\_C;c\\_\\_Negativicutes;o\\_\\_Veillonellales;f\\_\\_Megasphaeraceae;g\\_\\_28L;s\\_\\_28L sp1                                          & /ebio/abt3\\_projects/databases\\_no-backup/GTDB/release86/genbank/bacteria/GCA\\_000214495.2/GCA\\_000214495.2\\_ASM21449v1\\_genomic.fna.gz                             \\\\\n",
       "\t RS\\_GCF\\_000221545.1\\_Megasphaera sp. UPII 135-E                                                                                                                        & RS\\_GCF\\_000221545.1                                                                                                                                                     &  49                                                                                                                                                                        &  172537                                                                                                                                                                    & 38.88314                                                                                                                                                                   &    8                                                                                                                                                                       & 1650551                                                                                                                                                                    &  64000                                                                                                                                                                     & 49                                                                                                                                                                         &  99.70                                                                                                                                                                     & 0.00                                                                                                                                                                       & 1                                                                                                                                                                          & d\\_\\_Bacteria;p\\_\\_Firmicutes;c\\_\\_Negativicutes;o\\_\\_Veillonellales;f\\_\\_Veillonellaceae;g\\_\\_Megasphaera;s\\_\\_                                             & k\\_\\_Bacteria;p\\_\\_Firmicutes;c\\_\\_Clostridia;o\\_\\_Clostridiales;f\\_\\_Veillonellaceae;g\\_\\_Megasphaera;s\\_\\_                                                 & d\\_\\_Bacteria;p\\_\\_Firmicutes\\_C;c\\_\\_Negativicutes;o\\_\\_Veillonellales;f\\_\\_Megasphaeraceae;g\\_\\_28L;s\\_\\_28L sp2                                          & /ebio/abt3\\_projects/databases\\_no-backup/GTDB/release86/genbank/bacteria/GCA\\_000221545.2/GCA\\_000221545.2\\_ASM22154v1\\_genomic.fna.gz                             \\\\\n",
       "\t RS\\_GCF\\_000764165.1\\_Cryobacterium roopkundense                                                                                                                        & RS\\_GCF\\_000764165.1                                                                                                                                                     & 226                                                                                                                                                                        &  132366                                                                                                                                                                    & 65.29437                                                                                                                                                                   &   11                                                                                                                                                                       & 4356826                                                                                                                                                                    &  36861                                                                                                                                                                     & 47                                                                                                                                                                         &  98.74                                                                                                                                                                     & 0.34                                                                                                                                                                       & 1                                                                                                                                                                          & d\\_\\_Bacteria;p\\_\\_Actinobacteria;c\\_\\_Actinobacteria;o\\_\\_Micrococcales;f\\_\\_Microbacteriaceae;g\\_\\_Cryobacterium;s\\_\\_Cryobacterium roopkundense           & k\\_\\_Bacteria;p\\_\\_Actinobacteria;c\\_\\_Actinobacteria;o\\_\\_Actinomycetales;f\\_\\_Microbacteriaceae;g\\_\\_Cryobacterium;s\\_\\_psychrophilum                      & d\\_\\_Bacteria;p\\_\\_Actinobacteriota;c\\_\\_Actinobacteria;o\\_\\_Actinomycetales;f\\_\\_Microbacteriaceae;g\\_\\_Cryobacterium;s\\_\\_Cryobacterium roopkundense       & /ebio/abt3\\_projects/databases\\_no-backup/GTDB/release86/genbank/bacteria/GCA\\_000764165.1/GCA\\_000764165.1\\_ASM76416v1\\_genomic.fna.gz                             \\\\\n",
       "\t RS\\_GCF\\_900143645.1\\_Anaerocolumna xylanovorans DSM 12503                                                                                                                    & RS\\_GCF\\_900143645.1                                                                                                                                                           &  23                                                                                                                                                                              & 1427898                                                                                                                                                                          & 40.14312                                                                                                                                                                         & 5024                                                                                                                                                                             & 5420325                                                                                                                                                                          & 343250                                                                                                                                                                           & 50                                                                                                                                                                               &  99.11                                                                                                                                                                           & 3.02                                                                                                                                                                             & 1                                                                                                                                                                                & d\\_\\_Bacteria;p\\_\\_Firmicutes;c\\_\\_Clostridia;o\\_\\_Clostridiales;f\\_\\_Lachnospiraceae;g\\_\\_Anaerocolumna;s\\_\\_Anaerocolumna xylanovorans                           & k\\_\\_Bacteria;p\\_\\_Firmicutes;c\\_\\_Clostridia;o\\_\\_Clostridiales;f\\_\\_Lachnospiraceae;g\\_\\_Coprococcus;s\\_\\_                                                       & d\\_\\_Bacteria;p\\_\\_Firmicutes\\_A;c\\_\\_Clostridia;o\\_\\_Lachnospirales;f\\_\\_Lachnospiraceae;g\\_\\_Anaerocolumna;s\\_\\_Anaerocolumna xylanovorans                      & /ebio/abt3\\_projects/databases\\_no-backup/GTDB/release86/genbank/bacteria/GCA\\_900143645.1/GCA\\_900143645.1\\_IMG-taxon\\_2582580727\\_annotated\\_assembly\\_genomic.fna.gz\\\\\n",
       "\t RS\\_GCF\\_900205925.1\\_Clostridium peptidivorans                                                                                                                             & RS\\_GCF\\_900205925.1                                                                                                                                                         &  62                                                                                                                                                                            &  325162                                                                                                                                                                        & 30.72976                                                                                                                                                                       &    0                                                                                                                                                                           & 3524229                                                                                                                                                                        & 133845                                                                                                                                                                         & 64                                                                                                                                                                             &  99.31                                                                                                                                                                         & 3.70                                                                                                                                                                           & 1                                                                                                                                                                              & d\\_\\_Bacteria;p\\_\\_Firmicutes;c\\_\\_Clostridia;o\\_\\_Clostridiales;f\\_\\_Clostridiaceae;g\\_\\_Clostridium;s\\_\\_Clostridium peptidivorans                             & k\\_\\_Bacteria;p\\_\\_Firmicutes;c\\_\\_Clostridia;o\\_\\_Clostridiales;f\\_\\_Clostridiaceae;g\\_\\_Clostridium;s\\_\\_                                                      & d\\_\\_Bacteria;p\\_\\_Firmicutes\\_A;c\\_\\_Clostridia;o\\_\\_Clostridiales;f\\_\\_Clostridiaceae;g\\_\\_Clostridium\\_AK;s\\_\\_Clostridium\\_AK peptidivorans               & /ebio/abt3\\_projects/databases\\_no-backup/GTDB/release86/genbank/bacteria/GCA\\_900205925.1/GCA\\_900205925.1\\_Clostridium\\_peptidoveorans\\_DPC7177\\_genomic.fna.gz     \\\\\n",
       "\\end{tabular}\n"
      ],
      "text/markdown": [
       "\n",
       "ncbi_organism_name | accession | scaffold_count | longest_scaffold | gc_percentage | total_gap_length | genome_size | n50_contigs | trna_count | checkm_completeness | checkm_contamination | ssu_count | ncbi_taxonomy | ssu_gg_taxonomy | gtdb_taxonomy | fasta_file_path | \n",
       "|---|---|---|---|---|---|\n",
       "| RS_GCF_002009845.1_Leptospira alexanderi                                                                                                                       | RS_GCF_002009845.1                                                                                                                                             | 238                                                                                                                                                            |  184955                                                                                                                                                        | 40.28703                                                                                                                                                       |    0                                                                                                                                                           | 4060960                                                                                                                                                        |  41821                                                                                                                                                         | 37                                                                                                                                                             |  98.82                                                                                                                                                         | 0.00                                                                                                                                                           | 1                                                                                                                                                              | d__Bacteria;p__Spirochaetes;c__Spirochaetia;o__;f__Leptospiraceae;g__Leptospira;s__Leptospira alexanderi                                                       | k__Bacteria;p__Spirochaetes;c__[Leptospirae];o__[Leptospirales];f__Leptospiraceae;g__Leptospira;s__                                                            | d__Bacteria;p__Spirochaetota;c__Leptospirae;o__Leptospirales;f__Leptospiraceae;g__Leptospira;s__Leptospira alexanderi                                          | /ebio/abt3_projects/databases_no-backup/GTDB/release86/genbank/bacteria/GCA_002009845.1/GCA_002009845.1_ASM200984v1_genomic.fna.gz                             | \n",
       "| RS_GCF_000214495.1_Megasphaera sp. UPII 199-6                                                                                                                  | RS_GCF_000214495.1                                                                                                                                             |  45                                                                                                                                                            |  149073                                                                                                                                                        | 46.36845                                                                                                                                                       |    1                                                                                                                                                           | 1640787                                                                                                                                                        | 100595                                                                                                                                                         | 49                                                                                                                                                             | 100.00                                                                                                                                                         | 0.00                                                                                                                                                           | 1                                                                                                                                                              | d__Bacteria;p__Firmicutes;c__Negativicutes;o__Veillonellales;f__Veillonellaceae;g__Megasphaera;s__                                                             | k__Bacteria;p__Firmicutes;c__Clostridia;o__Clostridiales;f__Veillonellaceae;g__Megasphaera;s__                                                                 | d__Bacteria;p__Firmicutes_C;c__Negativicutes;o__Veillonellales;f__Megasphaeraceae;g__28L;s__28L sp1                                                            | /ebio/abt3_projects/databases_no-backup/GTDB/release86/genbank/bacteria/GCA_000214495.2/GCA_000214495.2_ASM21449v1_genomic.fna.gz                              | \n",
       "| RS_GCF_000221545.1_Megasphaera sp. UPII 135-E                                                                                                                  | RS_GCF_000221545.1                                                                                                                                             |  49                                                                                                                                                            |  172537                                                                                                                                                        | 38.88314                                                                                                                                                       |    8                                                                                                                                                           | 1650551                                                                                                                                                        |  64000                                                                                                                                                         | 49                                                                                                                                                             |  99.70                                                                                                                                                         | 0.00                                                                                                                                                           | 1                                                                                                                                                              | d__Bacteria;p__Firmicutes;c__Negativicutes;o__Veillonellales;f__Veillonellaceae;g__Megasphaera;s__                                                             | k__Bacteria;p__Firmicutes;c__Clostridia;o__Clostridiales;f__Veillonellaceae;g__Megasphaera;s__                                                                 | d__Bacteria;p__Firmicutes_C;c__Negativicutes;o__Veillonellales;f__Megasphaeraceae;g__28L;s__28L sp2                                                            | /ebio/abt3_projects/databases_no-backup/GTDB/release86/genbank/bacteria/GCA_000221545.2/GCA_000221545.2_ASM22154v1_genomic.fna.gz                              | \n",
       "| RS_GCF_000764165.1_Cryobacterium roopkundense                                                                                                                  | RS_GCF_000764165.1                                                                                                                                             | 226                                                                                                                                                            |  132366                                                                                                                                                        | 65.29437                                                                                                                                                       |   11                                                                                                                                                           | 4356826                                                                                                                                                        |  36861                                                                                                                                                         | 47                                                                                                                                                             |  98.74                                                                                                                                                         | 0.34                                                                                                                                                           | 1                                                                                                                                                              | d__Bacteria;p__Actinobacteria;c__Actinobacteria;o__Micrococcales;f__Microbacteriaceae;g__Cryobacterium;s__Cryobacterium roopkundense                           | k__Bacteria;p__Actinobacteria;c__Actinobacteria;o__Actinomycetales;f__Microbacteriaceae;g__Cryobacterium;s__psychrophilum                                      | d__Bacteria;p__Actinobacteriota;c__Actinobacteria;o__Actinomycetales;f__Microbacteriaceae;g__Cryobacterium;s__Cryobacterium roopkundense                       | /ebio/abt3_projects/databases_no-backup/GTDB/release86/genbank/bacteria/GCA_000764165.1/GCA_000764165.1_ASM76416v1_genomic.fna.gz                              | \n",
       "| RS_GCF_900143645.1_Anaerocolumna xylanovorans DSM 12503                                                                                                        | RS_GCF_900143645.1                                                                                                                                             |  23                                                                                                                                                            | 1427898                                                                                                                                                        | 40.14312                                                                                                                                                       | 5024                                                                                                                                                           | 5420325                                                                                                                                                        | 343250                                                                                                                                                         | 50                                                                                                                                                             |  99.11                                                                                                                                                         | 3.02                                                                                                                                                           | 1                                                                                                                                                              | d__Bacteria;p__Firmicutes;c__Clostridia;o__Clostridiales;f__Lachnospiraceae;g__Anaerocolumna;s__Anaerocolumna xylanovorans                                     | k__Bacteria;p__Firmicutes;c__Clostridia;o__Clostridiales;f__Lachnospiraceae;g__Coprococcus;s__                                                                 | d__Bacteria;p__Firmicutes_A;c__Clostridia;o__Lachnospirales;f__Lachnospiraceae;g__Anaerocolumna;s__Anaerocolumna xylanovorans                                  | /ebio/abt3_projects/databases_no-backup/GTDB/release86/genbank/bacteria/GCA_900143645.1/GCA_900143645.1_IMG-taxon_2582580727_annotated_assembly_genomic.fna.gz | \n",
       "| RS_GCF_900205925.1_Clostridium peptidivorans                                                                                                                   | RS_GCF_900205925.1                                                                                                                                             |  62                                                                                                                                                            |  325162                                                                                                                                                        | 30.72976                                                                                                                                                       |    0                                                                                                                                                           | 3524229                                                                                                                                                        | 133845                                                                                                                                                         | 64                                                                                                                                                             |  99.31                                                                                                                                                         | 3.70                                                                                                                                                           | 1                                                                                                                                                              | d__Bacteria;p__Firmicutes;c__Clostridia;o__Clostridiales;f__Clostridiaceae;g__Clostridium;s__Clostridium peptidivorans                                         | k__Bacteria;p__Firmicutes;c__Clostridia;o__Clostridiales;f__Clostridiaceae;g__Clostridium;s__                                                                  | d__Bacteria;p__Firmicutes_A;c__Clostridia;o__Clostridiales;f__Clostridiaceae;g__Clostridium_AK;s__Clostridium_AK peptidivorans                                 | /ebio/abt3_projects/databases_no-backup/GTDB/release86/genbank/bacteria/GCA_900205925.1/GCA_900205925.1_Clostridium_peptidoveorans_DPC7177_genomic.fna.gz      | \n",
       "\n",
       "\n"
      ],
      "text/plain": [
       "  ncbi_organism_name                                      accession         \n",
       "1 RS_GCF_002009845.1_Leptospira alexanderi                RS_GCF_002009845.1\n",
       "2 RS_GCF_000214495.1_Megasphaera sp. UPII 199-6           RS_GCF_000214495.1\n",
       "3 RS_GCF_000221545.1_Megasphaera sp. UPII 135-E           RS_GCF_000221545.1\n",
       "4 RS_GCF_000764165.1_Cryobacterium roopkundense           RS_GCF_000764165.1\n",
       "5 RS_GCF_900143645.1_Anaerocolumna xylanovorans DSM 12503 RS_GCF_900143645.1\n",
       "6 RS_GCF_900205925.1_Clostridium peptidivorans            RS_GCF_900205925.1\n",
       "  scaffold_count longest_scaffold gc_percentage total_gap_length genome_size\n",
       "1 238             184955          40.28703         0             4060960    \n",
       "2  45             149073          46.36845         1             1640787    \n",
       "3  49             172537          38.88314         8             1650551    \n",
       "4 226             132366          65.29437        11             4356826    \n",
       "5  23            1427898          40.14312      5024             5420325    \n",
       "6  62             325162          30.72976         0             3524229    \n",
       "  n50_contigs trna_count checkm_completeness checkm_contamination ssu_count\n",
       "1  41821      37          98.82              0.00                 1        \n",
       "2 100595      49         100.00              0.00                 1        \n",
       "3  64000      49          99.70              0.00                 1        \n",
       "4  36861      47          98.74              0.34                 1        \n",
       "5 343250      50          99.11              3.02                 1        \n",
       "6 133845      64          99.31              3.70                 1        \n",
       "  ncbi_taxonomy                                                                                                                       \n",
       "1 d__Bacteria;p__Spirochaetes;c__Spirochaetia;o__;f__Leptospiraceae;g__Leptospira;s__Leptospira alexanderi                            \n",
       "2 d__Bacteria;p__Firmicutes;c__Negativicutes;o__Veillonellales;f__Veillonellaceae;g__Megasphaera;s__                                  \n",
       "3 d__Bacteria;p__Firmicutes;c__Negativicutes;o__Veillonellales;f__Veillonellaceae;g__Megasphaera;s__                                  \n",
       "4 d__Bacteria;p__Actinobacteria;c__Actinobacteria;o__Micrococcales;f__Microbacteriaceae;g__Cryobacterium;s__Cryobacterium roopkundense\n",
       "5 d__Bacteria;p__Firmicutes;c__Clostridia;o__Clostridiales;f__Lachnospiraceae;g__Anaerocolumna;s__Anaerocolumna xylanovorans          \n",
       "6 d__Bacteria;p__Firmicutes;c__Clostridia;o__Clostridiales;f__Clostridiaceae;g__Clostridium;s__Clostridium peptidivorans              \n",
       "  ssu_gg_taxonomy                                                                                                          \n",
       "1 k__Bacteria;p__Spirochaetes;c__[Leptospirae];o__[Leptospirales];f__Leptospiraceae;g__Leptospira;s__                      \n",
       "2 k__Bacteria;p__Firmicutes;c__Clostridia;o__Clostridiales;f__Veillonellaceae;g__Megasphaera;s__                           \n",
       "3 k__Bacteria;p__Firmicutes;c__Clostridia;o__Clostridiales;f__Veillonellaceae;g__Megasphaera;s__                           \n",
       "4 k__Bacteria;p__Actinobacteria;c__Actinobacteria;o__Actinomycetales;f__Microbacteriaceae;g__Cryobacterium;s__psychrophilum\n",
       "5 k__Bacteria;p__Firmicutes;c__Clostridia;o__Clostridiales;f__Lachnospiraceae;g__Coprococcus;s__                           \n",
       "6 k__Bacteria;p__Firmicutes;c__Clostridia;o__Clostridiales;f__Clostridiaceae;g__Clostridium;s__                            \n",
       "  gtdb_taxonomy                                                                                                                           \n",
       "1 d__Bacteria;p__Spirochaetota;c__Leptospirae;o__Leptospirales;f__Leptospiraceae;g__Leptospira;s__Leptospira alexanderi                   \n",
       "2 d__Bacteria;p__Firmicutes_C;c__Negativicutes;o__Veillonellales;f__Megasphaeraceae;g__28L;s__28L sp1                                     \n",
       "3 d__Bacteria;p__Firmicutes_C;c__Negativicutes;o__Veillonellales;f__Megasphaeraceae;g__28L;s__28L sp2                                     \n",
       "4 d__Bacteria;p__Actinobacteriota;c__Actinobacteria;o__Actinomycetales;f__Microbacteriaceae;g__Cryobacterium;s__Cryobacterium roopkundense\n",
       "5 d__Bacteria;p__Firmicutes_A;c__Clostridia;o__Lachnospirales;f__Lachnospiraceae;g__Anaerocolumna;s__Anaerocolumna xylanovorans           \n",
       "6 d__Bacteria;p__Firmicutes_A;c__Clostridia;o__Clostridiales;f__Clostridiaceae;g__Clostridium_AK;s__Clostridium_AK peptidivorans          \n",
       "  fasta_file_path                                                                                                                                               \n",
       "1 /ebio/abt3_projects/databases_no-backup/GTDB/release86/genbank/bacteria/GCA_002009845.1/GCA_002009845.1_ASM200984v1_genomic.fna.gz                            \n",
       "2 /ebio/abt3_projects/databases_no-backup/GTDB/release86/genbank/bacteria/GCA_000214495.2/GCA_000214495.2_ASM21449v1_genomic.fna.gz                             \n",
       "3 /ebio/abt3_projects/databases_no-backup/GTDB/release86/genbank/bacteria/GCA_000221545.2/GCA_000221545.2_ASM22154v1_genomic.fna.gz                             \n",
       "4 /ebio/abt3_projects/databases_no-backup/GTDB/release86/genbank/bacteria/GCA_000764165.1/GCA_000764165.1_ASM76416v1_genomic.fna.gz                             \n",
       "5 /ebio/abt3_projects/databases_no-backup/GTDB/release86/genbank/bacteria/GCA_900143645.1/GCA_900143645.1_IMG-taxon_2582580727_annotated_assembly_genomic.fna.gz\n",
       "6 /ebio/abt3_projects/databases_no-backup/GTDB/release86/genbank/bacteria/GCA_900205925.1/GCA_900205925.1_Clostridium_peptidoveorans_DPC7177_genomic.fna.gz     "
      ]
     },
     "metadata": {},
     "output_type": "display_data"
    }
   ],
   "source": [
    "metadata = read.delim(metadata_file, sep='\\t') %>% \n",
    "    dplyr::select(ncbi_organism_name, accession, scaffold_count,\n",
    "                  longest_scaffold, gc_percentage, total_gap_length,\n",
    "                  genome_size, n50_contigs, trna_count, checkm_completeness,\n",
    "                  checkm_contamination, ssu_count, ncbi_taxonomy, ssu_gg_taxonomy, \n",
    "                  gtdb_taxonomy, fasta_file_path)\n",
    "\n",
    "metadata %>% nrow %>% print\n",
    "metadata %>% head"
   ]
  },
  {
   "cell_type": "markdown",
   "metadata": {},
   "source": [
    "# Summary"
   ]
  },
  {
   "cell_type": "code",
   "execution_count": 4,
   "metadata": {
    "ExecuteTime": {
     "end_time": "2019-05-15T12:25:11.202273Z",
     "start_time": "2019-05-15T12:24:53.582Z"
    }
   },
   "outputs": [
    {
     "data": {
      "text/plain": [
       "                                             ncbi_organism_name\n",
       " GB_GCA_000007185.1_Methanopyrus kandleri AV19        :    1   \n",
       " GB_GCA_000007225.1_Pyrobaculum aerophilum str. IM2   :    1   \n",
       " GB_GCA_000008085.1_Nanoarchaeum equitans Kin4-M      :    1   \n",
       " GB_GCA_000010565.1_Pelotomaculum thermopropionicum SI:    1   \n",
       " GB_GCA_000011005.1_Methanocella paludicola SANAE     :    1   \n",
       " GB_GCA_000011125.1_Aeropyrum pernix K1               :    1   \n",
       " (Other)                                              :21270   \n",
       "              accession     scaffold_count    longest_scaffold  \n",
       " GB_GCA_000007185.1:    1   Min.   :   1.00   Min.   :    7478  \n",
       " GB_GCA_000007225.1:    1   1st Qu.:  13.00   1st Qu.:  124828  \n",
       " GB_GCA_000008085.1:    1   Median :  46.00   Median :  377020  \n",
       " GB_GCA_000010565.1:    1   Mean   :  84.63   Mean   : 1080254  \n",
       " GB_GCA_000011005.1:    1   3rd Qu.: 108.00   3rd Qu.: 1146328  \n",
       " GB_GCA_000011125.1:    1   Max.   :3514.00   Max.   :13047416  \n",
       " (Other)           :21270                                       \n",
       " gc_percentage   total_gap_length    genome_size        n50_contigs      \n",
       " Min.   :15.39   Min.   :       0   Min.   :  263431   Min.   :    1727  \n",
       " 1st Qu.:40.60   1st Qu.:       0   1st Qu.: 1938378   1st Qu.:   30310  \n",
       " Median :49.55   Median :     189   Median : 3157156   Median :  121900  \n",
       " Mean   :50.92   Mean   :   12403   Mean   : 3486720   Mean   :  771525  \n",
       " 3rd Qu.:62.30   3rd Qu.:    3151   3rd Qu.: 4583683   3rd Qu.:  452543  \n",
       " Max.   :76.64   Max.   :61930946   Max.   :68003531   Max.   :13047416  \n",
       "                                                                         \n",
       "   trna_count    checkm_completeness checkm_contamination   ssu_count     \n",
       " 46     : 1060   Min.   : 50.00      Min.   :0.0000       Min.   : 0.000  \n",
       " 45     :  958   1st Qu.: 86.31      1st Qu.:0.0000       1st Qu.: 1.000  \n",
       " 47     :  840   Median : 98.68      Median :0.6000       Median : 1.000  \n",
       " 44     :  723   Mean   : 91.45      Mean   :0.9006       Mean   : 1.614  \n",
       " 48     :  669   3rd Qu.: 99.65      3rd Qu.:1.3300       3rd Qu.: 2.000  \n",
       " 43     :  660   Max.   :100.00      Max.   :4.9900       Max.   :84.000  \n",
       " (Other):16366                                                            \n",
       "                                                                                                        ncbi_taxonomy  \n",
       " d__Bacteria;p__;c__;o__;f__;g__;s__                                                                           :  436  \n",
       " d__Bacteria;p__Actinobacteria;c__Actinobacteria;o__Streptomycetales;f__Streptomycetaceae;g__Streptomyces;s__  :  295  \n",
       " d__Bacteria;p__Bacteroidetes;c__Bacteroidia;o__Bacteroidales;f__;g__;s__                                      :  244  \n",
       " d__Archaea;p__Euryarchaeota;c__;o__;f__;g__;s__                                                               :  243  \n",
       " d__Bacteria;p__Proteobacteria;c__Gammaproteobacteria;o__Pseudomonadales;f__Pseudomonadaceae;g__Pseudomonas;s__:  209  \n",
       " d__Bacteria;p__Firmicutes;c__Clostridia;o__Clostridiales;f__Lachnospiraceae;g__;s__                           :  198  \n",
       " (Other)                                                                                                       :19651  \n",
       "                                                                                                       ssu_gg_taxonomy \n",
       " none                                                                                                          : 5036  \n",
       " k__Bacteria;p__OD1;c__ZB2;o__;f__;g__;s__                                                                     :  404  \n",
       " k__Bacteria;p__Actinobacteria;c__Actinobacteria;o__Actinomycetales;f__Streptomycetaceae;g__Streptomyces;s__   :  388  \n",
       " k__Bacteria;p__OD1;c__ABY1;o__;f__;g__;s__                                                                    :  250  \n",
       " k__Bacteria;p__Proteobacteria;c__Gammaproteobacteria;o__Pseudomonadales;f__Pseudomonadaceae;g__Pseudomonas;s__:  246  \n",
       " k__Bacteria;p__OD1;c__;o__;f__;g__;s__                                                                        :  236  \n",
       " (Other)                                                                                                       :14716  \n",
       "                                                                                                           gtdb_taxonomy  \n",
       " d__Bacteria;p__Actinobacteriota;c__Actinobacteria;o__Streptomycetales;f__Streptomycetaceae;g__Streptomyces;s__   :  214  \n",
       " d__Bacteria;p__Proteobacteria;c__Gammaproteobacteria;o__Pseudomonadales;f__Pseudomonadaceae;g__Pseudomonas_E;s__ :  156  \n",
       " d__Bacteria;p__Bacteroidota;c__Bacteroidia;o__Bacteroidales;f__Bacteroidaceae;g__Prevotella;s__                  :   94  \n",
       " d__Bacteria;p__Actinobacteriota;c__Actinobacteria;o__Corynebacteriales;f__Corynebacteriaceae;g__Mycobacterium;s__:   90  \n",
       " d__Bacteria;p__Proteobacteria;c__Alphaproteobacteria;o__Sphingomonadales;f__Sphingomonadaceae;g__Sphingomonas;s__:   58  \n",
       " d__Bacteria;p__Bacteroidota;c__Bacteroidia;o__Flavobacteriales;f__Flavobacteriaceae;g__Flavobacterium;s__        :   56  \n",
       " (Other)                                                                                                          :20608  \n",
       "                                                                                                                       fasta_file_path \n",
       " /ebio/abt3_projects/databases_no-backup/GTDB/release86/genbank/archaea/GCA_000006175.2/GCA_000006175.2_ASM617v2_genomic.fna.gz:    1  \n",
       " /ebio/abt3_projects/databases_no-backup/GTDB/release86/genbank/archaea/GCA_000006805.1/GCA_000006805.1_ASM680v1_genomic.fna.gz:    1  \n",
       " /ebio/abt3_projects/databases_no-backup/GTDB/release86/genbank/archaea/GCA_000007185.1/GCA_000007185.1_ASM718v1_genomic.fna.gz:    1  \n",
       " /ebio/abt3_projects/databases_no-backup/GTDB/release86/genbank/archaea/GCA_000007225.1/GCA_000007225.1_ASM722v1_genomic.fna.gz:    1  \n",
       " /ebio/abt3_projects/databases_no-backup/GTDB/release86/genbank/archaea/GCA_000007305.1/GCA_000007305.1_ASM730v1_genomic.fna.gz:    1  \n",
       " (Other)                                                                                                                       :21168  \n",
       " NA's                                                                                                                          :  103  "
      ]
     },
     "metadata": {},
     "output_type": "display_data"
    }
   ],
   "source": [
    "metadata %>% summary"
   ]
  },
  {
   "cell_type": "markdown",
   "metadata": {},
   "source": [
    "# Filter"
   ]
  },
  {
   "cell_type": "code",
   "execution_count": 5,
   "metadata": {
    "ExecuteTime": {
     "end_time": "2019-05-15T12:25:11.475542Z",
     "start_time": "2019-05-15T12:24:55.118Z"
    }
   },
   "outputs": [
    {
     "data": {
      "text/html": [
       "11848"
      ],
      "text/latex": [
       "11848"
      ],
      "text/markdown": [
       "11848"
      ],
      "text/plain": [
       "[1] 11848"
      ]
     },
     "metadata": {},
     "output_type": "display_data"
    }
   ],
   "source": [
    "# removing abnormal \n",
    "metadata_f = metadata %>%\n",
    "    filter(scaffold_count <= 100, \n",
    "           total_gap_length < 100000,\n",
    "           genome_size < 10000000,\n",
    "           checkm_completeness >= 90,\n",
    "           ssu_count < 20,\n",
    "           fasta_file_path != '')\n",
    "\n",
    "metadata_f %>% nrow"
   ]
  },
  {
   "cell_type": "code",
   "execution_count": 6,
   "metadata": {
    "ExecuteTime": {
     "end_time": "2019-05-15T12:25:11.700133Z",
     "start_time": "2019-05-15T12:24:55.228Z"
    }
   },
   "outputs": [
    {
     "data": {
      "text/plain": [
       "                                             ncbi_organism_name\n",
       " GB_GCA_000007185.1_Methanopyrus kandleri AV19        :    1   \n",
       " GB_GCA_000007225.1_Pyrobaculum aerophilum str. IM2   :    1   \n",
       " GB_GCA_000010565.1_Pelotomaculum thermopropionicum SI:    1   \n",
       " GB_GCA_000011005.1_Methanocella paludicola SANAE     :    1   \n",
       " GB_GCA_000011125.1_Aeropyrum pernix K1               :    1   \n",
       " GB_GCA_000014945.1_Methanosaeta thermophila PT       :    1   \n",
       " (Other)                                              :11842   \n",
       "              accession     scaffold_count   longest_scaffold  gc_percentage  \n",
       " GB_GCA_000007185.1:    1   Min.   :  1.00   Min.   :  49376   Min.   :20.87  \n",
       " GB_GCA_000007225.1:    1   1st Qu.:  3.00   1st Qu.: 440545   1st Qu.:40.76  \n",
       " GB_GCA_000010565.1:    1   Median : 22.00   Median : 895660   Median :52.45  \n",
       " GB_GCA_000011005.1:    1   Mean   : 29.93   Mean   :1717765   Mean   :52.01  \n",
       " GB_GCA_000011125.1:    1   3rd Qu.: 50.00   3rd Qu.:2496641   3rd Qu.:63.70  \n",
       " GB_GCA_000014945.1:    1   Max.   :100.00   Max.   :9997872   Max.   :76.64  \n",
       " (Other)           :11842                                                     \n",
       " total_gap_length  genome_size       n50_contigs        trna_count  \n",
       " Min.   :    0    Min.   : 532684   Min.   :   2378   46     : 791  \n",
       " 1st Qu.:    0    1st Qu.:2654561   1st Qu.: 149713   45     : 732  \n",
       " Median :    5    Median :3750714   Median : 334566   47     : 633  \n",
       " Mean   : 2567    Mean   :3962229   Mean   :1289445   48     : 529  \n",
       " 3rd Qu.: 1021    3rd Qu.:4905858   3rd Qu.:1925080   44     : 479  \n",
       " Max.   :98828    Max.   :9997872   Max.   :9997872   49     : 426  \n",
       "                                                      (Other):8258  \n",
       " checkm_completeness checkm_contamination   ssu_count     \n",
       " Min.   : 90.00      Min.   :0.000        Min.   : 0.000  \n",
       " 1st Qu.: 98.67      1st Qu.:0.000        1st Qu.: 1.000  \n",
       " Median : 99.44      Median :0.480        Median : 1.000  \n",
       " Mean   : 98.75      Mean   :0.728        Mean   : 2.168  \n",
       " 3rd Qu.: 99.90      3rd Qu.:1.050        3rd Qu.: 3.000  \n",
       " Max.   :100.00      Max.   :4.990        Max.   :19.000  \n",
       "                                                          \n",
       "                                                                                                           ncbi_taxonomy  \n",
       " d__Bacteria;p__Actinobacteria;c__Actinobacteria;o__Streptomycetales;f__Streptomycetaceae;g__Streptomyces;s__     :  151  \n",
       " d__Bacteria;p__Proteobacteria;c__Gammaproteobacteria;o__Pseudomonadales;f__Pseudomonadaceae;g__Pseudomonas;s__   :  145  \n",
       " d__Bacteria;p__Firmicutes;c__Bacilli;o__Bacillales;f__Bacillaceae;g__Bacillus;s__                                :   93  \n",
       " d__Bacteria;p__Firmicutes;c__Clostridia;o__Clostridiales;f__Lachnospiraceae;g__;s__                              :   81  \n",
       " d__Bacteria;p__Proteobacteria;c__Alphaproteobacteria;o__Sphingomonadales;f__Sphingomonadaceae;g__Sphingomonas;s__:   70  \n",
       " d__Bacteria;p__Proteobacteria;c__Alphaproteobacteria;o__Rhizobiales;f__Rhizobiaceae;g__Rhizobium;s__             :   69  \n",
       " (Other)                                                                                                          :11239  \n",
       "                                                                                                       ssu_gg_taxonomy\n",
       " none                                                                                                          :1301  \n",
       " k__Bacteria;p__Proteobacteria;c__Gammaproteobacteria;o__Pseudomonadales;f__Pseudomonadaceae;g__Pseudomonas;s__: 188  \n",
       " k__Bacteria;p__Actinobacteria;c__Actinobacteria;o__Actinomycetales;f__Streptomycetaceae;g__Streptomyces;s__   : 180  \n",
       " k__Bacteria;p__Actinobacteria;c__Actinobacteria;o__Actinomycetales;f__Mycobacteriaceae;g__Mycobacterium;s__   : 131  \n",
       " k__Bacteria;p__Proteobacteria;c__Alphaproteobacteria;o__Rhodobacterales;f__Rhodobacteraceae;g__;s__           : 123  \n",
       " k__Bacteria;p__Firmicutes;c__Bacilli;o__Bacillales;f__Bacillaceae;g__Bacillus;s__                             : 121  \n",
       " (Other)                                                                                                       :9804  \n",
       "                                                                                                           gtdb_taxonomy  \n",
       " d__Bacteria;p__Proteobacteria;c__Gammaproteobacteria;o__Pseudomonadales;f__Pseudomonadaceae;g__Pseudomonas_E;s__ :  108  \n",
       " d__Bacteria;p__Actinobacteriota;c__Actinobacteria;o__Streptomycetales;f__Streptomycetaceae;g__Streptomyces;s__   :  105  \n",
       " d__Bacteria;p__Proteobacteria;c__Alphaproteobacteria;o__Sphingomonadales;f__Sphingomonadaceae;g__Sphingomonas;s__:   49  \n",
       " d__Bacteria;p__Actinobacteriota;c__Actinobacteria;o__Actinomycetales;f__Microbacteriaceae;g__Microbacterium;s__  :   44  \n",
       " d__Bacteria;p__Actinobacteriota;c__Actinobacteria;o__Corynebacteriales;f__Corynebacteriaceae;g__Mycobacterium;s__:   42  \n",
       " d__Bacteria;p__Bacteroidota;c__Bacteroidia;o__Flavobacteriales;f__Flavobacteriaceae;g__Flavobacterium;s__        :   40  \n",
       " (Other)                                                                                                          :11460  \n",
       "                                                                                                                       fasta_file_path \n",
       " /ebio/abt3_projects/databases_no-backup/GTDB/release86/genbank/archaea/GCA_000006175.2/GCA_000006175.2_ASM617v2_genomic.fna.gz:    1  \n",
       " /ebio/abt3_projects/databases_no-backup/GTDB/release86/genbank/archaea/GCA_000006805.1/GCA_000006805.1_ASM680v1_genomic.fna.gz:    1  \n",
       " /ebio/abt3_projects/databases_no-backup/GTDB/release86/genbank/archaea/GCA_000007185.1/GCA_000007185.1_ASM718v1_genomic.fna.gz:    1  \n",
       " /ebio/abt3_projects/databases_no-backup/GTDB/release86/genbank/archaea/GCA_000007225.1/GCA_000007225.1_ASM722v1_genomic.fna.gz:    1  \n",
       " /ebio/abt3_projects/databases_no-backup/GTDB/release86/genbank/archaea/GCA_000007305.1/GCA_000007305.1_ASM730v1_genomic.fna.gz:    1  \n",
       " /ebio/abt3_projects/databases_no-backup/GTDB/release86/genbank/archaea/GCA_000007345.1/GCA_000007345.1_ASM734v1_genomic.fna.gz:    1  \n",
       " (Other)                                                                                                                       :11842  "
      ]
     },
     "metadata": {},
     "output_type": "display_data"
    }
   ],
   "source": [
    "metadata_f %>% summary"
   ]
  },
  {
   "cell_type": "markdown",
   "metadata": {},
   "source": [
    "## Random selection\n",
    "\n",
    "Selecting 2000 genomes, which will be split into training & testing"
   ]
  },
  {
   "cell_type": "code",
   "execution_count": 7,
   "metadata": {
    "ExecuteTime": {
     "end_time": "2019-05-15T12:25:11.737101Z",
     "start_time": "2019-05-15T12:24:55.452Z"
    }
   },
   "outputs": [
    {
     "data": {
      "text/html": [
       "2000"
      ],
      "text/latex": [
       "2000"
      ],
      "text/markdown": [
       "2000"
      ],
      "text/plain": [
       "[1] 2000"
      ]
     },
     "metadata": {},
     "output_type": "display_data"
    }
   ],
   "source": [
    "metadata_f = metadata_f %>%\n",
    "    sample_n(2000) \n",
    "\n",
    "metadata_f %>% nrow"
   ]
  },
  {
   "cell_type": "markdown",
   "metadata": {
    "ExecuteTime": {
     "end_time": "2019-05-15T09:21:58.287573Z",
     "start_time": "2019-05-15T09:22:00.964Z"
    }
   },
   "source": [
    "### Summary"
   ]
  },
  {
   "cell_type": "code",
   "execution_count": 8,
   "metadata": {
    "ExecuteTime": {
     "end_time": "2019-05-15T12:25:11.917236Z",
     "start_time": "2019-05-15T12:24:57.220Z"
    }
   },
   "outputs": [
    {
     "data": {
      "text/plain": [
       " scaffold_count  longest_scaffold  gc_percentage   total_gap_length\n",
       " Min.   :  1.0   Min.   :  50428   Min.   :23.68   Min.   :    0   \n",
       " 1st Qu.:  3.0   1st Qu.: 463450   1st Qu.:41.03   1st Qu.:    0   \n",
       " Median : 21.0   Median : 946722   Median :53.13   Median :    1   \n",
       " Mean   : 28.8   Mean   :1807906   Mean   :52.25   Mean   : 2591   \n",
       " 3rd Qu.: 48.0   3rd Qu.:2583852   3rd Qu.:63.75   3rd Qu.: 1097   \n",
       " Max.   :100.0   Max.   :9997872   Max.   :75.50   Max.   :94901   \n",
       "                                                                   \n",
       "  genome_size       n50_contigs        trna_count   checkm_completeness\n",
       " Min.   : 580076   Min.   :   9643   45     : 118   Min.   : 90.09     \n",
       " 1st Qu.:2653050   1st Qu.: 158143   46     : 115   1st Qu.: 98.68     \n",
       " Median :3798674   Median : 361570   47     :  93   Median : 99.44     \n",
       " Mean   :4038912   Mean   :1345687   44     :  87   Mean   : 98.77     \n",
       " 3rd Qu.:5028866   3rd Qu.:1933438   48     :  87   3rd Qu.: 99.89     \n",
       " Max.   :9997872   Max.   :9997872   49     :  76   Max.   :100.00     \n",
       "                                     (Other):1424                      \n",
       " checkm_contamination   ssu_count     \n",
       " Min.   :0.0000       Min.   : 0.000  \n",
       " 1st Qu.:0.0000       1st Qu.: 1.000  \n",
       " Median :0.4800       Median : 1.000  \n",
       " Mean   :0.7283       Mean   : 2.167  \n",
       " 3rd Qu.:1.0600       3rd Qu.: 3.000  \n",
       " Max.   :4.9900       Max.   :15.000  \n",
       "                                      "
      ]
     },
     "metadata": {},
     "output_type": "display_data"
    }
   ],
   "source": [
    "metadata_f %>% \n",
    "    dplyr::select(scaffold_count, longest_scaffold, gc_percentage, total_gap_length,\n",
    "                  genome_size, n50_contigs, trna_count, checkm_completeness,\n",
    "                  checkm_contamination, ssu_count) %>%\n",
    "    summary"
   ]
  },
  {
   "cell_type": "markdown",
   "metadata": {},
   "source": [
    "#### Taxonomy"
   ]
  },
  {
   "cell_type": "code",
   "execution_count": 9,
   "metadata": {
    "ExecuteTime": {
     "end_time": "2019-05-15T12:25:12.027216Z",
     "start_time": "2019-05-15T12:24:58.158Z"
    }
   },
   "outputs": [
    {
     "data": {
      "text/html": [
       "<table>\n",
       "<thead><tr><th></th><th scope=col>Domain</th><th scope=col>Phylum</th><th scope=col>Class</th><th scope=col>Order</th><th scope=col>Family</th><th scope=col>Genus</th><th scope=col>Species</th></tr></thead>\n",
       "<tbody>\n",
       "\t<tr><th scope=row>1102</th><td>d__Bacteria                </td><td>p__Proteobacteria          </td><td>c__Betaproteobacteria      </td><td>o__Burkholderiales         </td><td>f__Sutterellaceae          </td><td>g__Sutterella              </td><td>s__                        </td></tr>\n",
       "\t<tr><th scope=row>9843</th><td>d__Archaea                 </td><td>p__Euryarchaeota           </td><td>c__Methanomicrobia         </td><td>o__Methanosarcinales       </td><td>f__Methanosarcinaceae      </td><td>g__Methanolobus            </td><td>s__Methanolobus profundi   </td></tr>\n",
       "\t<tr><th scope=row>11170</th><td>d__Bacteria                </td><td>p__Actinobacteria          </td><td>c__Actinobacteria          </td><td>o__Bifidobacteriales       </td><td>f__Bifidobacteriaceae      </td><td>g__Bifidobacterium         </td><td>s__Bifidobacterium saguini </td></tr>\n",
       "\t<tr><th scope=row>3524</th><td>d__Bacteria                </td><td>p__Actinobacteria          </td><td>c__Actinobacteria          </td><td>o__Corynebacteriales       </td><td>f__Corynebacteriaceae      </td><td>g__Corynebacterium         </td><td>s__Corynebacterium callunae</td></tr>\n",
       "\t<tr><th scope=row>6628</th><td>d__Bacteria                </td><td>p__Cyanobacteria           </td><td>c__                        </td><td>o__Nostocales              </td><td>f__Rivulariaceae           </td><td>g__Calothrix               </td><td>s__Calothrix parasitica    </td></tr>\n",
       "\t<tr><th scope=row>5322</th><td>d__Bacteria                </td><td>p__Actinobacteria          </td><td>c__Actinobacteria          </td><td>o__Actinomycetales         </td><td>f__Actinomycetaceae        </td><td>g__Actinomyces             </td><td>s__                        </td></tr>\n",
       "</tbody>\n",
       "</table>\n"
      ],
      "text/latex": [
       "\\begin{tabular}{r|lllllll}\n",
       "  & Domain & Phylum & Class & Order & Family & Genus & Species\\\\\n",
       "\\hline\n",
       "\t1102 & d\\_\\_Bacteria                 & p\\_\\_Proteobacteria           & c\\_\\_Betaproteobacteria       & o\\_\\_Burkholderiales          & f\\_\\_Sutterellaceae           & g\\_\\_Sutterella               & s\\_\\_                        \\\\\n",
       "\t9843 & d\\_\\_Archaea                  & p\\_\\_Euryarchaeota            & c\\_\\_Methanomicrobia          & o\\_\\_Methanosarcinales        & f\\_\\_Methanosarcinaceae       & g\\_\\_Methanolobus             & s\\_\\_Methanolobus profundi   \\\\\n",
       "\t11170 & d\\_\\_Bacteria                 & p\\_\\_Actinobacteria           & c\\_\\_Actinobacteria           & o\\_\\_Bifidobacteriales        & f\\_\\_Bifidobacteriaceae       & g\\_\\_Bifidobacterium          & s\\_\\_Bifidobacterium saguini \\\\\n",
       "\t3524 & d\\_\\_Bacteria                 & p\\_\\_Actinobacteria           & c\\_\\_Actinobacteria           & o\\_\\_Corynebacteriales        & f\\_\\_Corynebacteriaceae       & g\\_\\_Corynebacterium          & s\\_\\_Corynebacterium callunae\\\\\n",
       "\t6628 & d\\_\\_Bacteria                 & p\\_\\_Cyanobacteria            & c\\_\\_                         & o\\_\\_Nostocales               & f\\_\\_Rivulariaceae            & g\\_\\_Calothrix                & s\\_\\_Calothrix parasitica    \\\\\n",
       "\t5322 & d\\_\\_Bacteria                 & p\\_\\_Actinobacteria           & c\\_\\_Actinobacteria           & o\\_\\_Actinomycetales          & f\\_\\_Actinomycetaceae         & g\\_\\_Actinomyces              & s\\_\\_                        \\\\\n",
       "\\end{tabular}\n"
      ],
      "text/markdown": [
       "\n",
       "| <!--/--> | Domain | Phylum | Class | Order | Family | Genus | Species | \n",
       "|---|---|---|---|---|---|\n",
       "| 1102 | d__Bacteria                 | p__Proteobacteria           | c__Betaproteobacteria       | o__Burkholderiales          | f__Sutterellaceae           | g__Sutterella               | s__                         | \n",
       "| 9843 | d__Archaea                  | p__Euryarchaeota            | c__Methanomicrobia          | o__Methanosarcinales        | f__Methanosarcinaceae       | g__Methanolobus             | s__Methanolobus profundi    | \n",
       "| 11170 | d__Bacteria                 | p__Actinobacteria           | c__Actinobacteria           | o__Bifidobacteriales        | f__Bifidobacteriaceae       | g__Bifidobacterium          | s__Bifidobacterium saguini  | \n",
       "| 3524 | d__Bacteria                 | p__Actinobacteria           | c__Actinobacteria           | o__Corynebacteriales        | f__Corynebacteriaceae       | g__Corynebacterium          | s__Corynebacterium callunae | \n",
       "| 6628 | d__Bacteria                 | p__Cyanobacteria            | c__                         | o__Nostocales               | f__Rivulariaceae            | g__Calothrix                | s__Calothrix parasitica     | \n",
       "| 5322 | d__Bacteria                 | p__Actinobacteria           | c__Actinobacteria           | o__Actinomycetales          | f__Actinomycetaceae         | g__Actinomyces              | s__                         | \n",
       "\n",
       "\n"
      ],
      "text/plain": [
       "      Domain      Phylum            Class                 Order               \n",
       "1102  d__Bacteria p__Proteobacteria c__Betaproteobacteria o__Burkholderiales  \n",
       "9843  d__Archaea  p__Euryarchaeota  c__Methanomicrobia    o__Methanosarcinales\n",
       "11170 d__Bacteria p__Actinobacteria c__Actinobacteria     o__Bifidobacteriales\n",
       "3524  d__Bacteria p__Actinobacteria c__Actinobacteria     o__Corynebacteriales\n",
       "6628  d__Bacteria p__Cyanobacteria  c__                   o__Nostocales       \n",
       "5322  d__Bacteria p__Actinobacteria c__Actinobacteria     o__Actinomycetales  \n",
       "      Family                Genus              Species                    \n",
       "1102  f__Sutterellaceae     g__Sutterella      s__                        \n",
       "9843  f__Methanosarcinaceae g__Methanolobus    s__Methanolobus profundi   \n",
       "11170 f__Bifidobacteriaceae g__Bifidobacterium s__Bifidobacterium saguini \n",
       "3524  f__Corynebacteriaceae g__Corynebacterium s__Corynebacterium callunae\n",
       "6628  f__Rivulariaceae      g__Calothrix       s__Calothrix parasitica    \n",
       "5322  f__Actinomycetaceae   g__Actinomyces     s__                        "
      ]
     },
     "metadata": {},
     "output_type": "display_data"
    }
   ],
   "source": [
    "metadata_f_tax = metadata_f %>%\n",
    "    dplyr::select(ncbi_taxonomy) %>%\n",
    "    separate(ncbi_taxonomy, c('Domain', 'Phylum', 'Class', 'Order', 'Family', 'Genus', 'Species'), sep=';') \n",
    "\n",
    "metadata_f_tax %>% head"
   ]
  },
  {
   "cell_type": "code",
   "execution_count": 10,
   "metadata": {
    "ExecuteTime": {
     "end_time": "2019-05-15T12:25:12.087169Z",
     "start_time": "2019-05-15T12:24:58.306Z"
    }
   },
   "outputs": [
    {
     "data": {
      "text/html": [
       "<table>\n",
       "<thead><tr><th scope=col>Domain</th><th scope=col>n</th></tr></thead>\n",
       "<tbody>\n",
       "\t<tr><td>d__Bacteria</td><td>1912       </td></tr>\n",
       "\t<tr><td>d__Archaea </td><td>  88       </td></tr>\n",
       "</tbody>\n",
       "</table>\n"
      ],
      "text/latex": [
       "\\begin{tabular}{r|ll}\n",
       " Domain & n\\\\\n",
       "\\hline\n",
       "\t d\\_\\_Bacteria & 1912           \\\\\n",
       "\t d\\_\\_Archaea  &   88           \\\\\n",
       "\\end{tabular}\n"
      ],
      "text/markdown": [
       "\n",
       "Domain | n | \n",
       "|---|---|\n",
       "| d__Bacteria | 1912        | \n",
       "| d__Archaea  |   88        | \n",
       "\n",
       "\n"
      ],
      "text/plain": [
       "  Domain      n   \n",
       "1 d__Bacteria 1912\n",
       "2 d__Archaea    88"
      ]
     },
     "metadata": {},
     "output_type": "display_data"
    }
   ],
   "source": [
    "metadata_f_tax %>%\n",
    "    group_by(Domain) %>%\n",
    "    summarize(n = n()) %>%\n",
    "    ungroup() %>%\n",
    "    arrange(-n)"
   ]
  },
  {
   "cell_type": "code",
   "execution_count": 11,
   "metadata": {
    "ExecuteTime": {
     "end_time": "2019-05-15T12:25:12.274698Z",
     "start_time": "2019-05-15T12:24:58.477Z"
    }
   },
   "outputs": [
    {
     "data": {
      "text/html": [
       "<table>\n",
       "<thead><tr><th scope=col>Domain</th><th scope=col>Phylum</th><th scope=col>n</th></tr></thead>\n",
       "<tbody>\n",
       "\t<tr><td>d__Bacteria           </td><td>p__Proteobacteria     </td><td>786                   </td></tr>\n",
       "\t<tr><td>d__Bacteria           </td><td>p__Firmicutes         </td><td>371                   </td></tr>\n",
       "\t<tr><td>d__Bacteria           </td><td>p__Actinobacteria     </td><td>318                   </td></tr>\n",
       "\t<tr><td>d__Bacteria           </td><td>p__Bacteroidetes      </td><td>238                   </td></tr>\n",
       "\t<tr><td>d__Archaea            </td><td>p__Euryarchaeota      </td><td> 70                   </td></tr>\n",
       "\t<tr><td>d__Bacteria           </td><td>p__Cyanobacteria      </td><td> 38                   </td></tr>\n",
       "\t<tr><td>d__Bacteria           </td><td>p__Tenericutes        </td><td> 28                   </td></tr>\n",
       "\t<tr><td>d__Bacteria           </td><td>p__Spirochaetes       </td><td> 21                   </td></tr>\n",
       "\t<tr><td>d__Bacteria           </td><td>p__Chloroflexi        </td><td> 15                   </td></tr>\n",
       "\t<tr><td>d__Bacteria           </td><td>p__Verrucomicrobia    </td><td> 13                   </td></tr>\n",
       "\t<tr><td>d__Archaea            </td><td>p__Crenarchaeota      </td><td>  9                   </td></tr>\n",
       "\t<tr><td>d__Bacteria           </td><td>p__Thermotogae        </td><td>  7                   </td></tr>\n",
       "\t<tr><td>d__Bacteria           </td><td>p__Deinococcus-Thermus</td><td>  6                   </td></tr>\n",
       "\t<tr><td>d__Bacteria           </td><td>p__Nitrospirae        </td><td>  6                   </td></tr>\n",
       "\t<tr><td>d__Bacteria           </td><td>p__Acidobacteria      </td><td>  5                   </td></tr>\n",
       "\t<tr><td>d__Bacteria           </td><td>p__Chlamydiae         </td><td>  5                   </td></tr>\n",
       "\t<tr><td>d__Bacteria           </td><td>p__Chlorobi           </td><td>  5                   </td></tr>\n",
       "\t<tr><td>d__Bacteria           </td><td>p__Fusobacteria       </td><td>  5                   </td></tr>\n",
       "\t<tr><td>d__Bacteria           </td><td>p__Planctomycetes     </td><td>  5                   </td></tr>\n",
       "\t<tr><td>d__Bacteria           </td><td>p__Synergistetes      </td><td>  5                   </td></tr>\n",
       "</tbody>\n",
       "</table>\n"
      ],
      "text/latex": [
       "\\begin{tabular}{r|lll}\n",
       " Domain & Phylum & n\\\\\n",
       "\\hline\n",
       "\t d\\_\\_Bacteria            & p\\_\\_Proteobacteria      & 786                       \\\\\n",
       "\t d\\_\\_Bacteria            & p\\_\\_Firmicutes          & 371                       \\\\\n",
       "\t d\\_\\_Bacteria            & p\\_\\_Actinobacteria      & 318                       \\\\\n",
       "\t d\\_\\_Bacteria            & p\\_\\_Bacteroidetes       & 238                       \\\\\n",
       "\t d\\_\\_Archaea             & p\\_\\_Euryarchaeota       &  70                       \\\\\n",
       "\t d\\_\\_Bacteria            & p\\_\\_Cyanobacteria       &  38                       \\\\\n",
       "\t d\\_\\_Bacteria            & p\\_\\_Tenericutes         &  28                       \\\\\n",
       "\t d\\_\\_Bacteria            & p\\_\\_Spirochaetes        &  21                       \\\\\n",
       "\t d\\_\\_Bacteria            & p\\_\\_Chloroflexi         &  15                       \\\\\n",
       "\t d\\_\\_Bacteria            & p\\_\\_Verrucomicrobia     &  13                       \\\\\n",
       "\t d\\_\\_Archaea             & p\\_\\_Crenarchaeota       &   9                       \\\\\n",
       "\t d\\_\\_Bacteria            & p\\_\\_Thermotogae         &   7                       \\\\\n",
       "\t d\\_\\_Bacteria            & p\\_\\_Deinococcus-Thermus &   6                       \\\\\n",
       "\t d\\_\\_Bacteria            & p\\_\\_Nitrospirae         &   6                       \\\\\n",
       "\t d\\_\\_Bacteria            & p\\_\\_Acidobacteria       &   5                       \\\\\n",
       "\t d\\_\\_Bacteria            & p\\_\\_Chlamydiae          &   5                       \\\\\n",
       "\t d\\_\\_Bacteria            & p\\_\\_Chlorobi            &   5                       \\\\\n",
       "\t d\\_\\_Bacteria            & p\\_\\_Fusobacteria        &   5                       \\\\\n",
       "\t d\\_\\_Bacteria            & p\\_\\_Planctomycetes      &   5                       \\\\\n",
       "\t d\\_\\_Bacteria            & p\\_\\_Synergistetes       &   5                       \\\\\n",
       "\\end{tabular}\n"
      ],
      "text/markdown": [
       "\n",
       "Domain | Phylum | n | \n",
       "|---|---|---|---|---|---|---|---|---|---|---|---|---|---|---|---|---|---|---|---|\n",
       "| d__Bacteria            | p__Proteobacteria      | 786                    | \n",
       "| d__Bacteria            | p__Firmicutes          | 371                    | \n",
       "| d__Bacteria            | p__Actinobacteria      | 318                    | \n",
       "| d__Bacteria            | p__Bacteroidetes       | 238                    | \n",
       "| d__Archaea             | p__Euryarchaeota       |  70                    | \n",
       "| d__Bacteria            | p__Cyanobacteria       |  38                    | \n",
       "| d__Bacteria            | p__Tenericutes         |  28                    | \n",
       "| d__Bacteria            | p__Spirochaetes        |  21                    | \n",
       "| d__Bacteria            | p__Chloroflexi         |  15                    | \n",
       "| d__Bacteria            | p__Verrucomicrobia     |  13                    | \n",
       "| d__Archaea             | p__Crenarchaeota       |   9                    | \n",
       "| d__Bacteria            | p__Thermotogae         |   7                    | \n",
       "| d__Bacteria            | p__Deinococcus-Thermus |   6                    | \n",
       "| d__Bacteria            | p__Nitrospirae         |   6                    | \n",
       "| d__Bacteria            | p__Acidobacteria       |   5                    | \n",
       "| d__Bacteria            | p__Chlamydiae          |   5                    | \n",
       "| d__Bacteria            | p__Chlorobi            |   5                    | \n",
       "| d__Bacteria            | p__Fusobacteria        |   5                    | \n",
       "| d__Bacteria            | p__Planctomycetes      |   5                    | \n",
       "| d__Bacteria            | p__Synergistetes       |   5                    | \n",
       "\n",
       "\n"
      ],
      "text/plain": [
       "   Domain      Phylum                 n  \n",
       "1  d__Bacteria p__Proteobacteria      786\n",
       "2  d__Bacteria p__Firmicutes          371\n",
       "3  d__Bacteria p__Actinobacteria      318\n",
       "4  d__Bacteria p__Bacteroidetes       238\n",
       "5  d__Archaea  p__Euryarchaeota        70\n",
       "6  d__Bacteria p__Cyanobacteria        38\n",
       "7  d__Bacteria p__Tenericutes          28\n",
       "8  d__Bacteria p__Spirochaetes         21\n",
       "9  d__Bacteria p__Chloroflexi          15\n",
       "10 d__Bacteria p__Verrucomicrobia      13\n",
       "11 d__Archaea  p__Crenarchaeota         9\n",
       "12 d__Bacteria p__Thermotogae           7\n",
       "13 d__Bacteria p__Deinococcus-Thermus   6\n",
       "14 d__Bacteria p__Nitrospirae           6\n",
       "15 d__Bacteria p__Acidobacteria         5\n",
       "16 d__Bacteria p__Chlamydiae            5\n",
       "17 d__Bacteria p__Chlorobi              5\n",
       "18 d__Bacteria p__Fusobacteria          5\n",
       "19 d__Bacteria p__Planctomycetes        5\n",
       "20 d__Bacteria p__Synergistetes         5"
      ]
     },
     "metadata": {},
     "output_type": "display_data"
    }
   ],
   "source": [
    "metadata_f_tax %>%\n",
    "    group_by(Domain, Phylum) %>%\n",
    "    summarize(n = n()) %>%\n",
    "    ungroup() %>%\n",
    "    arrange(-n) %>%\n",
    "    head(n=20)"
   ]
  },
  {
   "cell_type": "code",
   "execution_count": 12,
   "metadata": {
    "ExecuteTime": {
     "end_time": "2019-05-15T12:25:12.504245Z",
     "start_time": "2019-05-15T12:24:58.608Z"
    }
   },
   "outputs": [
    {
     "data": {
      "text/html": [
       "<table>\n",
       "<thead><tr><th></th><th scope=col>Domain</th><th scope=col>Phylum</th><th scope=col>Class</th><th scope=col>Order</th><th scope=col>Family</th><th scope=col>Genus</th><th scope=col>Species</th></tr></thead>\n",
       "<tbody>\n",
       "\t<tr><th scope=row>1102</th><td>d__Bacteria                </td><td>p__Proteobacteria          </td><td>c__Gammaproteobacteria     </td><td>o__Betaproteobacteriales   </td><td>f__Burkholderiaceae        </td><td>g__CAG-521                 </td><td>s__                        </td></tr>\n",
       "\t<tr><th scope=row>9843</th><td>d__Archaea                 </td><td>p__Halobacterota           </td><td>c__Methanosarcinia         </td><td>o__Methanosarcinales       </td><td>f__Methanosarcinaceae      </td><td>g__Methanolobus            </td><td>s__Methanolobus profundi   </td></tr>\n",
       "\t<tr><th scope=row>11170</th><td>d__Bacteria                </td><td>p__Actinobacteriota        </td><td>c__Actinobacteria          </td><td>o__Actinomycetales         </td><td>f__Bifidobacteriaceae      </td><td>g__Bifidobacterium         </td><td>s__Bifidobacterium saguini </td></tr>\n",
       "\t<tr><th scope=row>3524</th><td>d__Bacteria                </td><td>p__Actinobacteriota        </td><td>c__Actinobacteria          </td><td>o__Corynebacteriales       </td><td>f__Corynebacteriaceae      </td><td>g__Corynebacterium         </td><td>s__Corynebacterium callunae</td></tr>\n",
       "\t<tr><th scope=row>6628</th><td>d__Bacteria                </td><td>p__Cyanobacteriota         </td><td>c__Cyanobacteriia          </td><td>o__Cyanobacteriales        </td><td>f__Nostocaceae             </td><td>g__Rivularia               </td><td>s__Rivularia parasitica    </td></tr>\n",
       "\t<tr><th scope=row>5322</th><td>d__Bacteria                </td><td>p__Actinobacteriota        </td><td>c__Actinobacteria          </td><td>o__Actinomycetales         </td><td>f__Actinomycetaceae        </td><td>g__Actinomyces_H           </td><td>s__                        </td></tr>\n",
       "</tbody>\n",
       "</table>\n"
      ],
      "text/latex": [
       "\\begin{tabular}{r|lllllll}\n",
       "  & Domain & Phylum & Class & Order & Family & Genus & Species\\\\\n",
       "\\hline\n",
       "\t1102 & d\\_\\_Bacteria                 & p\\_\\_Proteobacteria           & c\\_\\_Gammaproteobacteria      & o\\_\\_Betaproteobacteriales    & f\\_\\_Burkholderiaceae         & g\\_\\_CAG-521                  & s\\_\\_                        \\\\\n",
       "\t9843 & d\\_\\_Archaea                  & p\\_\\_Halobacterota            & c\\_\\_Methanosarcinia          & o\\_\\_Methanosarcinales        & f\\_\\_Methanosarcinaceae       & g\\_\\_Methanolobus             & s\\_\\_Methanolobus profundi   \\\\\n",
       "\t11170 & d\\_\\_Bacteria                 & p\\_\\_Actinobacteriota         & c\\_\\_Actinobacteria           & o\\_\\_Actinomycetales          & f\\_\\_Bifidobacteriaceae       & g\\_\\_Bifidobacterium          & s\\_\\_Bifidobacterium saguini \\\\\n",
       "\t3524 & d\\_\\_Bacteria                 & p\\_\\_Actinobacteriota         & c\\_\\_Actinobacteria           & o\\_\\_Corynebacteriales        & f\\_\\_Corynebacteriaceae       & g\\_\\_Corynebacterium          & s\\_\\_Corynebacterium callunae\\\\\n",
       "\t6628 & d\\_\\_Bacteria                 & p\\_\\_Cyanobacteriota          & c\\_\\_Cyanobacteriia           & o\\_\\_Cyanobacteriales         & f\\_\\_Nostocaceae              & g\\_\\_Rivularia                & s\\_\\_Rivularia parasitica    \\\\\n",
       "\t5322 & d\\_\\_Bacteria                 & p\\_\\_Actinobacteriota         & c\\_\\_Actinobacteria           & o\\_\\_Actinomycetales          & f\\_\\_Actinomycetaceae         & g\\_\\_Actinomyces\\_H          & s\\_\\_                        \\\\\n",
       "\\end{tabular}\n"
      ],
      "text/markdown": [
       "\n",
       "| <!--/--> | Domain | Phylum | Class | Order | Family | Genus | Species | \n",
       "|---|---|---|---|---|---|\n",
       "| 1102 | d__Bacteria                 | p__Proteobacteria           | c__Gammaproteobacteria      | o__Betaproteobacteriales    | f__Burkholderiaceae         | g__CAG-521                  | s__                         | \n",
       "| 9843 | d__Archaea                  | p__Halobacterota            | c__Methanosarcinia          | o__Methanosarcinales        | f__Methanosarcinaceae       | g__Methanolobus             | s__Methanolobus profundi    | \n",
       "| 11170 | d__Bacteria                 | p__Actinobacteriota         | c__Actinobacteria           | o__Actinomycetales          | f__Bifidobacteriaceae       | g__Bifidobacterium          | s__Bifidobacterium saguini  | \n",
       "| 3524 | d__Bacteria                 | p__Actinobacteriota         | c__Actinobacteria           | o__Corynebacteriales        | f__Corynebacteriaceae       | g__Corynebacterium          | s__Corynebacterium callunae | \n",
       "| 6628 | d__Bacteria                 | p__Cyanobacteriota          | c__Cyanobacteriia           | o__Cyanobacteriales         | f__Nostocaceae              | g__Rivularia                | s__Rivularia parasitica     | \n",
       "| 5322 | d__Bacteria                 | p__Actinobacteriota         | c__Actinobacteria           | o__Actinomycetales          | f__Actinomycetaceae         | g__Actinomyces_H            | s__                         | \n",
       "\n",
       "\n"
      ],
      "text/plain": [
       "      Domain      Phylum              Class                 \n",
       "1102  d__Bacteria p__Proteobacteria   c__Gammaproteobacteria\n",
       "9843  d__Archaea  p__Halobacterota    c__Methanosarcinia    \n",
       "11170 d__Bacteria p__Actinobacteriota c__Actinobacteria     \n",
       "3524  d__Bacteria p__Actinobacteriota c__Actinobacteria     \n",
       "6628  d__Bacteria p__Cyanobacteriota  c__Cyanobacteriia     \n",
       "5322  d__Bacteria p__Actinobacteriota c__Actinobacteria     \n",
       "      Order                    Family                Genus             \n",
       "1102  o__Betaproteobacteriales f__Burkholderiaceae   g__CAG-521        \n",
       "9843  o__Methanosarcinales     f__Methanosarcinaceae g__Methanolobus   \n",
       "11170 o__Actinomycetales       f__Bifidobacteriaceae g__Bifidobacterium\n",
       "3524  o__Corynebacteriales     f__Corynebacteriaceae g__Corynebacterium\n",
       "6628  o__Cyanobacteriales      f__Nostocaceae        g__Rivularia      \n",
       "5322  o__Actinomycetales       f__Actinomycetaceae   g__Actinomyces_H  \n",
       "      Species                    \n",
       "1102  s__                        \n",
       "9843  s__Methanolobus profundi   \n",
       "11170 s__Bifidobacterium saguini \n",
       "3524  s__Corynebacterium callunae\n",
       "6628  s__Rivularia parasitica    \n",
       "5322  s__                        "
      ]
     },
     "metadata": {},
     "output_type": "display_data"
    }
   ],
   "source": [
    "metadata_f_tax = metadata_f %>%\n",
    "    dplyr::select(gtdb_taxonomy) %>%\n",
    "    separate(gtdb_taxonomy, c('Domain', 'Phylum', 'Class', 'Order', 'Family', 'Genus', 'Species'), sep=';') \n",
    "\n",
    "metadata_f_tax %>% head"
   ]
  },
  {
   "cell_type": "code",
   "execution_count": 13,
   "metadata": {
    "ExecuteTime": {
     "end_time": "2019-05-15T12:25:12.544365Z",
     "start_time": "2019-05-15T12:24:59.606Z"
    }
   },
   "outputs": [
    {
     "data": {
      "text/html": [
       "<table>\n",
       "<thead><tr><th scope=col>Domain</th><th scope=col>n</th></tr></thead>\n",
       "<tbody>\n",
       "\t<tr><td>d__Bacteria</td><td>1912       </td></tr>\n",
       "\t<tr><td>d__Archaea </td><td>  88       </td></tr>\n",
       "</tbody>\n",
       "</table>\n"
      ],
      "text/latex": [
       "\\begin{tabular}{r|ll}\n",
       " Domain & n\\\\\n",
       "\\hline\n",
       "\t d\\_\\_Bacteria & 1912           \\\\\n",
       "\t d\\_\\_Archaea  &   88           \\\\\n",
       "\\end{tabular}\n"
      ],
      "text/markdown": [
       "\n",
       "Domain | n | \n",
       "|---|---|\n",
       "| d__Bacteria | 1912        | \n",
       "| d__Archaea  |   88        | \n",
       "\n",
       "\n"
      ],
      "text/plain": [
       "  Domain      n   \n",
       "1 d__Bacteria 1912\n",
       "2 d__Archaea    88"
      ]
     },
     "metadata": {},
     "output_type": "display_data"
    }
   ],
   "source": [
    "metadata_f_tax %>%\n",
    "    group_by(Domain) %>%\n",
    "    summarize(n = n()) %>%\n",
    "    ungroup() %>%\n",
    "    arrange(-n)"
   ]
  },
  {
   "cell_type": "code",
   "execution_count": 14,
   "metadata": {
    "ExecuteTime": {
     "end_time": "2019-05-15T12:25:12.658762Z",
     "start_time": "2019-05-15T12:24:59.740Z"
    }
   },
   "outputs": [
    {
     "data": {
      "text/html": [
       "<table>\n",
       "<thead><tr><th scope=col>Domain</th><th scope=col>Phylum</th><th scope=col>n</th></tr></thead>\n",
       "<tbody>\n",
       "\t<tr><td>d__Bacteria         </td><td>p__Proteobacteria   </td><td>725                 </td></tr>\n",
       "\t<tr><td>d__Bacteria         </td><td>p__Actinobacteriota </td><td>318                 </td></tr>\n",
       "\t<tr><td>d__Bacteria         </td><td>p__Bacteroidota     </td><td>244                 </td></tr>\n",
       "\t<tr><td>d__Bacteria         </td><td>p__Firmicutes       </td><td>230                 </td></tr>\n",
       "\t<tr><td>d__Bacteria         </td><td>p__Firmicutes_A     </td><td>132                 </td></tr>\n",
       "\t<tr><td>d__Archaea          </td><td>p__Halobacterota    </td><td> 41                 </td></tr>\n",
       "\t<tr><td>d__Bacteria         </td><td>p__Cyanobacteriota  </td><td> 38                 </td></tr>\n",
       "\t<tr><td>d__Bacteria         </td><td>p__Campylobacterota </td><td> 26                 </td></tr>\n",
       "\t<tr><td>d__Bacteria         </td><td>p__Spirochaetota    </td><td> 21                 </td></tr>\n",
       "\t<tr><td>d__Archaea          </td><td>p__Euryarchaeota    </td><td> 19                 </td></tr>\n",
       "\t<tr><td>d__Bacteria         </td><td>p__Desulfobacterota </td><td> 19                 </td></tr>\n",
       "\t<tr><td>d__Bacteria         </td><td>p__Verrucomicrobiota</td><td> 19                 </td></tr>\n",
       "\t<tr><td>d__Bacteria         </td><td>p__Firmicutes_C     </td><td> 17                 </td></tr>\n",
       "\t<tr><td>d__Archaea          </td><td>p__Crenarchaeota    </td><td> 16                 </td></tr>\n",
       "\t<tr><td>d__Bacteria         </td><td>p__Firmicutes_B     </td><td> 16                 </td></tr>\n",
       "\t<tr><td>d__Bacteria         </td><td>p__Chloroflexota    </td><td> 15                 </td></tr>\n",
       "\t<tr><td>d__Archaea          </td><td>p__Thermoplasmatota </td><td> 10                 </td></tr>\n",
       "\t<tr><td>d__Bacteria         </td><td>p__Bdellovibrionota </td><td>  9                 </td></tr>\n",
       "\t<tr><td>d__Bacteria         </td><td>p__Acidobacteriota  </td><td>  7                 </td></tr>\n",
       "\t<tr><td>d__Bacteria         </td><td>p__Thermotogota     </td><td>  7                 </td></tr>\n",
       "</tbody>\n",
       "</table>\n"
      ],
      "text/latex": [
       "\\begin{tabular}{r|lll}\n",
       " Domain & Phylum & n\\\\\n",
       "\\hline\n",
       "\t d\\_\\_Bacteria          & p\\_\\_Proteobacteria    & 725                     \\\\\n",
       "\t d\\_\\_Bacteria          & p\\_\\_Actinobacteriota  & 318                     \\\\\n",
       "\t d\\_\\_Bacteria          & p\\_\\_Bacteroidota      & 244                     \\\\\n",
       "\t d\\_\\_Bacteria          & p\\_\\_Firmicutes        & 230                     \\\\\n",
       "\t d\\_\\_Bacteria            & p\\_\\_Firmicutes\\_A      & 132                       \\\\\n",
       "\t d\\_\\_Archaea           & p\\_\\_Halobacterota     &  41                     \\\\\n",
       "\t d\\_\\_Bacteria          & p\\_\\_Cyanobacteriota   &  38                     \\\\\n",
       "\t d\\_\\_Bacteria          & p\\_\\_Campylobacterota  &  26                     \\\\\n",
       "\t d\\_\\_Bacteria          & p\\_\\_Spirochaetota     &  21                     \\\\\n",
       "\t d\\_\\_Archaea           & p\\_\\_Euryarchaeota     &  19                     \\\\\n",
       "\t d\\_\\_Bacteria          & p\\_\\_Desulfobacterota  &  19                     \\\\\n",
       "\t d\\_\\_Bacteria          & p\\_\\_Verrucomicrobiota &  19                     \\\\\n",
       "\t d\\_\\_Bacteria            & p\\_\\_Firmicutes\\_C      &  17                       \\\\\n",
       "\t d\\_\\_Archaea           & p\\_\\_Crenarchaeota     &  16                     \\\\\n",
       "\t d\\_\\_Bacteria            & p\\_\\_Firmicutes\\_B      &  16                       \\\\\n",
       "\t d\\_\\_Bacteria          & p\\_\\_Chloroflexota     &  15                     \\\\\n",
       "\t d\\_\\_Archaea           & p\\_\\_Thermoplasmatota  &  10                     \\\\\n",
       "\t d\\_\\_Bacteria          & p\\_\\_Bdellovibrionota  &   9                     \\\\\n",
       "\t d\\_\\_Bacteria          & p\\_\\_Acidobacteriota   &   7                     \\\\\n",
       "\t d\\_\\_Bacteria          & p\\_\\_Thermotogota      &   7                     \\\\\n",
       "\\end{tabular}\n"
      ],
      "text/markdown": [
       "\n",
       "Domain | Phylum | n | \n",
       "|---|---|---|---|---|---|---|---|---|---|---|---|---|---|---|---|---|---|---|---|\n",
       "| d__Bacteria          | p__Proteobacteria    | 725                  | \n",
       "| d__Bacteria          | p__Actinobacteriota  | 318                  | \n",
       "| d__Bacteria          | p__Bacteroidota      | 244                  | \n",
       "| d__Bacteria          | p__Firmicutes        | 230                  | \n",
       "| d__Bacteria          | p__Firmicutes_A      | 132                  | \n",
       "| d__Archaea           | p__Halobacterota     |  41                  | \n",
       "| d__Bacteria          | p__Cyanobacteriota   |  38                  | \n",
       "| d__Bacteria          | p__Campylobacterota  |  26                  | \n",
       "| d__Bacteria          | p__Spirochaetota     |  21                  | \n",
       "| d__Archaea           | p__Euryarchaeota     |  19                  | \n",
       "| d__Bacteria          | p__Desulfobacterota  |  19                  | \n",
       "| d__Bacteria          | p__Verrucomicrobiota |  19                  | \n",
       "| d__Bacteria          | p__Firmicutes_C      |  17                  | \n",
       "| d__Archaea           | p__Crenarchaeota     |  16                  | \n",
       "| d__Bacteria          | p__Firmicutes_B      |  16                  | \n",
       "| d__Bacteria          | p__Chloroflexota     |  15                  | \n",
       "| d__Archaea           | p__Thermoplasmatota  |  10                  | \n",
       "| d__Bacteria          | p__Bdellovibrionota  |   9                  | \n",
       "| d__Bacteria          | p__Acidobacteriota   |   7                  | \n",
       "| d__Bacteria          | p__Thermotogota      |   7                  | \n",
       "\n",
       "\n"
      ],
      "text/plain": [
       "   Domain      Phylum               n  \n",
       "1  d__Bacteria p__Proteobacteria    725\n",
       "2  d__Bacteria p__Actinobacteriota  318\n",
       "3  d__Bacteria p__Bacteroidota      244\n",
       "4  d__Bacteria p__Firmicutes        230\n",
       "5  d__Bacteria p__Firmicutes_A      132\n",
       "6  d__Archaea  p__Halobacterota      41\n",
       "7  d__Bacteria p__Cyanobacteriota    38\n",
       "8  d__Bacteria p__Campylobacterota   26\n",
       "9  d__Bacteria p__Spirochaetota      21\n",
       "10 d__Archaea  p__Euryarchaeota      19\n",
       "11 d__Bacteria p__Desulfobacterota   19\n",
       "12 d__Bacteria p__Verrucomicrobiota  19\n",
       "13 d__Bacteria p__Firmicutes_C       17\n",
       "14 d__Archaea  p__Crenarchaeota      16\n",
       "15 d__Bacteria p__Firmicutes_B       16\n",
       "16 d__Bacteria p__Chloroflexota      15\n",
       "17 d__Archaea  p__Thermoplasmatota   10\n",
       "18 d__Bacteria p__Bdellovibrionota    9\n",
       "19 d__Bacteria p__Acidobacteriota     7\n",
       "20 d__Bacteria p__Thermotogota        7"
      ]
     },
     "metadata": {},
     "output_type": "display_data"
    }
   ],
   "source": [
    "metadata_f_tax %>%\n",
    "    group_by(Domain, Phylum) %>%\n",
    "    summarize(n = n()) %>%\n",
    "    ungroup() %>%\n",
    "    arrange(-n) %>%\n",
    "    head(n=20)"
   ]
  },
  {
   "cell_type": "markdown",
   "metadata": {},
   "source": [
    "# Split"
   ]
  },
  {
   "cell_type": "code",
   "execution_count": 15,
   "metadata": {
    "ExecuteTime": {
     "end_time": "2019-05-15T12:25:12.788531Z",
     "start_time": "2019-05-15T12:25:01.110Z"
    }
   },
   "outputs": [
    {
     "data": {
      "text/html": [
       "1000"
      ],
      "text/latex": [
       "1000"
      ],
      "text/markdown": [
       "1000"
      ],
      "text/plain": [
       "[1] 1000"
      ]
     },
     "metadata": {},
     "output_type": "display_data"
    }
   ],
   "source": [
    "metadata_f_train = metadata_f %>% \n",
    "    sample_n(1000)\n",
    "\n",
    "metadata_f_train %>% nrow"
   ]
  },
  {
   "cell_type": "code",
   "execution_count": 16,
   "metadata": {
    "ExecuteTime": {
     "end_time": "2019-05-15T12:25:12.880510Z",
     "start_time": "2019-05-15T12:25:01.269Z"
    }
   },
   "outputs": [
    {
     "data": {
      "text/html": [
       "1000"
      ],
      "text/latex": [
       "1000"
      ],
      "text/markdown": [
       "1000"
      ],
      "text/plain": [
       "[1] 1000"
      ]
     },
     "metadata": {},
     "output_type": "display_data"
    }
   ],
   "source": [
    "metadata_f_test = metadata_f %>% \n",
    "    anti_join(metadata_f_train, c('ncbi_organism_name', 'accession'))\n",
    "\n",
    "metadata_f_test %>% nrow"
   ]
  },
  {
   "cell_type": "code",
   "execution_count": 17,
   "metadata": {
    "ExecuteTime": {
     "end_time": "2019-05-15T12:25:12.958658Z",
     "start_time": "2019-05-15T12:25:02.788Z"
    }
   },
   "outputs": [
    {
     "data": {
      "text/html": [
       "0"
      ],
      "text/latex": [
       "0"
      ],
      "text/markdown": [
       "0"
      ],
      "text/plain": [
       "[1] 0"
      ]
     },
     "metadata": {},
     "output_type": "display_data"
    }
   ],
   "source": [
    "# accidental overlap?\n",
    "metadata_f_train %>%\n",
    "    inner_join(metadata_f_test, c('ncbi_organism_name', 'accession')) %>%\n",
    "    nrow"
   ]
  },
  {
   "cell_type": "markdown",
   "metadata": {},
   "source": [
    "# Write"
   ]
  },
  {
   "cell_type": "code",
   "execution_count": 21,
   "metadata": {
    "ExecuteTime": {
     "end_time": "2019-05-15T19:05:18.643996Z",
     "start_time": "2019-05-15T19:05:18.491Z"
    }
   },
   "outputs": [
    {
     "name": "stdout",
     "output_type": "stream",
     "text": [
      "File written: /ebio/abt3_projects/databases_no-backup/DeepMAsED/GTDB_ref_genomes//DeepMAsED_GTDB_genome-refs_train.tsv \n"
     ]
    }
   ],
   "source": [
    "outF = file.path(work_dir, 'DeepMAsED_GTDB_genome-refs_train.tsv')\n",
    "metadata_f_train %>%\n",
    "    rename('Taxon' = ncbi_organism_name,\n",
    "           'Fasta' = fasta_file_path) %>%\n",
    "    write.table(outF, sep='\\t', quote=FALSE, row.names=FALSE)\n",
    "cat('File written:', outF, '\\n')"
   ]
  },
  {
   "cell_type": "code",
   "execution_count": 23,
   "metadata": {
    "ExecuteTime": {
     "end_time": "2019-05-15T19:05:41.414149Z",
     "start_time": "2019-05-15T19:05:41.304Z"
    }
   },
   "outputs": [
    {
     "name": "stdout",
     "output_type": "stream",
     "text": [
      "File written: /ebio/abt3_projects/databases_no-backup/DeepMAsED/GTDB_ref_genomes//DeepMAsED_GTDB_genome-refs_test.tsv \n"
     ]
    }
   ],
   "source": [
    "outF = file.path(work_dir, 'DeepMAsED_GTDB_genome-refs_test.tsv')\n",
    "metadata_f_test %>%\n",
    "    rename('Taxon' = ncbi_organism_name,\n",
    "           'Fasta' = fasta_file_path) %>%\n",
    "    write.table(outF, sep='\\t', quote=FALSE, row.names=FALSE)\n",
    "cat('File written:', outF, '\\n')"
   ]
  },
  {
   "cell_type": "markdown",
   "metadata": {},
   "source": [
    "# sessionInfo"
   ]
  },
  {
   "cell_type": "code",
   "execution_count": 20,
   "metadata": {
    "ExecuteTime": {
     "end_time": "2019-05-15T12:25:15.370602Z",
     "start_time": "2019-05-15T12:25:15.269Z"
    }
   },
   "outputs": [
    {
     "data": {
      "text/plain": [
       "R version 3.4.1 (2017-06-30)\n",
       "Platform: x86_64-pc-linux-gnu (64-bit)\n",
       "Running under: Ubuntu 18.04.1 LTS\n",
       "\n",
       "Matrix products: default\n",
       "BLAS: /ebio/abt3_projects/software/miniconda3_gt4.4/envs/py3_physeq/lib/R/lib/libRblas.so\n",
       "LAPACK: /ebio/abt3_projects/software/miniconda3_gt4.4/envs/py3_physeq/lib/R/lib/libRlapack.so\n",
       "\n",
       "locale:\n",
       " [1] LC_CTYPE=en_US.UTF-8       LC_NUMERIC=C              \n",
       " [3] LC_TIME=en_US.UTF-8        LC_COLLATE=en_US.UTF-8    \n",
       " [5] LC_MONETARY=en_US.UTF-8    LC_MESSAGES=en_US.UTF-8   \n",
       " [7] LC_PAPER=en_US.UTF-8       LC_NAME=C                 \n",
       " [9] LC_ADDRESS=C               LC_TELEPHONE=C            \n",
       "[11] LC_MEASUREMENT=en_US.UTF-8 LC_IDENTIFICATION=C       \n",
       "\n",
       "attached base packages:\n",
       "[1] stats     graphics  grDevices utils     datasets  methods   base     \n",
       "\n",
       "other attached packages:\n",
       "[1] bindrcpp_0.2.2 ggplot2_3.0.0  tidyr_0.8.1    dplyr_0.7.6   \n",
       "\n",
       "loaded via a namespace (and not attached):\n",
       " [1] Rcpp_0.12.17     bindr_0.1.1      magrittr_1.5     munsell_0.5.0   \n",
       " [5] tidyselect_0.2.4 uuid_0.1-2       colorspace_1.3-2 R6_2.2.2        \n",
       " [9] rlang_0.2.1      plyr_1.8.4       stringr_1.3.1    tools_3.4.1     \n",
       "[13] grid_3.4.1       gtable_0.2.0     withr_2.1.1      htmltools_0.3.6 \n",
       "[17] lazyeval_0.2.1   digest_0.6.15    assertthat_0.2.0 tibble_1.4.2    \n",
       "[21] crayon_1.3.4     IRdisplay_0.4.4  purrr_0.2.4      repr_0.15.0     \n",
       "[25] base64enc_0.1-3  IRkernel_0.8.12  glue_1.3.0       evaluate_0.10.1 \n",
       "[29] pbdZMQ_0.3-2     stringi_1.2.3    compiler_3.4.1   pillar_1.2.2    \n",
       "[33] scales_0.5.0     jsonlite_1.5     pkgconfig_2.0.1 "
      ]
     },
     "metadata": {},
     "output_type": "display_data"
    }
   ],
   "source": [
    "sessionInfo()"
   ]
  },
  {
   "cell_type": "code",
   "execution_count": null,
   "metadata": {},
   "outputs": [],
   "source": []
  }
 ],
 "metadata": {
  "kernelspec": {
   "display_name": "R [conda env:py3_physeq]",
   "language": "R",
   "name": "conda-env-py3_physeq-r"
  },
  "language_info": {
   "codemirror_mode": "r",
   "file_extension": ".r",
   "mimetype": "text/x-r-source",
   "name": "R",
   "pygments_lexer": "r",
   "version": "3.4.1"
  },
  "toc": {
   "base_numbering": 1,
   "nav_menu": {},
   "number_sections": true,
   "sideBar": true,
   "skip_h1_title": false,
   "title_cell": "Table of Contents",
   "title_sidebar": "Contents",
   "toc_cell": true,
   "toc_position": {},
   "toc_section_display": true,
   "toc_window_display": true
  }
 },
 "nbformat": 4,
 "nbformat_minor": 2
}
